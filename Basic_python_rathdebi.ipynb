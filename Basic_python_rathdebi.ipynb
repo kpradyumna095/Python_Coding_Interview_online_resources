{
  "nbformat": 4,
  "nbformat_minor": 0,
  "metadata": {
    "colab": {
      "provenance": []
    },
    "kernelspec": {
      "name": "python3",
      "display_name": "Python 3"
    },
    "language_info": {
      "name": "python"
    }
  },
  "cells": [
    {
      "cell_type": "markdown",
      "source": [
        "BAsic_python"
      ],
      "metadata": {
        "id": "vqUkexOzFJtj"
      }
    },
    {
      "cell_type": "markdown",
      "source": [
        "1- python data stuructures(added)\n",
        "        1- list methods\n",
        "        2- tuple methods\n",
        "        3- dictionary mthods\n",
        "        4- set methods\n",
        "\n",
        "2- python file handling (added)\n",
        "\n",
        "3- python functional programming (added)\n",
        "\n",
        "4- python string methods(added)\n",
        "\n",
        "5- python json (will be adding)\n",
        "\n",
        "6- python mysql db connection (added)\n",
        "\n",
        "7- python loops and conditionals (added)"
      ],
      "metadata": {
        "id": "WKjG0j3PFQ1B"
      }
    },
    {
      "cell_type": "markdown",
      "source": [
        "https://github.com/rathdebi/basic_python"
      ],
      "metadata": {
        "id": "cd6Jm7d_FSd9"
      }
    },
    {
      "cell_type": "markdown",
      "source": [
        "1.# list exercises:"
      ],
      "metadata": {
        "id": "Jf79jR7nFhRS"
      }
    },
    {
      "cell_type": "code",
      "execution_count": null,
      "metadata": {
        "id": "p8QywCZTFIjw"
      },
      "outputs": [],
      "source": [
        "create_a_list = [1,2,3,\"love\",True,[12,23,44]]"
      ]
    },
    {
      "cell_type": "code",
      "source": [
        "print(create_a_list)"
      ],
      "metadata": {
        "colab": {
          "base_uri": "https://localhost:8080/"
        },
        "id": "waQvXIAvFuqn",
        "outputId": "2e8f6c86-32dc-48da-b8d6-b35d1d60a9c5"
      },
      "execution_count": null,
      "outputs": [
        {
          "output_type": "stream",
          "name": "stdout",
          "text": [
            "[1, 2, 3, 'love', True, [12, 23, 44]]\n"
          ]
        }
      ]
    },
    {
      "cell_type": "code",
      "source": [
        "create_another_list = list(\"mylove\")"
      ],
      "metadata": {
        "id": "ulEnD2yxF1cj"
      },
      "execution_count": null,
      "outputs": []
    },
    {
      "cell_type": "code",
      "source": [
        "print(create_another_list)"
      ],
      "metadata": {
        "colab": {
          "base_uri": "https://localhost:8080/"
        },
        "id": "mAmk6WERF4r5",
        "outputId": "b05d21ad-7bfd-4bfb-84e0-e29cea7f5d9e"
      },
      "execution_count": null,
      "outputs": [
        {
          "output_type": "stream",
          "name": "stdout",
          "text": [
            "['m', 'y', 'l', 'o', 'v', 'e']\n"
          ]
        }
      ]
    },
    {
      "cell_type": "code",
      "source": [
        "print(\"e\" in create_another_list)"
      ],
      "metadata": {
        "colab": {
          "base_uri": "https://localhost:8080/"
        },
        "id": "EVt3Cr9_F6_z",
        "outputId": "ecd1e0f8-17ec-4941-be79-27a1ee7ef249"
      },
      "execution_count": null,
      "outputs": [
        {
          "output_type": "stream",
          "name": "stdout",
          "text": [
            "True\n"
          ]
        }
      ]
    },
    {
      "cell_type": "code",
      "source": [
        "print(\"a\" not in create_another_list)"
      ],
      "metadata": {
        "colab": {
          "base_uri": "https://localhost:8080/"
        },
        "id": "MgjXtSX0F_ts",
        "outputId": "d80302ad-ff01-4e8b-9a3a-5dcf8b02daeb"
      },
      "execution_count": null,
      "outputs": [
        {
          "output_type": "stream",
          "name": "stdout",
          "text": [
            "True\n"
          ]
        }
      ]
    },
    {
      "cell_type": "markdown",
      "source": [
        "2.# print reverse of list elements"
      ],
      "metadata": {
        "id": "TQELFeXCGIGH"
      }
    },
    {
      "cell_type": "code",
      "source": [
        "num_list = [1,2,3,4,5]\n",
        "for num in range(len(num_list)-1,-1,-1):\n",
        "    print(num_list[num])"
      ],
      "metadata": {
        "colab": {
          "base_uri": "https://localhost:8080/"
        },
        "id": "v5PBQRUfGCVM",
        "outputId": "47f60602-7ea0-4108-9d4c-43340eb6262d"
      },
      "execution_count": null,
      "outputs": [
        {
          "output_type": "stream",
          "name": "stdout",
          "text": [
            "5\n",
            "4\n",
            "3\n",
            "2\n",
            "1\n"
          ]
        }
      ]
    },
    {
      "cell_type": "markdown",
      "source": [
        "3.# some more list exercises , have fun"
      ],
      "metadata": {
        "id": "z2Lwg8HaGvp7"
      }
    },
    {
      "cell_type": "code",
      "source": [
        "the_list = [[0, 2], [4, 6], [8, 10], [12, 14]]\n",
        "# access first list from list of lists\n",
        "print(the_list[0])\n",
        "# access 14 element from list\n",
        "print(the_list[3][1])"
      ],
      "metadata": {
        "colab": {
          "base_uri": "https://localhost:8080/"
        },
        "id": "YKVRVDrrGP_A",
        "outputId": "ef77c454-afc3-46ab-cb49-f0041dd57259"
      },
      "execution_count": null,
      "outputs": [
        {
          "output_type": "stream",
          "name": "stdout",
          "text": [
            "[0, 2]\n",
            "14\n"
          ]
        }
      ]
    },
    {
      "cell_type": "markdown",
      "source": [
        "4.# create another list"
      ],
      "metadata": {
        "id": "2iSx_8VPN09M"
      }
    },
    {
      "cell_type": "code",
      "source": [
        "second_list = [\"chair\", \"table\", \"desk\", \"lamp\", \"bed\"]\n",
        "print(second_list[-5])\n"
      ],
      "metadata": {
        "colab": {
          "base_uri": "https://localhost:8080/"
        },
        "id": "XfdcfeBwG2IB",
        "outputId": "61f855b3-d835-48d9-b83f-63ae9cec7684"
      },
      "execution_count": null,
      "outputs": [
        {
          "output_type": "stream",
          "name": "stdout",
          "text": [
            "chair\n"
          ]
        }
      ]
    },
    {
      "cell_type": "code",
      "source": [
        "# concatenate a string \"Most people own 2 beds\" where 2 is coming from\n",
        "# the_list and beds is coming from second_list\n",
        "print(\"Most people own at least \"+ str(the_list[0][1]) +\" \" +str(second_list[-1])+\"s.\")"
      ],
      "metadata": {
        "colab": {
          "base_uri": "https://localhost:8080/"
        },
        "id": "4eDYyva8OCCg",
        "outputId": "fd7ccc05-afce-4d5b-9717-05df9a91d657"
      },
      "execution_count": null,
      "outputs": [
        {
          "output_type": "stream",
          "name": "stdout",
          "text": [
            "Most people own at least 2 beds.\n"
          ]
        }
      ]
    },
    {
      "cell_type": "markdown",
      "source": [
        "5.# create another list"
      ],
      "metadata": {
        "id": "pViSj11wOuon"
      }
    },
    {
      "cell_type": "code",
      "source": [
        "third_list = [0.98, 8.76, 6.54, 4.32]\n",
        "print(third_list[:2])\n",
        "print(third_list[1:3])\n",
        "print(third_list[1:])"
      ],
      "metadata": {
        "colab": {
          "base_uri": "https://localhost:8080/"
        },
        "id": "-mwwW9cCOI0g",
        "outputId": "4ddeac02-0111-47e8-d923-52dcb7c4282d"
      },
      "execution_count": null,
      "outputs": [
        {
          "output_type": "stream",
          "name": "stdout",
          "text": [
            "[0.98, 8.76]\n",
            "[8.76, 6.54]\n",
            "[8.76, 6.54, 4.32]\n"
          ]
        }
      ]
    },
    {
      "cell_type": "markdown",
      "source": [
        "6.# list methods exercises"
      ],
      "metadata": {
        "id": "Ke0_2vDWO9ol"
      }
    },
    {
      "cell_type": "code",
      "source": [
        "animals_list = [\"penguin\", \"elephant\", \"bear\", \"walrus\", \"tiger\", \"reindeer\"]"
      ],
      "metadata": {
        "id": "vZC8hppjOy6R"
      },
      "execution_count": 16,
      "outputs": []
    },
    {
      "cell_type": "code",
      "source": [
        "# use del to remove \"tiger\"\n",
        "del animals_list[4]\n",
        "print(animals_list)"
      ],
      "metadata": {
        "id": "ayJ6JukdPBcM",
        "colab": {
          "base_uri": "https://localhost:8080/"
        },
        "outputId": "19129736-5f47-4ddf-be42-c28ea7c64213"
      },
      "execution_count": 17,
      "outputs": [
        {
          "output_type": "stream",
          "name": "stdout",
          "text": [
            "['penguin', 'elephant', 'bear', 'walrus', 'reindeer']\n"
          ]
        }
      ]
    },
    {
      "cell_type": "code",
      "source": [
        "# use .remove() method to remove \"elephant\"\n",
        "animals_list.remove(\"elephant\")\n",
        "print(animals_list)"
      ],
      "metadata": {
        "colab": {
          "base_uri": "https://localhost:8080/"
        },
        "id": "C-TeUtDeT0CU",
        "outputId": "2e985343-62f5-4d4c-8ca2-c2f8fe2cdae9"
      },
      "execution_count": 18,
      "outputs": [
        {
          "output_type": "stream",
          "name": "stdout",
          "text": [
            "['penguin', 'bear', 'walrus', 'reindeer']\n"
          ]
        }
      ]
    },
    {
      "cell_type": "code",
      "source": [
        "# use .append() method to add \"fox\"\n",
        "animals_list.append(\"fox\")\n",
        "print(animals_list)"
      ],
      "metadata": {
        "colab": {
          "base_uri": "https://localhost:8080/"
        },
        "id": "HNpRqKCGT4WC",
        "outputId": "e77aa048-a8e5-4ada-95c5-1f71bd6a8c89"
      },
      "execution_count": 19,
      "outputs": [
        {
          "output_type": "stream",
          "name": "stdout",
          "text": [
            "['penguin', 'bear', 'walrus', 'reindeer', 'fox']\n"
          ]
        }
      ]
    },
    {
      "cell_type": "code",
      "source": [
        "# use .insert() to insert \"owl\" between \"bear\" and \"walrus\"\n",
        "animals_list.insert(2,\"owl\")\n",
        "print(animals_list)"
      ],
      "metadata": {
        "colab": {
          "base_uri": "https://localhost:8080/"
        },
        "id": "3f5m3xAGT_ao",
        "outputId": "bfd92e01-aab1-4704-b214-9dd5deac4ab6"
      },
      "execution_count": 20,
      "outputs": [
        {
          "output_type": "stream",
          "name": "stdout",
          "text": [
            "['penguin', 'bear', 'owl', 'walrus', 'reindeer', 'fox']\n"
          ]
        }
      ]
    },
    {
      "cell_type": "code",
      "source": [
        "# use .sort() method to sort elements inside\n",
        "animals_list.sort()\n",
        "print(animals_list)"
      ],
      "metadata": {
        "colab": {
          "base_uri": "https://localhost:8080/"
        },
        "id": "D983QlYHUFGo",
        "outputId": "1ee2d838-aea8-4421-84c2-e992bec8be97"
      },
      "execution_count": 21,
      "outputs": [
        {
          "output_type": "stream",
          "name": "stdout",
          "text": [
            "['bear', 'fox', 'owl', 'penguin', 'reindeer', 'walrus']\n"
          ]
        }
      ]
    },
    {
      "cell_type": "code",
      "source": [
        "# get the index of \"reindeer\" from the list\n",
        "print(animals_list.index(\"reindeer\"))"
      ],
      "metadata": {
        "colab": {
          "base_uri": "https://localhost:8080/"
        },
        "id": "a5mijXrsUIyT",
        "outputId": "a46172a5-6a20-433b-b4bf-067fc249e455"
      },
      "execution_count": 22,
      "outputs": [
        {
          "output_type": "stream",
          "name": "stdout",
          "text": [
            "4\n"
          ]
        }
      ]
    },
    {
      "cell_type": "code",
      "source": [
        "# use .pop() method to delete last element inside list and print\n",
        "print(animals_list.pop()) # last element after deletion\n",
        "print(animals_list) # \"walrus\" removed from list"
      ],
      "metadata": {
        "colab": {
          "base_uri": "https://localhost:8080/"
        },
        "id": "zmbmjlxCUMw_",
        "outputId": "15a39ddc-f916-4eb3-e1e8-a8227c9c1c9c"
      },
      "execution_count": 23,
      "outputs": [
        {
          "output_type": "stream",
          "name": "stdout",
          "text": [
            "walrus\n",
            "['bear', 'fox', 'owl', 'penguin', 'reindeer']\n"
          ]
        }
      ]
    },
    {
      "cell_type": "markdown",
      "source": [
        "7.# dictionary practices"
      ],
      "metadata": {
        "id": "fKSO1_sTU4Aw"
      }
    },
    {
      "cell_type": "code",
      "source": [
        "the_dict = { 1 : \"one\", 2 : \"two\", 3 : \"three\", 4: \"four\", 5: \"five\"}"
      ],
      "metadata": {
        "id": "q-51EPJ-URnf"
      },
      "execution_count": 24,
      "outputs": []
    },
    {
      "cell_type": "code",
      "source": [
        "print(the_dict)"
      ],
      "metadata": {
        "colab": {
          "base_uri": "https://localhost:8080/"
        },
        "id": "8hwf5UdcVAq_",
        "outputId": "c2155349-6c22-42a9-8140-bc39ca40b600"
      },
      "execution_count": 25,
      "outputs": [
        {
          "output_type": "stream",
          "name": "stdout",
          "text": [
            "{1: 'one', 2: 'two', 3: 'three', 4: 'four', 5: 'five'}\n"
          ]
        }
      ]
    },
    {
      "cell_type": "code",
      "source": [
        "# access third key value\n",
        "print(the_dict[3])\n",
        "print(1 in the_dict) # True\n",
        "print(6 not in the_dict) # True\n",
        "print(3 not in the_dict) # True"
      ],
      "metadata": {
        "colab": {
          "base_uri": "https://localhost:8080/"
        },
        "id": "GQrAToteVDp3",
        "outputId": "1e2f5e9e-8e6b-41cd-a337-eeaf77611591"
      },
      "execution_count": 26,
      "outputs": [
        {
          "output_type": "stream",
          "name": "stdout",
          "text": [
            "three\n",
            "True\n",
            "True\n",
            "False\n"
          ]
        }
      ]
    },
    {
      "cell_type": "code",
      "source": [
        "# mutable data type, but keys are immutable\n",
        "# it is getting stored by reference in case of copy\n",
        "first_dict = {1981:\"Sunita\", 1983: \"Swagatika\", 1985: \"Tara Prasad\", 1988: \"Debi Prasad\"}\n",
        "second_dict = first_dict\n",
        "second_dict[1988] = \"Sanababu\"\n",
        "print(first_dict)\n",
        "print(second_dict)"
      ],
      "metadata": {
        "colab": {
          "base_uri": "https://localhost:8080/"
        },
        "id": "qbHYST-IV6TI",
        "outputId": "c7321648-f97e-4280-b1cb-a4f6a12a6fa5"
      },
      "execution_count": 27,
      "outputs": [
        {
          "output_type": "stream",
          "name": "stdout",
          "text": [
            "{1981: 'Sunita', 1983: 'Swagatika', 1985: 'Tara Prasad', 1988: 'Sanababu'}\n",
            "{1981: 'Sunita', 1983: 'Swagatika', 1985: 'Tara Prasad', 1988: 'Sanababu'}\n"
          ]
        }
      ]
    },
    {
      "cell_type": "markdown",
      "source": [
        "8.#new dictionary"
      ],
      "metadata": {
        "id": "pZg6hYruWaF9"
      }
    },
    {
      "cell_type": "code",
      "source": [
        "my_dict = {\"Queen\": \"Bohemian Rhapsody\", \n",
        "           \"Bee Gees\": \"Stayin' Alive\", \n",
        "           \"U2\": \"One\", \n",
        "           \"Michael Jackson\": \"Billie Jean\", \n",
        "           \"The Beatles\": \"Hey Jude\", \n",
        "           \"Bob Dylan\": \"Like A Rolling Stone\"}"
      ],
      "metadata": {
        "id": "unFV_luYWIBm"
      },
      "execution_count": 28,
      "outputs": []
    },
    {
      "cell_type": "code",
      "source": [
        "\n",
        "# print the length of dictionary\n",
        "len(my_dict) "
      ],
      "metadata": {
        "colab": {
          "base_uri": "https://localhost:8080/"
        },
        "id": "8aAtbsoEWpam",
        "outputId": "b2fb5807-51ea-4955-c757-5bb6d998cf72"
      },
      "execution_count": 29,
      "outputs": [
        {
          "output_type": "execute_result",
          "data": {
            "text/plain": [
              "6"
            ]
          },
          "metadata": {},
          "execution_count": 29
        }
      ]
    },
    {
      "cell_type": "code",
      "source": [
        "# print all keys using .keys() method  \n",
        "for key in my_dict.keys():\n",
        "  print(\"keys are: \"+str(key))"
      ],
      "metadata": {
        "colab": {
          "base_uri": "https://localhost:8080/"
        },
        "id": "SZy5HSpCWuzb",
        "outputId": "d4a69373-09e3-413e-cdf5-adbff9b78519"
      },
      "execution_count": 30,
      "outputs": [
        {
          "output_type": "stream",
          "name": "stdout",
          "text": [
            "keys are: Queen\n",
            "keys are: Bee Gees\n",
            "keys are: U2\n",
            "keys are: Michael Jackson\n",
            "keys are: The Beatles\n",
            "keys are: Bob Dylan\n"
          ]
        }
      ]
    },
    {
      "cell_type": "code",
      "source": [
        "# print all values using .values() method\n",
        "for value in my_dict.values():\n",
        "  print(\"values are: \"+str(value)) "
      ],
      "metadata": {
        "colab": {
          "base_uri": "https://localhost:8080/"
        },
        "id": "NBrvw_NBWz2G",
        "outputId": "e2aea343-1504-4129-c93b-094728002bd7"
      },
      "execution_count": 31,
      "outputs": [
        {
          "output_type": "stream",
          "name": "stdout",
          "text": [
            "values are: Bohemian Rhapsody\n",
            "values are: Stayin' Alive\n",
            "values are: One\n",
            "values are: Billie Jean\n",
            "values are: Hey Jude\n",
            "values are: Like A Rolling Stone\n"
          ]
        }
      ]
    },
    {
      "cell_type": "code",
      "source": [
        "# print key,value combined using .items() method\n",
        "for key,value in my_dict.items():\n",
        "  print(\"keys and values: \",(key,value))"
      ],
      "metadata": {
        "colab": {
          "base_uri": "https://localhost:8080/"
        },
        "id": "zVJdbUZuW4Y9",
        "outputId": "f5617c35-4436-4b00-8ce5-45e966140cc1"
      },
      "execution_count": 32,
      "outputs": [
        {
          "output_type": "stream",
          "name": "stdout",
          "text": [
            "keys and values:  ('Queen', 'Bohemian Rhapsody')\n",
            "keys and values:  ('Bee Gees', \"Stayin' Alive\")\n",
            "keys and values:  ('U2', 'One')\n",
            "keys and values:  ('Michael Jackson', 'Billie Jean')\n",
            "keys and values:  ('The Beatles', 'Hey Jude')\n",
            "keys and values:  ('Bob Dylan', 'Like A Rolling Stone')\n"
          ]
        }
      ]
    },
    {
      "cell_type": "code",
      "source": [
        "# use .get() method to find a key\n",
        "print(my_dict.get(\"Queen\",\"key not found, please provide a valid key\"))"
      ],
      "metadata": {
        "colab": {
          "base_uri": "https://localhost:8080/"
        },
        "id": "UpX3JSobW8fD",
        "outputId": "1df544bf-d79c-43fe-c494-412c79eb8231"
      },
      "execution_count": 33,
      "outputs": [
        {
          "output_type": "stream",
          "name": "stdout",
          "text": [
            "Bohemian Rhapsody\n"
          ]
        }
      ]
    },
    {
      "cell_type": "code",
      "source": [
        "# more of strng methods .fromkeys(),pop(),popitem()\n",
        "# use consonants from alphabet to create a dictionary with value \"consonant\"\n",
        "create_dict = {}.fromkeys(\"bcd\",\"consonant\")\n",
        "print(create_dict)"
      ],
      "metadata": {
        "colab": {
          "base_uri": "https://localhost:8080/"
        },
        "id": "YIrhpsm8XBWp",
        "outputId": "e7f4b9f3-7626-4ee4-efd5-268f18eaeb96"
      },
      "execution_count": 34,
      "outputs": [
        {
          "output_type": "stream",
          "name": "stdout",
          "text": [
            "{'b': 'consonant', 'c': 'consonant', 'd': 'consonant'}\n"
          ]
        }
      ]
    },
    {
      "cell_type": "markdown",
      "source": [
        "9.## create a dictionary as below and using .pop()"
      ],
      "metadata": {
        "id": "kzTYy3B7XRRO"
      }
    },
    {
      "cell_type": "code",
      "source": [
        "# delete \"BigMacAlooTikki\" and print it.\n",
        "fast_food_items = {\"McDonald's\": \"BigMacAlooTikki\", \n",
        "                   \"Burger King\": \"WhopperPaneerSlicedMaharaja\", \n",
        "                   \"Chick-fil-A\": \"OriginalCheeseSandwich\"}\n",
        "print(fast_food_items.pop(\"McDonald's\"))"
      ],
      "metadata": {
        "colab": {
          "base_uri": "https://localhost:8080/"
        },
        "id": "FQ7b3HAOXL-Q",
        "outputId": "9468b966-ff5c-4ac1-9a6e-1624cca8f828"
      },
      "execution_count": 35,
      "outputs": [
        {
          "output_type": "stream",
          "name": "stdout",
          "text": [
            "BigMacAlooTikki\n"
          ]
        }
      ]
    },
    {
      "cell_type": "code",
      "source": [
        "# using .popitem() method to delete last item, print it.\n",
        "fast_food_items = fast_food_items.popitem()\n",
        "print(fast_food_items)"
      ],
      "metadata": {
        "colab": {
          "base_uri": "https://localhost:8080/"
        },
        "id": "oXq9U5GxXWMc",
        "outputId": "2a031363-ab6a-49f1-e053-2d795d3f7aee"
      },
      "execution_count": 36,
      "outputs": [
        {
          "output_type": "stream",
          "name": "stdout",
          "text": [
            "('Chick-fil-A', 'OriginalCheeseSandwich')\n"
          ]
        }
      ]
    },
    {
      "cell_type": "markdown",
      "source": [
        "10.# more dictionaries method extended"
      ],
      "metadata": {
        "id": "hnhclrEBXiSb"
      }
    },
    {
      "cell_type": "code",
      "source": [
        "# .update(), .clear() method\n",
        "celebrity_name = {\"Dhoni\": \"Cricket\", \"Remo\": \"Dance\", \"Sonu\": \"Singing\"}\n",
        "another_one = {\"Saurabh\": \"Investing\"}"
      ],
      "metadata": {
        "id": "ZFwmlSPHXZET"
      },
      "execution_count": 37,
      "outputs": []
    },
    {
      "cell_type": "code",
      "source": [
        "# use .update() method to add another_one dict to celebrity_name dict\n",
        "celebrity_name.update(another_one)"
      ],
      "metadata": {
        "id": "51mibqWjXm0H"
      },
      "execution_count": 38,
      "outputs": []
    },
    {
      "cell_type": "code",
      "source": [
        "# to avoid same referencing use .copy() method to \n",
        "# copy celebrity_name dict into all_celebrity_name dict\n",
        "all_celebrity_name = celebrity_name.copy()\n",
        "celebrity_name.clear() # clear dictionary\n",
        "print(celebrity_name)\n",
        "print(all_celebrity_name)"
      ],
      "metadata": {
        "colab": {
          "base_uri": "https://localhost:8080/"
        },
        "id": "ciIQe2phXqLK",
        "outputId": "e54cc3b6-ec5d-4ea6-d7fc-77b9b954bcc3"
      },
      "execution_count": 39,
      "outputs": [
        {
          "output_type": "stream",
          "name": "stdout",
          "text": [
            "{}\n",
            "{'Dhoni': 'Cricket', 'Remo': 'Dance', 'Sonu': 'Singing', 'Saurabh': 'Investing'}\n"
          ]
        }
      ]
    },
    {
      "cell_type": "markdown",
      "source": [
        "11.# some more dict methods dict(), setdefault()"
      ],
      "metadata": {
        "id": "AmStS5QkX1A8"
      }
    },
    {
      "cell_type": "code",
      "source": [
        "# we can create a dict using dict method\n",
        "the_dict = dict() # an empty dictionary\n",
        "print(the_dict)"
      ],
      "metadata": {
        "colab": {
          "base_uri": "https://localhost:8080/"
        },
        "id": "Szb6t_PyXt6t",
        "outputId": "1efad70f-9429-41ca-8c8a-846314a2abd3"
      },
      "execution_count": 40,
      "outputs": [
        {
          "output_type": "stream",
          "name": "stdout",
          "text": [
            "{}\n"
          ]
        }
      ]
    },
    {
      "cell_type": "code",
      "source": [
        "# we can pass values inside dict() \n",
        "the_dict = dict(cricketer= \"Dhoni\",singer= \"Sonu\",investor= \"Saurabh\", dancer=\"Remo\")\n",
        "print(the_dict)"
      ],
      "metadata": {
        "colab": {
          "base_uri": "https://localhost:8080/"
        },
        "id": "uyRxAim1X417",
        "outputId": "c2cd4884-f79b-4921-b507-0819aad4ba2d"
      },
      "execution_count": 41,
      "outputs": [
        {
          "output_type": "stream",
          "name": "stdout",
          "text": [
            "{'cricketer': 'Dhoni', 'singer': 'Sonu', 'investor': 'Saurabh', 'dancer': 'Remo'}\n"
          ]
        }
      ]
    },
    {
      "cell_type": "code",
      "source": [
        "# create a new key value pair if not present inside dictionary\n",
        "if \"teacher\" not in the_dict:\n",
        "  the_dict[\"teacher\"] = \"Andrew-ng\"\n",
        "print(the_dict) # and there we go, new key value pair added"
      ],
      "metadata": {
        "colab": {
          "base_uri": "https://localhost:8080/"
        },
        "id": "9-lCJhA9X8Iu",
        "outputId": "1e76f3f5-1ff7-4c00-f9dd-9724728caf8c"
      },
      "execution_count": 42,
      "outputs": [
        {
          "output_type": "stream",
          "name": "stdout",
          "text": [
            "{'cricketer': 'Dhoni', 'singer': 'Sonu', 'investor': 'Saurabh', 'dancer': 'Remo', 'teacher': 'Andrew-ng'}\n"
          ]
        }
      ]
    },
    {
      "cell_type": "code",
      "source": [
        "# but then this is rather easy using a function setdefault()\n",
        "the_dict.setdefault(\"mentor\",\"Deepesh\") # works similarly like if not found\n",
        "print(the_dict)"
      ],
      "metadata": {
        "colab": {
          "base_uri": "https://localhost:8080/"
        },
        "id": "dD_pU6r2YDUD",
        "outputId": "9e7aa542-a5b3-4222-c950-f26f34ebbf02"
      },
      "execution_count": 43,
      "outputs": [
        {
          "output_type": "stream",
          "name": "stdout",
          "text": [
            "{'cricketer': 'Dhoni', 'singer': 'Sonu', 'investor': 'Saurabh', 'dancer': 'Remo', 'teacher': 'Andrew-ng', 'mentor': 'Deepesh'}\n"
          ]
        }
      ]
    },
    {
      "cell_type": "code",
      "source": [
        "# if a key is there and we are setting default value differently, then\n",
        "# old value of the key will be preserved. that proves immutability in \n",
        "# case of dictionary keys\n",
        "the_dict.setdefault(\"mentor\",\"Sanatan\") # old value preserved\n",
        "print(the_dict)"
      ],
      "metadata": {
        "colab": {
          "base_uri": "https://localhost:8080/"
        },
        "id": "2MT-d-aFYHUr",
        "outputId": "3f1c482d-e374-4349-b031-8fe56c6485cb"
      },
      "execution_count": 45,
      "outputs": [
        {
          "output_type": "stream",
          "name": "stdout",
          "text": [
            "{'cricketer': 'Dhoni', 'singer': 'Sonu', 'investor': 'Saurabh', 'dancer': 'Remo', 'teacher': 'Andrew-ng', 'mentor': 'Deepesh'}\n"
          ]
        }
      ]
    },
    {
      "cell_type": "markdown",
      "source": [
        "12. Tuple\n",
        "\n",
        "# creating tuple , same like list made up of collection of items\n",
        "# but using () parenthesis, and a tuple by nature is immutable\n",
        "# item assignment is not allowed. one more advantage\n",
        "# of tuple over list is it is memory efficient\n",
        "# data inside a tuple can be string,list,scaler values and boolen type as well"
      ],
      "metadata": {
        "id": "C0BBnJvMYc5R"
      }
    },
    {
      "cell_type": "code",
      "source": [
        "the_tuple = (1, 2, 3, 4, 5, [\"debi\", \"deepesh\", \"sanatan\"], True, \"mylove\")\n",
        "print(the_tuple)"
      ],
      "metadata": {
        "colab": {
          "base_uri": "https://localhost:8080/"
        },
        "id": "_-1zztjWYQnd",
        "outputId": "c58358f2-3b55-468d-e19c-1855c74ced1b"
      },
      "execution_count": 46,
      "outputs": [
        {
          "output_type": "stream",
          "name": "stdout",
          "text": [
            "(1, 2, 3, 4, 5, ['debi', 'deepesh', 'sanatan'], True, 'mylove')\n"
          ]
        }
      ]
    },
    {
      "cell_type": "code",
      "source": [
        "# another way to create a tuple is using tuple() which\n",
        "# will take an iterable as a parameter, like a list or string\n",
        "the_list_tuple = tuple([\"debi\", \"deepesh\", \"sanatan\"])\n",
        "print(the_list_tuple)\n",
        "the_string_tuple = tuple(\"mylove\")\n",
        "print(the_string_tuple)"
      ],
      "metadata": {
        "colab": {
          "base_uri": "https://localhost:8080/"
        },
        "id": "1cbYlTm6Ykg3",
        "outputId": "d0d84cbe-1752-48cd-92fd-9d95e645f54a"
      },
      "execution_count": 47,
      "outputs": [
        {
          "output_type": "stream",
          "name": "stdout",
          "text": [
            "('debi', 'deepesh', 'sanatan')\n",
            "('m', 'y', 'l', 'o', 'v', 'e')\n"
          ]
        }
      ]
    },
    {
      "cell_type": "code",
      "source": [
        "# we can use a dictionary to create a tuple but no value\n",
        "# as only keys will be returned as tuple items\n",
        "my_dict_tuple = tuple({\"singer\": \"Sonu\",\"cricketer\": \"Dhoni\", \"investor\": \"Saurabh\"})\n",
        "print(my_dict_tuple)\n"
      ],
      "metadata": {
        "colab": {
          "base_uri": "https://localhost:8080/"
        },
        "id": "gGFE0p3uYrwv",
        "outputId": "e45c326b-5cc6-4bee-90f6-2cbb54ce69b1"
      },
      "execution_count": 48,
      "outputs": [
        {
          "output_type": "stream",
          "name": "stdout",
          "text": [
            "('singer', 'cricketer', 'investor')\n"
          ]
        }
      ]
    },
    {
      "cell_type": "code",
      "source": [
        "# slicing tuple is same as like list\n",
        "my_tuple = (1, 2, 3, 4, 5, 6, 7, 8, 9, 10)\n",
        "print(my_tuple[2])\n",
        "print(my_tuple[:8])\n",
        "print(my_tuple[2:7])"
      ],
      "metadata": {
        "colab": {
          "base_uri": "https://localhost:8080/"
        },
        "id": "RfS6fT9yY0jz",
        "outputId": "f4a4c4bc-c9e3-4596-e67d-7d115b26eb98"
      },
      "execution_count": 49,
      "outputs": [
        {
          "output_type": "stream",
          "name": "stdout",
          "text": [
            "3\n",
            "(1, 2, 3, 4, 5, 6, 7, 8)\n",
            "(3, 4, 5, 6, 7)\n"
          ]
        }
      ]
    },
    {
      "cell_type": "code",
      "source": [
        "# tuple do not allow item assignment\n",
        "# my_tuple[2:4] = [11,22]\n",
        "# print(my_tuple) # immutability"
      ],
      "metadata": {
        "id": "0rEFakQFY6XJ"
      },
      "execution_count": 50,
      "outputs": []
    },
    {
      "cell_type": "code",
      "source": [
        "# tuple can be used to create dictionary\n",
        "my_dict_from_tuple = {(\"debi\", \"rath\"):\"data scientist\",\n",
        "                      (\"ranjan\", \"kumar\"): \"machine learning expert\",\n",
        "                      (\"deepesh\", \"singh\"): \"ai engineer\",\n",
        "                      (\"sanatan\", \"sukhija\"): \"research scientist\",}\n",
        "print(my_dict_from_tuple)"
      ],
      "metadata": {
        "colab": {
          "base_uri": "https://localhost:8080/"
        },
        "id": "y_HE3wosZB1y",
        "outputId": "07d6adc7-ee41-404c-9be3-306db5581ae2"
      },
      "execution_count": 51,
      "outputs": [
        {
          "output_type": "stream",
          "name": "stdout",
          "text": [
            "{('debi', 'rath'): 'data scientist', ('ranjan', 'kumar'): 'machine learning expert', ('deepesh', 'singh'): 'ai engineer', ('sanatan', 'sukhija'): 'research scientist'}\n"
          ]
        }
      ]
    },
    {
      "cell_type": "code",
      "source": [
        "# iterating through tuples using while loop\n",
        "the_tuple = (1, 2, 3, 4, 5, 6, 7,8, 9, 10)\n",
        "count = 0\n",
        "while count < len(the_tuple):\n",
        "    print(the_tuple[count])\n",
        "    count+= 1"
      ],
      "metadata": {
        "colab": {
          "base_uri": "https://localhost:8080/"
        },
        "id": "rt571UkmZHxh",
        "outputId": "cb32235a-9706-4e59-96f0-fe6aad89674e"
      },
      "execution_count": 52,
      "outputs": [
        {
          "output_type": "stream",
          "name": "stdout",
          "text": [
            "1\n",
            "2\n",
            "3\n",
            "4\n",
            "5\n",
            "6\n",
            "7\n",
            "8\n",
            "9\n",
            "10\n"
          ]
        }
      ]
    },
    {
      "cell_type": "code",
      "source": [
        "# print backwards \n",
        "backwards = len(the_tuple) - 1\n",
        "while backwards >= 0:\n",
        "    print(the_tuple[backwards]) # prints (10,9,8,7,......1)\n",
        "    backwards -= 1"
      ],
      "metadata": {
        "colab": {
          "base_uri": "https://localhost:8080/"
        },
        "id": "CqNag6ZqaBJr",
        "outputId": "dba0b9d8-7d30-40e5-be5e-ba7540966fc8"
      },
      "execution_count": 53,
      "outputs": [
        {
          "output_type": "stream",
          "name": "stdout",
          "text": [
            "10\n",
            "9\n",
            "8\n",
            "7\n",
            "6\n",
            "5\n",
            "4\n",
            "3\n",
            "2\n",
            "1\n"
          ]
        }
      ]
    },
    {
      "cell_type": "code",
      "source": [
        "# iterating through a for loop\n",
        "for num in the_tuple:\n",
        "    print(num)"
      ],
      "metadata": {
        "colab": {
          "base_uri": "https://localhost:8080/"
        },
        "id": "ul9eeeLiaOjv",
        "outputId": "a7d30f63-8ba8-4346-e850-8fdfe26d2de7"
      },
      "execution_count": 54,
      "outputs": [
        {
          "output_type": "stream",
          "name": "stdout",
          "text": [
            "1\n",
            "2\n",
            "3\n",
            "4\n",
            "5\n",
            "6\n",
            "7\n",
            "8\n",
            "9\n",
            "10\n"
          ]
        }
      ]
    },
    {
      "cell_type": "code",
      "source": [
        "# tuple slicing , can use strides as lengths to jump index\n",
        "my_tuple = (1, 2, 3, 4, 5, 6, 7, 8, 9, 10)\n",
        "print(my_tuple[::3]) # using stride length of 3 starting with first position\n",
        "print(my_tuple[1::2]) # using stride length of 2 positions from second position\n",
        "print(my_tuple[7::-1]) # backwards with stride -1 from 7th positioon, which is 8 till the first\n",
        "print(my_tuple[::2]) # odds only \n",
        "print(my_tuple[8::-2]) # odds only backwards "
      ],
      "metadata": {
        "colab": {
          "base_uri": "https://localhost:8080/"
        },
        "id": "IoqcQyXSaVk-",
        "outputId": "33af9e65-e5b9-4dae-d956-4b2e9676f727"
      },
      "execution_count": 55,
      "outputs": [
        {
          "output_type": "stream",
          "name": "stdout",
          "text": [
            "(1, 4, 7, 10)\n",
            "(2, 4, 6, 8, 10)\n",
            "(8, 7, 6, 5, 4, 3, 2, 1)\n",
            "(1, 3, 5, 7, 9)\n",
            "(9, 7, 5, 3, 1)\n"
          ]
        }
      ]
    },
    {
      "cell_type": "code",
      "source": [
        "# tuple methods .count(), .index()\n",
        "my_tuple = (1, 2, 3, 4, 4, 6)\n",
        "print(my_tuple.count(4)) # how many times an element is present"
      ],
      "metadata": {
        "colab": {
          "base_uri": "https://localhost:8080/"
        },
        "id": "wAe_tqKaacDq",
        "outputId": "555f06fd-d45f-41d8-b82f-57b6de15da4a"
      },
      "execution_count": 56,
      "outputs": [
        {
          "output_type": "stream",
          "name": "stdout",
          "text": [
            "2\n"
          ]
        }
      ]
    },
    {
      "cell_type": "markdown",
      "source": [
        "13.# set is a data structure to hold unique data,\n",
        "# meaning that duplicate items will not be there"
      ],
      "metadata": {
        "id": "7o7CyjJGayEZ"
      }
    },
    {
      "cell_type": "code",
      "source": [
        "# using {} braces we can create a set , or using in built function\n",
        "# {} like dictionary, but in set there is no key-value pair. only values/items\n",
        "\n",
        "the_set = {\"bangalore\", \"delhi\", \"bhubaneswar\", \"cuttack\", \"sambalpur\", \"puri\", \"rourkela\"}\n",
        "print(the_set)"
      ],
      "metadata": {
        "colab": {
          "base_uri": "https://localhost:8080/"
        },
        "id": "8B36OPufag0e",
        "outputId": "4c49133a-fff6-48d1-cf55-b0eb111bea6d"
      },
      "execution_count": 57,
      "outputs": [
        {
          "output_type": "stream",
          "name": "stdout",
          "text": [
            "{'rourkela', 'sambalpur', 'bhubaneswar', 'cuttack', 'bangalore', 'delhi', 'puri'}\n"
          ]
        }
      ]
    },
    {
      "cell_type": "code",
      "source": [
        "# use len function check number of elements\n",
        "print(len(the_set))"
      ],
      "metadata": {
        "colab": {
          "base_uri": "https://localhost:8080/"
        },
        "id": "rZzkxuS7a4eh",
        "outputId": "72bada5e-5fab-4db0-f597-fe5ff39a199c"
      },
      "execution_count": 58,
      "outputs": [
        {
          "output_type": "stream",
          "name": "stdout",
          "text": [
            "7\n"
          ]
        }
      ]
    },
    {
      "cell_type": "code",
      "source": [
        "# let us create a set with duplicate entries, and verify\n",
        "the_test_set = {\"one\", \"one\", \"two\", \"three\", \"four\", \"five\"}\n",
        "print(the_test_set) # items assignment can be of any order, "
      ],
      "metadata": {
        "colab": {
          "base_uri": "https://localhost:8080/"
        },
        "id": "gKHpPpcla81M",
        "outputId": "2d233132-7671-4d10-e2b0-c3029157e315"
      },
      "execution_count": 59,
      "outputs": [
        {
          "output_type": "stream",
          "name": "stdout",
          "text": [
            "{'five', 'two', 'four', 'three', 'one'}\n"
          ]
        }
      ]
    },
    {
      "cell_type": "code",
      "source": [
        "# we can convert set into list as well\n",
        "print(list(the_test_set))"
      ],
      "metadata": {
        "colab": {
          "base_uri": "https://localhost:8080/"
        },
        "id": "MMeGXFFQbCl8",
        "outputId": "7be85f6f-9f6c-4770-dfd5-9ecee7c72f4c"
      },
      "execution_count": 60,
      "outputs": [
        {
          "output_type": "stream",
          "name": "stdout",
          "text": [
            "['five', 'two', 'four', 'three', 'one']\n"
          ]
        }
      ]
    },
    {
      "cell_type": "code",
      "source": [
        "# using set()\n",
        "print(set([\"one\", \"two\", \"three\", \"three\", \"four\", \"five\"]))"
      ],
      "metadata": {
        "colab": {
          "base_uri": "https://localhost:8080/"
        },
        "id": "wsVZuQZPbHGA",
        "outputId": "fca68f7e-40fd-4002-e0ef-c4bf24bd6014"
      },
      "execution_count": 61,
      "outputs": [
        {
          "output_type": "stream",
          "name": "stdout",
          "text": [
            "{'three', 'one', 'two', 'four', 'five'}\n"
          ]
        }
      ]
    },
    {
      "cell_type": "code",
      "source": [
        "# using range() to print sequence of numbers\n",
        "print(set([num for num in range(1,15,2)]))"
      ],
      "metadata": {
        "colab": {
          "base_uri": "https://localhost:8080/"
        },
        "id": "usfFWSYBbMea",
        "outputId": "dac2c6f7-25c5-4558-8a5f-5d3681884908"
      },
      "execution_count": 62,
      "outputs": [
        {
          "output_type": "stream",
          "name": "stdout",
          "text": [
            "{1, 3, 5, 7, 9, 11, 13}\n"
          ]
        }
      ]
    },
    {
      "cell_type": "code",
      "source": [
        "the_set_range = set(range(1,15,2))\n",
        "print(the_set_range)"
      ],
      "metadata": {
        "colab": {
          "base_uri": "https://localhost:8080/"
        },
        "id": "SD0cmE2kbPo0",
        "outputId": "a2f16011-3b87-473f-d4c8-359ecb1f05ad"
      },
      "execution_count": 63,
      "outputs": [
        {
          "output_type": "stream",
          "name": "stdout",
          "text": [
            "{1, 3, 5, 7, 9, 11, 13}\n"
          ]
        }
      ]
    },
    {
      "cell_type": "code",
      "source": [
        "# checking element in a set using in , not in\n",
        "print(12 in the_set_range) # False\n",
        "print(12 not in the_set_range) # True"
      ],
      "metadata": {
        "colab": {
          "base_uri": "https://localhost:8080/"
        },
        "id": "kEKEGDT0bWBA",
        "outputId": "90a6323e-c918-4ef7-db68-85e5575dc89c"
      },
      "execution_count": 64,
      "outputs": [
        {
          "output_type": "stream",
          "name": "stdout",
          "text": [
            "False\n",
            "True\n"
          ]
        }
      ]
    },
    {
      "cell_type": "code",
      "source": [
        "# unlike list and tuple sets can not be indexed\n",
        "# if we want to access elements then loop through\n",
        "for num in the_set_range:\n",
        "  print(num)"
      ],
      "metadata": {
        "colab": {
          "base_uri": "https://localhost:8080/"
        },
        "id": "0st9HwiLbayz",
        "outputId": "a7feb47a-a218-4246-cafc-f6c7f272b4b1"
      },
      "execution_count": 65,
      "outputs": [
        {
          "output_type": "stream",
          "name": "stdout",
          "text": [
            "1\n",
            "3\n",
            "5\n",
            "7\n",
            "9\n",
            "11\n",
            "13\n"
          ]
        }
      ]
    },
    {
      "cell_type": "code",
      "source": [
        "# set methods exercise .add(), .remove(), .discard(), \n",
        "# .union(), .intersection(), .difference()\n",
        "my_set = {\"data science\", \"machine learning\", \"data analysis\", \" artificial intelligence\"}\n",
        "my_set.add(\"full stack data science\") # will be added into set\n",
        "print(my_set)\n"
      ],
      "metadata": {
        "colab": {
          "base_uri": "https://localhost:8080/"
        },
        "id": "ygAM7elPbhSI",
        "outputId": "7a53ba03-5d11-4bcb-a62d-36c8bbb33397"
      },
      "execution_count": 66,
      "outputs": [
        {
          "output_type": "stream",
          "name": "stdout",
          "text": [
            "{' artificial intelligence', 'full stack data science', 'machine learning', 'data analysis', 'data science'}\n"
          ]
        }
      ]
    },
    {
      "cell_type": "code",
      "source": [
        "my_set.remove(\"data analysis\") # will be removed if present, else error\n",
        "print(my_set)"
      ],
      "metadata": {
        "colab": {
          "base_uri": "https://localhost:8080/"
        },
        "id": "XBMejom4brdv",
        "outputId": "45b27694-a058-4cf0-fc41-98e6fd786f29"
      },
      "execution_count": 67,
      "outputs": [
        {
          "output_type": "stream",
          "name": "stdout",
          "text": [
            "{' artificial intelligence', 'full stack data science', 'machine learning', 'data science'}\n"
          ]
        }
      ]
    },
    {
      "cell_type": "code",
      "source": [
        "# my_set.remove(\"data and analysis\")\n",
        "# print(my_set)\n",
        "# using .discard() method will not throw error\n",
        "my_set.discard(\"data and analysis\")\n",
        "print(my_set)"
      ],
      "metadata": {
        "colab": {
          "base_uri": "https://localhost:8080/"
        },
        "id": "r9Gr5JOmbyAk",
        "outputId": "66ffcd93-de89-40d2-8c6f-3d926913b7ed"
      },
      "execution_count": 69,
      "outputs": [
        {
          "output_type": "stream",
          "name": "stdout",
          "text": [
            "{' artificial intelligence', 'full stack data science', 'machine learning', 'data science'}\n"
          ]
        }
      ]
    },
    {
      "cell_type": "code",
      "source": [
        "my_set.discard(\"machine learning\")\n",
        "print(my_set)\n"
      ],
      "metadata": {
        "colab": {
          "base_uri": "https://localhost:8080/"
        },
        "id": "qTTVKtCbb4Ps",
        "outputId": "058e6ec8-cbd0-490b-90f4-8c4b0a1f5ac4"
      },
      "execution_count": 70,
      "outputs": [
        {
          "output_type": "stream",
          "name": "stdout",
          "text": [
            "{' artificial intelligence', 'full stack data science', 'data science'}\n"
          ]
        }
      ]
    },
    {
      "cell_type": "code",
      "source": [
        "# two sets can be combined together\n",
        "set_1 = {\"debi\", \"ranjan\", \"deepesh\", \"sanatan\", \"nancy\"}\n",
        "set_2 = {\"apoorva\", \"stacy\", \"roy\", \"nancy\", \"ranjan\"}\n",
        "print(set_1.union(set_2))"
      ],
      "metadata": {
        "colab": {
          "base_uri": "https://localhost:8080/"
        },
        "id": "tkCxYdugcBv0",
        "outputId": "e18f2705-6cab-4ad0-b392-88c76f817fd0"
      },
      "execution_count": 71,
      "outputs": [
        {
          "output_type": "stream",
          "name": "stdout",
          "text": [
            "{'debi', 'deepesh', 'sanatan', 'nancy', 'apoorva', 'stacy', 'roy', 'ranjan'}\n"
          ]
        }
      ]
    },
    {
      "cell_type": "code",
      "source": [
        "# note-- using | operator also works \n",
        "print(set_1 | set_2)"
      ],
      "metadata": {
        "colab": {
          "base_uri": "https://localhost:8080/"
        },
        "id": "r1nJMOrYcGPR",
        "outputId": "7274f741-8529-40d2-adf1-68fe2ac90b22"
      },
      "execution_count": 72,
      "outputs": [
        {
          "output_type": "stream",
          "name": "stdout",
          "text": [
            "{'debi', 'deepesh', 'sanatan', 'nancy', 'apoorva', 'stacy', 'roy', 'ranjan'}\n"
          ]
        }
      ]
    },
    {
      "cell_type": "code",
      "source": [
        "# two sets can be intersected together, common elements\n",
        "print(set_1.intersection(set_2))"
      ],
      "metadata": {
        "colab": {
          "base_uri": "https://localhost:8080/"
        },
        "id": "O6uqwNlRcNQK",
        "outputId": "6f40cba6-d435-4bed-b78e-54107554b0ea"
      },
      "execution_count": 73,
      "outputs": [
        {
          "output_type": "stream",
          "name": "stdout",
          "text": [
            "{'nancy', 'ranjan'}\n"
          ]
        }
      ]
    },
    {
      "cell_type": "code",
      "source": [
        "# note-- using & operator also works\n",
        "print(set_1 & set_2)"
      ],
      "metadata": {
        "colab": {
          "base_uri": "https://localhost:8080/"
        },
        "id": "zf2P-61-cSFL",
        "outputId": "d05c23e4-e927-4245-8b34-057570c8a21c"
      },
      "execution_count": 74,
      "outputs": [
        {
          "output_type": "stream",
          "name": "stdout",
          "text": [
            "{'nancy', 'ranjan'}\n"
          ]
        }
      ]
    },
    {
      "cell_type": "code",
      "source": [
        "# difference between 2 sets\n",
        "print(set_1.difference(set_2)) # remaining element of first set"
      ],
      "metadata": {
        "colab": {
          "base_uri": "https://localhost:8080/"
        },
        "id": "bTEhxlDEcVOm",
        "outputId": "c2eae7d6-c1bb-4cb1-e637-f505981d295e"
      },
      "execution_count": 75,
      "outputs": [
        {
          "output_type": "stream",
          "name": "stdout",
          "text": [
            "{'debi', 'deepesh', 'sanatan'}\n"
          ]
        }
      ]
    },
    {
      "cell_type": "code",
      "source": [
        "# difference between 2 sets\n",
        "print(set_2.difference(set_1)) # remaining element of first set"
      ],
      "metadata": {
        "colab": {
          "base_uri": "https://localhost:8080/"
        },
        "id": "kabzngRgcZc7",
        "outputId": "8bbd4070-c1f4-43fa-f2fd-c73801254b50"
      },
      "execution_count": 76,
      "outputs": [
        {
          "output_type": "stream",
          "name": "stdout",
          "text": [
            "{'stacy', 'roy', 'apoorva'}\n"
          ]
        }
      ]
    },
    {
      "cell_type": "code",
      "source": [
        "# note-- using - operator also works\n",
        "print(set_1 - set_2)"
      ],
      "metadata": {
        "colab": {
          "base_uri": "https://localhost:8080/"
        },
        "id": "lpZaflymcl5X",
        "outputId": "60689a80-81bf-4115-f87d-6983576ef521"
      },
      "execution_count": 77,
      "outputs": [
        {
          "output_type": "stream",
          "name": "stdout",
          "text": [
            "{'debi', 'deepesh', 'sanatan'}\n"
          ]
        }
      ]
    },
    {
      "cell_type": "code",
      "source": [
        "# set comprehension -- advanced topic\n",
        "my_set_comprehension = {num + 2 for num in range(1,10)}\n",
        "print(my_set_comprehension)"
      ],
      "metadata": {
        "colab": {
          "base_uri": "https://localhost:8080/"
        },
        "id": "iQrai4Yacriz",
        "outputId": "9d08cf6e-0d07-45fd-e189-6becb31a7969"
      },
      "execution_count": 78,
      "outputs": [
        {
          "output_type": "stream",
          "name": "stdout",
          "text": [
            "{3, 4, 5, 6, 7, 8, 9, 10, 11}\n"
          ]
        }
      ]
    },
    {
      "cell_type": "code",
      "source": [
        "my_set_characters = {char.lower() for char in \"MYLOVE\"}\n",
        "print(my_set_characters)"
      ],
      "metadata": {
        "colab": {
          "base_uri": "https://localhost:8080/"
        },
        "id": "sP6JSgOocwE3",
        "outputId": "590dab1a-38da-4ea5-8d5f-38ea49d8c641"
      },
      "execution_count": 79,
      "outputs": [
        {
          "output_type": "stream",
          "name": "stdout",
          "text": [
            "{'v', 'l', 'm', 'y', 'o', 'e'}\n"
          ]
        }
      ]
    },
    {
      "cell_type": "markdown",
      "source": [
        "14.# program to check even or odd"
      ],
      "metadata": {
        "id": "fRgsa5mHc7Nt"
      }
    },
    {
      "cell_type": "code",
      "source": [
        "def check_even_or_odd(num):\n",
        "    if num is None or num == 0:\n",
        "        return False\n",
        "    elif num % 2 == 0:\n",
        "        return \"EVEN\"\n",
        "    else:\n",
        "        return \"ODD\"\n",
        "check_even_or_odd(9)"
      ],
      "metadata": {
        "colab": {
          "base_uri": "https://localhost:8080/",
          "height": 35
        },
        "id": "qsd08OKuc17R",
        "outputId": "f23e8568-a12e-4fe7-8730-322aaa031a7a"
      },
      "execution_count": 85,
      "outputs": [
        {
          "output_type": "execute_result",
          "data": {
            "text/plain": [
              "'ODD'"
            ],
            "application/vnd.google.colaboratory.intrinsic+json": {
              "type": "string"
            }
          },
          "metadata": {},
          "execution_count": 85
        }
      ]
    },
    {
      "cell_type": "markdown",
      "source": [
        "15.# program to check prime number"
      ],
      "metadata": {
        "id": "bxwOWVnJdSWH"
      }
    },
    {
      "cell_type": "code",
      "source": [
        "def check_prime_number(num):\n",
        "    if num <= 1:\n",
        "        return False\n",
        "    for i in range(2, num):\n",
        "        if num % i == 0:\n",
        "            return \"NO PRIME\"\n",
        "        else:\n",
        "            return \"PRIME\"\n",
        "\n",
        "check_prime_number(5)\n",
        "check_prime_number(4)"
      ],
      "metadata": {
        "colab": {
          "base_uri": "https://localhost:8080/",
          "height": 35
        },
        "id": "tBiQ6ti1dHC6",
        "outputId": "66a511db-62ee-40a6-d9f4-38f3140f6906"
      },
      "execution_count": 84,
      "outputs": [
        {
          "output_type": "execute_result",
          "data": {
            "text/plain": [
              "'NO PRIME'"
            ],
            "application/vnd.google.colaboratory.intrinsic+json": {
              "type": "string"
            }
          },
          "metadata": {},
          "execution_count": 84
        }
      ]
    },
    {
      "cell_type": "markdown",
      "source": [
        "16.# program for fibonacci series of n-sequence"
      ],
      "metadata": {
        "id": "GG3yYB8Od5kK"
      }
    },
    {
      "cell_type": "code",
      "source": [
        "def fibonacci(n):\n",
        "    if n <= 0:\n",
        "        return \"Incorrect Output\"\n",
        "    data = [0, 1]\n",
        "    if n > 2:\n",
        "        for i in range(2, n):\n",
        "            data.append(data[i - 1] + data[i - 2])\n",
        "    return data[n - 1]\n",
        "\n",
        "\n",
        "input = int(input())\n",
        "for i in range(0, input):\n",
        "    print(fibonacci(i))"
      ],
      "metadata": {
        "colab": {
          "base_uri": "https://localhost:8080/",
          "height": 236
        },
        "id": "rdo8caaodWFc",
        "outputId": "352bf7d0-753f-4853-cb6d-5a3a0ec9e7b7"
      },
      "execution_count": 90,
      "outputs": [
        {
          "output_type": "error",
          "ename": "TypeError",
          "evalue": "ignored",
          "traceback": [
            "\u001b[0;31m---------------------------------------------------------------------------\u001b[0m",
            "\u001b[0;31mTypeError\u001b[0m                                 Traceback (most recent call last)",
            "\u001b[0;32m<ipython-input-90-421012b6c491>\u001b[0m in \u001b[0;36m<cell line: 11>\u001b[0;34m()\u001b[0m\n\u001b[1;32m      9\u001b[0m \u001b[0;34m\u001b[0m\u001b[0m\n\u001b[1;32m     10\u001b[0m \u001b[0;34m\u001b[0m\u001b[0m\n\u001b[0;32m---> 11\u001b[0;31m \u001b[0minput\u001b[0m \u001b[0;34m=\u001b[0m \u001b[0mint\u001b[0m\u001b[0;34m(\u001b[0m\u001b[0minput\u001b[0m\u001b[0;34m(\u001b[0m\u001b[0;34m)\u001b[0m\u001b[0;34m)\u001b[0m\u001b[0;34m\u001b[0m\u001b[0;34m\u001b[0m\u001b[0m\n\u001b[0m\u001b[1;32m     12\u001b[0m \u001b[0;32mfor\u001b[0m \u001b[0mi\u001b[0m \u001b[0;32min\u001b[0m \u001b[0mrange\u001b[0m\u001b[0;34m(\u001b[0m\u001b[0;36m0\u001b[0m\u001b[0;34m,\u001b[0m \u001b[0minput\u001b[0m\u001b[0;34m)\u001b[0m\u001b[0;34m:\u001b[0m\u001b[0;34m\u001b[0m\u001b[0;34m\u001b[0m\u001b[0m\n\u001b[1;32m     13\u001b[0m     \u001b[0mprint\u001b[0m\u001b[0;34m(\u001b[0m\u001b[0mfibonacci\u001b[0m\u001b[0;34m(\u001b[0m\u001b[0mi\u001b[0m\u001b[0;34m)\u001b[0m\u001b[0;34m)\u001b[0m\u001b[0;34m\u001b[0m\u001b[0;34m\u001b[0m\u001b[0m\n",
            "\u001b[0;31mTypeError\u001b[0m: 'int' object is not callable"
          ]
        }
      ]
    },
    {
      "cell_type": "markdown",
      "source": [
        "17.# given a name list return all names as its camelcase\n"
      ],
      "metadata": {
        "id": "311bYT3Eefwk"
      }
    },
    {
      "cell_type": "code",
      "source": [
        "pip install camelcase"
      ],
      "metadata": {
        "colab": {
          "base_uri": "https://localhost:8080/"
        },
        "id": "paHzqY2Xeq1n",
        "outputId": "a0a4c1fa-571a-4e97-c3fc-59e2a9680d5c"
      },
      "execution_count": 92,
      "outputs": [
        {
          "output_type": "stream",
          "name": "stdout",
          "text": [
            "Looking in indexes: https://pypi.org/simple, https://us-python.pkg.dev/colab-wheels/public/simple/\n",
            "Collecting camelcase\n",
            "  Downloading camelcase-0.2.tar.gz (1.3 kB)\n",
            "  Preparing metadata (setup.py) ... \u001b[?25l\u001b[?25hdone\n",
            "Building wheels for collected packages: camelcase\n",
            "  Building wheel for camelcase (setup.py) ... \u001b[?25l\u001b[?25hdone\n",
            "  Created wheel for camelcase: filename=camelcase-0.2-py3-none-any.whl size=1788 sha256=f69275fa7455d08797c47a3b4d634767a222500f54bc68521c32e2a4fd4133f8\n",
            "  Stored in directory: /root/.cache/pip/wheels/c3/9a/eb/7eca0b069ef85183fd3215aa793d8ffa56ae5b424912c311df\n",
            "Successfully built camelcase\n",
            "Installing collected packages: camelcase\n",
            "Successfully installed camelcase-0.2\n"
          ]
        }
      ]
    },
    {
      "cell_type": "code",
      "source": [
        "import camelcase\n",
        "\n",
        "csc = camelcase.CamelCase()\n",
        "name_list = input(\"enter list of name separated by a space\").split()\n",
        "name_list_camel_case = [csc.hump(name) for name in name_list]\n",
        "print(name_list_camel_case)"
      ],
      "metadata": {
        "colab": {
          "base_uri": "https://localhost:8080/",
          "height": 236
        },
        "id": "D4dAOTMhd-1N",
        "outputId": "4f5d0412-7ca6-43ec-a4bc-50930c65f5b8"
      },
      "execution_count": 93,
      "outputs": [
        {
          "output_type": "error",
          "ename": "TypeError",
          "evalue": "ignored",
          "traceback": [
            "\u001b[0;31m---------------------------------------------------------------------------\u001b[0m",
            "\u001b[0;31mTypeError\u001b[0m                                 Traceback (most recent call last)",
            "\u001b[0;32m<ipython-input-93-bf2e52572c5b>\u001b[0m in \u001b[0;36m<cell line: 4>\u001b[0;34m()\u001b[0m\n\u001b[1;32m      2\u001b[0m \u001b[0;34m\u001b[0m\u001b[0m\n\u001b[1;32m      3\u001b[0m \u001b[0mcsc\u001b[0m \u001b[0;34m=\u001b[0m \u001b[0mcamelcase\u001b[0m\u001b[0;34m.\u001b[0m\u001b[0mCamelCase\u001b[0m\u001b[0;34m(\u001b[0m\u001b[0;34m)\u001b[0m\u001b[0;34m\u001b[0m\u001b[0;34m\u001b[0m\u001b[0m\n\u001b[0;32m----> 4\u001b[0;31m \u001b[0mname_list\u001b[0m \u001b[0;34m=\u001b[0m \u001b[0minput\u001b[0m\u001b[0;34m(\u001b[0m\u001b[0;34m\"enter list of name separated by a space\"\u001b[0m\u001b[0;34m)\u001b[0m\u001b[0;34m.\u001b[0m\u001b[0msplit\u001b[0m\u001b[0;34m(\u001b[0m\u001b[0;34m)\u001b[0m\u001b[0;34m\u001b[0m\u001b[0;34m\u001b[0m\u001b[0m\n\u001b[0m\u001b[1;32m      5\u001b[0m \u001b[0mname_list_camel_case\u001b[0m \u001b[0;34m=\u001b[0m \u001b[0;34m[\u001b[0m\u001b[0mcsc\u001b[0m\u001b[0;34m.\u001b[0m\u001b[0mhump\u001b[0m\u001b[0;34m(\u001b[0m\u001b[0mname\u001b[0m\u001b[0;34m)\u001b[0m \u001b[0;32mfor\u001b[0m \u001b[0mname\u001b[0m \u001b[0;32min\u001b[0m \u001b[0mname_list\u001b[0m\u001b[0;34m]\u001b[0m\u001b[0;34m\u001b[0m\u001b[0;34m\u001b[0m\u001b[0m\n\u001b[1;32m      6\u001b[0m \u001b[0mprint\u001b[0m\u001b[0;34m(\u001b[0m\u001b[0mname_list_camel_case\u001b[0m\u001b[0;34m)\u001b[0m\u001b[0;34m\u001b[0m\u001b[0;34m\u001b[0m\u001b[0m\n",
            "\u001b[0;31mTypeError\u001b[0m: 'int' object is not callable"
          ]
        }
      ]
    },
    {
      "cell_type": "markdown",
      "source": [
        "18.# create a database in mysql and fech all records from a table"
      ],
      "metadata": {
        "id": "F6-ZF9uOe6ZS"
      }
    },
    {
      "cell_type": "code",
      "source": [
        "import mysql.connector\n",
        "\n",
        "my_db = mysql.connector.connect(\n",
        "    host=\"localhost\",  # local host in case you are using a local machine\n",
        "    user=\"root\",  # give your own user name\n",
        "    passwd=\"password123\",  # give your own password\n",
        ")"
      ],
      "metadata": {
        "colab": {
          "base_uri": "https://localhost:8080/",
          "height": 375
        },
        "id": "7CHOMpz3em0I",
        "outputId": "e48611e9-464f-4f10-b833-11fec6d1e982"
      },
      "execution_count": 94,
      "outputs": [
        {
          "output_type": "error",
          "ename": "ModuleNotFoundError",
          "evalue": "ignored",
          "traceback": [
            "\u001b[0;31m---------------------------------------------------------------------------\u001b[0m",
            "\u001b[0;31mModuleNotFoundError\u001b[0m                       Traceback (most recent call last)",
            "\u001b[0;32m<ipython-input-94-fec04c35fbd4>\u001b[0m in \u001b[0;36m<cell line: 1>\u001b[0;34m()\u001b[0m\n\u001b[0;32m----> 1\u001b[0;31m \u001b[0;32mimport\u001b[0m \u001b[0mmysql\u001b[0m\u001b[0;34m.\u001b[0m\u001b[0mconnector\u001b[0m\u001b[0;34m\u001b[0m\u001b[0;34m\u001b[0m\u001b[0m\n\u001b[0m\u001b[1;32m      2\u001b[0m \u001b[0;34m\u001b[0m\u001b[0m\n\u001b[1;32m      3\u001b[0m my_db = mysql.connector.connect(\n\u001b[1;32m      4\u001b[0m     \u001b[0mhost\u001b[0m\u001b[0;34m=\u001b[0m\u001b[0;34m\"localhost\"\u001b[0m\u001b[0;34m,\u001b[0m  \u001b[0;31m# local host in case you are using a local machine\u001b[0m\u001b[0;34m\u001b[0m\u001b[0;34m\u001b[0m\u001b[0m\n\u001b[1;32m      5\u001b[0m     \u001b[0muser\u001b[0m\u001b[0;34m=\u001b[0m\u001b[0;34m\"root\"\u001b[0m\u001b[0;34m,\u001b[0m  \u001b[0;31m# give your own user name\u001b[0m\u001b[0;34m\u001b[0m\u001b[0;34m\u001b[0m\u001b[0m\n",
            "\u001b[0;31mModuleNotFoundError\u001b[0m: No module named 'mysql'",
            "",
            "\u001b[0;31m---------------------------------------------------------------------------\u001b[0;32m\nNOTE: If your import is failing due to a missing package, you can\nmanually install dependencies using either !pip or !apt.\n\nTo view examples of installing some common dependencies, click the\n\"Open Examples\" button below.\n\u001b[0;31m---------------------------------------------------------------------------\u001b[0m\n"
          ],
          "errorDetails": {
            "actions": [
              {
                "action": "open_url",
                "actionText": "Open Examples",
                "url": "/notebooks/snippets/importing_libraries.ipynb"
              }
            ]
          }
        }
      ]
    },
    {
      "cell_type": "code",
      "source": [
        "# to perform SQL operation - enable cursor\n",
        "my_db_cursor = my_db.cursor()\n",
        "# using cursor to create a database\n",
        "my_db_cursor.execute(\"CREATE DATABASE my_db\")\n",
        "print(\"database is created\")\n",
        "\n",
        "my_db_connection = mysql.connector.connect(\n",
        "    host=\"localhost\",\n",
        "    user=\"root\",\n",
        "    passwd=\"password123\",\n",
        "    database=\"my_db\"  # from above\n",
        ")\n",
        "my_db_cursor = my_db_connection.cursor()\n",
        "my_db_cursor.execute(\"CREATE TABLE SALES(sales_id INT AUTO_INCREMENT PRIMARY KEY,\n",
        "product_code\n",
        "VARCHAR(255),\n",
        "price\n",
        "INT(8))\")\n",
        "\n",
        "sales_query = \"INSERT INTO SALES (sales_id, product_code, price) VALUES (111, 'HP-Server-001', 100000)\"\n",
        "\n",
        "my_db_cursor.execute(sales_query)\n",
        "db_fetched_data = my_db_cursor.fetchall()  # can use selected rows as per need\n",
        "print(db_fetched_data)"
      ],
      "metadata": {
        "colab": {
          "base_uri": "https://localhost:8080/",
          "height": 131
        },
        "id": "Dy62SDcJe_nm",
        "outputId": "53de16a3-fd85-4397-c936-f2bc68d8c6f3"
      },
      "execution_count": 95,
      "outputs": [
        {
          "output_type": "error",
          "ename": "SyntaxError",
          "evalue": "ignored",
          "traceback": [
            "\u001b[0;36m  File \u001b[0;32m\"<ipython-input-95-2dab879c4d8e>\"\u001b[0;36m, line \u001b[0;32m14\u001b[0m\n\u001b[0;31m    my_db_cursor.execute(\"CREATE TABLE SALES(sales_id INT AUTO_INCREMENT PRIMARY KEY,\u001b[0m\n\u001b[0m                                                                                     ^\u001b[0m\n\u001b[0;31mSyntaxError\u001b[0m\u001b[0;31m:\u001b[0m EOL while scanning string literal\n"
          ]
        }
      ]
    },
    {
      "cell_type": "markdown",
      "source": [
        "19.# reverse the given integer and print it back"
      ],
      "metadata": {
        "id": "dF23Ol3ZfRKZ"
      }
    },
    {
      "cell_type": "code",
      "source": [
        "def reverse_integer(str):\n",
        "    return int(str[::-1])\n",
        "\n",
        "\n",
        "reverse_integer(str(453))"
      ],
      "metadata": {
        "colab": {
          "base_uri": "https://localhost:8080/"
        },
        "id": "WHkO0EQSfL1U",
        "outputId": "188db7ff-24c8-441d-cab2-ce99616914aa"
      },
      "execution_count": 96,
      "outputs": [
        {
          "output_type": "execute_result",
          "data": {
            "text/plain": [
              "354"
            ]
          },
          "metadata": {},
          "execution_count": 96
        }
      ]
    },
    {
      "cell_type": "markdown",
      "source": [
        "20.# writing num2words interpretation in an appending mode\n",
        "# by reading file with 123 in it.\n"
      ],
      "metadata": {
        "id": "PIfVhtuTfcCV"
      }
    },
    {
      "cell_type": "code",
      "source": [
        "from num2words import num2words\n",
        "\n",
        "with open(\"num2words.txt\", \"r\") as reader_file:\n",
        "    content_read = reader_file.read()\n",
        "\n",
        "with open(\"num2words.txt\", \"a\") as writer_file:\n",
        "    # write back the num to word interpretation\n",
        "    for content in num2words(content_read):\n",
        "        writer_file.write(content)\n",
        "        "
      ],
      "metadata": {
        "colab": {
          "base_uri": "https://localhost:8080/",
          "height": 375
        },
        "id": "J2PqE0x7fUm0",
        "outputId": "47e81a74-4598-4969-d574-9d74e3d8e6da"
      },
      "execution_count": 97,
      "outputs": [
        {
          "output_type": "error",
          "ename": "ModuleNotFoundError",
          "evalue": "ignored",
          "traceback": [
            "\u001b[0;31m---------------------------------------------------------------------------\u001b[0m",
            "\u001b[0;31mModuleNotFoundError\u001b[0m                       Traceback (most recent call last)",
            "\u001b[0;32m<ipython-input-97-97bce3cb2b6e>\u001b[0m in \u001b[0;36m<cell line: 1>\u001b[0;34m()\u001b[0m\n\u001b[0;32m----> 1\u001b[0;31m \u001b[0;32mfrom\u001b[0m \u001b[0mnum2words\u001b[0m \u001b[0;32mimport\u001b[0m \u001b[0mnum2words\u001b[0m\u001b[0;34m\u001b[0m\u001b[0;34m\u001b[0m\u001b[0m\n\u001b[0m\u001b[1;32m      2\u001b[0m \u001b[0;34m\u001b[0m\u001b[0m\n\u001b[1;32m      3\u001b[0m \u001b[0;32mwith\u001b[0m \u001b[0mopen\u001b[0m\u001b[0;34m(\u001b[0m\u001b[0;34m\"num2words.txt\"\u001b[0m\u001b[0;34m,\u001b[0m \u001b[0;34m\"r\"\u001b[0m\u001b[0;34m)\u001b[0m \u001b[0;32mas\u001b[0m \u001b[0mreader_file\u001b[0m\u001b[0;34m:\u001b[0m\u001b[0;34m\u001b[0m\u001b[0;34m\u001b[0m\u001b[0m\n\u001b[1;32m      4\u001b[0m     \u001b[0mcontent_read\u001b[0m \u001b[0;34m=\u001b[0m \u001b[0mreader_file\u001b[0m\u001b[0;34m.\u001b[0m\u001b[0mread\u001b[0m\u001b[0;34m(\u001b[0m\u001b[0;34m)\u001b[0m\u001b[0;34m\u001b[0m\u001b[0;34m\u001b[0m\u001b[0m\n\u001b[1;32m      5\u001b[0m \u001b[0;34m\u001b[0m\u001b[0m\n",
            "\u001b[0;31mModuleNotFoundError\u001b[0m: No module named 'num2words'",
            "",
            "\u001b[0;31m---------------------------------------------------------------------------\u001b[0;32m\nNOTE: If your import is failing due to a missing package, you can\nmanually install dependencies using either !pip or !apt.\n\nTo view examples of installing some common dependencies, click the\n\"Open Examples\" button below.\n\u001b[0;31m---------------------------------------------------------------------------\u001b[0m\n"
          ],
          "errorDetails": {
            "actions": [
              {
                "action": "open_url",
                "actionText": "Open Examples",
                "url": "/notebooks/snippets/importing_libraries.ipynb"
              }
            ]
          }
        }
      ]
    },
    {
      "cell_type": "markdown",
      "source": [
        "21.# string manipulation\n",
        "# return engine number from a give a number plate\n",
        "# engine no is sum of all digits present in number plate\n"
      ],
      "metadata": {
        "id": "ucKcc1FRfnTT"
      }
    },
    {
      "cell_type": "code",
      "source": [
        "def get_engine_no_from_num_plate(number_plate:str):\n",
        "    \"\"\"return engine number from a given number number_plate\n",
        "      which is sum of all digits present in number_plate\n",
        "      if not found then return False\"\"\"\n",
        "    engine_num = 0\n",
        "    for char in number_plate:\n",
        "        if char.isdigit():\n",
        "            engine_num+= int(char)\n",
        "        else:\n",
        "            pass\n",
        "    return engine_num if engine_num > 0 else \"no engine number\"\n",
        "\n",
        "number_plate = input(\"please enter your number plate\")\n",
        "get_engine_no_from_num_plate(number_plate)\n"
      ],
      "metadata": {
        "colab": {
          "base_uri": "https://localhost:8080/",
          "height": 218
        },
        "id": "OryeLK3vfgOq",
        "outputId": "4dd2eced-d9a3-49fc-b720-d3bf2eb54f58"
      },
      "execution_count": 98,
      "outputs": [
        {
          "output_type": "error",
          "ename": "TypeError",
          "evalue": "ignored",
          "traceback": [
            "\u001b[0;31m---------------------------------------------------------------------------\u001b[0m",
            "\u001b[0;31mTypeError\u001b[0m                                 Traceback (most recent call last)",
            "\u001b[0;32m<ipython-input-98-5b91d018f96d>\u001b[0m in \u001b[0;36m<cell line: 13>\u001b[0;34m()\u001b[0m\n\u001b[1;32m     11\u001b[0m     \u001b[0;32mreturn\u001b[0m \u001b[0mengine_num\u001b[0m \u001b[0;32mif\u001b[0m \u001b[0mengine_num\u001b[0m \u001b[0;34m>\u001b[0m \u001b[0;36m0\u001b[0m \u001b[0;32melse\u001b[0m \u001b[0;34m\"no engine number\"\u001b[0m\u001b[0;34m\u001b[0m\u001b[0;34m\u001b[0m\u001b[0m\n\u001b[1;32m     12\u001b[0m \u001b[0;34m\u001b[0m\u001b[0m\n\u001b[0;32m---> 13\u001b[0;31m \u001b[0mnumber_plate\u001b[0m \u001b[0;34m=\u001b[0m \u001b[0minput\u001b[0m\u001b[0;34m(\u001b[0m\u001b[0;34m\"please enter your number plate\"\u001b[0m\u001b[0;34m)\u001b[0m\u001b[0;34m\u001b[0m\u001b[0;34m\u001b[0m\u001b[0m\n\u001b[0m\u001b[1;32m     14\u001b[0m \u001b[0mget_engine_no_from_num_plate\u001b[0m\u001b[0;34m(\u001b[0m\u001b[0mnumber_plate\u001b[0m\u001b[0;34m)\u001b[0m\u001b[0;34m\u001b[0m\u001b[0;34m\u001b[0m\u001b[0m\n",
            "\u001b[0;31mTypeError\u001b[0m: 'int' object is not callable"
          ]
        }
      ]
    },
    {
      "cell_type": "markdown",
      "source": [
        "22.# program for finding repeating or unique element"
      ],
      "metadata": {
        "id": "oh7euhKcf_8X"
      }
    },
    {
      "cell_type": "code",
      "source": [
        "input_name = input()\n",
        "result =[]\n",
        "for char in input_name:\n",
        "    if char not in result and input_name.count(char)==1:\n",
        "        result.append(char)\n",
        "print(\"\".join(result))\n"
      ],
      "metadata": {
        "colab": {
          "base_uri": "https://localhost:8080/",
          "height": 236
        },
        "id": "YLEwGjXlfzRv",
        "outputId": "069d6554-e7d7-4967-a086-352b8ae99a4a"
      },
      "execution_count": 99,
      "outputs": [
        {
          "output_type": "error",
          "ename": "TypeError",
          "evalue": "ignored",
          "traceback": [
            "\u001b[0;31m---------------------------------------------------------------------------\u001b[0m",
            "\u001b[0;31mTypeError\u001b[0m                                 Traceback (most recent call last)",
            "\u001b[0;32m<ipython-input-99-588b144523d1>\u001b[0m in \u001b[0;36m<cell line: 1>\u001b[0;34m()\u001b[0m\n\u001b[0;32m----> 1\u001b[0;31m \u001b[0minput_name\u001b[0m \u001b[0;34m=\u001b[0m \u001b[0minput\u001b[0m\u001b[0;34m(\u001b[0m\u001b[0;34m)\u001b[0m\u001b[0;34m\u001b[0m\u001b[0;34m\u001b[0m\u001b[0m\n\u001b[0m\u001b[1;32m      2\u001b[0m \u001b[0mresult\u001b[0m \u001b[0;34m=\u001b[0m\u001b[0;34m[\u001b[0m\u001b[0;34m]\u001b[0m\u001b[0;34m\u001b[0m\u001b[0;34m\u001b[0m\u001b[0m\n\u001b[1;32m      3\u001b[0m \u001b[0;32mfor\u001b[0m \u001b[0mchar\u001b[0m \u001b[0;32min\u001b[0m \u001b[0minput_name\u001b[0m\u001b[0;34m:\u001b[0m\u001b[0;34m\u001b[0m\u001b[0;34m\u001b[0m\u001b[0m\n\u001b[1;32m      4\u001b[0m     \u001b[0;32mif\u001b[0m \u001b[0mchar\u001b[0m \u001b[0;32mnot\u001b[0m \u001b[0;32min\u001b[0m \u001b[0mresult\u001b[0m \u001b[0;32mand\u001b[0m \u001b[0minput_name\u001b[0m\u001b[0;34m.\u001b[0m\u001b[0mcount\u001b[0m\u001b[0;34m(\u001b[0m\u001b[0mchar\u001b[0m\u001b[0;34m)\u001b[0m\u001b[0;34m==\u001b[0m\u001b[0;36m1\u001b[0m\u001b[0;34m:\u001b[0m\u001b[0;34m\u001b[0m\u001b[0;34m\u001b[0m\u001b[0m\n\u001b[1;32m      5\u001b[0m         \u001b[0mresult\u001b[0m\u001b[0;34m.\u001b[0m\u001b[0mappend\u001b[0m\u001b[0;34m(\u001b[0m\u001b[0mchar\u001b[0m\u001b[0;34m)\u001b[0m\u001b[0;34m\u001b[0m\u001b[0;34m\u001b[0m\u001b[0m\n",
            "\u001b[0;31mTypeError\u001b[0m: 'int' object is not callable"
          ]
        }
      ]
    },
    {
      "cell_type": "code",
      "source": [
        "from collections import Counter\n",
        "def repeating_characters(name:str):\n",
        "    \"\"\"find repeating characters from a string\"\"\"\n",
        "    counter_dict = Counter(name)\n",
        "    result = list()\n",
        "    for character,count in counter_dict.items():\n",
        "        if count == 1:\n",
        "            result.append(character)\n",
        "        else:\n",
        "            pass\n",
        "    return \"\".join(result)"
      ],
      "metadata": {
        "id": "DtRMV5GTgHIi"
      },
      "execution_count": 100,
      "outputs": []
    },
    {
      "cell_type": "markdown",
      "source": [
        "23.# given a string return wonder if it is consisting of 3 distinct characters\n",
        "# else return -1\n",
        "# for a given string \"aabbcc\" return \"Wonder\" , for \"aabccddee\" return -1"
      ],
      "metadata": {
        "id": "eHUFWZ27gm-b"
      }
    },
    {
      "cell_type": "code",
      "source": [
        "input_name = input()\n",
        "result =[]\n",
        "for char in input_name:\n",
        "    if char not in result and input_name.count(char)>=1:\n",
        "        result.append(char)\n",
        "print(\"Wonder\" if len(result)==3 else -1)\n"
      ],
      "metadata": {
        "colab": {
          "base_uri": "https://localhost:8080/",
          "height": 236
        },
        "id": "x87vqcn1gW9M",
        "outputId": "36049880-737c-4c4c-a772-357ffebb4a50"
      },
      "execution_count": 101,
      "outputs": [
        {
          "output_type": "error",
          "ename": "TypeError",
          "evalue": "ignored",
          "traceback": [
            "\u001b[0;31m---------------------------------------------------------------------------\u001b[0m",
            "\u001b[0;31mTypeError\u001b[0m                                 Traceback (most recent call last)",
            "\u001b[0;32m<ipython-input-101-a6bb08bec9d4>\u001b[0m in \u001b[0;36m<cell line: 1>\u001b[0;34m()\u001b[0m\n\u001b[0;32m----> 1\u001b[0;31m \u001b[0minput_name\u001b[0m \u001b[0;34m=\u001b[0m \u001b[0minput\u001b[0m\u001b[0;34m(\u001b[0m\u001b[0;34m)\u001b[0m\u001b[0;34m\u001b[0m\u001b[0;34m\u001b[0m\u001b[0m\n\u001b[0m\u001b[1;32m      2\u001b[0m \u001b[0mresult\u001b[0m \u001b[0;34m=\u001b[0m\u001b[0;34m[\u001b[0m\u001b[0;34m]\u001b[0m\u001b[0;34m\u001b[0m\u001b[0;34m\u001b[0m\u001b[0m\n\u001b[1;32m      3\u001b[0m \u001b[0;32mfor\u001b[0m \u001b[0mchar\u001b[0m \u001b[0;32min\u001b[0m \u001b[0minput_name\u001b[0m\u001b[0;34m:\u001b[0m\u001b[0;34m\u001b[0m\u001b[0;34m\u001b[0m\u001b[0m\n\u001b[1;32m      4\u001b[0m     \u001b[0;32mif\u001b[0m \u001b[0mchar\u001b[0m \u001b[0;32mnot\u001b[0m \u001b[0;32min\u001b[0m \u001b[0mresult\u001b[0m \u001b[0;32mand\u001b[0m \u001b[0minput_name\u001b[0m\u001b[0;34m.\u001b[0m\u001b[0mcount\u001b[0m\u001b[0;34m(\u001b[0m\u001b[0mchar\u001b[0m\u001b[0;34m)\u001b[0m\u001b[0;34m>=\u001b[0m\u001b[0;36m1\u001b[0m\u001b[0;34m:\u001b[0m\u001b[0;34m\u001b[0m\u001b[0;34m\u001b[0m\u001b[0m\n\u001b[1;32m      5\u001b[0m         \u001b[0mresult\u001b[0m\u001b[0;34m.\u001b[0m\u001b[0mappend\u001b[0m\u001b[0;34m(\u001b[0m\u001b[0mchar\u001b[0m\u001b[0;34m)\u001b[0m\u001b[0;34m\u001b[0m\u001b[0;34m\u001b[0m\u001b[0m\n",
            "\u001b[0;31mTypeError\u001b[0m: 'int' object is not callable"
          ]
        }
      ]
    },
    {
      "cell_type": "code",
      "source": [
        "# using a function\n",
        "from collections import Counter\n",
        "def wonderful_string(name:str):\n",
        "    \"\"\"return \"Wonderful\" from a string of exactly 3 different characters\n",
        "    else -1\"\"\"\n",
        "\n",
        "    counter_dict = Counter(name)\n",
        "    result = list()\n",
        "    for character,count in counter_dict.items():\n",
        "        if count >= 1:\n",
        "            result.append(character)\n",
        "        else:\n",
        "            pass\n",
        "    return \"Wonder\" if len(result)== 3 else -1"
      ],
      "metadata": {
        "id": "WcvKMrmaguNW"
      },
      "execution_count": 102,
      "outputs": []
    },
    {
      "cell_type": "markdown",
      "source": [
        "24.# given a string return \"yes\" if it contains vowels else return \"no\""
      ],
      "metadata": {
        "id": "SNLObWKVhEuu"
      }
    },
    {
      "cell_type": "code",
      "source": [
        "import re\n",
        "input_string = input()\n",
        "if re.search(\"a|e|i|o|u\",input_string):\n",
        "    print(\"yes\")\n",
        "else:\n",
        "    print(\"no\")"
      ],
      "metadata": {
        "colab": {
          "base_uri": "https://localhost:8080/",
          "height": 236
        },
        "id": "37RksGVsg3P0",
        "outputId": "5268f8bc-7862-4db1-c449-19279a586019"
      },
      "execution_count": 103,
      "outputs": [
        {
          "output_type": "error",
          "ename": "TypeError",
          "evalue": "ignored",
          "traceback": [
            "\u001b[0;31m---------------------------------------------------------------------------\u001b[0m",
            "\u001b[0;31mTypeError\u001b[0m                                 Traceback (most recent call last)",
            "\u001b[0;32m<ipython-input-103-c81f160f068a>\u001b[0m in \u001b[0;36m<cell line: 2>\u001b[0;34m()\u001b[0m\n\u001b[1;32m      1\u001b[0m \u001b[0;32mimport\u001b[0m \u001b[0mre\u001b[0m\u001b[0;34m\u001b[0m\u001b[0;34m\u001b[0m\u001b[0m\n\u001b[0;32m----> 2\u001b[0;31m \u001b[0minput_string\u001b[0m \u001b[0;34m=\u001b[0m \u001b[0minput\u001b[0m\u001b[0;34m(\u001b[0m\u001b[0;34m)\u001b[0m\u001b[0;34m\u001b[0m\u001b[0;34m\u001b[0m\u001b[0m\n\u001b[0m\u001b[1;32m      3\u001b[0m \u001b[0;32mif\u001b[0m \u001b[0mre\u001b[0m\u001b[0;34m.\u001b[0m\u001b[0msearch\u001b[0m\u001b[0;34m(\u001b[0m\u001b[0;34m\"a|e|i|o|u\"\u001b[0m\u001b[0;34m,\u001b[0m\u001b[0minput_string\u001b[0m\u001b[0;34m)\u001b[0m\u001b[0;34m:\u001b[0m\u001b[0;34m\u001b[0m\u001b[0;34m\u001b[0m\u001b[0m\n\u001b[1;32m      4\u001b[0m     \u001b[0mprint\u001b[0m\u001b[0;34m(\u001b[0m\u001b[0;34m\"yes\"\u001b[0m\u001b[0;34m)\u001b[0m\u001b[0;34m\u001b[0m\u001b[0;34m\u001b[0m\u001b[0m\n\u001b[1;32m      5\u001b[0m \u001b[0;32melse\u001b[0m\u001b[0;34m:\u001b[0m\u001b[0;34m\u001b[0m\u001b[0;34m\u001b[0m\u001b[0m\n",
            "\u001b[0;31mTypeError\u001b[0m: 'int' object is not callable"
          ]
        }
      ]
    },
    {
      "cell_type": "markdown",
      "source": [
        "25.# given a input string replace the middle index element by * in conext\n",
        "# of odd and even string len size."
      ],
      "metadata": {
        "id": "t2RyN5nzhXpg"
      }
    },
    {
      "cell_type": "code",
      "source": [
        "name_string = input()\n",
        "new_name_string = list(name_string)\n",
        "if len(name_string)% 2 != 0 or len(name_string) == 1:\n",
        "    middle_index = int(len(name_string)//2)\n",
        "    new_name_string[middle_index] = \"*\"\n",
        "    print(\"\".join(new_name_string))\n",
        "else:\n",
        "    middle_index1,middle_index2 = len(name_string)//2- 1, len(name_string)//2\n",
        "    new_name_string[middle_index1:middle_index2+1] = \"**\"\n",
        "    print(\"\".join(new_name_string))"
      ],
      "metadata": {
        "colab": {
          "base_uri": "https://localhost:8080/",
          "height": 236
        },
        "id": "SroUT6cHhKXp",
        "outputId": "c673dbf1-29ff-41b2-b51b-688c9c747688"
      },
      "execution_count": 104,
      "outputs": [
        {
          "output_type": "error",
          "ename": "TypeError",
          "evalue": "ignored",
          "traceback": [
            "\u001b[0;31m---------------------------------------------------------------------------\u001b[0m",
            "\u001b[0;31mTypeError\u001b[0m                                 Traceback (most recent call last)",
            "\u001b[0;32m<ipython-input-104-bc98dffef459>\u001b[0m in \u001b[0;36m<cell line: 1>\u001b[0;34m()\u001b[0m\n\u001b[0;32m----> 1\u001b[0;31m \u001b[0mname_string\u001b[0m \u001b[0;34m=\u001b[0m \u001b[0minput\u001b[0m\u001b[0;34m(\u001b[0m\u001b[0;34m)\u001b[0m\u001b[0;34m\u001b[0m\u001b[0;34m\u001b[0m\u001b[0m\n\u001b[0m\u001b[1;32m      2\u001b[0m \u001b[0mnew_name_string\u001b[0m \u001b[0;34m=\u001b[0m \u001b[0mlist\u001b[0m\u001b[0;34m(\u001b[0m\u001b[0mname_string\u001b[0m\u001b[0;34m)\u001b[0m\u001b[0;34m\u001b[0m\u001b[0;34m\u001b[0m\u001b[0m\n\u001b[1;32m      3\u001b[0m \u001b[0;32mif\u001b[0m \u001b[0mlen\u001b[0m\u001b[0;34m(\u001b[0m\u001b[0mname_string\u001b[0m\u001b[0;34m)\u001b[0m\u001b[0;34m%\u001b[0m \u001b[0;36m2\u001b[0m \u001b[0;34m!=\u001b[0m \u001b[0;36m0\u001b[0m \u001b[0;32mor\u001b[0m \u001b[0mlen\u001b[0m\u001b[0;34m(\u001b[0m\u001b[0mname_string\u001b[0m\u001b[0;34m)\u001b[0m \u001b[0;34m==\u001b[0m \u001b[0;36m1\u001b[0m\u001b[0;34m:\u001b[0m\u001b[0;34m\u001b[0m\u001b[0;34m\u001b[0m\u001b[0m\n\u001b[1;32m      4\u001b[0m     \u001b[0mmiddle_index\u001b[0m \u001b[0;34m=\u001b[0m \u001b[0mint\u001b[0m\u001b[0;34m(\u001b[0m\u001b[0mlen\u001b[0m\u001b[0;34m(\u001b[0m\u001b[0mname_string\u001b[0m\u001b[0;34m)\u001b[0m\u001b[0;34m//\u001b[0m\u001b[0;36m2\u001b[0m\u001b[0;34m)\u001b[0m\u001b[0;34m\u001b[0m\u001b[0;34m\u001b[0m\u001b[0m\n\u001b[1;32m      5\u001b[0m     \u001b[0mnew_name_string\u001b[0m\u001b[0;34m[\u001b[0m\u001b[0mmiddle_index\u001b[0m\u001b[0;34m]\u001b[0m \u001b[0;34m=\u001b[0m \u001b[0;34m\"*\"\u001b[0m\u001b[0;34m\u001b[0m\u001b[0;34m\u001b[0m\u001b[0m\n",
            "\u001b[0;31mTypeError\u001b[0m: 'int' object is not callable"
          ]
        }
      ]
    },
    {
      "cell_type": "markdown",
      "source": [
        "26.# write a program that calculates miles per gallon\n",
        "# from vehicle having miles driven before a refuel by \n",
        "# gallons of gas the tank holds."
      ],
      "metadata": {
        "id": "HBsmqa12hi3c"
      }
    },
    {
      "cell_type": "code",
      "source": [
        "from random import randint\n",
        "def calculate_miles_per_gallons(gallons:int,miles:int):\n",
        "  \"\"\"approximates number of miles per gallon that a car gets\"\"\"\n",
        "  return miles//gallons\n",
        "\n",
        "gallons = randint(10, 25)\n",
        "miles = randint(200, 400)\n",
        "print(\"enter gallons of gas that fuel tank holds :\"+str(gallons))\n",
        "print(\"enter miles driven before a needing a refuel :\"+str(miles))\n",
        "print(\"miles per gallon calculated is \"+ str(calculate_miles_per_gallons(gallons,miles)) +\".\")"
      ],
      "metadata": {
        "colab": {
          "base_uri": "https://localhost:8080/"
        },
        "id": "RWbsRcbshcJC",
        "outputId": "9e87c19e-9677-43d4-d022-29c7f27166c9"
      },
      "execution_count": 105,
      "outputs": [
        {
          "output_type": "stream",
          "name": "stdout",
          "text": [
            "enter gallons of gas that fuel tank holds :16\n",
            "enter miles driven before a needing a refuel :230\n",
            "miles per gallon calculated is 14.\n"
          ]
        }
      ]
    },
    {
      "cell_type": "markdown",
      "source": [
        "27.# grade determiner to determine grades of class students"
      ],
      "metadata": {
        "id": "gpuwXE6nhzsk"
      }
    },
    {
      "cell_type": "code",
      "source": [
        "def determine_grade(score:int):\n",
        "    \"\"\"determine grade of students basis on marks via rules- \n",
        "    score >= 90 : grade A\n",
        "    score >= 80 and score < 90 : grade B\n",
        "    score >= 70 and score < 80 : grade C\n",
        "    score >= 60 and score < 70 : grade D\n",
        "    if any student do not fall in above rules then he/she will be failed\"\"\"\n",
        "    if score >= 90:\n",
        "        print(\"Grade A\")\n",
        "    elif score >= 80 and score < 90:\n",
        "        print(\"Grade B\")\n",
        "    elif score >= 70 and score < 80:\n",
        "        print(\"Grade C\")\n",
        "    elif score >= 60 and score < 70:\n",
        "        print(\"Grade D\")\n",
        "    else:\n",
        "        print(\"Grade F\")\n",
        "\n",
        "score = int(input(\"enter your score :\"))\n",
        "determine_grade(score)"
      ],
      "metadata": {
        "colab": {
          "base_uri": "https://localhost:8080/",
          "height": 218
        },
        "id": "AuaovfkxhpZH",
        "outputId": "8873f220-8dec-4d5b-fcca-1cbef2519812"
      },
      "execution_count": 107,
      "outputs": [
        {
          "output_type": "error",
          "ename": "TypeError",
          "evalue": "ignored",
          "traceback": [
            "\u001b[0;31m---------------------------------------------------------------------------\u001b[0m",
            "\u001b[0;31mTypeError\u001b[0m                                 Traceback (most recent call last)",
            "\u001b[0;32m<ipython-input-107-a6a928f8a732>\u001b[0m in \u001b[0;36m<cell line: 19>\u001b[0;34m()\u001b[0m\n\u001b[1;32m     17\u001b[0m         \u001b[0mprint\u001b[0m\u001b[0;34m(\u001b[0m\u001b[0;34m\"Grade F\"\u001b[0m\u001b[0;34m)\u001b[0m\u001b[0;34m\u001b[0m\u001b[0;34m\u001b[0m\u001b[0m\n\u001b[1;32m     18\u001b[0m \u001b[0;34m\u001b[0m\u001b[0m\n\u001b[0;32m---> 19\u001b[0;31m \u001b[0mscore\u001b[0m \u001b[0;34m=\u001b[0m \u001b[0minput\u001b[0m\u001b[0;34m(\u001b[0m\u001b[0;34m\"enter your score :\"\u001b[0m\u001b[0;34m)\u001b[0m\u001b[0;34m\u001b[0m\u001b[0;34m\u001b[0m\u001b[0m\n\u001b[0m\u001b[1;32m     20\u001b[0m \u001b[0mdetermine_grade\u001b[0m\u001b[0;34m(\u001b[0m\u001b[0mscore\u001b[0m\u001b[0;34m)\u001b[0m\u001b[0;34m\u001b[0m\u001b[0;34m\u001b[0m\u001b[0m\n",
            "\u001b[0;31mTypeError\u001b[0m: 'int' object is not callable"
          ]
        }
      ]
    },
    {
      "cell_type": "markdown",
      "source": [
        "28.# create roman numeral system from a given english numeral system from 1 to 10\n",
        "# for example 9 can be represented as IX."
      ],
      "metadata": {
        "id": "Z3pFGImEiHXd"
      }
    },
    {
      "cell_type": "code",
      "source": [
        "def convert_english_numeral_to_roman(one_to_ten:int):   \n",
        "    \"\"\"given a english numeral from 1 to 10 at random, convert the same to its roman \n",
        "    numeral representation. for instance romal numeral of 9 would be IX\"\"\"\n",
        "    if one_to_ten == 1:\n",
        "        print(\"The roman numeral equivalent of \" + str(one_to_ten) + \" is I.\")\n",
        "    elif one_to_ten == 2:\n",
        "        print(\"The roman numeral equivalent of \" + str(one_to_ten) + \" is II.\")\n",
        "    elif one_to_ten == 3:\n",
        "        print(\"The roman numeral equivalent of \" + str(one_to_ten) + \" is III.\")\n",
        "    elif one_to_ten == 4:\n",
        "        print(\"The roman numeral equivalent of \" + str(one_to_ten) + \" is IV.\")\n",
        "    elif one_to_ten == 5:\n",
        "        print(\"The roman numeral equivalent of \" + str(one_to_ten) + \" is V.\")\n",
        "    elif one_to_ten == 6:\n",
        "        print(\"The roman numeral equivalent of \" + str(one_to_ten) + \" is VI.\")\n",
        "    elif one_to_ten == 7:\n",
        "        print(\"The roman numeral equivalent of \" + str(one_to_ten) + \" is VII.\")\n",
        "    elif one_to_ten == 8:\n",
        "        print(\"The roman numeral equivalent of \" + str(one_to_ten) + \" is VIII.\")\n",
        "    elif one_to_ten == 9:\n",
        "        print(\"The roman numeral equivalent of \" + str(one_to_ten) + \" is IX.\")\n",
        "    else:\n",
        "        print(\"The roman numeral equivalent of \" + str(one_to_ten) + \" is X.\")\n",
        "one_to_ten = randint(1, 10)\n",
        "convert_english_numeral_to_roman(one_to_ten)"
      ],
      "metadata": {
        "colab": {
          "base_uri": "https://localhost:8080/"
        },
        "id": "AIRRqX9Kh4X1",
        "outputId": "220d285f-96ca-4bd7-8363-c928cdf5db42"
      },
      "execution_count": 108,
      "outputs": [
        {
          "output_type": "stream",
          "name": "stdout",
          "text": [
            "The roman numeral equivalent of 5 is V.\n"
          ]
        }
      ]
    },
    {
      "cell_type": "markdown",
      "source": [
        "29.# while loop exercises"
      ],
      "metadata": {
        "id": "hN6NReCgia91"
      }
    },
    {
      "cell_type": "code",
      "source": [
        "counter = 10\n",
        "while counter <= 10:\n",
        "    print(counter)\n",
        "    counter -= 1\n",
        "    if counter == 0:\n",
        "        break"
      ],
      "metadata": {
        "colab": {
          "base_uri": "https://localhost:8080/"
        },
        "id": "4KDg6shbiRr5",
        "outputId": "ea7bb6a3-53b2-4ac1-c8da-742102243088"
      },
      "execution_count": 109,
      "outputs": [
        {
          "output_type": "stream",
          "name": "stdout",
          "text": [
            "10\n",
            "9\n",
            "8\n",
            "7\n",
            "6\n",
            "5\n",
            "4\n",
            "3\n",
            "2\n",
            "1\n"
          ]
        }
      ]
    },
    {
      "cell_type": "markdown",
      "source": [
        "30.# another approach"
      ],
      "metadata": {
        "id": "axyAdmJnigjd"
      }
    },
    {
      "cell_type": "code",
      "source": [
        "counter = int(input(\"enter a number: \"))\n",
        "sum = 0\n",
        "while counter != 0:\n",
        "    sum += counter\n",
        "    counter -= 1\n",
        "print(\"total of sum: \"+str(sum))"
      ],
      "metadata": {
        "colab": {
          "base_uri": "https://localhost:8080/",
          "height": 236
        },
        "id": "Lk7r7lgVieV-",
        "outputId": "b2e46b4c-04c4-42fd-e7f4-c50703e6cec7"
      },
      "execution_count": 110,
      "outputs": [
        {
          "output_type": "error",
          "ename": "TypeError",
          "evalue": "ignored",
          "traceback": [
            "\u001b[0;31m---------------------------------------------------------------------------\u001b[0m",
            "\u001b[0;31mTypeError\u001b[0m                                 Traceback (most recent call last)",
            "\u001b[0;32m<ipython-input-110-f039778613c0>\u001b[0m in \u001b[0;36m<cell line: 1>\u001b[0;34m()\u001b[0m\n\u001b[0;32m----> 1\u001b[0;31m \u001b[0mcounter\u001b[0m \u001b[0;34m=\u001b[0m \u001b[0mint\u001b[0m\u001b[0;34m(\u001b[0m\u001b[0minput\u001b[0m\u001b[0;34m(\u001b[0m\u001b[0;34m\"enter a number: \"\u001b[0m\u001b[0;34m)\u001b[0m\u001b[0;34m)\u001b[0m\u001b[0;34m\u001b[0m\u001b[0;34m\u001b[0m\u001b[0m\n\u001b[0m\u001b[1;32m      2\u001b[0m \u001b[0msum\u001b[0m \u001b[0;34m=\u001b[0m \u001b[0;36m0\u001b[0m\u001b[0;34m\u001b[0m\u001b[0;34m\u001b[0m\u001b[0m\n\u001b[1;32m      3\u001b[0m \u001b[0;32mwhile\u001b[0m \u001b[0mcounter\u001b[0m \u001b[0;34m!=\u001b[0m \u001b[0;36m0\u001b[0m\u001b[0;34m:\u001b[0m\u001b[0;34m\u001b[0m\u001b[0;34m\u001b[0m\u001b[0m\n\u001b[1;32m      4\u001b[0m     \u001b[0msum\u001b[0m \u001b[0;34m+=\u001b[0m \u001b[0mcounter\u001b[0m\u001b[0;34m\u001b[0m\u001b[0;34m\u001b[0m\u001b[0m\n\u001b[1;32m      5\u001b[0m     \u001b[0mcounter\u001b[0m \u001b[0;34m-=\u001b[0m \u001b[0;36m1\u001b[0m\u001b[0;34m\u001b[0m\u001b[0;34m\u001b[0m\u001b[0m\n",
            "\u001b[0;31mTypeError\u001b[0m: 'int' object is not callable"
          ]
        }
      ]
    },
    {
      "cell_type": "markdown",
      "source": [
        "31.# for loop exercises"
      ],
      "metadata": {
        "id": "81Kl_VG2i5HY"
      }
    },
    {
      "cell_type": "code",
      "source": [
        "word_string = \"hello world\"\n",
        "for letter in word_string:\n",
        "    print(letter)"
      ],
      "metadata": {
        "colab": {
          "base_uri": "https://localhost:8080/"
        },
        "id": "-K4kUX_hiwZ-",
        "outputId": "10c202f5-eb1a-452f-f595-4e3010cc3787"
      },
      "execution_count": 111,
      "outputs": [
        {
          "output_type": "stream",
          "name": "stdout",
          "text": [
            "h\n",
            "e\n",
            "l\n",
            "l\n",
            "o\n",
            " \n",
            "w\n",
            "o\n",
            "r\n",
            "l\n",
            "d\n"
          ]
        }
      ]
    },
    {
      "cell_type": "markdown",
      "source": [
        "32.# find a total length of a given string"
      ],
      "metadata": {
        "id": "KLDmYvFBjDxh"
      }
    },
    {
      "cell_type": "code",
      "source": [
        "input_string = input(\"enter a string: \")\n",
        "counter = 0\n",
        "for letter in input_string:\n",
        "    counter += 1\n",
        "\n",
        "print(input_string)\n",
        "print(counter)"
      ],
      "metadata": {
        "colab": {
          "base_uri": "https://localhost:8080/",
          "height": 236
        },
        "id": "exn_G5BJjARV",
        "outputId": "639e054f-48d5-4511-c287-952b7c68c77c"
      },
      "execution_count": 112,
      "outputs": [
        {
          "output_type": "error",
          "ename": "TypeError",
          "evalue": "ignored",
          "traceback": [
            "\u001b[0;31m---------------------------------------------------------------------------\u001b[0m",
            "\u001b[0;31mTypeError\u001b[0m                                 Traceback (most recent call last)",
            "\u001b[0;32m<ipython-input-112-8d46458379df>\u001b[0m in \u001b[0;36m<cell line: 1>\u001b[0;34m()\u001b[0m\n\u001b[0;32m----> 1\u001b[0;31m \u001b[0minput_string\u001b[0m \u001b[0;34m=\u001b[0m \u001b[0minput\u001b[0m\u001b[0;34m(\u001b[0m\u001b[0;34m\"enter a string: \"\u001b[0m\u001b[0;34m)\u001b[0m\u001b[0;34m\u001b[0m\u001b[0;34m\u001b[0m\u001b[0m\n\u001b[0m\u001b[1;32m      2\u001b[0m \u001b[0mcounter\u001b[0m \u001b[0;34m=\u001b[0m \u001b[0;36m0\u001b[0m\u001b[0;34m\u001b[0m\u001b[0;34m\u001b[0m\u001b[0m\n\u001b[1;32m      3\u001b[0m \u001b[0;32mfor\u001b[0m \u001b[0mletter\u001b[0m \u001b[0;32min\u001b[0m \u001b[0minput_string\u001b[0m\u001b[0;34m:\u001b[0m\u001b[0;34m\u001b[0m\u001b[0;34m\u001b[0m\u001b[0m\n\u001b[1;32m      4\u001b[0m     \u001b[0mcounter\u001b[0m \u001b[0;34m+=\u001b[0m \u001b[0;36m1\u001b[0m\u001b[0;34m\u001b[0m\u001b[0;34m\u001b[0m\u001b[0m\n\u001b[1;32m      5\u001b[0m \u001b[0;34m\u001b[0m\u001b[0m\n",
            "\u001b[0;31mTypeError\u001b[0m: 'int' object is not callable"
          ]
        }
      ]
    },
    {
      "cell_type": "markdown",
      "source": [
        "33.# write a program that iterates over 1 to 50\n",
        "# if numbers that are multiple of 3 and 5 print 3Buzz5\n",
        "# if numbers that are multiple of 3 but not 5 print 3Buzz\n",
        "# if numbers that are multiple of 5 but not 3 print 5Buzz\n",
        "# for numbers tht are not a multiple of 3 or 5 print 3NoBuzzNo5"
      ],
      "metadata": {
        "id": "uO4tkiyIjPvJ"
      }
    },
    {
      "cell_type": "code",
      "source": [
        "def multiple_of_3and5(range_int):\n",
        "    \"\"\"return designated outputs if a given number is multple of 3 and 5\"\"\"\n",
        "    for num in range_int:\n",
        "        if num % 3 == 0 and num % 5 == 0:\n",
        "            print(num, \"3Buzz5\")\n",
        "        elif num % 3 == 0 and num % 5 !=0:\n",
        "            print(num, \"3Buzz\")\n",
        "        elif num % 3 != 0 and num % 5 == 0:\n",
        "            print(num, \"5Buzz\")\n",
        "        else:\n",
        "            print(num, \"3NoBuzzNo5\")\n",
        "            \n",
        "range_int = range(1,51)\n",
        "multiple_of_3and5(range_int)"
      ],
      "metadata": {
        "colab": {
          "base_uri": "https://localhost:8080/"
        },
        "id": "BJboLzFTjH8h",
        "outputId": "fd994060-88d2-4cd6-c5b6-fe6cacf446fd"
      },
      "execution_count": 113,
      "outputs": [
        {
          "output_type": "stream",
          "name": "stdout",
          "text": [
            "1 3NoBuzzNo5\n",
            "2 3NoBuzzNo5\n",
            "3 3Buzz\n",
            "4 3NoBuzzNo5\n",
            "5 5Buzz\n",
            "6 3Buzz\n",
            "7 3NoBuzzNo5\n",
            "8 3NoBuzzNo5\n",
            "9 3Buzz\n",
            "10 5Buzz\n",
            "11 3NoBuzzNo5\n",
            "12 3Buzz\n",
            "13 3NoBuzzNo5\n",
            "14 3NoBuzzNo5\n",
            "15 3Buzz5\n",
            "16 3NoBuzzNo5\n",
            "17 3NoBuzzNo5\n",
            "18 3Buzz\n",
            "19 3NoBuzzNo5\n",
            "20 5Buzz\n",
            "21 3Buzz\n",
            "22 3NoBuzzNo5\n",
            "23 3NoBuzzNo5\n",
            "24 3Buzz\n",
            "25 5Buzz\n",
            "26 3NoBuzzNo5\n",
            "27 3Buzz\n",
            "28 3NoBuzzNo5\n",
            "29 3NoBuzzNo5\n",
            "30 3Buzz5\n",
            "31 3NoBuzzNo5\n",
            "32 3NoBuzzNo5\n",
            "33 3Buzz\n",
            "34 3NoBuzzNo5\n",
            "35 5Buzz\n",
            "36 3Buzz\n",
            "37 3NoBuzzNo5\n",
            "38 3NoBuzzNo5\n",
            "39 3Buzz\n",
            "40 5Buzz\n",
            "41 3NoBuzzNo5\n",
            "42 3Buzz\n",
            "43 3NoBuzzNo5\n",
            "44 3NoBuzzNo5\n",
            "45 3Buzz5\n",
            "46 3NoBuzzNo5\n",
            "47 3NoBuzzNo5\n",
            "48 3Buzz\n",
            "49 3NoBuzzNo5\n",
            "50 5Buzz\n"
          ]
        }
      ]
    },
    {
      "cell_type": "markdown",
      "source": [
        "34.# given a number find its factorial\n",
        "# to verify that function is working as intended\n",
        "# an input of 3 would give 6, 4 would give 20 as output\n",
        "# and so on."
      ],
      "metadata": {
        "id": "AHqbIZosjgnS"
      }
    },
    {
      "cell_type": "code",
      "source": [
        "def find_factorial_of_number(fact_number):\n",
        "    \n",
        "    \"\"\"given a number find its factorial which is multiplication of \n",
        "    same number to 1. for instance factorial of 3 is 3*2*1=6\"\"\"\n",
        "    factorial = 1\n",
        "    for num in range(fact_number, 1, -1):\n",
        "        factorial *= num\n",
        "    return factorial if fact_number > 1 else 1\n",
        "\n",
        "input_number = int(input(\"enter a number: \"))\n",
        "find_factorial_of_number(input_number)\n"
      ],
      "metadata": {
        "colab": {
          "base_uri": "https://localhost:8080/",
          "height": 218
        },
        "id": "-V93KFi1jUKt",
        "outputId": "af5c5fc0-e09e-405a-dd07-4bef9cbfd0f8"
      },
      "execution_count": 114,
      "outputs": [
        {
          "output_type": "error",
          "ename": "TypeError",
          "evalue": "ignored",
          "traceback": [
            "\u001b[0;31m---------------------------------------------------------------------------\u001b[0m",
            "\u001b[0;31mTypeError\u001b[0m                                 Traceback (most recent call last)",
            "\u001b[0;32m<ipython-input-114-982b2f48313d>\u001b[0m in \u001b[0;36m<cell line: 10>\u001b[0;34m()\u001b[0m\n\u001b[1;32m      8\u001b[0m     \u001b[0;32mreturn\u001b[0m \u001b[0mfactorial\u001b[0m \u001b[0;32mif\u001b[0m \u001b[0mfact_number\u001b[0m \u001b[0;34m>\u001b[0m \u001b[0;36m1\u001b[0m \u001b[0;32melse\u001b[0m \u001b[0;36m1\u001b[0m\u001b[0;34m\u001b[0m\u001b[0;34m\u001b[0m\u001b[0m\n\u001b[1;32m      9\u001b[0m \u001b[0;34m\u001b[0m\u001b[0m\n\u001b[0;32m---> 10\u001b[0;31m \u001b[0minput_number\u001b[0m \u001b[0;34m=\u001b[0m \u001b[0mint\u001b[0m\u001b[0;34m(\u001b[0m\u001b[0minput\u001b[0m\u001b[0;34m(\u001b[0m\u001b[0;34m\"enter a number: \"\u001b[0m\u001b[0;34m)\u001b[0m\u001b[0;34m)\u001b[0m\u001b[0;34m\u001b[0m\u001b[0;34m\u001b[0m\u001b[0m\n\u001b[0m\u001b[1;32m     11\u001b[0m \u001b[0mfind_factorial_of_number\u001b[0m\u001b[0;34m(\u001b[0m\u001b[0minput_number\u001b[0m\u001b[0;34m)\u001b[0m\u001b[0;34m\u001b[0m\u001b[0;34m\u001b[0m\u001b[0m\n",
            "\u001b[0;31mTypeError\u001b[0m: 'int' object is not callable"
          ]
        }
      ]
    },
    {
      "cell_type": "markdown",
      "source": [
        "35.# using recurssion also works"
      ],
      "metadata": {
        "id": "CgPA1CFRjoK8"
      }
    },
    {
      "cell_type": "code",
      "source": [
        "def fact_recurssion(fact_num):\n",
        "    \"\"\"factorial of a number using recurssion\"\"\"\n",
        "    if fact_num == 0 or fact_num == 1:\n",
        "        return 1\n",
        "    if fact_num > 1:\n",
        "        return fact_num * fact_recurssion(fact_num - 1)\n",
        "    \n",
        "fact_recurssion(5) # will print 120, test it\n"
      ],
      "metadata": {
        "colab": {
          "base_uri": "https://localhost:8080/"
        },
        "id": "HlvfP9xkjmNO",
        "outputId": "24614890-420f-400f-d270-93a05e68a84e"
      },
      "execution_count": 115,
      "outputs": [
        {
          "output_type": "execute_result",
          "data": {
            "text/plain": [
              "120"
            ]
          },
          "metadata": {},
          "execution_count": 115
        }
      ]
    },
    {
      "cell_type": "markdown",
      "source": [
        "36.# program to demonstrate all string methods"
      ],
      "metadata": {
        "id": "874F6OYhkOEL"
      }
    },
    {
      "cell_type": "code",
      "source": [
        "def check_string_method_exercise(string_case:str):\n",
        "    \"\"\"verify all string methods given in a string\"\"\"\n",
        "    if string_case == \"\":\n",
        "        return False\n",
        "    if string_case.isupper():\n",
        "        return string_case.upper()\n",
        "    if string_case.islower():\n",
        "        return string_case.lower()\n",
        "    print(string_case.upper())\n",
        "    if string_case.istitle():\n",
        "        title_case = string_case.title()\n",
        "        return title_case\n",
        "    if string_case.startswith(\"A Song\"):\n",
        "        return string_case\n",
        "    if string_case.endswith(\"Fire\"):\n",
        "        return string_case\n",
        "    words = string_case.split()\n",
        "    print(words)\n",
        "    words = \"\".join(words)\n",
        "    if words.isalpha():\n",
        "        return words\n",
        "check_string_method_exercise(\"The song of Bryan Adams\")"
      ],
      "metadata": {
        "colab": {
          "base_uri": "https://localhost:8080/",
          "height": 70
        },
        "id": "RHNjkSapjwBy",
        "outputId": "bafec880-2d6b-41af-cc54-28c40e530c09"
      },
      "execution_count": 116,
      "outputs": [
        {
          "output_type": "stream",
          "name": "stdout",
          "text": [
            "THE SONG OF BRYAN ADAMS\n",
            "['The', 'song', 'of', 'Bryan', 'Adams']\n"
          ]
        },
        {
          "output_type": "execute_result",
          "data": {
            "text/plain": [
              "'ThesongofBryanAdams'"
            ],
            "application/vnd.google.colaboratory.intrinsic+json": {
              "type": "string"
            }
          },
          "metadata": {},
          "execution_count": 116
        }
      ]
    },
    {
      "cell_type": "markdown",
      "source": [
        "37.# program to demonstrate all string methods\n",
        "# without conditionals if else statements\n",
        "# easy to get along with all string methods"
      ],
      "metadata": {
        "id": "m3aFyc_Akf4y"
      }
    },
    {
      "cell_type": "code",
      "source": [
        "def check_string_method_exercise(string_case:str):\n",
        "    \n",
        "    \"\"\"verify all string methods given in a string\"\"\"\n",
        "    if string_case == \"\":\n",
        "        return False\n",
        "    print(string_case.isupper())\n",
        "    print(string_case.islower())\n",
        "    print(string_case.upper())\n",
        "    print(string_case.lower())\n",
        "    print(string_case.istitle())\n",
        "    title_case = string_case.title()\n",
        "    print(title_case)\n",
        "    print(string_case.startswith(\"The song\"))\n",
        "    print(string_case.endswith(\"Adams\"))\n",
        "    words = string_case.split()\n",
        "    print(words)\n",
        "    print(\"\".join(words).isalpha())\n",
        "\n",
        "check_string_method_exercise(\"The song of Bryan Adams\")"
      ],
      "metadata": {
        "colab": {
          "base_uri": "https://localhost:8080/"
        },
        "id": "_vjDKXVjkUhu",
        "outputId": "4bd65646-1609-4cd7-e4e0-59976723bc91"
      },
      "execution_count": 117,
      "outputs": [
        {
          "output_type": "stream",
          "name": "stdout",
          "text": [
            "False\n",
            "False\n",
            "THE SONG OF BRYAN ADAMS\n",
            "the song of bryan adams\n",
            "False\n",
            "The Song Of Bryan Adams\n",
            "True\n",
            "True\n",
            "['The', 'song', 'of', 'Bryan', 'Adams']\n",
            "True\n"
          ]
        }
      ]
    },
    {
      "cell_type": "markdown",
      "source": [
        "37.\n",
        "# extended string methods\n",
        "# rjust(),ljust(),center(),rstrip(),lstrip(),strip(),replace()"
      ],
      "metadata": {
        "id": "TRA4IPR6kusX"
      }
    },
    {
      "cell_type": "code",
      "source": [
        "def check_string_method_extended_exercise(the_string:str):\n",
        "    \n",
        "    \"\"\"check string methods rjust,ljust,center,strip,lstrip,rstrip\n",
        "    methods names ends with () as mentioned above, in this case we skipped it\"\"\"\n",
        "    print(the_string.rjust(17))\n",
        "    print(the_string.ljust(17,\"*\"))\n",
        "    center_plus = the_string.center(16, \"+\")\n",
        "    print(center_plus)\n",
        "    print(the_string.lstrip(\"North\"))\n",
        "    print(the_string.rstrip(\"+\"))\n",
        "    print(the_string.strip(\"+\"))\n",
        "    print(the_string.replace(\"North\",\"South\"))\n",
        "    "
      ],
      "metadata": {
        "id": "yIIbLWaFkoTS"
      },
      "execution_count": 118,
      "outputs": []
    },
    {
      "cell_type": "markdown",
      "source": [
        "38.# reversed string,given an input \"debi\", \"ibed\" will be returned\n",
        "# in case of empty string return False"
      ],
      "metadata": {
        "id": "ek6gGv98k871"
      }
    },
    {
      "cell_type": "code",
      "source": [
        "def reverse_string(name_str:str):\n",
        "    \"\"\"given a string find its reverse\"\"\"\n",
        "    if name_str == \"\":\n",
        "        return False\n",
        "    reversed_string = \"\"\n",
        "    for char in range(len(name_str)-1, -1, -1):\n",
        "        reversed_string += name_str[char]\n",
        "    return reversed_string"
      ],
      "metadata": {
        "id": "mp4OwVfRk0Cw"
      },
      "execution_count": 119,
      "outputs": []
    },
    {
      "cell_type": "markdown",
      "source": [
        "39.# word count program that will return number of words \n",
        "# in a list and total number of words"
      ],
      "metadata": {
        "id": "Q6unBpGUlMnY"
      }
    },
    {
      "cell_type": "code",
      "source": [
        "def count_words(input_str:str):\n",
        "    \"\"\"given a multiline string return words and number of words\"\"\"\n",
        "    if input_str == \"\":\n",
        "        return False\n",
        "    # try to place junk characters at once\n",
        "    reserved_space_and_letters = \"\"\n",
        "    for char in input_str:\n",
        "        if char.isalnum() or char.isspace() or char == \"-\" or char == \"'\":\n",
        "                                                reserved_space_and_letters += char\n",
        "    # split into words -- as list\n",
        "    words = reserved_space_and_letters.split()\n",
        "    # get the number of words\n",
        "    number_of_words = len(words)\n",
        "    return words,number_of_words\n",
        "\n",
        "input_string = input()\n",
        "count_words(input_str)"
      ],
      "metadata": {
        "colab": {
          "base_uri": "https://localhost:8080/",
          "height": 218
        },
        "id": "UObfYmUrlG_U",
        "outputId": "bf7fefbc-1f83-4628-e7c2-c3a92d765462"
      },
      "execution_count": 121,
      "outputs": [
        {
          "output_type": "error",
          "ename": "TypeError",
          "evalue": "ignored",
          "traceback": [
            "\u001b[0;31m---------------------------------------------------------------------------\u001b[0m",
            "\u001b[0;31mTypeError\u001b[0m                                 Traceback (most recent call last)",
            "\u001b[0;32m<ipython-input-121-5d233716ac9d>\u001b[0m in \u001b[0;36m<cell line: 16>\u001b[0;34m()\u001b[0m\n\u001b[1;32m     14\u001b[0m     \u001b[0;32mreturn\u001b[0m \u001b[0mwords\u001b[0m\u001b[0;34m,\u001b[0m\u001b[0mnumber_of_words\u001b[0m\u001b[0;34m\u001b[0m\u001b[0;34m\u001b[0m\u001b[0m\n\u001b[1;32m     15\u001b[0m \u001b[0;34m\u001b[0m\u001b[0m\n\u001b[0;32m---> 16\u001b[0;31m \u001b[0minput_string\u001b[0m \u001b[0;34m=\u001b[0m \u001b[0minput\u001b[0m\u001b[0;34m(\u001b[0m\u001b[0;34m)\u001b[0m\u001b[0;34m\u001b[0m\u001b[0;34m\u001b[0m\u001b[0m\n\u001b[0m\u001b[1;32m     17\u001b[0m \u001b[0mcount_words\u001b[0m\u001b[0;34m(\u001b[0m\u001b[0minput_str\u001b[0m\u001b[0;34m)\u001b[0m\u001b[0;34m\u001b[0m\u001b[0;34m\u001b[0m\u001b[0m\n",
            "\u001b[0;31mTypeError\u001b[0m: 'int' object is not callable"
          ]
        }
      ]
    },
    {
      "cell_type": "code",
      "source": [],
      "metadata": {
        "id": "VmedbvYHlSTH"
      },
      "execution_count": null,
      "outputs": []
    }
  ]
}