{
  "nbformat": 4,
  "nbformat_minor": 0,
  "metadata": {
    "colab": {
      "provenance": []
    },
    "kernelspec": {
      "name": "python3",
      "display_name": "Python 3"
    },
    "language_info": {
      "name": "python"
    }
  },
  "cells": [
    {
      "cell_type": "markdown",
      "source": [
        "Python enumerate() built-in-function"
      ],
      "metadata": {
        "id": "JTmkqprZY1Oz"
      }
    },
    {
      "cell_type": "markdown",
      "source": [
        "\n",
        "In this tutorial let us understand the enumerate built-in-function in python."
      ],
      "metadata": {
        "id": "HJ4PZTy9Y5r7"
      }
    },
    {
      "cell_type": "markdown",
      "source": [
        "Definition\n",
        "\n",
        "An enumerator built-in-function adds a counter of iterable numbers to the provided data structure of integers, characters or strings and many more. Now the data structure might be any list, tuple, dictionary or sets. If the counter is not provided by the user, then it starts from 0 by default. Based on the number provided the enumerator function iterates."
      ],
      "metadata": {
        "id": "6UkCOzdNZKZS"
      }
    },
    {
      "cell_type": "markdown",
      "source": [
        "\n",
        "Syntax\n",
        "\n",
        "The syntax of the enumerator built-in-function is as shown below:\n",
        "\n",
        "enumerate(iterable, start)\n",
        "\n"
      ],
      "metadata": {
        "id": "oc_b3c1-ZOQd"
      }
    },
    {
      "cell_type": "markdown",
      "source": [
        "\n",
        "Parameters\n",
        "\n",
        "The parameters of the enumerator function are iterable and start.\n",
        "\n",
        "    iterable: This is the name of the data structure that wish to iterate.\n",
        "    start: This is the number where you want to start iterating the counter.\n",
        "\n",
        "    *Note: The iterable must be an object that supports iteration.*\n",
        "\n",
        "If you are curious to know the actual syntax of the enumerate function just type help(enumerate) on your IDE and then you will get the following result. Because you need to know this stuff.\n"
      ],
      "metadata": {
        "id": "SSYUq50Ta-oZ"
      }
    },
    {
      "cell_type": "code",
      "execution_count": 1,
      "metadata": {
        "colab": {
          "base_uri": "https://localhost:8080/"
        },
        "id": "YI8UnE1PYqM1",
        "outputId": "d5eb39ad-7ae2-46c4-e7ce-be59a8fe7ff3"
      },
      "outputs": [
        {
          "output_type": "stream",
          "name": "stdout",
          "text": [
            "Help on class enumerate in module builtins:\n",
            "\n",
            "class enumerate(object)\n",
            " |  enumerate(iterable, start=0)\n",
            " |  \n",
            " |  Return an enumerate object.\n",
            " |  \n",
            " |    iterable\n",
            " |      an object supporting iteration\n",
            " |  \n",
            " |  The enumerate object yields pairs containing a count (from start, which\n",
            " |  defaults to zero) and a value yielded by the iterable argument.\n",
            " |  \n",
            " |  enumerate is useful for obtaining an indexed list:\n",
            " |      (0, seq[0]), (1, seq[1]), (2, seq[2]), ...\n",
            " |  \n",
            " |  Methods defined here:\n",
            " |  \n",
            " |  __getattribute__(self, name, /)\n",
            " |      Return getattr(self, name).\n",
            " |  \n",
            " |  __iter__(self, /)\n",
            " |      Implement iter(self).\n",
            " |  \n",
            " |  __next__(self, /)\n",
            " |      Implement next(self).\n",
            " |  \n",
            " |  __reduce__(...)\n",
            " |      Return state information for pickling.\n",
            " |  \n",
            " |  ----------------------------------------------------------------------\n",
            " |  Class methods defined here:\n",
            " |  \n",
            " |  __class_getitem__(...) from builtins.type\n",
            " |      See PEP 585\n",
            " |  \n",
            " |  ----------------------------------------------------------------------\n",
            " |  Static methods defined here:\n",
            " |  \n",
            " |  __new__(*args, **kwargs) from builtins.type\n",
            " |      Create and return a new object.  See help(type) for accurate signature.\n",
            "\n"
          ]
        }
      ],
      "source": [
        "\n",
        "help(enumerate)"
      ]
    },
    {
      "cell_type": "markdown",
      "source": [
        "\n",
        "Return Type\n",
        "\n",
        "The return type of an enumerate function is an object type. So the enumerate function returns an object by adding the iterating counter value to it. You can also convert the enumerator object into a list(), tuple(), set() and many more.\n",
        "\n",
        "Let us see an example and understand the enumerate function.\n"
      ],
      "metadata": {
        "id": "gX9f0j0qbNvh"
      }
    },
    {
      "cell_type": "code",
      "source": [
        "programmming = [\"Python\", \"Programmming\", \"Is\", \"Fun\"]\n",
        "print(type(programmming))\n",
        "enum = enumerate(programmming)\n",
        "print(type(enum))"
      ],
      "metadata": {
        "colab": {
          "base_uri": "https://localhost:8080/"
        },
        "id": "peR37WrQbCzI",
        "outputId": "8cdca08f-9e65-4149-b363-2ce0086c0314"
      },
      "execution_count": 2,
      "outputs": [
        {
          "output_type": "stream",
          "name": "stdout",
          "text": [
            "<class 'list'>\n",
            "<class 'enumerate'>\n"
          ]
        }
      ]
    },
    {
      "cell_type": "code",
      "source": [
        "#Converting to a list\n",
        "print(list(enum))\n",
        "     "
      ],
      "metadata": {
        "colab": {
          "base_uri": "https://localhost:8080/"
        },
        "id": "4AnUqxNhbS77",
        "outputId": "0c8ada13-8e6b-4f93-ae7a-d7d711b5ac80"
      },
      "execution_count": 3,
      "outputs": [
        {
          "output_type": "stream",
          "name": "stdout",
          "text": [
            "[(0, 'Python'), (1, 'Programmming'), (2, 'Is'), (3, 'Fun')]\n"
          ]
        }
      ]
    },
    {
      "cell_type": "code",
      "source": [
        "#Converting to a tuple\n",
        "print(tuple(enum))"
      ],
      "metadata": {
        "colab": {
          "base_uri": "https://localhost:8080/"
        },
        "id": "bguYNlnibdFp",
        "outputId": "e103a670-412f-4b8f-ccb7-a73903ea7a6f"
      },
      "execution_count": 4,
      "outputs": [
        {
          "output_type": "stream",
          "name": "stdout",
          "text": [
            "()\n"
          ]
        }
      ]
    },
    {
      "cell_type": "code",
      "source": [
        "#Converting to a set\n",
        "print(set(enum))"
      ],
      "metadata": {
        "colab": {
          "base_uri": "https://localhost:8080/"
        },
        "id": "PCz9Ddq7bisd",
        "outputId": "02c35687-5c52-437d-f319-e5dff896453c"
      },
      "execution_count": 5,
      "outputs": [
        {
          "output_type": "stream",
          "name": "stdout",
          "text": [
            "set()\n"
          ]
        }
      ]
    },
    {
      "cell_type": "markdown",
      "source": [
        "\n",
        "\n",
        "When you run the program you will get the following output:\n",
        "\n",
        "<class 'list'>\n",
        "<class 'enumerate'>\n",
        "[(0, 'Python'), (1, 'Programmming'), (2, 'Is'), (3, 'Fun')]\n",
        "((0, 'Python'), (1, 'Programmming'), (2, 'Is'), (3, 'Fun'))\n",
        "{(3, 'Fun'), (2, 'Is'), (0, 'Python'), (1, 'Programmming')}\n",
        "\n"
      ],
      "metadata": {
        "id": "Pj7KfyPwbwpL"
      }
    },
    {
      "cell_type": "markdown",
      "source": [
        "\n",
        "Optional Arguments\n",
        "\n",
        "Enumerate function also accepts optional arguments, you can also pass the name of the data structure along with the specific index which you want to start the counter from. For example, think that the default value of the list starts from 0 and then the counter continues to iterate. Now you want to start the counter from 5 and then increment it. This can be done as shown below:\n"
      ],
      "metadata": {
        "id": "GgwK58uKb0qt"
      }
    },
    {
      "cell_type": "code",
      "source": [
        "programmming = [\"Python\", \"Programmming\", \"Is\", \"Fun\"]"
      ],
      "metadata": {
        "id": "LXQPaWyfbnyb"
      },
      "execution_count": 6,
      "outputs": []
    },
    {
      "cell_type": "code",
      "source": [
        "# Counter value starts from 0\n",
        "enum = enumerate(programmming)\n",
        "print(list(enum))"
      ],
      "metadata": {
        "colab": {
          "base_uri": "https://localhost:8080/"
        },
        "id": "0-Xpk2ikcDcx",
        "outputId": "3f2d3aec-9b1b-42ec-a849-ed7bace085ba"
      },
      "execution_count": 7,
      "outputs": [
        {
          "output_type": "stream",
          "name": "stdout",
          "text": [
            "[(0, 'Python'), (1, 'Programmming'), (2, 'Is'), (3, 'Fun')]\n"
          ]
        }
      ]
    },
    {
      "cell_type": "code",
      "source": [
        "# Counter value starts from 5\n",
        "enum = enumerate(programmming, 5)\n",
        "print(list(enum))"
      ],
      "metadata": {
        "colab": {
          "base_uri": "https://localhost:8080/"
        },
        "id": "4bzQZaglcHIP",
        "outputId": "8fd034a3-a272-43b4-baee-df70c68758ae"
      },
      "execution_count": 8,
      "outputs": [
        {
          "output_type": "stream",
          "name": "stdout",
          "text": [
            "[(5, 'Python'), (6, 'Programmming'), (7, 'Is'), (8, 'Fun')]\n"
          ]
        }
      ]
    },
    {
      "cell_type": "markdown",
      "source": [
        "\n",
        "Looping Over an Enumerate object\n",
        "\n",
        "Let us see how can we loop over an enumerate as shown below:\n"
      ],
      "metadata": {
        "id": "0W8lRWfscRIu"
      }
    },
    {
      "cell_type": "code",
      "source": [
        "programmming = [\"Python\", \"Programmming\", \"Is\", \"Fun\"]\n",
        "for i in enumerate(programmming):\n",
        "    print(i)\n",
        "for i in enumerate(programmming, 10):\n",
        "    print(i)"
      ],
      "metadata": {
        "colab": {
          "base_uri": "https://localhost:8080/"
        },
        "id": "eeD_x5wfcJw-",
        "outputId": "8b7f2b41-df28-4968-8417-536c7095bc9f"
      },
      "execution_count": 9,
      "outputs": [
        {
          "output_type": "stream",
          "name": "stdout",
          "text": [
            "(0, 'Python')\n",
            "(1, 'Programmming')\n",
            "(2, 'Is')\n",
            "(3, 'Fun')\n",
            "(10, 'Python')\n",
            "(11, 'Programmming')\n",
            "(12, 'Is')\n",
            "(13, 'Fun')\n"
          ]
        }
      ]
    },
    {
      "cell_type": "markdown",
      "source": [
        "\n",
        "\n",
        "When you run the program the output will be:\n",
        "\n",
        "(0, 'Python') \n",
        "(1, 'Programmming') \n",
        "(2, 'Is') \n",
        "(3, 'Fun')\n",
        "\n",
        "(10, 'Python') \n",
        "(11, 'Programmming') \n",
        "(12, 'Is') \n",
        "(13, 'Fun')\n",
        "\n"
      ],
      "metadata": {
        "id": "HeAcXGYvcfzv"
      }
    },
    {
      "cell_type": "markdown",
      "source": [
        "This is the end of the tutorial about *“Python enumerate() built-in-function”*, this is a very short tutorial because this concept is very small and it is not much you can do with it. It is really important to know the concept of Enumerate function so that you can apply this concept elsewhere. To read the official documentation of the enumerate function please go through the link below:\n",
        "\n",
        "Python Enumerate Function\n",
        "\n",
        "Alright time to say Goodbye, Stay tuned to read more python tutorials. I hope you enjoyed reading this tutorial. Have a good day!"
      ],
      "metadata": {
        "id": "X7yMW2Hjcqxu"
      }
    },
    {
      "cell_type": "code",
      "source": [],
      "metadata": {
        "id": "enBMPi07cXOH"
      },
      "execution_count": null,
      "outputs": []
    }
  ]
}