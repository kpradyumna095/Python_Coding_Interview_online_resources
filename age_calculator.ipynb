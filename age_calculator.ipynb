{
  "nbformat": 4,
  "nbformat_minor": 0,
  "metadata": {
    "colab": {
      "provenance": []
    },
    "kernelspec": {
      "name": "python3",
      "display_name": "Python 3"
    },
    "language_info": {
      "name": "python"
    }
  },
  "cells": [
    {
      "cell_type": "code",
      "metadata": {
        "colab": {
          "base_uri": "https://localhost:8080/"
        },
        "id": "MAcOHsQGbnY9",
        "outputId": "adc031c3-6ae1-4a81-ffd8-6fdee40ab1f9"
      },
      "source": [
        "from datetime import date\n",
        "\n",
        "def calculateAge(birthDate):\n",
        "  today = date.today()\n",
        "  age = today.year - birthDate.year -((today.month, today.day) < (birthDate.month, birthDate.day))\n",
        "  return age\n",
        "\n",
        "print(calculateAge(date(1997, 2, 3)), \"years\")\n",
        "\n"
      ],
      "execution_count": null,
      "outputs": [
        {
          "output_type": "stream",
          "text": [
            "24 years\n"
          ],
          "name": "stdout"
        }
      ]
    }
  ]
}