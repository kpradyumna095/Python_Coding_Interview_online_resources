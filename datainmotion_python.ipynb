{
  "nbformat": 4,
  "nbformat_minor": 0,
  "metadata": {
    "colab": {
      "provenance": []
    },
    "kernelspec": {
      "name": "python3",
      "display_name": "Python 3"
    },
    "language_info": {
      "name": "python"
    }
  },
  "cells": [
    {
      "cell_type": "markdown",
      "source": [
        "Week1 :The challenge is to get a string and print the indices of Capital letters in ordered List"
      ],
      "metadata": {
        "id": "GnEm-1Vat5qQ"
      }
    },
    {
      "cell_type": "code",
      "execution_count": 3,
      "metadata": {
        "id": "rKoc2z2MtlYF"
      },
      "outputs": [],
      "source": [
        "def printuppercaseletterindex(str):\n",
        "  strarr= [x for x in str]\n",
        "  a = []\n",
        "  for idx, x in enumerate(strarr):\n",
        "      if(x.isupper()):\n",
        "        a.append(idx)\n",
        "  a.sort()\n",
        "  print(a)"
      ]
    },
    {
      "cell_type": "code",
      "source": [
        "printuppercaseletterindex(\"AbCdEGF\")"
      ],
      "metadata": {
        "colab": {
          "base_uri": "https://localhost:8080/"
        },
        "id": "ZPxP6Ed3u2so",
        "outputId": "cf287034-1e7b-446b-efca-e035b454a385"
      },
      "execution_count": 4,
      "outputs": [
        {
          "output_type": "stream",
          "name": "stdout",
          "text": [
            "[0, 2, 4, 5, 6]\n"
          ]
        }
      ]
    },
    {
      "cell_type": "code",
      "source": [
        "printuppercaseletterindex(\"Hello\")"
      ],
      "metadata": {
        "colab": {
          "base_uri": "https://localhost:8080/"
        },
        "id": "GCNlZFzSvN5-",
        "outputId": "3e2bc795-c5d9-496d-8505-28317c7cd561"
      },
      "execution_count": 5,
      "outputs": [
        {
          "output_type": "stream",
          "name": "stdout",
          "text": [
            "[0]\n"
          ]
        }
      ]
    },
    {
      "cell_type": "code",
      "source": [],
      "metadata": {
        "id": "a_MkRMuWvjj3"
      },
      "execution_count": null,
      "outputs": []
    }
  ]
}