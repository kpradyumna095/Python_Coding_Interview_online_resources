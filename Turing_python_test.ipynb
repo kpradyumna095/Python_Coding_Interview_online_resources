{
  "nbformat": 4,
  "nbformat_minor": 0,
  "metadata": {
    "colab": {
      "provenance": []
    },
    "kernelspec": {
      "name": "python3",
      "display_name": "Python 3"
    },
    "language_info": {
      "name": "python"
    }
  },
  "cells": [
    {
      "cell_type": "markdown",
      "source": [
        "Q1."
      ],
      "metadata": {
        "id": "D08Upja_p3Lz"
      }
    },
    {
      "cell_type": "code",
      "execution_count": null,
      "metadata": {
        "colab": {
          "base_uri": "https://localhost:8080/"
        },
        "id": "svmQadiXp06K",
        "outputId": "e5d5aad9-cd2b-48aa-db3c-f867adbe9172"
      },
      "outputs": [
        {
          "output_type": "stream",
          "name": "stdout",
          "text": [
            "[10, 20, 30, 40]\n"
          ]
        }
      ],
      "source": [
        "data = [10,20,30,40,50]\n",
        "data.pop()\n",
        "print(data)"
      ]
    },
    {
      "cell_type": "code",
      "source": [
        "data.pop(2)\n",
        "print(data)"
      ],
      "metadata": {
        "colab": {
          "base_uri": "https://localhost:8080/"
        },
        "id": "fYT0VZaDqIfa",
        "outputId": "9f494404-f5da-41ff-8240-11fcd11061f3"
      },
      "execution_count": null,
      "outputs": [
        {
          "output_type": "stream",
          "name": "stdout",
          "text": [
            "[10, 20, 40]\n"
          ]
        }
      ]
    },
    {
      "cell_type": "markdown",
      "source": [
        "Q2"
      ],
      "metadata": {
        "id": "wgKTXyHxqgJ-"
      }
    },
    {
      "cell_type": "code",
      "source": [
        "array1 = [1,2,3,4,5]\n",
        "array2 = array1\n",
        "array2[0] = 0\n",
        "print(array1)"
      ],
      "metadata": {
        "colab": {
          "base_uri": "https://localhost:8080/"
        },
        "id": "gt-mri7EqQs0",
        "outputId": "e86a7ddd-b50f-4e30-98cb-7c36fd83214c"
      },
      "execution_count": null,
      "outputs": [
        {
          "output_type": "stream",
          "name": "stdout",
          "text": [
            "[0, 2, 3, 4, 5]\n"
          ]
        }
      ]
    },
    {
      "cell_type": "markdown",
      "source": [
        "Q3"
      ],
      "metadata": {
        "id": "4oRDbPUyq9fv"
      }
    },
    {
      "cell_type": "code",
      "source": [
        "'The {} side {1} {2}'.format('bright', 'of', 'life')"
      ],
      "metadata": {
        "colab": {
          "base_uri": "https://localhost:8080/",
          "height": 166
        },
        "id": "MSYPeAiTq2YC",
        "outputId": "4bf74fd1-b039-4044-b793-55ab1b7adb3b"
      },
      "execution_count": null,
      "outputs": [
        {
          "output_type": "error",
          "ename": "ValueError",
          "evalue": "ignored",
          "traceback": [
            "\u001b[0;31m---------------------------------------------------------------------------\u001b[0m",
            "\u001b[0;31mValueError\u001b[0m                                Traceback (most recent call last)",
            "\u001b[0;32m<ipython-input-6-3e297f503346>\u001b[0m in \u001b[0;36m<module>\u001b[0;34m\u001b[0m\n\u001b[0;32m----> 1\u001b[0;31m \u001b[0;34m'The {} side {1} {2}'\u001b[0m\u001b[0;34m.\u001b[0m\u001b[0mformat\u001b[0m\u001b[0;34m(\u001b[0m\u001b[0;34m'bright'\u001b[0m\u001b[0;34m,\u001b[0m \u001b[0;34m'of'\u001b[0m\u001b[0;34m,\u001b[0m \u001b[0;34m'life'\u001b[0m\u001b[0;34m)\u001b[0m\u001b[0;34m\u001b[0m\u001b[0;34m\u001b[0m\u001b[0m\n\u001b[0m",
            "\u001b[0;31mValueError\u001b[0m: cannot switch from automatic field numbering to manual field specification"
          ]
        }
      ]
    },
    {
      "cell_type": "markdown",
      "source": [
        "Q4.which python data structures support item assignment"
      ],
      "metadata": {
        "id": "TfrIxkdIr3Ex"
      }
    },
    {
      "cell_type": "markdown",
      "source": [
        "list, tuple"
      ],
      "metadata": {
        "id": "ct8u6mTitTF4"
      }
    },
    {
      "cell_type": "markdown",
      "source": [
        "Q5.correct a+, r+,rw, w+ with opening a file in python"
      ],
      "metadata": {
        "id": "tGnIisc6tVDG"
      }
    },
    {
      "cell_type": "markdown",
      "source": [
        "rw"
      ],
      "metadata": {
        "id": "dVFkCmGgtdJ9"
      }
    },
    {
      "cell_type": "markdown",
      "source": [
        "Q6."
      ],
      "metadata": {
        "id": "tBtPg3DftrRc"
      }
    },
    {
      "cell_type": "code",
      "source": [
        "l = [1,2,3,4,5]\n",
        "m = map(lambda x : 2**x, l)\n",
        "print(list(m))"
      ],
      "metadata": {
        "colab": {
          "base_uri": "https://localhost:8080/"
        },
        "id": "wqRDL4atrV5W",
        "outputId": "f1bea137-ad72-4449-e068-ba5df303d5b5"
      },
      "execution_count": null,
      "outputs": [
        {
          "output_type": "stream",
          "name": "stdout",
          "text": [
            "[2, 4, 8, 16, 32]\n"
          ]
        }
      ]
    },
    {
      "cell_type": "markdown",
      "source": [
        "Q7."
      ],
      "metadata": {
        "id": "qLn6Y90zuZDE"
      }
    },
    {
      "cell_type": "code",
      "source": [
        "class Hello:\n",
        "   \n",
        "   def __init__(self, a='Welcome to '):\n",
        "       self.a = a\n",
        "\n",
        "   def welcome(self, x):\n",
        "       print(self.a + x)\n",
        "\n",
        "h = Hello()\n",
        "h.welcome(\"Turing\")\n",
        "\n",
        "\n",
        "      "
      ],
      "metadata": {
        "colab": {
          "base_uri": "https://localhost:8080/"
        },
        "id": "ay91029JuGhK",
        "outputId": "2466059f-520a-46b1-c2c8-250336df2019"
      },
      "execution_count": null,
      "outputs": [
        {
          "output_type": "stream",
          "name": "stdout",
          "text": [
            "Welcome to Turing\n"
          ]
        }
      ]
    },
    {
      "cell_type": "markdown",
      "source": [
        "Q8"
      ],
      "metadata": {
        "id": "Skze43uvvnlJ"
      }
    },
    {
      "cell_type": "code",
      "source": [
        "data = [1,2,3]\n",
        "\n",
        "def incr(x):\n",
        "  return x+1\n",
        "\n",
        "print(list(map(incr, data)))"
      ],
      "metadata": {
        "colab": {
          "base_uri": "https://localhost:8080/"
        },
        "id": "mO3u_2T2vQQp",
        "outputId": "27e3dc8a-107e-449b-c73f-8ff34d046d50"
      },
      "execution_count": null,
      "outputs": [
        {
          "output_type": "stream",
          "name": "stdout",
          "text": [
            "[2, 3, 4]\n"
          ]
        }
      ]
    },
    {
      "cell_type": "markdown",
      "source": [
        "Q9"
      ],
      "metadata": {
        "id": "H30PDxqev8td"
      }
    },
    {
      "cell_type": "code",
      "source": [
        "list1 = [1,2,6,12]\n",
        "list2 = [12,6,2,1]\n",
        "print(list1 == list2)\n",
        "print(set(list1) == set(list2))"
      ],
      "metadata": {
        "colab": {
          "base_uri": "https://localhost:8080/"
        },
        "id": "2wvyzIPyv8B1",
        "outputId": "4d16e3ee-9b97-4526-cb7b-dc2750499cda"
      },
      "execution_count": null,
      "outputs": [
        {
          "output_type": "stream",
          "name": "stdout",
          "text": [
            "False\n",
            "True\n"
          ]
        }
      ]
    },
    {
      "cell_type": "markdown",
      "source": [
        "Q10"
      ],
      "metadata": {
        "id": "4CTiY3UDwj9X"
      }
    },
    {
      "cell_type": "markdown",
      "source": [
        "Given a file object fp, which of the following options returns the current position of a file?"
      ],
      "metadata": {
        "id": "si_1dlP6xGwp"
      }
    },
    {
      "cell_type": "code",
      "source": [
        "#fp.tell()"
      ],
      "metadata": {
        "id": "GtVprvOGv5z1"
      },
      "execution_count": null,
      "outputs": []
    },
    {
      "cell_type": "markdown",
      "source": [
        "Q11."
      ],
      "metadata": {
        "id": "DylP7myUxjtn"
      }
    },
    {
      "cell_type": "markdown",
      "source": [
        "Which of the following statements about data in Sets in Python are incorrect?\n",
        "\n",
        " (Select all that apply.)"
      ],
      "metadata": {
        "id": "API1q5XdxlWr"
      }
    },
    {
      "cell_type": "markdown",
      "source": [
        "Q12"
      ],
      "metadata": {
        "id": "lkcVti0LxpWt"
      }
    },
    {
      "cell_type": "code",
      "source": [
        "class Developer:\n",
        "   \n",
        "   def __init__(self):\n",
        "       self.__seniority = 'Junior'\n",
        "       self.skills = ''\n",
        "\n",
        "   def display(self):\n",
        "       print('Welcome to Turing with {seniority} developer with skill{skills}'.format(seniority=self.__seniority, skills=self.skills))\n",
        "\n",
        "class NodeJS(Developer):\n",
        "   \n",
        "   def __init__(self):\n",
        "       super().__init__()\n",
        "       self.__seniority = 'Senior'\n",
        "       self.skills = 'NodeJS'\n",
        "\n",
        "c = NodeJS()\n",
        "c.display()"
      ],
      "metadata": {
        "colab": {
          "base_uri": "https://localhost:8080/"
        },
        "id": "iyqViVHwxKLz",
        "outputId": "a15e18db-1083-4326-c7ac-9c4eada7239e"
      },
      "execution_count": null,
      "outputs": [
        {
          "output_type": "stream",
          "name": "stdout",
          "text": [
            "Welcome to Turing with Junior developer with skillNodeJS\n"
          ]
        }
      ]
    },
    {
      "cell_type": "markdown",
      "source": [
        "Q13"
      ],
      "metadata": {
        "id": "rtlIDB4Y1nIf"
      }
    },
    {
      "cell_type": "code",
      "source": [
        "f = None\n",
        "for i in range(5):\n",
        "   with open(\"app.log\", \"w\") as f:\n",
        "     if i>2:\n",
        "        break\n",
        "\n",
        "print(f.closed)   "
      ],
      "metadata": {
        "colab": {
          "base_uri": "https://localhost:8080/"
        },
        "id": "Yf6cZweszwwr",
        "outputId": "45631135-39c6-4428-a2fd-32b4fd37c4e1"
      },
      "execution_count": null,
      "outputs": [
        {
          "output_type": "stream",
          "name": "stdout",
          "text": [
            "True\n"
          ]
        }
      ]
    },
    {
      "cell_type": "markdown",
      "source": [
        "Q14"
      ],
      "metadata": {
        "id": "P7TmVMLO2VVH"
      }
    },
    {
      "cell_type": "code",
      "source": [
        "def listSkills(val, list=[]):\n",
        "    list.append(val)\n",
        "    return list\n",
        "\n",
        "list1 = listSkills('NodeJS')\n",
        "list2 = listSkills('Java', [])\n",
        "list3 = listSkills('ReactJS')\n",
        "print(\"%s\" % list1)\n",
        "print(\"%s\" % list2)\n",
        "print(\"%s\" % list3)"
      ],
      "metadata": {
        "colab": {
          "base_uri": "https://localhost:8080/"
        },
        "id": "GF_vHC9Q2SPS",
        "outputId": "39c0e7dc-57b9-4053-f9b1-a99b14f6dcff"
      },
      "execution_count": null,
      "outputs": [
        {
          "output_type": "stream",
          "name": "stdout",
          "text": [
            "['NodeJS', 'ReactJS']\n",
            "['Java']\n",
            "['NodeJS', 'ReactJS']\n"
          ]
        }
      ]
    },
    {
      "cell_type": "markdown",
      "source": [
        "Q15"
      ],
      "metadata": {
        "id": "WQSHN4DS3XAL"
      }
    },
    {
      "cell_type": "code",
      "source": [
        "array = ['Welcome', 'To', 'Turing']\n",
        "print(\"-\".join(array))"
      ],
      "metadata": {
        "colab": {
          "base_uri": "https://localhost:8080/"
        },
        "id": "7ne45Hpl3Rgh",
        "outputId": "5e06db61-5419-439e-cf42-145cdfc49bbd"
      },
      "execution_count": null,
      "outputs": [
        {
          "output_type": "stream",
          "name": "stdout",
          "text": [
            "Welcome-To-Turing\n"
          ]
        }
      ]
    },
    {
      "cell_type": "markdown",
      "source": [
        "Q16. you want to open big file for reading as a binary file. How will you do it?"
      ],
      "metadata": {
        "id": "YwndxLPU4jV3"
      }
    },
    {
      "cell_type": "code",
      "source": [
        "#open('file.txt', 'b')"
      ],
      "metadata": {
        "id": "EVoDvmgk4ccl"
      },
      "execution_count": null,
      "outputs": []
    },
    {
      "cell_type": "markdown",
      "source": [
        "Q17."
      ],
      "metadata": {
        "id": "prLlf-Hk6G_V"
      }
    },
    {
      "cell_type": "code",
      "source": [
        "a = [1,2,3,4,5]\n",
        "b = [sum(a[0:x+1]) for x in range(0, len(a))]\n",
        "print(b)"
      ],
      "metadata": {
        "colab": {
          "base_uri": "https://localhost:8080/"
        },
        "id": "7q7lbBfw6A5Y",
        "outputId": "913fbcbd-b4e1-4915-c5d1-3aa426dd6c61"
      },
      "execution_count": null,
      "outputs": [
        {
          "output_type": "stream",
          "name": "stdout",
          "text": [
            "[1, 3, 6, 10, 15]\n"
          ]
        }
      ]
    },
    {
      "cell_type": "markdown",
      "source": [
        "Q18"
      ],
      "metadata": {
        "id": "zL2WWNqA61vB"
      }
    },
    {
      "cell_type": "code",
      "source": [
        "def f(x, l=[]):\n",
        "    for i in range(x):\n",
        "        l.append(i * i)\n",
        "    print(l)\n",
        "\n",
        "f(2)\n",
        "f(3, [3, 2, 1])\n",
        "f(3)"
      ],
      "metadata": {
        "colab": {
          "base_uri": "https://localhost:8080/"
        },
        "id": "QW3qwrdH6p78",
        "outputId": "08f799fb-5452-4d11-d381-33937ee4cff9"
      },
      "execution_count": null,
      "outputs": [
        {
          "output_type": "stream",
          "name": "stdout",
          "text": [
            "[0, 1]\n",
            "[3, 2, 1, 0, 1, 4]\n",
            "[0, 1, 0, 1, 4]\n"
          ]
        }
      ]
    },
    {
      "cell_type": "markdown",
      "source": [
        "Q19"
      ],
      "metadata": {
        "id": "R1KZk_x67XQd"
      }
    },
    {
      "cell_type": "code",
      "source": [
        "print(2**(3**2), (2**3)**2, (2**3)**3)"
      ],
      "metadata": {
        "colab": {
          "base_uri": "https://localhost:8080/"
        },
        "id": "shG-SMwR7T9c",
        "outputId": "24da8565-5b8c-4f42-b8cf-d78e4e96f787"
      },
      "execution_count": null,
      "outputs": [
        {
          "output_type": "stream",
          "name": "stdout",
          "text": [
            "512 64 512\n"
          ]
        }
      ]
    },
    {
      "cell_type": "markdown",
      "source": [
        "Q20. which is used to print length of each element?\n",
        "\n",
        "x = ['ab', 'cd']"
      ],
      "metadata": {
        "id": "liCy0odM7x1z"
      }
    },
    {
      "cell_type": "code",
      "source": [
        "x = ['ab', 'cd']\n",
        "print(list(map(len, x)))"
      ],
      "metadata": {
        "colab": {
          "base_uri": "https://localhost:8080/"
        },
        "id": "GsQ8xuwv7mQD",
        "outputId": "3dbdf158-79ce-4b67-8b4c-853c788eacd7"
      },
      "execution_count": null,
      "outputs": [
        {
          "output_type": "stream",
          "name": "stdout",
          "text": [
            "[2, 2]\n"
          ]
        }
      ]
    },
    {
      "cell_type": "code",
      "source": [
        "x = ['ab', 'cd']\n",
        "print(list(map(lambda x:len(x), x)))"
      ],
      "metadata": {
        "colab": {
          "base_uri": "https://localhost:8080/"
        },
        "id": "WCBQs7k-8V6Q",
        "outputId": "122889d5-e543-4041-a6b2-13ca2ba28a14"
      },
      "execution_count": null,
      "outputs": [
        {
          "output_type": "stream",
          "name": "stdout",
          "text": [
            "[2, 2]\n"
          ]
        }
      ]
    },
    {
      "cell_type": "markdown",
      "source": [
        "Q21"
      ],
      "metadata": {
        "id": "LmcZfbRv9A35"
      }
    },
    {
      "cell_type": "code",
      "source": [
        "Y = [2,53,6]\n",
        "Y.sort()\n",
        "print(Y)"
      ],
      "metadata": {
        "colab": {
          "base_uri": "https://localhost:8080/"
        },
        "id": "Y0z-WYKM8fhV",
        "outputId": "7e14e0ad-3908-4e5e-d0e0-df83f9da58a0"
      },
      "execution_count": null,
      "outputs": [
        {
          "output_type": "stream",
          "name": "stdout",
          "text": [
            "[2, 6, 53]\n"
          ]
        }
      ]
    },
    {
      "cell_type": "markdown",
      "source": [
        "Q22"
      ],
      "metadata": {
        "id": "TFuY9l399kxE"
      }
    },
    {
      "cell_type": "code",
      "source": [
        "z = set('abc')\n",
        "z.add('san')\n",
        "z.update(set(['p', 'q']))\n",
        "print(z)"
      ],
      "metadata": {
        "colab": {
          "base_uri": "https://localhost:8080/"
        },
        "id": "SjLDtOoe9Stn",
        "outputId": "83e21eea-446a-407b-fcc1-6f1cbdd797b4"
      },
      "execution_count": null,
      "outputs": [
        {
          "output_type": "stream",
          "name": "stdout",
          "text": [
            "{'san', 'q', 'p', 'c', 'b', 'a'}\n"
          ]
        }
      ]
    },
    {
      "cell_type": "markdown",
      "source": [
        "Q23.How to copy list?"
      ],
      "metadata": {
        "id": "CYMiCLaG-sEf"
      }
    },
    {
      "cell_type": "code",
      "source": [
        "data = ['a', 'b', 'c', 'd']\n",
        "newList = data.copy()"
      ],
      "metadata": {
        "id": "D02FfK5I-Ga_"
      },
      "execution_count": null,
      "outputs": []
    },
    {
      "cell_type": "code",
      "source": [
        "newList"
      ],
      "metadata": {
        "colab": {
          "base_uri": "https://localhost:8080/"
        },
        "id": "E8qH2IH6_BZl",
        "outputId": "edcc9606-18aa-45c6-a2a2-a9941a97866e"
      },
      "execution_count": null,
      "outputs": [
        {
          "output_type": "execute_result",
          "data": {
            "text/plain": [
              "['a', 'b', 'c', 'd']"
            ]
          },
          "metadata": {},
          "execution_count": 33
        }
      ]
    },
    {
      "cell_type": "code",
      "source": [],
      "metadata": {
        "id": "a2_PWeeQ_EHJ"
      },
      "execution_count": null,
      "outputs": []
    }
  ]
}