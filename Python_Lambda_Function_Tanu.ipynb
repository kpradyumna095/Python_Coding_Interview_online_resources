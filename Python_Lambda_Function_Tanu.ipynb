{
  "nbformat": 4,
  "nbformat_minor": 0,
  "metadata": {
    "colab": {
      "provenance": []
    },
    "kernelspec": {
      "name": "python3",
      "display_name": "Python 3"
    },
    "language_info": {
      "name": "python"
    }
  },
  "cells": [
    {
      "cell_type": "markdown",
      "source": [
        "Python_Lambda_Function"
      ],
      "metadata": {
        "id": "41VWe-lJSNU7"
      }
    },
    {
      "cell_type": "markdown",
      "source": [
        "https://github.com/Tanu-N-Prabhu/Python/blob/master/Python_Lambda_Function.ipynb"
      ],
      "metadata": {
        "id": "qeQTeVctSRSa"
      }
    },
    {
      "cell_type": "markdown",
      "source": [
        "\n",
        "Python Lambda Function\n",
        "In this article, you will learn more about lambda functions in python. How can we use lambda functions, what is the syntax of lambda functions and why do we need them?"
      ],
      "metadata": {
        "id": "QpUhcKHcSYqH"
      }
    },
    {
      "cell_type": "markdown",
      "source": [
        "\n",
        "What are lambda functions and what are its characteristics?\n",
        "\n",
        "Lambda functions are also called *anonymous functions*. An anonymous function is a function defined without a name. As you know to define a normal function in python, you need to use the def keyword. But in this case of anonymous functions, we use the lambda keyword to define the functions. Alonzo Church in the 1930s to the field of mathematics introduced the lambda functions.\n"
      ],
      "metadata": {
        "id": "L-3_tRQmSj0a"
      }
    },
    {
      "cell_type": "markdown",
      "source": [
        "\n",
        "The characteristics of lambda functions are:\n",
        "\n",
        "    The lambda function can take many arguments but can return only one expression. Here the expression is nothing but the result returned by the lambda function.\n",
        "\n",
        "    Lambda functions are syntactically restricted to return a single expression.\n",
        "\n",
        "    You can use them as an anonymous function inside other functions.\n",
        "\n",
        "    The lambda functions do not need a return statement, they always return a single expression.\n",
        "\n"
      ],
      "metadata": {
        "id": "kpE9qIqxSnnj"
      }
    },
    {
      "cell_type": "markdown",
      "source": [
        "*Use lambda functions when an anonymous function is required for a short period of time. — I don’t why they say this, if you know, please let me know, I’m curious.*"
      ],
      "metadata": {
        "id": "txy9YBleS2E8"
      }
    },
    {
      "cell_type": "markdown",
      "source": [
        "\n",
        "What is the syntax of lambda functions?\n",
        "\n",
        "The syntax of lambda functions is shown below:\n",
        "\n",
        "    *lambda arguments: expression*\n",
        "\n",
        "The expression is always executed and returned."
      ],
      "metadata": {
        "id": "By_Y0yKTTCqm"
      }
    },
    {
      "cell_type": "markdown",
      "source": [
        "Lets us understand the working of lambda functions, we will just use simple logic to understand the working of lambda functions by adding two numbers. Firstly, I will write the program and then explain to you what it does?"
      ],
      "metadata": {
        "id": "n52DnsLsTFuY"
      }
    },
    {
      "cell_type": "code",
      "execution_count": 1,
      "metadata": {
        "colab": {
          "base_uri": "https://localhost:8080/"
        },
        "id": "jzERDgHUSJW5",
        "outputId": "18507c8c-92a0-4808-d006-acd3f70d01c6"
      },
      "outputs": [
        {
          "output_type": "stream",
          "name": "stdout",
          "text": [
            "40\n"
          ]
        }
      ],
      "source": [
        "add = lambda a: a + a\n",
        "print(add(20))"
      ]
    },
    {
      "cell_type": "markdown",
      "source": [
        "Ok firstly did you understand anything from the program, don’t worry I will explain it to you step by step.\n",
        "\n",
        "    First, define the anonymous/ lambda function by using lambda keyword.\n",
        "\n",
        "    Just remember the syntax of lambda functions which is as shown below: *lambda arguments: expression, then just use the variable “a” as an argument and “a + a*” as the expression, remember we are adding two numbers (a + a).\n",
        "\n",
        "    Then to store the final added result let us use a variable *“add”*.\n",
        "\n",
        "    And then just as calling a normal function, we shall call the lambda function with the name of its variable “*add” by sending a parameter “20”* to perform the addition and then print it “*print(add(20))*”.\n",
        "\n",
        "    This is the final step, here when we print the result we then get *40* because of “*20+20” since we are adding “a+a*”. Look here I’m not using the return statement.\n"
      ],
      "metadata": {
        "id": "44RctdW2Tg9C"
      }
    },
    {
      "cell_type": "markdown",
      "source": [
        "\n",
        "\n",
        "Now that we know how lambda function works its time to play with it. *Lambda function takes multiple arguments, let us see if this statement is true or not.*\n"
      ],
      "metadata": {
        "id": "E663sWzGTqp_"
      }
    },
    {
      "cell_type": "code",
      "source": [
        "add = lambda a, b, c: a + b + c\n",
        "print(add(10, 10, 10))"
      ],
      "metadata": {
        "colab": {
          "base_uri": "https://localhost:8080/"
        },
        "id": "z063cfkXTI7M",
        "outputId": "404b37c8-104b-428b-df75-2a42d2bc6e4e"
      },
      "execution_count": 2,
      "outputs": [
        {
          "output_type": "stream",
          "name": "stdout",
          "text": [
            "30\n"
          ]
        }
      ]
    },
    {
      "cell_type": "markdown",
      "source": [
        "\n",
        "\n",
        "Wow, the above statement is actually true, because I passed more than one argument to the lambda function and then it worked.\n"
      ],
      "metadata": {
        "id": "DWPpe2lOTyzS"
      }
    },
    {
      "cell_type": "markdown",
      "source": [
        "\n",
        "What is the difference between lambda functions and normal functions in python?\n",
        "\n",
        "This is one of the hardest questions to answer, after doing some research I nearly came to answer the above question. I don't want to make general assumptions rather I would like to answer this question with the help of an example:\n",
        "\n",
        "Example 1: Adding three numbers using the normal function.\n"
      ],
      "metadata": {
        "id": "noVb2ruUT9_Z"
      }
    },
    {
      "cell_type": "markdown",
      "source": [
        "Example 1: Adding three numbers using the normal function."
      ],
      "metadata": {
        "id": "wU3yfdLJUFx5"
      }
    },
    {
      "cell_type": "code",
      "source": [
        "\n",
        "\n",
        "def add(a,b,c):\n",
        "    return a+b+c\n",
        "result = add(10, 10, 10)\n",
        "print(result)\n",
        "     \n"
      ],
      "metadata": {
        "colab": {
          "base_uri": "https://localhost:8080/"
        },
        "id": "KLTE5KRETtxt",
        "outputId": "d22b898b-1a83-462f-a921-56e5ac7b8e10"
      },
      "execution_count": 3,
      "outputs": [
        {
          "output_type": "stream",
          "name": "stdout",
          "text": [
            "30\n"
          ]
        }
      ]
    },
    {
      "cell_type": "code",
      "source": [
        "print(type(result))"
      ],
      "metadata": {
        "colab": {
          "base_uri": "https://localhost:8080/"
        },
        "id": "cec6dgctUI_m",
        "outputId": "a687b536-1882-4e0a-bc77-93af7b593627"
      },
      "execution_count": 4,
      "outputs": [
        {
          "output_type": "stream",
          "name": "stdout",
          "text": [
            "<class 'int'>\n"
          ]
        }
      ]
    },
    {
      "cell_type": "markdown",
      "source": [
        "Example 2: Adding three numbers using the lambda function."
      ],
      "metadata": {
        "id": "EbPAq7ZRUO4t"
      }
    },
    {
      "cell_type": "code",
      "source": [
        "\n",
        "\n",
        "add = lambda a, b, c: a + b + c\n",
        "print(add(10, 10, 10))\n",
        "     \n"
      ],
      "metadata": {
        "colab": {
          "base_uri": "https://localhost:8080/"
        },
        "id": "p0qlRwNxULdj",
        "outputId": "2ae558cb-6bfe-4e1f-ef0a-be50ce8d6e95"
      },
      "execution_count": 5,
      "outputs": [
        {
          "output_type": "stream",
          "name": "stdout",
          "text": [
            "30\n"
          ]
        }
      ]
    },
    {
      "cell_type": "code",
      "source": [
        "print(type(add))"
      ],
      "metadata": {
        "colab": {
          "base_uri": "https://localhost:8080/"
        },
        "id": "hl4t7hD0URvT",
        "outputId": "e3b11e9d-27dc-4616-ca98-24bf82afd6de"
      },
      "execution_count": 6,
      "outputs": [
        {
          "output_type": "stream",
          "name": "stdout",
          "text": [
            "<class 'function'>\n"
          ]
        }
      ]
    },
    {
      "cell_type": "markdown",
      "source": [
        "\n",
        "\n",
        "Based on the above two examples I have made a few differences between the normal function and the lambda function. I hope it is helpful.\n"
      ],
      "metadata": {
        "id": "msAnUnOmUayf"
      }
    },
    {
      "cell_type": "markdown",
      "source": [
        "You are wondering how did I calculate the execution time of the program. Its simple I just used the *time* library. Alright, I will provide you the code below."
      ],
      "metadata": {
        "id": "pzCi71JjUkf1"
      }
    },
    {
      "cell_type": "code",
      "source": [
        "import time\n",
        "start_time = time.time()\n",
        "add = lambda a, b, c: a + b + c\n",
        "print(add(10, 10, 10))\n",
        "print(\"--- %s seconds ---\" % (time.time() - start_time))"
      ],
      "metadata": {
        "colab": {
          "base_uri": "https://localhost:8080/"
        },
        "id": "YYvPZyZRUUAp",
        "outputId": "14910fb3-d68b-458b-b219-7dbb509d71b7"
      },
      "execution_count": 7,
      "outputs": [
        {
          "output_type": "stream",
          "name": "stdout",
          "text": [
            "30\n",
            "--- 0.0018930435180664062 seconds ---\n"
          ]
        }
      ]
    },
    {
      "cell_type": "markdown",
      "source": [
        "\n",
        "Why should we use lambda functions?\n",
        "\n",
        "We can use lambda functions *as anonymous functions inside any normal functions of python. This is the actual superpower of lambda functions. Because of its simplicity*, you can write a lambda function with no hassle. Now just think you need to write a normal function of adding every number and the current given number you have given.\n",
        "\n",
        "    Confused, OK imagine now you have the number 100 as constant and every time you need to add another number such as 200, 300, 400,…. to the existing number. Here, rather than defining another function inside the same function, you use the lambda function as shown below.\n",
        "\n"
      ],
      "metadata": {
        "id": "cyKSgSYvUsul"
      }
    },
    {
      "cell_type": "code",
      "source": [
        "\n",
        "\n",
        "def add(n):\n",
        "    return lambda a : a + n\n",
        "result = add(100)\n",
        "print(result(200))\n",
        "     \n"
      ],
      "metadata": {
        "colab": {
          "base_uri": "https://localhost:8080/"
        },
        "id": "3jGvBl0-UnYz",
        "outputId": "bd4baff8-69a2-4c09-89ec-44f603839676"
      },
      "execution_count": 8,
      "outputs": [
        {
          "output_type": "stream",
          "name": "stdout",
          "text": [
            "300\n"
          ]
        }
      ]
    },
    {
      "cell_type": "markdown",
      "source": [
        "\n",
        "\n",
        "You can get the job done in just one step of using a lambda function. Like I said the *simplicity and the usability* inside another function are the prime features of a lambda function compared to the normal functions."
      ],
      "metadata": {
        "id": "Wy5KD80zUyEK"
      }
    },
    {
      "cell_type": "markdown",
      "source": [
        "\n",
        "Can we reuse the lambda function?\n",
        "\n",
        "I guess the answer is yes because in the below example I can reuse the same lambda function to add the number to the existing numbers.\n"
      ],
      "metadata": {
        "id": "HM8QDOZbU2DV"
      }
    },
    {
      "cell_type": "code",
      "source": [
        "def add(n):\n",
        "    return lambda a : a + n\n",
        "result = add(100)\n",
        "print(result(200))\n",
        "print(\"-------------------\")\n",
        "print(result(300))\n",
        "print(\"-------------------\")\n",
        "print(result(400))\n",
        "print(\"-------------------\")\n",
        "print(result(500))"
      ],
      "metadata": {
        "colab": {
          "base_uri": "https://localhost:8080/"
        },
        "id": "jiMknOoxUvpl",
        "outputId": "e1cff385-21e9-4164-94f9-87be80b97915"
      },
      "execution_count": 9,
      "outputs": [
        {
          "output_type": "stream",
          "name": "stdout",
          "text": [
            "300\n",
            "-------------------\n",
            "400\n",
            "-------------------\n",
            "500\n",
            "-------------------\n",
            "600\n"
          ]
        }
      ]
    },
    {
      "cell_type": "markdown",
      "source": [
        "\n",
        "\n",
        "Well, there you go you would have now got a better understanding of lambda functions. This is the end of the tutorial of “*Python Lambda Functions*”, there are more important concepts such as maps, filters and many more. These are altogether different concepts, I shall write them as separate tutorials shortly. Stay tuned!!. Until then see you, have a nice day."
      ],
      "metadata": {
        "id": "H6g8Bu2aU-C_"
      }
    },
    {
      "cell_type": "code",
      "source": [],
      "metadata": {
        "id": "YAtk7qgJU5BO"
      },
      "execution_count": null,
      "outputs": []
    }
  ]
}