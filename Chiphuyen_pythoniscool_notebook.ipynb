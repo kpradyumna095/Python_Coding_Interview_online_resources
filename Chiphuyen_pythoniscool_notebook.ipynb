{
  "nbformat": 4,
  "nbformat_minor": 0,
  "metadata": {
    "colab": {
      "provenance": []
    },
    "kernelspec": {
      "name": "python3",
      "display_name": "Python 3"
    },
    "language_info": {
      "name": "python"
    }
  },
  "cells": [
    {
      "cell_type": "markdown",
      "source": [
        "https://github.com/chiphuyen/python-is-cool/blob/master/cool-python-tips.ipynb"
      ],
      "metadata": {
        "id": "kU5EUlHrD0MQ"
      }
    },
    {
      "cell_type": "markdown",
      "source": [
        "\n",
        "1. Lambda, map, filter, reduce\n",
        "\n",
        "The lambda keyword is used to create inline functions. square_fn and square_ld below are identical:\n"
      ],
      "metadata": {
        "id": "31KFjGgrEEBJ"
      }
    },
    {
      "cell_type": "code",
      "execution_count": null,
      "metadata": {
        "id": "U6hUOps8DllN"
      },
      "outputs": [],
      "source": [
        "def square_fn(x):\n",
        "    return x * x\n",
        "\n",
        "square_ld = lambda x: x * x\n",
        "\n",
        "for i in range(10):\n",
        "    assert square_fn(i) == square_ld(i)"
      ]
    },
    {
      "cell_type": "markdown",
      "source": [
        "\n",
        "\n",
        "Its quick declaration makes lambda functions ideal for use in callbacks, and when functions are to be passed as arguments to other functions. They are especially useful when used in conjunction with functions like map, filter, and reduce.\n",
        "\n",
        "map(fn, iterable) applies the fn to all elements of the iterable (e.g. list, set, dictionary, tuple, string) and returns a map object.\n"
      ],
      "metadata": {
        "id": "DIn8XqVTEpRi"
      }
    },
    {
      "cell_type": "code",
      "source": [
        "nums = [1/3, 333/7, 2323/2230, 40/34, 2/3]\n",
        "nums_squared = [num * num for num in nums]\n",
        "print(nums_squared)"
      ],
      "metadata": {
        "colab": {
          "base_uri": "https://localhost:8080/"
        },
        "id": "ypFdDw0tEQid",
        "outputId": "8c3f2b18-3ecd-4a59-cf5b-4c02494c169d"
      },
      "execution_count": null,
      "outputs": [
        {
          "output_type": "stream",
          "name": "stdout",
          "text": [
            "[0.1111111111111111, 2263.0408163265306, 1.0851472983570953, 1.384083044982699, 0.4444444444444444]\n"
          ]
        }
      ]
    },
    {
      "cell_type": "markdown",
      "source": [
        "\n",
        "\n",
        "[0.1111111111111111, 2263.0408163265306, 1.0851472983570953, 1.384083044982699, 0.4444444444444444]\n",
        "\n",
        "This is the same as calling using map with a callback function.\n"
      ],
      "metadata": {
        "id": "ZjE-9BEbE_mU"
      }
    },
    {
      "cell_type": "code",
      "source": [
        "nums_squared_1 = map(square_fn, nums)\n",
        "nums_squared_2 = map(lambda x: x * x, nums)\n",
        "print(list(nums_squared_1))"
      ],
      "metadata": {
        "colab": {
          "base_uri": "https://localhost:8080/"
        },
        "id": "ySPNPwpRE4-5",
        "outputId": "bfa3f653-011a-45ae-dacc-f04fe0df8067"
      },
      "execution_count": null,
      "outputs": [
        {
          "output_type": "stream",
          "name": "stdout",
          "text": [
            "[0.1111111111111111, 2263.0408163265306, 1.0851472983570953, 1.384083044982699, 0.4444444444444444]\n"
          ]
        }
      ]
    },
    {
      "cell_type": "code",
      "source": [
        "print(list(nums_squared_2))"
      ],
      "metadata": {
        "colab": {
          "base_uri": "https://localhost:8080/"
        },
        "id": "oR4F-gZnFNe1",
        "outputId": "d24f2824-7560-4729-dcfd-2fe4edb6e5fd"
      },
      "execution_count": null,
      "outputs": [
        {
          "output_type": "stream",
          "name": "stdout",
          "text": [
            "[0.1111111111111111, 2263.0408163265306, 1.0851472983570953, 1.384083044982699, 0.4444444444444444]\n"
          ]
        }
      ]
    },
    {
      "cell_type": "markdown",
      "source": [
        "You can also use map with more than one iterable. For example, if you want to calculate the mean squared error of a simple linear function f(x) = ax + b with the true label labels, these two methods are equivalent:"
      ],
      "metadata": {
        "id": "hjTf79i4Fghi"
      }
    },
    {
      "cell_type": "code",
      "source": [
        "a, b = 3, -0.5\n",
        "xs = [2, 3, 4, 5]\n",
        "labels = [6.4, 8.9, 10.9, 15.3]\n",
        "\n",
        "# Method 1: using a loop\n",
        "errors = []\n",
        "for i, x in enumerate(xs):\n",
        "    errors.append((a * x + b - labels[i]) ** 2)\n",
        "result1 = sum(errors) ** 0.5 / len(xs)\n",
        "\n",
        "# Method 2: using map\n",
        "diffs = map(lambda x, y: (a * x + b - y) ** 2, xs, labels)\n",
        "result2 = sum(diffs) ** 0.5 / len(xs)\n",
        "\n",
        "print(result1, result2)"
      ],
      "metadata": {
        "colab": {
          "base_uri": "https://localhost:8080/"
        },
        "id": "0NS8IQ42FSSS",
        "outputId": "8397c496-2d47-452e-bebd-9152fb5cc242"
      },
      "execution_count": null,
      "outputs": [
        {
          "output_type": "stream",
          "name": "stdout",
          "text": [
            "0.35089172119045514 0.35089172119045514\n"
          ]
        }
      ]
    },
    {
      "cell_type": "markdown",
      "source": [
        "\n",
        "\n",
        "Note that objects returned by map and filter are iterators, which means that their values aren't stored but generated as needed. After you've called sum(diffs), diffs becomes empty. If you want to keep all elements in diffs, convert it to a list using list(diffs).\n",
        "\n",
        "filter(fn, iterable) works the same way as map, except that fn returns a boolean value and filter returns all the elements of the iterable for which the fn returns True.\n"
      ],
      "metadata": {
        "id": "kZGybmZQGIaE"
      }
    },
    {
      "cell_type": "code",
      "source": [
        "bad_preds = filter(lambda x: x > 0.5, errors)\n",
        "print(list(bad_preds))"
      ],
      "metadata": {
        "colab": {
          "base_uri": "https://localhost:8080/"
        },
        "id": "iF_02Tf4F91W",
        "outputId": "caec46e2-cbca-493c-9dad-6a21d3bff49a"
      },
      "execution_count": null,
      "outputs": [
        {
          "output_type": "stream",
          "name": "stdout",
          "text": [
            "[0.8100000000000006, 0.6400000000000011]\n"
          ]
        }
      ]
    },
    {
      "cell_type": "markdown",
      "source": [
        "\n",
        "\n",
        "reduce(fn, iterable, initializer) is used when we want to iteratively apply an operator to all elements in a list. For example, if we want to calculate the product of all elements in a list:\n"
      ],
      "metadata": {
        "id": "4V22iBuSG8xu"
      }
    },
    {
      "cell_type": "code",
      "source": [
        "product = 1\n",
        "for num in nums:\n",
        "    product *= num\n",
        "print(product)"
      ],
      "metadata": {
        "colab": {
          "base_uri": "https://localhost:8080/"
        },
        "id": "tz9oia3kGp8-",
        "outputId": "3e25574d-80cf-4af6-801f-1d02da7d9cf2"
      },
      "execution_count": null,
      "outputs": [
        {
          "output_type": "stream",
          "name": "stdout",
          "text": [
            "12.95564683272412\n"
          ]
        }
      ]
    },
    {
      "cell_type": "code",
      "source": [
        "from functools import reduce\n",
        "product = reduce(lambda x, y: x * y, nums)\n",
        "print(product)"
      ],
      "metadata": {
        "colab": {
          "base_uri": "https://localhost:8080/"
        },
        "id": "5SRC8VITHLuk",
        "outputId": "ed07cecd-5534-40be-82e3-460300908cbc"
      },
      "execution_count": null,
      "outputs": [
        {
          "output_type": "stream",
          "name": "stdout",
          "text": [
            "12.95564683272412\n"
          ]
        }
      ]
    },
    {
      "cell_type": "markdown",
      "source": [
        "Note on the performance of lambda functions\n",
        "\n",
        "Lambda functions are meant for one time use. Each time lambda x: dosomething(x) is called, the function has to be created, which hurts the performance if you call lambda x: dosomething(x) multiple times (e.g. when you pass it inside reduce)."
      ],
      "metadata": {
        "id": "NifXEDGyHiI0"
      }
    },
    {
      "cell_type": "markdown",
      "source": [
        "When you assign a name to the lambda function as in fn = lambda x: dosomething(x), its performance is slightly slower than the same function defined using def, but the difference is negligible. See here.\n",
        "\n",
        "Even though I find lambdas cool, I personally recommend using named functions when you can for the sake of clarity."
      ],
      "metadata": {
        "id": "m5zPGE7nHwZs"
      }
    },
    {
      "cell_type": "markdown",
      "source": [
        "2. List manipulation\n",
        "\n",
        "Python lists are super cool.\n",
        "\\"
      ],
      "metadata": {
        "id": "G-KU7KrGH1aw"
      }
    },
    {
      "cell_type": "markdown",
      "source": [
        "2.1 Unpacking\n",
        "\n",
        "We can unpack a list by each element like this:"
      ],
      "metadata": {
        "id": "albhGCJ4QDqO"
      }
    },
    {
      "cell_type": "code",
      "source": [
        "elems = [1, 2, 3, 4]\n",
        "a, b, c, d = elems\n",
        "print(a, b, c, d)"
      ],
      "metadata": {
        "colab": {
          "base_uri": "https://localhost:8080/"
        },
        "id": "yPhmXRgdHXV5",
        "outputId": "128dd5ea-f072-4301-c38e-245ec570675f"
      },
      "execution_count": null,
      "outputs": [
        {
          "output_type": "stream",
          "name": "stdout",
          "text": [
            "1 2 3 4\n"
          ]
        }
      ]
    },
    {
      "cell_type": "code",
      "source": [
        "\n",
        "\n",
        "#We can also unpack a list like this:\n",
        "\n",
        "a, *new_elems, d = elems\n",
        "print(a)\n",
        "print(new_elems)\n",
        "print(d)\n",
        "\n"
      ],
      "metadata": {
        "colab": {
          "base_uri": "https://localhost:8080/"
        },
        "id": "kXpDIM5_QNjn",
        "outputId": "accd6b64-5316-4a89-a0c9-997793290453"
      },
      "execution_count": null,
      "outputs": [
        {
          "output_type": "stream",
          "name": "stdout",
          "text": [
            "1\n",
            "[2, 3]\n",
            "4\n"
          ]
        }
      ]
    },
    {
      "cell_type": "markdown",
      "source": [
        "\n",
        "2.2 Slicing\n",
        "\n",
        "We know that we can reverse a list using [::-1].\n",
        "\n"
      ],
      "metadata": {
        "id": "Ui3PMtMoWTOk"
      }
    },
    {
      "cell_type": "code",
      "source": [
        "elems = list(range(10))\n",
        "print(elems)\n",
        "print(elems[::-1])"
      ],
      "metadata": {
        "colab": {
          "base_uri": "https://localhost:8080/"
        },
        "id": "k5VdZHEFWOHW",
        "outputId": "842240b1-4439-4d15-8428-b07fec26ed1a"
      },
      "execution_count": null,
      "outputs": [
        {
          "output_type": "stream",
          "name": "stdout",
          "text": [
            "[0, 1, 2, 3, 4, 5, 6, 7, 8, 9]\n",
            "[9, 8, 7, 6, 5, 4, 3, 2, 1, 0]\n"
          ]
        }
      ]
    },
    {
      "cell_type": "markdown",
      "source": [
        "The syntax [x:y:z] means \"take every zth element of a list from index x to index y\". When z is negative, it indicates going backwards. When x isn't specified, it defaults to the first element of the list in the direction you are traversing the list. When y isn't specified, it defaults to the last element of the list. So if we want to take every 2th element of a list, we use [::2]."
      ],
      "metadata": {
        "id": "Y5J6rrOGWsIf"
      }
    },
    {
      "cell_type": "code",
      "source": [
        "evens = elems[::2]\n",
        "print(evens)\n",
        "\n",
        "reversed_evens = elems[-2::-2]\n",
        "print(reversed_evens)"
      ],
      "metadata": {
        "colab": {
          "base_uri": "https://localhost:8080/"
        },
        "id": "q_m5VzU1WWr-",
        "outputId": "37d9585b-7f6a-4104-f3be-037e1eed82cf"
      },
      "execution_count": null,
      "outputs": [
        {
          "output_type": "stream",
          "name": "stdout",
          "text": [
            "[0, 2, 4, 6, 8]\n",
            "[8, 6, 4, 2, 0]\n"
          ]
        }
      ]
    },
    {
      "cell_type": "markdown",
      "source": [
        "We can also use slicing to delete all the even numbers in the list."
      ],
      "metadata": {
        "id": "XnSKQF5ZW6Bk"
      }
    },
    {
      "cell_type": "code",
      "source": [
        "del elems[::2]\n",
        "print(elems)"
      ],
      "metadata": {
        "colab": {
          "base_uri": "https://localhost:8080/"
        },
        "id": "Wj16qam9W0SN",
        "outputId": "5a786330-f28c-4689-f0a0-ba96494125fa"
      },
      "execution_count": null,
      "outputs": [
        {
          "output_type": "stream",
          "name": "stdout",
          "text": [
            "[1, 3, 5, 7, 9]\n"
          ]
        }
      ]
    },
    {
      "cell_type": "markdown",
      "source": [
        "\n",
        "2.3 Insertion\n",
        "\n",
        "We can change the value of an element in a list to another value.\n"
      ],
      "metadata": {
        "id": "nCnBanR-XCe3"
      }
    },
    {
      "cell_type": "code",
      "source": [
        "elems = list(range(10))\n",
        "elems[1] = 10\n",
        "print(elems)"
      ],
      "metadata": {
        "colab": {
          "base_uri": "https://localhost:8080/"
        },
        "id": "k-HglUXaW-QP",
        "outputId": "16db9f8c-9e10-4a22-faac-afc0e23a1ea4"
      },
      "execution_count": null,
      "outputs": [
        {
          "output_type": "stream",
          "name": "stdout",
          "text": [
            "[0, 10, 2, 3, 4, 5, 6, 7, 8, 9]\n"
          ]
        }
      ]
    },
    {
      "cell_type": "markdown",
      "source": [
        "\n",
        "\n",
        "If we want to replace the element at an index with multiple elements, e.g. replace the value 1 with 3 values 20, 30, 40:\n",
        "\n"
      ],
      "metadata": {
        "id": "HbbVuOLTXVvS"
      }
    },
    {
      "cell_type": "code",
      "source": [
        "elems = list(range(10))\n",
        "elems[1:2] = [20, 30, 40]\n",
        "print(elems)"
      ],
      "metadata": {
        "colab": {
          "base_uri": "https://localhost:8080/"
        },
        "id": "1esu2L6ZXFky",
        "outputId": "1f4ac4cb-76be-4576-add0-6dc764d02937"
      },
      "execution_count": null,
      "outputs": [
        {
          "output_type": "stream",
          "name": "stdout",
          "text": [
            "[0, 20, 30, 40, 2, 3, 4, 5, 6, 7, 8, 9]\n"
          ]
        }
      ]
    },
    {
      "cell_type": "markdown",
      "source": [
        "If we want to insert 3 values 0.2, 0.3, 0.5 between element at index 0 and element at index 1:"
      ],
      "metadata": {
        "id": "BF4eWiH9Xc9I"
      }
    },
    {
      "cell_type": "code",
      "source": [
        "elems = list(range(10))\n",
        "elems[1:1] = [0.2, 0.3, 0.5]\n",
        "print(elems)"
      ],
      "metadata": {
        "colab": {
          "base_uri": "https://localhost:8080/"
        },
        "id": "o--UIXSLXPK4",
        "outputId": "da713b7b-d3ef-4556-adec-da835d1a8fc9"
      },
      "execution_count": null,
      "outputs": [
        {
          "output_type": "stream",
          "name": "stdout",
          "text": [
            "[0, 0.2, 0.3, 0.5, 1, 2, 3, 4, 5, 6, 7, 8, 9]\n"
          ]
        }
      ]
    },
    {
      "cell_type": "markdown",
      "source": [
        "\n",
        "2.4 Flattening\n",
        "\n",
        "We can flatten a list of lists using sum.\n"
      ],
      "metadata": {
        "id": "YcedhRtxXlgl"
      }
    },
    {
      "cell_type": "code",
      "source": [
        "list_of_lists = [[1], [2, 3], [4, 5, 6]]\n",
        "sum(list_of_lists, [])"
      ],
      "metadata": {
        "colab": {
          "base_uri": "https://localhost:8080/"
        },
        "id": "_nY2PscKXgIJ",
        "outputId": "12bd9df3-f1d5-473d-daa6-024fb070e112"
      },
      "execution_count": null,
      "outputs": [
        {
          "output_type": "execute_result",
          "data": {
            "text/plain": [
              "[1, 2, 3, 4, 5, 6]"
            ]
          },
          "metadata": {},
          "execution_count": 18
        }
      ]
    },
    {
      "cell_type": "markdown",
      "source": [
        "If we have nested lists, we can recursively flatten it. That's another beauty of lambda functions -- we can use it in the same line as its creation."
      ],
      "metadata": {
        "id": "EHiwPqvXX2yI"
      }
    },
    {
      "cell_type": "code",
      "source": [
        "nested_lists = [[1, 2], [[3, 4], [5, 6], [[7, 8], [9, 10], [[11, [12, 13]]]]]]\n",
        "flatten = lambda x: [y for l in x for y in flatten(l)] if type(x) is list else [x]\n",
        "flatten(nested_lists)\n",
        "\n",
        "# This amazing line of code is from\n",
        "# https://github.com/sahands/python-by-example/blob/master/python-by-example.rst#flattening-lists"
      ],
      "metadata": {
        "colab": {
          "base_uri": "https://localhost:8080/"
        },
        "id": "DP_ZVELCXq76",
        "outputId": "5c75a8e3-ff2d-4595-b395-37840baa7787"
      },
      "execution_count": null,
      "outputs": [
        {
          "output_type": "execute_result",
          "data": {
            "text/plain": [
              "[1, 2, 3, 4, 5, 6, 7, 8, 9, 10, 11, 12, 13]"
            ]
          },
          "metadata": {},
          "execution_count": 19
        }
      ]
    },
    {
      "cell_type": "markdown",
      "source": [
        "\n",
        "2.5 List vs generator\n",
        "\n",
        "To illustrate the difference between a list and a generator, let's look at an example of creating n-grams out of a list of tokens.\n",
        "\n",
        "One way to create n-grams is to use a sliding window.\n"
      ],
      "metadata": {
        "id": "eelVdSPaYGAX"
      }
    },
    {
      "cell_type": "code",
      "source": [
        "\n",
        "\n",
        "tokens = ['i', 'want', 'to', 'go', 'to', 'school']\n",
        "\n",
        "def ngrams(tokens, n):\n",
        "    length = len(tokens)\n",
        "    grams = []\n",
        "    for i in range(length - n + 1):\n",
        "        grams.append(tokens[i:i+n])\n",
        "    return grams\n",
        "\n",
        "ngrams(tokens, 3)\n",
        "\n"
      ],
      "metadata": {
        "colab": {
          "base_uri": "https://localhost:8080/"
        },
        "id": "GzUt5XWhX6iA",
        "outputId": "686f4912-5b31-44ab-cc0c-f00575e5d5b7"
      },
      "execution_count": null,
      "outputs": [
        {
          "output_type": "execute_result",
          "data": {
            "text/plain": [
              "[['i', 'want', 'to'],\n",
              " ['want', 'to', 'go'],\n",
              " ['to', 'go', 'to'],\n",
              " ['go', 'to', 'school']]"
            ]
          },
          "metadata": {},
          "execution_count": 20
        }
      ]
    },
    {
      "cell_type": "markdown",
      "source": [
        "\n",
        "\n",
        "In the above example, we have to store all the n-grams at the same time. If the text has m tokens, then the memory requirement is O(nm), which can be problematic when m is large.\n",
        "\n",
        "Instead of using a list to store all n-grams, we can use a generator that generates the next n-gram when it's asked for. This is known as lazy evaluation. We can make the function ngrams returns a generator using the keyword yield. Then the memory requirement is O(m+n).\n"
      ],
      "metadata": {
        "id": "ZtDWDVQkYayn"
      }
    },
    {
      "cell_type": "code",
      "source": [
        "def ngrams(tokens, n):\n",
        "    length = len(tokens)\n",
        "    for i in range(length - n + 1):\n",
        "        yield tokens[i:i+n]\n",
        "\n",
        "ngrams_generator = ngrams(tokens, 3)\n",
        "print(ngrams_generator)\n",
        "for ngram in ngrams_generator:\n",
        "    print(ngram)"
      ],
      "metadata": {
        "colab": {
          "base_uri": "https://localhost:8080/"
        },
        "id": "cocFQCJ9YVXA",
        "outputId": "9a24907d-b17b-4dcd-bb9c-6f93b87c82d0"
      },
      "execution_count": null,
      "outputs": [
        {
          "output_type": "stream",
          "name": "stdout",
          "text": [
            "<generator object ngrams at 0x7fced1cf8f90>\n",
            "['i', 'want', 'to']\n",
            "['want', 'to', 'go']\n",
            "['to', 'go', 'to']\n",
            "['go', 'to', 'school']\n"
          ]
        }
      ]
    },
    {
      "cell_type": "markdown",
      "source": [
        "\n",
        "\n",
        "Another way to generate n-grams is to use slices to create lists: [0, 1, ..., -n], [1, 2, ..., -n+1], ..., [n-1, n, ..., -1], and then zip them together.\n"
      ],
      "metadata": {
        "id": "D5AoTdl0ZEwb"
      }
    },
    {
      "cell_type": "code",
      "source": [
        "def ngrams(tokens, n):\n",
        "    length = len(tokens)\n",
        "    slices = (tokens[i:length-n+i+1] for i in range(n))\n",
        "    return zip(*slices)\n",
        "\n",
        "ngrams_generator = ngrams(tokens, 3)\n",
        "print(ngrams_generator) # zip objects are generators\n",
        "for ngram in ngrams_generator:\n",
        "    print(ngram)"
      ],
      "metadata": {
        "colab": {
          "base_uri": "https://localhost:8080/"
        },
        "id": "KSfcfvA-Y6-D",
        "outputId": "c23c82b8-3f8e-4859-8137-999c9836bb98"
      },
      "execution_count": null,
      "outputs": [
        {
          "output_type": "stream",
          "name": "stdout",
          "text": [
            "<zip object at 0x7fced17efd00>\n",
            "('i', 'want', 'to')\n",
            "('want', 'to', 'go')\n",
            "('to', 'go', 'to')\n",
            "('go', 'to', 'school')\n"
          ]
        }
      ]
    },
    {
      "cell_type": "markdown",
      "source": [
        "Note that to create slices, we use (tokens[...] for i in range(n)) instead of [tokens[...] for i in range(n)]. [] is the normal list comprehension that returns a list. () returns a generator."
      ],
      "metadata": {
        "id": "DDNfKFs9ZOvq"
      }
    },
    {
      "cell_type": "markdown",
      "source": [
        "\n",
        "3. Classes and magic methods\n",
        "\n",
        "In Python, magic methods are prefixed and suffixed with the double underscore __, also known as dunder. The most wellknown magic method is probably __init__.\n"
      ],
      "metadata": {
        "id": "5Z9nd8OuZaGZ"
      }
    },
    {
      "cell_type": "code",
      "source": [
        "class Node:\n",
        "    \"\"\" A struct to denote the node of a binary tree.\n",
        "    It contains a value and pointers to left and right children.\n",
        "    \"\"\"\n",
        "    def __init__(self, value, left=None, right=None):\n",
        "        self.value = value\n",
        "        self.left = left\n",
        "        self.right = right"
      ],
      "metadata": {
        "id": "8JIEKiGbZJeu"
      },
      "execution_count": null,
      "outputs": []
    },
    {
      "cell_type": "markdown",
      "source": [
        "When we try to print out a Node object, however, it's not very interpretable."
      ],
      "metadata": {
        "id": "rgUZSMEgZky3"
      }
    },
    {
      "cell_type": "code",
      "source": [
        "root = Node(5)\n",
        "print(root)"
      ],
      "metadata": {
        "colab": {
          "base_uri": "https://localhost:8080/"
        },
        "id": "wc66KNMbZgUb",
        "outputId": "725f5f64-4f41-4e72-87da-ce7d2db9ba7f"
      },
      "execution_count": null,
      "outputs": [
        {
          "output_type": "stream",
          "name": "stdout",
          "text": [
            "<__main__.Node object at 0x7fced17e6130>\n"
          ]
        }
      ]
    },
    {
      "cell_type": "markdown",
      "source": [
        "Ideally, when user prints out a node, we want to print out the node's value and the values of its children if it has children. To do so, we use the magic method __repr__, which must return a printable object, like string."
      ],
      "metadata": {
        "id": "Wm4EZ1wuZx2f"
      }
    },
    {
      "cell_type": "code",
      "source": [
        "class Node:\n",
        "    \"\"\" A struct to denote the node of a binary tree.\n",
        "    It contains a value and pointers to left and right children.\n",
        "    \"\"\"\n",
        "    def __init__(self, value, left=None, right=None):\n",
        "        self.value = value\n",
        "        self.left = left\n",
        "        self.right = right\n",
        "        \n",
        "    def __repr__(self):    \n",
        "        strings = [f'value: {self.value}']\n",
        "        strings.append(f'left: {self.left.value}' if self.left else 'left: None')\n",
        "        strings.append(f'right: {self.right.value}' if self.right else 'right: None')\n",
        "        return ', '.join(strings)\n",
        "\n",
        "left = Node(4)\n",
        "root = Node(5, left)\n",
        "print(root)"
      ],
      "metadata": {
        "colab": {
          "base_uri": "https://localhost:8080/"
        },
        "id": "dsLQyT5AZqKd",
        "outputId": "05391d00-87f0-457c-a573-dd93204fd7e9"
      },
      "execution_count": null,
      "outputs": [
        {
          "output_type": "stream",
          "name": "stdout",
          "text": [
            "value: 5, left: 4, right: None\n"
          ]
        }
      ]
    },
    {
      "cell_type": "markdown",
      "source": [
        "We'd also like to compare two nodes by comparing their values. To do so, we overload the operator == with __eq__, < with __lt__, and >= with __ge__."
      ],
      "metadata": {
        "id": "1hdTIqh5aBBu"
      }
    },
    {
      "cell_type": "code",
      "source": [
        "class Node:\n",
        "    \"\"\" A struct to denote the node of a binary tree.\n",
        "    It contains a value and pointers to left and right children.\n",
        "    \"\"\"\n",
        "    def __init__(self, value, left=None, right=None):\n",
        "        self.value = value\n",
        "        self.left = left\n",
        "        self.right = right\n",
        "    \n",
        "    def __eq__(self, other):\n",
        "        return self.value == other.value\n",
        "    \n",
        "    def __lt__(self, other):\n",
        "        return self.value < other.value\n",
        "    \n",
        "    def __ge__(self, other):\n",
        "        return self.value >= other.value\n",
        "\n",
        "\n",
        "left = Node(4)\n",
        "root = Node(5, left)\n",
        "print(left == root)\n",
        "print(left < root)\n",
        "print(left >= root)"
      ],
      "metadata": {
        "colab": {
          "base_uri": "https://localhost:8080/"
        },
        "id": "rTbZ-8qqZ3Ev",
        "outputId": "7b163ee3-5f24-4cc8-ee88-30c054910e25"
      },
      "execution_count": null,
      "outputs": [
        {
          "output_type": "stream",
          "name": "stdout",
          "text": [
            "False\n",
            "True\n",
            "False\n"
          ]
        }
      ]
    },
    {
      "cell_type": "markdown",
      "source": [
        "\n",
        "\n",
        "For a comprehensive list of supported magic methods here or see the official Python documentation here (slightly harder to read).\n",
        "\n",
        "Some of the methods that I highly recommend:\n",
        "\n",
        "    __len__: to overload the len() function.\n",
        "    __str__: to overload the str() function.\n",
        "    __iter__: if you want to your objects to be iterators. This also allows you to call next() on your object.\n",
        "\n",
        "For classes like Node where we know for sure all the attributes they can support (in the case of Node, they are value, left, and right), we might want to use __slots__ to denote those values for both performance boost and memory saving. For a comprehensive understanding of pros and cons of __slots__, see this absolutely amazing answer by Aaron Hall on StackOverflow.\n"
      ],
      "metadata": {
        "id": "_SuMRsVeajvA"
      }
    },
    {
      "cell_type": "code",
      "source": [
        "class Node:\n",
        "    \"\"\" A struct to denote the node of a binary tree.\n",
        "    It contains a value and pointers to left and right children.\n",
        "    \"\"\"\n",
        "    __slots__ = ('value', 'left', 'right')\n",
        "    def __init__(self, value, left=None, right=None):\n",
        "        self.value = value\n",
        "        self.left = left\n",
        "        self.right = right"
      ],
      "metadata": {
        "id": "FE5KTdXkaHm8"
      },
      "execution_count": null,
      "outputs": []
    },
    {
      "cell_type": "markdown",
      "source": [
        "\n",
        "4. local namespace, object's attributes\n",
        "\n",
        "The locals() function returns a dictionary containing the variables defined in the local namespace.\n"
      ],
      "metadata": {
        "id": "rbhuH1PBavqh"
      }
    },
    {
      "cell_type": "code",
      "source": [
        "class Model1:\n",
        "    def __init__(self, hidden_size=100, num_layers=3, learning_rate=3e-4):\n",
        "        print(locals())\n",
        "        self.hidden_size = hidden_size\n",
        "        self.num_layers = num_layers\n",
        "        self.learning_rate = learning_rate\n",
        "\n",
        "model1 = Model1()"
      ],
      "metadata": {
        "colab": {
          "base_uri": "https://localhost:8080/"
        },
        "id": "G64GJvMAapCt",
        "outputId": "1559a699-3c43-40e3-bc10-b75560c06125"
      },
      "execution_count": null,
      "outputs": [
        {
          "output_type": "stream",
          "name": "stdout",
          "text": [
            "{'self': <__main__.Model1 object at 0x7fced17d4940>, 'hidden_size': 100, 'num_layers': 3, 'learning_rate': 0.0003}\n"
          ]
        }
      ]
    },
    {
      "cell_type": "markdown",
      "source": [
        "All attributes of an object are stored in its __dict__."
      ],
      "metadata": {
        "id": "CNLuxb4ba8ve"
      }
    },
    {
      "cell_type": "code",
      "source": [
        "model1.__dict__"
      ],
      "metadata": {
        "colab": {
          "base_uri": "https://localhost:8080/"
        },
        "id": "GsOOWM6ra3Jn",
        "outputId": "e3a48cbe-aea4-47e8-90e1-97056d770cbf"
      },
      "execution_count": null,
      "outputs": [
        {
          "output_type": "execute_result",
          "data": {
            "text/plain": [
              "{'hidden_size': 100, 'num_layers': 3, 'learning_rate': 0.0003}"
            ]
          },
          "metadata": {},
          "execution_count": 29
        }
      ]
    },
    {
      "cell_type": "markdown",
      "source": [
        "Note that manually assigning each of the arguments to an attribute can be quite tiring when the list of the arguments is large. To avoid this, we can directly assign the list of arguments to the object's __dict__."
      ],
      "metadata": {
        "id": "LNzfmXFtbO9T"
      }
    },
    {
      "cell_type": "code",
      "source": [
        "class Model2:\n",
        "    def __init__(self, hidden_size=100, num_layers=3, learning_rate=3e-4):\n",
        "        params = locals()\n",
        "        del params['self']\n",
        "        self.__dict__ = params\n",
        "\n",
        "model2 = Model2()\n",
        "model2.__dict__"
      ],
      "metadata": {
        "colab": {
          "base_uri": "https://localhost:8080/"
        },
        "id": "aZ53KRjLbBv3",
        "outputId": "0c2f586a-639f-409c-dabf-3652e3ae739d"
      },
      "execution_count": null,
      "outputs": [
        {
          "output_type": "execute_result",
          "data": {
            "text/plain": [
              "{'hidden_size': 100, 'num_layers': 3, 'learning_rate': 0.0003}"
            ]
          },
          "metadata": {},
          "execution_count": 30
        }
      ]
    },
    {
      "cell_type": "markdown",
      "source": [
        "This can be especially convenient when the object is initiated using the catch-all **kwargs."
      ],
      "metadata": {
        "id": "SXfBNHKGbbGJ"
      }
    },
    {
      "cell_type": "code",
      "source": [
        "class Model3:\n",
        "    def __init__(self, **kwargs):\n",
        "        self.__dict__ = kwargs\n",
        "\n",
        "model3 = Model3(hidden_size=100, num_layers=3, learning_rate=3e-4)\n",
        "model3.__dict__"
      ],
      "metadata": {
        "colab": {
          "base_uri": "https://localhost:8080/"
        },
        "id": "RepB5I4pbUUW",
        "outputId": "e48f470b-af67-4d90-dd49-f56680c4cc25"
      },
      "execution_count": null,
      "outputs": [
        {
          "output_type": "execute_result",
          "data": {
            "text/plain": [
              "{'hidden_size': 100, 'num_layers': 3, 'learning_rate': 0.0003}"
            ]
          },
          "metadata": {},
          "execution_count": 31
        }
      ]
    },
    {
      "cell_type": "markdown",
      "source": [
        "5. Wildcard import\n",
        "\n",
        "Often, you run into this wildcard import * that looks something like this:\n",
        "\n",
        "file.py\n",
        "\n",
        "from parts import *\n",
        "\n",
        "This is irresponsible because it will import everything in module, even the imports of that module. For example, if parts.py looks like this:\n",
        "\n",
        "parts.py\n",
        "\n",
        "import numpy\n",
        "import tensorflow\n",
        "\n",
        "class Encoder:\n",
        "    ...\n",
        "\n",
        "class Decoder:\n",
        "    ...\n",
        "\n",
        "class Loss:\n",
        "    ...\n",
        "\n",
        "def helper(*args, **kwargs):\n",
        "    ...\n",
        "\n",
        "def utils(*args, **kwargs):\n",
        "    ...\n",
        "\n",
        "Since parts.py doesn't have __all__ specified, file.py will import Encoder, Decoder, Loss, utils, helper together with numpy and tensorflow.\n",
        "\n",
        "If we intend that only Encoder, Decoder, and Loss are ever to be imported and used in another module, we should specify that in parts.py using the __all__ keyword.\n",
        "\n",
        "parts.py\n",
        "\n",
        "__all__ = ['Encoder', 'Decoder', 'Loss']\n",
        "import numpy\n",
        "import tensorflow\n",
        "\n",
        "class Encoder:\n",
        "    ...\n",
        "\n",
        "Now, if some user irresponsibly does a wildcard import with parts, they can only import Encoder, Decoder, Loss. Personally, I also find __all__ helpful as it gives me an o\n",
        "\n",
        "verview of the module.\n"
      ],
      "metadata": {
        "id": "opEbDJ3ib4Yh"
      }
    },
    {
      "cell_type": "markdown",
      "source": [
        "\n",
        "6. Decorator to time your functions\n",
        "\n",
        "It's often useful to know how long it takes a function to run, e.g. when you need to compare the performance of two algorithms that do the same thing. One naive way is to call time.time() at the begin and end of each function and print out the difference.\n",
        "\n",
        "For example: compare two algorithms to calculate the n-th Fibonacci number, one uses memoization and one doesn't.\n"
      ],
      "metadata": {
        "id": "5_UNllNMcBSn"
      }
    },
    {
      "cell_type": "code",
      "source": [
        "def fib_helper(n):\n",
        "    if n < 2:\n",
        "        return n\n",
        "    return fib_helper(n - 1) + fib_helper(n - 2)\n",
        "\n",
        "def fib(n):\n",
        "    \"\"\" fib is a wrapper function so that later we can change its behavior\n",
        "    at the top level without affecting the behavior at every recursion step.\n",
        "    \"\"\"\n",
        "    return fib_helper(n)\n",
        "\n",
        "def fib_m_helper(n, computed):\n",
        "    if n in computed:\n",
        "        return computed[n]\n",
        "    computed[n] = fib_m_helper(n - 1, computed) + fib_m_helper(n - 2, computed)\n",
        "    return computed[n]\n",
        "\n",
        "def fib_m(n):\n",
        "    return fib_m_helper(n, {0: 0, 1: 1})"
      ],
      "metadata": {
        "id": "5s99yBj7bh_y"
      },
      "execution_count": null,
      "outputs": []
    },
    {
      "cell_type": "markdown",
      "source": [
        "Let's make sure that fib and fib_m are functionally equivalent."
      ],
      "metadata": {
        "id": "db2tNdsvcTDq"
      }
    },
    {
      "cell_type": "code",
      "source": [
        "for n in range(20):\n",
        "    assert fib(n) == fib_m(n)"
      ],
      "metadata": {
        "id": "PqO6P5vDcOnA"
      },
      "execution_count": null,
      "outputs": []
    },
    {
      "cell_type": "code",
      "source": [
        "import time\n",
        "\n",
        "start = time.time()\n",
        "fib(30)\n",
        "print(f'Without memoization, it takes {time.time() - start:7f} seconds.')\n",
        "\n",
        "start = time.time()\n",
        "fib_m(30)\n",
        "print(f'With memoization, it takes {time.time() - start:.7f} seconds.')"
      ],
      "metadata": {
        "colab": {
          "base_uri": "https://localhost:8080/"
        },
        "id": "POiMWnWYcZjN",
        "outputId": "311a47be-c513-46d5-8899-967de728ee8f"
      },
      "execution_count": null,
      "outputs": [
        {
          "output_type": "stream",
          "name": "stdout",
          "text": [
            "Without memoization, it takes 1.134068 seconds.\n",
            "With memoization, it takes 0.0001600 seconds.\n"
          ]
        }
      ]
    },
    {
      "cell_type": "markdown",
      "source": [
        "\n",
        "\n",
        "If you want to time multiple functions, it can be a drag having to write the same code over and over again. It'd be nice to have a way to specify how to change any function in the same way. In this case would be to call time.time() at the beginning and the end of each function, and print out the time difference.\n",
        "\n",
        "This is exactly what decorators do. They allow programmers to change the behavior of a function or class. Here's an example to create a decorator timeit.\n"
      ],
      "metadata": {
        "id": "BlkA_v5LckSP"
      }
    },
    {
      "cell_type": "code",
      "source": [
        "def timeit(fn): \n",
        "    # *args and **kwargs are to support positional and named arguments of fn\n",
        "    def get_time(*args, **kwargs): \n",
        "        start = time.time() \n",
        "        output = fn(*args, **kwargs)\n",
        "        print(f\"Time taken in {fn.__name__}: {time.time() - start:.7f}\")\n",
        "        return output  # make sure that the decorator returns the output of fn\n",
        "    return get_time "
      ],
      "metadata": {
        "id": "0E2zaMR9cdhy"
      },
      "execution_count": null,
      "outputs": []
    },
    {
      "cell_type": "markdown",
      "source": [
        "\n",
        "\n",
        "Add the decorator @timeit to your functions.\n"
      ],
      "metadata": {
        "id": "zd2rjB47c4bf"
      }
    },
    {
      "cell_type": "code",
      "source": [
        "@timeit\n",
        "def fib(n):\n",
        "    return fib_helper(n)\n",
        "\n",
        "@timeit\n",
        "def fib_m(n):\n",
        "    return fib_m_helper(n, {0: 0, 1: 1})"
      ],
      "metadata": {
        "id": "DuI5JoX5c0m_"
      },
      "execution_count": null,
      "outputs": []
    },
    {
      "cell_type": "code",
      "source": [
        "fib(30)\n",
        "fib_m(30)"
      ],
      "metadata": {
        "colab": {
          "base_uri": "https://localhost:8080/"
        },
        "id": "n-WFB5OHc9hb",
        "outputId": "b4b54741-0768-4913-88ce-a3e6a405587b"
      },
      "execution_count": null,
      "outputs": [
        {
          "output_type": "stream",
          "name": "stdout",
          "text": [
            "Time taken in fib: 2.3256774\n",
            "Time taken in fib_m: 0.0000525\n"
          ]
        },
        {
          "output_type": "execute_result",
          "data": {
            "text/plain": [
              "832040"
            ]
          },
          "metadata": {},
          "execution_count": 37
        }
      ]
    },
    {
      "cell_type": "markdown",
      "source": [
        "\n",
        "7. Caching with @functools.lru_cache\n",
        "\n",
        "Memoization is a form of cache: we cache the previously calculated Fibonacci numbers so that we don't have to calculate them again.\n",
        "\n",
        "Caching is such an important technique that Python provides a built-in decorator to give your function the caching capacity. If you want fib_helper to reuse the previously calculated Fibonacci numbers, you can just add the decorator lru_cache from functools. lru stands for \"least recently used\". For more information on cache, see here.\n"
      ],
      "metadata": {
        "id": "MUeHvmg_dIA_"
      }
    },
    {
      "cell_type": "code",
      "source": [
        "import functools\n",
        "\n",
        "@functools.lru_cache()\n",
        "def fib_helper(n):\n",
        "    if n < 2:\n",
        "        return n\n",
        "    return fib_helper(n - 1) + fib_helper(n - 2)\n",
        "\n",
        "@timeit\n",
        "def fib(n):\n",
        "    \"\"\" fib is a wrapper function so that later we can change its behavior\n",
        "    at the top level without affecting the behavior at every recursion step.\n",
        "    \"\"\"\n",
        "    return fib_helper(n)"
      ],
      "metadata": {
        "id": "fc819K11dBjC"
      },
      "execution_count": null,
      "outputs": []
    },
    {
      "cell_type": "code",
      "source": [
        "fib(50)\n",
        "fib_m(50)"
      ],
      "metadata": {
        "colab": {
          "base_uri": "https://localhost:8080/"
        },
        "id": "w50TCaq4dMfV",
        "outputId": "11251f2e-ac0b-439a-dfcc-ebd4ba169df1"
      },
      "execution_count": null,
      "outputs": [
        {
          "output_type": "stream",
          "name": "stdout",
          "text": [
            "Time taken in fib: 0.0002298\n",
            "Time taken in fib_m: 0.0001099\n"
          ]
        },
        {
          "output_type": "execute_result",
          "data": {
            "text/plain": [
              "12586269025"
            ]
          },
          "metadata": {},
          "execution_count": 39
        }
      ]
    },
    {
      "cell_type": "code",
      "source": [],
      "metadata": {
        "id": "Fi4NgEISdP97"
      },
      "execution_count": null,
      "outputs": []
    }
  ]
}