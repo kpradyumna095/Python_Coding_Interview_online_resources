{
  "nbformat": 4,
  "nbformat_minor": 0,
  "metadata": {
    "colab": {
      "provenance": []
    },
    "kernelspec": {
      "name": "python3",
      "display_name": "Python 3"
    },
    "language_info": {
      "name": "python"
    }
  },
  "cells": [
    {
      "cell_type": "markdown",
      "source": [
        "https://towardsdatascience.com/5-python-tricks-that-distinguish-senior-developers-from-juniors-826d57ab3940"
      ],
      "metadata": {
        "id": "V30FIvHI2RFa"
      }
    },
    {
      "cell_type": "markdown",
      "source": [
        "1. Read in a file effectively with comprehensions and splits\n",
        "\n",
        "On Day1 of AoC it is required to read in several blocks of numbers. Each block is separated by an empty line (thus actually '\\n’).\n",
        "\n",
        "Input and desired output"
      ],
      "metadata": {
        "id": "-BsY0LDM2i31"
      }
    },
    {
      "cell_type": "markdown",
      "source": [
        "1. Read in a file effectively with comprehensions and splits\n",
        "\n",
        "On Day1 of AoC it is required to read in several blocks of numbers. Each block is separated by an empty line (thus actually '\\n’).\n",
        "\n",
        "Input and desired output"
      ],
      "metadata": {
        "id": "-TRMWLlU2zxd"
      }
    },
    {
      "cell_type": "markdown",
      "source": [
        "# INPUT\n",
        "10\n",
        "\n",
        "20\n",
        "\n",
        "30\n",
        "\n",
        "50\n",
        "\n",
        "60\n",
        "\n",
        "70\n",
        "\n",
        "# DESIRED OUTPUT\n",
        "[[10, 20, 30], [50, 60 70]]"
      ],
      "metadata": {
        "id": "Okv3K8lk23eA"
      }
    },
    {
      "cell_type": "markdown",
      "source": [
        "Junior developer approach: a loop with if-else statements"
      ],
      "metadata": {
        "id": "E1RBuTXn3DBv"
      }
    },
    {
      "cell_type": "code",
      "execution_count": null,
      "metadata": {
        "colab": {
          "base_uri": "https://localhost:8080/",
          "height": 236
        },
        "id": "1Yekp3k92IhB",
        "outputId": "588c02fe-a8ef-4e1a-b461-b5e6314a76cd"
      },
      "outputs": [
        {
          "output_type": "error",
          "ename": "FileNotFoundError",
          "evalue": "ignored",
          "traceback": [
            "\u001b[0;31m---------------------------------------------------------------------------\u001b[0m",
            "\u001b[0;31mFileNotFoundError\u001b[0m                         Traceback (most recent call last)",
            "\u001b[0;32m<ipython-input-4-d6f9fd7a256c>\u001b[0m in \u001b[0;36m<module>\u001b[0;34m\u001b[0m\n\u001b[1;32m      1\u001b[0m \u001b[0mnumbers\u001b[0m \u001b[0;34m=\u001b[0m \u001b[0;34m[\u001b[0m\u001b[0;34m]\u001b[0m\u001b[0;34m\u001b[0m\u001b[0;34m\u001b[0m\u001b[0m\n\u001b[0;32m----> 2\u001b[0;31m \u001b[0;32mwith\u001b[0m \u001b[0mopen\u001b[0m\u001b[0;34m(\u001b[0m\u001b[0;34m\"file.txt\"\u001b[0m\u001b[0;34m)\u001b[0m \u001b[0;32mas\u001b[0m \u001b[0mf\u001b[0m\u001b[0;34m:\u001b[0m\u001b[0;34m\u001b[0m\u001b[0;34m\u001b[0m\u001b[0m\n\u001b[0m\u001b[1;32m      3\u001b[0m   \u001b[0mgroup\u001b[0m \u001b[0;34m=\u001b[0m \u001b[0;34m[\u001b[0m\u001b[0;34m]\u001b[0m\u001b[0;34m\u001b[0m\u001b[0;34m\u001b[0m\u001b[0m\n\u001b[1;32m      4\u001b[0m   \u001b[0;32mfor\u001b[0m \u001b[0mline\u001b[0m \u001b[0;32min\u001b[0m \u001b[0mf\u001b[0m\u001b[0;34m:\u001b[0m\u001b[0;34m\u001b[0m\u001b[0;34m\u001b[0m\u001b[0m\n\u001b[1;32m      5\u001b[0m     \u001b[0;32mif\u001b[0m \u001b[0mline\u001b[0m \u001b[0;34m==\u001b[0m \u001b[0;34m\"\\n\"\u001b[0m\u001b[0;34m:\u001b[0m\u001b[0;34m\u001b[0m\u001b[0;34m\u001b[0m\u001b[0m\n",
            "\u001b[0;31mFileNotFoundError\u001b[0m: [Errno 2] No such file or directory: 'file.txt'"
          ]
        }
      ],
      "source": [
        "numbers = []\n",
        "with open(\"file.txt\") as f:\n",
        "  group = []\n",
        "  for line in f:\n",
        "    if line == \"\\n\":\n",
        "      numbers.append(group)\n",
        "      group = []\n",
        "    else:\n",
        "      group.append(int(line.rstrip()))\n",
        "  # append the last group because if line == \"\\n\" will not be True for\n",
        "  # the last group\n",
        "  numbers.append(group)"
      ]
    },
    {
      "cell_type": "markdown",
      "source": [
        "Senior developer approach: make use of list comprehensions and .split()"
      ],
      "metadata": {
        "id": "urd-d3CE4CJv"
      }
    },
    {
      "cell_type": "code",
      "source": [
        "with open(\"file.txt\") as f:\n",
        "  # split input into groups based on empty lines\n",
        "  groups = f.read().rstrip().split(\"\\n\\n\")\n",
        "  # convert all the values in the groups into integers\n",
        "  nums = [list(map(int, (group.split()))) for group in groups]"
      ],
      "metadata": {
        "colab": {
          "base_uri": "https://localhost:8080/",
          "height": 236
        },
        "id": "MxZ0fKnr3fvg",
        "outputId": "6e9bd91b-b0de-48f7-8dc9-6b2399334541"
      },
      "execution_count": null,
      "outputs": [
        {
          "output_type": "error",
          "ename": "FileNotFoundError",
          "evalue": "ignored",
          "traceback": [
            "\u001b[0;31m---------------------------------------------------------------------------\u001b[0m",
            "\u001b[0;31mFileNotFoundError\u001b[0m                         Traceback (most recent call last)",
            "\u001b[0;32m<ipython-input-5-e4279bbb0a00>\u001b[0m in \u001b[0;36m<module>\u001b[0;34m\u001b[0m\n\u001b[0;32m----> 1\u001b[0;31m \u001b[0;32mwith\u001b[0m \u001b[0mopen\u001b[0m\u001b[0;34m(\u001b[0m\u001b[0;34m\"file.txt\"\u001b[0m\u001b[0;34m)\u001b[0m \u001b[0;32mas\u001b[0m \u001b[0mf\u001b[0m\u001b[0;34m:\u001b[0m\u001b[0;34m\u001b[0m\u001b[0;34m\u001b[0m\u001b[0m\n\u001b[0m\u001b[1;32m      2\u001b[0m   \u001b[0;31m# split input into groups based on empty lines\u001b[0m\u001b[0;34m\u001b[0m\u001b[0;34m\u001b[0m\u001b[0;34m\u001b[0m\u001b[0m\n\u001b[1;32m      3\u001b[0m   \u001b[0mgroups\u001b[0m \u001b[0;34m=\u001b[0m \u001b[0mf\u001b[0m\u001b[0;34m.\u001b[0m\u001b[0mread\u001b[0m\u001b[0;34m(\u001b[0m\u001b[0;34m)\u001b[0m\u001b[0;34m.\u001b[0m\u001b[0mrstrip\u001b[0m\u001b[0;34m(\u001b[0m\u001b[0;34m)\u001b[0m\u001b[0;34m.\u001b[0m\u001b[0msplit\u001b[0m\u001b[0;34m(\u001b[0m\u001b[0;34m\"\\n\\n\"\u001b[0m\u001b[0;34m)\u001b[0m\u001b[0;34m\u001b[0m\u001b[0;34m\u001b[0m\u001b[0m\n\u001b[1;32m      4\u001b[0m   \u001b[0;31m# convert all the values in the groups into integers\u001b[0m\u001b[0;34m\u001b[0m\u001b[0;34m\u001b[0m\u001b[0;34m\u001b[0m\u001b[0m\n\u001b[1;32m      5\u001b[0m   \u001b[0mnums\u001b[0m \u001b[0;34m=\u001b[0m \u001b[0;34m[\u001b[0m\u001b[0mlist\u001b[0m\u001b[0;34m(\u001b[0m\u001b[0mmap\u001b[0m\u001b[0;34m(\u001b[0m\u001b[0mint\u001b[0m\u001b[0;34m,\u001b[0m \u001b[0;34m(\u001b[0m\u001b[0mgroup\u001b[0m\u001b[0;34m.\u001b[0m\u001b[0msplit\u001b[0m\u001b[0;34m(\u001b[0m\u001b[0;34m)\u001b[0m\u001b[0;34m)\u001b[0m\u001b[0;34m)\u001b[0m\u001b[0;34m)\u001b[0m \u001b[0;32mfor\u001b[0m \u001b[0mgroup\u001b[0m \u001b[0;32min\u001b[0m \u001b[0mgroups\u001b[0m\u001b[0;34m]\u001b[0m\u001b[0;34m\u001b[0m\u001b[0;34m\u001b[0m\u001b[0m\n",
            "\u001b[0;31mFileNotFoundError\u001b[0m: [Errno 2] No such file or directory: 'file.txt'"
          ]
        }
      ]
    },
    {
      "cell_type": "markdown",
      "source": [
        "Using list comprehensions we can fit the 10 previous lines into two, without losing significant (if any) understandability or readability, and while gaining in performance (list comprehensions are faster than regular loops). For those that haven’t seen map before, map maps a function (the first argument) to an iterable in the second argument. In this specific situation, it applies int() to every value in the list, making every item an integer. For more info about map click here."
      ],
      "metadata": {
        "id": "PUiOuapL4g8I"
      }
    },
    {
      "cell_type": "markdown",
      "source": [
        "2. Use Enum instead of if-elif-else\n",
        "\n",
        "On Day2 the challenge revolves around a game of rock-paper-scissors. A different chosen shape (rock, paper, or scissors) results in a different amount of points: 1 (X), 2 (Y), and 3 (Z) respectively. Here below are two approaches to tackle this problem.\n",
        "\n",
        "Input and desired output"
      ],
      "metadata": {
        "id": "HZ_ksZwX4wV-"
      }
    },
    {
      "cell_type": "markdown",
      "source": [
        "Input and desired output\n",
        "\n",
        "# INPUT\n",
        "X\n",
        "Y\n",
        "Z\n",
        "\n",
        "# DESIRED OUTPUT\n",
        "1\n",
        "2\n",
        "3"
      ],
      "metadata": {
        "id": "qfaSoGQm49vJ"
      }
    },
    {
      "cell_type": "markdown",
      "source": [
        "Junior developer approach: if-elif-else"
      ],
      "metadata": {
        "id": "7kYLHQ_R5CTj"
      }
    },
    {
      "cell_type": "code",
      "source": [
        "def points_per_shape(shape: str) -> int:\n",
        "  if shape == 'X':\n",
        "    return 1\n",
        "  elif shape == 'Y':\n",
        "    return 2\n",
        "  elif shape == 'Z':\n",
        "    return 3\n",
        "  else:\n",
        "    raise ValueError('Invalid shape')"
      ],
      "metadata": {
        "id": "xQ7XRkNX4GSq"
      },
      "execution_count": null,
      "outputs": []
    },
    {
      "cell_type": "markdown",
      "source": [
        "Senior developer approach: Enum"
      ],
      "metadata": {
        "id": "lmyMdAr45Loz"
      }
    },
    {
      "cell_type": "code",
      "source": [
        "from enum import Enum\n",
        "\n",
        "class ShapePoints(Enum):\n",
        "  X = 1\n",
        "  Y = 2\n",
        "  Z = 3\n",
        "\n",
        "def points_per_shape(shape: str) -> int:\n",
        "  return ShapePoints[shape].value"
      ],
      "metadata": {
        "id": "pJQ8qmkJ5FTY"
      },
      "execution_count": null,
      "outputs": []
    },
    {
      "cell_type": "markdown",
      "source": [
        "Of course, in this example, the naive approach isn’t that terrible but using Enum results in shorter and more readable code. Especially when more options are possible the naive if-elif-else approach will get worse and worse, while with Enum it stays relatively easy to keep an overview. For more on Enum click here."
      ],
      "metadata": {
        "id": "Ay-lrrhx5YqL"
      }
    },
    {
      "cell_type": "markdown",
      "source": [
        "3. Use lookup tables instead of dictionaries\n",
        "\n",
        "In Day3 letters have different values. Lowercase a-z has values 1 through 26, and uppercase a-z has values 27 through 52. Because of the many different possible values, using Enum like here above would result in many lines of code. A more practical approach here is to use a lookup table:"
      ],
      "metadata": {
        "id": "wvL_JZ7z5hiy"
      }
    },
    {
      "cell_type": "markdown",
      "source": [
        "# INPUT\n",
        "c\n",
        "Z\n",
        "a\n",
        "...\n",
        "\n",
        "# DESIRED OUPUT\n",
        "3\n",
        "52\n",
        "1\n",
        "..."
      ],
      "metadata": {
        "id": "ZVpN0n-U5sM_"
      }
    },
    {
      "cell_type": "markdown",
      "source": [
        "Junior developer approach: creating a global dictionary"
      ],
      "metadata": {
        "id": "1F5sv-u955_A"
      }
    },
    {
      "cell_type": "code",
      "source": [
        "letters = 'abcdefghijklmnopqrstuvwxyzABCDEFGHIJKLMNOPQRSTUVWXYZ'\n",
        "letter_dict = dict()\n",
        "for value, letter in enumerate(letters, start=1):\n",
        "  letter_dict[letter] = value\n",
        "\n",
        "def letter_value(ltr: str) -> int:\n",
        "  return letter_dict[ltr]"
      ],
      "metadata": {
        "id": "ZTYYCR5P5POQ"
      },
      "execution_count": null,
      "outputs": []
    },
    {
      "cell_type": "markdown",
      "source": [
        "Senior developer approach: using a string as a lookup table"
      ],
      "metadata": {
        "id": "HUwshC926DGD"
      }
    },
    {
      "cell_type": "code",
      "source": [
        "def letter_value(ltr: str) -> int\n",
        "  return 'abcdefghijklmnopqrstuvwxyzABCDEFGHIJKLMNOPQRSTUVWXYZ'.index(ltr) + 1"
      ],
      "metadata": {
        "colab": {
          "base_uri": "https://localhost:8080/",
          "height": 131
        },
        "id": "bTOpgDq-5_BB",
        "outputId": "d78573a2-74a5-44c8-e4d4-81ac337ac975"
      },
      "execution_count": null,
      "outputs": [
        {
          "output_type": "error",
          "ename": "SyntaxError",
          "evalue": "ignored",
          "traceback": [
            "\u001b[0;36m  File \u001b[0;32m\"<ipython-input-9-8aeecc3be42b>\"\u001b[0;36m, line \u001b[0;32m1\u001b[0m\n\u001b[0;31m    def letter_value(ltr: str) -> int\u001b[0m\n\u001b[0m                                     ^\u001b[0m\n\u001b[0;31mSyntaxError\u001b[0m\u001b[0;31m:\u001b[0m invalid syntax\n"
          ]
        }
      ]
    },
    {
      "cell_type": "markdown",
      "source": [
        "Using the .index() method of a string we get the index, hence letters.index('c')+1 will result in the expected value of 3. There is no need to store the values in a dictionary because the index is the value. To prevent the +1 you could simply add a whitespace character at the beginning of the string so that the index of a starts on 1. However, this depends on whether you’d like to return a value of 0 for a whitespace or an error.\n",
        "\n",
        "As you might have thought by now, yes, we could also solve the rock, paper scissors task using a lookup table:"
      ],
      "metadata": {
        "id": "OS5UTjjW6XcE"
      }
    },
    {
      "cell_type": "code",
      "source": [
        "def points_per_shape(shape: str) -> int:\n",
        "  return 'XYZ'.index(shape) + 1"
      ],
      "metadata": {
        "id": "SRgmUAaI6HfI"
      },
      "execution_count": null,
      "outputs": []
    },
    {
      "cell_type": "markdown",
      "source": [
        "4. Advanced slicing\n",
        "\n",
        "On Day5 it is required to read letters from lines (see input below). Each letter is on a fourth index, starting from index 1. Now, virtually every Python programmer will be familiar with string and list slicing using e.g. list_[10:20] . But what many people don’t know is that you can define step size using e.g. list_[10:20:2] to define a step size of 2. On Day5 (and in many other coding situations) this could save you a lot of unnecessarily complicated code:"
      ],
      "metadata": {
        "id": "PGs_T6Iv6oqS"
      }
    },
    {
      "cell_type": "markdown",
      "source": [
        "# INPUT\n",
        "    [D]    \n",
        "[N] [C]    \n",
        "[Z] [M] [P]\n",
        "\n",
        "# DESIRED OUTPUT\n",
        "[' D ', 'NC', 'ZMP']"
      ],
      "metadata": {
        "id": "1LwVC-WC6sp3"
      }
    },
    {
      "cell_type": "markdown",
      "source": [
        "Junior developer approach: double for loop with range and indices"
      ],
      "metadata": {
        "id": "T_7c3lFr6zvo"
      }
    },
    {
      "cell_type": "code",
      "source": [
        "letters = []\n",
        "with open('input.txt') as f:\n",
        "  for line in f:\n",
        "    row = ''\n",
        "    for index in range(1, len(line), 4):\n",
        "      row += line[index]\n",
        "    letters.append(row)"
      ],
      "metadata": {
        "colab": {
          "base_uri": "https://localhost:8080/",
          "height": 236
        },
        "id": "f12BzP4f6cdS",
        "outputId": "fa47c869-f9c1-47fc-a444-e0180b5e8572"
      },
      "execution_count": null,
      "outputs": [
        {
          "output_type": "error",
          "ename": "FileNotFoundError",
          "evalue": "ignored",
          "traceback": [
            "\u001b[0;31m---------------------------------------------------------------------------\u001b[0m",
            "\u001b[0;31mFileNotFoundError\u001b[0m                         Traceback (most recent call last)",
            "\u001b[0;32m<ipython-input-11-eed2b1c470c0>\u001b[0m in \u001b[0;36m<module>\u001b[0;34m\u001b[0m\n\u001b[1;32m      1\u001b[0m \u001b[0mletters\u001b[0m \u001b[0;34m=\u001b[0m \u001b[0;34m[\u001b[0m\u001b[0;34m]\u001b[0m\u001b[0;34m\u001b[0m\u001b[0;34m\u001b[0m\u001b[0m\n\u001b[0;32m----> 2\u001b[0;31m \u001b[0;32mwith\u001b[0m \u001b[0mopen\u001b[0m\u001b[0;34m(\u001b[0m\u001b[0;34m'input.txt'\u001b[0m\u001b[0;34m)\u001b[0m \u001b[0;32mas\u001b[0m \u001b[0mf\u001b[0m\u001b[0;34m:\u001b[0m\u001b[0;34m\u001b[0m\u001b[0;34m\u001b[0m\u001b[0m\n\u001b[0m\u001b[1;32m      3\u001b[0m   \u001b[0;32mfor\u001b[0m \u001b[0mline\u001b[0m \u001b[0;32min\u001b[0m \u001b[0mf\u001b[0m\u001b[0;34m:\u001b[0m\u001b[0;34m\u001b[0m\u001b[0;34m\u001b[0m\u001b[0m\n\u001b[1;32m      4\u001b[0m     \u001b[0mrow\u001b[0m \u001b[0;34m=\u001b[0m \u001b[0;34m''\u001b[0m\u001b[0;34m\u001b[0m\u001b[0;34m\u001b[0m\u001b[0m\n\u001b[1;32m      5\u001b[0m     \u001b[0;32mfor\u001b[0m \u001b[0mindex\u001b[0m \u001b[0;32min\u001b[0m \u001b[0mrange\u001b[0m\u001b[0;34m(\u001b[0m\u001b[0;36m1\u001b[0m\u001b[0;34m,\u001b[0m \u001b[0mlen\u001b[0m\u001b[0;34m(\u001b[0m\u001b[0mline\u001b[0m\u001b[0;34m)\u001b[0m\u001b[0;34m,\u001b[0m \u001b[0;36m4\u001b[0m\u001b[0;34m)\u001b[0m\u001b[0;34m:\u001b[0m\u001b[0;34m\u001b[0m\u001b[0;34m\u001b[0m\u001b[0m\n",
            "\u001b[0;31mFileNotFoundError\u001b[0m: [Errno 2] No such file or directory: 'input.txt'"
          ]
        }
      ]
    },
    {
      "cell_type": "markdown",
      "source": [
        "Senior developer approach: using advanced slicing methods"
      ],
      "metadata": {
        "id": "svhStAF769ly"
      }
    },
    {
      "cell_type": "code",
      "source": [
        "with open('input.txt') as f:\n",
        "  letters = [line[1::4] for line in f]"
      ],
      "metadata": {
        "colab": {
          "base_uri": "https://localhost:8080/",
          "height": 184
        },
        "id": "DnkhETNe66eO",
        "outputId": "557f8f28-8cb7-4758-f0cc-976d3cbc6c1a"
      },
      "execution_count": null,
      "outputs": [
        {
          "output_type": "error",
          "ename": "FileNotFoundError",
          "evalue": "ignored",
          "traceback": [
            "\u001b[0;31m---------------------------------------------------------------------------\u001b[0m",
            "\u001b[0;31mFileNotFoundError\u001b[0m                         Traceback (most recent call last)",
            "\u001b[0;32m<ipython-input-12-cb05b4842e7c>\u001b[0m in \u001b[0;36m<module>\u001b[0;34m\u001b[0m\n\u001b[0;32m----> 1\u001b[0;31m \u001b[0;32mwith\u001b[0m \u001b[0mopen\u001b[0m\u001b[0;34m(\u001b[0m\u001b[0;34m'input.txt'\u001b[0m\u001b[0;34m)\u001b[0m \u001b[0;32mas\u001b[0m \u001b[0mf\u001b[0m\u001b[0;34m:\u001b[0m\u001b[0;34m\u001b[0m\u001b[0;34m\u001b[0m\u001b[0m\n\u001b[0m\u001b[1;32m      2\u001b[0m   \u001b[0mletters\u001b[0m \u001b[0;34m=\u001b[0m \u001b[0;34m[\u001b[0m\u001b[0mline\u001b[0m\u001b[0;34m[\u001b[0m\u001b[0;36m1\u001b[0m\u001b[0;34m:\u001b[0m\u001b[0;34m:\u001b[0m\u001b[0;36m4\u001b[0m\u001b[0;34m]\u001b[0m \u001b[0;32mfor\u001b[0m \u001b[0mline\u001b[0m \u001b[0;32min\u001b[0m \u001b[0mf\u001b[0m\u001b[0;34m]\u001b[0m\u001b[0;34m\u001b[0m\u001b[0;34m\u001b[0m\u001b[0m\n",
            "\u001b[0;31mFileNotFoundError\u001b[0m: [Errno 2] No such file or directory: 'input.txt'"
          ]
        }
      ]
    },
    {
      "cell_type": "markdown",
      "source": [
        "5. Use a class attribute to store class instances\n",
        "\n",
        "On Day11 a situation is described in which monkies pass objects to each other. In order to simplify we’ll pretend that they’re simply passing bananas to each other. Each monkey can be represented as an instance of a Python class with their id and their amount of bananas as instance attributes. However, there are many monkeys and they need to be able to interact with each other. A trick to store all the monkeys and for them to be able to interact with each other is to define a dictionary with all Monkey instances as a class attribute of the Monkey class. Using Monkey.monkeys[id] you can access all existing monkies without the need of a Monkies class or an external dictionary:"
      ],
      "metadata": {
        "id": "aB3xGQhO7OxR"
      }
    },
    {
      "cell_type": "code",
      "source": [
        "class Monkey:\n",
        "  monkeys: dict = dict()\n",
        "\n",
        "  def __init__(self, id: int):\n",
        "      self.id = id\n",
        "      self.bananas = 3\n",
        "      Monkey.monkeys[id] = self\n",
        "  \n",
        "  def pass_banana(self, to_id: int):\n",
        "      Monkey.monkeys[to_id].bananas += 1\n",
        "      self.bananas -= 1\n",
        "\n",
        "Monkey(1)\n",
        "Monkey(2)\n",
        "Monkey.monkeys[1].pass_banana(to_id=2)\n",
        "\n",
        "print(Monkey.monkeys[1].bananas)\n",
        "2\n",
        "\n",
        "print(Monkey.monkeys[2].bananas)\n",
        "4"
      ],
      "metadata": {
        "colab": {
          "base_uri": "https://localhost:8080/"
        },
        "id": "TpdvjY4R7ApG",
        "outputId": "822beb28-9425-4224-a51d-841bf5440d8b"
      },
      "execution_count": null,
      "outputs": [
        {
          "output_type": "stream",
          "name": "stdout",
          "text": [
            "2\n",
            "4\n"
          ]
        },
        {
          "output_type": "execute_result",
          "data": {
            "text/plain": [
              "4"
            ]
          },
          "metadata": {},
          "execution_count": 13
        }
      ]
    },
    {
      "cell_type": "markdown",
      "source": [
        "6. Self-documenting expressions (BONUS)\n",
        "\n",
        "This trick is applicable virtually every time you write a Python program. Instead of defining in an f-string what you are printing (e.g.\n",
        "print(f\"x = {x}\") you can use print(f\"{x = }”) to print the value with a specification of what you are printing."
      ],
      "metadata": {
        "id": "18Dv_P8q7Y5R"
      }
    },
    {
      "cell_type": "markdown",
      "source": [
        "# INPUT\n",
        "x = 10 * 2\n",
        "y = 3 * 7\n",
        "\n",
        "max(x,y)\n",
        "\n",
        "# DESIRED OUTPUT\n",
        "x = 20\n",
        "y = 21\n",
        "\n",
        "max(x,y) = 21"
      ],
      "metadata": {
        "id": "nB7RkvcC7cJK"
      }
    },
    {
      "cell_type": "markdown",
      "source": [
        "Junior developer approach:"
      ],
      "metadata": {
        "id": "1RJuC0Kh7gK-"
      }
    },
    {
      "cell_type": "code",
      "source": [
        "print(f\"x = {x}\")\n",
        "print(f\"y = {y}\")\n",
        "\n",
        "print(f\"max(x,y) = {max(x,y)}\")"
      ],
      "metadata": {
        "colab": {
          "base_uri": "https://localhost:8080/",
          "height": 218
        },
        "id": "YV4HyNun7Tjn",
        "outputId": "a779d8a5-493e-47c7-c7a8-bd0ec3ece5ee"
      },
      "execution_count": null,
      "outputs": [
        {
          "output_type": "error",
          "ename": "NameError",
          "evalue": "ignored",
          "traceback": [
            "\u001b[0;31m---------------------------------------------------------------------------\u001b[0m",
            "\u001b[0;31mNameError\u001b[0m                                 Traceback (most recent call last)",
            "\u001b[0;32m<ipython-input-14-a683b1342130>\u001b[0m in \u001b[0;36m<module>\u001b[0;34m\u001b[0m\n\u001b[0;32m----> 1\u001b[0;31m \u001b[0mprint\u001b[0m\u001b[0;34m(\u001b[0m\u001b[0;34mf\"x = {x}\"\u001b[0m\u001b[0;34m)\u001b[0m\u001b[0;34m\u001b[0m\u001b[0;34m\u001b[0m\u001b[0m\n\u001b[0m\u001b[1;32m      2\u001b[0m \u001b[0mprint\u001b[0m\u001b[0;34m(\u001b[0m\u001b[0;34mf\"y = {y}\"\u001b[0m\u001b[0;34m)\u001b[0m\u001b[0;34m\u001b[0m\u001b[0;34m\u001b[0m\u001b[0m\n\u001b[1;32m      3\u001b[0m \u001b[0;34m\u001b[0m\u001b[0m\n\u001b[1;32m      4\u001b[0m \u001b[0mprint\u001b[0m\u001b[0;34m(\u001b[0m\u001b[0;34mf\"max(x,y) = {max(x,y)}\"\u001b[0m\u001b[0;34m)\u001b[0m\u001b[0;34m\u001b[0m\u001b[0;34m\u001b[0m\u001b[0m\n",
            "\u001b[0;31mNameError\u001b[0m: name 'x' is not defined"
          ]
        }
      ]
    },
    {
      "cell_type": "markdown",
      "source": [
        "Senior developer approach:"
      ],
      "metadata": {
        "id": "jJxqdnfE7nqX"
      }
    },
    {
      "cell_type": "code",
      "source": [
        "print(f\"{x = }\")\n",
        "print(f\"{y = }\")\n",
        "\n",
        "print(f\"{max(x,y) = }\")"
      ],
      "metadata": {
        "colab": {
          "base_uri": "https://localhost:8080/",
          "height": 218
        },
        "id": "Gd-TzYjW7kN1",
        "outputId": "8647af4d-3a7a-43e8-8c85-238d464ca65f"
      },
      "execution_count": null,
      "outputs": [
        {
          "output_type": "error",
          "ename": "NameError",
          "evalue": "ignored",
          "traceback": [
            "\u001b[0;31m---------------------------------------------------------------------------\u001b[0m",
            "\u001b[0;31mNameError\u001b[0m                                 Traceback (most recent call last)",
            "\u001b[0;32m<ipython-input-15-486acbe75674>\u001b[0m in \u001b[0;36m<module>\u001b[0;34m\u001b[0m\n\u001b[0;32m----> 1\u001b[0;31m \u001b[0mprint\u001b[0m\u001b[0;34m(\u001b[0m\u001b[0;34mf\"{x = }\"\u001b[0m\u001b[0;34m)\u001b[0m\u001b[0;34m\u001b[0m\u001b[0;34m\u001b[0m\u001b[0m\n\u001b[0m\u001b[1;32m      2\u001b[0m \u001b[0mprint\u001b[0m\u001b[0;34m(\u001b[0m\u001b[0;34mf\"{y = }\"\u001b[0m\u001b[0;34m)\u001b[0m\u001b[0;34m\u001b[0m\u001b[0;34m\u001b[0m\u001b[0m\n\u001b[1;32m      3\u001b[0m \u001b[0;34m\u001b[0m\u001b[0m\n\u001b[1;32m      4\u001b[0m \u001b[0mprint\u001b[0m\u001b[0;34m(\u001b[0m\u001b[0;34mf\"{max(x,y) = }\"\u001b[0m\u001b[0;34m)\u001b[0m\u001b[0;34m\u001b[0m\u001b[0;34m\u001b[0m\u001b[0m\n",
            "\u001b[0;31mNameError\u001b[0m: name 'x' is not defined"
          ]
        }
      ]
    },
    {
      "cell_type": "code",
      "source": [],
      "metadata": {
        "id": "wF6mU5Xg7q8B"
      },
      "execution_count": null,
      "outputs": []
    }
  ]
}