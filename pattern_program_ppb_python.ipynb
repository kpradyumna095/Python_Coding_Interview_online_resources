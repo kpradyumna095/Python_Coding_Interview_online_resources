{
  "nbformat": 4,
  "nbformat_minor": 0,
  "metadata": {
    "colab": {
      "provenance": []
    },
    "kernelspec": {
      "name": "python3",
      "display_name": "Python 3"
    },
    "language_info": {
      "name": "python"
    }
  },
  "cells": [
    {
      "cell_type": "markdown",
      "source": [
        "write a python program to print the following pattern\n",
        "\n",
        "    1 \n",
        "\n",
        "   2 2 \n",
        "\n",
        "  3 3 3 \n",
        "\n",
        " 4 4 4 4 \n",
        "\n",
        "5 5 5 5 5 \n",
        "\n",
        "6 6 6 6 6 6\n",
        "\n",
        "7 7 7 7 7 7 7\n",
        "\n",
        "8 8 8 8 8 8 8 8\n",
        "\n",
        "9 9 9 9 9 9 9 9 9\n"
      ],
      "metadata": {
        "id": "nsB4s6TltocD"
      }
    },
    {
      "cell_type": "code",
      "execution_count": 2,
      "metadata": {
        "colab": {
          "base_uri": "https://localhost:8080/"
        },
        "id": "FGE_qYP-taqu",
        "outputId": "cb9b4760-da1e-4405-ad50-82046fef064a"
      },
      "outputs": [
        {
          "output_type": "stream",
          "name": "stdout",
          "text": [
            "        1 \n",
            "\n",
            "       2 2 \n",
            "\n",
            "      3 3 3 \n",
            "\n",
            "     4 4 4 4 \n",
            "\n",
            "    5 5 5 5 5 \n",
            "\n",
            "   6 6 6 6 6 6 \n",
            "\n",
            "  7 7 7 7 7 7 7 \n",
            "\n",
            " 8 8 8 8 8 8 8 8 \n",
            "\n",
            "9 9 9 9 9 9 9 9 9 \n",
            "\n"
          ]
        }
      ],
      "source": [
        "#@title\n",
        "n=9\n",
        "for i in range(1,n+1):\n",
        "  print(\" \"*(n-i),end=\"\")\n",
        "  for j in range(i):\n",
        "    print(i,end=\" \")\n",
        "  print(\"\\n\")"
      ]
    },
    {
      "cell_type": "code",
      "source": [],
      "metadata": {
        "id": "k712AYrMtuLy"
      },
      "execution_count": null,
      "outputs": []
    }
  ]
}