{
  "nbformat": 4,
  "nbformat_minor": 0,
  "metadata": {
    "colab": {
      "provenance": []
    },
    "kernelspec": {
      "name": "python3",
      "display_name": "Python 3"
    },
    "language_info": {
      "name": "python"
    }
  },
  "cells": [
    {
      "cell_type": "code",
      "execution_count": null,
      "metadata": {
        "id": "mJIk_76mxUiR"
      },
      "outputs": [],
      "source": [
        "#https://builtin.com/data-science/python-code-snippets"
      ]
    },
    {
      "cell_type": "code",
      "source": [
        "#3 Python Snippets For Your Toolkit\n",
        "\n",
        "    #Merge two lists into a dictionary\n",
        "    #Merge two or more lists into a list of lists\n",
        "    #Sort a list of dictionaries\n",
        "    #Sort a list of strings\n",
        "    #Sort a list based on another list\n",
        "    #Map a list into a dictionary\n",
        "    #Merging two or more dictionaries\n",
        "    #Inverting a dictionary\n",
        "    #Using f strings\n",
        "    #Checking for substrings\n",
        "    #Get a string’s size in bytes\n",
        "    #Checking if a file exists\n",
        "    #Parsing a spreadsheet"
      ],
      "metadata": {
        "id": "hIZcwluIyDl4"
      },
      "execution_count": null,
      "outputs": []
    },
    {
      "cell_type": "code",
      "source": [
        "#List Snippets\n",
        "\n",
        "#We’ll start with a few snippets about Python’s most-used data structure: lists."
      ],
      "metadata": {
        "id": "DQ2iM1VEyTc2"
      },
      "execution_count": null,
      "outputs": []
    },
    {
      "cell_type": "markdown",
      "source": [
        "1. Merge Two Lists Into a Dictionary"
      ],
      "metadata": {
        "id": "iY1L3w4t3ogy"
      }
    },
    {
      "cell_type": "code",
      "source": [
        "keys_list = ['A', 'B', 'C']\n",
        "values_list = ['blue', 'red', 'bold']\n"
      ],
      "metadata": {
        "id": "P9QaCoAlyhB3"
      },
      "execution_count": null,
      "outputs": []
    },
    {
      "cell_type": "code",
      "source": [
        "#There are 3 ways to convert these two lists into a dictionary\n",
        "#1- Using Python's zip, dict functionz\n",
        "dict_method_1 = dict(zip(keys_list, values_list))"
      ],
      "metadata": {
        "id": "0Utf17TdywYW"
      },
      "execution_count": null,
      "outputs": []
    },
    {
      "cell_type": "code",
      "source": [
        "#2- Using the zip function with dictionary comprehensions\n",
        "dict_method_2 = {key:value for key, value in zip(keys_list, values_list)}"
      ],
      "metadata": {
        "id": "dA71q0lO1JF3"
      },
      "execution_count": null,
      "outputs": []
    },
    {
      "cell_type": "code",
      "source": [
        "#3- Using the zip function with a loop\n",
        "items_tuples = zip(keys_list, values_list) \n",
        "dict_method_3 = {} \n",
        "for key, value in items_tuples: \n",
        "    if key in dict_method_3: \n",
        "        pass # To avoid repeating keys.\n",
        "    else: \n",
        "        dict_method_3[key] = value"
      ],
      "metadata": {
        "id": "uRTZXr4n1ODi"
      },
      "execution_count": null,
      "outputs": []
    },
    {
      "cell_type": "code",
      "source": [
        "dict_method_1"
      ],
      "metadata": {
        "colab": {
          "base_uri": "https://localhost:8080/"
        },
        "id": "xPid7Zk-1TER",
        "outputId": "7bc96bac-c7cd-449a-91fe-d36e4444657f"
      },
      "execution_count": null,
      "outputs": [
        {
          "output_type": "execute_result",
          "data": {
            "text/plain": [
              "{'A': 'blue', 'B': 'red', 'C': 'bold'}"
            ]
          },
          "metadata": {},
          "execution_count": 16
        }
      ]
    },
    {
      "cell_type": "code",
      "source": [
        "dict_method_2"
      ],
      "metadata": {
        "colab": {
          "base_uri": "https://localhost:8080/"
        },
        "id": "EijffVy_3Sew",
        "outputId": "5242b83f-2630-4b2e-c5f5-855ff40a2592"
      },
      "execution_count": null,
      "outputs": [
        {
          "output_type": "execute_result",
          "data": {
            "text/plain": [
              "{'A': 'blue', 'B': 'red', 'C': 'bold'}"
            ]
          },
          "metadata": {},
          "execution_count": 17
        }
      ]
    },
    {
      "cell_type": "code",
      "source": [
        "dict_method_3"
      ],
      "metadata": {
        "colab": {
          "base_uri": "https://localhost:8080/"
        },
        "id": "RSiB8Qnd3aUQ",
        "outputId": "fc413339-c5bd-4a8e-cafe-bc530d4aecd5"
      },
      "execution_count": null,
      "outputs": [
        {
          "output_type": "execute_result",
          "data": {
            "text/plain": [
              "{'A': 'blue', 'B': 'red', 'C': 'bold'}"
            ]
          },
          "metadata": {},
          "execution_count": 18
        }
      ]
    },
    {
      "cell_type": "markdown",
      "source": [
        "2. Merge Two or More Lists Into a List of Lists"
      ],
      "metadata": {
        "id": "ExZlF6bx36CQ"
      }
    },
    {
      "cell_type": "markdown",
      "source": [
        "Another frequent task is when we have two or more lists, and we want to collect them all in one big list of lists, where all the first items of the smaller list form the first list in the bigger list.\n",
        "\n",
        "For example, if I have 4 lists [1,2,3], [‘a’,’b’,’c’], [‘h’,’e’,’y’] and [4,5,6] and we want to make a new list of those four lists; it will be [[1,’a’,’h’,4], [2,’b’,’e’,5], [3,’c’,’y’,6]]."
      ],
      "metadata": {
        "id": "SY7GyBYT37o5"
      }
    },
    {
      "cell_type": "code",
      "source": [
        "def merge(*args, missing_val = None):\n",
        "#missing_val will be used when one of the smaller lists is shorter tham the others.\n",
        "#Get the maximum length within the smaller lists.\n",
        "  max_length = max([len(lst) for lst in args])\n",
        "  outList = []\n",
        "  for i in range(max_length):\n",
        "    result.append([args[k][i] if i < len(args[k]) else missing_val for k in range(len(args))])\n",
        "  return outList"
      ],
      "metadata": {
        "id": "xDJvHgQK3elF"
      },
      "execution_count": null,
      "outputs": []
    },
    {
      "cell_type": "code",
      "source": [],
      "metadata": {
        "colab": {
          "base_uri": "https://localhost:8080/",
          "height": 166
        },
        "id": "_L6Ocj2V4UIG",
        "outputId": "4daf86e1-6c4e-4ce4-e491-55f53f0a6b8b"
      },
      "execution_count": null,
      "outputs": [
        {
          "output_type": "error",
          "ename": "NameError",
          "evalue": "ignored",
          "traceback": [
            "\u001b[0;31m---------------------------------------------------------------------------\u001b[0m",
            "\u001b[0;31mNameError\u001b[0m                                 Traceback (most recent call last)",
            "\u001b[0;32m<ipython-input-22-67685db1675a>\u001b[0m in \u001b[0;36m<module>\u001b[0;34m\u001b[0m\n\u001b[0;32m----> 1\u001b[0;31m \u001b[0moutList\u001b[0m\u001b[0;34m\u001b[0m\u001b[0;34m\u001b[0m\u001b[0m\n\u001b[0m",
            "\u001b[0;31mNameError\u001b[0m: name 'outList' is not defined"
          ]
        }
      ]
    },
    {
      "cell_type": "markdown",
      "source": [
        "3. Sort a List of Dictionaries"
      ],
      "metadata": {
        "id": "16LeFTqg5BZ2"
      }
    },
    {
      "cell_type": "markdown",
      "source": [
        "The next set of everyday list tasks is sorting. Depending on the data type of the items included in the lists, we’ll follow a slightly different way to sort them. Let’s first start with sorting a list of dictionaries."
      ],
      "metadata": {
        "id": "PX8HzeCF5IHE"
      }
    },
    {
      "cell_type": "code",
      "source": [
        "dicts_lists = [\n",
        "  {\n",
        "    \"Name\": \"James\",\n",
        "    \"Age\": 20,\n",
        "  },\n",
        "  {\n",
        "     \"Name\": \"May\",\n",
        "     \"Age\": 14,\n",
        "  },\n",
        "  {\n",
        "    \"Name\": \"Katy\",\n",
        "    \"Age\": 23,\n",
        "  }\n",
        "]\n",
        "\n",
        "#There are different ways to sort that list\n",
        "#1- Using the sort/ sorted function based on the age\n",
        "dicts_lists.sort(key=lambda item: item.get(\"Age\"))\n",
        "\n",
        "#2- Using itemgetter module based on name\n",
        "from operator import itemgetter\n",
        "f = itemgetter('Name')\n",
        "dicts_lists.sort(key=f)"
      ],
      "metadata": {
        "id": "xcsKnQjN4rPf"
      },
      "execution_count": null,
      "outputs": []
    },
    {
      "cell_type": "code",
      "source": [
        "dicts_lists"
      ],
      "metadata": {
        "colab": {
          "base_uri": "https://localhost:8080/"
        },
        "id": "s6B-2Srl5Qbf",
        "outputId": "2ef6d3d8-48fc-4939-b20b-e62620d528b6"
      },
      "execution_count": null,
      "outputs": [
        {
          "output_type": "execute_result",
          "data": {
            "text/plain": [
              "[{'Name': 'James', 'Age': 20},\n",
              " {'Name': 'Katy', 'Age': 23},\n",
              " {'Name': 'May', 'Age': 14}]"
            ]
          },
          "metadata": {},
          "execution_count": 24
        }
      ]
    },
    {
      "cell_type": "markdown",
      "source": [
        "4. Sort a List of Strings"
      ],
      "metadata": {
        "id": "AeOjN34l5nCZ"
      }
    },
    {
      "cell_type": "markdown",
      "source": [
        "We’re often faced with lists containing strings, and we need to sort those lists alphabetically, by length or any other factor we want (or that our application needs).\n",
        "\n",
        "Now, I should mention that these are straightforward ways to sort a list of strings, but you may sometimes need to implement your sorting algorithm to solve that problem."
      ],
      "metadata": {
        "id": "VoY_yCwZ5zVs"
      }
    },
    {
      "cell_type": "code",
      "source": [
        "my_list = [\"blue\", \"red\", \"green\"]\n",
        "\n",
        "#1- Using sort or srted directly or with specifc keys\n",
        "my_list.sort() #sorts alphabetically or in an ascending order for numeric data \n",
        "my_list = sorted(my_list, key=len) #sorts the list based on the length of the strings from shortest to longest. \n",
        "# You can use reverse=True to flip the order\n",
        "\n",
        "#2- Using locale and functools \n",
        "import locale\n",
        "from functools import cmp_to_key\n",
        "my_list = sorted(my_list, key=cmp_to_key(locale.strcoll)) "
      ],
      "metadata": {
        "id": "VKgCTfal5V-f"
      },
      "execution_count": null,
      "outputs": []
    },
    {
      "cell_type": "code",
      "source": [
        "my_list"
      ],
      "metadata": {
        "colab": {
          "base_uri": "https://localhost:8080/"
        },
        "id": "jRB5nDGt6L13",
        "outputId": "baf863df-0bcd-45e5-a54e-f83ea2e52a1b"
      },
      "execution_count": null,
      "outputs": [
        {
          "output_type": "execute_result",
          "data": {
            "text/plain": [
              "['blue', 'green', 'red']"
            ]
          },
          "metadata": {},
          "execution_count": 26
        }
      ]
    },
    {
      "cell_type": "markdown",
      "source": [
        "5. Sort a List Based on Another List\n",
        "\n",
        "Sometimes, we may want or need to use one list to sort another. So, we’ll have a list of numbers (the indexes) and a list that I want to sort using these indexes."
      ],
      "metadata": {
        "id": "UPFVo0sY6g31"
      }
    },
    {
      "cell_type": "code",
      "source": [
        "a = ['blue', 'green', 'orange', 'purple', 'yellow']\n",
        "b = [3, 2, 5, 4, 1]\n",
        "#Use list comprehensions to sort these lists\n",
        "sortedList =  [val for (_, val) in sorted(zip(b, a), key=lambda x: \\\n",
        "          x[0])]"
      ],
      "metadata": {
        "id": "YQj5tgLX6RKA"
      },
      "execution_count": null,
      "outputs": []
    },
    {
      "cell_type": "code",
      "source": [
        "sortedList"
      ],
      "metadata": {
        "colab": {
          "base_uri": "https://localhost:8080/"
        },
        "id": "DqarXGGi6v4W",
        "outputId": "4473e538-c9e5-4b94-f2e6-edc2873ef70c"
      },
      "execution_count": null,
      "outputs": [
        {
          "output_type": "execute_result",
          "data": {
            "text/plain": [
              "['yellow', 'green', 'blue', 'purple', 'orange']"
            ]
          },
          "metadata": {},
          "execution_count": 28
        }
      ]
    },
    {
      "cell_type": "markdown",
      "source": [
        "6. Map a List Into a Dictionary"
      ],
      "metadata": {
        "id": "UjNFsxrF7EE7"
      }
    },
    {
      "cell_type": "markdown",
      "source": [
        "The last list-related task we’ll look at in this article is if we’re given a list and map it into a dictionary. That is, I want to convert my list into a dictionary with numerical keys."
      ],
      "metadata": {
        "id": "08-wcoJu7KPL"
      }
    },
    {
      "cell_type": "code",
      "source": [
        "mylist = ['blue', 'orange', 'green']\n",
        "#Map the list into a dict using the map, zip and dict functions\n",
        "mapped_dict = dict(zip(itr, map(fn, itr)))"
      ],
      "metadata": {
        "colab": {
          "base_uri": "https://localhost:8080/",
          "height": 201
        },
        "id": "0prD-HYq604s",
        "outputId": "9ae33576-7e25-461e-bdce-ae0993b33837"
      },
      "execution_count": null,
      "outputs": [
        {
          "output_type": "error",
          "ename": "NameError",
          "evalue": "ignored",
          "traceback": [
            "\u001b[0;31m---------------------------------------------------------------------------\u001b[0m",
            "\u001b[0;31mNameError\u001b[0m                                 Traceback (most recent call last)",
            "\u001b[0;32m<ipython-input-29-8a20296e2d63>\u001b[0m in \u001b[0;36m<module>\u001b[0;34m\u001b[0m\n\u001b[1;32m      1\u001b[0m \u001b[0mmylist\u001b[0m \u001b[0;34m=\u001b[0m \u001b[0;34m[\u001b[0m\u001b[0;34m'blue'\u001b[0m\u001b[0;34m,\u001b[0m \u001b[0;34m'orange'\u001b[0m\u001b[0;34m,\u001b[0m \u001b[0;34m'green'\u001b[0m\u001b[0;34m]\u001b[0m\u001b[0;34m\u001b[0m\u001b[0;34m\u001b[0m\u001b[0m\n\u001b[1;32m      2\u001b[0m \u001b[0;31m#Map the list into a dict using the map, zip and dict functions\u001b[0m\u001b[0;34m\u001b[0m\u001b[0;34m\u001b[0m\u001b[0;34m\u001b[0m\u001b[0m\n\u001b[0;32m----> 3\u001b[0;31m \u001b[0mmapped_dict\u001b[0m \u001b[0;34m=\u001b[0m \u001b[0mdict\u001b[0m\u001b[0;34m(\u001b[0m\u001b[0mzip\u001b[0m\u001b[0;34m(\u001b[0m\u001b[0mitr\u001b[0m\u001b[0;34m,\u001b[0m \u001b[0mmap\u001b[0m\u001b[0;34m(\u001b[0m\u001b[0mfn\u001b[0m\u001b[0;34m,\u001b[0m \u001b[0mitr\u001b[0m\u001b[0;34m)\u001b[0m\u001b[0;34m)\u001b[0m\u001b[0;34m)\u001b[0m\u001b[0;34m\u001b[0m\u001b[0;34m\u001b[0m\u001b[0m\n\u001b[0m",
            "\u001b[0;31mNameError\u001b[0m: name 'itr' is not defined"
          ]
        }
      ]
    },
    {
      "cell_type": "markdown",
      "source": [
        "7. Merging Two or More Dictionaries\n",
        "\n",
        "Assume we have two or more dictionaries, and we want to merge them all into one dictionary with unique keys. Here’s what that will look like:"
      ],
      "metadata": {
        "id": "h8Nd4cH77hFq"
      }
    },
    {
      "cell_type": "code",
      "source": [
        "from collections import defaultdict\n",
        "#merge two or more dicts using the collections module\n",
        "def merge_dicts(*dicts):\n",
        "  mdict = defaultdict(list)\n",
        "  for d in dicts:\n",
        "    for key in d:\n",
        "      mdict[key].append(d[key])\n",
        "  return dict(mdict)"
      ],
      "metadata": {
        "id": "8CIruh2M7Tpp"
      },
      "execution_count": null,
      "outputs": []
    },
    {
      "cell_type": "markdown",
      "source": [
        "8. Inverting a Dictionary\n",
        "\n",
        "One common dictionary task is flipping a dictionary’s keys and values. So, the keys will become the values, and the values will become the keys.\n",
        "\n",
        "When we do that, we need to make sure we don’t have duplicate keys. While values can be repeated, keys cannot. Also make sure all the new keys are hashable."
      ],
      "metadata": {
        "id": "jVh3DIef7_AK"
      }
    },
    {
      "cell_type": "code",
      "source": [
        "my_dict = {\n",
        "  \"brand\": \"Ford\",\n",
        "  \"model\": \"Mustang\",\n",
        "  \"year\": 1964\n",
        "}\n",
        "#Invert the dictionary based on its content\n",
        "#1- If we know all values are unique.\n",
        "my_inverted_dict = dict(map(reversed, my_dict.items()))\n",
        "\n",
        "#2- If non-unique values exist\n",
        "from collections import defaultdict\n",
        "my_inverted_dict = defaultdict(list)\n",
        "{my_inverted_dict[v].append(k) for k, v in my_dict.items()}\n",
        "\n",
        "#3- If any of the values are not hashable\n",
        "my_dict = {value: key for key in my_inverted_dict for value in my_inverted_dict[key]}"
      ],
      "metadata": {
        "id": "1LUHTzSC7275"
      },
      "execution_count": null,
      "outputs": []
    },
    {
      "cell_type": "code",
      "source": [
        "my_dict"
      ],
      "metadata": {
        "colab": {
          "base_uri": "https://localhost:8080/"
        },
        "id": "9HyBnhFb8Xjz",
        "outputId": "4faabad9-462d-49d7-bf0f-831379665c52"
      },
      "execution_count": null,
      "outputs": [
        {
          "output_type": "execute_result",
          "data": {
            "text/plain": [
              "{'brand': 'Ford', 'model': 'Mustang', 'year': 1964}"
            ]
          },
          "metadata": {},
          "execution_count": 32
        }
      ]
    },
    {
      "cell_type": "markdown",
      "source": [
        "9. Using F Strings\n",
        "\n",
        "Formatting a string is probably the number one task you’ll need to do almost daily. There are various ways you can format strings in Python; my favorite one is using f strings."
      ],
      "metadata": {
        "id": "o3d3FAiS8lVM"
      }
    },
    {
      "cell_type": "code",
      "source": [
        "#Formatting strings with f string.\n",
        "str_val = 'books'\n",
        "num_val = 15\n",
        "print(f'{num_val} {str_val}') # 15 books\n",
        "print(f'{num_val % 2 = }') # 1\n",
        "print(f'{str_val!r}') # books\n",
        "\n",
        "#Dealing with floats\n",
        "price_val = 5.18362\n",
        "print(f'{price_val:.2f}') # 5.18\n",
        "\n",
        "#Formatting dates\n",
        "from datetime import datetime;\n",
        "date_val = datetime.utcnow()\n",
        "print(f'{date_val=:%Y-%m-%d}') # date_val=2021-09-24"
      ],
      "metadata": {
        "colab": {
          "base_uri": "https://localhost:8080/"
        },
        "id": "Wfvh6MRS8dIL",
        "outputId": "b97bba77-3c1f-4ea7-cb70-82e665fee1db"
      },
      "execution_count": null,
      "outputs": [
        {
          "output_type": "stream",
          "name": "stdout",
          "text": [
            "15 books\n",
            "num_val % 2 = 1\n",
            "'books'\n",
            "5.18\n",
            "date_val=2023-02-26\n"
          ]
        }
      ]
    },
    {
      "cell_type": "markdown",
      "source": [
        "10. Checking for Substrings\n",
        "\n",
        "One of the most common tasks I’ve needed to perform is to check if a string is in a list of strings."
      ],
      "metadata": {
        "id": "tydbLeRZ9FZE"
      }
    },
    {
      "cell_type": "code",
      "source": [
        "addresses = [\"123 Elm Street\", \"531 Oak Street\", \"678 Maple Street\"]\n",
        "street = \"Elm Street\"\n",
        "\n",
        "#The top 2 methods to check if street in any of the items in the addresses list\n",
        "#1- Using the find method\n",
        "for address in addresses:\n",
        "    if address.find(street) >= 0:\n",
        "        print(address)\n",
        "        \n",
        "#2- Using the \"in\" keyword \n",
        "for address in addresses:\n",
        "    if street in address:\n",
        "        print(address)"
      ],
      "metadata": {
        "colab": {
          "base_uri": "https://localhost:8080/"
        },
        "id": "-Rp53J1w86ya",
        "outputId": "df3b8fcf-2e81-4d8b-a582-6c4a2fd2b3da"
      },
      "execution_count": null,
      "outputs": [
        {
          "output_type": "stream",
          "name": "stdout",
          "text": [
            "123 Elm Street\n",
            "123 Elm Street\n"
          ]
        }
      ]
    },
    {
      "cell_type": "markdown",
      "source": [
        "11. Get a String’s Size in Bytes"
      ],
      "metadata": {
        "id": "uxh6vxjJ9k6b"
      }
    },
    {
      "cell_type": "markdown",
      "source": [
        "Sometimes, especially when building memory-critical applications, we need to know how much memory our strings are using. Luckily, we can do this quickly with one line of code."
      ],
      "metadata": {
        "id": "YO7D8Uus9qos"
      }
    },
    {
      "cell_type": "code",
      "source": [
        "str1 = \"hello\"\n",
        "str2 = \"?\"\n",
        "\n",
        "def str_size(s):\n",
        "  return len(s.encode('utf-8'))\n",
        "\n",
        "str_size(str1)\n",
        "str_size(str2)"
      ],
      "metadata": {
        "colab": {
          "base_uri": "https://localhost:8080/"
        },
        "id": "Gc_JjXKz9oqZ",
        "outputId": "03f9fc26-4ed2-42b6-c7d9-2a56964f3942"
      },
      "execution_count": null,
      "outputs": [
        {
          "output_type": "execute_result",
          "data": {
            "text/plain": [
              "1"
            ]
          },
          "metadata": {},
          "execution_count": 36
        }
      ]
    },
    {
      "cell_type": "markdown",
      "source": [
        "12. Checking if a File Exists\n",
        "\n",
        "Data scientists often need to read data from files or write data to them. To do that, we need to check if a file exists or not so our code doesn’t terminate with an error."
      ],
      "metadata": {
        "id": "xIPu0zwz91ww"
      }
    },
    {
      "cell_type": "code",
      "source": [
        "#Checking if a file exists in two ways\n",
        "#1- Using the OS module\n",
        "import os \n",
        "exists = os.path.isfile('/path/to/file')\n",
        "\n",
        "#2- Use the pathlib module for a better performance\n",
        "from pathlib import Path\n",
        "config = Path('/path/to/file') \n",
        "if config.is_file(): \n",
        "    pass"
      ],
      "metadata": {
        "id": "20vfkEPn9wOd"
      },
      "execution_count": null,
      "outputs": []
    },
    {
      "cell_type": "markdown",
      "source": [
        "13. Parsing a Spreadsheet\n",
        "\n",
        "Another common file interaction is parsing data from a spreadsheet. Luckily, we have the CSV module to help us perform that task efficiently."
      ],
      "metadata": {
        "id": "41c07XS7-IBN"
      }
    },
    {
      "cell_type": "code",
      "source": [
        "import csv\n",
        "csv_mapping_list = []\n",
        "with open(\"/path/to/data.csv\") as my_data:\n",
        "    csv_reader = csv.reader(my_data, delimiter=\",\")\n",
        "    line_count = 0\n",
        "    for line in csv_reader:\n",
        "        if line_count == 0:\n",
        "            header = line\n",
        "        else:\n",
        "            row_dict = {key: value for key, value in zip(header, line)}\n",
        "            csv_mapping_list.append(row_dict)\n",
        "        line_count += 1"
      ],
      "metadata": {
        "colab": {
          "base_uri": "https://localhost:8080/",
          "height": 236
        },
        "id": "9QRaZnLV-Eg_",
        "outputId": "037c3906-0c27-44c2-9cd8-ab277d2868f9"
      },
      "execution_count": null,
      "outputs": [
        {
          "output_type": "error",
          "ename": "FileNotFoundError",
          "evalue": "ignored",
          "traceback": [
            "\u001b[0;31m---------------------------------------------------------------------------\u001b[0m",
            "\u001b[0;31mFileNotFoundError\u001b[0m                         Traceback (most recent call last)",
            "\u001b[0;32m<ipython-input-38-4caa76003a53>\u001b[0m in \u001b[0;36m<module>\u001b[0;34m\u001b[0m\n\u001b[1;32m      1\u001b[0m \u001b[0;32mimport\u001b[0m \u001b[0mcsv\u001b[0m\u001b[0;34m\u001b[0m\u001b[0;34m\u001b[0m\u001b[0m\n\u001b[1;32m      2\u001b[0m \u001b[0mcsv_mapping_list\u001b[0m \u001b[0;34m=\u001b[0m \u001b[0;34m[\u001b[0m\u001b[0;34m]\u001b[0m\u001b[0;34m\u001b[0m\u001b[0;34m\u001b[0m\u001b[0m\n\u001b[0;32m----> 3\u001b[0;31m \u001b[0;32mwith\u001b[0m \u001b[0mopen\u001b[0m\u001b[0;34m(\u001b[0m\u001b[0;34m\"/path/to/data.csv\"\u001b[0m\u001b[0;34m)\u001b[0m \u001b[0;32mas\u001b[0m \u001b[0mmy_data\u001b[0m\u001b[0;34m:\u001b[0m\u001b[0;34m\u001b[0m\u001b[0;34m\u001b[0m\u001b[0m\n\u001b[0m\u001b[1;32m      4\u001b[0m     \u001b[0mcsv_reader\u001b[0m \u001b[0;34m=\u001b[0m \u001b[0mcsv\u001b[0m\u001b[0;34m.\u001b[0m\u001b[0mreader\u001b[0m\u001b[0;34m(\u001b[0m\u001b[0mmy_data\u001b[0m\u001b[0;34m,\u001b[0m \u001b[0mdelimiter\u001b[0m\u001b[0;34m=\u001b[0m\u001b[0;34m\",\"\u001b[0m\u001b[0;34m)\u001b[0m\u001b[0;34m\u001b[0m\u001b[0;34m\u001b[0m\u001b[0m\n\u001b[1;32m      5\u001b[0m     \u001b[0mline_count\u001b[0m \u001b[0;34m=\u001b[0m \u001b[0;36m0\u001b[0m\u001b[0;34m\u001b[0m\u001b[0;34m\u001b[0m\u001b[0m\n",
            "\u001b[0;31mFileNotFoundError\u001b[0m: [Errno 2] No such file or directory: '/path/to/data.csv'"
          ]
        }
      ]
    },
    {
      "cell_type": "code",
      "source": [],
      "metadata": {
        "id": "uTV9JWpd-Sss"
      },
      "execution_count": null,
      "outputs": []
    }
  ]
}