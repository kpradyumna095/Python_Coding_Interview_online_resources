{
  "nbformat": 4,
  "nbformat_minor": 0,
  "metadata": {
    "colab": {
      "provenance": []
    },
    "kernelspec": {
      "name": "python3",
      "display_name": "Python 3"
    }
  },
  "cells": [
    {
      "cell_type": "code",
      "metadata": {
        "id": "vItE6-0ptzZ0"
      },
      "source": [
        "import requests   # Importing requests to extract content from a url\n",
        "from bs4 import BeautifulSoup as bs # Beautifulsoup is for web scrapping...used to scrap specific content "
      ],
      "execution_count": null,
      "outputs": []
    },
    {
      "cell_type": "code",
      "metadata": {
        "id": "DrR87I2lvkI4"
      },
      "source": [
        "boat_reviews=['']"
      ],
      "execution_count": null,
      "outputs": []
    },
    {
      "cell_type": "code",
      "metadata": {
        "id": "mNvhcer4voKX"
      },
      "source": [
        "### Extracting reviews from Amazon website ################\n",
        "for i in range(1,10):\n",
        "  al=[]  \n",
        "  url=\"https://www.amazon.in/gp/product-reviews/B07JLFK74H/ref=cm_cr_arp_d_paging_btm_next_2?pageNumber=\"+str(i)\n",
        "  response = requests.get(url)\n",
        "  soup = bs(response.content,\"html.parser\")# creating soup object to iterate over the extracted content \n",
        "  reviews = soup.find_all(\"span\",{\"class\" : \"a-size-base review-text review-text-content\"})# Extracting the content under specific tags  "
      ],
      "execution_count": null,
      "outputs": []
    },
    {
      "cell_type": "code",
      "metadata": {
        "id": "AgWXnqP2vz0X"
      },
      "source": [
        "for i in range(len(reviews)):\n",
        "    al.append(reviews[i].text)  \n",
        "    boat_reviews=boat_reviews+al  # adding the reviews of one page to empty list which in future contains all the reviews\n"
      ],
      "execution_count": null,
      "outputs": []
    },
    {
      "cell_type": "code",
      "metadata": {
        "id": "vGaEsLeLv5ID"
      },
      "source": [
        "# writng reviews in a text file \n",
        "with open(\"boat.txt\",\"w\",encoding='utf8') as output:\n",
        "    output.write(str(boat_reviews))\n",
        "    "
      ],
      "execution_count": null,
      "outputs": []
    },
    {
      "cell_type": "code",
      "metadata": {
        "id": "NC2hpgXHwBGa"
      },
      "source": [],
      "execution_count": null,
      "outputs": []
    }
  ]
}