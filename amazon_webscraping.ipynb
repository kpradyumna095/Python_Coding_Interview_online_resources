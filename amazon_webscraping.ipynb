{
  "nbformat": 4,
  "nbformat_minor": 0,
  "metadata": {
    "colab": {
      "provenance": []
    },
    "kernelspec": {
      "name": "python3",
      "display_name": "Python 3"
    }
  },
  "cells": [
    {
      "cell_type": "code",
      "metadata": {
        "id": "528gi7QAoByB"
      },
      "source": [
        "import requests \n",
        "from bs4 import BeautifulSoup as bs\n",
        "import re\n",
        "\n"
      ],
      "execution_count": null,
      "outputs": []
    },
    {
      "cell_type": "code",
      "metadata": {
        "id": "-hfyTeBioPLP"
      },
      "source": [
        "import matplotlib.pyplot as plt\n",
        "from wordcloud import WordCloud\n"
      ],
      "execution_count": null,
      "outputs": []
    },
    {
      "cell_type": "code",
      "metadata": {
        "id": "_gvDWqGMoTvs"
      },
      "source": [
        "#creating an empty review list\n",
        "redmi_reviews = []\n"
      ],
      "execution_count": null,
      "outputs": []
    },
    {
      "cell_type": "code",
      "metadata": {
        "id": "ypxiM61RoWNt"
      },
      "source": [
        "for i in range (1,31):\n",
        "    ip=[]\n",
        "    url =\"https://www.amazon.in/Redmi-Pro-Blue-64GB-Storage/product-reviews/B07DJHR5DY/ref=cm_cr_arp_d_paging_btm_next_2?ie=UTF8&reviewerType=all_reviews&pageNumber=\"+str(i)\n",
        "    response = requests.get(url)\n",
        "    soup = bs(response.content,\"html.parser\")\n",
        "    reviews = soup.findAll(\"span\",attrs = {\"class\",\"a-size-base review-text review-text-content\"})\n",
        "    for i in range(len(reviews)):\n",
        "        ip.append(reviews[i].text)\n",
        "    redmi_reviews = redmi_reviews+ip"
      ],
      "execution_count": null,
      "outputs": []
    },
    {
      "cell_type": "code",
      "metadata": {
        "id": "QBikXoIxobOk"
      },
      "source": [
        "red_rev_string = \" \".join(redmi_reviews)"
      ],
      "execution_count": null,
      "outputs": []
    },
    {
      "cell_type": "code",
      "metadata": {
        "id": "SjQVDe7xoh59"
      },
      "source": [],
      "execution_count": null,
      "outputs": []
    }
  ]
}