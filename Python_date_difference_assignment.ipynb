{
  "nbformat": 4,
  "nbformat_minor": 0,
  "metadata": {
    "colab": {
      "provenance": []
    },
    "kernelspec": {
      "name": "python3",
      "display_name": "Python 3"
    },
    "language_info": {
      "name": "python"
    }
  },
  "cells": [
    {
      "cell_type": "markdown",
      "source": [
        "Assignment:Find the difference of time between 2 given dates\n",
        "\n",
        "Input and output can be in any manner\n"
      ],
      "metadata": {
        "id": "27X-50wVt6pZ"
      }
    },
    {
      "cell_type": "code",
      "execution_count": 1,
      "metadata": {
        "colab": {
          "base_uri": "https://localhost:8080/"
        },
        "id": "U01CU8Bxt5ei",
        "outputId": "02e95d31-5680-4e23-fafa-2012dfa07fdc"
      },
      "outputs": [
        {
          "output_type": "stream",
          "name": "stdout",
          "text": [
            "Difference:  36 days, 10:04:20\n",
            "Total difference in minutes:  52444.333333333336\n",
            "Difference in minutes:  604.3333333333334\n"
          ]
        }
      ],
      "source": [
        "import datetime\n",
        "  \n",
        "# datetime(year, month, day, hour, minute, second)\n",
        "a = datetime.datetime(2017, 6, 21, 18, 25, 30)\n",
        "b = datetime.datetime(2017, 5, 16, 8, 21, 10)\n",
        "  \n",
        "# returns a timedelta object\n",
        "c = a-b \n",
        "print('Difference: ', c)\n",
        "  \n",
        "minutes = c.total_seconds() / 60\n",
        "print('Total difference in minutes: ', minutes)\n",
        "  \n",
        "# returns the difference of the time of the day\n",
        "minutes = c.seconds / 60\n",
        "print('Difference in minutes: ', minutes)"
      ]
    },
    {
      "cell_type": "code",
      "source": [],
      "metadata": {
        "id": "dh9c8ny8uJZO"
      },
      "execution_count": 1,
      "outputs": []
    }
  ]
}