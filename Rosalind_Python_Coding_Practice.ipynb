{
  "nbformat": 4,
  "nbformat_minor": 0,
  "metadata": {
    "colab": {
      "provenance": []
    },
    "kernelspec": {
      "name": "python3",
      "display_name": "Python 3"
    },
    "language_info": {
      "name": "python"
    }
  },
  "cells": [
    {
      "cell_type": "markdown",
      "source": [
        "Rosalind Python Coding Practice"
      ],
      "metadata": {
        "id": "AK7lHut5LO7h"
      }
    },
    {
      "cell_type": "markdown",
      "source": [
        "https://github.com/Seungjun-Data-Science/Coding-Excersies/blob/master/Rosalind%20Python%20Coding%20Practice.ipynb"
      ],
      "metadata": {
        "id": "zgGYzcA3MCls"
      }
    },
    {
      "cell_type": "markdown",
      "source": [
        "\n",
        "\n",
        "(1) Rosalind - Variables and some Arithmetic\n",
        "\n",
        "    Given: Two positive integers a and b, each less than 1000.\n",
        "    Return: The integer corresponding to the square of the hypotenuse of the right triangle whose legs have lengths a and b.\n",
        "\n"
      ],
      "metadata": {
        "id": "C5H1XP3SMJPu"
      }
    },
    {
      "cell_type": "code",
      "execution_count": 1,
      "metadata": {
        "colab": {
          "base_uri": "https://localhost:8080/"
        },
        "id": "RnV7fwp8LI9s",
        "outputId": "9d274ea0-1a20-46af-8b6f-1d9b395c662f"
      },
      "outputs": [
        {
          "output_type": "execute_result",
          "data": {
            "text/plain": [
              "34"
            ]
          },
          "metadata": {},
          "execution_count": 1
        }
      ],
      "source": [
        "# Sample data: 3,5 || sample output: 34\n",
        "\n",
        "def square_of_hypotenuse(a,b):\n",
        "    return (a*a) + (b*b)\n",
        "\n",
        "square_of_hypotenuse(3,5)"
      ]
    },
    {
      "cell_type": "markdown",
      "source": [
        "\n",
        "\n",
        "(2) Rosalind - Strings and List\n",
        "\n",
        "    Given: A string s of length at most 200 letters and four integers a, b, c and d.\n",
        "    Return: The slice of this string from indices a through b and c through d (with space in between), inclusively. In other words, we should include elements s[b] and s[d] in our slice.\n",
        "\n"
      ],
      "metadata": {
        "id": "OhkZfnIQOhe4"
      }
    },
    {
      "cell_type": "code",
      "source": [
        "\n",
        "\n",
        "# sample dataset: HumptyDumptysatonawallHumptyDumptyhadagreatfallAlltheKingshorsesandalltheKingsmenCouldntputHumptyDumptyinhisplaceagain\n",
        "# 22 27 97 102\n",
        "# sample output: Humpty Dumpty\n",
        "\n",
        "string = 'HumptyDumptysatonawallHumptyDumptyhadagreatfallAlltheKingshorsesandalltheKingsmenCouldntputHumptyDumptyinhisplaceagain'\n",
        "\n",
        "def slice_add(s,a,b,c,d):\n",
        "    return s[a:b+1] + \" \" + s[c:d+1]\n",
        "\n"
      ],
      "metadata": {
        "id": "pNQGEs6rOU5v"
      },
      "execution_count": 2,
      "outputs": []
    },
    {
      "cell_type": "code",
      "source": [
        "slice_add(string, 22, 27, 97, 102)"
      ],
      "metadata": {
        "colab": {
          "base_uri": "https://localhost:8080/",
          "height": 35
        },
        "id": "VH6Aa4BeOrKZ",
        "outputId": "c4c9bdfd-5709-4cde-d813-13323a1d0762"
      },
      "execution_count": 3,
      "outputs": [
        {
          "output_type": "execute_result",
          "data": {
            "text/plain": [
              "'Humpty Dumpty'"
            ],
            "application/vnd.google.colaboratory.intrinsic+json": {
              "type": "string"
            }
          },
          "metadata": {},
          "execution_count": 3
        }
      ]
    },
    {
      "cell_type": "markdown",
      "source": [
        "\n",
        "\n",
        "(3) Rosalind - Conditions and Loops\n",
        "\n",
        "    Given: Two positive integers a and b (a<b<10000).\n",
        "    Return: The sum of all odd integers from a through b, inclusively.\n",
        "\n"
      ],
      "metadata": {
        "id": "ZZlENP6lO38m"
      }
    },
    {
      "cell_type": "code",
      "source": [
        "# sample dataset: 100 200\n",
        "# sample output: 7500\n",
        "\n",
        "def add_only_odd(a,b):\n",
        "    total = 0\n",
        "    for i in range(a,b+1):\n",
        "        if i % 2 != 0:\n",
        "            total += i\n",
        "    return total"
      ],
      "metadata": {
        "id": "_6ewAkPxOwlH"
      },
      "execution_count": 4,
      "outputs": []
    },
    {
      "cell_type": "code",
      "source": [
        "add_only_odd(100,200)"
      ],
      "metadata": {
        "colab": {
          "base_uri": "https://localhost:8080/"
        },
        "id": "PVC6rVSCO7SQ",
        "outputId": "bf81a629-4d11-4fc1-9ffc-1b68fe2e9102"
      },
      "execution_count": 5,
      "outputs": [
        {
          "output_type": "execute_result",
          "data": {
            "text/plain": [
              "7500"
            ]
          },
          "metadata": {},
          "execution_count": 5
        }
      ]
    },
    {
      "cell_type": "markdown",
      "source": [
        "\n",
        "\n",
        "(4) Rosalind - Dictionaries\n",
        "\n",
        "    Given: A string s of length at most 10000 letters.\n",
        "\n",
        "    Return: The number of occurrences of each word in s, where words are separated by spaces. Words are case-sensitive, and the lines in the output can be in any order.\n",
        "\n",
        "    sample dataset: We tried list and we tried dicts also we tried Zen\n",
        "\n",
        "    sample output:\n",
        "\n",
        "and 1\n",
        "\n",
        "We 1\n",
        "\n",
        "tried 3\n",
        "\n",
        "dicts 1\n",
        "\n",
        "list 1\n",
        "\n",
        "we 2\n",
        "\n",
        "also 1\n",
        "\n",
        "Zen 1\n"
      ],
      "metadata": {
        "id": "XZrSG3i5PFIu"
      }
    },
    {
      "cell_type": "code",
      "source": [
        "string = 'We tried list and we tried dicts also we tried Zen'\n",
        "\n",
        "def count_word_in_string(s):\n",
        "    word_dict = dict()\n",
        "    words = s.split(\" \")\n",
        "    for w in words:\n",
        "        if w not in word_dict.keys():\n",
        "            word_dict[w] = 1\n",
        "        else:\n",
        "            word_dict[w] += 1\n",
        "    return word_dict"
      ],
      "metadata": {
        "id": "xPEt4SGDO-7v"
      },
      "execution_count": 6,
      "outputs": []
    },
    {
      "cell_type": "code",
      "source": [
        "count_word_in_string(string)"
      ],
      "metadata": {
        "colab": {
          "base_uri": "https://localhost:8080/"
        },
        "id": "Ci5uHD2XPNal",
        "outputId": "e93a7f88-e194-464a-bcf9-9976152caf8c"
      },
      "execution_count": 8,
      "outputs": [
        {
          "output_type": "execute_result",
          "data": {
            "text/plain": [
              "{'We': 1,\n",
              " 'tried': 3,\n",
              " 'list': 1,\n",
              " 'and': 1,\n",
              " 'we': 2,\n",
              " 'dicts': 1,\n",
              " 'also': 1,\n",
              " 'Zen': 1}"
            ]
          },
          "metadata": {},
          "execution_count": 8
        }
      ]
    },
    {
      "cell_type": "code",
      "source": [],
      "metadata": {
        "id": "p3Hnse0TPQbF"
      },
      "execution_count": null,
      "outputs": []
    }
  ]
}