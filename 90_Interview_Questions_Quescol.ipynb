{
  "nbformat": 4,
  "nbformat_minor": 0,
  "metadata": {
    "colab": {
      "provenance": []
    },
    "kernelspec": {
      "name": "python3",
      "display_name": "Python 3"
    },
    "language_info": {
      "name": "python"
    }
  },
  "cells": [
    {
      "cell_type": "code",
      "execution_count": null,
      "metadata": {
        "id": "vuTxoSCeAjkN"
      },
      "outputs": [],
      "source": [
        "#https://quescol.com/interview-preparation/python-coding-question"
      ]
    },
    {
      "cell_type": "markdown",
      "source": [
        "Python codes for numbers"
      ],
      "metadata": {
        "id": "5iMRP390z8v7"
      }
    },
    {
      "cell_type": "markdown",
      "source": [
        "1.Write a program to reverse an integer in Python."
      ],
      "metadata": {
        "id": "QMLl0A5eOKzz"
      }
    },
    {
      "cell_type": "code",
      "source": [
        "n = int(input(\"please give a number : \"))\n",
        "print(\"before reverse your numeber is : %d\" %n)\n",
        "reverse = 0\n",
        "while n!=0:\n",
        "    reverse = reverse*10 + n%10       \n",
        "    n = (n//10)\n",
        "print(\"After reverse : %d\" %reverse) "
      ],
      "metadata": {
        "colab": {
          "base_uri": "https://localhost:8080/"
        },
        "id": "81JDLh9IN0_q",
        "outputId": "5a1e73bf-f2c1-4351-ba53-7960672e2162"
      },
      "execution_count": null,
      "outputs": [
        {
          "output_type": "stream",
          "name": "stdout",
          "text": [
            "please give a number : 4567\n",
            "before reverse your numeber is : 4567\n",
            "After reverse : 7654\n"
          ]
        }
      ]
    },
    {
      "cell_type": "markdown",
      "source": [
        "2.Program to check a number is Armstrong or not "
      ],
      "metadata": {
        "id": "T4NActeuP1kE"
      }
    },
    {
      "cell_type": "code",
      "source": [
        "i=0\n",
        "result=0\n",
        "n = int(input(\"please give a number : \"))\n",
        "number1 = n\n",
        "temp = n\n",
        "while n!=0:\n",
        "    n = (n//10)\n",
        "    i=i+1;\n",
        "while number1!=0:\n",
        "    n=number1%10\n",
        "    result=result+pow(n,i)\n",
        "    number1=number1//10\n",
        "if temp==result:\n",
        "    print(\"number is armstrong\")\n",
        "else:\n",
        "    print(\"number is not armstrong\") "
      ],
      "metadata": {
        "colab": {
          "base_uri": "https://localhost:8080/"
        },
        "id": "4yeuFXwLOx_d",
        "outputId": "b72c630b-0939-44ce-f24a-f6b25be1e530"
      },
      "execution_count": null,
      "outputs": [
        {
          "output_type": "stream",
          "name": "stdout",
          "text": [
            "please give a number : 153\n",
            "number is armstrong\n"
          ]
        }
      ]
    },
    {
      "cell_type": "markdown",
      "source": [
        "3.Write a program in Python to check given number is prime or not."
      ],
      "metadata": {
        "id": "YmDMueQ2Q16O"
      }
    },
    {
      "cell_type": "code",
      "source": [
        "i,temp=0,0\n",
        "n = int(input(\"please give a number : \"))\n",
        "for i in range(2,n//2):\n",
        "    if n%i == 0:\n",
        "        temp=1\n",
        "        break\n",
        "if temp == 1:\n",
        "    print(\"given number is not prime\")\n",
        "else:\n",
        "    print(\"given number is prime\") "
      ],
      "metadata": {
        "colab": {
          "base_uri": "https://localhost:8080/"
        },
        "id": "cRzYpSUoQmOC",
        "outputId": "af73fe7e-5126-42dc-b7a8-c868e16d0aa4"
      },
      "execution_count": null,
      "outputs": [
        {
          "output_type": "stream",
          "name": "stdout",
          "text": [
            "please give a number : 22\n",
            "given number is not prime\n"
          ]
        }
      ]
    },
    {
      "cell_type": "markdown",
      "source": [
        "4.Write a program in Python to print the Fibonacci series using iterative method."
      ],
      "metadata": {
        "id": "4OJ4rrccSlGV"
      }
    },
    {
      "cell_type": "code",
      "source": [
        "first,second=0,1\n",
        "n = int(input(\"please give a number for fibonacci series : \"))\n",
        "print(\"fibonacci series are : \")\n",
        "for i in range(0,n):\n",
        "    if i<=1:\n",
        "        result=i\n",
        "    else:\n",
        "      result = first + second;\n",
        "      first = second;\n",
        "      second = result;\n",
        "    print(result)"
      ],
      "metadata": {
        "colab": {
          "base_uri": "https://localhost:8080/"
        },
        "id": "RVMl-iYeSSW7",
        "outputId": "848f9c13-c82b-42df-cdd8-0df2867d016e"
      },
      "execution_count": null,
      "outputs": [
        {
          "output_type": "stream",
          "name": "stdout",
          "text": [
            "please give a number for fibonacci series : 9\n",
            "fibonacci series are : \n",
            "0\n",
            "1\n",
            "1\n",
            "2\n",
            "3\n",
            "5\n",
            "8\n",
            "13\n",
            "21\n"
          ]
        }
      ]
    },
    {
      "cell_type": "markdown",
      "source": [
        "5.Write a program in Python to print the Fibonacci series using recursive method."
      ],
      "metadata": {
        "id": "vBJP0c1XTdkT"
      }
    },
    {
      "cell_type": "code",
      "source": [
        "first,second=0,1\n",
        "n = int(input(\"please give a number for fibonacci series : \"))\n",
        "def fibonacci(num):\n",
        "    if num == 0:\n",
        "        return 0\n",
        "    elif num == 1:\n",
        "        return 1\n",
        "    else:\n",
        "        return fibonacci(num-1)+fibonacci(num-2)\n",
        "print(\"fibonacci series are : \")\n",
        "for i in range(0,n):\n",
        "    print(fibonacci(i))"
      ],
      "metadata": {
        "colab": {
          "base_uri": "https://localhost:8080/"
        },
        "id": "c2TPnja9TL49",
        "outputId": "7161b7d9-ce74-47dd-e30f-7ec02a84bb9a"
      },
      "execution_count": null,
      "outputs": [
        {
          "output_type": "stream",
          "name": "stdout",
          "text": [
            "please give a number for fibonacci series : 9\n",
            "fibonacci series are : \n",
            "0\n",
            "1\n",
            "1\n",
            "2\n",
            "3\n",
            "5\n",
            "8\n",
            "13\n",
            "21\n"
          ]
        }
      ]
    },
    {
      "cell_type": "markdown",
      "source": [
        "6.Write a program in Python to check whether a number is palindrome or not using iterative method."
      ],
      "metadata": {
        "id": "IWYVx2fWUrAq"
      }
    },
    {
      "cell_type": "code",
      "source": [
        "n = int(input(\"please give a number : \"))\n",
        "reverse,temp = 0,n\n",
        "while temp!=0:\n",
        "    reverse = reverse*10 + temp%10;        \n",
        "    temp=temp//10;\n",
        "if reverse==n:\n",
        "    print(\"number is palindrom\")\n",
        "else:\n",
        "    print(\"number is not palindrom\")"
      ],
      "metadata": {
        "colab": {
          "base_uri": "https://localhost:8080/"
        },
        "id": "naQf8yyLUDqs",
        "outputId": "06c1dc35-5eb0-4d71-d1f6-81f133c84392"
      },
      "execution_count": null,
      "outputs": [
        {
          "output_type": "stream",
          "name": "stdout",
          "text": [
            "please give a number : 121\n",
            "number is palindrom\n"
          ]
        }
      ]
    },
    {
      "cell_type": "markdown",
      "source": [
        "7.Write a program in Python to check whether a number is palindrome or not using recursive method."
      ],
      "metadata": {
        "id": "rLRq0zJVV-bW"
      }
    },
    {
      "cell_type": "code",
      "source": [
        "n = int(input(\"please give a number : \"))\n",
        "def reverse(num):\n",
        "    if num<10:\n",
        "      return num \n",
        "    else:\n",
        "      return int(str(num%10) + str(reverse(num//10)))\n",
        "def isPalindrome(num):\n",
        "    if num == reverse(num):\n",
        "        return 1\n",
        "    return 0\n",
        "if isPalindrome(n) == 1:\n",
        "    print(\"Given number is a palindrome\")\n",
        "else:\n",
        "    print(\"Given number is a not palindrome\") "
      ],
      "metadata": {
        "colab": {
          "base_uri": "https://localhost:8080/"
        },
        "id": "x5jFAWmfVWSc",
        "outputId": "d4201843-f6bb-413c-9e67-61eb7ae3869e"
      },
      "execution_count": null,
      "outputs": [
        {
          "output_type": "stream",
          "name": "stdout",
          "text": [
            "please give a number : 1221\n",
            "Given number is a palindrome\n"
          ]
        }
      ]
    },
    {
      "cell_type": "markdown",
      "source": [
        "8.Write a program in Python to find greatest among three integers."
      ],
      "metadata": {
        "id": "6v9AJz6oXNZd"
      }
    },
    {
      "cell_type": "code",
      "source": [
        "n1 = int(input(\"please give first number n1: \"))\n",
        "n2 = int(input(\"please give second number n2: \"))\n",
        "n3 = int(input(\"please give third number n3: \"))\n",
        "if n1>=n2 and n1>=n3: \n",
        "\tprint(\" n1 is greatest\");\n",
        "if n2>=n1 and n2>=n3:\n",
        "\tprint(\" n2 is greatest\");\n",
        "if n3>=n1 and n3>=n2:\n",
        "\tprint(\"n3 is greatest\"); "
      ],
      "metadata": {
        "colab": {
          "base_uri": "https://localhost:8080/"
        },
        "id": "CmrSS0fLWbLf",
        "outputId": "6a6c7f90-367f-40bf-8dca-9cac0c47b0a9"
      },
      "execution_count": null,
      "outputs": [
        {
          "output_type": "stream",
          "name": "stdout",
          "text": [
            "please give first number n1: 6\n",
            "please give second number n2: 7\n",
            "please give third number n3: 9\n",
            "n3 is greatest\n"
          ]
        }
      ]
    },
    {
      "cell_type": "markdown",
      "source": [
        "9.Write a program in Python to check if a number is binary?"
      ],
      "metadata": {
        "id": "glh7n85oX9TW"
      }
    },
    {
      "cell_type": "code",
      "source": [
        "num = int(input(\"please give a number : \"))\n",
        "while(num>0):\n",
        "    j=num%10\n",
        "    if j!=0 and j!=1:\n",
        "        print(\"num is not binary\")\n",
        "        break\n",
        "    num=num//10\n",
        "    if num==0:\n",
        "        print(\"num is binary\") "
      ],
      "metadata": {
        "colab": {
          "base_uri": "https://localhost:8080/"
        },
        "id": "gGacfnEeXgZS",
        "outputId": "b094deba-c0d1-4841-cba2-1245019a4dda"
      },
      "execution_count": null,
      "outputs": [
        {
          "output_type": "stream",
          "name": "stdout",
          "text": [
            "please give a number : 10\n",
            "num is binary\n"
          ]
        }
      ]
    },
    {
      "cell_type": "markdown",
      "source": [
        "10.Write a program in Python to find sum of digits of a number using recursion?"
      ],
      "metadata": {
        "id": "CXYffastZQps"
      }
    },
    {
      "cell_type": "code",
      "source": [
        "a = int(input(\"please give first number a: \"))\n",
        "b = int(input(\"please give second number b: \"))\n",
        "a=a-b\n",
        "b=a+b\n",
        "a=b-a\n",
        "print(\"After swapping\")\n",
        "print(\"value of a is : \", a);\n",
        "print(\"value of b is : \", b); \n"
      ],
      "metadata": {
        "colab": {
          "base_uri": "https://localhost:8080/"
        },
        "id": "y3jA06h_YZHr",
        "outputId": "9d8ff71b-2eb9-42ee-ab23-48a324b073a5"
      },
      "execution_count": null,
      "outputs": [
        {
          "output_type": "stream",
          "name": "stdout",
          "text": [
            "please give first number a: 16\n",
            "please give second number b: 18\n",
            "After swapping\n",
            "value of a is :  18\n",
            "value of b is :  16\n"
          ]
        }
      ]
    },
    {
      "cell_type": "markdown",
      "source": [
        "11.Python program to swap two number without using third variable"
      ],
      "metadata": {
        "id": "9OJ1x5-NaIJR"
      }
    },
    {
      "cell_type": "code",
      "source": [
        "a = int(input(\"please give first number a: \"))\n",
        "b = int(input(\"please give second number b: \"))\n",
        "a=a-b\n",
        "b=a+b\n",
        "a=b-a\n",
        "print(\"After swapping\")\n",
        "print(\"value of a is : \", a);\n",
        "print(\"value of b is : \", b); "
      ],
      "metadata": {
        "colab": {
          "base_uri": "https://localhost:8080/"
        },
        "id": "4oJ8fbL9Z4Fl",
        "outputId": "87b69849-53d7-4b95-ccf1-015a10c9edc6"
      },
      "execution_count": null,
      "outputs": [
        {
          "output_type": "stream",
          "name": "stdout",
          "text": [
            "please give first number a: 5\n",
            "please give second number b: 7\n",
            "After swapping\n",
            "value of a is :  7\n",
            "value of b is :  5\n"
          ]
        }
      ]
    },
    {
      "cell_type": "markdown",
      "source": [
        "12.Write a program in Python to swap two numbers using third variable?"
      ],
      "metadata": {
        "id": "YWnbpzOvaZH4"
      }
    },
    {
      "cell_type": "code",
      "source": [
        "a = int(input(\"please give first number a: \"))\n",
        "b = int(input(\"please give second number b: \"))\n",
        "tempvar=a\n",
        "a=b\n",
        "b=tempvar\n",
        "print(\"After swapping\")\n",
        "print(\"value of a is : \", a);\n",
        "print(\"value of b is : \", b); \n"
      ],
      "metadata": {
        "colab": {
          "base_uri": "https://localhost:8080/"
        },
        "id": "5pI9a2kpaP5Q",
        "outputId": "01aefaa0-98e9-455a-86d6-23219e2a88e4"
      },
      "execution_count": null,
      "outputs": [
        {
          "output_type": "stream",
          "name": "stdout",
          "text": [
            "please give first number a: 123\n",
            "please give second number b: 130\n",
            "After swapping\n",
            "value of a is :  130\n",
            "value of b is :  123\n"
          ]
        }
      ]
    },
    {
      "cell_type": "markdown",
      "source": [
        "13.Write a program in Python to find prime factors of a given integer."
      ],
      "metadata": {
        "id": "Ul1ke0XkazwR"
      }
    },
    {
      "cell_type": "markdown",
      "source": [
        "14.Write a program in Python to add two integer without using arithmetic operator?"
      ],
      "metadata": {
        "id": "H0RxSoika_XL"
      }
    },
    {
      "cell_type": "code",
      "source": [
        "t = int(input())\n",
        "while(t!=0):\n",
        "    a , b = map(int,input().split())\n",
        "    a = a+b\n",
        "    print(a)\n",
        "    t-=1"
      ],
      "metadata": {
        "colab": {
          "base_uri": "https://localhost:8080/",
          "height": 270
        },
        "id": "NyyPETT3ao-3",
        "outputId": "88a9f1f8-eb81-48ae-be02-e292a84c01fe"
      },
      "execution_count": null,
      "outputs": [
        {
          "name": "stdout",
          "output_type": "stream",
          "text": [
            "220\n",
            "20\n"
          ]
        },
        {
          "output_type": "error",
          "ename": "ValueError",
          "evalue": "ignored",
          "traceback": [
            "\u001b[0;31m---------------------------------------------------------------------------\u001b[0m",
            "\u001b[0;31mValueError\u001b[0m                                Traceback (most recent call last)",
            "\u001b[0;32m<ipython-input-25-e9f83d0e3018>\u001b[0m in \u001b[0;36m<module>\u001b[0;34m\u001b[0m\n\u001b[1;32m      1\u001b[0m \u001b[0mt\u001b[0m \u001b[0;34m=\u001b[0m \u001b[0mint\u001b[0m\u001b[0;34m(\u001b[0m\u001b[0minput\u001b[0m\u001b[0;34m(\u001b[0m\u001b[0;34m)\u001b[0m\u001b[0;34m)\u001b[0m\u001b[0;34m\u001b[0m\u001b[0;34m\u001b[0m\u001b[0m\n\u001b[1;32m      2\u001b[0m \u001b[0;32mwhile\u001b[0m\u001b[0;34m(\u001b[0m\u001b[0mt\u001b[0m\u001b[0;34m!=\u001b[0m\u001b[0;36m0\u001b[0m\u001b[0;34m)\u001b[0m\u001b[0;34m:\u001b[0m\u001b[0;34m\u001b[0m\u001b[0;34m\u001b[0m\u001b[0m\n\u001b[0;32m----> 3\u001b[0;31m     \u001b[0ma\u001b[0m \u001b[0;34m,\u001b[0m \u001b[0mb\u001b[0m \u001b[0;34m=\u001b[0m \u001b[0mmap\u001b[0m\u001b[0;34m(\u001b[0m\u001b[0mint\u001b[0m\u001b[0;34m,\u001b[0m\u001b[0minput\u001b[0m\u001b[0;34m(\u001b[0m\u001b[0;34m)\u001b[0m\u001b[0;34m.\u001b[0m\u001b[0msplit\u001b[0m\u001b[0;34m(\u001b[0m\u001b[0;34m)\u001b[0m\u001b[0;34m)\u001b[0m\u001b[0;34m\u001b[0m\u001b[0;34m\u001b[0m\u001b[0m\n\u001b[0m\u001b[1;32m      4\u001b[0m     \u001b[0ma\u001b[0m \u001b[0;34m=\u001b[0m \u001b[0ma\u001b[0m\u001b[0;34m+\u001b[0m\u001b[0mb\u001b[0m\u001b[0;34m\u001b[0m\u001b[0;34m\u001b[0m\u001b[0m\n\u001b[1;32m      5\u001b[0m     \u001b[0mprint\u001b[0m\u001b[0;34m(\u001b[0m\u001b[0ma\u001b[0m\u001b[0;34m)\u001b[0m\u001b[0;34m\u001b[0m\u001b[0;34m\u001b[0m\u001b[0m\n",
            "\u001b[0;31mValueError\u001b[0m: not enough values to unpack (expected 2, got 1)"
          ]
        }
      ]
    },
    {
      "cell_type": "markdown",
      "source": [
        "15.Below is a program to check a given number is perfect or not in Python"
      ],
      "metadata": {
        "id": "EDNFZXbEelxs"
      }
    },
    {
      "cell_type": "code",
      "source": [
        "num = int(input(\"please give first number a: \"))\n",
        "sum=0\n",
        "for i in range(1,(num//2)+1):\n",
        "    remainder = num % i\n",
        "    if remainder == 0:\n",
        "        sum = sum + i\n",
        "if sum == num:\n",
        "    print(\"given no. is perfect number\")\n",
        "else:\n",
        "    print(\"given no. is not a perfect number\") "
      ],
      "metadata": {
        "colab": {
          "base_uri": "https://localhost:8080/"
        },
        "id": "d2m24s0db_3a",
        "outputId": "f7c1b61d-20c8-4a98-9904-23bc69a88962"
      },
      "execution_count": null,
      "outputs": [
        {
          "output_type": "stream",
          "name": "stdout",
          "text": [
            "please give first number a: 6\n",
            "given no. is perfect number\n"
          ]
        }
      ]
    },
    {
      "cell_type": "markdown",
      "source": [
        "16.Python Program to find the Average of numbers with explanations."
      ],
      "metadata": {
        "id": "YIt3Ff7FfKHd"
      }
    },
    {
      "cell_type": "code",
      "source": [
        "size=int(input(\"Enter the number of elements you want in array: \"))\n",
        "arr=[]\n",
        "#taking input of the list\n",
        "for i in range(0,size):\n",
        "    elem=int(input(\"Please give value for index \"+str(i)+\": \"))\n",
        "    arr.append(elem)\n",
        "#taking average of the elements of the list\n",
        "avg=sum(arr)/size\n",
        "print(\"Average of the array elements is \",avg)"
      ],
      "metadata": {
        "colab": {
          "base_uri": "https://localhost:8080/",
          "height": 323
        },
        "id": "M-ZVR69ZesEf",
        "outputId": "6abced41-6684-48b8-f74b-ebeb0bae72bb"
      },
      "execution_count": null,
      "outputs": [
        {
          "name": "stdout",
          "output_type": "stream",
          "text": [
            "Enter the number of elements you want in array: 5\n",
            "Please give value for index 0: 9\n",
            "Please give value for index 1: 5\n",
            "Please give value for index 2: 7\n",
            "Please give value for index 3: 88\n",
            "Please give value for index 4: 21\n"
          ]
        },
        {
          "output_type": "error",
          "ename": "TypeError",
          "evalue": "ignored",
          "traceback": [
            "\u001b[0;31m---------------------------------------------------------------------------\u001b[0m",
            "\u001b[0;31mTypeError\u001b[0m                                 Traceback (most recent call last)",
            "\u001b[0;32m<ipython-input-29-3cc9e7bcbae3>\u001b[0m in \u001b[0;36m<module>\u001b[0;34m\u001b[0m\n\u001b[1;32m      6\u001b[0m     \u001b[0marr\u001b[0m\u001b[0;34m.\u001b[0m\u001b[0mappend\u001b[0m\u001b[0;34m(\u001b[0m\u001b[0melem\u001b[0m\u001b[0;34m)\u001b[0m\u001b[0;34m\u001b[0m\u001b[0;34m\u001b[0m\u001b[0m\n\u001b[1;32m      7\u001b[0m \u001b[0;31m#taking average of the elements of the list\u001b[0m\u001b[0;34m\u001b[0m\u001b[0;34m\u001b[0m\u001b[0;34m\u001b[0m\u001b[0m\n\u001b[0;32m----> 8\u001b[0;31m \u001b[0mavg\u001b[0m\u001b[0;34m=\u001b[0m\u001b[0msum\u001b[0m\u001b[0;34m(\u001b[0m\u001b[0marr\u001b[0m\u001b[0;34m)\u001b[0m\u001b[0;34m/\u001b[0m\u001b[0msize\u001b[0m\u001b[0;34m\u001b[0m\u001b[0;34m\u001b[0m\u001b[0m\n\u001b[0m\u001b[1;32m      9\u001b[0m \u001b[0mprint\u001b[0m\u001b[0;34m(\u001b[0m\u001b[0;34m\"Average of the array elements is \"\u001b[0m\u001b[0;34m,\u001b[0m\u001b[0mavg\u001b[0m\u001b[0;34m)\u001b[0m\u001b[0;34m\u001b[0m\u001b[0;34m\u001b[0m\u001b[0m\n",
            "\u001b[0;31mTypeError\u001b[0m: 'int' object is not callable"
          ]
        }
      ]
    },
    {
      "cell_type": "markdown",
      "source": [
        "17.Python Program to calculate factorial using iterative method."
      ],
      "metadata": {
        "id": "45Ay28DxjBTH"
      }
    },
    {
      "cell_type": "code",
      "source": [
        "#taking an integer input from user\n",
        "num=int(input(\"Enter the whole number to find the factorial: \"))\n",
        "factorial = 1\n",
        "if num < 0:\n",
        "   \tprint(\"Factorial can't be calculated for negative number\")\n",
        "elif num == 0:\n",
        "   print(\"Factorial of 0 is 1\")\n",
        "else:\n",
        "#calculating the factorial of the input number\n",
        " for i in range(1,num + 1):\n",
        "  factorial = factorial*i\n",
        "print(\"Factorial of\",num,\"is\",factorial) "
      ],
      "metadata": {
        "colab": {
          "base_uri": "https://localhost:8080/"
        },
        "id": "MayVmpcuiDlX",
        "outputId": "f9d128a4-f5e9-474f-d251-095f01206975"
      },
      "execution_count": null,
      "outputs": [
        {
          "output_type": "stream",
          "name": "stdout",
          "text": [
            "Enter the whole number to find the factorial: 9\n",
            "Factorial of 9 is 362880\n"
          ]
        }
      ]
    },
    {
      "cell_type": "markdown",
      "source": [
        "18.Python Program to calculate factorial using recursion."
      ],
      "metadata": {
        "id": "NyLNYWqUjnOz"
      }
    },
    {
      "cell_type": "code",
      "source": [
        "def fact(n):  \n",
        "   if n == 1:  \n",
        "       return n  \n",
        "   else:  \n",
        "#recursion \n",
        "       return n*fact(n-1)\n",
        "\n",
        "num = int(input(\"Enter a whole number to find Factorial: \"))  \n",
        "if num < 0:  \n",
        "   print(\"Factorial can't be calculated for negative number\")  \n",
        "elif num == 0:  \n",
        "   print(\"Factorial of 0 is 1\")  \n",
        "else:  \n",
        "   print(\"Factorial of\",num,\"is\",fact(num))  "
      ],
      "metadata": {
        "colab": {
          "base_uri": "https://localhost:8080/"
        },
        "id": "AnX_BdTXjUw_",
        "outputId": "955be53a-b5c9-4e84-d164-6ab32ffd16cc"
      },
      "execution_count": null,
      "outputs": [
        {
          "output_type": "stream",
          "name": "stdout",
          "text": [
            "Enter a whole number to find Factorial: 7\n",
            "Factorial of 7 is 5040\n"
          ]
        }
      ]
    },
    {
      "cell_type": "markdown",
      "source": [
        "19.Python Program to check a given number is even or odd."
      ],
      "metadata": {
        "id": "iOfAQYh_kEJw"
      }
    },
    {
      "cell_type": "code",
      "source": [
        "#taking input from the user\n",
        "num = int(input(\"Enter a number to check even/odd \"))  \n",
        "#if number is divisible by 2\n",
        "if num%2 == 0:\n",
        "   print(num,\"is even number\")\n",
        "else:\n",
        "   print(num,\"is odd number\")"
      ],
      "metadata": {
        "colab": {
          "base_uri": "https://localhost:8080/"
        },
        "id": "XHi6JmJZj4F-",
        "outputId": "bf0f8198-faef-45a5-f8d3-d602a706d21d"
      },
      "execution_count": null,
      "outputs": [
        {
          "output_type": "stream",
          "name": "stdout",
          "text": [
            "Enter a number to check even/odd 9\n",
            "9 is odd number\n"
          ]
        }
      ]
    },
    {
      "cell_type": "markdown",
      "source": [
        "20.Python program to print first n Prime Number with explanation."
      ],
      "metadata": {
        "id": "_lQho-jPlKKw"
      }
    },
    {
      "cell_type": "code",
      "source": [
        "#taking input from the user\n",
        "num = int(input(\"Enter a number\"))  \n",
        "\n",
        "if num > 1 :\n",
        "\n",
        "   for i in range(2, num):\n",
        "       if (num % i == 0):\n",
        "         print(num, \" is not a primer number\")\n",
        "         break\n",
        "   else:\n",
        "       print(num, \" is not a primer number\")\n"
      ],
      "metadata": {
        "colab": {
          "base_uri": "https://localhost:8080/"
        },
        "id": "5BINM4PNlEYK",
        "outputId": "f9a9bfa3-d2af-4add-b50e-48f0e630bf33"
      },
      "execution_count": null,
      "outputs": [
        {
          "output_type": "stream",
          "name": "stdout",
          "text": [
            "Enter a number66\n",
            "66  is not a primer number\n"
          ]
        }
      ]
    },
    {
      "cell_type": "markdown",
      "source": [
        "21.Python Program to print Prime Number in a given range."
      ],
      "metadata": {
        "id": "YPQ1w3Rap8ga"
      }
    },
    {
      "cell_type": "markdown",
      "source": [
        "22.Python Program to find Smallest number among three."
      ],
      "metadata": {
        "id": "vrLUEdyUqcms"
      }
    },
    {
      "cell_type": "code",
      "source": [
        "a = int(input(\"Enter the value for a :\"))\n",
        "b = int(input(\"Enter the value for b :\"))\n",
        "c = int(input(\"Enter the value for c :\"))\n",
        "#comparing integer ‘a’ with other two integer\n",
        "if a<=b and a<=c:\n",
        "\tprint(\"a is smallest\")\n",
        "#comparing integer ‘b’ with other two integer\n",
        "elif b<=a and b<=c:\n",
        "\tprint(\"b is smallest\")\n",
        "#comparing integer ‘c’ with other two integer\n",
        "elif c<=a and c<=b:\n",
        "\tprint(\"c is smallest\")"
      ],
      "metadata": {
        "colab": {
          "base_uri": "https://localhost:8080/"
        },
        "id": "Gznuxnr5lYOo",
        "outputId": "b7afc6bc-5f5e-4554-dc29-2d61506bcd13"
      },
      "execution_count": null,
      "outputs": [
        {
          "output_type": "stream",
          "name": "stdout",
          "text": [
            "Enter the value for a :6\n",
            "Enter the value for b :5\n",
            "Enter the value for c :9\n",
            "b is smallest\n"
          ]
        }
      ]
    },
    {
      "cell_type": "markdown",
      "source": [
        "23.Python program to calculate the power using the POW method."
      ],
      "metadata": {
        "id": "gyKV81AAqqzD"
      }
    },
    {
      "cell_type": "code",
      "source": [
        "#taking 2 integer as input from the user\n",
        "base = int(input(\"Enter the value for base :\"))\n",
        "exponent = int(input(\"Enter the value for exponent :\"))\n",
        "print(base,\"to power \",exponent,\"=\",end = ' ')\n",
        "print(pow(base,exponent))"
      ],
      "metadata": {
        "colab": {
          "base_uri": "https://localhost:8080/"
        },
        "id": "RSuyJ1lWqgo_",
        "outputId": "90f5be4f-b6c2-484e-84e0-4fc75e434f74"
      },
      "execution_count": null,
      "outputs": [
        {
          "output_type": "stream",
          "name": "stdout",
          "text": [
            "Enter the value for base :3\n",
            "Enter the value for exponent :3\n",
            "3 to power  3 = 27\n"
          ]
        }
      ]
    },
    {
      "cell_type": "markdown",
      "source": [
        "24.Python Program to calculate the power without using POW function.(using for loop)."
      ],
      "metadata": {
        "id": "zP9GDixtq_Tb"
      }
    },
    {
      "cell_type": "code",
      "source": [
        "#taking 3 integer as input from the user\n",
        "base = int(input(\"Enter the value for base :\"))\n",
        "exponent = int(input(\"Enter the value for exponent :\"))\n",
        "result=1;\n",
        "print(base,\"to power \",exponent,\"=\",end = ' ')\n",
        "#using ‘for’ loop with ‘range’ function\n",
        "for exponent in range(exponent, 0, -1):\n",
        "    result *= base\n",
        "print(result)"
      ],
      "metadata": {
        "colab": {
          "base_uri": "https://localhost:8080/"
        },
        "id": "V-hbWt0vq2Os",
        "outputId": "e88155f2-956b-4a44-842b-d6d47c09d4f4"
      },
      "execution_count": null,
      "outputs": [
        {
          "output_type": "stream",
          "name": "stdout",
          "text": [
            "Enter the value for base :6\n",
            "Enter the value for exponent :9\n",
            "6 to power  9 = 10077696\n"
          ]
        }
      ]
    },
    {
      "cell_type": "markdown",
      "source": [
        "25.Python Program to calculate the power without using POW function.(using while loop)."
      ],
      "metadata": {
        "id": "cz73kVuardCf"
      }
    },
    {
      "cell_type": "code",
      "source": [
        "base = int(input(\"Enter the value for base :\"))\n",
        "exponent = int(input(\"Enter the value for exponent :\"))\n",
        "result=1;\n",
        "print(base,\"to power \",exponent,\"=\",end = ' ')\n",
        "#using while loop with a condition that come out of while loop if exponent is 0\n",
        "while exponent != 0:\n",
        "    result = base * result\n",
        "    exponent-=1\n",
        "print(result)"
      ],
      "metadata": {
        "colab": {
          "base_uri": "https://localhost:8080/"
        },
        "id": "AAMTklzOrI4U",
        "outputId": "ba850a73-d0ca-43ae-8f54-daebadc2f30b"
      },
      "execution_count": null,
      "outputs": [
        {
          "output_type": "stream",
          "name": "stdout",
          "text": [
            "Enter the value for base :12\n",
            "Enter the value for exponent :5\n",
            "12 to power  5 = 248832\n"
          ]
        }
      ]
    },
    {
      "cell_type": "markdown",
      "source": [
        "26.Python Program to calculate the square of a given number."
      ],
      "metadata": {
        "id": "3Ir7oHpdrpgt"
      }
    },
    {
      "cell_type": "code",
      "source": [
        "#take input from the user\n",
        "num = int(input(\"Enter a number to calculate square : \"))\n",
        "print(\"square =\",num*num)"
      ],
      "metadata": {
        "colab": {
          "base_uri": "https://localhost:8080/"
        },
        "id": "4xA8Nw5nrh83",
        "outputId": "50730605-eb53-4afd-de4b-9530a21bfa93"
      },
      "execution_count": null,
      "outputs": [
        {
          "output_type": "stream",
          "name": "stdout",
          "text": [
            "Enter a number to calculate square : 6\n",
            "square = 36\n"
          ]
        }
      ]
    },
    {
      "cell_type": "markdown",
      "source": [
        "27.Python Program to calculate the cube of a given number."
      ],
      "metadata": {
        "id": "OV1Ut1URr2Pt"
      }
    },
    {
      "cell_type": "code",
      "source": [
        "#take input from the user\n",
        "num = int(input(\"Enter a number to calculate cube : \"))\n",
        "print(\"cube =\",num*num*num)"
      ],
      "metadata": {
        "colab": {
          "base_uri": "https://localhost:8080/"
        },
        "id": "xPJ9-EbXrxUg",
        "outputId": "2890b761-e625-4117-ea07-5c584bbe2c9d"
      },
      "execution_count": null,
      "outputs": [
        {
          "output_type": "stream",
          "name": "stdout",
          "text": [
            "Enter a number to calculate cube : 5\n",
            "cube = 125\n"
          ]
        }
      ]
    },
    {
      "cell_type": "markdown",
      "source": [
        "28.Python Program to calculate the square root of a given number."
      ],
      "metadata": {
        "id": "TGGq6wKdsEP6"
      }
    },
    {
      "cell_type": "code",
      "source": [
        "import math\n",
        "#take input from the user\n",
        "num = int(input(\"Enter a number to find square root : \"))\n",
        "#check if the input number is negative\n",
        "if num<0:\n",
        "    print(\"Negative numbers can't have square roots\")\n",
        "else:\n",
        "    print(\"square roots = \",math.sqrt(num))"
      ],
      "metadata": {
        "colab": {
          "base_uri": "https://localhost:8080/"
        },
        "id": "Wh4Vn5etr9b6",
        "outputId": "84ae4852-16ee-4097-a147-8aa5e84b0485"
      },
      "execution_count": null,
      "outputs": [
        {
          "output_type": "stream",
          "name": "stdout",
          "text": [
            "Enter a number to find square root : 9\n",
            "square roots =  3.0\n"
          ]
        }
      ]
    },
    {
      "cell_type": "markdown",
      "source": [
        "29.Python program to calculate LCM of given two numbers."
      ],
      "metadata": {
        "id": "AMd240mSvCHg"
      }
    },
    {
      "cell_type": "code",
      "source": [
        "num1 = int(input(\"Enter first number: \"))  \n",
        "num2 = int(input(\"Enter second number: \"))  \n",
        "if num1 > num2:  \n",
        "    greater = num1  \n",
        "else:  \n",
        "    greater = num2  \n",
        "while(True):  \n",
        "    if((greater % num1 == 0) and (greater % num2 == 0)):  \n",
        "        lcm = greater  \n",
        "        break  \n",
        "    greater += 1  \n",
        "print(\"LCM of\",num1,\"and\",num2,\"=\",greater)"
      ],
      "metadata": {
        "colab": {
          "base_uri": "https://localhost:8080/"
        },
        "id": "SqvqkB-RsM7w",
        "outputId": "db389c19-eaed-4172-ac85-1fa7a6733330"
      },
      "execution_count": null,
      "outputs": [
        {
          "output_type": "stream",
          "name": "stdout",
          "text": [
            "Enter first number: 6\n",
            "Enter second number: 12\n",
            "LCM of 6 and 12 = 12\n"
          ]
        }
      ]
    },
    {
      "cell_type": "markdown",
      "source": [
        "30.Python Program to find GCD or HCF of two numbers."
      ],
      "metadata": {
        "id": "yQfyL9iRwdAE"
      }
    },
    {
      "cell_type": "code",
      "source": [
        "#taking two inputs from the user\n",
        "num1 = int(input(\"Enter first number: \"))  \n",
        "num2 = int(input(\"Enter second number: \"))  \n",
        "#checking for smaller number\n",
        "if num1 > num2:\n",
        "    minimum = num2\n",
        "else:\n",
        "    minimum = num1\n",
        "#finding highest factor of the numbers\n",
        "for i in range(1, minimum+1):\n",
        "    if((num1 % i == 0) and (num2 % i == 0)):\n",
        "        hcf = i \n",
        "print(\"hcf/gcd of\",num1,\"and\",num2,\"=\",hcf)"
      ],
      "metadata": {
        "colab": {
          "base_uri": "https://localhost:8080/"
        },
        "id": "vySzmbSDwLvw",
        "outputId": "197bf7a8-f980-4456-f37b-e11353a37117"
      },
      "execution_count": null,
      "outputs": [
        {
          "output_type": "stream",
          "name": "stdout",
          "text": [
            "Enter first number: 6\n",
            "Enter second number: 9\n",
            "hcf/gcd of 6 and 9 = 3\n"
          ]
        }
      ]
    },
    {
      "cell_type": "markdown",
      "source": [
        "31.Python Program to find GCD of two numbers using recursion."
      ],
      "metadata": {
        "id": "mJIf2nV7wy-W"
      }
    },
    {
      "cell_type": "code",
      "source": [
        "def gcd(num1,num2):\n",
        "    if num2 == 0:\n",
        "        return num1;\n",
        "    return gcd(num2, num1 % num2)\n",
        "#taking inputs from the user\n",
        "num1 = int(input(\"Enter first number: \"))  \n",
        "num2 = int(input(\"Enter second number: \"))  \n",
        "print(\"hcf/gcd of\",num1,\"and\",num2,\"=\",gcd(num1,num2))"
      ],
      "metadata": {
        "colab": {
          "base_uri": "https://localhost:8080/"
        },
        "id": "sXWB4-dewn6e",
        "outputId": "553da717-af10-4ed3-b0e1-6dc5da3e0380"
      },
      "execution_count": null,
      "outputs": [
        {
          "output_type": "stream",
          "name": "stdout",
          "text": [
            "Enter first number: 6\n",
            "Enter second number: 3\n",
            "hcf/gcd of 6 and 3 = 3\n"
          ]
        }
      ]
    },
    {
      "cell_type": "markdown",
      "source": [
        "32.Python Program to Convert Decimal Number into Binary."
      ],
      "metadata": {
        "id": "xCZYF-GsxH3t"
      }
    },
    {
      "cell_type": "markdown",
      "source": [
        "33.Python Program to convert Decimal number to Octal number."
      ],
      "metadata": {
        "id": "nVm_RswZxV3y"
      }
    },
    {
      "cell_type": "markdown",
      "source": [
        "34.Python Program to check the given year is a leap year or not."
      ],
      "metadata": {
        "id": "j2xnXqBLxpQD"
      }
    },
    {
      "cell_type": "code",
      "source": [
        "yr = int(input(\"Enter a year: \"))\n",
        "\n",
        "if yr % 4 ==0:\n",
        "\n",
        "   if yr % 100 ==0:\n",
        "\n",
        "      if yr % 400 ==0:\n",
        "         print(\"{} is a century leap year\".format(yr))\n",
        "      else:\n",
        "         print(\"{} is not leap year\".format(yr))"
      ],
      "metadata": {
        "colab": {
          "base_uri": "https://localhost:8080/"
        },
        "id": "KKiVTy-UxBGl",
        "outputId": "841de91a-5f68-45f2-ce49-068f23b1ed20"
      },
      "execution_count": null,
      "outputs": [
        {
          "name": "stdout",
          "output_type": "stream",
          "text": [
            "Enter a year: 1991\n"
          ]
        }
      ]
    },
    {
      "cell_type": "markdown",
      "source": [
        "35.Python Program to convert Celsius to Fahrenheit."
      ],
      "metadata": {
        "id": "bGAbGOvIy_4K"
      }
    },
    {
      "cell_type": "markdown",
      "source": [
        "36.Python Program to convert Fahrenheit to Celsius."
      ],
      "metadata": {
        "id": "_CmrvbkOzJk8"
      }
    },
    {
      "cell_type": "code",
      "source": [
        "#taking input from the user\n",
        "fahrenheit = float(input(\"Please give the Hahrenheit Temperature : \"))  \n",
        "#converting Celsius into Fahrenheit \n",
        "celsius = ((fahrenheit-32)*5)/9\n",
        "print(\"Celcius= \",celsius)"
      ],
      "metadata": {
        "colab": {
          "base_uri": "https://localhost:8080/"
        },
        "id": "XJxDjzapyl5Y",
        "outputId": "4a01f481-c3ad-4105-88c0-729fa590c15e"
      },
      "execution_count": null,
      "outputs": [
        {
          "output_type": "stream",
          "name": "stdout",
          "text": [
            "Please give the Hahrenheit Temperature : 180\n",
            "Celcius=  82.22222222222223\n"
          ]
        }
      ]
    },
    {
      "cell_type": "markdown",
      "source": [
        "37.Python program to calculate Simple Interest with explanation."
      ],
      "metadata": {
        "id": "LYqO_JsyzaFa"
      }
    },
    {
      "cell_type": "code",
      "source": [
        "#taking the values of principal, rate of interest and time from the user\n",
        "principal = int(input(\"Enter the principal amount: \"))  \n",
        "rate = int(input(\"Enter the rate of interest: \"))  \n",
        "time = int(input(\"Enter the time of interest in year: \"))  \n",
        "#using the input values calculate simple interest\n",
        "simpleInterest = (principal*rate*time)/100\n",
        "print(\"Simple Interest = \",simpleInterest)"
      ],
      "metadata": {
        "colab": {
          "base_uri": "https://localhost:8080/"
        },
        "id": "GbWpKvO5zSL_",
        "outputId": "1138fcc3-3c1e-4671-cfe8-685c3d13dac8"
      },
      "execution_count": null,
      "outputs": [
        {
          "output_type": "stream",
          "name": "stdout",
          "text": [
            "Enter the principal amount: 3200\n",
            "Enter the rate of interest: 6\n",
            "Enter the time of interest in year: 12\n",
            "Simple Interest =  2304.0\n"
          ]
        }
      ]
    },
    {
      "cell_type": "markdown",
      "source": [
        "Python codes for strings"
      ],
      "metadata": {
        "id": "MSvJI-nY0F5K"
      }
    },
    {
      "cell_type": "markdown",
      "source": [
        "1.Python program to remove given character from String."
      ],
      "metadata": {
        "id": "k3VOUX0H0Nz3"
      }
    },
    {
      "cell_type": "code",
      "source": [
        "str = input(\"please enter a string : \")\n",
        "ch = input(\"please enter a character : \")\n",
        "print(str.replace(ch,\" \")) "
      ],
      "metadata": {
        "colab": {
          "base_uri": "https://localhost:8080/"
        },
        "id": "i5rjplHwzkzB",
        "outputId": "baa13891-8811-4a8f-f6ca-0b5dcee5e1ba"
      },
      "execution_count": null,
      "outputs": [
        {
          "output_type": "stream",
          "name": "stdout",
          "text": [
            "please enter a string : maharaja\n",
            "please enter a character : a\n",
            "m h r j \n"
          ]
        }
      ]
    },
    {
      "cell_type": "markdown",
      "source": [
        "2.Python Program to count occurrence of a given characters in string."
      ],
      "metadata": {
        "id": "UlVeoBYv05f7"
      }
    },
    {
      "cell_type": "code",
      "source": [
        "string = input(\"Please enter String : \")\n",
        "char = input(\"Please enter a Character : \")\n",
        "count = 0\n",
        "for i in range(len(string)):\n",
        "    if(string[i] == char):\n",
        "        count = count + 1\n",
        "print(\"Total Number of occurence of \", char, \"is :\" , count)"
      ],
      "metadata": {
        "colab": {
          "base_uri": "https://localhost:8080/"
        },
        "id": "XyHrpPpM0Z0E",
        "outputId": "7bf4d00f-f357-4d01-a575-916f4668af45"
      },
      "execution_count": null,
      "outputs": [
        {
          "output_type": "stream",
          "name": "stdout",
          "text": [
            "Please enter String : Quescol is educational website\n",
            "Please enter a Character : a\n",
            "Total Number of occurence of  a is : 2\n"
          ]
        }
      ]
    },
    {
      "cell_type": "code",
      "source": [
        "#Using while Loop\n",
        "string = input(\"Please enter String : \")\n",
        "char = input(\"Please enter a Character : \")\n",
        "index, count = 0, 0\n",
        "while(index < len(string)):\n",
        "    if(string[index] == char):\n",
        "        count = count + 1\n",
        "    index = index + 1\n",
        "print(\"Total Number of occurence of \", char, \"is :\" , count)"
      ],
      "metadata": {
        "colab": {
          "base_uri": "https://localhost:8080/"
        },
        "id": "pdJPnLJ_GQyr",
        "outputId": "57e87914-817f-45e8-dffb-d648d3254d7a"
      },
      "execution_count": null,
      "outputs": [
        {
          "output_type": "stream",
          "name": "stdout",
          "text": [
            "Please enter String : Quescol is educational website\n",
            "Please enter a Character : e\n",
            "Total Number of occurence of  e is : 4\n"
          ]
        }
      ]
    },
    {
      "cell_type": "code",
      "source": [
        "#Using Method\n",
        "def countOccur(char, string):\n",
        "    count = 0\n",
        "    for i in range(len(string)):\n",
        "        if(string[i] == char):\n",
        "            count = count + 1\n",
        "    return count\n",
        "string = input(\"Please enter String : \")\n",
        "char = input(\"Please enter a Character : \")\n",
        "count = countOccur(char, string)\n",
        "print(\"Total Number of occurence of \", char, \"is :\" , count)"
      ],
      "metadata": {
        "colab": {
          "base_uri": "https://localhost:8080/"
        },
        "id": "zj2O2LxiGlIQ",
        "outputId": "0ed459b4-fe0f-4901-b869-26c317b99209"
      },
      "execution_count": null,
      "outputs": [
        {
          "output_type": "stream",
          "name": "stdout",
          "text": [
            "Please enter String : Quescol is educational website\n",
            "Please enter a Character : i\n",
            "Total Number of occurence of  i is : 3\n"
          ]
        }
      ]
    },
    {
      "cell_type": "markdown",
      "source": [
        "3.Python Program to check if two Strings are Anagram."
      ],
      "metadata": {
        "id": "Jq3NIggAHiCs"
      }
    },
    {
      "cell_type": "code",
      "source": [
        "def anagramCheck(str1, str2):\n",
        "    if (sorted(str1) == sorted(str2)) :  \n",
        "\t    return True \n",
        "    else :  \n",
        "\t    return False \n",
        "str1 = input(\"Please enter String 1 : \")\n",
        "str2 = input(\"Please enter String 2 : \")\n",
        "if anagramCheck(str1,str2):\n",
        "    print(\"Anagram\")\n",
        "else:\n",
        "    print(\"Not an anagram\")"
      ],
      "metadata": {
        "colab": {
          "base_uri": "https://localhost:8080/"
        },
        "id": "nKuOzR4PHAej",
        "outputId": "3a243237-464e-434f-8d39-552c572e7cfe"
      },
      "execution_count": null,
      "outputs": [
        {
          "output_type": "stream",
          "name": "stdout",
          "text": [
            "Please enter String 1 : Strings are not anagram\n",
            "Please enter String 2 : Given Strings are anagram\n",
            "Not an anagram\n"
          ]
        }
      ]
    },
    {
      "cell_type": "markdown",
      "source": [
        "4.Python program to check a String is palindrome or not."
      ],
      "metadata": {
        "id": "Kq2dYmJ-H_gt"
      }
    },
    {
      "cell_type": "code",
      "source": [
        "string = input(\"Please give a String : \")\n",
        "if(string == string[:: - 1]):\n",
        "   print(\"Given String is a Palindrome\")\n",
        "else:\n",
        "   print(\"Given String is not a Palindrome\") "
      ],
      "metadata": {
        "colab": {
          "base_uri": "https://localhost:8080/"
        },
        "id": "ERqWD9foHrgF",
        "outputId": "0037358e-0f1b-4e2b-cde1-0a9339bba78a"
      },
      "execution_count": null,
      "outputs": [
        {
          "output_type": "stream",
          "name": "stdout",
          "text": [
            "Please give a String : madam\n",
            "Given String is a Palindrome\n"
          ]
        }
      ]
    },
    {
      "cell_type": "code",
      "source": [
        "def isPalindrome(string): \n",
        "    for i in range(0, int(len(string)/2)): \n",
        "        if string[i] != string[len(string)-i-1]:\n",
        "            return False\n",
        "    return True\n",
        "string = input(\"Please give a String : \")\n",
        "if (isPalindrome(string)):\n",
        "    print(\"Given String is a Palindrome\")\n",
        "else:\n",
        "    print(\"Given String is not a Palindrome\")"
      ],
      "metadata": {
        "colab": {
          "base_uri": "https://localhost:8080/"
        },
        "id": "AOSypsRCIJDo",
        "outputId": "f2169d06-ac69-4962-eae0-c8db8c41ea84"
      },
      "execution_count": null,
      "outputs": [
        {
          "output_type": "stream",
          "name": "stdout",
          "text": [
            "Please give a String : madam\n",
            "Given String is a Palindrome\n"
          ]
        }
      ]
    },
    {
      "cell_type": "markdown",
      "source": [
        "5.Python program to check given character is vowel or consonant."
      ],
      "metadata": {
        "id": "GrYPqavnIhzr"
      }
    },
    {
      "cell_type": "code",
      "source": [
        "Ch=input(“ Enter a character to check vowel or consonant :”) \n",
        "if(ch == 'a' or ch == 'e' or ch == 'i' or ch == 'o' or ch == 'u' or ch == 'A' or ch == 'E' or ch == 'I' or ch == 'O' or ch == 'U'):\n",
        "\t#if ‘if’ condition satisfy\n",
        "\tprint(“Given character”, ch ,”is vowel”)\n",
        "else: \n",
        "#if ‘if’ condition does not satisfy the condition\n",
        "\tprint(“Given character”,ch, “is  consonant”) "
      ],
      "metadata": {
        "colab": {
          "base_uri": "https://localhost:8080/",
          "height": 131
        },
        "id": "JGyX_uxZITTy",
        "outputId": "984e6e9a-fb3d-43bb-9a2d-64c18b0b99b9"
      },
      "execution_count": null,
      "outputs": [
        {
          "output_type": "error",
          "ename": "SyntaxError",
          "evalue": "ignored",
          "traceback": [
            "\u001b[0;36m  File \u001b[0;32m\"<ipython-input-61-0ad2d2c7f1aa>\"\u001b[0;36m, line \u001b[0;32m1\u001b[0m\n\u001b[0;31m    Ch=input(“Enter a character to check vowel or consonant :”)\u001b[0m\n\u001b[0m                  ^\u001b[0m\n\u001b[0;31mSyntaxError\u001b[0m\u001b[0;31m:\u001b[0m invalid character in identifier\n"
          ]
        }
      ]
    },
    {
      "cell_type": "markdown",
      "source": [
        "6.Python program to check given character is digit or not."
      ],
      "metadata": {
        "id": "Ig-COB0RI-7m"
      }
    },
    {
      "cell_type": "code",
      "source": [
        "#taking input from user\n",
        "ch = input(\"Enter a character : \") \n",
        "if ch >= '0' and ch <= '9': #comparing the value of ‘ch’ \n",
        "\t# if the condition holds true then this block will execute\n",
        "    \tprint(\"Given Character \", ch, \"is a Digit\")\n",
        "else: #this block will execute if the condition will not satisfies\n",
        "    print(\"Given Character \", ch, \"is not a Digit\")"
      ],
      "metadata": {
        "colab": {
          "base_uri": "https://localhost:8080/"
        },
        "id": "jdgrh9CxIvDh",
        "outputId": "50b2dbf4-203e-422c-e66a-649d4cbcfe98"
      },
      "execution_count": null,
      "outputs": [
        {
          "output_type": "stream",
          "name": "stdout",
          "text": [
            "Enter a character : Given Character 8 is a Digit\n",
            "Given Character  Given Character 8 is a Digit is not a Digit\n"
          ]
        }
      ]
    },
    {
      "cell_type": "markdown",
      "source": [
        "7.Python program to check given character is digit or not using isdigit() method."
      ],
      "metadata": {
        "id": "K8wC7LMVJX4e"
      }
    },
    {
      "cell_type": "code",
      "source": [
        "# taking input from user\n",
        "ch = input(\"Enter a character : \") \n",
        "# checks if character ‘ch’ is digit or not\n",
        "if(ch.isdigit()): \n",
        "     #if ‘ch.digit()’ returns “True”\n",
        "    print(\"The Given Character \", ch, \"is a Digit\")\n",
        "else:\n",
        "      #if ‘ch.digit()’ returns “False”\n",
        "    print(\"The Given Character \", ch, \"is not a Digit\")"
      ],
      "metadata": {
        "colab": {
          "base_uri": "https://localhost:8080/"
        },
        "id": "AhQxuTB_JK4b",
        "outputId": "b34e4d82-3710-46c3-8c89-e96eaffb6535"
      },
      "execution_count": null,
      "outputs": [
        {
          "output_type": "stream",
          "name": "stdout",
          "text": [
            "Enter a character : Given Character 8 is a Digit\n",
            "The Given Character  Given Character 8 is a Digit is not a Digit\n"
          ]
        }
      ]
    },
    {
      "cell_type": "markdown",
      "source": [
        "8.Python program to replace the string space with a given character."
      ],
      "metadata": {
        "id": "YpYcpWk_JqQM"
      }
    },
    {
      "cell_type": "code",
      "source": [
        "#taking input from the user\n",
        "string = input(\"Enter a String : \")\n",
        "result = ''  #empty string\n",
        "ch = input(\"Enter a Character : \")\n",
        "for i in string:  #iterating using for loop\n",
        "        if i == ' ':  #if any space found in the string\n",
        "            i = ch   #replacing space with character\n",
        "        result += i   #concatenating each character of the string without space\n",
        "print(“String after removing space with t = ”,result)"
      ],
      "metadata": {
        "colab": {
          "base_uri": "https://localhost:8080/",
          "height": 131
        },
        "id": "cH3gyohGJi2f",
        "outputId": "65d3596c-18e5-4ad1-cace-5fb80b8c2119"
      },
      "execution_count": null,
      "outputs": [
        {
          "output_type": "error",
          "ename": "SyntaxError",
          "evalue": "ignored",
          "traceback": [
            "\u001b[0;36m  File \u001b[0;32m\"<ipython-input-67-b3f90e4b055c>\"\u001b[0;36m, line \u001b[0;32m9\u001b[0m\n\u001b[0;31m    print(“String after removing space with t = ”,result)\u001b[0m\n\u001b[0m                ^\u001b[0m\n\u001b[0;31mSyntaxError\u001b[0m\u001b[0;31m:\u001b[0m invalid character in identifier\n"
          ]
        }
      ]
    },
    {
      "cell_type": "markdown",
      "source": [
        "9.Python program to replace the string space with a given character using replace() method."
      ],
      "metadata": {
        "id": "DJKpmwL2K24U"
      }
    },
    {
      "cell_type": "code",
      "source": [
        "#taking input from the user\n",
        "string = input(\"Enter a String : \")\n",
        "result = ''  #empty string\n",
        "ch = input(\"Enter a Character : \")\n",
        "for i in string:  #iterating using for loop\n",
        "        if i == ' ':  #if any space found in the string\n",
        "            i = ch   #replacing space with character\n",
        "        result += i   #concatenating each character of the string without space\n",
        "print(“String after removing space with t = ”,result)"
      ],
      "metadata": {
        "colab": {
          "base_uri": "https://localhost:8080/",
          "height": 131
        },
        "id": "90wBUxo-Jy7p",
        "outputId": "ff5a503f-67dc-4fb2-b7d9-daea6d6d1d98"
      },
      "execution_count": null,
      "outputs": [
        {
          "output_type": "error",
          "ename": "SyntaxError",
          "evalue": "ignored",
          "traceback": [
            "\u001b[0;36m  File \u001b[0;32m\"<ipython-input-68-b3f90e4b055c>\"\u001b[0;36m, line \u001b[0;32m9\u001b[0m\n\u001b[0;31m    print(“String after removing space with t = ”,result)\u001b[0m\n\u001b[0m                ^\u001b[0m\n\u001b[0;31mSyntaxError\u001b[0m\u001b[0;31m:\u001b[0m invalid character in identifier\n"
          ]
        }
      ]
    },
    {
      "cell_type": "markdown",
      "source": [
        "10.Python program to convert lowercase char to uppercase of string."
      ],
      "metadata": {
        "id": "i5_3OWj9LPRn"
      }
    },
    {
      "cell_type": "code",
      "source": [
        "string = input(\"Enter a String : \")\n",
        "result=''\n",
        "for i in string:  #iterate through each letter/character from the string\n",
        "        if i.islower():  #if lowercase\n",
        "            i = i.upper() #converting lowercase into uppercase letter\n",
        "        result += i #concatenating each character of the string without lowercase letter \n",
        "print(\"String after converting lower case to upper :\",result)"
      ],
      "metadata": {
        "colab": {
          "base_uri": "https://localhost:8080/"
        },
        "id": "AUCWh0-gLBrw",
        "outputId": "7bab5a12-3af7-4e40-dd8e-85a98039345d"
      },
      "execution_count": null,
      "outputs": [
        {
          "output_type": "stream",
          "name": "stdout",
          "text": [
            "Enter a String : Quescol\n",
            "String after converting lower case to upper : QUESCOL\n"
          ]
        }
      ]
    },
    {
      "cell_type": "markdown",
      "source": [
        "11.Python program to convert lowercase vowel to uppercase in string."
      ],
      "metadata": {
        "id": "tsCeLF_-LlKO"
      }
    },
    {
      "cell_type": "markdown",
      "source": [
        "12.Python program to delete vowels in a given string."
      ],
      "metadata": {
        "id": "9miDiacALxAV"
      }
    },
    {
      "cell_type": "code",
      "source": [
        "#taking the input string from the user\n",
        "string = input(\"Enter a String : \") \n",
        "result=''\n",
        "for i in string:  \n",
        "#iterating through each character of the string\n",
        "    if i in ('a', 'e', 'i', 'o', 'u', 'A', 'E', 'I', 'O', 'U'):  \n",
        "     #seaching for vowels\n",
        "        i = ''  \n",
        "#if vowel found replace it with empty string\n",
        "    result += i \n",
        "    #concatenate rest of the string\n",
        "print(\"String after removing the vowels :\",result)"
      ],
      "metadata": {
        "colab": {
          "base_uri": "https://localhost:8080/"
        },
        "id": "uX9ZK5E6LYkX",
        "outputId": "607ab2b9-5602-455c-a7a9-50ec373f95a2"
      },
      "execution_count": null,
      "outputs": [
        {
          "output_type": "stream",
          "name": "stdout",
          "text": [
            "Enter a String : Quescol\n",
            "String after removing the vowels : Qscl\n"
          ]
        }
      ]
    },
    {
      "cell_type": "markdown",
      "source": [
        "13.Python program to count Occurrence Of Vowels & Consonants in a String."
      ],
      "metadata": {
        "id": "e8Ht09P2MGDC"
      }
    },
    {
      "cell_type": "code",
      "source": [
        "#taking input from the user\n",
        "string = input(\"Enter a String : \")   \n",
        "vowels = 0  #variable to count number of vowels\n",
        "consonants = 0 #variable to count number of consonants\n",
        "for i in string:  #string iteration \n",
        "    if i in ('a', 'e', 'i', 'o', 'u','A', 'E', 'I', 'O', 'U'):  #if character in string is vowel\n",
        "        vowels+=1 #if vowel increment variable ‘vowel’ with one\n",
        "    elif i.isalpha():  #checking if the character is alphabet\n",
        "        consonants+=1  #if consonant increment variable ‘consonants’ with one\n",
        "print(\"Vowels :\",vowels,\"Consonants:\",consonants)"
      ],
      "metadata": {
        "colab": {
          "base_uri": "https://localhost:8080/"
        },
        "id": "4DDC4ggpL7XA",
        "outputId": "e194d305-544b-4c64-9357-e49e0e928fd6"
      },
      "execution_count": null,
      "outputs": [
        {
          "output_type": "stream",
          "name": "stdout",
          "text": [
            "Enter a String : Quescol\n",
            "Vowels : 3 Consonants: 4\n"
          ]
        }
      ]
    },
    {
      "cell_type": "markdown",
      "source": [
        "14.Python program to print the highest frequency character in a String."
      ],
      "metadata": {
        "id": "XyRXAqJYMlCn"
      }
    },
    {
      "cell_type": "markdown",
      "source": [
        "15.Python program to Replace First Occurrence Of Vowel With ‘-‘ in String."
      ],
      "metadata": {
        "id": "3DIU11jDMtWI"
      }
    },
    {
      "cell_type": "markdown",
      "source": [
        "16.Python program to count alphabets, digits and special characters."
      ],
      "metadata": {
        "id": "FV6lzjQzNYKI"
      }
    },
    {
      "cell_type": "code",
      "source": [
        "#taking string as an input from the user\n",
        "string = input(\"Enter a String : \")\n",
        "alphabets=0\n",
        "digits=0\n",
        "specialChars=0\n",
        "#checks for each character in the string\n",
        "for i in string: \n",
        "\t#if character of the string is an alphabet\n",
        "    \t\tif i.isalpha():\n",
        "       \t\t\t alphabets+=1\n",
        "\t\t#if character of the string is a digit\n",
        "    \t\telif i.isdigit():\n",
        "        \t\t\tdigits+=1\n",
        "    \t\telse: #if character of the string is a special character\n",
        "        \t\t\tspecialChars+=1\n",
        "print(\"alphabets =\",alphabets,\"digits =\",digits,\"specialChars =\",specialChars)"
      ],
      "metadata": {
        "colab": {
          "base_uri": "https://localhost:8080/"
        },
        "id": "oU-wTkAWMQ-W",
        "outputId": "be2c9ff2-62c4-4f9c-b32a-58788f503a6b"
      },
      "execution_count": null,
      "outputs": [
        {
          "output_type": "stream",
          "name": "stdout",
          "text": [
            "Enter a String : Ques123!@we12\n",
            "alphabets = 6 digits = 5 specialChars = 2\n"
          ]
        }
      ]
    },
    {
      "cell_type": "markdown",
      "source": [
        "17.Python program to separate characters in a given string."
      ],
      "metadata": {
        "id": "2DmzdT8ANuA6"
      }
    },
    {
      "cell_type": "markdown",
      "source": [
        "18.Python program to remove blank space from string."
      ],
      "metadata": {
        "id": "tjkTc9_NOROV"
      }
    },
    {
      "cell_type": "code",
      "source": [
        "#taking input from the user\n",
        "string = input(\"Enter a String : \")\n",
        "result=''\n",
        "#iterating the string\n",
        "for i in string:\n",
        "    #if the character is not a space\n",
        "    if i!=' ':\n",
        "        result += i\n",
        "print(\"String after removing the spaces :\",result)"
      ],
      "metadata": {
        "colab": {
          "base_uri": "https://localhost:8080/"
        },
        "id": "5fCoHZY-NjfO",
        "outputId": "083f232c-512c-4c33-bf36-260d228b2e9c"
      },
      "execution_count": null,
      "outputs": [
        {
          "output_type": "stream",
          "name": "stdout",
          "text": [
            "Enter a String : que scolweb site\n",
            "String after removing the spaces : quescolwebsite\n"
          ]
        }
      ]
    },
    {
      "cell_type": "markdown",
      "source": [
        "19.Python program to concatenate two strings using join() method."
      ],
      "metadata": {
        "id": "aUrCt8ovOlpQ"
      }
    },
    {
      "cell_type": "code",
      "source": [
        "#taking inputs from the user\n",
        "str1 = input('Enter first string: ')\n",
        "str2 = input('Enter second string: ')\n",
        "#printing the output after using join() method\n",
        "print(\"String after concatenation :\",\"\".join([str1, str2]))"
      ],
      "metadata": {
        "colab": {
          "base_uri": "https://localhost:8080/"
        },
        "id": "acCvZQulOayh",
        "outputId": "77c8dd78-2388-4aab-f269-6fb4a41978fe"
      },
      "execution_count": null,
      "outputs": [
        {
          "output_type": "stream",
          "name": "stdout",
          "text": [
            "Enter first string: quescol\n",
            "Enter second string: website\n",
            "String after concatenation : quescolwebsite\n"
          ]
        }
      ]
    },
    {
      "cell_type": "markdown",
      "source": [
        "20.Python program to concatenate two strings without using join() method."
      ],
      "metadata": {
        "id": "Pvme7yJqPAPG"
      }
    },
    {
      "cell_type": "code",
      "source": [
        "#taking input from the user\n",
        "\tstr1 = input('Enter first string: ')\n",
        "str2 = input('Enter second string: ')\n",
        "#using string concatenation method ‘+’\n",
        "str3 = str1 + str2\n",
        "print(\"String after concatenation :\",str3)"
      ],
      "metadata": {
        "colab": {
          "base_uri": "https://localhost:8080/",
          "height": 131
        },
        "id": "Rq8dGjahOubs",
        "outputId": "724e3dc2-a492-4d7c-b06b-ce8795e8985d"
      },
      "execution_count": null,
      "outputs": [
        {
          "output_type": "error",
          "ename": "IndentationError",
          "evalue": "ignored",
          "traceback": [
            "\u001b[0;36m  File \u001b[0;32m\"<ipython-input-75-e65f1482a884>\"\u001b[0;36m, line \u001b[0;32m2\u001b[0m\n\u001b[0;31m    str1 = input('Enter first string: ')\u001b[0m\n\u001b[0m    ^\u001b[0m\n\u001b[0;31mIndentationError\u001b[0m\u001b[0;31m:\u001b[0m unexpected indent\n"
          ]
        }
      ]
    },
    {
      "cell_type": "markdown",
      "source": [
        "21.Python program to remove repeated character from string."
      ],
      "metadata": {
        "id": "t7VUgbV_PXN6"
      }
    },
    {
      "cell_type": "markdown",
      "source": [
        "22.Python program to calculate sum of integers in string."
      ],
      "metadata": {
        "id": "c2YhHlEOPgJK"
      }
    },
    {
      "cell_type": "code",
      "source": [
        "str1 = input('Enter a string: ')\n",
        "sum=0\n",
        "for i in string:\n",
        "\t#if character is a digit\n",
        "    if i.isdigit():\n",
        "\t\t#taking sum of integral digits present in the string \n",
        "        sum=sum+int(i)\n",
        "print(\"sum=\",sum)"
      ],
      "metadata": {
        "colab": {
          "base_uri": "https://localhost:8080/"
        },
        "id": "h0g7t7PuPKR9",
        "outputId": "dd74d922-c72a-4d18-b8d1-9440bed02e35"
      },
      "execution_count": null,
      "outputs": [
        {
          "output_type": "stream",
          "name": "stdout",
          "text": [
            "Enter a string: qwel123rty456\n",
            "sum= 0\n"
          ]
        }
      ]
    },
    {
      "cell_type": "markdown",
      "source": [
        "23.Python program to print all non repeating character in string."
      ],
      "metadata": {
        "id": "lhg7TKyuP7qa"
      }
    },
    {
      "cell_type": "code",
      "source": [
        "#taking input from the user\n",
        "str1 = input('Enter a string: ')\n",
        "result=\"\"\n",
        "#iterating the characters of string\n",
        "for i in str1:\n",
        "    count = 0\n",
        "    #another loop inside loop\n",
        "    for j in str1:\n",
        "\t    if i == j:\n",
        "\t        count=count+1\n",
        "\t        if count > 1:\n",
        "\t            break\n",
        "\t        if count == 1:\n",
        "\t            result+=i\n",
        "print(\"non repeating character =\", result)"
      ],
      "metadata": {
        "colab": {
          "base_uri": "https://localhost:8080/"
        },
        "id": "6Pp9gFNjPoGw",
        "outputId": "4a5fc949-f9c2-47ca-8e61-f6160eea5227"
      },
      "execution_count": null,
      "outputs": [
        {
          "output_type": "stream",
          "name": "stdout",
          "text": [
            "Enter a string: aabbcdeeffgh\n",
            "non repeating character = aabbcdeeffgh\n"
          ]
        }
      ]
    },
    {
      "cell_type": "markdown",
      "source": [
        "24.Python program to copy one string to another string."
      ],
      "metadata": {
        "id": "ABQeiaaSQbU7"
      }
    },
    {
      "cell_type": "markdown",
      "source": [
        "25.Python Program to sort characters of string in ascending order."
      ],
      "metadata": {
        "id": "yo58dUnzQkCf"
      }
    },
    {
      "cell_type": "markdown",
      "source": [
        "26.Python Program to sort character of string in descending order."
      ],
      "metadata": {
        "id": "Sj15GimwQqg_"
      }
    },
    {
      "cell_type": "code",
      "source": [
        "#taking input from the user\n",
        "string = input(\"Enter the string : \")\n",
        "#converting string into list of its characters\n",
        "strList=list(string) \n",
        "#sorting elements of list in reverse order by making ‘reverse = True’\n",
        "sortedString=''.join(sorted(strList, reverse =True)) \n",
        "print(\"String Sorted in ascending order :\", sortedString)"
      ],
      "metadata": {
        "colab": {
          "base_uri": "https://localhost:8080/"
        },
        "id": "kcPU27LLQDrJ",
        "outputId": "e16e7704-58aa-43d2-b6bb-d92ace903cb4"
      },
      "execution_count": null,
      "outputs": [
        {
          "output_type": "stream",
          "name": "stdout",
          "text": [
            "Enter the string : quescol\n",
            "String Sorted in ascending order : usqolec\n"
          ]
        }
      ]
    },
    {
      "cell_type": "markdown",
      "source": [
        "Python codes for array"
      ],
      "metadata": {
        "id": "xqAFhVSFRFg4"
      }
    },
    {
      "cell_type": "markdown",
      "source": [
        "1.Write a program in Python for, In array 1-100 numbers are stored, one number is missing how do you find it."
      ],
      "metadata": {
        "id": "0O89M540RiLi"
      }
    },
    {
      "cell_type": "code",
      "source": [
        "arr = []\n",
        "n = int(input(\"enter size of array : \"))\n",
        "for x in range(n-1):\n",
        "    x=int(input(\"enter element of array : \"))\n",
        "    arr.append(x)\n",
        "sum = (n*(n+1))/2;\n",
        "sumArr = 0\n",
        "for i in range(n-1):\n",
        "    sumArr = sumArr+arr[i];\n",
        "print(int(sum-sumArr)) "
      ],
      "metadata": {
        "colab": {
          "base_uri": "https://localhost:8080/"
        },
        "id": "E79J16OpQygu",
        "outputId": "6cdcc1b5-76e4-4374-e793-6659034d6d71"
      },
      "execution_count": null,
      "outputs": [
        {
          "output_type": "stream",
          "name": "stdout",
          "text": [
            "enter size of array : 3\n",
            "enter element of array : 2\n",
            "enter element of array : 3\n",
            "1\n"
          ]
        }
      ]
    },
    {
      "cell_type": "markdown",
      "source": [
        "2.Write a program in Python for, In a array 1-100 multiple numbers are duplicates, how do you find it."
      ],
      "metadata": {
        "id": "_CYqz_dKSQme"
      }
    },
    {
      "cell_type": "code",
      "source": [
        "arr, occur = [], [];\n",
        "n = int(input(\"please enter the size of array: \"))\n",
        "for x in range(n):\n",
        "    occur.append(0)\n",
        "for x in range(n):\n",
        "    element = int(input(f\"please enter the element of array element between 0 to {n-1} :\"))\n",
        "    arr.append(element)\n",
        "    occur[arr[x]]=occur[arr[x]]+1\n",
        "for x in range(n):\n",
        "    if occur[x]>1:\n",
        "        print(f\"{x} is repeated {occur[x]} times\") "
      ],
      "metadata": {
        "colab": {
          "base_uri": "https://localhost:8080/"
        },
        "id": "CjVnswVyRuNQ",
        "outputId": "c0f01a00-0832-487f-8a17-bdefa15d4c59"
      },
      "execution_count": null,
      "outputs": [
        {
          "output_type": "stream",
          "name": "stdout",
          "text": [
            "please enter the size of array: 5\n",
            "please enter the element of array element between 0 to 4 :2\n",
            "please enter the element of array element between 0 to 4 :2\n",
            "please enter the element of array element between 0 to 4 :3\n",
            "please enter the element of array element between 0 to 4 :2\n",
            "please enter the element of array element between 0 to 4 :2\n",
            "2 is repeated 4 times\n"
          ]
        }
      ]
    },
    {
      "cell_type": "markdown",
      "source": [
        "3.Write a program in Python for, How to find all pairs in array of integers whose sum is equal to given number."
      ],
      "metadata": {
        "id": "aBLzpR0QTJ1O"
      }
    },
    {
      "cell_type": "markdown",
      "source": [
        "4.Write a program in Python for, How to compare two array is equal in size or not."
      ],
      "metadata": {
        "id": "ZbFIyDqsTTFM"
      }
    },
    {
      "cell_type": "code",
      "source": [
        "arr1=[1,2,3,4,5]\n",
        "arr2=[1,3,4,5,7]\n",
        "if len(arr1) == len(arr2):\n",
        "    print(\"array is equal\")\n",
        "else:\n",
        "    print(\"array is not equal\") "
      ],
      "metadata": {
        "colab": {
          "base_uri": "https://localhost:8080/"
        },
        "id": "ebB17HhWSv8-",
        "outputId": "2c7b2b16-c8b3-45fd-af7e-018a29dfee83"
      },
      "execution_count": null,
      "outputs": [
        {
          "output_type": "stream",
          "name": "stdout",
          "text": [
            "array is equal\n"
          ]
        }
      ]
    },
    {
      "cell_type": "markdown",
      "source": [
        "5.Write a program in Python to find largest and smallest number in array."
      ],
      "metadata": {
        "id": "a_1N-bWZTm5B"
      }
    },
    {
      "cell_type": "code",
      "source": [
        "arr = []\n",
        "n = int(input(\"enter size of array : \"))\n",
        "for x in range(n):\n",
        "    x=int(input(\"enter element of array : \"))\n",
        "    arr.append(x)\n",
        "largest = arr[0]\n",
        "smallest = arr[0]\n",
        "for i in range(n):\n",
        "    if arr[i]>largest:\n",
        "        largest = arr[i]\n",
        "    if arr[i]<smallest:\n",
        "        smallest = arr[i]\n",
        "print(f\"largest element in array is {largest}\")\n",
        "print(f\"smallest element in array is {smallest}\") "
      ],
      "metadata": {
        "colab": {
          "base_uri": "https://localhost:8080/"
        },
        "id": "n7O4QKATTbwj",
        "outputId": "7ff8f2c9-1755-4776-c1cc-9fdcdee07930"
      },
      "execution_count": null,
      "outputs": [
        {
          "output_type": "stream",
          "name": "stdout",
          "text": [
            "enter size of array : 5\n",
            "enter element of array : 9\n",
            "enter element of array : 3\n",
            "enter element of array : 9\n",
            "enter element of array : 2\n",
            "enter element of array : 2\n",
            "largest element in array is 9\n",
            "smallest element in array is 2\n"
          ]
        }
      ]
    },
    {
      "cell_type": "markdown",
      "source": [
        "6.Write a program in Python to find second highest number in an integer array."
      ],
      "metadata": {
        "id": "dlgCFfo6T9f1"
      }
    },
    {
      "cell_type": "code",
      "source": [
        "import array\n",
        "arr = []\n",
        "n = int(input(\"enter size of array : \"))\n",
        "for x in range(n):\n",
        "    x=int(input(\"enter element of array : \"))\n",
        "    arr.append(x)\n",
        "sorted_array = sorted(array.array('i', arr))\n",
        "for i in range(len(arr)-1, 0, -1):\n",
        "    if sorted_array[i]!=sorted_array[i-1]:\n",
        "        print(f\"second largest element is {sorted_array[i-1]}\")\n",
        "        break "
      ],
      "metadata": {
        "colab": {
          "base_uri": "https://localhost:8080/"
        },
        "id": "6gJiPzYFTwRW",
        "outputId": "128a1858-1eb0-4f8a-e895-e730b24a455a"
      },
      "execution_count": null,
      "outputs": [
        {
          "output_type": "stream",
          "name": "stdout",
          "text": [
            "enter size of array : 4\n",
            "enter element of array : 3\n",
            "enter element of array : 2\n",
            "enter element of array : 5\n",
            "enter element of array : 9\n",
            "second largest element is 5\n"
          ]
        }
      ]
    },
    {
      "cell_type": "markdown",
      "source": [
        "7.Write a program in Python to find top two maximum number in array?"
      ],
      "metadata": {
        "id": "Gh02xqraUXSw"
      }
    },
    {
      "cell_type": "code",
      "source": [
        "import array\n",
        "arr = []\n",
        "n = int(input(\"enter size of array : \"))\n",
        "for x in range(n):\n",
        "    x=int(input(\"enter element of array : \"))\n",
        "    arr.append(x)\n",
        "sorted_array = sorted(array.array('i', arr))\n",
        "for i in range(len(arr)-1, 0, -1):\n",
        "    if sorted_array[i]!=sorted_array[i-1]:\n",
        "        print(f\"First two largest element of array is {sorted_array[i-1]} and {sorted_array[i]}\")\n",
        "        break "
      ],
      "metadata": {
        "colab": {
          "base_uri": "https://localhost:8080/"
        },
        "id": "DKH8nxn9UEEk",
        "outputId": "3c9a4216-ca8b-479b-fe8a-9a5a4f823e5d"
      },
      "execution_count": null,
      "outputs": [
        {
          "output_type": "stream",
          "name": "stdout",
          "text": [
            "enter size of array : 5\n",
            "enter element of array : 4\n",
            "enter element of array : 3\n",
            "enter element of array : 2\n",
            "enter element of array : 1\n",
            "enter element of array : 5\n",
            "First two largest element of array is 4 and 5\n"
          ]
        }
      ]
    },
    {
      "cell_type": "markdown",
      "source": [
        "8.Write a program in Python to remove duplicate elements form array."
      ],
      "metadata": {
        "id": "UKbYZ8TXUvy4"
      }
    },
    {
      "cell_type": "code",
      "source": [
        "import array\n",
        "arr, count = [],[]\n",
        "n = int(input(\"enter size of array : \"))\n",
        "for x in range(n):\n",
        "    count.append(0)\n",
        "    x=int(input(\"enter element of array : \"))\n",
        "    arr.append(x)\n",
        "print(\"Array elements after removing duplicates\")\n",
        "for x in range(n):\n",
        "    count[arr[x]]=count[arr[x]]+1\n",
        "    if count[arr[x]]==1:\n",
        "        print(arr[x]) \n"
      ],
      "metadata": {
        "colab": {
          "base_uri": "https://localhost:8080/"
        },
        "id": "L_RRLVvQUgqV",
        "outputId": "8f9f953f-b849-4269-f5ee-e510cde820b4"
      },
      "execution_count": null,
      "outputs": [
        {
          "output_type": "stream",
          "name": "stdout",
          "text": [
            "enter size of array : 5\n",
            "enter element of array : 2\n",
            "enter element of array : 1\n",
            "enter element of array : 2\n",
            "enter element of array : 1\n",
            "enter element of array : 2\n",
            "Array elements after removing duplicates\n",
            "2\n",
            "1\n"
          ]
        }
      ]
    },
    {
      "cell_type": "markdown",
      "source": [
        "9.Python program to find top two maximum number in array."
      ],
      "metadata": {
        "id": "zdnFu1hOVERA"
      }
    },
    {
      "cell_type": "code",
      "source": [
        "import array\n",
        "arr = []\n",
        "n = int(input(\"enter size of array : \"))\n",
        "for x in range(n):\n",
        "    x=int(input(\"enter element of array : \"))\n",
        "    arr.append(x)\n",
        "sorted_array = sorted(array.array('i', arr))\n",
        "for i in range(len(arr)-1, 0, -1):\n",
        "    if sorted_array[i]!=sorted_array[i-1]:\n",
        "        print(f\"First two largest element of array is {sorted_array[i-1]} and {sorted_array[i]}\")\n",
        "        break "
      ],
      "metadata": {
        "colab": {
          "base_uri": "https://localhost:8080/"
        },
        "id": "UZIMKB21U4Yg",
        "outputId": "8b13826b-ea1a-4cbb-98f8-e91af2a6f31a"
      },
      "execution_count": null,
      "outputs": [
        {
          "output_type": "stream",
          "name": "stdout",
          "text": [
            "enter size of array : 5\n",
            "enter element of array : 4\n",
            "enter element of array : 5\n",
            "enter element of array : 2\n",
            "enter element of array : 5\n",
            "enter element of array : 2\n",
            "First two largest element of array is 4 and 5\n"
          ]
        }
      ]
    },
    {
      "cell_type": "markdown",
      "source": [
        "10.Python program to print array in reverse Order."
      ],
      "metadata": {
        "id": "a8ovYG6NVm1c"
      }
    },
    {
      "cell_type": "code",
      "source": [
        "# taking the input from the user to fix the array size\n",
        "size=int(input(\"Enter the number of elements you want in array: \"))\n",
        "# Create two empty lists\n",
        "arr=[]\n",
        "revArr=[]\n",
        "# adding the elements to the list\n",
        "for i in range(0,size):\n",
        "    elem=int(input(\"Please give value for index \"+str(i)+\": \"))\n",
        "    arr.append(elem)\n",
        "startIndex = 0;\n",
        "lastIndex = size - 1;\n",
        "# iterate the while loop till the lastindex 0\n",
        "while (lastIndex>=0):\n",
        "    revArr.append(arr[lastIndex])\n",
        "    startIndex+=1\n",
        "    lastIndex-=1\n",
        "# printing the reversed list\n",
        "print(\"Array in reverse order\")\n",
        "for i in range(0,size):     \n",
        "    print(revArr[i],end=' ') "
      ],
      "metadata": {
        "colab": {
          "base_uri": "https://localhost:8080/",
          "height": 253
        },
        "id": "P9fqCf0EVUFy",
        "outputId": "a02267f3-795a-4d86-b5f5-da0a32d383e6"
      },
      "execution_count": null,
      "outputs": [
        {
          "name": "stdout",
          "output_type": "stream",
          "text": [
            "Enter the number of elements you want in array: 3\n"
          ]
        },
        {
          "output_type": "error",
          "ename": "TypeError",
          "evalue": "ignored",
          "traceback": [
            "\u001b[0;31m---------------------------------------------------------------------------\u001b[0m",
            "\u001b[0;31mTypeError\u001b[0m                                 Traceback (most recent call last)",
            "\u001b[0;32m<ipython-input-90-44c75a049f74>\u001b[0m in \u001b[0;36m<module>\u001b[0;34m\u001b[0m\n\u001b[1;32m      6\u001b[0m \u001b[0;31m# adding the elements to the list\u001b[0m\u001b[0;34m\u001b[0m\u001b[0;34m\u001b[0m\u001b[0;34m\u001b[0m\u001b[0m\n\u001b[1;32m      7\u001b[0m \u001b[0;32mfor\u001b[0m \u001b[0mi\u001b[0m \u001b[0;32min\u001b[0m \u001b[0mrange\u001b[0m\u001b[0;34m(\u001b[0m\u001b[0;36m0\u001b[0m\u001b[0;34m,\u001b[0m\u001b[0msize\u001b[0m\u001b[0;34m)\u001b[0m\u001b[0;34m:\u001b[0m\u001b[0;34m\u001b[0m\u001b[0;34m\u001b[0m\u001b[0m\n\u001b[0;32m----> 8\u001b[0;31m     \u001b[0melem\u001b[0m\u001b[0;34m=\u001b[0m\u001b[0mint\u001b[0m\u001b[0;34m(\u001b[0m\u001b[0minput\u001b[0m\u001b[0;34m(\u001b[0m\u001b[0;34m\"Please give value for index \"\u001b[0m\u001b[0;34m+\u001b[0m\u001b[0mstr\u001b[0m\u001b[0;34m(\u001b[0m\u001b[0mi\u001b[0m\u001b[0;34m)\u001b[0m\u001b[0;34m+\u001b[0m\u001b[0;34m\": \"\u001b[0m\u001b[0;34m)\u001b[0m\u001b[0;34m)\u001b[0m\u001b[0;34m\u001b[0m\u001b[0;34m\u001b[0m\u001b[0m\n\u001b[0m\u001b[1;32m      9\u001b[0m     \u001b[0marr\u001b[0m\u001b[0;34m.\u001b[0m\u001b[0mappend\u001b[0m\u001b[0;34m(\u001b[0m\u001b[0melem\u001b[0m\u001b[0;34m)\u001b[0m\u001b[0;34m\u001b[0m\u001b[0;34m\u001b[0m\u001b[0m\n\u001b[1;32m     10\u001b[0m \u001b[0mstartIndex\u001b[0m \u001b[0;34m=\u001b[0m \u001b[0;36m0\u001b[0m\u001b[0;34m;\u001b[0m\u001b[0;34m\u001b[0m\u001b[0;34m\u001b[0m\u001b[0m\n",
            "\u001b[0;31mTypeError\u001b[0m: 'str' object is not callable"
          ]
        }
      ]
    },
    {
      "cell_type": "markdown",
      "source": [
        "11.Python program to reverse an Array in two ways."
      ],
      "metadata": {
        "id": "XAIjLKwDWbiK"
      }
    },
    {
      "cell_type": "code",
      "source": [
        "#taking the input from the user to fix the array size\n",
        "size=int(input(\"Enter the number of elements you want in array: \"))\n",
        "#creating an empty list\n",
        "arr=[]\n",
        "#adding the elements of the list by taking inputs from the user\n",
        "for i in range(0,size):\n",
        "    elem=int(input(\"Please give value for index \"+str(i)+\": \"))\n",
        "    arr.append(elem)\n",
        "print(\"Array in reverse order\")\n",
        "# Reversing the list\n",
        "for i in range(size-1, -1, -1):     \n",
        "    print(arr[i],end=' ')"
      ],
      "metadata": {
        "colab": {
          "base_uri": "https://localhost:8080/",
          "height": 253
        },
        "id": "6Vfd1t-rWJCc",
        "outputId": "1e713c0a-c481-4ab6-cdaf-53887cfb75b1"
      },
      "execution_count": null,
      "outputs": [
        {
          "name": "stdout",
          "output_type": "stream",
          "text": [
            "Enter the number of elements you want in array: 3\n"
          ]
        },
        {
          "output_type": "error",
          "ename": "TypeError",
          "evalue": "ignored",
          "traceback": [
            "\u001b[0;31m---------------------------------------------------------------------------\u001b[0m",
            "\u001b[0;31mTypeError\u001b[0m                                 Traceback (most recent call last)",
            "\u001b[0;32m<ipython-input-92-c2ad921dcecd>\u001b[0m in \u001b[0;36m<module>\u001b[0;34m\u001b[0m\n\u001b[1;32m      5\u001b[0m \u001b[0;31m#adding the elements of the list by taking inputs from the user\u001b[0m\u001b[0;34m\u001b[0m\u001b[0;34m\u001b[0m\u001b[0;34m\u001b[0m\u001b[0m\n\u001b[1;32m      6\u001b[0m \u001b[0;32mfor\u001b[0m \u001b[0mi\u001b[0m \u001b[0;32min\u001b[0m \u001b[0mrange\u001b[0m\u001b[0;34m(\u001b[0m\u001b[0;36m0\u001b[0m\u001b[0;34m,\u001b[0m\u001b[0msize\u001b[0m\u001b[0;34m)\u001b[0m\u001b[0;34m:\u001b[0m\u001b[0;34m\u001b[0m\u001b[0;34m\u001b[0m\u001b[0m\n\u001b[0;32m----> 7\u001b[0;31m     \u001b[0melem\u001b[0m\u001b[0;34m=\u001b[0m\u001b[0mint\u001b[0m\u001b[0;34m(\u001b[0m\u001b[0minput\u001b[0m\u001b[0;34m(\u001b[0m\u001b[0;34m\"Please give value for index \"\u001b[0m\u001b[0;34m+\u001b[0m\u001b[0mstr\u001b[0m\u001b[0;34m(\u001b[0m\u001b[0mi\u001b[0m\u001b[0;34m)\u001b[0m\u001b[0;34m+\u001b[0m\u001b[0;34m\": \"\u001b[0m\u001b[0;34m)\u001b[0m\u001b[0;34m)\u001b[0m\u001b[0;34m\u001b[0m\u001b[0;34m\u001b[0m\u001b[0m\n\u001b[0m\u001b[1;32m      8\u001b[0m     \u001b[0marr\u001b[0m\u001b[0;34m.\u001b[0m\u001b[0mappend\u001b[0m\u001b[0;34m(\u001b[0m\u001b[0melem\u001b[0m\u001b[0;34m)\u001b[0m\u001b[0;34m\u001b[0m\u001b[0;34m\u001b[0m\u001b[0m\n\u001b[1;32m      9\u001b[0m \u001b[0mprint\u001b[0m\u001b[0;34m(\u001b[0m\u001b[0;34m\"Array in reverse order\"\u001b[0m\u001b[0;34m)\u001b[0m\u001b[0;34m\u001b[0m\u001b[0;34m\u001b[0m\u001b[0m\n",
            "\u001b[0;31mTypeError\u001b[0m: 'str' object is not callable"
          ]
        }
      ]
    },
    {
      "cell_type": "markdown",
      "source": [
        "12.Python Program to calculate length of an array."
      ],
      "metadata": {
        "id": "i3tMpsZKW3a3"
      }
    },
    {
      "cell_type": "code",
      "source": [
        "#given array (list)\n",
        "arr = [1,2,3,4,5]\n",
        "# print the return value of len(arr) i.e. the length of the array (list)\n",
        "print(\"Length of the array:\",len(arr))"
      ],
      "metadata": {
        "colab": {
          "base_uri": "https://localhost:8080/"
        },
        "id": "FIKwVDm1WoAJ",
        "outputId": "11c210a3-c79d-4d39-ae9d-e05834f8632a"
      },
      "execution_count": null,
      "outputs": [
        {
          "output_type": "stream",
          "name": "stdout",
          "text": [
            "Length of the array: 5\n"
          ]
        }
      ]
    },
    {
      "cell_type": "markdown",
      "source": [
        "13.Python program to insert an element at end of an Array."
      ],
      "metadata": {
        "id": "zqKNBQbwXIT5"
      }
    },
    {
      "cell_type": "code",
      "source": [
        "arr = [1,2,3,4,5]\n",
        "num=int(input(\"Enter a number to insert in array at end :\"))\n",
        "# adding element at the end of the array(list)\n",
        "arr.append(num)\n",
        "print(\"Array after inserting\",num,\"at end\",arr)"
      ],
      "metadata": {
        "colab": {
          "base_uri": "https://localhost:8080/"
        },
        "id": "s0nyk1l7XB5z",
        "outputId": "c5cb0913-8423-44b7-9e35-099fca80a4cc"
      },
      "execution_count": null,
      "outputs": [
        {
          "output_type": "stream",
          "name": "stdout",
          "text": [
            "Enter a number to insert in array at end :6\n",
            "Array after inserting 6 at end [1, 2, 3, 4, 5, 6]\n"
          ]
        }
      ]
    },
    {
      "cell_type": "markdown",
      "source": [
        "14.Python program to insert element at a given location in Array"
      ],
      "metadata": {
        "id": "Ng44o70-Xfkx"
      }
    },
    {
      "cell_type": "code",
      "source": [
        "# given array (list)\n",
        "arr = [1, 2, 3, 4, 5]\n",
        "num=int(input(\"Enter a number to insert in array : \"))\n",
        "index=int(input(\"Enter a index to insert value : \"))\n",
        "if index >= len(arr):\n",
        "    print(\"please enter index smaller than\",len(arr))\n",
        "else:\n",
        "    # insering element ‘num’ at ‘index’ position\n",
        "    arr.insert(index, num)  \n",
        "print(\"Array after inserting\",num,\"=\",arr)"
      ],
      "metadata": {
        "colab": {
          "base_uri": "https://localhost:8080/"
        },
        "id": "LyYnQrxmXRtz",
        "outputId": "65c5ebb5-f384-457a-c357-5557bbe67d47"
      },
      "execution_count": null,
      "outputs": [
        {
          "output_type": "stream",
          "name": "stdout",
          "text": [
            "Enter a number to insert in array : 10\n",
            "Enter a index to insert value : 4\n",
            "Array after inserting 10 = [1, 2, 3, 4, 10, 5]\n"
          ]
        }
      ]
    },
    {
      "cell_type": "markdown",
      "source": [
        "15.Python Program to delete element at end of Array."
      ],
      "metadata": {
        "id": "sBpCeoptX0vC"
      }
    },
    {
      "cell_type": "markdown",
      "source": [
        "16.Python Program to delete given element from Array."
      ],
      "metadata": {
        "id": "z0Ny0mkBYVGg"
      }
    },
    {
      "cell_type": "code",
      "source": [
        "#taking input to fix the size of the array\n",
        "size=int(input(\"Enter the number of elements you want in array: \"))\n",
        "arr=[]\n",
        "# adding elements to the array\n",
        "for i in range(0,size):\n",
        "    elem=int(input(\"Please give value for index \"+str(i)+\": \"))\n",
        "    arr.append(elem)\n",
        "num=int(input(\"Enter a number to remove from array : \"))\n",
        "# removing element ‘num’ from the array.\n",
        "arr.remove(num)\n",
        "print(\"Array after removing\",num,\"=\",arr)"
      ],
      "metadata": {
        "colab": {
          "base_uri": "https://localhost:8080/",
          "height": 253
        },
        "id": "Kvh0ieSkXqA7",
        "outputId": "acfcf344-1ea4-44ad-f4a5-a15bbb922f3e"
      },
      "execution_count": null,
      "outputs": [
        {
          "name": "stdout",
          "output_type": "stream",
          "text": [
            "Enter the number of elements you want in array: 22\n"
          ]
        },
        {
          "output_type": "error",
          "ename": "TypeError",
          "evalue": "ignored",
          "traceback": [
            "\u001b[0;31m---------------------------------------------------------------------------\u001b[0m",
            "\u001b[0;31mTypeError\u001b[0m                                 Traceback (most recent call last)",
            "\u001b[0;32m<ipython-input-97-7ef982eab606>\u001b[0m in \u001b[0;36m<module>\u001b[0;34m\u001b[0m\n\u001b[1;32m      4\u001b[0m \u001b[0;31m# adding elements to the array\u001b[0m\u001b[0;34m\u001b[0m\u001b[0;34m\u001b[0m\u001b[0;34m\u001b[0m\u001b[0m\n\u001b[1;32m      5\u001b[0m \u001b[0;32mfor\u001b[0m \u001b[0mi\u001b[0m \u001b[0;32min\u001b[0m \u001b[0mrange\u001b[0m\u001b[0;34m(\u001b[0m\u001b[0;36m0\u001b[0m\u001b[0;34m,\u001b[0m\u001b[0msize\u001b[0m\u001b[0;34m)\u001b[0m\u001b[0;34m:\u001b[0m\u001b[0;34m\u001b[0m\u001b[0;34m\u001b[0m\u001b[0m\n\u001b[0;32m----> 6\u001b[0;31m     \u001b[0melem\u001b[0m\u001b[0;34m=\u001b[0m\u001b[0mint\u001b[0m\u001b[0;34m(\u001b[0m\u001b[0minput\u001b[0m\u001b[0;34m(\u001b[0m\u001b[0;34m\"Please give value for index \"\u001b[0m\u001b[0;34m+\u001b[0m\u001b[0mstr\u001b[0m\u001b[0;34m(\u001b[0m\u001b[0mi\u001b[0m\u001b[0;34m)\u001b[0m\u001b[0;34m+\u001b[0m\u001b[0;34m\": \"\u001b[0m\u001b[0;34m)\u001b[0m\u001b[0;34m)\u001b[0m\u001b[0;34m\u001b[0m\u001b[0;34m\u001b[0m\u001b[0m\n\u001b[0m\u001b[1;32m      7\u001b[0m     \u001b[0marr\u001b[0m\u001b[0;34m.\u001b[0m\u001b[0mappend\u001b[0m\u001b[0;34m(\u001b[0m\u001b[0melem\u001b[0m\u001b[0;34m)\u001b[0m\u001b[0;34m\u001b[0m\u001b[0;34m\u001b[0m\u001b[0m\n\u001b[1;32m      8\u001b[0m \u001b[0mnum\u001b[0m\u001b[0;34m=\u001b[0m\u001b[0mint\u001b[0m\u001b[0;34m(\u001b[0m\u001b[0minput\u001b[0m\u001b[0;34m(\u001b[0m\u001b[0;34m\"Enter a number to remove from array : \"\u001b[0m\u001b[0;34m)\u001b[0m\u001b[0;34m)\u001b[0m\u001b[0;34m\u001b[0m\u001b[0;34m\u001b[0m\u001b[0m\n",
            "\u001b[0;31mTypeError\u001b[0m: 'str' object is not callable"
          ]
        }
      ]
    },
    {
      "cell_type": "markdown",
      "source": [
        "17.Python Program to delete element from array at given index."
      ],
      "metadata": {
        "id": "wcWMPaolYt0C"
      }
    },
    {
      "cell_type": "markdown",
      "source": [
        "18.Python Program to find sum of array elements."
      ],
      "metadata": {
        "id": "hZ1XdN7DY6bT"
      }
    },
    {
      "cell_type": "code",
      "source": [
        "size=int(input(\"Enter the number of elements you want in array: \"))\n",
        "arr=[]\n",
        "sum=0\n",
        "# adding elements to the array (list)\n",
        "for i in range(0,size):\n",
        "    elem=int(input(\"Please give value for index \"+str(i)+\": \"))\n",
        "    arr.append(elem)\n",
        "    sum+=elem\n",
        "print(\"Sum of array elements = \",sum)"
      ],
      "metadata": {
        "colab": {
          "base_uri": "https://localhost:8080/",
          "height": 253
        },
        "id": "mk9bA8gVYglA",
        "outputId": "ab58d288-e610-432a-df4e-7cd2ac80837e"
      },
      "execution_count": null,
      "outputs": [
        {
          "name": "stdout",
          "output_type": "stream",
          "text": [
            "Enter the number of elements you want in array: 5\n"
          ]
        },
        {
          "output_type": "error",
          "ename": "TypeError",
          "evalue": "ignored",
          "traceback": [
            "\u001b[0;31m---------------------------------------------------------------------------\u001b[0m",
            "\u001b[0;31mTypeError\u001b[0m                                 Traceback (most recent call last)",
            "\u001b[0;32m<ipython-input-98-12ed92b299f8>\u001b[0m in \u001b[0;36m<module>\u001b[0;34m\u001b[0m\n\u001b[1;32m      4\u001b[0m \u001b[0;31m# adding elements to the array (list)\u001b[0m\u001b[0;34m\u001b[0m\u001b[0;34m\u001b[0m\u001b[0;34m\u001b[0m\u001b[0m\n\u001b[1;32m      5\u001b[0m \u001b[0;32mfor\u001b[0m \u001b[0mi\u001b[0m \u001b[0;32min\u001b[0m \u001b[0mrange\u001b[0m\u001b[0;34m(\u001b[0m\u001b[0;36m0\u001b[0m\u001b[0;34m,\u001b[0m\u001b[0msize\u001b[0m\u001b[0;34m)\u001b[0m\u001b[0;34m:\u001b[0m\u001b[0;34m\u001b[0m\u001b[0;34m\u001b[0m\u001b[0m\n\u001b[0;32m----> 6\u001b[0;31m     \u001b[0melem\u001b[0m\u001b[0;34m=\u001b[0m\u001b[0mint\u001b[0m\u001b[0;34m(\u001b[0m\u001b[0minput\u001b[0m\u001b[0;34m(\u001b[0m\u001b[0;34m\"Please give value for index \"\u001b[0m\u001b[0;34m+\u001b[0m\u001b[0mstr\u001b[0m\u001b[0;34m(\u001b[0m\u001b[0mi\u001b[0m\u001b[0;34m)\u001b[0m\u001b[0;34m+\u001b[0m\u001b[0;34m\": \"\u001b[0m\u001b[0;34m)\u001b[0m\u001b[0;34m)\u001b[0m\u001b[0;34m\u001b[0m\u001b[0;34m\u001b[0m\u001b[0m\n\u001b[0m\u001b[1;32m      7\u001b[0m     \u001b[0marr\u001b[0m\u001b[0;34m.\u001b[0m\u001b[0mappend\u001b[0m\u001b[0;34m(\u001b[0m\u001b[0melem\u001b[0m\u001b[0;34m)\u001b[0m\u001b[0;34m\u001b[0m\u001b[0;34m\u001b[0m\u001b[0m\n\u001b[1;32m      8\u001b[0m     \u001b[0msum\u001b[0m\u001b[0;34m+=\u001b[0m\u001b[0melem\u001b[0m\u001b[0;34m\u001b[0m\u001b[0;34m\u001b[0m\u001b[0m\n",
            "\u001b[0;31mTypeError\u001b[0m: 'str' object is not callable"
          ]
        }
      ]
    },
    {
      "cell_type": "markdown",
      "source": [
        "19.Python Program to print all even numbers in array."
      ],
      "metadata": {
        "id": "CFO2h15uZLTN"
      }
    },
    {
      "cell_type": "code",
      "source": [
        "#taking the input from the user to fix the array size\n",
        "size=int(input(\"Enter the number of elements you want in array: \"))\n",
        "arr=[]\n",
        "sum=0\n",
        "# adding elements to the array (list)\n",
        "for i in range(0,size):\n",
        "    elem=int(input(\"Please give value for index \"+str(i)+\": \"))\n",
        "    arr.append(elem)\n",
        "print(\"All even number in array are \")\n",
        "# check and print if any element of array (list) is even\n",
        "for i in range(0,size):\n",
        "    if arr[i]%2==0:\n",
        "        print(arr[i],end=' ')"
      ],
      "metadata": {
        "colab": {
          "base_uri": "https://localhost:8080/",
          "height": 253
        },
        "id": "BRWL-2VFZCW5",
        "outputId": "a1c182dd-6535-497c-ccc6-30a93fcc3a3c"
      },
      "execution_count": null,
      "outputs": [
        {
          "name": "stdout",
          "output_type": "stream",
          "text": [
            "Enter the number of elements you want in array: 5\n"
          ]
        },
        {
          "output_type": "error",
          "ename": "TypeError",
          "evalue": "ignored",
          "traceback": [
            "\u001b[0;31m---------------------------------------------------------------------------\u001b[0m",
            "\u001b[0;31mTypeError\u001b[0m                                 Traceback (most recent call last)",
            "\u001b[0;32m<ipython-input-99-0af3de7cb082>\u001b[0m in \u001b[0;36m<module>\u001b[0;34m\u001b[0m\n\u001b[1;32m      5\u001b[0m \u001b[0;31m# adding elements to the array (list)\u001b[0m\u001b[0;34m\u001b[0m\u001b[0;34m\u001b[0m\u001b[0;34m\u001b[0m\u001b[0m\n\u001b[1;32m      6\u001b[0m \u001b[0;32mfor\u001b[0m \u001b[0mi\u001b[0m \u001b[0;32min\u001b[0m \u001b[0mrange\u001b[0m\u001b[0;34m(\u001b[0m\u001b[0;36m0\u001b[0m\u001b[0;34m,\u001b[0m\u001b[0msize\u001b[0m\u001b[0;34m)\u001b[0m\u001b[0;34m:\u001b[0m\u001b[0;34m\u001b[0m\u001b[0;34m\u001b[0m\u001b[0m\n\u001b[0;32m----> 7\u001b[0;31m     \u001b[0melem\u001b[0m\u001b[0;34m=\u001b[0m\u001b[0mint\u001b[0m\u001b[0;34m(\u001b[0m\u001b[0minput\u001b[0m\u001b[0;34m(\u001b[0m\u001b[0;34m\"Please give value for index \"\u001b[0m\u001b[0;34m+\u001b[0m\u001b[0mstr\u001b[0m\u001b[0;34m(\u001b[0m\u001b[0mi\u001b[0m\u001b[0;34m)\u001b[0m\u001b[0;34m+\u001b[0m\u001b[0;34m\": \"\u001b[0m\u001b[0;34m)\u001b[0m\u001b[0;34m)\u001b[0m\u001b[0;34m\u001b[0m\u001b[0;34m\u001b[0m\u001b[0m\n\u001b[0m\u001b[1;32m      8\u001b[0m     \u001b[0marr\u001b[0m\u001b[0;34m.\u001b[0m\u001b[0mappend\u001b[0m\u001b[0;34m(\u001b[0m\u001b[0melem\u001b[0m\u001b[0;34m)\u001b[0m\u001b[0;34m\u001b[0m\u001b[0;34m\u001b[0m\u001b[0m\n\u001b[1;32m      9\u001b[0m \u001b[0mprint\u001b[0m\u001b[0;34m(\u001b[0m\u001b[0;34m\"All even number in array are \"\u001b[0m\u001b[0;34m)\u001b[0m\u001b[0;34m\u001b[0m\u001b[0;34m\u001b[0m\u001b[0m\n",
            "\u001b[0;31mTypeError\u001b[0m: 'str' object is not callable"
          ]
        }
      ]
    },
    {
      "cell_type": "markdown",
      "source": [
        "20.Python Program to print all odd numbers in array."
      ],
      "metadata": {
        "id": "7J14tvxpZe3z"
      }
    },
    {
      "cell_type": "code",
      "source": [
        "#taking the input from the user to fix the array size\n",
        "size=int(input(\"Enter the number of elements you want in array: \"))\n",
        "arr=[]\n",
        "sum=0\n",
        "# adding elements to the array (list)\n",
        "for i in range(0,size):\n",
        "    elem=int(input(\"Please give value for index \"+str(i)+\": \"))\n",
        "    arr.append(elem)\n",
        "print(\"All even number in array are \")\n",
        "# check and print if any element of array (list) is odd\n",
        "for i in range(0,size):\n",
        "    if arr[i]%2!=0:\n",
        "        print(arr[i],end=' ')"
      ],
      "metadata": {
        "colab": {
          "base_uri": "https://localhost:8080/",
          "height": 253
        },
        "id": "2MEW4pklZTaB",
        "outputId": "b3ef253e-3be1-464f-e041-b276a9356f9a"
      },
      "execution_count": null,
      "outputs": [
        {
          "name": "stdout",
          "output_type": "stream",
          "text": [
            "Enter the number of elements you want in array: 5\n"
          ]
        },
        {
          "output_type": "error",
          "ename": "TypeError",
          "evalue": "ignored",
          "traceback": [
            "\u001b[0;31m---------------------------------------------------------------------------\u001b[0m",
            "\u001b[0;31mTypeError\u001b[0m                                 Traceback (most recent call last)",
            "\u001b[0;32m<ipython-input-100-c401b511fb1a>\u001b[0m in \u001b[0;36m<module>\u001b[0;34m\u001b[0m\n\u001b[1;32m      5\u001b[0m \u001b[0;31m# adding elements to the array (list)\u001b[0m\u001b[0;34m\u001b[0m\u001b[0;34m\u001b[0m\u001b[0;34m\u001b[0m\u001b[0m\n\u001b[1;32m      6\u001b[0m \u001b[0;32mfor\u001b[0m \u001b[0mi\u001b[0m \u001b[0;32min\u001b[0m \u001b[0mrange\u001b[0m\u001b[0;34m(\u001b[0m\u001b[0;36m0\u001b[0m\u001b[0;34m,\u001b[0m\u001b[0msize\u001b[0m\u001b[0;34m)\u001b[0m\u001b[0;34m:\u001b[0m\u001b[0;34m\u001b[0m\u001b[0;34m\u001b[0m\u001b[0m\n\u001b[0;32m----> 7\u001b[0;31m     \u001b[0melem\u001b[0m\u001b[0;34m=\u001b[0m\u001b[0mint\u001b[0m\u001b[0;34m(\u001b[0m\u001b[0minput\u001b[0m\u001b[0;34m(\u001b[0m\u001b[0;34m\"Please give value for index \"\u001b[0m\u001b[0;34m+\u001b[0m\u001b[0mstr\u001b[0m\u001b[0;34m(\u001b[0m\u001b[0mi\u001b[0m\u001b[0;34m)\u001b[0m\u001b[0;34m+\u001b[0m\u001b[0;34m\": \"\u001b[0m\u001b[0;34m)\u001b[0m\u001b[0;34m)\u001b[0m\u001b[0;34m\u001b[0m\u001b[0;34m\u001b[0m\u001b[0m\n\u001b[0m\u001b[1;32m      8\u001b[0m     \u001b[0marr\u001b[0m\u001b[0;34m.\u001b[0m\u001b[0mappend\u001b[0m\u001b[0;34m(\u001b[0m\u001b[0melem\u001b[0m\u001b[0;34m)\u001b[0m\u001b[0;34m\u001b[0m\u001b[0;34m\u001b[0m\u001b[0m\n\u001b[1;32m      9\u001b[0m \u001b[0mprint\u001b[0m\u001b[0;34m(\u001b[0m\u001b[0;34m\"All even number in array are \"\u001b[0m\u001b[0;34m)\u001b[0m\u001b[0;34m\u001b[0m\u001b[0;34m\u001b[0m\u001b[0m\n",
            "\u001b[0;31mTypeError\u001b[0m: 'str' object is not callable"
          ]
        }
      ]
    },
    {
      "cell_type": "markdown",
      "source": [
        "21.Python program to perform left rotation of array elements by two positions."
      ],
      "metadata": {
        "id": "Qk4M7xDdZ2lQ"
      }
    },
    {
      "cell_type": "markdown",
      "source": [
        "22.Python program to perform right rotation in array by 2 positions."
      ],
      "metadata": {
        "id": "0A25ipyDZ_nE"
      }
    },
    {
      "cell_type": "markdown",
      "source": [
        "23.Python Program to merge two arrays."
      ],
      "metadata": {
        "id": "Iz3TCWFOaFU-"
      }
    },
    {
      "cell_type": "markdown",
      "source": [
        "24.Python Program to find highest frequency element in array."
      ],
      "metadata": {
        "id": "WiNCjcchaQnB"
      }
    },
    {
      "cell_type": "markdown",
      "source": [
        "25.Python Program to add two number using recursion."
      ],
      "metadata": {
        "id": "97uQsd32adp-"
      }
    },
    {
      "cell_type": "markdown",
      "source": [
        "26.Python Program to find sum of digit of number using recursion."
      ],
      "metadata": {
        "id": "7aWFokFnalvB"
      }
    },
    {
      "cell_type": "markdown",
      "source": [
        "Python Linked List"
      ],
      "metadata": {
        "id": "8KU1d3c7h_Hc"
      }
    },
    {
      "cell_type": "markdown",
      "source": [
        "1.Python Program to Create and Traverse Singly linked list."
      ],
      "metadata": {
        "id": "n2OgC2nHiDeq"
      }
    },
    {
      "cell_type": "code",
      "source": [
        "#Creating node class of the singly linked list  \n",
        "class Node:\n",
        "    def __init__(self, data):\n",
        "       self.data = data\n",
        "       self.next = None\n",
        " \n",
        "class SinglyLinkedList:\n",
        "    def __init__(self):\n",
        "        self.head = None\n",
        "        self.tail = None\n",
        " \n",
        "#Creating addNode() to add newly created nodes.\n",
        "    def addNode(self, data):\n",
        "        if self.tail is None:\n",
        "            self.head = Node(data)\n",
        "            self.tail = self.head\n",
        "        else:\n",
        "            self.tail.next = Node(data)\n",
        "            self.tail = self.tail.next\n",
        "\n",
        " #Creating display() to print newly created nodes via traversing.\n",
        "    def display(self):\n",
        "        current = self.head\n",
        "        while current is not None:\n",
        "            print(current.data, end = ' ')\n",
        "            current = current.next\n",
        " \n",
        "s = SinglyLinkedList()\n",
        "n = int(input('enter the number of elements in linked list : '))\n",
        "for i in range(n):\n",
        "    data = int(input('Enter data: '))\n",
        "    s.addNode(data)\n",
        "print('The linked list: ', end = '')\n",
        "s.display()"
      ],
      "metadata": {
        "id": "FHZVMjt2ZwE-",
        "colab": {
          "base_uri": "https://localhost:8080/"
        },
        "outputId": "300a6a18-f837-4c8d-dcc2-bea38b0becf1"
      },
      "execution_count": null,
      "outputs": [
        {
          "output_type": "stream",
          "name": "stdout",
          "text": [
            "enter the number of elements in linked list : 4\n",
            "Enter data: 1\n",
            "Enter data: 2\n",
            "Enter data: 3\n",
            "Enter data: 4\n",
            "The linked list: 1 2 3 4 "
          ]
        }
      ]
    },
    {
      "cell_type": "markdown",
      "source": [
        "2.Python program to insert a node in linked list."
      ],
      "metadata": {
        "id": "hYqT_ccVkRo9"
      }
    },
    {
      "cell_type": "code",
      "source": [
        "class Node:\n",
        "\tdef __init__(self, data=None):\n",
        "\t\tself.data = data\n",
        "\t\tself.next = None\n",
        "\n",
        "class LinkedList:\n",
        "\t def __init__(self):\n",
        "\t\t   self.head = None\n",
        "\t\t   self.head = None"
      ],
      "metadata": {
        "id": "zB1zovjFj26B"
      },
      "execution_count": null,
      "outputs": []
    },
    {
      "cell_type": "code",
      "source": [
        "def pushFirst(self, newElement):\n",
        "\t\t#create new node and assign new data\n",
        "\t\tnewNode=Node(newElement)\n",
        "\t\t#make next node as new node\n",
        "\t\tnewNode.next = self.head\n",
        "\t\t#make new node as head\n",
        "\t\tself.head = newNode"
      ],
      "metadata": {
        "id": "K5vw0um5kiaw"
      },
      "execution_count": null,
      "outputs": []
    },
    {
      "cell_type": "code",
      "source": [
        "def pushAtLocation(self, newElement, position):\n",
        "\t#create a new node from the new element\n",
        "\tnewNode = Node(newElement)\n",
        "\tif(position<1):\n",
        "\t\t  print(“position should be greater than 1”)\n",
        "\telif( position ==1):\n",
        "\t#add element at the beginning\n",
        "\t\tnewNode.next = self.head\n",
        "\t\tself.head = newNode\n",
        "\telse:\n",
        "\t#create a ‘temp’ variable to traverse to the node previous to input position\n",
        "\t\ttemp = self.head\n",
        "\t\tfor i in range(1, position-1):\n",
        "\t\t\tif(temp!=Node):\n",
        "\t\t\t\ttemp=temp.next\n",
        "\n",
        "\t# if previous node is not null\n",
        "\tif(temp!=None):\n",
        "\t\tnewNode.next = temp.next\n",
        "\t\ttemp.next = newNode\n",
        "\telse:\n",
        "\t\t# if previous node is null\n",
        "\t\tprint(“previous node is null”)"
      ],
      "metadata": {
        "colab": {
          "base_uri": "https://localhost:8080/",
          "height": 131
        },
        "id": "BvOKtGFakxtF",
        "outputId": "e9fb0f6e-9093-4d4e-a003-8d61658e4f9a"
      },
      "execution_count": null,
      "outputs": [
        {
          "output_type": "error",
          "ename": "SyntaxError",
          "evalue": "ignored",
          "traceback": [
            "\u001b[0;36m  File \u001b[0;32m\"<ipython-input-110-1cb7d032f335>\"\u001b[0;36m, line \u001b[0;32m5\u001b[0m\n\u001b[0;31m    print(“position should be greater than 1”)\u001b[0m\n\u001b[0m                  ^\u001b[0m\n\u001b[0;31mSyntaxError\u001b[0m\u001b[0;31m:\u001b[0m invalid character in identifier\n"
          ]
        }
      ]
    },
    {
      "cell_type": "code",
      "source": [
        "def pushLast(self, newElement):\n",
        "\t\t#create new node and assign new data\n",
        "\t\tnewNode=Node(newElement)\n",
        "\n",
        "\t\t#check if linked list is empty\n",
        "\t\tif(self.head == None):\n",
        "\t\t\tself.head = newNode\n",
        "\t\t\treturn\n",
        "\t\telse:\n",
        "\t\t\t#traverse to last\n",
        "\t\t\ttemp = self.head\n",
        "\t\t\twhile(temp.next != None):\n",
        "\t\t\t\ttemp = temp.next\n",
        "\n",
        "\t\t#change the nest node to the last node\n",
        "\t\ttemp.next=newNode"
      ],
      "metadata": {
        "id": "8WCH-vW8k90n"
      },
      "execution_count": null,
      "outputs": []
    },
    {
      "cell_type": "markdown",
      "source": [
        "3.Write a program in Python to reverse a singly linked list."
      ],
      "metadata": {
        "id": "0K0qXPf3lX-3"
      }
    },
    {
      "cell_type": "code",
      "source": [
        "class Node:\n",
        "\tdef __init__(self, data=None):\n",
        "\t\tself.data = data\n",
        "\t\tself.next = None\n",
        "\n",
        "class LinkedList:\n",
        "\t def __init__(self):\n",
        "\t\t   self.head = None\n",
        "\t\t   self.head = None"
      ],
      "metadata": {
        "id": "jxV-X-EvlOhN"
      },
      "execution_count": null,
      "outputs": []
    },
    {
      "cell_type": "code",
      "source": [
        "def pushLast(self, newElement):\n",
        "\t\t#create new node and assign new data\n",
        "\t\tnewNode=Node(newElement)\n",
        "\n",
        "\t\t#check if linked list is empty\n",
        "\t\tif(self.head == None):\n",
        "\t\t\tself.head = newNode\n",
        "\t\t\treturn\n",
        "\t\telse:\n",
        "\t\t\t#traverse to last\n",
        "\t\t\ttemp = self.head\n",
        "\t\t\twhile(temp.next != None):\n",
        "\t\t\t\ttemp = temp.next\n",
        "\n",
        "\t\t#change the nest node to the last node\n",
        "\t\ttemp.next=newNode"
      ],
      "metadata": {
        "id": "8bG3biAGlsvX"
      },
      "execution_count": null,
      "outputs": []
    },
    {
      "cell_type": "code",
      "source": [
        "class Node:\n",
        "    def __init__(self, data):\n",
        "        self.data = data\n",
        "        self.next = None\n",
        " \n",
        " \n",
        "class SinglyLinkedList:\n",
        "\n",
        "    def __init__(self):\n",
        "        self.head = None\n",
        " \n",
        "    # Function to reverse the linked list\n",
        "    def reverse(self):\n",
        "        prev = None\n",
        "        current = self.head\n",
        "        while(current is not None):\n",
        "            next = current.next\n",
        "            current.next = prev\n",
        "            prev = current\n",
        "            current = next\n",
        "        self.head = prev\n",
        " \n",
        "    # Function to add element at the beginning\n",
        "    def push(self, new_data):\n",
        "        new_node = Node(new_data)\n",
        "        new_node.next = self.head\n",
        "        self.head = new_node\n",
        " \n",
        "    # to show the elements of the linked list\n",
        "    def show(self):\n",
        "        temp = self.head\n",
        "        while(temp):\n",
        "            print (temp.data,end=\" \")\n",
        "            temp = temp.next\n",
        " \n",
        " \n",
        "\n",
        "s = SinglyLinkedList()\n",
        "print(\"Press 1 to add the element in the list : \")\n",
        "print(\"Press 0 to stop adding the element in the list : \")\n",
        "n=10\n",
        "\n",
        "while(n!=0):\n",
        "    n=int(input(\"Enter your choice: \"))\n",
        "    if(n==1):\n",
        "        s.push(input(\"Enter the element to add in linked list : \"))\n",
        "    elif(n==0):\n",
        "        break\n",
        "    else:\n",
        "        print(\"[INVALID INPUT]: try again\")\n",
        "        continue\n",
        "\n",
        "print(\"Given linked list (Original Linked list) : \")\n",
        "s.show()\n",
        "s.reverse()\n",
        "print(\"\\nReversed linked list : \")\n",
        "s.show()"
      ],
      "metadata": {
        "colab": {
          "base_uri": "https://localhost:8080/"
        },
        "id": "TO5eG7LVl0iM",
        "outputId": "8d70c076-8368-4716-b103-e891b8289af7"
      },
      "execution_count": null,
      "outputs": [
        {
          "output_type": "stream",
          "name": "stdout",
          "text": [
            "Press 1 to add the element in the list : \n",
            "Press 0 to stop adding the element in the list : \n",
            "Enter your choice: 1\n",
            "Enter the element to add in linked list : 1\n",
            "Enter your choice: 1\n",
            "Enter the element to add in linked list : 2\n",
            "Enter your choice: 1\n",
            "Enter the element to add in linked list : 3\n",
            "Enter your choice: 1\n",
            "Enter the element to add in linked list : 4\n",
            "Enter your choice: 1\n",
            "Enter the element to add in linked list : 5\n",
            "Enter your choice: 0\n",
            "Given linked list (Original Linked list) : \n",
            "5 4 3 2 1 \n",
            "Reversed linked list : \n",
            "1 2 3 4 5 "
          ]
        }
      ]
    },
    {
      "cell_type": "markdown",
      "source": [
        "4.Python Program to search an element in singly linked list."
      ],
      "metadata": {
        "id": "K9B5Ek-jmgSj"
      }
    },
    {
      "cell_type": "code",
      "source": [
        "class Node:\n",
        "\tdef __init__(self, data=None):\n",
        "\t\tself.data = data\n",
        "\t\tself.next = None\n",
        "\n",
        "class LinkedList:\n",
        "\t def __init__(self):\n",
        "\t\t self.head = None\n",
        "\t\t self.head = None"
      ],
      "metadata": {
        "id": "x7VGEI9Pl9Qu"
      },
      "execution_count": null,
      "outputs": []
    },
    {
      "cell_type": "code",
      "source": [
        "def traverse(self):\n",
        "\tnext_node=self.head\n",
        "\twhile(next_node != 0):\n",
        "\t\tnext_node = next_node.next"
      ],
      "metadata": {
        "id": "8QOsbxp0m24-"
      },
      "execution_count": null,
      "outputs": []
    },
    {
      "cell_type": "code",
      "source": [
        "def pushLast(self, newElement):\n",
        "\t\t#create new node and assign new data\n",
        "\t\tnewNode=Node(newElement)\n",
        "\n",
        "\t\t#check if linked list is empty\n",
        "\t\tif(self.head == None):\n",
        "\t\t\tself.head = newNode\n",
        "\t\t\treturn\n",
        "\t\telse:\n",
        "\t\t\t#traverse to last\n",
        "\t\t\ttemp = self.head\n",
        "\t\t\twhile(temp.next != None):\n",
        "\t\t\t\ttemp = temp.next\n",
        "\n",
        "\t\t#change the nest node to the last node\n",
        "\t\ttemp.next=newNode"
      ],
      "metadata": {
        "id": "e0SM-LQEm_7N"
      },
      "execution_count": null,
      "outputs": []
    },
    {
      "cell_type": "code",
      "source": [
        "class Node:\n",
        "  def __init__(self, data):\n",
        "    self.data = data\n",
        "    self.next = None\n",
        "\n",
        "#creating linked list class\n",
        "class SinglyLinkedList:\n",
        "  def __init__(self):\n",
        "    self.head = None\n",
        "\n",
        "  #Adding new element at the end of the list\n",
        "  def push_back(self, newElement):\n",
        "    newNode = Node(newElement)\n",
        "    if(self.head == None):\n",
        "      self.head = newNode\n",
        "      return\n",
        "    else:\n",
        "      temp = self.head\n",
        "      while(temp.next != None):\n",
        "        temp = temp.next\n",
        "      temp.next = newNode\n",
        "\n",
        "  #Searching the element\n",
        "  def Search(self, ele):\n",
        "    temp = self.head\n",
        "    found = 0\n",
        "    i = 0 \n",
        "\n",
        "    if(temp != None):\n",
        "      while (temp != None):\n",
        "        i += 1\n",
        "        if(temp.data == ele):\n",
        "          found += 1\n",
        "          break\n",
        "        temp = temp.next\n",
        "      if(found == 1):\n",
        "        print(ele,\"is found at position =\", i)\n",
        "      else:\n",
        "        print(ele,\"is not found in the given linked list.\")\n",
        "    else:\n",
        "      print(\"The list is empty.\")\n",
        "\n",
        "  #to display the elements of the list\n",
        "  def show(self):\n",
        "    temp = self.head\n",
        "    if(temp != None):\n",
        "      print(\"The list elements are:\", end=\" \")\n",
        "      while (temp != None):\n",
        "        print(temp.data, end=\" \")\n",
        "        temp = temp.next\n",
        "      print()\n",
        "    else:\n",
        "      print(\"The list is empty.\")\n",
        "\n",
        "                 \n",
        "s = SinglyLinkedList()\n",
        "\n",
        "print(\"press 1 to add element to the linked list\")\n",
        "print(\"press 0 to stop adding the element to the list\")\n",
        "n=10\n",
        "#Add elements into the linkedlist.\n",
        "while(n!=0):\n",
        "    print(\"press 1 to add element to the linked list\")\n",
        "    print(\"press 0 to stop adding the element to the list\")\n",
        "    n=int(input(\"Enter your choice : \"))\n",
        "    if(n==1):\n",
        "        s.push_back(int(input(\"Enter element to add : \")))\n",
        "\n",
        "    elif(n==0):\n",
        "        break\n",
        "    else:\n",
        "        print(\"[INVALID INPUT]: try again\")\n",
        "        continue\n",
        "#display the elements of the list.\n",
        "key = int(input(\"enter the element to search  into the linked list\"))\n",
        "\n",
        "s.show()\n",
        "#searching the element in the list\n",
        "s.Search(key)\n"
      ],
      "metadata": {
        "colab": {
          "base_uri": "https://localhost:8080/"
        },
        "id": "x_g47d7QnFfd",
        "outputId": "bee4f385-2d85-4f56-8062-2bc9567888a2"
      },
      "execution_count": null,
      "outputs": [
        {
          "output_type": "stream",
          "name": "stdout",
          "text": [
            "press 1 to add element to the linked list\n",
            "press 0 to stop adding the element to the list\n",
            "press 1 to add element to the linked list\n",
            "press 0 to stop adding the element to the list\n",
            "Enter your choice : 1\n",
            "Enter element to add : 11\n",
            "press 1 to add element to the linked list\n",
            "press 0 to stop adding the element to the list\n",
            "Enter your choice : 1\n",
            "Enter element to add : 100\n",
            "press 1 to add element to the linked list\n",
            "press 0 to stop adding the element to the list\n",
            "Enter your choice : 1\n",
            "Enter element to add : 51\n",
            "press 1 to add element to the linked list\n",
            "press 0 to stop adding the element to the list\n",
            "Enter your choice : 1\n",
            "Enter element to add : 98\n",
            "press 1 to add element to the linked list\n",
            "press 0 to stop adding the element to the list\n",
            "Enter your choice : 0\n",
            "enter the element to search  into the linked list500\n",
            "The list elements are: 11 100 51 98 \n",
            "500 is not found in the given linked list.\n"
          ]
        }
      ]
    },
    {
      "cell_type": "markdown",
      "source": [
        "5.Linked list Deletion in Python: At beginning, End, Given location."
      ],
      "metadata": {
        "id": "2DwryM2inzSA"
      }
    },
    {
      "cell_type": "code",
      "source": [
        "class Node:\n",
        "\tdef __init__(self, data=None):\n",
        "\t\tself.data = data\n",
        "\t\tself.next = None\n",
        "\n",
        "class LinkedList:\n",
        "\t def __init__(self):\n",
        "\t\t  self.head = None\n",
        "\t\t  self.head = None"
      ],
      "metadata": {
        "id": "kvFubHYGnTef"
      },
      "execution_count": null,
      "outputs": []
    },
    {
      "cell_type": "code",
      "source": [
        "def delete_first(self):\n",
        "\t if(self.head!=Null):\n",
        "\t\t  # if head is not null, create a temp node which points the head node\n",
        "\t\t   temp=self.head\n",
        "\n",
        "\t\t  # move head to next of head\n",
        "\t\t   self.head = self.head.next\n",
        "\t\t  # delete temp \n",
        "\t\t   temp=None"
      ],
      "metadata": {
        "id": "qfqgf6YzoJCZ"
      },
      "execution_count": null,
      "outputs": []
    },
    {
      "cell_type": "code",
      "source": [
        "def delete_at_position(self, element):\n",
        "\t# create a temp node to store head\n",
        "\ttemp=self.head\n",
        "\tif(temp != None):\n",
        "\t\tif(temp.data == element):\n",
        "\t\t\tself.head=self.next\n",
        "\t\t\ttemp = None\n",
        "\t\t\treturn\n",
        "\t# tracking the node that need to be deleted\n",
        "\twhile(temp != None):\n",
        "\t\tif(temp.data == element):\n",
        "\t\t\tbreak\n",
        "\t\tprev = temp\n",
        "\t\ttemp = temp.next\n",
        "\tif(temp == Null):\n",
        "\t\treturn\n",
        "\tprev.next = temp.next\n",
        "\ttemp = None"
      ],
      "metadata": {
        "id": "rCwmTk-ooPUc"
      },
      "execution_count": null,
      "outputs": []
    },
    {
      "cell_type": "code",
      "source": [
        "def delete_last(self):\n",
        "  if(self.head != None):\n",
        "    \n",
        "    # if head is not null and next of head is null\n",
        "    if(self.head.next == None):\n",
        "      self.head = None\n",
        "    else:\n",
        "      \n",
        "      #Else, traverse to the second last element of the list\n",
        "      temp = self.head\n",
        "      while(temp.next.next != None):\n",
        "        temp = temp.next\n",
        "      \n",
        "      lastNode = temp.next\n",
        "      temp.next = None\n",
        "      lastNode = None"
      ],
      "metadata": {
        "id": "kCMaDuvhoeEX"
      },
      "execution_count": null,
      "outputs": []
    },
    {
      "cell_type": "code",
      "source": [
        "class Node:\n",
        "  def __init__(self, data):\n",
        "    self.data = data\n",
        "    self.next = None\n",
        "\n",
        "#class LinkedList\n",
        "class LinkedList:\n",
        "    def __init__(self):\n",
        "        self.head = None\n",
        "\n",
        "  \n",
        "    def push_back(self, newElement):\n",
        "        newNode = Node(newElement)\n",
        "        if(self.head == None):\n",
        "          self.head = newNode\n",
        "          return\n",
        "        else:\n",
        "          temp = self.head\n",
        "          while(temp.next != None):\n",
        "            temp = temp.next\n",
        "          temp.next = newNode\n",
        "\n",
        "#delete last element\n",
        "    def delete_last(self):\n",
        "        if(self.head != None):\n",
        "          if(self.head.next == None):\n",
        "            self.head = None\n",
        "          else:\n",
        "            temp = self.head\n",
        "            while(temp.next.next != None):\n",
        "              temp = temp.next\n",
        "            lastNode = temp.next\n",
        "            temp.next = None\n",
        "            lastNode = None\n",
        "      #delete at given location\n",
        "    def delete_at_position(self, position):\n",
        "        if self.head is None:\n",
        "            return\n",
        "        if position == 0:\n",
        "            self.head = self.head.next\n",
        "            return self.head\n",
        "        index = 0\n",
        "        current = self.head\n",
        "        prev = self.head\n",
        "        temp = self.head\n",
        "        while current is not None:\n",
        "            if index == position:\n",
        "                temp = current.next\n",
        "                break\n",
        "            prev = current\n",
        "            current = current.next\n",
        "            index += 1\n",
        "        prev.next = temp\n",
        "        return prev\n",
        "    #delete first element\n",
        "    def delete_first(self):\n",
        "        if(self.head!=None):\n",
        "            temp=self.head\n",
        "            self.head = self.head.next\n",
        "            temp=None\n",
        "\n",
        "\n",
        "\n",
        "      #display the content of the list\n",
        "    def PrintList(self):\n",
        "        temp = self.head\n",
        "        if(temp != None):\n",
        "          print(\"The list contains:\", end=\" \")\n",
        "          while (temp != None):\n",
        "            print(temp.data, end=\" \")\n",
        "            temp = temp.next\n",
        "          print()\n",
        "        else:\n",
        "          print(\"The list is empty.\")\n",
        "\n",
        "                 \n",
        "MyList = LinkedList()\n",
        "print(\"press 1 to add an element : \")\n",
        "print(\"press 2 to delete an element from the beginning : \")\n",
        "print(\"press 3 to delete an element from an input location : \")\n",
        "print(\"press 4 to delete an element from the last : \")\n",
        "print(\"press 0 to stop the process and display the content of linked list : \")\n",
        "n=10\n",
        "while(n!=0):\n",
        "    n=int(input(\"Enter your choice: \"))\n",
        "    if(n==1):\n",
        "        MyList.push_back(int(input(\"Enter an element to push: \")))\n",
        "    if(n==2):\n",
        "        print(\"The first element of the linked list is deleted\\n\")\n",
        "        MyList.delete_first()\n",
        "    if(n==4):\n",
        "        print(\"The last element of the linked list is deleted\\n\")\n",
        "        MyList.pop_back()\n",
        "    if(n==3):\n",
        "        pos = int(input(\"Enter the position of element which needs to be deleted : \"))\n",
        "        MyList.delete_at_position(pos)\n",
        "    if(n==0):\n",
        "        break\n",
        "print(\"\\nResult :\\n\")\n",
        "MyList.PrintList()"
      ],
      "metadata": {
        "colab": {
          "base_uri": "https://localhost:8080/"
        },
        "id": "ySJPfioooiLO",
        "outputId": "0781e0a7-3cfc-4210-a0f3-961d21ae5413"
      },
      "execution_count": null,
      "outputs": [
        {
          "output_type": "stream",
          "name": "stdout",
          "text": [
            "press 1 to add an element : \n",
            "press 2 to delete an element from the beginning : \n",
            "press 3 to delete an element from an input location : \n",
            "press 4 to delete an element from the last : \n",
            "press 0 to stop the process and display the content of linked list : \n",
            "Enter your choice: 1\n",
            "Enter an element to push: 1\n",
            "Enter your choice: 1\n",
            "Enter an element to push: 2\n",
            "Enter your choice: 1\n",
            "Enter an element to push: 3\n",
            "Enter your choice: 3\n",
            "Enter the position of element which needs to be deleted : 2\n",
            "Enter your choice: 0\n",
            "\n",
            "Result :\n",
            "\n",
            "The list contains: 1 2 \n"
          ]
        }
      ]
    },
    {
      "cell_type": "markdown",
      "source": [
        "6.Write a program in Python to find 3rd element of Linked List from last in single pass."
      ],
      "metadata": {
        "id": "Dt8N3qbLpVVr"
      }
    },
    {
      "cell_type": "markdown",
      "source": [
        "7.Write a program in Python to find middle element of a linked list in single pass."
      ],
      "metadata": {
        "id": "HmUO-tORpecQ"
      }
    },
    {
      "cell_type": "code",
      "source": [],
      "metadata": {
        "id": "eRETL3NTotZR"
      },
      "execution_count": null,
      "outputs": []
    }
  ]
}