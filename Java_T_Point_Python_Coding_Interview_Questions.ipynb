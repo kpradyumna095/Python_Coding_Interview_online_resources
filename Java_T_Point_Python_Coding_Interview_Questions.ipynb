{
  "nbformat": 4,
  "nbformat_minor": 0,
  "metadata": {
    "colab": {
      "provenance": []
    },
    "kernelspec": {
      "name": "python3",
      "display_name": "Python 3"
    },
    "language_info": {
      "name": "python"
    }
  },
  "cells": [
    {
      "cell_type": "markdown",
      "source": [
        "https://www.javatpoint.com/python-coding-interview-questions"
      ],
      "metadata": {
        "id": "tiaU9uqn0RQC"
      }
    },
    {
      "cell_type": "markdown",
      "source": [
        "1) What is the best way to debug a Python program?\n",
        "\n",
        "This command can be used to debug a Python program."
      ],
      "metadata": {
        "id": "rzN1MVrA0XjF"
      }
    },
    {
      "cell_type": "code",
      "execution_count": null,
      "metadata": {
        "colab": {
          "base_uri": "https://localhost:8080/",
          "height": 131
        },
        "id": "vIk-pV_q0GR3",
        "outputId": "c9d6eb09-613d-4c46-d829-5b13e42e85ec"
      },
      "outputs": [
        {
          "output_type": "error",
          "ename": "SyntaxError",
          "evalue": "ignored",
          "traceback": [
            "\u001b[0;36m  File \u001b[0;32m\"<ipython-input-1-af7429395e69>\"\u001b[0;36m, line \u001b[0;32m1\u001b[0m\n\u001b[0;31m    Python -m pdb Python-script.py\u001b[0m\n\u001b[0m              ^\u001b[0m\n\u001b[0;31mSyntaxError\u001b[0m\u001b[0;31m:\u001b[0m invalid syntax\n"
          ]
        }
      ],
      "source": [
        "Python -m pdb Python-script.py"
      ]
    },
    {
      "cell_type": "markdown",
      "source": [
        "2) What does the Python keyword imply?\n",
        "\n",
        "In Python, we can use the <yield> keyword to convert any Python function into a Python generator. Yields function similarly to a conventional return keyword. However, it will always return a generator object. A function can also use the <yield> keyword multiple times."
      ],
      "metadata": {
        "id": "0jXcWaDS0nB5"
      }
    },
    {
      "cell_type": "code",
      "source": [
        "    def creating_gen(index):  \n",
        "        months = ['jan','feb','mar','apr','may','jun','jul','aug','sep','oct','nov','dec']  \n",
        "        yield months[index]  \n",
        "        yield months[index+2]  \n",
        "    next_month = creating_gen(6)  \n",
        "    print(next(next_month), next(next_month))  "
      ],
      "metadata": {
        "colab": {
          "base_uri": "https://localhost:8080/"
        },
        "id": "2F3dNRP_0clO",
        "outputId": "b71655e7-4522-4c93-b962-45433550c81a"
      },
      "execution_count": null,
      "outputs": [
        {
          "output_type": "stream",
          "name": "stdout",
          "text": [
            "jul sep\n"
          ]
        }
      ]
    },
    {
      "cell_type": "markdown",
      "source": [
        "3) How can I make a tuple out of a list?\n",
        "\n",
        "We can transform a list into a tuple using the Python tuple() method. Since a tuple is immutable, we can't update the list after it has been converted to a tuple."
      ],
      "metadata": {
        "id": "vk5zdSwE1MNO"
      }
    },
    {
      "cell_type": "code",
      "source": [
        "    month = ['jan','feb','mar','apr','may','jun','jul','aug','sep','oct','nov','dec']  \n",
        "    converting_list = tuple(month)  \n",
        "    print(converting_list)  \n",
        "    print(type(converting_list))  "
      ],
      "metadata": {
        "colab": {
          "base_uri": "https://localhost:8080/"
        },
        "id": "uxoGkvg60yJU",
        "outputId": "73263980-9203-4b07-f1e2-68ef99344382"
      },
      "execution_count": null,
      "outputs": [
        {
          "output_type": "stream",
          "name": "stdout",
          "text": [
            "('jan', 'feb', 'mar', 'apr', 'may', 'jun', 'jul', 'aug', 'sep', 'oct', 'nov', 'dec')\n",
            "<class 'tuple'>\n"
          ]
        }
      ]
    },
    {
      "cell_type": "markdown",
      "source": [
        "4) What exactly is a NumPy array?\n",
        "\n",
        "NumPy arrays are much more versatile than Python lists. Reading and writing objects are quicker and more efficient using NumPy arrays."
      ],
      "metadata": {
        "id": "rwPiC7k11Z3M"
      }
    },
    {
      "cell_type": "markdown",
      "source": [
        "5) In Python, in what ways can you make an empty NumPy array?\n",
        "\n",
        "In Python, there are two ways to build an empty array:"
      ],
      "metadata": {
        "id": "3gOpl5mT1eOg"
      }
    },
    {
      "cell_type": "code",
      "source": [
        "    import numpy  \n",
        "    #method 1  \n",
        "    array_1 = numpy.array([])  \n",
        "    print(array_1)  \n",
        "    #method 2  \n",
        "    array_2 = numpy.empty(shape=(3,3))  \n",
        "    print(array_2)  "
      ],
      "metadata": {
        "colab": {
          "base_uri": "https://localhost:8080/"
        },
        "id": "F9v5nzxJ1RkG",
        "outputId": "9c159bf0-861e-4665-cd4c-5868c0b461f2"
      },
      "execution_count": null,
      "outputs": [
        {
          "output_type": "stream",
          "name": "stdout",
          "text": [
            "[]\n",
            "[[1.56674857e-316 0.00000000e+000             nan]\n",
            " [1.63768928e-316 0.00000000e+000 0.00000000e+000]\n",
            " [9.88131292e-324 0.00000000e+000 3.95252517e-322]]\n"
          ]
        }
      ]
    },
    {
      "cell_type": "markdown",
      "source": [
        "6) In Python, what is a negative index?\n",
        "\n",
        "In Arrays and Lists, Python contains a unique feature called negative indexing. Python starts indexing from the beginning of an array or list in a positive integer but reads items from the ending of an array or list in a negative index."
      ],
      "metadata": {
        "id": "5zh2cwe41xkQ"
      }
    },
    {
      "cell_type": "markdown",
      "source": [
        "7) Tell the output of the following code?"
      ],
      "metadata": {
        "id": "oQdSMstk10wq"
      }
    },
    {
      "cell_type": "code",
      "source": [
        "    import array  \n",
        "    a = [4, 6, 8, 3, 1, 7]  \n",
        "    print(a[-3])  \n",
        "    print(a[-5])  \n",
        "    print(a[-1])  "
      ],
      "metadata": {
        "colab": {
          "base_uri": "https://localhost:8080/"
        },
        "id": "iXlISkDB1j3j",
        "outputId": "0e80999b-b806-46f0-f4fd-ab88ca700a42"
      },
      "execution_count": null,
      "outputs": [
        {
          "output_type": "stream",
          "name": "stdout",
          "text": [
            "3\n",
            "6\n",
            "7\n"
          ]
        }
      ]
    },
    {
      "cell_type": "markdown",
      "source": [
        "8) What is the Python data type SET, and how can I use it?\n",
        "\n",
        "\"set\" is a Python data type which is a sort of collection. Since Python 2.4, it's been a part of the language. A set is a collection of distinct and immutable items that are not in any particular sequence."
      ],
      "metadata": {
        "id": "hoNsDpRw2Ir2"
      }
    },
    {
      "cell_type": "markdown",
      "source": [
        "9) In Python, how do you create random numbers?\n",
        "\n",
        "We can create random data in Python utilizing several functions. They are as follows:\n",
        "\n",
        "    random() - This instruction gives a floating-point value ranging from 0 to 1.\n",
        "    uniform(X, Y) - This function gives a floating-point value in the X and Y range.\n",
        "    randint(X, Y) - This function gives a random integer between X and Y values.\n"
      ],
      "metadata": {
        "id": "k0w0nhmm2mxd"
      }
    },
    {
      "cell_type": "markdown",
      "source": [
        "10) How do you print the summation of all the numbers from 1 to 101?\n",
        "\n",
        "Using this program, we can display the summation of all numbers from 1 to 101:"
      ],
      "metadata": {
        "id": "hA4xxe7w2-iE"
      }
    },
    {
      "cell_type": "code",
      "source": [
        "print( sum(range(1,102)) )"
      ],
      "metadata": {
        "colab": {
          "base_uri": "https://localhost:8080/"
        },
        "id": "m0R2x70H2C8J",
        "outputId": "f0d92b6d-ff44-4be2-d6d4-2c882cc40b99"
      },
      "execution_count": null,
      "outputs": [
        {
          "output_type": "stream",
          "name": "stdout",
          "text": [
            "5151\n"
          ]
        }
      ]
    },
    {
      "cell_type": "markdown",
      "source": [
        "11) In a function, how do you create a global variable?\n",
        "\n",
        "We can create a global variable by designating it as global within every function that assigns to it; we can utilize it in other functions:"
      ],
      "metadata": {
        "id": "nYcgdsTp3Tf_"
      }
    },
    {
      "cell_type": "code",
      "source": [
        "global_var = 0  \n",
        "def modify_global_var():  \n",
        "    global global_var # Setting global_var as a global variable  \n",
        "    global_var = 10  \n",
        "def printing_global_var():  \n",
        "    print(global_var) # There is no need to declare global variable  \n",
        "modify_global_var()  \n",
        "printing_global_var() # Prints 10  "
      ],
      "metadata": {
        "colab": {
          "base_uri": "https://localhost:8080/"
        },
        "id": "3KYyVqyp3DWe",
        "outputId": "db0d9d69-87d3-4b18-f431-3a542e1d1e44"
      },
      "execution_count": null,
      "outputs": [
        {
          "output_type": "stream",
          "name": "stdout",
          "text": [
            "10\n"
          ]
        }
      ]
    },
    {
      "cell_type": "markdown",
      "source": [
        "12) Is it possible to construct a Python program that calculates the mean of numbers in a list?\n",
        "\n",
        "Calculating the Average of Numbers in Python:"
      ],
      "metadata": {
        "id": "hZJHjC5G44rU"
      }
    },
    {
      "cell_type": "code",
      "source": [
        "n = int(input(\"Number of Elements to take average of: \"))  \n",
        "l=[]  \n",
        "for i in range(1,n+1):  \n",
        "    element = int(input(\"Enter the element: \"))  \n",
        "    l.append(element)  \n",
        "average = sum(l)/n  \n",
        "print(\"Average of the elements in list\",round(average,2))  "
      ],
      "metadata": {
        "colab": {
          "base_uri": "https://localhost:8080/"
        },
        "id": "Up8UoRXp4jUB",
        "outputId": "3294b3b1-0b6e-4958-9824-dab5cabfe4be"
      },
      "execution_count": null,
      "outputs": [
        {
          "output_type": "stream",
          "name": "stdout",
          "text": [
            "Number of Elements to take average of: 4\n",
            "Enter the element: 1\n",
            "Enter the element: 2\n",
            "Enter the element: 3\n",
            "Enter the element: 4\n",
            "Average of the elements in list 2.5\n"
          ]
        }
      ]
    },
    {
      "cell_type": "markdown",
      "source": [
        "13) Is it possible to build a Python program that reverses a number?\n",
        "\n",
        "Python program to reverse number:"
      ],
      "metadata": {
        "id": "JfL6S7Am6WMq"
      }
    },
    {
      "cell_type": "code",
      "source": [
        "n = int(input(\"Enter number: \"))  \n",
        "      \n",
        "reverse = 0  \n",
        "      \n",
        "while(n>0):  \n",
        "  digit = n%10  \n",
        "  reverse = reverse*10+digit  \n",
        "  n=n//10  \n",
        "print(\"The reverse of the number:\",reverse)  "
      ],
      "metadata": {
        "colab": {
          "base_uri": "https://localhost:8080/"
        },
        "id": "egXMLEF150J-",
        "outputId": "0473996f-2a89-4885-c77c-4c4deab144c4"
      },
      "execution_count": null,
      "outputs": [
        {
          "output_type": "stream",
          "name": "stdout",
          "text": [
            "Enter number: 123\n",
            "The reverse of the number: 321\n"
          ]
        }
      ]
    },
    {
      "cell_type": "code",
      "source": [
        "3//10"
      ],
      "metadata": {
        "colab": {
          "base_uri": "https://localhost:8080/"
        },
        "id": "ZFljDSxz63-Y",
        "outputId": "86b02abe-dc7d-4500-e2a2-8bb5ba741b11"
      },
      "execution_count": null,
      "outputs": [
        {
          "output_type": "execute_result",
          "data": {
            "text/plain": [
              "0"
            ]
          },
          "metadata": {},
          "execution_count": 15
        }
      ]
    },
    {
      "cell_type": "code",
      "source": [
        "3%10\n"
      ],
      "metadata": {
        "colab": {
          "base_uri": "https://localhost:8080/"
        },
        "id": "1CNuARSe8BGQ",
        "outputId": "21e9a9f7-6e8f-4a14-9453-28006908ee27"
      },
      "execution_count": null,
      "outputs": [
        {
          "output_type": "execute_result",
          "data": {
            "text/plain": [
              "3"
            ]
          },
          "metadata": {},
          "execution_count": 17
        }
      ]
    },
    {
      "cell_type": "code",
      "source": [
        "321*10"
      ],
      "metadata": {
        "colab": {
          "base_uri": "https://localhost:8080/"
        },
        "id": "OWihr5248EHh",
        "outputId": "621a31c9-3627-478d-ea89-07bf521d784f"
      },
      "execution_count": null,
      "outputs": [
        {
          "output_type": "execute_result",
          "data": {
            "text/plain": [
              "3210"
            ]
          },
          "metadata": {},
          "execution_count": 18
        }
      ]
    },
    {
      "cell_type": "code",
      "source": [
        "321 + 3"
      ],
      "metadata": {
        "colab": {
          "base_uri": "https://localhost:8080/"
        },
        "id": "8d9XMZU_89DY",
        "outputId": "da467773-3904-42c1-8c2d-5c28db76a564"
      },
      "execution_count": null,
      "outputs": [
        {
          "output_type": "execute_result",
          "data": {
            "text/plain": [
              "324"
            ]
          },
          "metadata": {},
          "execution_count": 20
        }
      ]
    },
    {
      "cell_type": "code",
      "source": [
        "x = 542"
      ],
      "metadata": {
        "id": "-EM7akC19GMb"
      },
      "execution_count": null,
      "outputs": []
    },
    {
      "cell_type": "markdown",
      "source": [
        "14) In Python, what is the distinction between a list and a tuple?\n",
        "List \tTuple\n",
        "\n",
        "Lists are editable, which means that we can change them. \tTuples (which are just lists that we cannot alter) are immutable.\n",
        "Lists are comparatively slower \tTuples are more efficient than lists.\n",
        "Syntax: list1 = [100, 'Itika', 200] \tSyntax: tup1 = (100, 'Itika', 200)"
      ],
      "metadata": {
        "id": "OuEYo5aS991K"
      }
    },
    {
      "cell_type": "markdown",
      "source": [
        "15) Is Python programming language or scripting language?\n",
        "\n",
        "Although we can use Python to write scripts, it is primarily used as a general-purpose programming language."
      ],
      "metadata": {
        "id": "akmSiLik-Iux"
      }
    },
    {
      "cell_type": "markdown",
      "source": [
        "16) Python is an interpreted programming language. Explain.\n",
        "\n",
        "Any scripting language not in machine code before execution is called an interpreted language. Python is thus an interpreted language."
      ],
      "metadata": {
        "id": "55DYe_i9-VhN"
      }
    },
    {
      "cell_type": "markdown",
      "source": [
        "17) What is the meaning of pep 8?\n",
        "\n",
        "PEP (Python Enhancement Proposal) is the acronym for Python Enhancement Proposal. It's a collection of guidelines for formatting Python code for better readability."
      ],
      "metadata": {
        "id": "mcX_F878-Z9_"
      }
    },
    {
      "cell_type": "markdown",
      "source": [
        "18) What are the advantages of Python?\n",
        "\n",
        "The advantages of utilizing Python are as follows:\n",
        "\n",
        "    Simple to understand and utilize- Python is a powerful language of programming that is simple to learn, read, and write.\n",
        "    Interpreted language- Python is an interpreted language, which means it runs the program line by line & pauses if any line contains an error.\n",
        "    Dynamically typed- when coding, the programmer does not set data types to variables. During execution, it is automatically assigned.\n",
        "    Python is free and open-source to use and share. It's free and open source.\n",
        "    Extensive library support- Python has a large library of functions that can perform practically any task. It also allows you to use Python Package Manager to import additional packages (pip).\n",
        "    Python applications are portable and can execute on any system without modification.\n",
        "    Python's data structures are easy to understand.\n",
        "    It allows for additional functionality while requiring less coding.\n",
        "\n"
      ],
      "metadata": {
        "id": "4wvb7EW2-eFY"
      }
    },
    {
      "cell_type": "markdown",
      "source": [
        "19) In Python, what are decorators?\n",
        "\n",
        "Decorators are just employed to add certain layout patterns to a method without affecting the structure of the function. Typically, decorators are identified before the event they will be improving. We should first define a decorator's function before using it. The function to which We will implement the decorator's function is then written, and the decorator function is simply positioned above it. In this instance, the @ symbol comes preceding the decorator."
      ],
      "metadata": {
        "id": "8xL8YOOn-_2t"
      }
    },
    {
      "cell_type": "markdown",
      "source": [
        "20) How is a Python Dictionary different from List comprehensions?\n",
        "\n",
        "Dictionary & list comprehensions are yet another means of defining dictionaries and lists in a simple manner.\n",
        "\n",
        "This is example of list comprehension"
      ],
      "metadata": {
        "id": "yqg8MTV9_dga"
      }
    },
    {
      "cell_type": "code",
      "source": [
        "    list_comp = [i for i in range(4)]  \n",
        "    print(list_comp)  "
      ],
      "metadata": {
        "colab": {
          "base_uri": "https://localhost:8080/"
        },
        "id": "nmNozCEJ9XgH",
        "outputId": "2a345b7b-ffde-4eb1-f0d7-28cd9e7db13d"
      },
      "execution_count": null,
      "outputs": [
        {
          "output_type": "stream",
          "name": "stdout",
          "text": [
            "[0, 1, 2, 3]\n"
          ]
        }
      ]
    },
    {
      "cell_type": "code",
      "source": [
        "dictt = {i : i+2 for i in range(10)}  \n",
        "print(dictt)"
      ],
      "metadata": {
        "colab": {
          "base_uri": "https://localhost:8080/"
        },
        "id": "9q1xSUOt_x5-",
        "outputId": "153a6767-440e-496e-8bd1-261d382fe6aa"
      },
      "execution_count": null,
      "outputs": [
        {
          "output_type": "stream",
          "name": "stdout",
          "text": [
            "{0: 2, 1: 3, 2: 4, 3: 5, 4: 6, 5: 7, 6: 8, 7: 9, 8: 10, 9: 11}\n"
          ]
        }
      ]
    },
    {
      "cell_type": "markdown",
      "source": [
        "21) What is the most prevalent Python built-in data types?\n",
        "\n",
        "Numbers- Integers, complex numbers, and floating points are Python's most prevalent built-in data structures. For example, 1, 8.1, 3+6i.\n",
        "\n",
        "List- A list is a collection of objects that are arranged in a specific order. A list's components could be of multiple data kinds. For example, [[10,'itika',7] .4]\n",
        "\n",
        "Tuple- It's also a set of items in a specific order. Tuples, not like lists, are immutable, meaning we cannot modify them. For example, (7,'itika',2)\n",
        "\n",
        "String- A string is a collection of characters. Single or double quotations are used to declare them. \"Itika,\" \"She is learning coding through Javatpoint\", and so on.\n",
        "\n",
        "Set- A set is a group of unrelated elements which are not in any particular sequence. (2, 3, 4, 5)\n",
        "\n",
        "Dictionary- A dictionary is a collection of key and value combinations in which each value may be accessed by its key. The sequence of the items is irrelevant. For example, {3:'ape', 6:'monkey'}\n",
        "\n",
        "Boolean- True and False is indeed the two possible boolean values."
      ],
      "metadata": {
        "id": "_g4KvsNaAB7v"
      }
    },
    {
      "cell_type": "markdown",
      "source": [
        "22) What's the distinction between .py and.pyc files?\n",
        "\n",
        "The Python code we save is contained in the .py files. The .pyc files are created when the program is integrated into the current program from some other source. This file contains the bytecode for the Python files that we imported. The interpreter reduces processing time if we transform the source files having the format of .py files to .pyc files."
      ],
      "metadata": {
        "id": "drMDDg7oAoxN"
      }
    },
    {
      "cell_type": "markdown",
      "source": [
        "23) How is a local variable different from a global variable?\n",
        "\n",
        "Global Variables: Global variables are those that have been declared outside of a function. The scope outside of the function is known as global space. Any program function has access to these variables.\n",
        "\n",
        "Local Variables: Any variable declared inside a function is referred to as a local variable. This variable does not exist in the global domain; it only exists locally.\n",
        "\n",
        "Code"
      ],
      "metadata": {
        "id": "UDkq8HgSAuh4"
      }
    },
    {
      "cell_type": "code",
      "source": [
        "    # Python program to show how global variables and local variables are different  \n",
        "    var = 56  \n",
        "    # Creating a function  \n",
        "    def addition():  \n",
        "        var1 = 7  \n",
        "        c = var + var1  \n",
        "        print(\"In local scope: \", var1)  \n",
        "        print(\"Adding a global scope and a local scope variable: \", c)  \n",
        "    addition()  \n",
        "    print(\"In global scope: \", var)  "
      ],
      "metadata": {
        "colab": {
          "base_uri": "https://localhost:8080/"
        },
        "id": "xH7G-SUs_7oj",
        "outputId": "e5e9d30f-cfa6-4977-f0ae-bb2c0741efa6"
      },
      "execution_count": null,
      "outputs": [
        {
          "output_type": "stream",
          "name": "stdout",
          "text": [
            "In local scope:  7\n",
            "Adding a global scope and a local scope variable:  63\n",
            "In global scope:  56\n"
          ]
        }
      ]
    },
    {
      "cell_type": "code",
      "source": [
        "var1"
      ],
      "metadata": {
        "colab": {
          "base_uri": "https://localhost:8080/",
          "height": 166
        },
        "id": "uDuK8sZ6BNTu",
        "outputId": "a92a1d9e-eb0e-4ac1-9704-88a54b7ad49a"
      },
      "execution_count": null,
      "outputs": [
        {
          "output_type": "error",
          "ename": "NameError",
          "evalue": "ignored",
          "traceback": [
            "\u001b[0;31m---------------------------------------------------------------------------\u001b[0m",
            "\u001b[0;31mNameError\u001b[0m                                 Traceback (most recent call last)",
            "\u001b[0;32m<ipython-input-27-1b1d3752adce>\u001b[0m in \u001b[0;36m<module>\u001b[0;34m\u001b[0m\n\u001b[0;32m----> 1\u001b[0;31m \u001b[0mvar1\u001b[0m\u001b[0;34m\u001b[0m\u001b[0;34m\u001b[0m\u001b[0m\n\u001b[0m",
            "\u001b[0;31mNameError\u001b[0m: name 'var1' is not defined"
          ]
        }
      ]
    },
    {
      "cell_type": "code",
      "source": [
        "var"
      ],
      "metadata": {
        "colab": {
          "base_uri": "https://localhost:8080/"
        },
        "id": "PWbqNXXUBX3q",
        "outputId": "e4f7d562-a912-46b0-f9f9-e560682312fc"
      },
      "execution_count": null,
      "outputs": [
        {
          "output_type": "execute_result",
          "data": {
            "text/plain": [
              "56"
            ]
          },
          "metadata": {},
          "execution_count": 28
        }
      ]
    },
    {
      "cell_type": "markdown",
      "source": [
        "24) What is the distinction between Python Arrays and Python Lists?\n",
        "\n",
        "In Python, arrays and lists both store data similarly. On the other hand, arrays can only have a single data type element, while lists can contain any data type component.\n",
        "\n",
        "Code"
      ],
      "metadata": {
        "id": "49ivv1H1Bkem"
      }
    },
    {
      "cell_type": "code",
      "source": [
        "# Python program to show the difference between a list and an array  \n",
        "  \n",
        "# Importing array module  \n",
        "import array as arr  \n",
        "  \n",
        "# Creating an array and a list  \n",
        "array_1 = arr.array(\"i\", [3, 6, 2, 7, 9, 5])  \n",
        "list_1 = [4, 'Interview', 7.20]  \n",
        "  \n",
        "print(array_1)  \n",
        "print(list_1)  "
      ],
      "metadata": {
        "colab": {
          "base_uri": "https://localhost:8080/"
        },
        "id": "cC-HcDDhBbj5",
        "outputId": "0ef7ebae-f83a-474e-9f79-91cf1670113f"
      },
      "execution_count": null,
      "outputs": [
        {
          "output_type": "stream",
          "name": "stdout",
          "text": [
            "array('i', [3, 6, 2, 7, 9, 5])\n",
            "[4, 'Interview', 7.2]\n"
          ]
        }
      ]
    },
    {
      "cell_type": "code",
      "source": [
        "# Trying to create an array with multiple data types  \n",
        "try:  \n",
        "    array_2 = arr.array(\"i\", [3, 7, 3, \"Interview\"])  \n",
        "except Exception as e:  \n",
        "    print(e)  "
      ],
      "metadata": {
        "colab": {
          "base_uri": "https://localhost:8080/"
        },
        "id": "Zp5nDamuBx6b",
        "outputId": "e0637961-9ccf-4d7b-89ca-79024712eec5"
      },
      "execution_count": null,
      "outputs": [
        {
          "output_type": "stream",
          "name": "stdout",
          "text": [
            "an integer is required (got type str)\n"
          ]
        }
      ]
    },
    {
      "cell_type": "markdown",
      "source": [
        "25) What exactly is __init__?\n",
        "\n",
        "In Python, __init__ is a function or function Object() { [native code] }. When a new object/instance of a class is created, this function is automatically called to reserve memory. The __init__ method is available in all classes.\n",
        "\n",
        "Here's an instance of how to put it to good use."
      ],
      "metadata": {
        "id": "RkhlIM_TEz4Q"
      }
    },
    {
      "cell_type": "code",
      "source": [
        "# Python program to explain __init__  \n",
        "      \n",
        "class Student:  \n",
        "    def __init__(self, st_name, st_class, st_marks):  \n",
        "            self.st_name = st_name  \n",
        "            self.st_class = st_class  \n",
        "            self.st_marks = 67  \n",
        "S1 = Student(\"Itika\", 10, 67)  \n",
        "print(S1.st_name)  \n",
        "print(S1.st_class)  "
      ],
      "metadata": {
        "id": "Hyh0TEw-B4oE"
      },
      "execution_count": null,
      "outputs": []
    },
    {
      "cell_type": "code",
      "source": [
        "# Python program to explain __init__  \n",
        "      \n",
        "class Student:  \n",
        "    def __init__(self, st_name, st_class, st_marks):  \n",
        "        self.st_name = st_name  \n",
        "        self.st_class = st_class  \n",
        "        self.st_marks = 67  \n",
        "S1 = Student(\"Itika\", 10, 67)  \n",
        "print(S1.st_name)  \n",
        "print(S1.st_class)  "
      ],
      "metadata": {
        "colab": {
          "base_uri": "https://localhost:8080/"
        },
        "id": "ffMbYyGpFUzk",
        "outputId": "7cd096ac-911f-4787-fbfb-35e2d31c3fc6"
      },
      "execution_count": null,
      "outputs": [
        {
          "output_type": "stream",
          "name": "stdout",
          "text": [
            "Itika\n",
            "10\n"
          ]
        }
      ]
    },
    {
      "cell_type": "markdown",
      "source": [
        "26) What is a lambda function, and how does it work?\n",
        "\n",
        "A lambda function is a type of nameless function. This method can take as many parameters as you want but a single statement."
      ],
      "metadata": {
        "id": "E2jJydglTsAp"
      }
    },
    {
      "cell_type": "code",
      "source": [
        "# Python program to show how to use lambda functions  \n",
        "# Creating a lambda function for addition  \n",
        "sum_ = lambda x, y, z : x + y + z  \n",
        "print(\"Sum using lambda function is: \", sum_(4, 6, 8))  "
      ],
      "metadata": {
        "colab": {
          "base_uri": "https://localhost:8080/"
        },
        "id": "Vn9N4gDKTVpl",
        "outputId": "0940e50a-feff-4ba1-bc5f-508663eaebd6"
      },
      "execution_count": null,
      "outputs": [
        {
          "output_type": "stream",
          "name": "stdout",
          "text": [
            "Sum using lambda function is:  18\n"
          ]
        }
      ]
    },
    {
      "cell_type": "markdown",
      "source": [
        "27) In Python, what is the self?\n",
        "\n",
        "A self is a class instance or object. This is explicitly supplied as the initial argument in Python. However, in Java, in which it is optional, that's not the case. Local variables make it easy to differentiate between a class's methods and attributes.\n",
        "\n",
        "In the init method of a class, the self variable corresponds to the freshly generated objects, whereas it relates to the entity whose method can be called in the class's other methods."
      ],
      "metadata": {
        "id": "4r8yGno3UX_j"
      }
    },
    {
      "cell_type": "markdown",
      "source": [
        "28) How do these commands work: break, pass and continue?\n",
        "\n",
        "Break \tThe loop is terminated when a criterion is fulfilled, and control is passed to the subsequent statement.\n",
        "\n",
        "Pass \tYou can use this when you need a code block syntactically correct but don't want to run it. This is a null action in essence. When it is run, nothing takes place.\n",
        "\n",
        "Continue \tWhen a specified criteria is fulfilled, the control is moved to the start of the loop, allowing some parts of the loop currently in execution to be skipped."
      ],
      "metadata": {
        "id": "F6ph-X1mVFYp"
      }
    },
    {
      "cell_type": "markdown",
      "source": [
        "29) In Python, how would you randomise the elements of a list while it's running?\n",
        "\n",
        "Consider the following scenario:"
      ],
      "metadata": {
        "id": "onpAOsieVVmB"
      }
    },
    {
      "cell_type": "code",
      "source": [
        "    # Python program to show to randomise elements of a list  \n",
        "      \n",
        "    # Importing the random module  \n",
        "    import random  \n",
        "    list_ = [\"Python\", \"Interview\", \"Questions\", \"Randomise\", \"List\"]  \n",
        "    print(\"Original list: \", list_)  \n",
        "    random.shuffle(list_)  \n",
        "    print(\"After randomising the list: \", list_)  "
      ],
      "metadata": {
        "colab": {
          "base_uri": "https://localhost:8080/"
        },
        "id": "pS33cRF-UKHD",
        "outputId": "1c55f0c2-f2af-40aa-e481-349ec5f34dea"
      },
      "execution_count": null,
      "outputs": [
        {
          "output_type": "stream",
          "name": "stdout",
          "text": [
            "Original list:  ['Python', 'Interview', 'Questions', 'Randomise', 'List']\n",
            "After randomising the list:  ['Randomise', 'Questions', 'Python', 'Interview', 'List']\n"
          ]
        }
      ]
    },
    {
      "cell_type": "markdown",
      "source": [
        "30) What is the difference between pickling and unpickling?\n",
        "\n",
        "The Pickle module takes any Python object and then transforms it into the representation of a string, which it then dumps into a file using the dump method. Unpickling is the procedure of recovering authentic Python items from a saved string representation."
      ],
      "metadata": {
        "id": "u6LAPxzYVpNX"
      }
    },
    {
      "cell_type": "markdown",
      "source": [
        "31) What method will you use to turn the string's all characters into lowercase letters?\n",
        "\n",
        "The lower() function could be used to reduce a string to lowercase."
      ],
      "metadata": {
        "id": "vsmValW0Vz00"
      }
    },
    {
      "cell_type": "code",
      "source": [
        "    # Python program to show how to convert a string to lower case  \n",
        "      \n",
        "    string = 'JAVATPOINT'  \n",
        "    print(string.lower())  "
      ],
      "metadata": {
        "colab": {
          "base_uri": "https://localhost:8080/"
        },
        "id": "VeSmGGAVVeU0",
        "outputId": "b1ffb153-e527-48b7-8ec8-b935cdf2c602"
      },
      "execution_count": null,
      "outputs": [
        {
          "output_type": "stream",
          "name": "stdout",
          "text": [
            "javatpoint\n"
          ]
        }
      ]
    },
    {
      "cell_type": "markdown",
      "source": [
        "32) How do you comment on multiple lines at once in Python?\n",
        "\n",
        "Multi-line comments span many lines. A # must precede all lines that we will comment on. You could also use a convenient alternative to comment on several lines. All you have to do is press down the ctrl key, hold it, and click the left mouse key in every area where you need a # symbol to appear, then write a # once. This will add a comment to the lines wherever you insert your cursor."
      ],
      "metadata": {
        "id": "sSd8tSQGV-u9"
      }
    },
    {
      "cell_type": "markdown",
      "source": [
        "33) In Python, what are docstrings?\n",
        "\n",
        "Docstrings stands for documentation strings, which are not just comments. We enclose the docstrings in triple quotation marks. They are not allocated to any variable, and, as a result, they can also be used as comments."
      ],
      "metadata": {
        "id": "2kB6MowvWQnv"
      }
    },
    {
      "cell_type": "code",
      "source": [
        "    # Python program to show how to write a docstring  \n",
        "      \n",
        "    \"\"\" \n",
        "    This is a docstring. \n",
        "    We write docstrings to explain a program. \n",
        "    This program will multiply two numbers and then display the output. \n",
        "    \"\"\"  \n",
        "    a = 39  \n",
        "    b = 45  \n",
        "    c = a * b  \n",
        "    print(\"Result of multiplication: \", c)  "
      ],
      "metadata": {
        "colab": {
          "base_uri": "https://localhost:8080/"
        },
        "id": "wskT9An2WN7w",
        "outputId": "ad86d224-0a93-4de9-ff21-8655cd65a666"
      },
      "execution_count": null,
      "outputs": [
        {
          "output_type": "stream",
          "name": "stdout",
          "text": [
            "Result of multiplication:  1755\n"
          ]
        }
      ]
    },
    {
      "cell_type": "markdown",
      "source": [
        "34) Explain the split(), sub(), and subn() methods of the Python \"re\" module.\n",
        "\n",
        "Python's \"re\" module provides three ways for modifying strings. They are as follows:\n",
        "\n",
        "split() \"splits\" a string into a list using a regex pattern.\n",
        "\n",
        "sub() finds all substrings that match the regex pattern given by us. Then it replaces that substring with the string provided.\n",
        "\n",
        "subn() is analogous to sub() in that it gives the new string and the number of replacements."
      ],
      "metadata": {
        "id": "E5YFYIF1WjXJ"
      }
    },
    {
      "cell_type": "markdown",
      "source": [
        "35) What is the best way to add items to a Python array?\n",
        "\n",
        "We can use the append(), extend(), as well as insert (i,x) methods to add items to an array."
      ],
      "metadata": {
        "id": "Lj1jfaa_WnVP"
      }
    },
    {
      "cell_type": "code",
      "source": [
        "# Importing array module  \n",
        "import array as arr \n",
        "\n",
        "array = arr.array('d', [1 , 2 ,3] )  \n",
        "array.append(8) # appending will add an element to the end of the array  \n",
        "print(array)  \n",
        "array.extend([4,6,9]) # extending will add elements by looping through the given iterable  \n",
        "print(array)  \n",
        "array.insert(2, 9) # inserting will add the element at the specified index  \n",
        "print(array)  "
      ],
      "metadata": {
        "colab": {
          "base_uri": "https://localhost:8080/"
        },
        "id": "s1shjdHHWTs2",
        "outputId": "65652867-e5b3-4c0e-ba9a-f276d063c135"
      },
      "execution_count": null,
      "outputs": [
        {
          "output_type": "stream",
          "name": "stdout",
          "text": [
            "array('d', [1.0, 2.0, 3.0, 8.0])\n",
            "array('d', [1.0, 2.0, 3.0, 8.0, 4.0, 6.0, 9.0])\n",
            "array('d', [1.0, 2.0, 9.0, 3.0, 8.0, 4.0, 6.0, 9.0])\n"
          ]
        }
      ]
    },
    {
      "cell_type": "markdown",
      "source": [
        "36) What is the best way to remove values from a Python array?\n",
        "\n",
        "The pop() or remove() methods can be used to remove array elements. The distinction between these 2 methods is that the first returns the removed value, while the second does not."
      ],
      "metadata": {
        "id": "PLMbGmkrXa0K"
      }
    },
    {
      "cell_type": "code",
      "source": [
        "    # Python program to show how to remove elements from a Python array  \n",
        "      \n",
        "    array = arr.array('d', [1, 3, 8, 1, 4, 8, 2, 4])  \n",
        "    print(array.pop()) # By default it will remove and return the last element of the array  \n",
        "    print(array.pop(5)) # It will return and remove the element present at 5th index  \n",
        "    array.remove(1) # It will remove only the first occurrence of the element - 1 from the array  \n",
        "    print(array)  "
      ],
      "metadata": {
        "colab": {
          "base_uri": "https://localhost:8080/"
        },
        "id": "9Vfl3gi9W16W",
        "outputId": "064d3dac-699c-4c4e-b2be-1398a3895830"
      },
      "execution_count": null,
      "outputs": [
        {
          "output_type": "stream",
          "name": "stdout",
          "text": [
            "4.0\n",
            "8.0\n",
            "array('d', [3.0, 8.0, 1.0, 4.0, 2.0])\n"
          ]
        }
      ]
    },
    {
      "cell_type": "markdown",
      "source": [
        "37) In Python, what is monkey patching?\n",
        "\n",
        "The phrase \"monkey patch\" in Python exclusively references run-time dynamic alterations to a module.\n",
        "\n",
        "Code"
      ],
      "metadata": {
        "id": "Dd9yUleaXtuN"
      }
    },
    {
      "cell_type": "code",
      "source": [
        "    class My_Class:  \n",
        "        def f(self):  \n",
        "            print(\"f()\")  "
      ],
      "metadata": {
        "id": "ZTw9xZ1fXmgQ"
      },
      "execution_count": null,
      "outputs": []
    },
    {
      "cell_type": "code",
      "source": [
        "!pip install monk"
      ],
      "metadata": {
        "colab": {
          "base_uri": "https://localhost:8080/"
        },
        "id": "o8qSyrTKYR4g",
        "outputId": "fca4d48c-ea93-4f71-d81d-732ed49f3644"
      },
      "execution_count": null,
      "outputs": [
        {
          "output_type": "stream",
          "name": "stdout",
          "text": [
            "Looking in indexes: https://pypi.org/simple, https://us-python.pkg.dev/colab-wheels/public/simple/\n",
            "Collecting monk\n",
            "  Downloading monk-0.13.2.tar.gz (15 kB)\n",
            "  Preparing metadata (setup.py) ... \u001b[?25l\u001b[?25hdone\n",
            "Building wheels for collected packages: monk\n",
            "  Building wheel for monk (setup.py) ... \u001b[?25l\u001b[?25hdone\n",
            "  Created wheel for monk: filename=monk-0.13.2-py3-none-any.whl size=21357 sha256=5dcf56bb278b6d94498b1d1a95bce4fb65ca6b22ac20a98eeaedce17a2108a0f\n",
            "  Stored in directory: /root/.cache/pip/wheels/29/86/c0/bf1d48af08927ef6700f5e7cbad3872d937deb468518679ad8\n",
            "Successfully built monk\n",
            "Installing collected packages: monk\n",
            "Successfully installed monk-0.13.2\n"
          ]
        }
      ]
    },
    {
      "cell_type": "markdown",
      "source": [
        "The monkey-patch testing will then be done as follows:"
      ],
      "metadata": {
        "id": "3E-1L5MyX9sK"
      }
    },
    {
      "cell_type": "code",
      "source": [
        "import monk  \n",
        "def monkey_f(self):  \n",
        "    print (\"we  are calling monkey_f()\")  \n",
        "         \n",
        "# changing address of func  \n",
        "monk.My_Class.func = monkey_f  \n",
        "object_ = monk.My_Class()  \n",
        "        \n",
        "object_.func()  "
      ],
      "metadata": {
        "colab": {
          "base_uri": "https://localhost:8080/",
          "height": 236
        },
        "id": "kK8QIs9rXx07",
        "outputId": "4e1e5333-b9a5-4b11-8501-b9dd247fa02f"
      },
      "execution_count": null,
      "outputs": [
        {
          "output_type": "error",
          "ename": "AttributeError",
          "evalue": "ignored",
          "traceback": [
            "\u001b[0;31m---------------------------------------------------------------------------\u001b[0m",
            "\u001b[0;31mAttributeError\u001b[0m                            Traceback (most recent call last)",
            "\u001b[0;32m<ipython-input-20-e5e1905b6247>\u001b[0m in \u001b[0;36m<module>\u001b[0;34m\u001b[0m\n\u001b[1;32m      4\u001b[0m \u001b[0;34m\u001b[0m\u001b[0m\n\u001b[1;32m      5\u001b[0m \u001b[0;31m# changing address of func\u001b[0m\u001b[0;34m\u001b[0m\u001b[0;34m\u001b[0m\u001b[0;34m\u001b[0m\u001b[0m\n\u001b[0;32m----> 6\u001b[0;31m \u001b[0mmonk\u001b[0m\u001b[0;34m.\u001b[0m\u001b[0mMy_Class\u001b[0m\u001b[0;34m.\u001b[0m\u001b[0mfunc\u001b[0m \u001b[0;34m=\u001b[0m \u001b[0mmonkey_f\u001b[0m\u001b[0;34m\u001b[0m\u001b[0;34m\u001b[0m\u001b[0m\n\u001b[0m\u001b[1;32m      7\u001b[0m \u001b[0mobject_\u001b[0m \u001b[0;34m=\u001b[0m \u001b[0mmonk\u001b[0m\u001b[0;34m.\u001b[0m\u001b[0mMy_Class\u001b[0m\u001b[0;34m(\u001b[0m\u001b[0;34m)\u001b[0m\u001b[0;34m\u001b[0m\u001b[0;34m\u001b[0m\u001b[0m\n\u001b[1;32m      8\u001b[0m \u001b[0;34m\u001b[0m\u001b[0m\n",
            "\u001b[0;31mAttributeError\u001b[0m: module 'monk' has no attribute 'My_Class'"
          ]
        }
      ]
    },
    {
      "cell_type": "markdown",
      "source": [
        "38) In Python, how do you make an empty class?\n",
        "\n",
        "An empty class has no statements contained within its blocks. It can be produced by using the pass keyword. But you can make an object outside the class. The PASS statement doesn't do anything in Python."
      ],
      "metadata": {
        "id": "IkOuOoUaYq55"
      }
    },
    {
      "cell_type": "code",
      "source": [
        "# Python program to show how to make an empty class  \n",
        "      \n",
        "class my_class:  \n",
        "       pass  \n",
        "object_ = my_class()  \n",
        "object_.name = \"Javatpoint\"  \n",
        "print(\"Name = \", object_.name)  "
      ],
      "metadata": {
        "colab": {
          "base_uri": "https://localhost:8080/"
        },
        "id": "rHo6Ds6tYGNr",
        "outputId": "2fe230d4-2b67-46af-cc67-d2ec27312eac"
      },
      "execution_count": null,
      "outputs": [
        {
          "output_type": "stream",
          "name": "stdout",
          "text": [
            "Name =  Javatpoint\n"
          ]
        }
      ]
    },
    {
      "cell_type": "markdown",
      "source": [
        "39) Write a Python script to implement the Bubble sort algorithm.\n",
        "\n",
        "Code"
      ],
      "metadata": {
        "id": "FZ125JsAZLJy"
      }
    },
    {
      "cell_type": "code",
      "source": [
        "    # Python program to show how to implement bubble sort  \n",
        "      \n",
        "def bubble_Sort(array):  \n",
        "  n = len(array)  \n",
        "      \n",
        "for i in range(n-1):  \n",
        "             \n",
        "for j in range(0, n-i-1):  \n",
        "                 \n",
        "if array[j] > array[j + 1] :  \n",
        "           array[j], array[j + 1] = array[j + 1], array[j]  \n",
        "         \n",
        "print(array)  \n",
        "      \n",
        "#example array  \n",
        "arr = [23, 14, 64, 13, 64, 23, 86]  \n",
        "      \n",
        "bubble_Sort(arr)  "
      ],
      "metadata": {
        "colab": {
          "base_uri": "https://localhost:8080/",
          "height": 131
        },
        "id": "GAoLyArmZFrR",
        "outputId": "16b498db-eb52-404d-e44b-cb071de879ed"
      },
      "execution_count": null,
      "outputs": [
        {
          "output_type": "error",
          "ename": "IndentationError",
          "evalue": "ignored",
          "traceback": [
            "\u001b[0;36m  File \u001b[0;32m\"<ipython-input-23-b503e436e9d6>\"\u001b[0;36m, line \u001b[0;32m8\u001b[0m\n\u001b[0;31m    for j in range(0, n-i-1):\u001b[0m\n\u001b[0m    ^\u001b[0m\n\u001b[0;31mIndentationError\u001b[0m\u001b[0;31m:\u001b[0m expected an indented block\n"
          ]
        }
      ]
    },
    {
      "cell_type": "markdown",
      "source": [
        "40) In Python, create a program that generates a Fibonacci sequence.\n",
        "\n",
        "Code"
      ],
      "metadata": {
        "id": "zVYQX3EfaCNW"
      }
    },
    {
      "cell_type": "code",
      "source": [
        "    #taking number of terms to print the series  \n",
        "    n = 9  \n",
        "    first = 0 #first value of series  \n",
        "    second = 1 #second value of series  \n",
        "    series = [first, second]  \n",
        "    if n == 0:  \n",
        "         \n",
        "    print(\"The required fibonacci series is\",first)  \n",
        "    else:  \n",
        "         \n",
        "    for i in range(0,n-2):   \n",
        "             \n",
        "    num = series[i] + series[i+1]  \n",
        "             \n",
        "    series.append(num)  \n",
        "    print(series)  "
      ],
      "metadata": {
        "colab": {
          "base_uri": "https://localhost:8080/",
          "height": 131
        },
        "id": "FAUAgQaeZcfs",
        "outputId": "bb2c47a7-0e5f-45a2-fab8-81c8834d0383"
      },
      "execution_count": null,
      "outputs": [
        {
          "output_type": "error",
          "ename": "IndentationError",
          "evalue": "ignored",
          "traceback": [
            "\u001b[0;36m  File \u001b[0;32m\"<ipython-input-24-e40ffa62fd81>\"\u001b[0;36m, line \u001b[0;32m8\u001b[0m\n\u001b[0;31m    print(\"The required fibonacci series is\",first)\u001b[0m\n\u001b[0m    ^\u001b[0m\n\u001b[0;31mIndentationError\u001b[0m\u001b[0;31m:\u001b[0m expected an indented block\n"
          ]
        }
      ]
    },
    {
      "cell_type": "markdown",
      "source": [
        "41) Make a Python script that checks if a given number is prime.\n",
        "\n",
        "Code"
      ],
      "metadata": {
        "id": "A4cwSAJgaZWw"
      }
    },
    {
      "cell_type": "code",
      "source": [
        "    # Python program to check if a number is prime or not  \n",
        "      \n",
        "    # Declaring a variable  \n",
        "    n = 37  \n",
        "    if n == 2:  \n",
        "        print(\"2 is a prime number\")  \n",
        "      \n",
        "    if n != 1:  \n",
        "        for i in range(2, n):  \n",
        "            if n % i == 0:  \n",
        "                print(\"The given number is a composite number\")  \n",
        "                break  \n",
        "            if i == n-1:  \n",
        "                print(\"The given number is a prime number\")  \n",
        "    else:  \n",
        "        print(\"1 is not a prime number\")  "
      ],
      "metadata": {
        "colab": {
          "base_uri": "https://localhost:8080/"
        },
        "id": "huMUyvctaMe9",
        "outputId": "15f6b7f8-d546-40d1-af7a-b4f4161a19fe"
      },
      "execution_count": null,
      "outputs": [
        {
          "output_type": "stream",
          "name": "stdout",
          "text": [
            "The given number is a prime number\n"
          ]
        }
      ]
    },
    {
      "cell_type": "markdown",
      "source": [
        "42) Create a Python program that checks if a given sequence is a Palindrome.\n",
        "\n",
        "Below is the program.\n",
        "\n",
        "Code"
      ],
      "metadata": {
        "id": "jGMxlB3BaqTk"
      }
    },
    {
      "cell_type": "code",
      "source": [
        "    # Python program to check if the given string is a palindrome  \n",
        "      \n",
        "    # Creating a string  \n",
        "    sequence = 'abcdef'  \n",
        "    # Reversing the string  \n",
        "    reverse = sequence[::-1]  \n",
        "      \n",
        "    # Checking if the string is a palindrome  \n",
        "    if reverse == sequence:  \n",
        "        print(\"The sequence is a palindrome\")  \n",
        "    else:  \n",
        "        print(\"The sequence is not a palindrome\")  "
      ],
      "metadata": {
        "colab": {
          "base_uri": "https://localhost:8080/"
        },
        "id": "0ViJsUScajLp",
        "outputId": "3a5ac9a0-2733-4ae6-b6eb-b03b80766582"
      },
      "execution_count": null,
      "outputs": [
        {
          "output_type": "stream",
          "name": "stdout",
          "text": [
            "The sequence is not a palindrome\n"
          ]
        }
      ]
    },
    {
      "cell_type": "markdown",
      "source": [
        "43) In a NumPy array, how do I extract the indices of N maximum values?\n",
        "\n",
        "Using the code below."
      ],
      "metadata": {
        "id": "gWTiO3pibIhT"
      }
    },
    {
      "cell_type": "code",
      "source": [
        "    import numpy   \n",
        "    array = numpy.array([4, 8, 4, 9, 2])  \n",
        "    print(array.argsort()[-2:][::-1])  "
      ],
      "metadata": {
        "colab": {
          "base_uri": "https://localhost:8080/"
        },
        "id": "At240Tj9a3H3",
        "outputId": "4e575e44-1690-429b-d978-a66319bc0340"
      },
      "execution_count": null,
      "outputs": [
        {
          "output_type": "stream",
          "name": "stdout",
          "text": [
            "[3 1]\n"
          ]
        }
      ]
    },
    {
      "cell_type": "markdown",
      "source": [
        "44) Using Python/ NumPy, write code to compute percentiles?\n",
        "\n",
        "The following method can be used to determine percentiles."
      ],
      "metadata": {
        "id": "ocVSEQ1xbUFy"
      }
    },
    {
      "cell_type": "code",
      "source": [
        "    import numpy   \n",
        "    array = numpy.array([3, 6, 1, 6, 5, 2])  \n",
        "    percentile = numpy.percentile(array, 45) #Returns 45th percentile  \n",
        "    print(percentile)  "
      ],
      "metadata": {
        "colab": {
          "base_uri": "https://localhost:8080/"
        },
        "id": "Rm0PTUjzbN7l",
        "outputId": "bc65dc83-6f9b-459b-881f-37c735b58329"
      },
      "execution_count": null,
      "outputs": [
        {
          "output_type": "stream",
          "name": "stdout",
          "text": [
            "3.5\n"
          ]
        }
      ]
    },
    {
      "cell_type": "markdown",
      "source": [
        "45) Write a Python program to determine whether a number is binary.\n",
        "\n",
        "Following is the code."
      ],
      "metadata": {
        "id": "ouPUlyGvbj0I"
      }
    },
    {
      "cell_type": "code",
      "source": [
        "    num = 1101001  \n",
        "    while(num > 0):  \n",
        "        l = num % 10  \n",
        "         \n",
        "    if l!=0 and l!=1:  \n",
        "             \n",
        "    print(\"given number is not binary\")  \n",
        "             \n",
        "    break  \n",
        "         \n",
        "    num = num // 10  \n",
        "         \n",
        "    if num == 0:  \n",
        "             \n",
        "    print(\"given number is binary\")  "
      ],
      "metadata": {
        "colab": {
          "base_uri": "https://localhost:8080/",
          "height": 131
        },
        "id": "YfJW6q1fbdbw",
        "outputId": "a5293718-ac22-4efe-c49e-f827b988f61c"
      },
      "execution_count": null,
      "outputs": [
        {
          "output_type": "error",
          "ename": "IndentationError",
          "evalue": "ignored",
          "traceback": [
            "\u001b[0;36m  File \u001b[0;32m\"<ipython-input-31-6ecb5b6041fa>\"\u001b[0;36m, line \u001b[0;32m7\u001b[0m\n\u001b[0;31m    print(\"given number is not binary\")\u001b[0m\n\u001b[0m    ^\u001b[0m\n\u001b[0;31mIndentationError\u001b[0m\u001b[0;31m:\u001b[0m expected an indented block\n"
          ]
        }
      ]
    },
    {
      "cell_type": "markdown",
      "source": [
        "46) Using the Iterative technique, calculate factorial in Python.\n",
        "\n",
        "Following is the code."
      ],
      "metadata": {
        "id": "l81njVGUb260"
      }
    },
    {
      "cell_type": "code",
      "source": [
        "    num = 12  \n",
        "    fact = 1  \n",
        "    if num < 0:  \n",
        "         \n",
        "    print(\"Since number is negative factorial cannot be calculated\")  \n",
        "    elif num == 0:  \n",
        "         \n",
        "    print(\"Factorial of 0 is 1\")  \n",
        "    else:  \n",
        "         \n",
        "    for f in range(1, num + 1):  \n",
        "             \n",
        "    fact = fact * i  \n",
        "         \n",
        "    print(\"Factorial of\",num ,\"is\",fact)  "
      ],
      "metadata": {
        "colab": {
          "base_uri": "https://localhost:8080/",
          "height": 131
        },
        "id": "JakYaF10bvQu",
        "outputId": "8471f030-536d-4f23-9c5e-986580ebfd90"
      },
      "execution_count": null,
      "outputs": [
        {
          "output_type": "error",
          "ename": "IndentationError",
          "evalue": "ignored",
          "traceback": [
            "\u001b[0;36m  File \u001b[0;32m\"<ipython-input-32-c836a7ae9c84>\"\u001b[0;36m, line \u001b[0;32m5\u001b[0m\n\u001b[0;31m    print(\"Since number is negative factorial cannot be calculated\")\u001b[0m\n\u001b[0m    ^\u001b[0m\n\u001b[0;31mIndentationError\u001b[0m\u001b[0;31m:\u001b[0m expected an indented block\n"
          ]
        }
      ]
    },
    {
      "cell_type": "markdown",
      "source": [
        "47) Compute the LCM of two given numbers using Python code.\n",
        "\n",
        "Following is the code"
      ],
      "metadata": {
        "id": "docExCCwb-gh"
      }
    },
    {
      "cell_type": "code",
      "source": [
        "    num_1 = 24   \n",
        "    num_2 = 92   \n",
        "    if num_1 > num_2:    \n",
        "         \n",
        "    greater_num = num_1    \n",
        "    else:   \n",
        "         \n",
        "    greater_num = num_2    \n",
        "    while(True):    \n",
        "         \n",
        "    if((greater_num % num_1 == 0) and (greater_num % num_2 == 0)):    \n",
        "             \n",
        "    lcm = greater_num  \n",
        "             \n",
        "    break    \n",
        "         \n",
        "    greater_num += 1    \n",
        "    print(\"LCM of\", num_1, \"and\", num_2, \"=\", greater_num)  "
      ],
      "metadata": {
        "colab": {
          "base_uri": "https://localhost:8080/",
          "height": 131
        },
        "id": "Yc-PMTkab6Nv",
        "outputId": "97c52f44-aa43-4f35-c786-adab400caf1b"
      },
      "execution_count": null,
      "outputs": [
        {
          "output_type": "error",
          "ename": "IndentationError",
          "evalue": "ignored",
          "traceback": [
            "\u001b[0;36m  File \u001b[0;32m\"<ipython-input-33-c43eecf7bda7>\"\u001b[0;36m, line \u001b[0;32m5\u001b[0m\n\u001b[0;31m    greater_num = num_1\u001b[0m\n\u001b[0m    ^\u001b[0m\n\u001b[0;31mIndentationError\u001b[0m\u001b[0;31m:\u001b[0m expected an indented block\n"
          ]
        }
      ]
    },
    {
      "cell_type": "markdown",
      "source": [
        "48) Write a Python program that removes vowels from a string.\n",
        "\n",
        "Following is the code."
      ],
      "metadata": {
        "id": "ubLmhaLjcGoQ"
      }
    },
    {
      "cell_type": "code",
      "source": [
        "  string = 'Javatpoint'  \n",
        "  result=''  \n",
        "  for s in string:    \n",
        "    if s in ('a', 'e', 'i', 'o', 'u', 'A', 'E', 'I', 'O', 'U'):       \n",
        "      s = ''    \n",
        "    result += s  \n",
        "    print(\"Required string without vowels is:\", result)  "
      ],
      "metadata": {
        "colab": {
          "base_uri": "https://localhost:8080/"
        },
        "id": "ZDz4l5dFcC2L",
        "outputId": "c66c91c5-1378-41fb-bf1e-2ce9986f281e"
      },
      "execution_count": null,
      "outputs": [
        {
          "output_type": "stream",
          "name": "stdout",
          "text": [
            "Required string without vowels is: J\n",
            "Required string without vowels is: J\n",
            "Required string without vowels is: Jv\n",
            "Required string without vowels is: Jv\n",
            "Required string without vowels is: Jvt\n",
            "Required string without vowels is: Jvtp\n",
            "Required string without vowels is: Jvtp\n",
            "Required string without vowels is: Jvtp\n",
            "Required string without vowels is: Jvtpn\n",
            "Required string without vowels is: Jvtpnt\n"
          ]
        }
      ]
    },
    {
      "cell_type": "markdown",
      "source": [
        "50) Write a Python code to reverse a given list."
      ],
      "metadata": {
        "id": "rZsU1juJctoa"
      }
    },
    {
      "cell_type": "code",
      "source": [
        "array = [23, 12, 5, 24, 23, 76, 86, 24, 86, 24, 75]  \n",
        "      \n",
        "print(\"Reverse order of array is\")  \n",
        "# Reversing the given array  \n",
        "for i in range(len(array)-1, -1, -1):       \n",
        "         \n",
        "    print(array[i], end=' ')  "
      ],
      "metadata": {
        "colab": {
          "base_uri": "https://localhost:8080/"
        },
        "id": "aRMGuXGVcQZo",
        "outputId": "f456180d-f678-45b7-b631-5896dc60a27a"
      },
      "execution_count": null,
      "outputs": [
        {
          "output_type": "stream",
          "name": "stdout",
          "text": [
            "Reverse order of array is\n",
            "75 24 86 24 86 76 23 24 5 12 23 "
          ]
        }
      ]
    },
    {
      "cell_type": "markdown",
      "source": [
        "51) Write a Python program that rotates an array by two positions to the right.\n",
        "\n",
        "Following is the code."
      ],
      "metadata": {
        "id": "hVTJ67kUdAMt"
      }
    },
    {
      "cell_type": "code",
      "source": [
        "    listt = [23, 12, 5, 24, 23, 76, 86, 24, 86, 24, 75]  \n",
        "      \n",
        "    for _ in range(0,2):  \n",
        "        temp = listt[len(listt)-1]  \n",
        "        for i in range(len(listt)-1,-1,-1):  \n",
        "            listt[i]=listt[i-1]  \n",
        "            listt[0]=temp  \n",
        "    print(\"After implementing right rotation the list is :\")  \n",
        "    print(listt)  "
      ],
      "metadata": {
        "colab": {
          "base_uri": "https://localhost:8080/"
        },
        "id": "83SaDlfvcxrX",
        "outputId": "497603f6-ff1b-465a-f9fe-728b9121179a"
      },
      "execution_count": null,
      "outputs": [
        {
          "output_type": "stream",
          "name": "stdout",
          "text": [
            "After implementing right rotation the list is :\n",
            "[24, 24, 75, 12, 5, 24, 23, 76, 86, 24, 86]\n"
          ]
        }
      ]
    },
    {
      "cell_type": "code",
      "source": [
        "list1 = [1,2,3,4]"
      ],
      "metadata": {
        "id": "8FyZB8_3dUq0"
      },
      "execution_count": null,
      "outputs": []
    },
    {
      "cell_type": "code",
      "source": [
        "list2 =[i**2 for i in list1]"
      ],
      "metadata": {
        "id": "7oExx0ci5PTL"
      },
      "execution_count": null,
      "outputs": []
    },
    {
      "cell_type": "code",
      "source": [
        "print(list2)"
      ],
      "metadata": {
        "colab": {
          "base_uri": "https://localhost:8080/"
        },
        "id": "aiKVS_Tp5rmV",
        "outputId": "54b2cf7b-f7ed-4a35-ea87-896112eb6f3e"
      },
      "execution_count": null,
      "outputs": [
        {
          "output_type": "stream",
          "name": "stdout",
          "text": [
            "[1, 4, 9, 16]\n"
          ]
        }
      ]
    },
    {
      "cell_type": "code",
      "source": [],
      "metadata": {
        "id": "DiLuIiwF52qc"
      },
      "execution_count": null,
      "outputs": []
    }
  ]
}