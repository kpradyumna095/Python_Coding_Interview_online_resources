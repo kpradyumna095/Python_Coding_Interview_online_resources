{
  "nbformat": 4,
  "nbformat_minor": 0,
  "metadata": {
    "colab": {
      "provenance": []
    },
    "kernelspec": {
      "name": "python3",
      "display_name": "Python 3"
    },
    "language_info": {
      "name": "python"
    }
  },
  "cells": [
    {
      "cell_type": "code",
      "metadata": {
        "colab": {
          "base_uri": "https://localhost:8080/"
        },
        "id": "b_-DSQsrtE3T",
        "outputId": "c864262b-1cdf-43b4-e3d3-944c37b3b32f"
      },
      "source": [
        "########################## ###################################\n",
        "##### Basic Data Types\n",
        "# Integer -----> int ----> Whole numbers such as 3,300,200\n",
        "# Floating Point ---> float ---> numbers with decimal point 3.56,2.45,76.87\n",
        "# string ---> str ---> ordered sequence of characters\n",
        "# lists ---> list ---> ordered sequence of objects\n",
        "#  Dictionaries ---> dict ---> unordered key value pairs {'mykey':'value'}\n",
        "# Tuples --> tup --> ordered immutable sequence of objects\n",
        "# sets --> set ---> unorderd collections of unique objects\n",
        "#  Boolean --> bool --> logical values indicating True or False\n",
        "# Data type\n",
        "\n",
        "#Integer\n",
        "\n",
        "print(1)\n"
      ],
      "execution_count": null,
      "outputs": [
        {
          "output_type": "stream",
          "text": [
            "1\n"
          ],
          "name": "stdout"
        }
      ]
    },
    {
      "cell_type": "code",
      "metadata": {
        "colab": {
          "base_uri": "https://localhost:8080/"
        },
        "id": "uS7s1t7jt3WO",
        "outputId": "a447ca85-b962-4bfd-b865-7c308c03b564"
      },
      "source": [
        "print(2+10)  #addition"
      ],
      "execution_count": null,
      "outputs": [
        {
          "output_type": "stream",
          "text": [
            "12\n"
          ],
          "name": "stdout"
        }
      ]
    },
    {
      "cell_type": "code",
      "metadata": {
        "id": "HklD5cUHt_C7"
      },
      "source": [
        "# multiline string uses triple quote or a tripe single quote\n",
        "a = \"\"\" This data has three types of flower classes: \n",
        "    Setosa, Versicolour, and Virginica. The dataset is available in the \n",
        "    scikit-learn library, or you can also download it from the UCI Machine \n",
        "    Learning Library.\"\"\""
      ],
      "execution_count": null,
      "outputs": []
    },
    {
      "cell_type": "code",
      "metadata": {
        "colab": {
          "base_uri": "https://localhost:8080/"
        },
        "id": "shgJN6fXuo0p",
        "outputId": "ad9c5caf-db24-4b90-c385-77f7fbf0e9fb"
      },
      "source": [
        "print(a)"
      ],
      "execution_count": null,
      "outputs": [
        {
          "output_type": "stream",
          "text": [
            " This data has three types of flower classes: \n",
            "    Setosa, Versicolour, and Virginica. The dataset is available in the \n",
            "    scikit-learn library, or you can also download it from the UCI Machine \n",
            "    Learning Library.\n"
          ],
          "name": "stdout"
        }
      ]
    },
    {
      "cell_type": "code",
      "metadata": {
        "colab": {
          "base_uri": "https://localhost:8080/"
        },
        "id": "6ay77tKfur9K",
        "outputId": "c1fb2132-1e15-4549-a913-3a3732832656"
      },
      "source": [
        "print(12/3)"
      ],
      "execution_count": null,
      "outputs": [
        {
          "output_type": "stream",
          "text": [
            "4.0\n"
          ],
          "name": "stdout"
        }
      ]
    },
    {
      "cell_type": "code",
      "metadata": {
        "id": "un1u_HKOAdmX"
      },
      "source": [
        "x = 55.45"
      ],
      "execution_count": null,
      "outputs": []
    },
    {
      "cell_type": "code",
      "metadata": {
        "id": "zoLzv9ywA8-M"
      },
      "source": [
        "print(x)"
      ],
      "execution_count": null,
      "outputs": []
    },
    {
      "cell_type": "code",
      "metadata": {
        "colab": {
          "base_uri": "https://localhost:8080/",
          "height": 172
        },
        "id": "4Z-CUrzNBAl4",
        "outputId": "5fc3166f-e104-408a-d2b0-325e2af3864b"
      },
      "source": [
        "type(X)"
      ],
      "execution_count": null,
      "outputs": [
        {
          "output_type": "error",
          "ename": "NameError",
          "evalue": "ignored",
          "traceback": [
            "\u001b[0;31m---------------------------------------------------------------------------\u001b[0m",
            "\u001b[0;31mNameError\u001b[0m                                 Traceback (most recent call last)",
            "\u001b[0;32m<ipython-input-13-179cf50426b5>\u001b[0m in \u001b[0;36m<module>\u001b[0;34m()\u001b[0m\n\u001b[0;32m----> 1\u001b[0;31m \u001b[0mtype\u001b[0m\u001b[0;34m(\u001b[0m\u001b[0mX\u001b[0m\u001b[0;34m)\u001b[0m\u001b[0;34m\u001b[0m\u001b[0;34m\u001b[0m\u001b[0m\n\u001b[0m",
            "\u001b[0;31mNameError\u001b[0m: name 'X' is not defined"
          ]
        }
      ]
    },
    {
      "cell_type": "code",
      "metadata": {
        "colab": {
          "base_uri": "https://localhost:8080/"
        },
        "id": "ZCMrOLQdDgFM",
        "outputId": "d1ff159a-bc4a-4c80-8ca3-026dd930b3db"
      },
      "source": [
        "type(x)"
      ],
      "execution_count": null,
      "outputs": [
        {
          "output_type": "execute_result",
          "data": {
            "text/plain": [
              "float"
            ]
          },
          "metadata": {
            "tags": []
          },
          "execution_count": 14
        }
      ]
    },
    {
      "cell_type": "code",
      "metadata": {
        "colab": {
          "base_uri": "https://localhost:8080/"
        },
        "id": "JD5wh9pYDwxA",
        "outputId": "4e112b06-350c-42d5-ac7d-9d615b41cec8"
      },
      "source": [
        "print(2+3j)"
      ],
      "execution_count": null,
      "outputs": [
        {
          "output_type": "stream",
          "text": [
            "(2+3j)\n"
          ],
          "name": "stdout"
        }
      ]
    },
    {
      "cell_type": "code",
      "metadata": {
        "colab": {
          "base_uri": "https://localhost:8080/"
        },
        "id": "DMxDPEehEDXQ",
        "outputId": "e44ad57f-9bfa-4989-a114-5151d30773c0"
      },
      "source": [
        "type(2+3j)"
      ],
      "execution_count": null,
      "outputs": [
        {
          "output_type": "execute_result",
          "data": {
            "text/plain": [
              "complex"
            ]
          },
          "metadata": {
            "tags": []
          },
          "execution_count": 16
        }
      ]
    },
    {
      "cell_type": "code",
      "metadata": {
        "colab": {
          "base_uri": "https://localhost:8080/",
          "height": 135
        },
        "id": "XR5AJmjdEF3-",
        "outputId": "a5fe0388-f3f5-471f-81ae-d6bb73ef3679"
      },
      "source": [
        "1b = 3"
      ],
      "execution_count": null,
      "outputs": [
        {
          "output_type": "error",
          "ename": "SyntaxError",
          "evalue": "ignored",
          "traceback": [
            "\u001b[0;36m  File \u001b[0;32m\"<ipython-input-17-3c48c762be1a>\"\u001b[0;36m, line \u001b[0;32m1\u001b[0m\n\u001b[0;31m    1b = 3\u001b[0m\n\u001b[0m     ^\u001b[0m\n\u001b[0;31mSyntaxError\u001b[0m\u001b[0;31m:\u001b[0m invalid syntax\n"
          ]
        }
      ]
    },
    {
      "cell_type": "code",
      "metadata": {
        "colab": {
          "base_uri": "https://localhost:8080/",
          "height": 135
        },
        "id": "Id8Deb74FJ20",
        "outputId": "2ae0a525-eeca-4d35-b174-ac9596a6c1bd"
      },
      "source": [
        "raj kapoor = 56"
      ],
      "execution_count": null,
      "outputs": [
        {
          "output_type": "error",
          "ename": "SyntaxError",
          "evalue": "ignored",
          "traceback": [
            "\u001b[0;36m  File \u001b[0;32m\"<ipython-input-18-64de64256f6c>\"\u001b[0;36m, line \u001b[0;32m1\u001b[0m\n\u001b[0;31m    raj kapoor = 56\u001b[0m\n\u001b[0m             ^\u001b[0m\n\u001b[0;31mSyntaxError\u001b[0m\u001b[0;31m:\u001b[0m invalid syntax\n"
          ]
        }
      ]
    },
    {
      "cell_type": "code",
      "metadata": {
        "id": "F0guhmSmFbYu"
      },
      "source": [
        "raj_kapoor = 56"
      ],
      "execution_count": null,
      "outputs": []
    },
    {
      "cell_type": "code",
      "metadata": {
        "colab": {
          "base_uri": "https://localhost:8080/"
        },
        "id": "H33snHRRFi1A",
        "outputId": "d3f7da74-9d37-4b12-f278-62cf60246324"
      },
      "source": [
        "print(raj_kapoor)"
      ],
      "execution_count": null,
      "outputs": [
        {
          "output_type": "stream",
          "text": [
            "56\n"
          ],
          "name": "stdout"
        }
      ]
    },
    {
      "cell_type": "code",
      "metadata": {
        "id": "N2gUFdR8FnUm"
      },
      "source": [],
      "execution_count": null,
      "outputs": []
    }
  ]
}