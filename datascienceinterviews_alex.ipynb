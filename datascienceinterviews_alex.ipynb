{
  "nbformat": 4,
  "nbformat_minor": 0,
  "metadata": {
    "colab": {
      "provenance": []
    },
    "kernelspec": {
      "name": "python3",
      "display_name": "Python 3"
    },
    "language_info": {
      "name": "python"
    }
  },
  "cells": [
    {
      "cell_type": "markdown",
      "source": [
        "https://github.com/alexeygrigorev/data-science-interviews/blob/master/technical.md#coding-python"
      ],
      "metadata": {
        "id": "ITmY55SVgzT2"
      }
    },
    {
      "cell_type": "markdown",
      "source": [
        "1) FizzBuzz. Print numbers from 1 to 100\n",
        "\n",
        "    If it’s a multiplier of 3, print “Fizz”\n",
        "    If it’s a multiplier of 5, print “Buzz”\n",
        "    If both 3 and 5 — “Fizz Buzz\"\n",
        "    Otherwise, print the number itself\n",
        "\n",
        "Example of output: 1, 2, Fizz, 4, Buzz, Fizz, 7, 8, Fizz, Buzz, 11, Fizz, 13, 14, Fizz Buzz, 16, 17, Fizz, 19, Buzz, Fizz, 22, 23, Fizz, Buzz, 26, Fizz, 28, 29, Fizz Buzz, 31, 32, Fizz, 34, Buzz, Fizz, ..."
      ],
      "metadata": {
        "id": "YVNlbGb6hKPr"
      }
    },
    {
      "cell_type": "code",
      "execution_count": null,
      "metadata": {
        "colab": {
          "base_uri": "https://localhost:8080/"
        },
        "id": "O31ZPhWrgp3L",
        "outputId": "92aa3e1a-b1a2-4396-ad1e-039d4d2f53cd"
      },
      "outputs": [
        {
          "output_type": "stream",
          "name": "stdout",
          "text": [
            "1\n",
            "2\n",
            "Fizz\n",
            "4\n",
            "Buzz\n",
            "Fizz\n",
            "7\n",
            "8\n",
            "Fizz\n",
            "Buzz\n",
            "11\n",
            "Fizz\n",
            "13\n",
            "14\n",
            "Fizz Buzz\n",
            "16\n",
            "17\n",
            "Fizz\n",
            "19\n",
            "Buzz\n",
            "Fizz\n",
            "22\n",
            "23\n",
            "Fizz\n",
            "Buzz\n",
            "26\n",
            "Fizz\n",
            "28\n",
            "29\n",
            "Fizz Buzz\n",
            "31\n",
            "32\n",
            "Fizz\n",
            "34\n",
            "Buzz\n",
            "Fizz\n",
            "37\n",
            "38\n",
            "Fizz\n",
            "Buzz\n",
            "41\n",
            "Fizz\n",
            "43\n",
            "44\n",
            "Fizz Buzz\n",
            "46\n",
            "47\n",
            "Fizz\n",
            "49\n",
            "Buzz\n",
            "Fizz\n",
            "52\n",
            "53\n",
            "Fizz\n",
            "Buzz\n",
            "56\n",
            "Fizz\n",
            "58\n",
            "59\n",
            "Fizz Buzz\n",
            "61\n",
            "62\n",
            "Fizz\n",
            "64\n",
            "Buzz\n",
            "Fizz\n",
            "67\n",
            "68\n",
            "Fizz\n",
            "Buzz\n",
            "71\n",
            "Fizz\n",
            "73\n",
            "74\n",
            "Fizz Buzz\n",
            "76\n",
            "77\n",
            "Fizz\n",
            "79\n",
            "Buzz\n",
            "Fizz\n",
            "82\n",
            "83\n",
            "Fizz\n",
            "Buzz\n",
            "86\n",
            "Fizz\n",
            "88\n",
            "89\n",
            "Fizz Buzz\n",
            "91\n",
            "92\n",
            "Fizz\n",
            "94\n",
            "Buzz\n",
            "Fizz\n",
            "97\n",
            "98\n",
            "Fizz\n",
            "Buzz\n"
          ]
        }
      ],
      "source": [
        "for i in range(1, 101):\n",
        "    if i % 3 == 0 and i % 5 == 0:\n",
        "        print('Fizz Buzz')\n",
        "    elif i % 3 == 0:\n",
        "        print('Fizz')\n",
        "    elif i % 5 == 0:\n",
        "        print('Buzz')\n",
        "    else:\n",
        "        print(i)"
      ]
    },
    {
      "cell_type": "markdown",
      "source": [
        "2) Factorial. Calculate a factorial of a number\n",
        "\n",
        "    factorial(5) = 5! = 1 * 2 * 3 * 4 * 5 = 120\n",
        "    factorial(10) = 10! = 1 * 2 * 3 * 4 * 5 * 6 * 7 * 8 * 9 * 10 = 3628800\n"
      ],
      "metadata": {
        "id": "jaXeWkHRleIt"
      }
    },
    {
      "cell_type": "code",
      "source": [
        "def factorial(n):\n",
        "    result = 1\n",
        "    for i in range(2, n + 1):\n",
        "        result *= i\n",
        "    return result"
      ],
      "metadata": {
        "id": "WfmM4TyQiQ95"
      },
      "execution_count": null,
      "outputs": []
    },
    {
      "cell_type": "code",
      "source": [
        "def factorial(n: int):\n",
        "    if n == 0 or n == 1:\n",
        "        return 1\n",
        "    else:\n",
        "        return n * factorial(n - 1)"
      ],
      "metadata": {
        "id": "4VqjuY5nliq1"
      },
      "execution_count": null,
      "outputs": []
    },
    {
      "cell_type": "code",
      "source": [
        "factorial(10)"
      ],
      "metadata": {
        "colab": {
          "base_uri": "https://localhost:8080/"
        },
        "id": "gi1u5Ccrlqgc",
        "outputId": "8e7d0399-44b2-4205-d2be-5644525ab2ab"
      },
      "execution_count": null,
      "outputs": [
        {
          "output_type": "execute_result",
          "data": {
            "text/plain": [
              "3628800"
            ]
          },
          "metadata": {},
          "execution_count": 4
        }
      ]
    },
    {
      "cell_type": "markdown",
      "source": [
        "3) Mean. Compute the mean of number in a list\n",
        "\n",
        "    mean([4, 36, 45, 50, 75]) = 42\n",
        "    mean([]) = NaN (use float('NaN'))\n",
        "\n"
      ],
      "metadata": {
        "id": "vc1UdU_yl2T2"
      }
    },
    {
      "cell_type": "code",
      "source": [
        "def mean(numbers):\n",
        "    if len(numbers) > 0:\n",
        "        return sum(numbers) / len(numbers)\n",
        "    return float('NaN')"
      ],
      "metadata": {
        "id": "t-QaWnaVlv8H"
      },
      "execution_count": null,
      "outputs": []
    },
    {
      "cell_type": "code",
      "source": [
        "mean([4, 36, 45, 50, 75])"
      ],
      "metadata": {
        "colab": {
          "base_uri": "https://localhost:8080/"
        },
        "id": "5-_mG2Dxl741",
        "outputId": "70660614-7c7b-4e1b-9b26-0664843134d7"
      },
      "execution_count": null,
      "outputs": [
        {
          "output_type": "execute_result",
          "data": {
            "text/plain": [
              "42.0"
            ]
          },
          "metadata": {},
          "execution_count": 6
        }
      ]
    },
    {
      "cell_type": "markdown",
      "source": [
        "4) STD. Calculate the standard deviation of elements in a list.\n",
        "\n",
        "    std([1, 2, 3, 4]) = 1.29\n",
        "    std([1]) = NaN (use float('NaN'))\n",
        "    std([]) = NaN\n"
      ],
      "metadata": {
        "id": "jPUeykrbmDwt"
      }
    },
    {
      "cell_type": "code",
      "source": [
        "from math import sqrt\n",
        "from statistics import mean\n",
        "\n",
        "def std_dev(numbers):\n",
        "    if len(numbers) > 1:\n",
        "        avg = mean(numbers)\n",
        "        var = sum((i - avg) ** 2 for i in numbers) / (len(numbers) - 1)\n",
        "        std = sqrt(var)\n",
        "        return std\n",
        "    return float('NaN')"
      ],
      "metadata": {
        "id": "2ssz-k6Zl-U_"
      },
      "execution_count": null,
      "outputs": []
    },
    {
      "cell_type": "code",
      "source": [
        "std_dev([1, 2, 3, 4])"
      ],
      "metadata": {
        "colab": {
          "base_uri": "https://localhost:8080/"
        },
        "id": "3YvB1yJ8mJk1",
        "outputId": "646c5df0-ee2b-465d-c373-c11268e5087c"
      },
      "execution_count": null,
      "outputs": [
        {
          "output_type": "execute_result",
          "data": {
            "text/plain": [
              "1.2909944487358056"
            ]
          },
          "metadata": {},
          "execution_count": 8
        }
      ]
    },
    {
      "cell_type": "markdown",
      "source": [
        "5) RMSE. Calculate the RMSE (root mean squared error) of a model. The function takes in two lists: one with actual values, one with predictions.\n",
        "\n",
        "    rmse([1, 2], [1, 2]) = 0\n",
        "    rmse([1, 2, 3], [3, 2, 1]) = 1.63\n"
      ],
      "metadata": {
        "id": "EGCuYdEBmX51"
      }
    },
    {
      "cell_type": "code",
      "source": [
        "import math\n",
        "\n",
        "def rmse(y_true, y_pred):\n",
        "    assert len(y_true) == len(y_pred), 'different sizes of the arguments'\n",
        "    squares = sum((x - y)**2 for x, y in zip(y_true, y_pred))\n",
        "    return math.sqrt(squares / len(y_true))"
      ],
      "metadata": {
        "id": "C1_-UBoCmR_T"
      },
      "execution_count": null,
      "outputs": []
    },
    {
      "cell_type": "code",
      "source": [
        "rmse([1, 2, 3], [3, 2, 1])"
      ],
      "metadata": {
        "colab": {
          "base_uri": "https://localhost:8080/"
        },
        "id": "k5W3HCv0mbng",
        "outputId": "6c31a347-a827-4d54-b5e7-df4836ec63c5"
      },
      "execution_count": null,
      "outputs": [
        {
          "output_type": "execute_result",
          "data": {
            "text/plain": [
              "1.632993161855452"
            ]
          },
          "metadata": {},
          "execution_count": 10
        }
      ]
    },
    {
      "cell_type": "markdown",
      "source": [
        "6) Remove duplicates. Remove duplicates in list. The list is not sorted and the order of elements from the original list should be preserved.\n",
        "\n",
        "    [1, 2, 3, 1] ⇒ [1, 2, 3]\n",
        "    [1, 3, 2, 1, 5, 3, 5, 1, 4] ⇒ [1, 3, 2, 5, 4]\n"
      ],
      "metadata": {
        "id": "C7i3EFW0mkAr"
      }
    },
    {
      "cell_type": "code",
      "source": [
        "def remove_duplicates(lst):\n",
        "    new_list = []\n",
        "    mentioned_values = set()\n",
        "    for elem in lst:\n",
        "        if elem not in mentioned_values:\n",
        "            new_list.append(elem)\n",
        "            mentioned_values.add(elem)\n",
        "    return new_list"
      ],
      "metadata": {
        "id": "8rQxjtlAment"
      },
      "execution_count": null,
      "outputs": []
    },
    {
      "cell_type": "code",
      "source": [
        "remove_duplicates([1, 2, 3, 1])"
      ],
      "metadata": {
        "colab": {
          "base_uri": "https://localhost:8080/"
        },
        "id": "yypAgU2umrXB",
        "outputId": "84e1be2d-9e03-4845-b3ef-df501ffc6a1a"
      },
      "execution_count": null,
      "outputs": [
        {
          "output_type": "execute_result",
          "data": {
            "text/plain": [
              "[1, 2, 3]"
            ]
          },
          "metadata": {},
          "execution_count": 12
        }
      ]
    },
    {
      "cell_type": "code",
      "source": [
        "def remove_duplicates2(lst):\n",
        "    new_list = []\n",
        "    for elem in lst:\n",
        "        if elem not in new_list:\n",
        "            new_list.append(elem)\n",
        "    return new_list"
      ],
      "metadata": {
        "id": "-nOrglxQm0IB"
      },
      "execution_count": null,
      "outputs": []
    },
    {
      "cell_type": "code",
      "source": [
        "remove_duplicates2([1, 2, 3, 1])"
      ],
      "metadata": {
        "colab": {
          "base_uri": "https://localhost:8080/"
        },
        "id": "xbs2_3HZm4xr",
        "outputId": "906680a3-006a-4753-8ae6-669ad3209737"
      },
      "execution_count": null,
      "outputs": [
        {
          "output_type": "execute_result",
          "data": {
            "text/plain": [
              "[1, 2, 3]"
            ]
          },
          "metadata": {},
          "execution_count": 14
        }
      ]
    },
    {
      "cell_type": "markdown",
      "source": [
        "7) Count. Count how many times each element in a list occurs.\n",
        "\n",
        "[1, 3, 2, 1, 5, 3, 5, 1, 4] ⇒\n",
        "\n",
        "    1: 3 times\n",
        "    2: 1 time\n",
        "    3: 2 times\n",
        "    4: 1 time\n",
        "    5: 2 times\n"
      ],
      "metadata": {
        "id": "7ppTV3ILnDR1"
      }
    },
    {
      "cell_type": "code",
      "source": [
        "numbers = [1, 3, 2, 1, 5, 3, 5, 1, 4]\n",
        "counter = dict()\n",
        "for elem in numbers:\n",
        "    counter[elem] = counter.get(elem, 0) + 1"
      ],
      "metadata": {
        "id": "sWVMVqTfm8_x"
      },
      "execution_count": null,
      "outputs": []
    },
    {
      "cell_type": "code",
      "source": [
        "from collections import Counter\n",
        "\n",
        "numbers = [1, 3, 2, 1, 5, 3, 5, 1, 4]\n",
        "counter = Counter(numbers)"
      ],
      "metadata": {
        "id": "NMHBl9V-nGms"
      },
      "execution_count": null,
      "outputs": []
    },
    {
      "cell_type": "code",
      "source": [
        "counter"
      ],
      "metadata": {
        "colab": {
          "base_uri": "https://localhost:8080/"
        },
        "id": "sY8QGaHQnLPU",
        "outputId": "8b48e934-2ed9-489c-ab80-2686927ca527"
      },
      "execution_count": null,
      "outputs": [
        {
          "output_type": "execute_result",
          "data": {
            "text/plain": [
              "Counter({1: 3, 3: 2, 2: 1, 5: 2, 4: 1})"
            ]
          },
          "metadata": {},
          "execution_count": 17
        }
      ]
    },
    {
      "cell_type": "markdown",
      "source": [
        "8) Palindrome. Is string a palindrome? A palindrome is a word which reads the same backward as forwards.\n",
        "\n",
        "    “ololo” ⇒ Yes\n",
        "    “cafe” ⇒ No\n"
      ],
      "metadata": {
        "id": "3SaaO6IqnbIG"
      }
    },
    {
      "cell_type": "code",
      "source": [
        "def is_palindrome(s):\n",
        "    return s == s[::-1]"
      ],
      "metadata": {
        "id": "h8YwfGojnRzi"
      },
      "execution_count": null,
      "outputs": []
    },
    {
      "cell_type": "code",
      "source": [
        "def is_palindrome(s):\n",
        "    for i in range(len(s) // 2):\n",
        "        if s[i] != s[-i - 1]:\n",
        "            return False\n",
        "    return True"
      ],
      "metadata": {
        "id": "3PbOv_FBnfl3"
      },
      "execution_count": null,
      "outputs": []
    },
    {
      "cell_type": "markdown",
      "source": [
        "9) Counter. We have a list with identifiers of form “id-SITE”. Calculate how many ids we have per site.\n",
        "\n"
      ],
      "metadata": {
        "id": "sQ7vFtiWnqFj"
      }
    },
    {
      "cell_type": "code",
      "source": [
        "def counter(lst):\n",
        "    ans = {}\n",
        "    for i in lst:\n",
        "        site = i[-2:]\n",
        "        ans[site] = ans.get(site, 0) + 1\n",
        "    return ans"
      ],
      "metadata": {
        "id": "e_-IPsuHniwA"
      },
      "execution_count": null,
      "outputs": []
    },
    {
      "cell_type": "markdown",
      "source": [
        "10) Top counter. We have a list with identifiers of form “id-SITE”. Show the top 3 sites. You can break ties in any way you want."
      ],
      "metadata": {
        "id": "MTfQX-DinyKO"
      }
    },
    {
      "cell_type": "code",
      "source": [
        "def top_counter(lst):\n",
        "    site_dict = counter(lst)  # using last problem's solution\n",
        "    top_keys = sorted(site_dict, reverse=True, key=site_dict.get)[:3]\n",
        "    return {key: site_dict[key] for key in top_keys}"
      ],
      "metadata": {
        "id": "Pri1XQOWns3y"
      },
      "execution_count": null,
      "outputs": []
    },
    {
      "cell_type": "markdown",
      "source": [
        "11) RLE. Implement RLE (run-length encoding): encode each character by the number of times it appears consecutively.\n",
        "\n",
        "    'aaaabbbcca' ⇒ [('a', 4), ('b', 3), ('c', 2), ('a', 1)]\n",
        "    (note that there are two groups of 'a')\n"
      ],
      "metadata": {
        "id": "uVN0SqMkn57z"
      }
    },
    {
      "cell_type": "code",
      "source": [
        "def rle(s):\n",
        "    ans, cur, num = [], None, 0\n",
        "    for i in range(len(s)):\n",
        "        if i == 0:\n",
        "            cur, num = s[i], 1\n",
        "        elif cur != s[i]:\n",
        "            ans.append((cur, num))\n",
        "            cur, num = s[i], 1\n",
        "        else:\n",
        "            num += 1\n",
        "        if i == len(s) - 1:\n",
        "            ans.append((cur, num))\n",
        "    return ans"
      ],
      "metadata": {
        "id": "Ex_vifv8n1t5"
      },
      "execution_count": null,
      "outputs": []
    },
    {
      "cell_type": "code",
      "source": [
        "rle('aaaabbbcca')"
      ],
      "metadata": {
        "colab": {
          "base_uri": "https://localhost:8080/"
        },
        "id": "_wZPL-GToBNN",
        "outputId": "b3964ff9-1db0-4d6c-d41b-b3698bec6fcb"
      },
      "execution_count": null,
      "outputs": [
        {
          "output_type": "execute_result",
          "data": {
            "text/plain": [
              "[('a', 4), ('b', 3), ('c', 2), ('a', 1)]"
            ]
          },
          "metadata": {},
          "execution_count": 23
        }
      ]
    },
    {
      "cell_type": "code",
      "source": [
        "import itertools\n",
        "\n",
        "def rle(s):\n",
        "    return [(l, len(list(g))) for l, g in itertools.groupby(s)]"
      ],
      "metadata": {
        "id": "JOCakjd7oHg6"
      },
      "execution_count": null,
      "outputs": []
    },
    {
      "cell_type": "markdown",
      "source": [
        "12) Jaccard. Calculate the Jaccard similarity between two sets: the size of intersection divided by the size of union.\n",
        "\n",
        "    jaccard({'a', 'b', 'c'}, {'a', 'd'}) = 1 / 4\n"
      ],
      "metadata": {
        "id": "FuXlJFsVoTDX"
      }
    },
    {
      "cell_type": "code",
      "source": [
        "def jaccard(a, b):\n",
        "    return len(a & b) / len(a | b)"
      ],
      "metadata": {
        "id": "60_iW3PnoOP5"
      },
      "execution_count": null,
      "outputs": []
    },
    {
      "cell_type": "markdown",
      "source": [
        "13) IDF. Given a collection of already tokenized texts, calculate the IDF (inverse document frequency) of each token.\n",
        "\n",
        "    input example: [['interview', 'questions'], ['interview', 'answers']]\n"
      ],
      "metadata": {
        "id": "zmTJRW5Qoa8c"
      }
    },
    {
      "cell_type": "code",
      "source": [
        "from math import log10\n",
        "\n",
        "def idf1(docs):\n",
        "    docs = [set(doc) for doc in docs]\n",
        "    n_tokens = {}\n",
        "    for doc in docs:\n",
        "        for token in doc:\n",
        "            n_tokens[token] = n_tokens.get(token, 0) + 1\n",
        "    ans = {}\n",
        "    for token in n_tokens:\n",
        "        ans[token] = log10(len(docs) / (1 + n_tokens[token]))\n",
        "    return ans"
      ],
      "metadata": {
        "id": "DBJp7_P-oVxe"
      },
      "execution_count": null,
      "outputs": []
    },
    {
      "cell_type": "code",
      "source": [
        "import math\n",
        "\n",
        "def idf2(docs):\n",
        "    n_docs = len(docs)\n",
        "\n",
        "    docs = [set(doc) for doc in docs]\n",
        "    all_tokens = set.union(*docs)\n",
        "\n",
        "    idf_coefficients = {}\n",
        "    for token in all_tokens:\n",
        "        n_docs_w_token = sum(token in doc for doc in docs)\n",
        "        idf_c = math.log10(n_docs / (1 + n_docs_w_token))\n",
        "        idf_coefficients[token] = idf_c\n",
        "\n",
        "    return idf_coefficients"
      ],
      "metadata": {
        "id": "Cah51_59ogin"
      },
      "execution_count": null,
      "outputs": []
    },
    {
      "cell_type": "markdown",
      "source": [
        "14) PMI. Given a collection of already tokenized texts, find the PMI (pointwise mutual information) of each pair of tokens. Return top 10 pairs according to PMI.\n",
        "\n",
        "    input example: [['interview', 'questions'], ['interview', 'answers']]\n",
        "\n",
        "PMI is used for finding collocations in text — things like “New York” or “Puerto Rico”. For two consecutive words, the PMI between them is:\n",
        "\n",
        "The higher the PMI, the more likely these two tokens form a collection. We can estimate PMI by counting:"
      ],
      "metadata": {
        "id": "kC_jhlD3oqO8"
      }
    },
    {
      "cell_type": "code",
      "source": [
        "import math\n",
        "\n",
        "def pmi(docs):\n",
        "    n_pairs = {}\n",
        "    n_tokens = {}\n",
        "\n",
        "    docs = [tuple(doc) for doc in docs]\n",
        "    for doc in docs:\n",
        "        for token in doc:\n",
        "            n_tokens[token] = n_tokens.get(token, 0) + 1\n",
        "\n",
        "        n_pairs[doc] = n_pairs.get(doc, 0) + 1\n",
        "        ans = {}\n",
        "        for pair in n_pairs:\n",
        "            ans[pair] = math.log2(n_pairs[pair] * (sum(n_tokens.values())) / (n_tokens[pair[0]] * n_tokens[pair[1]]))\n",
        "\n",
        "        srt = sorted(ans.items(), key=lambda x: x[1], reverse=True)[:10]\n",
        "\n",
        "    return srt"
      ],
      "metadata": {
        "id": "dXLiYq4Zoj4O"
      },
      "execution_count": null,
      "outputs": []
    },
    {
      "cell_type": "code",
      "source": [],
      "metadata": {
        "id": "O7rKDABPoupp"
      },
      "execution_count": null,
      "outputs": []
    }
  ]
}