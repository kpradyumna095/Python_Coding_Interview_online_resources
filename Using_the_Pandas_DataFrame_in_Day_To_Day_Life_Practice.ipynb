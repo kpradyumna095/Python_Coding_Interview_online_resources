{
  "nbformat": 4,
  "nbformat_minor": 0,
  "metadata": {
    "colab": {
      "provenance": []
    },
    "kernelspec": {
      "name": "python3",
      "display_name": "Python 3"
    },
    "language_info": {
      "name": "python"
    }
  },
  "cells": [
    {
      "cell_type": "markdown",
      "source": [
        "https://github.com/Tanu-N-Prabhu/Python/blob/master/Using_the_Pandas_DataFrame_in_Day_To_Day_Life.ipynb"
      ],
      "metadata": {
        "id": "PO0tdAC5dtNn"
      }
    },
    {
      "cell_type": "markdown",
      "source": [
        "Using the Pandas DataFrame in Day-To-Day Life\n",
        "In this article, you will know how to use Pandas DataFrame in everyday life."
      ],
      "metadata": {
        "id": "iGksndDndyjL"
      }
    },
    {
      "cell_type": "markdown",
      "source": [
        "Before getting started let us do a quick revision, Pandas is a python library that gives elite, and simple to-utilize information structure for data analysis tools for python programming language. Show below is the article which will help you gain your understanding level in the Pandas library. Don’t forget to have a look at it. In fact, this is the official docs. It is worth reading it"
      ],
      "metadata": {
        "id": "YMhuudi8d3iO"
      }
    },
    {
      "cell_type": "markdown",
      "source": [
        "Necessary set-up to get you started\n",
        "There are two important necessary steps that you need to take care to perform smooth functioning:\n",
        "\n",
        "    IDE or Jupyter Notebook: It doesn’t really matter whether you use an IDE like PyCharm, Visual Studio Code, IntelliJ IDEA, or Jupyter Notebook environment. Personally, I use Google Colab with is a Jypter Notebook environment because of its good documentation feature. We can explain things in a clear and more precise manner.\n",
        "    Python: If this is your first time installing Python, don’t worry I got your back. Follow the article given underneath and follow the means to effectively install Python.\n",
        "\n",
        "Python installation steps\n",
        "\n",
        "    Note → If you are using Google Colab or any Jupyter notebook environment, then you can skip the Python installation step.\n"
      ],
      "metadata": {
        "id": "wTgE0Cr8eLDg"
      }
    },
    {
      "cell_type": "markdown",
      "source": [
        "\n",
        "Scenario\n",
        "\n",
        "Let’s understand a scenario here and come up with a solution using Pandas DataFrame.\n",
        "\n",
        "    “Everybody does and loves to do shopping (grocery). Not all the time you grocery shop at the same store, you shop based on discounts and offers (I do). Now obviously it’s a good practice to keep track of shopping details like the store name, location, amount, date, etc.”\n",
        "\n",
        "To store and manipulate date I know you will use “Microsoft Excel” but the catch point here is we will use “Pandas DataFrame” which is by far easier and fun to use. Don’t worry, I’ll show you how.\n",
        "\n",
        "    Don’t get me wrong, “Microsoft Excel” is where it’s at. But to all those Python enthusiasts this is the best example to understand and take Pandas to next level.\n"
      ],
      "metadata": {
        "id": "pLHUIrFyedpJ"
      }
    },
    {
      "cell_type": "markdown",
      "source": [
        "Solution\n",
        "\n",
        "Let’s solve the above scenario using Pandas DataFrame. Now in order to that, you need to follow certain steps to not commit mistakes. I will provide a systematic way of using Pandas so that you can use it mechanically in your upcoming projects or whatever."
      ],
      "metadata": {
        "id": "3ukt4EqYeozG"
      }
    },
    {
      "cell_type": "markdown",
      "source": [
        "Importing the Pandas DataFrame library\n",
        "\n",
        "Let’s use the concept of aliasing and use the pandas as pd. So in the later steps, rather than using pandas every time, we can just tell pd."
      ],
      "metadata": {
        "id": "iKhxXVGYewh-"
      }
    },
    {
      "cell_type": "code",
      "execution_count": 1,
      "metadata": {
        "id": "cM3pzqoWdetK"
      },
      "outputs": [],
      "source": [
        "import pandas as pd"
      ]
    },
    {
      "cell_type": "markdown",
      "source": [
        "Storing the shopping details in a list — for the first time\n",
        "\n",
        "For those of you who don’t about Python list. Please look it up here. Since I’m currently living in Regina, Saskatchewan, Canada. So most of the grocery stores would be similar or different when compared to yours. Please bear that in mind. It really does not matter, you can feed the data as per your choice."
      ],
      "metadata": {
        "id": "vKJcSZHYfAgh"
      }
    },
    {
      "cell_type": "code",
      "source": [
        "date = ['1-9-20', '3-9-20', '3-9-20', '6-9-20', '9-9-20']\n",
        "\n",
        "storeName = ['Walmart', 'Real Canadian Superstore', 'Co-op Food Store', 'Sobeys', 'M&M Food Market']\n",
        "\n",
        "storeLocation = ['Gordon Road', 'Albert Street', 'Albert Street', 'Quance Street', 'Gordon Street']\n",
        "\n",
        "amount = [55.65, 21.62, 7.10, 15.56, 5.85]\n",
        "     "
      ],
      "metadata": {
        "id": "EQBQErk7ezs3"
      },
      "execution_count": 2,
      "outputs": []
    },
    {
      "cell_type": "markdown",
      "source": [
        "Now, what do I mean by “for the first time”, is that later say suppose if you keep on doing grocery shopping in the future, rather than storing the values manually in the list. The list would be grown as long as a train. Also, this is not recommended. So I have written a way to handle this situation in the lower sections."
      ],
      "metadata": {
        "id": "N1n5XwjZfSRP"
      }
    },
    {
      "cell_type": "markdown",
      "source": [
        "Creating a Pandas DataFrame to store all the list values\n",
        "\n",
        "Here, since we have all the values store in a list, let’s put them in a DataFrame. We can use pd.DataFrame() and pass the value, which is all the list in this case."
      ],
      "metadata": {
        "id": "115eJnW8fZEu"
      }
    },
    {
      "cell_type": "code",
      "source": [
        "df = pd.DataFrame({'Date': date, \n",
        "                   'Store Name': storeName,\n",
        "                   'Store Location': storeLocation,\n",
        "                   'Amount Purchased': amount})\n",
        "df"
      ],
      "metadata": {
        "colab": {
          "base_uri": "https://localhost:8080/",
          "height": 206
        },
        "id": "m-0Hg098fHWW",
        "outputId": "c2ee8dcb-e2e1-401c-93fc-1e344ffa51d2"
      },
      "execution_count": 3,
      "outputs": [
        {
          "output_type": "execute_result",
          "data": {
            "text/plain": [
              "     Date                Store Name Store Location  Amount Purchased\n",
              "0  1-9-20                   Walmart    Gordon Road             55.65\n",
              "1  3-9-20  Real Canadian Superstore  Albert Street             21.62\n",
              "2  3-9-20          Co-op Food Store  Albert Street              7.10\n",
              "3  6-9-20                    Sobeys  Quance Street             15.56\n",
              "4  9-9-20           M&M Food Market  Gordon Street              5.85"
            ],
            "text/html": [
              "\n",
              "  <div id=\"df-963c458a-62c9-42c3-a40e-d7bad5d19146\">\n",
              "    <div class=\"colab-df-container\">\n",
              "      <div>\n",
              "<style scoped>\n",
              "    .dataframe tbody tr th:only-of-type {\n",
              "        vertical-align: middle;\n",
              "    }\n",
              "\n",
              "    .dataframe tbody tr th {\n",
              "        vertical-align: top;\n",
              "    }\n",
              "\n",
              "    .dataframe thead th {\n",
              "        text-align: right;\n",
              "    }\n",
              "</style>\n",
              "<table border=\"1\" class=\"dataframe\">\n",
              "  <thead>\n",
              "    <tr style=\"text-align: right;\">\n",
              "      <th></th>\n",
              "      <th>Date</th>\n",
              "      <th>Store Name</th>\n",
              "      <th>Store Location</th>\n",
              "      <th>Amount Purchased</th>\n",
              "    </tr>\n",
              "  </thead>\n",
              "  <tbody>\n",
              "    <tr>\n",
              "      <th>0</th>\n",
              "      <td>1-9-20</td>\n",
              "      <td>Walmart</td>\n",
              "      <td>Gordon Road</td>\n",
              "      <td>55.65</td>\n",
              "    </tr>\n",
              "    <tr>\n",
              "      <th>1</th>\n",
              "      <td>3-9-20</td>\n",
              "      <td>Real Canadian Superstore</td>\n",
              "      <td>Albert Street</td>\n",
              "      <td>21.62</td>\n",
              "    </tr>\n",
              "    <tr>\n",
              "      <th>2</th>\n",
              "      <td>3-9-20</td>\n",
              "      <td>Co-op Food Store</td>\n",
              "      <td>Albert Street</td>\n",
              "      <td>7.10</td>\n",
              "    </tr>\n",
              "    <tr>\n",
              "      <th>3</th>\n",
              "      <td>6-9-20</td>\n",
              "      <td>Sobeys</td>\n",
              "      <td>Quance Street</td>\n",
              "      <td>15.56</td>\n",
              "    </tr>\n",
              "    <tr>\n",
              "      <th>4</th>\n",
              "      <td>9-9-20</td>\n",
              "      <td>M&amp;M Food Market</td>\n",
              "      <td>Gordon Street</td>\n",
              "      <td>5.85</td>\n",
              "    </tr>\n",
              "  </tbody>\n",
              "</table>\n",
              "</div>\n",
              "      <button class=\"colab-df-convert\" onclick=\"convertToInteractive('df-963c458a-62c9-42c3-a40e-d7bad5d19146')\"\n",
              "              title=\"Convert this dataframe to an interactive table.\"\n",
              "              style=\"display:none;\">\n",
              "        \n",
              "  <svg xmlns=\"http://www.w3.org/2000/svg\" height=\"24px\"viewBox=\"0 0 24 24\"\n",
              "       width=\"24px\">\n",
              "    <path d=\"M0 0h24v24H0V0z\" fill=\"none\"/>\n",
              "    <path d=\"M18.56 5.44l.94 2.06.94-2.06 2.06-.94-2.06-.94-.94-2.06-.94 2.06-2.06.94zm-11 1L8.5 8.5l.94-2.06 2.06-.94-2.06-.94L8.5 2.5l-.94 2.06-2.06.94zm10 10l.94 2.06.94-2.06 2.06-.94-2.06-.94-.94-2.06-.94 2.06-2.06.94z\"/><path d=\"M17.41 7.96l-1.37-1.37c-.4-.4-.92-.59-1.43-.59-.52 0-1.04.2-1.43.59L10.3 9.45l-7.72 7.72c-.78.78-.78 2.05 0 2.83L4 21.41c.39.39.9.59 1.41.59.51 0 1.02-.2 1.41-.59l7.78-7.78 2.81-2.81c.8-.78.8-2.07 0-2.86zM5.41 20L4 18.59l7.72-7.72 1.47 1.35L5.41 20z\"/>\n",
              "  </svg>\n",
              "      </button>\n",
              "      \n",
              "  <style>\n",
              "    .colab-df-container {\n",
              "      display:flex;\n",
              "      flex-wrap:wrap;\n",
              "      gap: 12px;\n",
              "    }\n",
              "\n",
              "    .colab-df-convert {\n",
              "      background-color: #E8F0FE;\n",
              "      border: none;\n",
              "      border-radius: 50%;\n",
              "      cursor: pointer;\n",
              "      display: none;\n",
              "      fill: #1967D2;\n",
              "      height: 32px;\n",
              "      padding: 0 0 0 0;\n",
              "      width: 32px;\n",
              "    }\n",
              "\n",
              "    .colab-df-convert:hover {\n",
              "      background-color: #E2EBFA;\n",
              "      box-shadow: 0px 1px 2px rgba(60, 64, 67, 0.3), 0px 1px 3px 1px rgba(60, 64, 67, 0.15);\n",
              "      fill: #174EA6;\n",
              "    }\n",
              "\n",
              "    [theme=dark] .colab-df-convert {\n",
              "      background-color: #3B4455;\n",
              "      fill: #D2E3FC;\n",
              "    }\n",
              "\n",
              "    [theme=dark] .colab-df-convert:hover {\n",
              "      background-color: #434B5C;\n",
              "      box-shadow: 0px 1px 3px 1px rgba(0, 0, 0, 0.15);\n",
              "      filter: drop-shadow(0px 1px 2px rgba(0, 0, 0, 0.3));\n",
              "      fill: #FFFFFF;\n",
              "    }\n",
              "  </style>\n",
              "\n",
              "      <script>\n",
              "        const buttonEl =\n",
              "          document.querySelector('#df-963c458a-62c9-42c3-a40e-d7bad5d19146 button.colab-df-convert');\n",
              "        buttonEl.style.display =\n",
              "          google.colab.kernel.accessAllowed ? 'block' : 'none';\n",
              "\n",
              "        async function convertToInteractive(key) {\n",
              "          const element = document.querySelector('#df-963c458a-62c9-42c3-a40e-d7bad5d19146');\n",
              "          const dataTable =\n",
              "            await google.colab.kernel.invokeFunction('convertToInteractive',\n",
              "                                                     [key], {});\n",
              "          if (!dataTable) return;\n",
              "\n",
              "          const docLinkHtml = 'Like what you see? Visit the ' +\n",
              "            '<a target=\"_blank\" href=https://colab.research.google.com/notebooks/data_table.ipynb>data table notebook</a>'\n",
              "            + ' to learn more about interactive tables.';\n",
              "          element.innerHTML = '';\n",
              "          dataTable['output_type'] = 'display_data';\n",
              "          await google.colab.output.renderOutput(dataTable, element);\n",
              "          const docLink = document.createElement('div');\n",
              "          docLink.innerHTML = docLinkHtml;\n",
              "          element.appendChild(docLink);\n",
              "        }\n",
              "      </script>\n",
              "    </div>\n",
              "  </div>\n",
              "  "
            ]
          },
          "metadata": {},
          "execution_count": 3
        }
      ]
    },
    {
      "cell_type": "markdown",
      "source": [
        "Taking the shopping details as input from the user — for future visits\n",
        "\n",
        "As I said, it’s not a very good practice to store all the values in a list. In this way, we automatically make the list grow. There is a neat and cute way to handle this kind of situation. First, let’s take the input from the input and store them in temporary variables as shown below:"
      ],
      "metadata": {
        "id": "HeOF9LCqf0QW"
      }
    },
    {
      "cell_type": "code",
      "source": [
        "dateNew = input(\"Enter the date in dd-mm-yy format ---> \")\n",
        "storeNameNew = input(\"Enter the name of the store ---> \")\n",
        "storeLocationNew = input(\"Enter the location of the store ---> \")\n",
        "amountNew = float(input(\"Enter the total amount purchased ---> \"))"
      ],
      "metadata": {
        "colab": {
          "base_uri": "https://localhost:8080/"
        },
        "id": "NbO-jKuJfi56",
        "outputId": "1a72ad77-358c-48c0-d787-d8d185e3f009"
      },
      "execution_count": 4,
      "outputs": [
        {
          "name": "stdout",
          "output_type": "stream",
          "text": [
            "Enter the date in dd-mm-yy format ---> 10-9-20\n",
            "Enter the name of the store ---> India Market\n",
            "Enter the location of the store ---> Albert Street\n",
            "Enter the total amount purchased ---> 24.68\n"
          ]
        }
      ]
    },
    {
      "cell_type": "markdown",
      "source": [
        "So on the next day, I mean 10–9–20 I went to the grocery store to shop for some spices with Gordon Ramsay, just kidding I went alone. Below are the details of the new store.\n",
        "\n",
        "Enter the date in dd-mm-yy format ---> 10-9-20 \n",
        "Enter the name of the store ---> India Market \n",
        "Enter the location of the store ---> Albert Street \n",
        "Enter the total amount purchased ---> 24.68\n"
      ],
      "metadata": {
        "id": "iE8gaxEWgWFF"
      }
    },
    {
      "cell_type": "markdown",
      "source": [
        "Appending the new data to the existing list\n",
        "\n",
        "This is an obvious step because we need to append the new data (shopping details) to the existing DataFrame. We can do this with the help of append() Python."
      ],
      "metadata": {
        "id": "cU90kPGggei-"
      }
    },
    {
      "cell_type": "code",
      "source": [
        "date.append(dateNew)\n",
        "storeName.append(storeNameNew)\n",
        "storeLocation.append(storeLocationNew)\n",
        "amount.append(amountNew)"
      ],
      "metadata": {
        "id": "KEgx577ogEs0"
      },
      "execution_count": 5,
      "outputs": []
    },
    {
      "cell_type": "markdown",
      "source": [
        "Displaying the updated result via a DataFrame\n",
        "\n",
        "This step is trivial because all we are doing is just displaying all the updated results from the above step as a DataFrame. Similar to the “Creating a Pandas DataFrame to store all the list values” step shown above."
      ],
      "metadata": {
        "id": "jKvG7d5Egp8H"
      }
    },
    {
      "cell_type": "code",
      "source": [
        "df = pd.DataFrame({'Date': date, \n",
        "                   'Store Name': storeName,\n",
        "                   'Store Location': storeLocation,\n",
        "                   'Amount': amount})\n",
        "df"
      ],
      "metadata": {
        "colab": {
          "base_uri": "https://localhost:8080/",
          "height": 238
        },
        "id": "BFV1Hl72ghWI",
        "outputId": "0e71fb80-efd1-4b12-e029-f34eb3b76220"
      },
      "execution_count": 6,
      "outputs": [
        {
          "output_type": "execute_result",
          "data": {
            "text/plain": [
              "      Date                Store Name Store Location  Amount\n",
              "0   1-9-20                   Walmart    Gordon Road   55.65\n",
              "1   3-9-20  Real Canadian Superstore  Albert Street   21.62\n",
              "2   3-9-20          Co-op Food Store  Albert Street    7.10\n",
              "3   6-9-20                    Sobeys  Quance Street   15.56\n",
              "4   9-9-20           M&M Food Market  Gordon Street    5.85\n",
              "5  10-9-20              India Market  Albert Street   24.68"
            ],
            "text/html": [
              "\n",
              "  <div id=\"df-d8e03e6a-8427-408b-a677-d4e3e94a30f0\">\n",
              "    <div class=\"colab-df-container\">\n",
              "      <div>\n",
              "<style scoped>\n",
              "    .dataframe tbody tr th:only-of-type {\n",
              "        vertical-align: middle;\n",
              "    }\n",
              "\n",
              "    .dataframe tbody tr th {\n",
              "        vertical-align: top;\n",
              "    }\n",
              "\n",
              "    .dataframe thead th {\n",
              "        text-align: right;\n",
              "    }\n",
              "</style>\n",
              "<table border=\"1\" class=\"dataframe\">\n",
              "  <thead>\n",
              "    <tr style=\"text-align: right;\">\n",
              "      <th></th>\n",
              "      <th>Date</th>\n",
              "      <th>Store Name</th>\n",
              "      <th>Store Location</th>\n",
              "      <th>Amount</th>\n",
              "    </tr>\n",
              "  </thead>\n",
              "  <tbody>\n",
              "    <tr>\n",
              "      <th>0</th>\n",
              "      <td>1-9-20</td>\n",
              "      <td>Walmart</td>\n",
              "      <td>Gordon Road</td>\n",
              "      <td>55.65</td>\n",
              "    </tr>\n",
              "    <tr>\n",
              "      <th>1</th>\n",
              "      <td>3-9-20</td>\n",
              "      <td>Real Canadian Superstore</td>\n",
              "      <td>Albert Street</td>\n",
              "      <td>21.62</td>\n",
              "    </tr>\n",
              "    <tr>\n",
              "      <th>2</th>\n",
              "      <td>3-9-20</td>\n",
              "      <td>Co-op Food Store</td>\n",
              "      <td>Albert Street</td>\n",
              "      <td>7.10</td>\n",
              "    </tr>\n",
              "    <tr>\n",
              "      <th>3</th>\n",
              "      <td>6-9-20</td>\n",
              "      <td>Sobeys</td>\n",
              "      <td>Quance Street</td>\n",
              "      <td>15.56</td>\n",
              "    </tr>\n",
              "    <tr>\n",
              "      <th>4</th>\n",
              "      <td>9-9-20</td>\n",
              "      <td>M&amp;M Food Market</td>\n",
              "      <td>Gordon Street</td>\n",
              "      <td>5.85</td>\n",
              "    </tr>\n",
              "    <tr>\n",
              "      <th>5</th>\n",
              "      <td>10-9-20</td>\n",
              "      <td>India Market</td>\n",
              "      <td>Albert Street</td>\n",
              "      <td>24.68</td>\n",
              "    </tr>\n",
              "  </tbody>\n",
              "</table>\n",
              "</div>\n",
              "      <button class=\"colab-df-convert\" onclick=\"convertToInteractive('df-d8e03e6a-8427-408b-a677-d4e3e94a30f0')\"\n",
              "              title=\"Convert this dataframe to an interactive table.\"\n",
              "              style=\"display:none;\">\n",
              "        \n",
              "  <svg xmlns=\"http://www.w3.org/2000/svg\" height=\"24px\"viewBox=\"0 0 24 24\"\n",
              "       width=\"24px\">\n",
              "    <path d=\"M0 0h24v24H0V0z\" fill=\"none\"/>\n",
              "    <path d=\"M18.56 5.44l.94 2.06.94-2.06 2.06-.94-2.06-.94-.94-2.06-.94 2.06-2.06.94zm-11 1L8.5 8.5l.94-2.06 2.06-.94-2.06-.94L8.5 2.5l-.94 2.06-2.06.94zm10 10l.94 2.06.94-2.06 2.06-.94-2.06-.94-.94-2.06-.94 2.06-2.06.94z\"/><path d=\"M17.41 7.96l-1.37-1.37c-.4-.4-.92-.59-1.43-.59-.52 0-1.04.2-1.43.59L10.3 9.45l-7.72 7.72c-.78.78-.78 2.05 0 2.83L4 21.41c.39.39.9.59 1.41.59.51 0 1.02-.2 1.41-.59l7.78-7.78 2.81-2.81c.8-.78.8-2.07 0-2.86zM5.41 20L4 18.59l7.72-7.72 1.47 1.35L5.41 20z\"/>\n",
              "  </svg>\n",
              "      </button>\n",
              "      \n",
              "  <style>\n",
              "    .colab-df-container {\n",
              "      display:flex;\n",
              "      flex-wrap:wrap;\n",
              "      gap: 12px;\n",
              "    }\n",
              "\n",
              "    .colab-df-convert {\n",
              "      background-color: #E8F0FE;\n",
              "      border: none;\n",
              "      border-radius: 50%;\n",
              "      cursor: pointer;\n",
              "      display: none;\n",
              "      fill: #1967D2;\n",
              "      height: 32px;\n",
              "      padding: 0 0 0 0;\n",
              "      width: 32px;\n",
              "    }\n",
              "\n",
              "    .colab-df-convert:hover {\n",
              "      background-color: #E2EBFA;\n",
              "      box-shadow: 0px 1px 2px rgba(60, 64, 67, 0.3), 0px 1px 3px 1px rgba(60, 64, 67, 0.15);\n",
              "      fill: #174EA6;\n",
              "    }\n",
              "\n",
              "    [theme=dark] .colab-df-convert {\n",
              "      background-color: #3B4455;\n",
              "      fill: #D2E3FC;\n",
              "    }\n",
              "\n",
              "    [theme=dark] .colab-df-convert:hover {\n",
              "      background-color: #434B5C;\n",
              "      box-shadow: 0px 1px 3px 1px rgba(0, 0, 0, 0.15);\n",
              "      filter: drop-shadow(0px 1px 2px rgba(0, 0, 0, 0.3));\n",
              "      fill: #FFFFFF;\n",
              "    }\n",
              "  </style>\n",
              "\n",
              "      <script>\n",
              "        const buttonEl =\n",
              "          document.querySelector('#df-d8e03e6a-8427-408b-a677-d4e3e94a30f0 button.colab-df-convert');\n",
              "        buttonEl.style.display =\n",
              "          google.colab.kernel.accessAllowed ? 'block' : 'none';\n",
              "\n",
              "        async function convertToInteractive(key) {\n",
              "          const element = document.querySelector('#df-d8e03e6a-8427-408b-a677-d4e3e94a30f0');\n",
              "          const dataTable =\n",
              "            await google.colab.kernel.invokeFunction('convertToInteractive',\n",
              "                                                     [key], {});\n",
              "          if (!dataTable) return;\n",
              "\n",
              "          const docLinkHtml = 'Like what you see? Visit the ' +\n",
              "            '<a target=\"_blank\" href=https://colab.research.google.com/notebooks/data_table.ipynb>data table notebook</a>'\n",
              "            + ' to learn more about interactive tables.';\n",
              "          element.innerHTML = '';\n",
              "          dataTable['output_type'] = 'display_data';\n",
              "          await google.colab.output.renderOutput(dataTable, element);\n",
              "          const docLink = document.createElement('div');\n",
              "          docLink.innerHTML = docLinkHtml;\n",
              "          element.appendChild(docLink);\n",
              "        }\n",
              "      </script>\n",
              "    </div>\n",
              "  </div>\n",
              "  "
            ]
          },
          "metadata": {},
          "execution_count": 6
        }
      ]
    },
    {
      "cell_type": "markdown",
      "source": [
        "There you go, you have successfully handled the scenario like a piece of cake. You can keep on adding more data (shopping details) and maintain monthly or yearly wise."
      ],
      "metadata": {
        "id": "e3PdcTwrhBzD"
      }
    },
    {
      "cell_type": "markdown",
      "source": [
        "\n",
        "Bonus\n",
        "Nifty tricks that you can perform on the existing DataFrame\n",
        "\n",
        "Shown below are some tips and tricks that you can perform or do in your free time. Because they are that easy to understand. Let me get into it."
      ],
      "metadata": {
        "id": "I_aRqL37hKPh"
      }
    },
    {
      "cell_type": "markdown",
      "source": [
        "Plotting a bar plot\n",
        "\n",
        "It’s always a good practice to plot the data for better readability. Now for plotting let us use the column Amount so that we know how much we have spent till now with the help of a plot. This can be done by using df.plot.bar() as shown below\n",
        "\n",
        "    Note: Always remember only numeric data can be plotted in Pandas\n"
      ],
      "metadata": {
        "id": "QY04-mZvhT9T"
      }
    },
    {
      "cell_type": "code",
      "source": [
        "df.plot.bar()"
      ],
      "metadata": {
        "colab": {
          "base_uri": "https://localhost:8080/",
          "height": 442
        },
        "id": "3X6Gg3lBgvBK",
        "outputId": "c76f497e-80ae-43f2-bd7d-e3efe500349f"
      },
      "execution_count": 7,
      "outputs": [
        {
          "output_type": "execute_result",
          "data": {
            "text/plain": [
              "<Axes: >"
            ]
          },
          "metadata": {},
          "execution_count": 7
        },
        {
          "output_type": "display_data",
          "data": {
            "text/plain": [
              "<Figure size 640x480 with 1 Axes>"
            ],
            "image/png": "[encoded data removed]"
          },
          "metadata": {}
        }
      ]
    },
    {
      "cell_type": "markdown",
      "source": [
        "Deleting an entire row/column\n",
        "\n",
        "Say suppose we need to delete the last row because there is a mistake in the entry so this can be performed as follows. Now to delete an entire row we need to use drop() in Pandas as shown below:"
      ],
      "metadata": {
        "id": "qwlnUj2BhfdZ"
      }
    },
    {
      "cell_type": "code",
      "source": [
        "\n",
        "df = df.drop([5])\n",
        "df"
      ],
      "metadata": {
        "colab": {
          "base_uri": "https://localhost:8080/",
          "height": 206
        },
        "id": "F8bp2R8QhXd1",
        "outputId": "7713449f-5d31-407b-dc99-af4f0521d777"
      },
      "execution_count": 8,
      "outputs": [
        {
          "output_type": "execute_result",
          "data": {
            "text/plain": [
              "     Date                Store Name Store Location  Amount\n",
              "0  1-9-20                   Walmart    Gordon Road   55.65\n",
              "1  3-9-20  Real Canadian Superstore  Albert Street   21.62\n",
              "2  3-9-20          Co-op Food Store  Albert Street    7.10\n",
              "3  6-9-20                    Sobeys  Quance Street   15.56\n",
              "4  9-9-20           M&M Food Market  Gordon Street    5.85"
            ],
            "text/html": [
              "\n",
              "  <div id=\"df-16f08e1f-3414-4b77-903d-90cf1ea7e71f\">\n",
              "    <div class=\"colab-df-container\">\n",
              "      <div>\n",
              "<style scoped>\n",
              "    .dataframe tbody tr th:only-of-type {\n",
              "        vertical-align: middle;\n",
              "    }\n",
              "\n",
              "    .dataframe tbody tr th {\n",
              "        vertical-align: top;\n",
              "    }\n",
              "\n",
              "    .dataframe thead th {\n",
              "        text-align: right;\n",
              "    }\n",
              "</style>\n",
              "<table border=\"1\" class=\"dataframe\">\n",
              "  <thead>\n",
              "    <tr style=\"text-align: right;\">\n",
              "      <th></th>\n",
              "      <th>Date</th>\n",
              "      <th>Store Name</th>\n",
              "      <th>Store Location</th>\n",
              "      <th>Amount</th>\n",
              "    </tr>\n",
              "  </thead>\n",
              "  <tbody>\n",
              "    <tr>\n",
              "      <th>0</th>\n",
              "      <td>1-9-20</td>\n",
              "      <td>Walmart</td>\n",
              "      <td>Gordon Road</td>\n",
              "      <td>55.65</td>\n",
              "    </tr>\n",
              "    <tr>\n",
              "      <th>1</th>\n",
              "      <td>3-9-20</td>\n",
              "      <td>Real Canadian Superstore</td>\n",
              "      <td>Albert Street</td>\n",
              "      <td>21.62</td>\n",
              "    </tr>\n",
              "    <tr>\n",
              "      <th>2</th>\n",
              "      <td>3-9-20</td>\n",
              "      <td>Co-op Food Store</td>\n",
              "      <td>Albert Street</td>\n",
              "      <td>7.10</td>\n",
              "    </tr>\n",
              "    <tr>\n",
              "      <th>3</th>\n",
              "      <td>6-9-20</td>\n",
              "      <td>Sobeys</td>\n",
              "      <td>Quance Street</td>\n",
              "      <td>15.56</td>\n",
              "    </tr>\n",
              "    <tr>\n",
              "      <th>4</th>\n",
              "      <td>9-9-20</td>\n",
              "      <td>M&amp;M Food Market</td>\n",
              "      <td>Gordon Street</td>\n",
              "      <td>5.85</td>\n",
              "    </tr>\n",
              "  </tbody>\n",
              "</table>\n",
              "</div>\n",
              "      <button class=\"colab-df-convert\" onclick=\"convertToInteractive('df-16f08e1f-3414-4b77-903d-90cf1ea7e71f')\"\n",
              "              title=\"Convert this dataframe to an interactive table.\"\n",
              "              style=\"display:none;\">\n",
              "        \n",
              "  <svg xmlns=\"http://www.w3.org/2000/svg\" height=\"24px\"viewBox=\"0 0 24 24\"\n",
              "       width=\"24px\">\n",
              "    <path d=\"M0 0h24v24H0V0z\" fill=\"none\"/>\n",
              "    <path d=\"M18.56 5.44l.94 2.06.94-2.06 2.06-.94-2.06-.94-.94-2.06-.94 2.06-2.06.94zm-11 1L8.5 8.5l.94-2.06 2.06-.94-2.06-.94L8.5 2.5l-.94 2.06-2.06.94zm10 10l.94 2.06.94-2.06 2.06-.94-2.06-.94-.94-2.06-.94 2.06-2.06.94z\"/><path d=\"M17.41 7.96l-1.37-1.37c-.4-.4-.92-.59-1.43-.59-.52 0-1.04.2-1.43.59L10.3 9.45l-7.72 7.72c-.78.78-.78 2.05 0 2.83L4 21.41c.39.39.9.59 1.41.59.51 0 1.02-.2 1.41-.59l7.78-7.78 2.81-2.81c.8-.78.8-2.07 0-2.86zM5.41 20L4 18.59l7.72-7.72 1.47 1.35L5.41 20z\"/>\n",
              "  </svg>\n",
              "      </button>\n",
              "      \n",
              "  <style>\n",
              "    .colab-df-container {\n",
              "      display:flex;\n",
              "      flex-wrap:wrap;\n",
              "      gap: 12px;\n",
              "    }\n",
              "\n",
              "    .colab-df-convert {\n",
              "      background-color: #E8F0FE;\n",
              "      border: none;\n",
              "      border-radius: 50%;\n",
              "      cursor: pointer;\n",
              "      display: none;\n",
              "      fill: #1967D2;\n",
              "      height: 32px;\n",
              "      padding: 0 0 0 0;\n",
              "      width: 32px;\n",
              "    }\n",
              "\n",
              "    .colab-df-convert:hover {\n",
              "      background-color: #E2EBFA;\n",
              "      box-shadow: 0px 1px 2px rgba(60, 64, 67, 0.3), 0px 1px 3px 1px rgba(60, 64, 67, 0.15);\n",
              "      fill: #174EA6;\n",
              "    }\n",
              "\n",
              "    [theme=dark] .colab-df-convert {\n",
              "      background-color: #3B4455;\n",
              "      fill: #D2E3FC;\n",
              "    }\n",
              "\n",
              "    [theme=dark] .colab-df-convert:hover {\n",
              "      background-color: #434B5C;\n",
              "      box-shadow: 0px 1px 3px 1px rgba(0, 0, 0, 0.15);\n",
              "      filter: drop-shadow(0px 1px 2px rgba(0, 0, 0, 0.3));\n",
              "      fill: #FFFFFF;\n",
              "    }\n",
              "  </style>\n",
              "\n",
              "      <script>\n",
              "        const buttonEl =\n",
              "          document.querySelector('#df-16f08e1f-3414-4b77-903d-90cf1ea7e71f button.colab-df-convert');\n",
              "        buttonEl.style.display =\n",
              "          google.colab.kernel.accessAllowed ? 'block' : 'none';\n",
              "\n",
              "        async function convertToInteractive(key) {\n",
              "          const element = document.querySelector('#df-16f08e1f-3414-4b77-903d-90cf1ea7e71f');\n",
              "          const dataTable =\n",
              "            await google.colab.kernel.invokeFunction('convertToInteractive',\n",
              "                                                     [key], {});\n",
              "          if (!dataTable) return;\n",
              "\n",
              "          const docLinkHtml = 'Like what you see? Visit the ' +\n",
              "            '<a target=\"_blank\" href=https://colab.research.google.com/notebooks/data_table.ipynb>data table notebook</a>'\n",
              "            + ' to learn more about interactive tables.';\n",
              "          element.innerHTML = '';\n",
              "          dataTable['output_type'] = 'display_data';\n",
              "          await google.colab.output.renderOutput(dataTable, element);\n",
              "          const docLink = document.createElement('div');\n",
              "          docLink.innerHTML = docLinkHtml;\n",
              "          element.appendChild(docLink);\n",
              "        }\n",
              "      </script>\n",
              "    </div>\n",
              "  </div>\n",
              "  "
            ]
          },
          "metadata": {},
          "execution_count": 8
        }
      ]
    },
    {
      "cell_type": "markdown",
      "source": [
        "\n",
        "\n",
        "    Note: Here the value 5 is the index value of the last row\n",
        "\n",
        "Deleting the column is like that of a row all you have to do is pass the column names to delete in this case like df.drop([column_name, axis = 1]) the axis = 1 is important here. Say suppose you need to delete the column Amount in the DataFrame then all you need to say is:\n"
      ],
      "metadata": {
        "id": "6az4N4r2h1CB"
      }
    },
    {
      "cell_type": "code",
      "source": [
        "df = df.drop(['Amount'], axis = 1)\n",
        "df"
      ],
      "metadata": {
        "colab": {
          "base_uri": "https://localhost:8080/",
          "height": 206
        },
        "id": "sfL2-OPNhiLf",
        "outputId": "b7c06bf1-20f8-4525-a87e-4198c68f6fb4"
      },
      "execution_count": 9,
      "outputs": [
        {
          "output_type": "execute_result",
          "data": {
            "text/plain": [
              "     Date                Store Name Store Location\n",
              "0  1-9-20                   Walmart    Gordon Road\n",
              "1  3-9-20  Real Canadian Superstore  Albert Street\n",
              "2  3-9-20          Co-op Food Store  Albert Street\n",
              "3  6-9-20                    Sobeys  Quance Street\n",
              "4  9-9-20           M&M Food Market  Gordon Street"
            ],
            "text/html": [
              "\n",
              "  <div id=\"df-0d4fcac3-35a0-4d3e-8293-2ff0db8fa75c\">\n",
              "    <div class=\"colab-df-container\">\n",
              "      <div>\n",
              "<style scoped>\n",
              "    .dataframe tbody tr th:only-of-type {\n",
              "        vertical-align: middle;\n",
              "    }\n",
              "\n",
              "    .dataframe tbody tr th {\n",
              "        vertical-align: top;\n",
              "    }\n",
              "\n",
              "    .dataframe thead th {\n",
              "        text-align: right;\n",
              "    }\n",
              "</style>\n",
              "<table border=\"1\" class=\"dataframe\">\n",
              "  <thead>\n",
              "    <tr style=\"text-align: right;\">\n",
              "      <th></th>\n",
              "      <th>Date</th>\n",
              "      <th>Store Name</th>\n",
              "      <th>Store Location</th>\n",
              "    </tr>\n",
              "  </thead>\n",
              "  <tbody>\n",
              "    <tr>\n",
              "      <th>0</th>\n",
              "      <td>1-9-20</td>\n",
              "      <td>Walmart</td>\n",
              "      <td>Gordon Road</td>\n",
              "    </tr>\n",
              "    <tr>\n",
              "      <th>1</th>\n",
              "      <td>3-9-20</td>\n",
              "      <td>Real Canadian Superstore</td>\n",
              "      <td>Albert Street</td>\n",
              "    </tr>\n",
              "    <tr>\n",
              "      <th>2</th>\n",
              "      <td>3-9-20</td>\n",
              "      <td>Co-op Food Store</td>\n",
              "      <td>Albert Street</td>\n",
              "    </tr>\n",
              "    <tr>\n",
              "      <th>3</th>\n",
              "      <td>6-9-20</td>\n",
              "      <td>Sobeys</td>\n",
              "      <td>Quance Street</td>\n",
              "    </tr>\n",
              "    <tr>\n",
              "      <th>4</th>\n",
              "      <td>9-9-20</td>\n",
              "      <td>M&amp;M Food Market</td>\n",
              "      <td>Gordon Street</td>\n",
              "    </tr>\n",
              "  </tbody>\n",
              "</table>\n",
              "</div>\n",
              "      <button class=\"colab-df-convert\" onclick=\"convertToInteractive('df-0d4fcac3-35a0-4d3e-8293-2ff0db8fa75c')\"\n",
              "              title=\"Convert this dataframe to an interactive table.\"\n",
              "              style=\"display:none;\">\n",
              "        \n",
              "  <svg xmlns=\"http://www.w3.org/2000/svg\" height=\"24px\"viewBox=\"0 0 24 24\"\n",
              "       width=\"24px\">\n",
              "    <path d=\"M0 0h24v24H0V0z\" fill=\"none\"/>\n",
              "    <path d=\"M18.56 5.44l.94 2.06.94-2.06 2.06-.94-2.06-.94-.94-2.06-.94 2.06-2.06.94zm-11 1L8.5 8.5l.94-2.06 2.06-.94-2.06-.94L8.5 2.5l-.94 2.06-2.06.94zm10 10l.94 2.06.94-2.06 2.06-.94-2.06-.94-.94-2.06-.94 2.06-2.06.94z\"/><path d=\"M17.41 7.96l-1.37-1.37c-.4-.4-.92-.59-1.43-.59-.52 0-1.04.2-1.43.59L10.3 9.45l-7.72 7.72c-.78.78-.78 2.05 0 2.83L4 21.41c.39.39.9.59 1.41.59.51 0 1.02-.2 1.41-.59l7.78-7.78 2.81-2.81c.8-.78.8-2.07 0-2.86zM5.41 20L4 18.59l7.72-7.72 1.47 1.35L5.41 20z\"/>\n",
              "  </svg>\n",
              "      </button>\n",
              "      \n",
              "  <style>\n",
              "    .colab-df-container {\n",
              "      display:flex;\n",
              "      flex-wrap:wrap;\n",
              "      gap: 12px;\n",
              "    }\n",
              "\n",
              "    .colab-df-convert {\n",
              "      background-color: #E8F0FE;\n",
              "      border: none;\n",
              "      border-radius: 50%;\n",
              "      cursor: pointer;\n",
              "      display: none;\n",
              "      fill: #1967D2;\n",
              "      height: 32px;\n",
              "      padding: 0 0 0 0;\n",
              "      width: 32px;\n",
              "    }\n",
              "\n",
              "    .colab-df-convert:hover {\n",
              "      background-color: #E2EBFA;\n",
              "      box-shadow: 0px 1px 2px rgba(60, 64, 67, 0.3), 0px 1px 3px 1px rgba(60, 64, 67, 0.15);\n",
              "      fill: #174EA6;\n",
              "    }\n",
              "\n",
              "    [theme=dark] .colab-df-convert {\n",
              "      background-color: #3B4455;\n",
              "      fill: #D2E3FC;\n",
              "    }\n",
              "\n",
              "    [theme=dark] .colab-df-convert:hover {\n",
              "      background-color: #434B5C;\n",
              "      box-shadow: 0px 1px 3px 1px rgba(0, 0, 0, 0.15);\n",
              "      filter: drop-shadow(0px 1px 2px rgba(0, 0, 0, 0.3));\n",
              "      fill: #FFFFFF;\n",
              "    }\n",
              "  </style>\n",
              "\n",
              "      <script>\n",
              "        const buttonEl =\n",
              "          document.querySelector('#df-0d4fcac3-35a0-4d3e-8293-2ff0db8fa75c button.colab-df-convert');\n",
              "        buttonEl.style.display =\n",
              "          google.colab.kernel.accessAllowed ? 'block' : 'none';\n",
              "\n",
              "        async function convertToInteractive(key) {\n",
              "          const element = document.querySelector('#df-0d4fcac3-35a0-4d3e-8293-2ff0db8fa75c');\n",
              "          const dataTable =\n",
              "            await google.colab.kernel.invokeFunction('convertToInteractive',\n",
              "                                                     [key], {});\n",
              "          if (!dataTable) return;\n",
              "\n",
              "          const docLinkHtml = 'Like what you see? Visit the ' +\n",
              "            '<a target=\"_blank\" href=https://colab.research.google.com/notebooks/data_table.ipynb>data table notebook</a>'\n",
              "            + ' to learn more about interactive tables.';\n",
              "          element.innerHTML = '';\n",
              "          dataTable['output_type'] = 'display_data';\n",
              "          await google.colab.output.renderOutput(dataTable, element);\n",
              "          const docLink = document.createElement('div');\n",
              "          docLink.innerHTML = docLinkHtml;\n",
              "          element.appendChild(docLink);\n",
              "        }\n",
              "      </script>\n",
              "    </div>\n",
              "  </div>\n",
              "  "
            ]
          },
          "metadata": {},
          "execution_count": 9
        }
      ]
    },
    {
      "cell_type": "markdown",
      "source": [
        "By executing this you can now see that the column Amount has now been dropped."
      ],
      "metadata": {
        "id": "KXam6k7uh7mq"
      }
    },
    {
      "cell_type": "markdown",
      "source": [
        "Modifying specific entries\n",
        "\n",
        "Suppose we need to update a specific entry in the DataFrame, in this case, the 4th index with the store name M&M Food Market has a mistake in its store Location (wrong entry) Gordon Street, we need to correct it to Gordon Road. To do this just use:"
      ],
      "metadata": {
        "id": "vYlEHmMxiHUD"
      }
    },
    {
      "cell_type": "code",
      "source": [
        "df['Store Location'][4] = \"Gordon Road\"\n",
        "df"
      ],
      "metadata": {
        "colab": {
          "base_uri": "https://localhost:8080/",
          "height": 206
        },
        "id": "mvRzTR5Nh3pz",
        "outputId": "01c53aa1-7b72-4608-9d56-fe11dbc42055"
      },
      "execution_count": 10,
      "outputs": [
        {
          "output_type": "execute_result",
          "data": {
            "text/plain": [
              "     Date                Store Name Store Location\n",
              "0  1-9-20                   Walmart    Gordon Road\n",
              "1  3-9-20  Real Canadian Superstore  Albert Street\n",
              "2  3-9-20          Co-op Food Store  Albert Street\n",
              "3  6-9-20                    Sobeys  Quance Street\n",
              "4  9-9-20           M&M Food Market    Gordon Road"
            ],
            "text/html": [
              "\n",
              "  <div id=\"df-7ed1a281-1048-4325-b0ba-b5d19bb0ffda\">\n",
              "    <div class=\"colab-df-container\">\n",
              "      <div>\n",
              "<style scoped>\n",
              "    .dataframe tbody tr th:only-of-type {\n",
              "        vertical-align: middle;\n",
              "    }\n",
              "\n",
              "    .dataframe tbody tr th {\n",
              "        vertical-align: top;\n",
              "    }\n",
              "\n",
              "    .dataframe thead th {\n",
              "        text-align: right;\n",
              "    }\n",
              "</style>\n",
              "<table border=\"1\" class=\"dataframe\">\n",
              "  <thead>\n",
              "    <tr style=\"text-align: right;\">\n",
              "      <th></th>\n",
              "      <th>Date</th>\n",
              "      <th>Store Name</th>\n",
              "      <th>Store Location</th>\n",
              "    </tr>\n",
              "  </thead>\n",
              "  <tbody>\n",
              "    <tr>\n",
              "      <th>0</th>\n",
              "      <td>1-9-20</td>\n",
              "      <td>Walmart</td>\n",
              "      <td>Gordon Road</td>\n",
              "    </tr>\n",
              "    <tr>\n",
              "      <th>1</th>\n",
              "      <td>3-9-20</td>\n",
              "      <td>Real Canadian Superstore</td>\n",
              "      <td>Albert Street</td>\n",
              "    </tr>\n",
              "    <tr>\n",
              "      <th>2</th>\n",
              "      <td>3-9-20</td>\n",
              "      <td>Co-op Food Store</td>\n",
              "      <td>Albert Street</td>\n",
              "    </tr>\n",
              "    <tr>\n",
              "      <th>3</th>\n",
              "      <td>6-9-20</td>\n",
              "      <td>Sobeys</td>\n",
              "      <td>Quance Street</td>\n",
              "    </tr>\n",
              "    <tr>\n",
              "      <th>4</th>\n",
              "      <td>9-9-20</td>\n",
              "      <td>M&amp;M Food Market</td>\n",
              "      <td>Gordon Road</td>\n",
              "    </tr>\n",
              "  </tbody>\n",
              "</table>\n",
              "</div>\n",
              "      <button class=\"colab-df-convert\" onclick=\"convertToInteractive('df-7ed1a281-1048-4325-b0ba-b5d19bb0ffda')\"\n",
              "              title=\"Convert this dataframe to an interactive table.\"\n",
              "              style=\"display:none;\">\n",
              "        \n",
              "  <svg xmlns=\"http://www.w3.org/2000/svg\" height=\"24px\"viewBox=\"0 0 24 24\"\n",
              "       width=\"24px\">\n",
              "    <path d=\"M0 0h24v24H0V0z\" fill=\"none\"/>\n",
              "    <path d=\"M18.56 5.44l.94 2.06.94-2.06 2.06-.94-2.06-.94-.94-2.06-.94 2.06-2.06.94zm-11 1L8.5 8.5l.94-2.06 2.06-.94-2.06-.94L8.5 2.5l-.94 2.06-2.06.94zm10 10l.94 2.06.94-2.06 2.06-.94-2.06-.94-.94-2.06-.94 2.06-2.06.94z\"/><path d=\"M17.41 7.96l-1.37-1.37c-.4-.4-.92-.59-1.43-.59-.52 0-1.04.2-1.43.59L10.3 9.45l-7.72 7.72c-.78.78-.78 2.05 0 2.83L4 21.41c.39.39.9.59 1.41.59.51 0 1.02-.2 1.41-.59l7.78-7.78 2.81-2.81c.8-.78.8-2.07 0-2.86zM5.41 20L4 18.59l7.72-7.72 1.47 1.35L5.41 20z\"/>\n",
              "  </svg>\n",
              "      </button>\n",
              "      \n",
              "  <style>\n",
              "    .colab-df-container {\n",
              "      display:flex;\n",
              "      flex-wrap:wrap;\n",
              "      gap: 12px;\n",
              "    }\n",
              "\n",
              "    .colab-df-convert {\n",
              "      background-color: #E8F0FE;\n",
              "      border: none;\n",
              "      border-radius: 50%;\n",
              "      cursor: pointer;\n",
              "      display: none;\n",
              "      fill: #1967D2;\n",
              "      height: 32px;\n",
              "      padding: 0 0 0 0;\n",
              "      width: 32px;\n",
              "    }\n",
              "\n",
              "    .colab-df-convert:hover {\n",
              "      background-color: #E2EBFA;\n",
              "      box-shadow: 0px 1px 2px rgba(60, 64, 67, 0.3), 0px 1px 3px 1px rgba(60, 64, 67, 0.15);\n",
              "      fill: #174EA6;\n",
              "    }\n",
              "\n",
              "    [theme=dark] .colab-df-convert {\n",
              "      background-color: #3B4455;\n",
              "      fill: #D2E3FC;\n",
              "    }\n",
              "\n",
              "    [theme=dark] .colab-df-convert:hover {\n",
              "      background-color: #434B5C;\n",
              "      box-shadow: 0px 1px 3px 1px rgba(0, 0, 0, 0.15);\n",
              "      filter: drop-shadow(0px 1px 2px rgba(0, 0, 0, 0.3));\n",
              "      fill: #FFFFFF;\n",
              "    }\n",
              "  </style>\n",
              "\n",
              "      <script>\n",
              "        const buttonEl =\n",
              "          document.querySelector('#df-7ed1a281-1048-4325-b0ba-b5d19bb0ffda button.colab-df-convert');\n",
              "        buttonEl.style.display =\n",
              "          google.colab.kernel.accessAllowed ? 'block' : 'none';\n",
              "\n",
              "        async function convertToInteractive(key) {\n",
              "          const element = document.querySelector('#df-7ed1a281-1048-4325-b0ba-b5d19bb0ffda');\n",
              "          const dataTable =\n",
              "            await google.colab.kernel.invokeFunction('convertToInteractive',\n",
              "                                                     [key], {});\n",
              "          if (!dataTable) return;\n",
              "\n",
              "          const docLinkHtml = 'Like what you see? Visit the ' +\n",
              "            '<a target=\"_blank\" href=https://colab.research.google.com/notebooks/data_table.ipynb>data table notebook</a>'\n",
              "            + ' to learn more about interactive tables.';\n",
              "          element.innerHTML = '';\n",
              "          dataTable['output_type'] = 'display_data';\n",
              "          await google.colab.output.renderOutput(dataTable, element);\n",
              "          const docLink = document.createElement('div');\n",
              "          docLink.innerHTML = docLinkHtml;\n",
              "          element.appendChild(docLink);\n",
              "        }\n",
              "      </script>\n",
              "    </div>\n",
              "  </div>\n",
              "  "
            ]
          },
          "metadata": {},
          "execution_count": 10
        }
      ]
    },
    {
      "cell_type": "markdown",
      "source": [
        "We need to know the index of the particular entry to update the entry, so after executing the above we get the updated result"
      ],
      "metadata": {
        "id": "4lPOCCyTiPQ0"
      }
    },
    {
      "cell_type": "markdown",
      "source": [
        "\n",
        "Conclusion\n",
        "\n",
        "Well, congratulations guys you have successfully completed reading/implementing this beautiful article “Using the Pandas DataFrame in Day-To-Day Life”. Now, this is not the end, there are many other methods or functions of DataFrame that we can use and take it to next level. I have only covered only the basics here. If you guys find something new or creative, then comment it down below. I hope you guys have learned something new today. Stay tuned for more updates, until then see you next time. Bye Have a good day and stay safe!"
      ],
      "metadata": {
        "id": "OWtG64HTiaoJ"
      }
    },
    {
      "cell_type": "code",
      "source": [],
      "metadata": {
        "id": "yWe7elz-iK6O"
      },
      "execution_count": null,
      "outputs": []
    }
  ]
}