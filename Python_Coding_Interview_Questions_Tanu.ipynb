{
  "nbformat": 4,
  "nbformat_minor": 0,
  "metadata": {
    "colab": {
      "provenance": []
    },
    "kernelspec": {
      "name": "python3",
      "display_name": "Python 3"
    },
    "language_info": {
      "name": "python"
    }
  },
  "cells": [
    {
      "cell_type": "markdown",
      "source": [
        "Python Coding Interview Questions\n",
        "\n",
        "https://github.com/Tanu-N-Prabhu/Python/blob/master/Python%20Coding%20Interview%20Prep/Python%20Coding%20Interview%20Questions%20(Beginner%20to%20Advanced).md"
      ],
      "metadata": {
        "id": "JsWLqYbplGV-"
      }
    },
    {
      "cell_type": "markdown",
      "source": [
        "1. Converting an Integer into Decimals"
      ],
      "metadata": {
        "id": "hFPSNAAvlQ0d"
      }
    },
    {
      "cell_type": "code",
      "execution_count": 2,
      "metadata": {
        "colab": {
          "base_uri": "https://localhost:8080/"
        },
        "id": "9JUaP8Vwk1yx",
        "outputId": "79fe3015-eb71-4e3c-fd2f-c703d897d341"
      },
      "outputs": [
        {
          "output_type": "stream",
          "name": "stdout",
          "text": [
            "10\n",
            "<class 'decimal.Decimal'>\n"
          ]
        }
      ],
      "source": [
        "import decimal\n",
        "integer = 10\n",
        "print(decimal.Decimal(integer))\n",
        "print(type(decimal.Decimal(integer)))\n"
      ]
    },
    {
      "cell_type": "markdown",
      "source": [
        "2. Converting an String of Integers into Decimals"
      ],
      "metadata": {
        "id": "_E7-MNZ4llir"
      }
    },
    {
      "cell_type": "code",
      "source": [
        "import decimal\n",
        "string = '12345'\n",
        "print(decimal.Decimal(string))\n",
        "print(type(decimal.Decimal(string)))"
      ],
      "metadata": {
        "colab": {
          "base_uri": "https://localhost:8080/"
        },
        "id": "yl1mx9yrlXY5",
        "outputId": "b42d4435-83de-4756-d16f-bb5e40676d21"
      },
      "execution_count": 3,
      "outputs": [
        {
          "output_type": "stream",
          "name": "stdout",
          "text": [
            "12345\n",
            "<class 'decimal.Decimal'>\n"
          ]
        }
      ]
    },
    {
      "cell_type": "markdown",
      "source": [
        "3. Reversing a String using an Extended Slicing Technique"
      ],
      "metadata": {
        "id": "b37nb3mxlvl5"
      }
    },
    {
      "cell_type": "code",
      "source": [
        "string = \"Python Programming\"\n",
        "print(string[::-1])"
      ],
      "metadata": {
        "colab": {
          "base_uri": "https://localhost:8080/"
        },
        "id": "tLauTeqAlqZp",
        "outputId": "7e9211d3-30be-41df-ae3c-6b517f8b4738"
      },
      "execution_count": 4,
      "outputs": [
        {
          "output_type": "stream",
          "name": "stdout",
          "text": [
            "gnimmargorP nohtyP\n"
          ]
        }
      ]
    },
    {
      "cell_type": "markdown",
      "source": [
        "4. Counting Vowels in a Given Word"
      ],
      "metadata": {
        "id": "uA9lY1E4l5mM"
      }
    },
    {
      "cell_type": "code",
      "source": [
        "vowel = ['a', 'e', 'i', 'o', 'u']\n",
        "word = \"programming\"\n",
        "count = 0\n",
        "for character in word:\n",
        "    if character in vowel:\n",
        "        count += 1\n",
        "print(count)"
      ],
      "metadata": {
        "colab": {
          "base_uri": "https://localhost:8080/"
        },
        "id": "Wm-zMVUXlz8b",
        "outputId": "d6505756-3132-400e-934c-d1ae4710b543"
      },
      "execution_count": 5,
      "outputs": [
        {
          "output_type": "stream",
          "name": "stdout",
          "text": [
            "3\n"
          ]
        }
      ]
    },
    {
      "cell_type": "markdown",
      "source": [
        "5.Counting Consonants in a Given Word"
      ],
      "metadata": {
        "id": "M6iABOc4mKr8"
      }
    },
    {
      "cell_type": "code",
      "source": [
        "vowel = ['a', 'e', 'i', 'o', 'u']\n",
        "word = \"programming\"\n",
        "count = 0\n",
        "for character in word:\n",
        "    if character not in vowel:\n",
        "        count += 1\n",
        "print(count)"
      ],
      "metadata": {
        "colab": {
          "base_uri": "https://localhost:8080/"
        },
        "id": "YUHEdfrAmE1C",
        "outputId": "2a33801e-e2dc-448d-e853-f97428ad3388"
      },
      "execution_count": 6,
      "outputs": [
        {
          "output_type": "stream",
          "name": "stdout",
          "text": [
            "8\n"
          ]
        }
      ]
    },
    {
      "cell_type": "markdown",
      "source": [
        "6. Counting the Number of Occurances of a Character in a String"
      ],
      "metadata": {
        "id": "zzdnkOQLmbD2"
      }
    },
    {
      "cell_type": "code",
      "source": [
        "word = \"python\"\n",
        "character = \"p\"\n",
        "count = 0\n",
        "for letter in word:\n",
        "    if letter == character:\n",
        "        count += 1\n",
        "print(count)"
      ],
      "metadata": {
        "colab": {
          "base_uri": "https://localhost:8080/"
        },
        "id": "H6ylFMjamVPG",
        "outputId": "ce5ecc09-cb25-4a65-bba9-5d814c8d08a3"
      },
      "execution_count": 7,
      "outputs": [
        {
          "output_type": "stream",
          "name": "stdout",
          "text": [
            "1\n"
          ]
        }
      ]
    },
    {
      "cell_type": "markdown",
      "source": [
        "7. Writing Fibonacci Series"
      ],
      "metadata": {
        "id": "ksLnxNm1mq4J"
      }
    },
    {
      "cell_type": "code",
      "source": [
        "fib = [0,1]\n",
        "# Range starts from 0 by default\n",
        "for i in range(5):  \n",
        "    fib.append(fib[-1] + fib[-2]) \n",
        "\n",
        "# Converting the list of integers to string\n",
        "print(', '.join(str(e) for e in fib))"
      ],
      "metadata": {
        "colab": {
          "base_uri": "https://localhost:8080/"
        },
        "id": "GKRzfd07mj_U",
        "outputId": "21ff43a8-78d1-448d-9ce9-429c9f348f4d"
      },
      "execution_count": 8,
      "outputs": [
        {
          "output_type": "stream",
          "name": "stdout",
          "text": [
            "0, 1, 1, 2, 3, 5, 8\n"
          ]
        }
      ]
    },
    {
      "cell_type": "markdown",
      "source": [
        "8. Finding the Maximum Number in a List"
      ],
      "metadata": {
        "id": "Vbgz0Iokm_ot"
      }
    },
    {
      "cell_type": "code",
      "source": [
        "numberList = [15, 85, 35, 89, 125]\n",
        "\n",
        "maxNum = numberList[0]\n",
        "for num in numberList:\n",
        "    if maxNum < num:\n",
        "        maxNum = num\n",
        "print(maxNum)"
      ],
      "metadata": {
        "colab": {
          "base_uri": "https://localhost:8080/"
        },
        "id": "waiTawHLmzzk",
        "outputId": "f3b34839-8b42-40e9-f868-9a3625ebecb1"
      },
      "execution_count": 9,
      "outputs": [
        {
          "output_type": "stream",
          "name": "stdout",
          "text": [
            "125\n"
          ]
        }
      ]
    },
    {
      "cell_type": "markdown",
      "source": [
        "9. Finding the Minimum Number in a List"
      ],
      "metadata": {
        "id": "aSWU9M4GnMes"
      }
    },
    {
      "cell_type": "code",
      "source": [
        "numberList = [15, 85, 35, 89, 125, 2]\n",
        "\n",
        "minNum = numberList[0]\n",
        "for num in numberList:\n",
        "    if minNum > num:\n",
        "        minNum = num\n",
        "print(minNum)"
      ],
      "metadata": {
        "colab": {
          "base_uri": "https://localhost:8080/"
        },
        "id": "Su2dYmfsnIDh",
        "outputId": "17b199f1-9172-494f-a18b-d94dd5d88b6c"
      },
      "execution_count": 10,
      "outputs": [
        {
          "output_type": "stream",
          "name": "stdout",
          "text": [
            "2\n"
          ]
        }
      ]
    },
    {
      "cell_type": "markdown",
      "source": [
        "10. Finding the Middle Element in a List"
      ],
      "metadata": {
        "id": "Zqj-_klCnUP8"
      }
    },
    {
      "cell_type": "code",
      "source": [
        "numList = [1, 2, 3, 4, 5]\n",
        "midElement = int((len(numList)/2)) \n",
        "\n",
        "print(numList[midElement])"
      ],
      "metadata": {
        "colab": {
          "base_uri": "https://localhost:8080/"
        },
        "id": "2ZRBv1qUnP1x",
        "outputId": "61964988-87d4-4c45-b6c3-97cca44a4435"
      },
      "execution_count": 14,
      "outputs": [
        {
          "output_type": "stream",
          "name": "stdout",
          "text": [
            "3\n"
          ]
        }
      ]
    },
    {
      "cell_type": "markdown",
      "source": [
        "11. Converting a List into a String"
      ],
      "metadata": {
        "id": "HvhijuiYnjbi"
      }
    },
    {
      "cell_type": "code",
      "source": [
        "lst = [\"P\", \"Y\", \"T\", \"H\", \"O\", \"N\"]\n",
        "string = ''.join(lst)\n",
        "\n",
        "print(string)\n",
        "print(type(string))"
      ],
      "metadata": {
        "colab": {
          "base_uri": "https://localhost:8080/"
        },
        "id": "GfEKi4v3nYRB",
        "outputId": "83b9b458-c981-4ad4-b418-1f1903361e59"
      },
      "execution_count": 15,
      "outputs": [
        {
          "output_type": "stream",
          "name": "stdout",
          "text": [
            "PYTHON\n",
            "<class 'str'>\n"
          ]
        }
      ]
    },
    {
      "cell_type": "markdown",
      "source": [
        "12. Adding Two List Elements Together"
      ],
      "metadata": {
        "id": "ltRbwqRvns_8"
      }
    },
    {
      "cell_type": "code",
      "source": [
        "lst1 = [1, 2, 3]\n",
        "lst2 = [4, 5, 6] \n",
        "\n",
        "res_lst = [] \n",
        "for i in range(0, len(lst1)):\n",
        "    res_lst.append(lst1[i] + lst2[i]) \n",
        "print(res_lst)"
      ],
      "metadata": {
        "colab": {
          "base_uri": "https://localhost:8080/"
        },
        "id": "ZosWU6kRnoVh",
        "outputId": "f0dd0e6f-c4a1-4ec8-9253-785ebc751b72"
      },
      "execution_count": 16,
      "outputs": [
        {
          "output_type": "stream",
          "name": "stdout",
          "text": [
            "[5, 7, 9]\n"
          ]
        }
      ]
    },
    {
      "cell_type": "markdown",
      "source": [
        "13. Comparing Two Strings for Anagrams"
      ],
      "metadata": {
        "id": "zn1_RmGBn4Ls"
      }
    },
    {
      "cell_type": "code",
      "source": [
        "str1 = \"Listen\"\n",
        "str2 = \"Silent\"\n",
        "\n",
        "str1 = list(str1.upper())\n",
        "str2 = list(str2.upper())\n",
        "str1.sort(), str2.sort()\n",
        "\n",
        "if(str1 == str2):\n",
        "    print(\"True\")\n",
        "else:\n",
        "    print(\"False\")"
      ],
      "metadata": {
        "colab": {
          "base_uri": "https://localhost:8080/"
        },
        "id": "V928PsnAnzTt",
        "outputId": "cb480160-1fd7-4ee6-e4eb-460c91874336"
      },
      "execution_count": 17,
      "outputs": [
        {
          "output_type": "stream",
          "name": "stdout",
          "text": [
            "True\n"
          ]
        }
      ]
    },
    {
      "cell_type": "markdown",
      "source": [
        "14. Checking for Palindrome Using Extended Slicing Technique"
      ],
      "metadata": {
        "id": "8pcorBadoFaV"
      }
    },
    {
      "cell_type": "code",
      "source": [
        "str1 = \"Kayak\".lower()\n",
        "str2 = \"kayak\".lower()\n",
        "\n",
        "if(str1 == str2[::-1]):\n",
        "    print(\"True\")\n",
        "else:\n",
        "    print(\"False\")"
      ],
      "metadata": {
        "colab": {
          "base_uri": "https://localhost:8080/"
        },
        "id": "B0I4U_VyoAoN",
        "outputId": "d33753f3-cbd7-4914-aa8a-0e7a2e7a297a"
      },
      "execution_count": 18,
      "outputs": [
        {
          "output_type": "stream",
          "name": "stdout",
          "text": [
            "True\n"
          ]
        }
      ]
    },
    {
      "cell_type": "markdown",
      "source": [
        "15. Counting the White Spaces in a String"
      ],
      "metadata": {
        "id": "uQuK0OqyoQnw"
      }
    },
    {
      "cell_type": "code",
      "source": [
        "string = \"P r ogramm in g \"\n",
        "print(string.count(' '))"
      ],
      "metadata": {
        "colab": {
          "base_uri": "https://localhost:8080/"
        },
        "id": "uvTP59xSoKj8",
        "outputId": "836b688d-24dd-41c6-e04e-c3df01af07fd"
      },
      "execution_count": 19,
      "outputs": [
        {
          "output_type": "stream",
          "name": "stdout",
          "text": [
            "5\n"
          ]
        }
      ]
    },
    {
      "cell_type": "markdown",
      "source": [
        "16. Counting Digits, Letters, and Spaces in a String"
      ],
      "metadata": {
        "id": "OkjMvAo4oZCG"
      }
    },
    {
      "cell_type": "code",
      "source": [
        "# Importing Regular Expressions Library\n",
        "import re\n",
        "\n",
        "name = 'Python is 1'\n",
        "\n",
        "digitCount = re.sub(\"[^0-9]\", \"\", name)\n",
        "letterCount = re.sub(\"[^a-zA-Z]\", \"\", name)\n",
        "spaceCount = re.findall(\"[ \\n]\", name)\n",
        "\n",
        "print(len(digitCount))\n",
        "print(len(letterCount))\n",
        "print(len(spaceCount))"
      ],
      "metadata": {
        "colab": {
          "base_uri": "https://localhost:8080/"
        },
        "id": "VCL8qowUoUFt",
        "outputId": "a9abe9b7-aca7-4810-91df-736de21d4390"
      },
      "execution_count": 20,
      "outputs": [
        {
          "output_type": "stream",
          "name": "stdout",
          "text": [
            "1\n",
            "8\n",
            "2\n"
          ]
        }
      ]
    },
    {
      "cell_type": "markdown",
      "source": [
        "17. Counting Special Characters in a String"
      ],
      "metadata": {
        "id": "qitgwMqPojEB"
      }
    },
    {
      "cell_type": "code",
      "source": [
        "# Importing Regular Expressions Library\n",
        "import re\n",
        "spChar = \"!@#$%^&*()\"\n",
        "\n",
        "count = re.sub('[\\w]+', '', spChar)\n",
        "print(len(count))"
      ],
      "metadata": {
        "colab": {
          "base_uri": "https://localhost:8080/"
        },
        "id": "dIw2g0U2oeoR",
        "outputId": "42f56b06-706e-4403-86e6-a6a834d1b084"
      },
      "execution_count": 21,
      "outputs": [
        {
          "output_type": "stream",
          "name": "stdout",
          "text": [
            "10\n"
          ]
        }
      ]
    },
    {
      "cell_type": "markdown",
      "source": [
        "18. Removing All Whitespace in a String"
      ],
      "metadata": {
        "id": "y_lK86HKosBM"
      }
    },
    {
      "cell_type": "code",
      "source": [
        "import re\n",
        "\n",
        "string = \"C O D E\"\n",
        "spaces = re.compile(r'\\s+')\n",
        "result = re.sub(spaces, '', string)\n",
        "print(result)"
      ],
      "metadata": {
        "colab": {
          "base_uri": "https://localhost:8080/"
        },
        "id": "JhqzGcvoonqw",
        "outputId": "3cc9bd4c-f168-44ec-e885-a2ca13ca92aa"
      },
      "execution_count": 22,
      "outputs": [
        {
          "output_type": "stream",
          "name": "stdout",
          "text": [
            "CODE\n"
          ]
        }
      ]
    },
    {
      "cell_type": "markdown",
      "source": [
        "19. Building a Pyramid in Python"
      ],
      "metadata": {
        "id": "tlzpXyroo24L"
      }
    },
    {
      "cell_type": "code",
      "source": [
        "floors = 3\n",
        "h = 2*floors-1\n",
        "for i in range(1, 2*floors, 2):\n",
        "    print('{:^{}}'.format('*'*i, h))"
      ],
      "metadata": {
        "colab": {
          "base_uri": "https://localhost:8080/"
        },
        "id": "aunYhegwoyNk",
        "outputId": "789ad732-82a6-42bb-ee98-bccb72d758f0"
      },
      "execution_count": 23,
      "outputs": [
        {
          "output_type": "stream",
          "name": "stdout",
          "text": [
            "  *  \n",
            " *** \n",
            "*****\n"
          ]
        }
      ]
    },
    {
      "cell_type": "markdown",
      "source": [
        "20. Randomizing the Items of a List in Python"
      ],
      "metadata": {
        "id": "X3nxSid0pBfw"
      }
    },
    {
      "cell_type": "code",
      "source": [
        "from random import shuffle\n",
        "\n",
        "lst = ['Python', 'is', 'Easy']\n",
        "shuffle(lst)\n",
        "print(lst)"
      ],
      "metadata": {
        "colab": {
          "base_uri": "https://localhost:8080/"
        },
        "id": "1ZS2NOsOo78l",
        "outputId": "b3435a84-bdef-45c3-b0ab-8e7da3617eb2"
      },
      "execution_count": 24,
      "outputs": [
        {
          "output_type": "stream",
          "name": "stdout",
          "text": [
            "['Easy', 'Python', 'is']\n"
          ]
        }
      ]
    },
    {
      "cell_type": "code",
      "source": [],
      "metadata": {
        "id": "1JQ-Q6bHpGQG"
      },
      "execution_count": null,
      "outputs": []
    }
  ]
}