{
  "nbformat": 4,
  "nbformat_minor": 0,
  "metadata": {
    "colab": {
      "provenance": []
    },
    "kernelspec": {
      "name": "python3",
      "display_name": "Python 3"
    },
    "language_info": {
      "name": "python"
    }
  },
  "cells": [
    {
      "cell_type": "markdown",
      "source": [
        "https://github.com/SmitaPaul7000/CaseStudies/tree/master/6.0%20Python%20Workaround"
      ],
      "metadata": {
        "id": "31kljBMdGiZi"
      }
    },
    {
      "cell_type": "markdown",
      "source": [
        "Assignment1"
      ],
      "metadata": {
        "id": "V0FJ6f_TGnuU"
      }
    },
    {
      "cell_type": "markdown",
      "source": [
        "\n",
        "1\n",
        "\n",
        "Write a program which will find all such numbers which are divisible by 7 but are not a multiple of 5, between 2000 and 3200 (both included). The numbers obtained should be printed in a comma-separated sequence on a single line.\n"
      ],
      "metadata": {
        "id": "0GB90uJpG0eq"
      }
    },
    {
      "cell_type": "code",
      "execution_count": null,
      "metadata": {
        "id": "8chD0T-AGRTU"
      },
      "outputs": [],
      "source": [
        "import numpy as np"
      ]
    },
    {
      "cell_type": "code",
      "source": [
        "lst = []\n",
        "for i in range(2000,3200):    \n",
        "    if(i%7 == 0) & (i%5 != 0):    \n",
        "        lst.append(i)\n",
        "print(lst)\n",
        "        "
      ],
      "metadata": {
        "colab": {
          "base_uri": "https://localhost:8080/"
        },
        "id": "2AhDu-tDG4CA",
        "outputId": "1726bdec-f74b-4e1c-9648-29b9df7060ed"
      },
      "execution_count": null,
      "outputs": [
        {
          "output_type": "stream",
          "name": "stdout",
          "text": [
            "[2002, 2009, 2016, 2023, 2037, 2044, 2051, 2058, 2072, 2079, 2086, 2093, 2107, 2114, 2121, 2128, 2142, 2149, 2156, 2163, 2177, 2184, 2191, 2198, 2212, 2219, 2226, 2233, 2247, 2254, 2261, 2268, 2282, 2289, 2296, 2303, 2317, 2324, 2331, 2338, 2352, 2359, 2366, 2373, 2387, 2394, 2401, 2408, 2422, 2429, 2436, 2443, 2457, 2464, 2471, 2478, 2492, 2499, 2506, 2513, 2527, 2534, 2541, 2548, 2562, 2569, 2576, 2583, 2597, 2604, 2611, 2618, 2632, 2639, 2646, 2653, 2667, 2674, 2681, 2688, 2702, 2709, 2716, 2723, 2737, 2744, 2751, 2758, 2772, 2779, 2786, 2793, 2807, 2814, 2821, 2828, 2842, 2849, 2856, 2863, 2877, 2884, 2891, 2898, 2912, 2919, 2926, 2933, 2947, 2954, 2961, 2968, 2982, 2989, 2996, 3003, 3017, 3024, 3031, 3038, 3052, 3059, 3066, 3073, 3087, 3094, 3101, 3108, 3122, 3129, 3136, 3143, 3157, 3164, 3171, 3178, 3192, 3199]\n"
          ]
        }
      ]
    },
    {
      "cell_type": "code",
      "source": [
        "type(lst)"
      ],
      "metadata": {
        "colab": {
          "base_uri": "https://localhost:8080/"
        },
        "id": "hqrLJHYWHAYi",
        "outputId": "1e21a972-858a-4ec1-d8a3-53fe47525f81"
      },
      "execution_count": null,
      "outputs": [
        {
          "output_type": "execute_result",
          "data": {
            "text/plain": [
              "list"
            ]
          },
          "metadata": {},
          "execution_count": 3
        }
      ]
    },
    {
      "cell_type": "code",
      "source": [
        "','.join(str(x) for x in lst)"
      ],
      "metadata": {
        "colab": {
          "base_uri": "https://localhost:8080/",
          "height": 105
        },
        "id": "2uXKikwUHK4g",
        "outputId": "b7a07bfb-288c-4b5c-c634-7302adab4f23"
      },
      "execution_count": null,
      "outputs": [
        {
          "output_type": "execute_result",
          "data": {
            "text/plain": [
              "'2002,2009,2016,2023,2037,2044,2051,2058,2072,2079,2086,2093,2107,2114,2121,2128,2142,2149,2156,2163,2177,2184,2191,2198,2212,2219,2226,2233,2247,2254,2261,2268,2282,2289,2296,2303,2317,2324,2331,2338,2352,2359,2366,2373,2387,2394,2401,2408,2422,2429,2436,2443,2457,2464,2471,2478,2492,2499,2506,2513,2527,2534,2541,2548,2562,2569,2576,2583,2597,2604,2611,2618,2632,2639,2646,2653,2667,2674,2681,2688,2702,2709,2716,2723,2737,2744,2751,2758,2772,2779,2786,2793,2807,2814,2821,2828,2842,2849,2856,2863,2877,2884,2891,2898,2912,2919,2926,2933,2947,2954,2961,2968,2982,2989,2996,3003,3017,3024,3031,3038,3052,3059,3066,3073,3087,3094,3101,3108,3122,3129,3136,3143,3157,3164,3171,3178,3192,3199'"
            ],
            "application/vnd.google.colaboratory.intrinsic+json": {
              "type": "string"
            }
          },
          "metadata": {},
          "execution_count": 4
        }
      ]
    },
    {
      "cell_type": "markdown",
      "source": [
        "\n",
        "2\n",
        "\n",
        "Write a Python program to accept the user's first and last name and then getting them printed in the the reverse order with a space between first name and last name.\n"
      ],
      "metadata": {
        "id": "4YUFWSYdHiTh"
      }
    },
    {
      "cell_type": "code",
      "source": [
        "nm = \"smita paul\"\n",
        "nm1 = nm.split(\" \")\n",
        "string =\"\"\n",
        "str1 = \"\"\n",
        "#print(nm1)\n",
        "for i in nm1:\n",
        "    nm2 = i    \n",
        "    \n",
        "    str2 = nm2[::-1]\n",
        "    string = \"\".join(reversed(nm2)) \n",
        "    \n",
        "    #print(str1)\n",
        "    str1 = str1 + str2 + \" \"    \n",
        "    \n",
        "print(str1)"
      ],
      "metadata": {
        "colab": {
          "base_uri": "https://localhost:8080/"
        },
        "id": "c3b1jpquHSyX",
        "outputId": "70367917-9ca7-4d96-e09d-f3ba1a6ef648"
      },
      "execution_count": null,
      "outputs": [
        {
          "output_type": "stream",
          "name": "stdout",
          "text": [
            "atims luap \n"
          ]
        }
      ]
    },
    {
      "cell_type": "markdown",
      "source": [
        "\n",
        "3\n",
        "\n",
        "Write a Python program to find the volume of a sphere with diameter 12 cm. Formula: V=4/3 * π * r 3 Circumference = 2πr r = Circumference/2*π\n"
      ],
      "metadata": {
        "id": "Lq8OH7TPIUBP"
      }
    },
    {
      "cell_type": "code",
      "source": [
        "dia = 12\n",
        "pi = 3.14\n",
        "r = dia/2*pi \n",
        "V = 4/3 * pi * (r*r*r)\n",
        "V1 = 4/3 * pi * (r**3)\n",
        "print(V)\n",
        "print(V1)"
      ],
      "metadata": {
        "colab": {
          "base_uri": "https://localhost:8080/"
        },
        "id": "gPiCe-6VHzWI",
        "outputId": "f9857b94-bced-4427-b9e3-ed5426b9980e"
      },
      "execution_count": null,
      "outputs": [
        {
          "output_type": "stream",
          "name": "stdout",
          "text": [
            "27996.97310208\n",
            "27996.97310208\n"
          ]
        }
      ]
    },
    {
      "cell_type": "markdown",
      "source": [
        "\n",
        "4\n",
        "\n",
        "Write a program which accepts a sequence of comma-separated numbers from console and generate a list.\n"
      ],
      "metadata": {
        "id": "x6P4XWhzIkNB"
      }
    },
    {
      "cell_type": "code",
      "source": [
        "a = input()\n",
        "#print(a)\n",
        "lst = [] \n",
        "for i in a.split(','):\n",
        "    if i.isdigit():\n",
        "        lst.append(int(i))\n",
        "    else:\n",
        "        print(\"Kindly enter comma seprated numbers only\")\n",
        "        lst = []\n",
        "        break;      \n",
        "else:\n",
        "    print(lst)"
      ],
      "metadata": {
        "colab": {
          "base_uri": "https://localhost:8080/"
        },
        "id": "NppdtOTiId30",
        "outputId": "50be4fe2-57ce-4f14-c105-d3d67f192538"
      },
      "execution_count": null,
      "outputs": [
        {
          "output_type": "stream",
          "name": "stdout",
          "text": [
            "123456\n",
            "[123456]\n"
          ]
        }
      ]
    },
    {
      "cell_type": "markdown",
      "source": [
        "\n",
        "5\n",
        "\n",
        "Create the below pattern using nested for loop in Python. '''\n",
        "\n",
        "'''\n"
      ],
      "metadata": {
        "id": "xToHP8mWJAm2"
      }
    },
    {
      "cell_type": "code",
      "source": [
        "for i in range(0,5):\n",
        "    print('*'*i)\n",
        "for i in range(5,0,-1):\n",
        "    print('*'*i)"
      ],
      "metadata": {
        "colab": {
          "base_uri": "https://localhost:8080/"
        },
        "id": "vyqOT0xvIxX0",
        "outputId": "03c1dc71-3dff-4897-f3ce-0bffba613f28"
      },
      "execution_count": null,
      "outputs": [
        {
          "output_type": "stream",
          "name": "stdout",
          "text": [
            "\n",
            "*\n",
            "**\n",
            "***\n",
            "****\n",
            "*****\n",
            "****\n",
            "***\n",
            "**\n",
            "*\n"
          ]
        }
      ]
    },
    {
      "cell_type": "code",
      "source": [
        "n =5\n",
        "print('\\n'.join(' ' * (n-1-i) + '*' * ((i*2)+1) for i in range(n)))\n",
        "print('\\n'.join('*' * i for i in range(1, n+1)))"
      ],
      "metadata": {
        "colab": {
          "base_uri": "https://localhost:8080/"
        },
        "id": "aWY1C3p3JIQi",
        "outputId": "2116c922-3721-4008-d04c-0d6910d4026b"
      },
      "execution_count": null,
      "outputs": [
        {
          "output_type": "stream",
          "name": "stdout",
          "text": [
            "    *\n",
            "   ***\n",
            "  *****\n",
            " *******\n",
            "*********\n",
            "*\n",
            "**\n",
            "***\n",
            "****\n",
            "*****\n"
          ]
        }
      ]
    },
    {
      "cell_type": "code",
      "source": [
        "print('\\n'.join(' ' * (n-1-i) + '*' * ((i*2)+1) for i in range(n)))"
      ],
      "metadata": {
        "colab": {
          "base_uri": "https://localhost:8080/"
        },
        "id": "5XWd0vbrJQYd",
        "outputId": "0be5c5a9-e912-46d1-8076-de255fcf4fd9"
      },
      "execution_count": null,
      "outputs": [
        {
          "output_type": "stream",
          "name": "stdout",
          "text": [
            "    *\n",
            "   ***\n",
            "  *****\n",
            " *******\n",
            "*********\n"
          ]
        }
      ]
    },
    {
      "cell_type": "markdown",
      "source": [
        "\n",
        "6\n",
        "\n",
        "Write a Python program to reverse a word after accepting the input from the user. Sample Output: Input word: AcadGild Output: dilGdacA \"\".join(reversed(nm2))\n"
      ],
      "metadata": {
        "id": "c9CG_1dVJbKM"
      }
    },
    {
      "cell_type": "code",
      "source": [
        "a = input()\n",
        "print(\"\".join(reversed(a)))\n",
        "print(a[::-1])"
      ],
      "metadata": {
        "colab": {
          "base_uri": "https://localhost:8080/"
        },
        "id": "E8Py9AQRJUr9",
        "outputId": "7c80552b-300b-432e-a918-3983e4ff0f6a"
      },
      "execution_count": null,
      "outputs": [
        {
          "output_type": "stream",
          "name": "stdout",
          "text": [
            "pradyumna\n",
            "anmuydarp\n",
            "anmuydarp\n"
          ]
        }
      ]
    },
    {
      "cell_type": "markdown",
      "source": [
        "\n",
        "7\n",
        "\n",
        "Write a Python Program to print the given string in the format specified in the sample output. WE, THE PEOPLE OF INDIA, having solemnly resolved to constitute India into a SOVEREIGN, SOCIALIST, SECULAR, DEMOCRATIC REPUBLIC and to secure to all its citizens Sample Output: WE, THE PEOPLE OF INDIA, having solemnly resolved to constitute India into a SOVEREIGN, ! SOCIALIST, SECULAR, DEMOCRATIC REPUBLIC and to secure to all its citizens NOTE: The solution shared through Github should contain the source code used and the screenshot of the output. 3. Output N/\n"
      ],
      "metadata": {
        "id": "-gKOGQwrJy83"
      }
    },
    {
      "cell_type": "code",
      "source": [
        "print(\"WE, THE PEOPLE OF INDIA,\\n\\t having solemnly resolved to constitute India into a SOVEREIGN,!\",\n",
        "\"\\n\\t\\tSOCIALIST, SECULAR, DEMOCRATIC REPUBLIC \\n\\t\\t and to secure to all its citizens\")"
      ],
      "metadata": {
        "colab": {
          "base_uri": "https://localhost:8080/"
        },
        "id": "HFXajGhBJisE",
        "outputId": "1782a533-4e4c-4adb-8e33-319b659e81a1"
      },
      "execution_count": null,
      "outputs": [
        {
          "output_type": "stream",
          "name": "stdout",
          "text": [
            "WE, THE PEOPLE OF INDIA,\n",
            "\t having solemnly resolved to constitute India into a SOVEREIGN,! \n",
            "\t\tSOCIALIST, SECULAR, DEMOCRATIC REPUBLIC \n",
            "\t\t and to secure to all its citizens\n"
          ]
        }
      ]
    },
    {
      "cell_type": "markdown",
      "source": [
        "Assignment 2"
      ],
      "metadata": {
        "id": "rYfVnnOqKfE_"
      }
    },
    {
      "cell_type": "markdown",
      "source": [
        "\n",
        "Task 1\n",
        "1.1\n",
        "\n",
        "Write a Python Program to implement your own myreduce() function which works exactly like Python's built-in function reduce()\n"
      ],
      "metadata": {
        "id": "GfnyvZlhKgcY"
      }
    },
    {
      "cell_type": "code",
      "source": [
        "'''reduce() in python is apply a particular function passed in its argument to all of the list elements'''\n",
        "# importing functools for reduce() \n",
        "import functools \n",
        "  \n",
        "# initializing list \n",
        "lis = [ 1 , 3, 5, 6, 2, ] \n",
        "  \n",
        "# using reduce to compute sum of list \n",
        "print (\"The sum of the list elements is : \",end=\"\") \n",
        "print (functools.reduce(lambda a,b : a+b,lis)) \n",
        "  \n",
        "# using reduce to compute maximum element from list \n",
        "print (\"The maximum element of the list is : \",end=\"\") \n",
        "print (functools.reduce(lambda a,b : a if a > b else b,lis)) "
      ],
      "metadata": {
        "colab": {
          "base_uri": "https://localhost:8080/"
        },
        "id": "lLhsRsn9J2p2",
        "outputId": "94395bfd-765e-4c74-f0f6-81119d547d78"
      },
      "execution_count": null,
      "outputs": [
        {
          "output_type": "stream",
          "name": "stdout",
          "text": [
            "The sum of the list elements is : 17\n",
            "The maximum element of the list is : 6\n"
          ]
        }
      ]
    },
    {
      "cell_type": "code",
      "source": [
        "def myreduce(expression, listData):\n",
        "    lst = listData[0]\n",
        "    for next in listData[1:]:        \n",
        "        lst = expression(lst, next)        \n",
        "    return lst\n",
        "\n",
        "print (\"The sum of the list elements is : \", myreduce( (lambda x, y: x + y), [1, 2, 3, 4])) \n",
        "\n",
        "print (\"The maximum element of the list is : \",myreduce( (lambda x, y: x if x > y else y), [1, 2, 333, 14,666]))"
      ],
      "metadata": {
        "colab": {
          "base_uri": "https://localhost:8080/"
        },
        "id": "2vGH_dV0KtAf",
        "outputId": "9f507e15-2151-417f-fd7d-3ce0ec3ed84f"
      },
      "execution_count": null,
      "outputs": [
        {
          "output_type": "stream",
          "name": "stdout",
          "text": [
            "The sum of the list elements is :  10\n",
            "The maximum element of the list is :  666\n"
          ]
        }
      ]
    },
    {
      "cell_type": "markdown",
      "source": [
        "\n",
        "1.2\n",
        "\n",
        "Write a Python program to implement your own myfilter() function which works exactly like Python's built-in function filter()\n"
      ],
      "metadata": {
        "id": "f4zo8vi2PMVA"
      }
    },
    {
      "cell_type": "code",
      "source": [
        "'''The filter() function in Python takes in a function and a list as arguments. \n",
        "This offers an elegant way to filter out all the elements of a sequence “sequence”, \n",
        "for which the function returns True.'''\n",
        "\n",
        "# Take a list of numbers.  \n",
        "my_list = [12, 65, 54, 39, 102, 339, 221, 50, 70, ] \n",
        "result = list(filter(lambda x: (x % 2 == 0), my_list))  \n",
        "print(result)  \n",
        "\n"
      ],
      "metadata": {
        "colab": {
          "base_uri": "https://localhost:8080/"
        },
        "id": "5Rq86GnCLTsb",
        "outputId": "17c6cda7-cfec-493b-9e50-54193a5ce8ec"
      },
      "execution_count": null,
      "outputs": [
        {
          "output_type": "stream",
          "name": "stdout",
          "text": [
            "[12, 54, 102, 50, 70]\n"
          ]
        }
      ]
    },
    {
      "cell_type": "code",
      "source": [
        "def myfilter(expression,listData):\n",
        "    lst=[]\n",
        "    for i in listData:\n",
        "        if expression(i):\n",
        "            lst.append(i)\n",
        "    return lst\n",
        "\n",
        "result = myfilter(lambda x : x % 2 == 0, [12, 65, 54, 39, 102, 339, 221, 50, 70, ] )\n",
        "print(result)"
      ],
      "metadata": {
        "colab": {
          "base_uri": "https://localhost:8080/"
        },
        "id": "GXymtjeYP1a4",
        "outputId": "014fa2dd-b503-43a7-b5dc-f0e1d3f7dfc9"
      },
      "execution_count": null,
      "outputs": [
        {
          "output_type": "stream",
          "name": "stdout",
          "text": [
            "[12, 54, 102, 50, 70]\n"
          ]
        }
      ]
    },
    {
      "cell_type": "markdown",
      "source": [
        "\n",
        "2.\n",
        "\n",
        "Implement List comprehensions to produce the following lists. Write List comprehensions to produce the following Lists ['A', 'C', 'A', 'D', 'G', 'I', ’L’, ‘ D’] ['x', 'xx', 'xxx', 'xxxx', 'y', 'yy', 'yyy', 'yyyy', 'z', 'zz', 'zzz', 'zzzz'] ['x', 'y', 'z', 'xx', 'yy', 'zz', 'xx', 'yy', 'zz', 'xxxx', 'yyyy', 'zzzz'] [[2], [3], [4], [3], [4], [5], [4], [5], [6]] [[2, 3, 4, 5], [3, 4, 5, 6], [4, 5, 6, 7], [5, 6, 7, 8]] [(1, 1), (2, 1), (3, 1), (1, 2), (2, 2), (3, 2), (1, 3), (2, 3), (3, 3)]\n"
      ],
      "metadata": {
        "id": "PLaVhqDnQHWZ"
      }
    },
    {
      "cell_type": "code",
      "source": [
        "#['A', 'C', 'A', 'D', 'G', 'I', ’L’, ‘ D’]\n",
        "word='ACADGILD'\n",
        "lst=[alpha for alpha in word]\n",
        "print(lst)"
      ],
      "metadata": {
        "colab": {
          "base_uri": "https://localhost:8080/"
        },
        "id": "1r3aYHWPP-yP",
        "outputId": "3a210356-18e7-44c2-dfdf-7545749e7cc1"
      },
      "execution_count": null,
      "outputs": [
        {
          "output_type": "stream",
          "name": "stdout",
          "text": [
            "['A', 'C', 'A', 'D', 'G', 'I', 'L', 'D']\n"
          ]
        }
      ]
    },
    {
      "cell_type": "code",
      "source": [
        "#['x', 'xx', 'xxx', 'xxxx', 'y', 'yy', 'yyy', 'yyyy', 'z', 'zz', 'zzz', 'zzzz']\n",
        "alphaList = ['x','y','z']\n",
        "numList = [1,2,3,4]"
      ],
      "metadata": {
        "id": "7whQOACwQOSg"
      },
      "execution_count": null,
      "outputs": []
    },
    {
      "cell_type": "code",
      "source": [
        "# for a in alphaList:\n",
        "#\n",
        "#     for n in numList:\n",
        "#         print(a*n)        \n",
        "lst = [a*n for a in alphaList for n in numList]\n",
        "print(lst)"
      ],
      "metadata": {
        "colab": {
          "base_uri": "https://localhost:8080/"
        },
        "id": "Q3dOWGrJQXyy",
        "outputId": "17c9b274-e72d-4bb4-82a4-fae942ef596e"
      },
      "execution_count": null,
      "outputs": [
        {
          "output_type": "stream",
          "name": "stdout",
          "text": [
            "['x', 'xx', 'xxx', 'xxxx', 'y', 'yy', 'yyy', 'yyyy', 'z', 'zz', 'zzz', 'zzzz']\n"
          ]
        }
      ]
    },
    {
      "cell_type": "code",
      "source": [
        "#[[2], [3], [4], [3], [4], [5], [4], [5], [6]]\n",
        "numlist = [2,3,4]\n",
        "lst = [[num + numrange] for num in numlist for numrange in range(0,3)]\n",
        "print(lst)"
      ],
      "metadata": {
        "colab": {
          "base_uri": "https://localhost:8080/"
        },
        "id": "ANVHxE2gQfmm",
        "outputId": "27363442-8e37-4086-fa3d-02d7a8e76f0d"
      },
      "execution_count": null,
      "outputs": [
        {
          "output_type": "stream",
          "name": "stdout",
          "text": [
            "[[2], [3], [4], [3], [4], [5], [4], [5], [6]]\n"
          ]
        }
      ]
    },
    {
      "cell_type": "code",
      "source": [
        "#[[2, 3, 4, 5], [3, 4, 5, 6], [4, 5, 6, 7], [5, 6, 7, 8]]\n",
        "numlist = [2,3,4,5]\n",
        "lst = [[num + numrange for num in numlist] for numrange in range(0,4)]\n",
        "print(lst)"
      ],
      "metadata": {
        "colab": {
          "base_uri": "https://localhost:8080/"
        },
        "id": "eubYaP45Q6_e",
        "outputId": "8535f78d-0137-4d00-c9ae-b3ba99dd8bf9"
      },
      "execution_count": null,
      "outputs": [
        {
          "output_type": "stream",
          "name": "stdout",
          "text": [
            "[[2, 3, 4, 5], [3, 4, 5, 6], [4, 5, 6, 7], [5, 6, 7, 8]]\n"
          ]
        }
      ]
    },
    {
      "cell_type": "code",
      "source": [
        "#[(1, 1), (2, 1), (3, 1), (1, 2), (2, 2), (3, 2), (1, 3), (2, 3), (3, 3)]\n",
        "numlist = [1,2,3]\n",
        "result = [(y, x) for x in numlist for y in numlist]\n",
        "print(result)"
      ],
      "metadata": {
        "colab": {
          "base_uri": "https://localhost:8080/"
        },
        "id": "etan8mAVQ-0h",
        "outputId": "01fb820f-7948-4524-bacc-01e74368b113"
      },
      "execution_count": null,
      "outputs": [
        {
          "output_type": "stream",
          "name": "stdout",
          "text": [
            "[(1, 1), (2, 1), (3, 1), (1, 2), (2, 2), (3, 2), (1, 3), (2, 3), (3, 3)]\n"
          ]
        }
      ]
    },
    {
      "cell_type": "markdown",
      "source": [
        "\n",
        "3\n",
        "\n",
        "Implement a function longestWord() that takes a list of words and returns the longest one.\n"
      ],
      "metadata": {
        "id": "DxGnjeUXRda7"
      }
    },
    {
      "cell_type": "code",
      "source": [
        "def longestWord(lst):\n",
        "    return max([(len(i),i) for i in lst])\n",
        "\n",
        "lst =['Implement','a','function','longestttWord()','that']\n",
        "\n",
        "print(longestWord(lst)[1])\n"
      ],
      "metadata": {
        "colab": {
          "base_uri": "https://localhost:8080/"
        },
        "id": "qqcs0t0ARUNK",
        "outputId": "4dde60b5-3e7e-4ae8-fb55-54813d0f20b6"
      },
      "execution_count": null,
      "outputs": [
        {
          "output_type": "stream",
          "name": "stdout",
          "text": [
            "longestttWord()\n"
          ]
        }
      ]
    },
    {
      "cell_type": "markdown",
      "source": [
        "\n",
        "Task 2:\n",
        "1.1\n",
        "\n",
        "Write a Python Program(with class concepts) to find the area of the triangle using the below formula. area = (s(s-a)(s-b)(s-c)) * 0.5 Function to take the length of the sides of triangle from user should be defined in the parent class and function to calculate the area should be defined in subclass.\n"
      ],
      "metadata": {
        "id": "HCGyTYDwRsvZ"
      }
    },
    {
      "cell_type": "code",
      "source": [
        "\n",
        "\n",
        "#Prent class\n",
        "class clstrigle():     \n",
        "    def __init__(self, a,b,c):\n",
        "        self.a = a\n",
        "        self.b = b\n",
        "        self.c = c\n",
        "\n",
        "#subclass\n",
        "class triangleArea(clstrigle): \n",
        "    \n",
        "    def __init__(self, a,b,c):\n",
        "        clstrigle.__init__(self, a,b,c)\n",
        "        \n",
        "    def calculate_area(self): \n",
        "        s = (self.a + self.b + self.c) * 0.5\n",
        "        return (s*(s-self.a)*(s-self.b)*(s-self.c)) ** 0.5\n",
        "\n",
        "print(\"Traingle Area is :\",triangleArea(2.5,2,2).calculate_area())\n",
        "\n"
      ],
      "metadata": {
        "colab": {
          "base_uri": "https://localhost:8080/"
        },
        "id": "UtXBEZhrRob6",
        "outputId": "44191a42-3f45-4038-f3d5-1bd78257be55"
      },
      "execution_count": null,
      "outputs": [
        {
          "output_type": "stream",
          "name": "stdout",
          "text": [
            "Traingle Area is : 1.9515618744994994\n"
          ]
        }
      ]
    },
    {
      "cell_type": "markdown",
      "source": [
        "\n",
        "1.2\n",
        "\n",
        "Write a function filter_long_words() that takes a list of words and an integer n and returns the list of words that are longer than n.\n",
        "\n"
      ],
      "metadata": {
        "id": "UFZOCi-kXt5M"
      }
    },
    {
      "cell_type": "code",
      "source": [
        "def filter_long_words(lst, n):\n",
        "    return [wrd for wrd in lst if len(wrd) > n]\n",
        "\n",
        "print (filter_long_words(['Write','a','function','filter_long_words','words','that'], 5))"
      ],
      "metadata": {
        "colab": {
          "base_uri": "https://localhost:8080/"
        },
        "id": "Ju176rwtXY11",
        "outputId": "4b083389-276f-415a-f885-ba8386845717"
      },
      "execution_count": null,
      "outputs": [
        {
          "output_type": "stream",
          "name": "stdout",
          "text": [
            "['function', 'filter_long_words']\n"
          ]
        }
      ]
    },
    {
      "cell_type": "markdown",
      "source": [
        "\n",
        "2.1\n",
        "\n",
        "Write a Python program using function concept that maps list of words into a list of integers representing the lengths of the corresponding words . Hint: If a list [ ab,cde,erty] is passed on to the python function output should come as [2,3,4] Here 2,3 and 4 are the lengths of the words in the list.\n"
      ],
      "metadata": {
        "id": "WMZoWo8cYLjv"
      }
    },
    {
      "cell_type": "code",
      "source": [
        "#Using inbuild map\n",
        "lst = ['ab','cde','erty'] \n",
        "print(list(map(lambda a: len(a), lst)))\n",
        "\n",
        "###OR\n",
        "\n",
        "#python plain code\n",
        "print([len(j) for i,j in enumerate(lst)])"
      ],
      "metadata": {
        "colab": {
          "base_uri": "https://localhost:8080/"
        },
        "id": "kKOBv0PkX1oF",
        "outputId": "b3d98554-c541-482f-e13c-e38441ce107a"
      },
      "execution_count": null,
      "outputs": [
        {
          "output_type": "stream",
          "name": "stdout",
          "text": [
            "[2, 3, 4]\n",
            "[2, 3, 4]\n"
          ]
        }
      ]
    },
    {
      "cell_type": "markdown",
      "source": [
        "\n",
        "2.2\n",
        "\n",
        "Write a Python function which takes a character (i.e. a string of length 1) and returns True if it is a vowel, False otherwise. NOTE: The solution shared through Github should contain the source code used and the screenshot of the output.\n"
      ],
      "metadata": {
        "id": "IWP6HuAhYa9g"
      }
    },
    {
      "cell_type": "code",
      "source": [
        "def is_vowel(char):   \n",
        "    print(char.lower() in 'aeiou')\n",
        "\n",
        "a = input()\n",
        "if a != 'quit' and len(a) == 1:\n",
        "    vowel = is_vowel(a)\n",
        "else:    \n",
        "    print('invalid input. pls enter a character ')"
      ],
      "metadata": {
        "colab": {
          "base_uri": "https://localhost:8080/"
        },
        "id": "2bcACdstYSfD",
        "outputId": "fe9263ac-5eb3-4813-c1f9-020ebd273efd"
      },
      "execution_count": null,
      "outputs": [
        {
          "output_type": "stream",
          "name": "stdout",
          "text": [
            "k\n",
            "False\n"
          ]
        }
      ]
    },
    {
      "cell_type": "markdown",
      "source": [
        "Assignment 3"
      ],
      "metadata": {
        "id": "rI4b4-86Ytl3"
      }
    },
    {
      "cell_type": "markdown",
      "source": [
        "\n",
        "Task 1\n",
        "\n",
        "Write a function to compute 5/0 and use try/except to catch the exceptions.\n"
      ],
      "metadata": {
        "id": "g0ENkSc8dmDk"
      }
    },
    {
      "cell_type": "code",
      "source": [
        "def computezrodiv():\n",
        "    return 5/0\n",
        "\n",
        "try:\n",
        "    computezrodiv()\n",
        "except ZeroDivisionError:\n",
        "    print(\"Zero Division...\")\n",
        "finally:\n",
        "    print(\"In finally... \")"
      ],
      "metadata": {
        "colab": {
          "base_uri": "https://localhost:8080/"
        },
        "id": "IdoNrE7TYgme",
        "outputId": "09bbbbb3-5da6-4abe-b132-0cd9315fe223"
      },
      "execution_count": null,
      "outputs": [
        {
          "output_type": "stream",
          "name": "stdout",
          "text": [
            "Zero Division...\n",
            "In finally... \n"
          ]
        }
      ]
    },
    {
      "cell_type": "markdown",
      "source": [
        "\n",
        "2\n",
        "\n",
        "Implement a Python program to generate all sentences where subject is in [\"Americans\", \"Indians\"] and verb is in [\"Play\", \"watch\"] and the object is in [\"Baseball\",\"cricket\"]. Hint: Subject,Verb and Object should be declared in the program as shown below. subjects=[\"Americans \",\"Indians\"] verbs=[\"play\",\"watch\"] objects=[\"Baseball\",\"Cricket\"]\n",
        "\n",
        "Output should come as below: Americans play Baseball. Americans play Cricket. Americans watch Baseball. Americans watch Cricket. Indians play Baseball. Indians play Cricket. Indians watch Baseball. Indians watch Cricket.\n"
      ],
      "metadata": {
        "id": "BNqOJuQQd3kR"
      }
    },
    {
      "cell_type": "code",
      "source": [
        "subject1 = [\"Americans\", \"Indians\"]\n",
        "verb1 = [\"Play\", \"watch\"]\n",
        "obj1 = [\"Baseball\",\"cricket\"]\n",
        "\n",
        "senlist = [(sub+\" \"+ vb + \" \" + ob) for sub in subject1 for vb in verb1 for ob in obj1]\n",
        "\n",
        "lst = [sentence for sentence in senlist]\n",
        "print(lst)\n"
      ],
      "metadata": {
        "colab": {
          "base_uri": "https://localhost:8080/"
        },
        "id": "63TnSewmdxXi",
        "outputId": "80cf5ea9-5ffe-40fe-814a-2b7c79ba8b41"
      },
      "execution_count": null,
      "outputs": [
        {
          "output_type": "stream",
          "name": "stdout",
          "text": [
            "['Americans Play Baseball', 'Americans Play cricket', 'Americans watch Baseball', 'Americans watch cricket', 'Indians Play Baseball', 'Indians Play cricket', 'Indians watch Baseball', 'Indians watch cricket']\n"
          ]
        }
      ]
    },
    {
      "cell_type": "markdown",
      "source": [
        "\n",
        "Task 2:\n",
        "\n",
        "Write a function so that the columns of the output matrix are powers of the input vector. The order of the powers is determined by the increasing boolean argument. Specifically, when increasing is False, the i-th output column is the input vector raised element-wise to the power of N - i - 1.\n",
        "\n",
        "HINT: Such a matrix with a geometric progression in each row is named for Alexandre- Theophile Vandermonde.\n",
        "\n",
        "NOTE: The solution shared through Github should contain the source code used and the screenshot of the output.\n"
      ],
      "metadata": {
        "id": "K0LrBxPVec_N"
      }
    },
    {
      "cell_type": "code",
      "source": [
        "\n",
        "\n",
        "x = np.array([1, 2, 3,4, 5])\n",
        "N = 3\n",
        "np.vander(x, N)\n",
        "     \n"
      ],
      "metadata": {
        "colab": {
          "base_uri": "https://localhost:8080/"
        },
        "id": "pIz7PZjweVc3",
        "outputId": "4708c372-7c3e-4966-b17e-61c71a795973"
      },
      "execution_count": null,
      "outputs": [
        {
          "output_type": "execute_result",
          "data": {
            "text/plain": [
              "array([[ 1,  1,  1],\n",
              "       [ 4,  2,  1],\n",
              "       [ 9,  3,  1],\n",
              "       [16,  4,  1],\n",
              "       [25,  5,  1]])"
            ]
          },
          "metadata": {},
          "execution_count": 32
        }
      ]
    },
    {
      "cell_type": "code",
      "source": [
        "import numpy as np\n",
        "\n",
        "## Iterate over each number in the input vector n times, n being the number of columns in the o/p matrix and output \n",
        "## an intermediate vector. Use diff order formula based on increasing and decreasing condition.\n",
        "## Reshape the intermediate vector using the size of the input vector (rows) and n (columns) to generate the o/p matrix. \n",
        "   \n",
        "def gen_vander_matrix(ipvector, n, increasing=False):\n",
        "    \n",
        "    if not increasing:\n",
        "        op_matx = np.array([x**(n-1-i) for x in ipvector for i in range(n)]).reshape(ipvector.size,n)\n",
        "    elif increasing:\n",
        "        op_matx = np.array([x**i for x in ipvector for i in range(n)]).reshape(ipvector.size,n)\n",
        "    \n",
        "    return op_matx\n",
        "\n",
        "print(\"------------OUTPUT-------------\\n\")\n",
        "\n",
        "inputvector = np.array([1,2,3,4,5])\n",
        "no_col_opmat = 3\n",
        "op_matx_dec_order = gen_vander_matrix(inputvector,no_col_opmat,False)\n",
        "op_matx_inc_order = gen_vander_matrix(inputvector,no_col_opmat,True)\n",
        "\n",
        "print(\"The input array is:\",inputvector,\"\\n\")\n",
        "print(\"Number of columns in output matrix should be:\",no_col_opmat,\"\\n\")\n",
        "print(\"Vander matrix of the input array in decreasing order of powers:\\n\\n\",op_matx_dec_order,\"\\n\")\n",
        "print(\"Vander matrix of the input array in increasing order of powers:\\n\\n\",op_matx_inc_order,\"\\n\")\n",
        "\n",
        "inputvector = np.array([1,2,4,6,8,10])\n",
        "no_col_opmat = 5\n",
        "op_matx_dec_order = gen_vander_matrix(inputvector,no_col_opmat,False)\n",
        "op_matx_inc_order = gen_vander_matrix(inputvector,no_col_opmat,True)\n",
        "\n",
        "print(\"---------------------------------------------------------------\\n\")\n",
        "print(\"The input array is:\",inputvector,\"\\n\")\n",
        "print(\"Number of columns in output matrix should be:\",no_col_opmat,\"\\n\")\n",
        "print(\"Vander matrix of the input array in decreasing order of powers:\\n\\n\",op_matx_dec_order,\"\\n\")\n",
        "print(\"Vander matrix of the input array in increasing order of powers:\\n\\n\",op_matx_inc_order,\"\\n\")"
      ],
      "metadata": {
        "colab": {
          "base_uri": "https://localhost:8080/"
        },
        "id": "Oyd2vCH4enTb",
        "outputId": "bade7612-cb5f-4ca5-f5be-3cb119ca207a"
      },
      "execution_count": null,
      "outputs": [
        {
          "output_type": "stream",
          "name": "stdout",
          "text": [
            "------------OUTPUT-------------\n",
            "\n",
            "The input array is: [1 2 3 4 5] \n",
            "\n",
            "Number of columns in output matrix should be: 3 \n",
            "\n",
            "Vander matrix of the input array in decreasing order of powers:\n",
            "\n",
            " [[ 1  1  1]\n",
            " [ 4  2  1]\n",
            " [ 9  3  1]\n",
            " [16  4  1]\n",
            " [25  5  1]] \n",
            "\n",
            "Vander matrix of the input array in increasing order of powers:\n",
            "\n",
            " [[ 1  1  1]\n",
            " [ 1  2  4]\n",
            " [ 1  3  9]\n",
            " [ 1  4 16]\n",
            " [ 1  5 25]] \n",
            "\n",
            "---------------------------------------------------------------\n",
            "\n",
            "The input array is: [ 1  2  4  6  8 10] \n",
            "\n",
            "Number of columns in output matrix should be: 5 \n",
            "\n",
            "Vander matrix of the input array in decreasing order of powers:\n",
            "\n",
            " [[    1     1     1     1     1]\n",
            " [   16     8     4     2     1]\n",
            " [  256    64    16     4     1]\n",
            " [ 1296   216    36     6     1]\n",
            " [ 4096   512    64     8     1]\n",
            " [10000  1000   100    10     1]] \n",
            "\n",
            "Vander matrix of the input array in increasing order of powers:\n",
            "\n",
            " [[    1     1     1     1     1]\n",
            " [    1     2     4     8    16]\n",
            " [    1     4    16    64   256]\n",
            " [    1     6    36   216  1296]\n",
            " [    1     8    64   512  4096]\n",
            " [    1    10   100  1000 10000]] \n",
            "\n"
          ]
        }
      ]
    },
    {
      "cell_type": "markdown",
      "source": [
        "Assignment 4"
      ],
      "metadata": {
        "id": "r9wNNCwLjk1k"
      }
    },
    {
      "cell_type": "code",
      "source": [
        "import pandas as pd\n",
        "#Create dataframe with manual index and 2 column\n",
        "data = np.array([['','Col1','Col2'],\n",
        "                ['Row1',1,2],\n",
        "                ['Row2',3,4]])\n",
        "                \n",
        "df2 = pd.DataFrame(data=data[1:,1:],\n",
        "                  index=data[1:,0],\n",
        "                  columns=data[0,1:])\n",
        "df2.info\n",
        "df2.head()"
      ],
      "metadata": {
        "colab": {
          "base_uri": "https://localhost:8080/",
          "height": 112
        },
        "id": "F47huCcyfDzp",
        "outputId": "28e12811-4128-42df-a308-b8db3d607905"
      },
      "execution_count": null,
      "outputs": [
        {
          "output_type": "execute_result",
          "data": {
            "text/plain": [
              "     Col1 Col2\n",
              "Row1    1    2\n",
              "Row2    3    4"
            ],
            "text/html": [
              "\n",
              "  <div id=\"df-f5949c58-e7b8-472e-ad0b-4512e106ef37\">\n",
              "    <div class=\"colab-df-container\">\n",
              "      <div>\n",
              "<style scoped>\n",
              "    .dataframe tbody tr th:only-of-type {\n",
              "        vertical-align: middle;\n",
              "    }\n",
              "\n",
              "    .dataframe tbody tr th {\n",
              "        vertical-align: top;\n",
              "    }\n",
              "\n",
              "    .dataframe thead th {\n",
              "        text-align: right;\n",
              "    }\n",
              "</style>\n",
              "<table border=\"1\" class=\"dataframe\">\n",
              "  <thead>\n",
              "    <tr style=\"text-align: right;\">\n",
              "      <th></th>\n",
              "      <th>Col1</th>\n",
              "      <th>Col2</th>\n",
              "    </tr>\n",
              "  </thead>\n",
              "  <tbody>\n",
              "    <tr>\n",
              "      <th>Row1</th>\n",
              "      <td>1</td>\n",
              "      <td>2</td>\n",
              "    </tr>\n",
              "    <tr>\n",
              "      <th>Row2</th>\n",
              "      <td>3</td>\n",
              "      <td>4</td>\n",
              "    </tr>\n",
              "  </tbody>\n",
              "</table>\n",
              "</div>\n",
              "      <button class=\"colab-df-convert\" onclick=\"convertToInteractive('df-f5949c58-e7b8-472e-ad0b-4512e106ef37')\"\n",
              "              title=\"Convert this dataframe to an interactive table.\"\n",
              "              style=\"display:none;\">\n",
              "        \n",
              "  <svg xmlns=\"http://www.w3.org/2000/svg\" height=\"24px\"viewBox=\"0 0 24 24\"\n",
              "       width=\"24px\">\n",
              "    <path d=\"M0 0h24v24H0V0z\" fill=\"none\"/>\n",
              "    <path d=\"M18.56 5.44l.94 2.06.94-2.06 2.06-.94-2.06-.94-.94-2.06-.94 2.06-2.06.94zm-11 1L8.5 8.5l.94-2.06 2.06-.94-2.06-.94L8.5 2.5l-.94 2.06-2.06.94zm10 10l.94 2.06.94-2.06 2.06-.94-2.06-.94-.94-2.06-.94 2.06-2.06.94z\"/><path d=\"M17.41 7.96l-1.37-1.37c-.4-.4-.92-.59-1.43-.59-.52 0-1.04.2-1.43.59L10.3 9.45l-7.72 7.72c-.78.78-.78 2.05 0 2.83L4 21.41c.39.39.9.59 1.41.59.51 0 1.02-.2 1.41-.59l7.78-7.78 2.81-2.81c.8-.78.8-2.07 0-2.86zM5.41 20L4 18.59l7.72-7.72 1.47 1.35L5.41 20z\"/>\n",
              "  </svg>\n",
              "      </button>\n",
              "      \n",
              "  <style>\n",
              "    .colab-df-container {\n",
              "      display:flex;\n",
              "      flex-wrap:wrap;\n",
              "      gap: 12px;\n",
              "    }\n",
              "\n",
              "    .colab-df-convert {\n",
              "      background-color: #E8F0FE;\n",
              "      border: none;\n",
              "      border-radius: 50%;\n",
              "      cursor: pointer;\n",
              "      display: none;\n",
              "      fill: #1967D2;\n",
              "      height: 32px;\n",
              "      padding: 0 0 0 0;\n",
              "      width: 32px;\n",
              "    }\n",
              "\n",
              "    .colab-df-convert:hover {\n",
              "      background-color: #E2EBFA;\n",
              "      box-shadow: 0px 1px 2px rgba(60, 64, 67, 0.3), 0px 1px 3px 1px rgba(60, 64, 67, 0.15);\n",
              "      fill: #174EA6;\n",
              "    }\n",
              "\n",
              "    [theme=dark] .colab-df-convert {\n",
              "      background-color: #3B4455;\n",
              "      fill: #D2E3FC;\n",
              "    }\n",
              "\n",
              "    [theme=dark] .colab-df-convert:hover {\n",
              "      background-color: #434B5C;\n",
              "      box-shadow: 0px 1px 3px 1px rgba(0, 0, 0, 0.15);\n",
              "      filter: drop-shadow(0px 1px 2px rgba(0, 0, 0, 0.3));\n",
              "      fill: #FFFFFF;\n",
              "    }\n",
              "  </style>\n",
              "\n",
              "      <script>\n",
              "        const buttonEl =\n",
              "          document.querySelector('#df-f5949c58-e7b8-472e-ad0b-4512e106ef37 button.colab-df-convert');\n",
              "        buttonEl.style.display =\n",
              "          google.colab.kernel.accessAllowed ? 'block' : 'none';\n",
              "\n",
              "        async function convertToInteractive(key) {\n",
              "          const element = document.querySelector('#df-f5949c58-e7b8-472e-ad0b-4512e106ef37');\n",
              "          const dataTable =\n",
              "            await google.colab.kernel.invokeFunction('convertToInteractive',\n",
              "                                                     [key], {});\n",
              "          if (!dataTable) return;\n",
              "\n",
              "          const docLinkHtml = 'Like what you see? Visit the ' +\n",
              "            '<a target=\"_blank\" href=https://colab.research.google.com/notebooks/data_table.ipynb>data table notebook</a>'\n",
              "            + ' to learn more about interactive tables.';\n",
              "          element.innerHTML = '';\n",
              "          dataTable['output_type'] = 'display_data';\n",
              "          await google.colab.output.renderOutput(dataTable, element);\n",
              "          const docLink = document.createElement('div');\n",
              "          docLink.innerHTML = docLinkHtml;\n",
              "          element.appendChild(docLink);\n",
              "        }\n",
              "      </script>\n",
              "    </div>\n",
              "  </div>\n",
              "  "
            ]
          },
          "metadata": {},
          "execution_count": 35
        }
      ]
    },
    {
      "cell_type": "markdown",
      "source": [
        "Assignment 5"
      ],
      "metadata": {
        "id": "OVl_WSbdnmAN"
      }
    },
    {
      "cell_type": "code",
      "source": [
        "import numpy as np\n",
        "import re\n",
        "import pandas as pd\n",
        "import matplotlib.pyplot as plt\n",
        "import seaborn as sns\n",
        "from pandas import DataFrame\n",
        "import matplotlib as mpl\n",
        "import matplotlib.cm as cm\n"
      ],
      "metadata": {
        "id": "_wxaeEgtjpPE"
      },
      "execution_count": null,
      "outputs": []
    },
    {
      "cell_type": "markdown",
      "source": [
        "Q1. Write a Python program to get the string from the given string where all the occurrence of its first char has been changed to \"ect'"
      ],
      "metadata": {
        "id": "tv-tc3uToIkQ"
      }
    },
    {
      "cell_type": "code",
      "source": [
        "# take first letter in diff variable and replace remaing string for p to S$.\n",
        "# append first char with replaced string(skip first char)\n",
        "str1 = \"prospectp\"\n",
        "firstOcc = str1[0]\n",
        "newstr1 = firstOcc + str1.replace(firstOcc, '$')[1:]\n",
        "print(newstr1)\n",
        "     "
      ],
      "metadata": {
        "colab": {
          "base_uri": "https://localhost:8080/"
        },
        "id": "6RsEhUaqoAO7",
        "outputId": "c40f5237-d2b8-42bc-8cd5-ddca3e8e5829"
      },
      "execution_count": null,
      "outputs": [
        {
          "output_type": "stream",
          "name": "stdout",
          "text": [
            "pros$ect$\n"
          ]
        }
      ]
    },
    {
      "cell_type": "markdown",
      "source": [
        "Q2. Write a Python program to get the single string from the two given strings, and separated by the space and swap the first two characters of each string? Sample String : 'abc', 'xyz'. Expected Result: 'xyc abz'"
      ],
      "metadata": {
        "id": "6_DAyykwpbld"
      }
    },
    {
      "cell_type": "code",
      "source": [
        "\n",
        "'''\n",
        "first 2 letter from 2nd string and last letter from first string\n",
        "first 2 letter from 1st string and last letter from second string\n",
        "'''\n",
        " \n",
        "str1 = \"abc\"\n",
        "str2 = \"xyz\"\n",
        "print(str2[0:2] + str1[-1]  +  \" \" + str1[0:2] + str2[-1])"
      ],
      "metadata": {
        "colab": {
          "base_uri": "https://localhost:8080/"
        },
        "id": "Iw24aQQyoXZA",
        "outputId": "ea4ce517-1638-4475-ae5f-cb974a31430a"
      },
      "execution_count": null,
      "outputs": [
        {
          "output_type": "stream",
          "name": "stdout",
          "text": [
            "xyc abz\n"
          ]
        }
      ]
    },
    {
      "cell_type": "markdown",
      "source": [
        "Q3. Write the Python program to add 'ing' at the end of the given string (length of the string should be at least 3). If given string already ends with 'ing,' then add 'ly' instead. If string length of the given string is less than 3, leave it unchanged? Sample string: ' abc ' Expected result: ' abcing ' Sample string: ' string ' Expected result: ' stringly '"
      ],
      "metadata": {
        "id": "P_nXABJPqaJJ"
      }
    },
    {
      "cell_type": "code",
      "source": [
        "def addSuffix(str1):\n",
        "  if (len(str1) <= 3) & (str1[:3] != \"ing\"):\n",
        "    print (str1 + \"ing\")\n",
        "  else:    \n",
        "    print (str1 + \"ly\")\n",
        "\n",
        "addSuffix('abc')\n",
        "addSuffix('string')\n",
        "addSuffix('ing')\n"
      ],
      "metadata": {
        "colab": {
          "base_uri": "https://localhost:8080/"
        },
        "id": "X5c43lXWpqbw",
        "outputId": "356492fa-9596-4c5e-b9c9-47a9cdd8f333"
      },
      "execution_count": null,
      "outputs": [
        {
          "output_type": "stream",
          "name": "stdout",
          "text": [
            "abcing\n",
            "stringly\n",
            "ingly\n"
          ]
        }
      ]
    },
    {
      "cell_type": "markdown",
      "source": [
        "Q4. Write the Python program to find the first appearance of the substring 'not' and 'poor' from the given string, if 'not' follows the 'poor', replace the whole 'not'...' poor' substring with 'good'.Return the resulting string. Sample string: 'The lyrics are not that poor!' 'The lyrics are poor!' Expected Result: 'The lyrics are good!' 'The lyrics are poor!'"
      ],
      "metadata": {
        "id": "s80FHP-Cs7cw"
      }
    },
    {
      "cell_type": "code",
      "source": [
        "'''\n",
        "str1 = 'The lyrics are not that poor!' 'The lyrics are poor!' \n",
        "Expected Result: 'The lyrics are good!' 'The lyrics are poor!'\n",
        "'''\n",
        "\n",
        "def replacePoor(str1):\n",
        "  notPos = str1.find('not')\n",
        "  poorPos = str1.find('poor')\n",
        "\n",
        "  if (notPos > 0) & (poorPos > 0):\n",
        "    if notPos < poorPos:\n",
        "      str1 = str1.replace(str1[notPos:(poorPos+4)], 'good')\n",
        "    \n",
        "  print (str1)\n",
        "\n",
        "replacePoor('The lyrics are not that poor!')\n",
        "replacePoor('The lyrics are poor!' )"
      ],
      "metadata": {
        "colab": {
          "base_uri": "https://localhost:8080/"
        },
        "id": "p4JTt7Poqler",
        "outputId": "162ed818-f004-4afc-8695-c03d8bdbe526"
      },
      "execution_count": null,
      "outputs": [
        {
          "output_type": "stream",
          "name": "stdout",
          "text": [
            "The lyrics are good!\n",
            "The lyrics are poor!\n"
          ]
        }
      ]
    },
    {
      "cell_type": "markdown",
      "source": [
        "\n",
        "\n",
        "Q5. Write the Python program to remove the characters which have odd index values of a given string.\n"
      ],
      "metadata": {
        "id": "1sjxHcditYfC"
      }
    },
    {
      "cell_type": "code",
      "source": [
        "str1 = \"TestString Hello\"\n",
        "str2 = \"\"\n",
        "for i in range(0,len(str1)):\n",
        "  if i % 2 == 0:\n",
        "    str2 = str2 + str1[i]\n",
        "\n",
        "print(str2)\n"
      ],
      "metadata": {
        "colab": {
          "base_uri": "https://localhost:8080/"
        },
        "id": "l0qxmcAitSez",
        "outputId": "5fe3b539-a5b9-4f27-fe96-64e99b6b2e4d"
      },
      "execution_count": null,
      "outputs": [
        {
          "output_type": "stream",
          "name": "stdout",
          "text": [
            "TsSrn el\n"
          ]
        }
      ]
    },
    {
      "cell_type": "markdown",
      "source": [
        "Q6. Write the Python function to get a string made of 4 copies of the last two characters of the specified string (length must be at least 2). Sample function and result : insert-end ('Python') -> abababab insert-end('Exercises') -> jkjkjkjk"
      ],
      "metadata": {
        "id": "JEEtxKlGt7Ob"
      }
    },
    {
      "cell_type": "code",
      "source": [
        "#take last 2 char and make 4 copies outof it\n",
        "def copies4(str1):\n",
        "    if len(str1) > 2:\n",
        "        print(str1[-2:]*4)\n",
        "    \n",
        "copies4('Python')\n",
        "copies4('Exercises')\n",
        "     "
      ],
      "metadata": {
        "colab": {
          "base_uri": "https://localhost:8080/"
        },
        "id": "S1VUOwNftb5x",
        "outputId": "ecc2de3d-67f1-4ff5-92b3-260f405797ad"
      },
      "execution_count": null,
      "outputs": [
        {
          "output_type": "stream",
          "name": "stdout",
          "text": [
            "onononon\n",
            "eseseses\n"
          ]
        }
      ]
    },
    {
      "cell_type": "markdown",
      "source": [
        "Q7. Write the python function to get a string made of its first three characters of a specified string. If the length of the string is less than 3 then return the original string. Sample function and result : first-three('ipy') -> ipy first-three('python') -> pyt"
      ],
      "metadata": {
        "id": "Pf4ppWm7u_Kr"
      }
    },
    {
      "cell_type": "code",
      "source": [
        "def chkLenNreplace(str1):\n",
        "  if len(str1) > 3:\n",
        "      print(str1[0:3])\n",
        "  else:\n",
        "    print(str1)\n",
        "\n",
        "chkLenNreplace('ipy')\n",
        "chkLenNreplace('python')"
      ],
      "metadata": {
        "colab": {
          "base_uri": "https://localhost:8080/"
        },
        "id": "Ln4NbTEWups3",
        "outputId": "f7dedcbb-e669-4ac4-acdc-d8a3c4c4d7b5"
      },
      "execution_count": null,
      "outputs": [
        {
          "output_type": "stream",
          "name": "stdout",
          "text": [
            "ipy\n",
            "pyt\n"
          ]
        }
      ]
    },
    {
      "cell_type": "markdown",
      "source": [
        "Q8. Write the python program to print the following floating numbers up to 2 decimal places?"
      ],
      "metadata": {
        "id": "dbnnbbUnvTIH"
      }
    },
    {
      "cell_type": "code",
      "source": [
        "num1 = 78.563\n",
        "print(\"{:.2f}\".format(num1))"
      ],
      "metadata": {
        "colab": {
          "base_uri": "https://localhost:8080/"
        },
        "id": "QoK11ESsvPhL",
        "outputId": "e37fda53-726e-400a-8c37-00d459b3d541"
      },
      "execution_count": null,
      "outputs": [
        {
          "output_type": "stream",
          "name": "stdout",
          "text": [
            "78.56\n"
          ]
        }
      ]
    },
    {
      "cell_type": "markdown",
      "source": [
        "\n",
        "\n",
        "Q9. Write the Python program to format a number with a percentage?\n"
      ],
      "metadata": {
        "id": "F2yO7c7ivcgu"
      }
    },
    {
      "cell_type": "code",
      "source": [
        "num1 = 78\n",
        "new = \"{:%}\".format(num1)\n",
        "print(new)"
      ],
      "metadata": {
        "colab": {
          "base_uri": "https://localhost:8080/"
        },
        "id": "bCP9JWGavWL3",
        "outputId": "08c1908c-cb28-4fa6-da76-5567e3a85dc0"
      },
      "execution_count": null,
      "outputs": [
        {
          "output_type": "stream",
          "name": "stdout",
          "text": [
            "7800.000000%\n"
          ]
        }
      ]
    },
    {
      "cell_type": "markdown",
      "source": [
        "Q10. Write the Python program to count occurrences of a substring in a String?"
      ],
      "metadata": {
        "id": "4-ffzyPcvo0m"
      }
    },
    {
      "cell_type": "code",
      "source": [
        "str1 = \"ab ab ab test\"\n",
        "substr2 = \"ab\"\n",
        "str1.count(substr2)\n"
      ],
      "metadata": {
        "colab": {
          "base_uri": "https://localhost:8080/"
        },
        "id": "CO1LG1RIviTp",
        "outputId": "82b8dc50-659b-48d3-f1f4-89d9e3190e65"
      },
      "execution_count": null,
      "outputs": [
        {
          "output_type": "execute_result",
          "data": {
            "text/plain": [
              "3"
            ]
          },
          "metadata": {},
          "execution_count": 48
        }
      ]
    },
    {
      "cell_type": "markdown",
      "source": [
        "Q11. Write the Python program to count repeated characters in a string. Sample string: ' thequickbrownjumpsoverthelazydog ' Expected output: o 3 e 3 u 2 h 2 r 2"
      ],
      "metadata": {
        "id": "gr7sjZL2v6vn"
      }
    },
    {
      "cell_type": "code",
      "source": [
        "str1 =\"thequickbrownjumpsoverthelazydog\"\n",
        "from collections import Counter \n",
        "#Counter is an unordered collection where elements are stored as Dict keys and their count as dict value\n",
        "res = Counter(str1) \n",
        "for val in res:\n",
        "    if res[val] > 1: #take only char who is repeated , means more than 1 \n",
        "        print(val,res[val])\n",
        "\n",
        " "
      ],
      "metadata": {
        "colab": {
          "base_uri": "https://localhost:8080/"
        },
        "id": "FBFfREYkvrrq",
        "outputId": "ba2e6a0c-3d18-4829-f7c5-d1b9066dcab9"
      },
      "execution_count": null,
      "outputs": [
        {
          "output_type": "stream",
          "name": "stdout",
          "text": [
            "t 2\n",
            "h 2\n",
            "e 3\n",
            "u 2\n",
            "r 2\n",
            "o 3\n"
          ]
        }
      ]
    },
    {
      "cell_type": "markdown",
      "source": [
        "Q12. Write the Python program to print the square and cube symbol in the area of a rectangle and volume of a cylinder? Sample output- The area of the rectangle is 1256.66cm2 The volume of the cylinder is 1254.725cm3"
      ],
      "metadata": {
        "id": "Mnn03VtWwo2u"
      }
    },
    {
      "cell_type": "code",
      "source": [
        "#to print superscript use \\u00b2 or \\u00b3\n",
        "print(f'The area of rectangle is 1256cm\\u00b2')\n",
        "print(f'The volume of cube is 1256cm\\u00b3')"
      ],
      "metadata": {
        "colab": {
          "base_uri": "https://localhost:8080/"
        },
        "id": "7Hcr_neowUY-",
        "outputId": "e5c75b4c-161a-47c7-f6e2-19b21858c227"
      },
      "execution_count": null,
      "outputs": [
        {
          "output_type": "stream",
          "name": "stdout",
          "text": [
            "The area of rectangle is 1256cm²\n",
            "The volume of cube is 1256cm³\n"
          ]
        }
      ]
    },
    {
      "cell_type": "markdown",
      "source": [
        "Q13. Write the Python program to check if a string contains all letters of the alphabet?"
      ],
      "metadata": {
        "id": "awD7hehpw43H"
      }
    },
    {
      "cell_type": "code",
      "source": [
        "str1 = \"abcdefghijklmnopqrstuvwxyz\"\n",
        "print(str1.isalpha())\n",
        "\n",
        "str1 = \"12ASD\"\n",
        "print(str1.isalpha())\n",
        "\n",
        "str1 = \"#er$\"\n",
        "print(str1.isalpha())"
      ],
      "metadata": {
        "colab": {
          "base_uri": "https://localhost:8080/"
        },
        "id": "Ul_UDLdwwziP",
        "outputId": "8631722b-5639-4b33-a18b-25640f87f29e"
      },
      "execution_count": null,
      "outputs": [
        {
          "output_type": "stream",
          "name": "stdout",
          "text": [
            "True\n",
            "False\n",
            "False\n"
          ]
        }
      ]
    },
    {
      "cell_type": "markdown",
      "source": [
        "Q14. Write the Python program to find the second most repeated word in a given string?"
      ],
      "metadata": {
        "id": "kspyK7KExNlJ"
      }
    },
    {
      "cell_type": "code",
      "source": [
        "str1 = \"how to play cric , cric play play\"\n",
        "words = str1.split(\" \") #split words \n",
        "word_count = {}\n",
        "\n",
        "#take count for each word\n",
        "for word in words:\n",
        "    word_count[word] = words.count(word) \n",
        "\n",
        "#sort it decending \n",
        "sorted_word = sorted(word_count.values(),reverse=True)\n",
        "\n",
        "for (key,val) in word_count.items():\n",
        "    if val == sorted_word[1] :\n",
        "        print(\"{} --> count {}\".format(key,val))\n"
      ],
      "metadata": {
        "colab": {
          "base_uri": "https://localhost:8080/"
        },
        "id": "vaXoZIZexIoM",
        "outputId": "a4f1aeb5-3326-40ce-fd14-de95af2a684e"
      },
      "execution_count": null,
      "outputs": [
        {
          "output_type": "stream",
          "name": "stdout",
          "text": [
            "cric --> count 2\n"
          ]
        }
      ]
    },
    {
      "cell_type": "markdown",
      "source": [
        "\n",
        "\n",
        "Q15. Write the Python program to find the minimum window in the given string, which will contains all the characters of another given strings? Example 1 Input : string1 = \" PRWSOERIUSFK \" string2 = \" OSU \" Output: Minimum window is \"OERIUS\"\n"
      ],
      "metadata": {
        "id": "K9OAtB3jxrJ5"
      }
    },
    {
      "cell_type": "code",
      "source": [
        "import collections\n",
        "\n",
        "str1 = \"PRWSOERIUSFK\"\n",
        "str2 = \"OSU\"\n",
        "\n",
        "result_char, missing_char = collections.Counter(str2), len(str2)\n",
        "#print(result_char)\n",
        "#print( missing_char)\n",
        "i = p = q = 0\n",
        "for j, c in enumerate(str1, 1):    \n",
        "    missing_char -= result_char[c] > 0\n",
        "    result_char[c] -= 1\n",
        "    if not missing_char:\n",
        "        while i < q and result_char[str1[i]] < 0:\n",
        "            result_char[str1[i]] += 1\n",
        "            i += 1\n",
        "        if not q or j - i <= q - p:\n",
        "            p, q = i, j\n",
        "print(str1[p:q])"
      ],
      "metadata": {
        "colab": {
          "base_uri": "https://localhost:8080/"
        },
        "id": "kIV1OkS7xhvk",
        "outputId": "d102e7a6-09d4-451a-cc85-6bd15443b2a1"
      },
      "execution_count": null,
      "outputs": [
        {
          "output_type": "stream",
          "name": "stdout",
          "text": [
            "OERIUS\n"
          ]
        }
      ]
    },
    {
      "cell_type": "markdown",
      "source": [
        "\n",
        "\n",
        "Q16. Write the Python program to find smallest window that contains all characters of the given string? Original Strings: asdaewsqgtwwsa Smallest window that contains all characters of the said string: Daewsqgt\n"
      ],
      "metadata": {
        "id": "1f3l0iEKyqcZ"
      }
    },
    {
      "cell_type": "code",
      "source": [
        "from collections import defaultdict\n",
        "\n",
        "def findSmallestWindow(str) :\n",
        "    str_len = len(str) \n",
        "      \n",
        "    dist_count_char = len(set([x for x in str])) \n",
        "  \n",
        "    ctr, start_pos, start_pos_index, min_len = 0, 0, -1, 9999999999\n",
        "    curr_count = defaultdict(lambda: 0) \n",
        "    for i in range(str_len): \n",
        "        curr_count[str[i]] += 1\n",
        " \n",
        "        if curr_count[str[i]] == 1: \n",
        "            ctr += 1\n",
        "  \n",
        "        if ctr == dist_count_char: \n",
        "            while curr_count[str[start_pos]] > 1: \n",
        "                if curr_count[str[start_pos]] > 1: \n",
        "                    curr_count[str[start_pos]] -= 1\n",
        "                start_pos += 1\n",
        "  \n",
        "            len_window = i - start_pos + 1\n",
        "            if min_len > len_window: \n",
        "                min_len = len_window \n",
        "                start_pos_index = start_pos \n",
        "    return str[start_pos_index: start_pos_index + min_len]  \n",
        "        \n",
        "findSmallestWindow('asdaewsqgtwwsa')"
      ],
      "metadata": {
        "colab": {
          "base_uri": "https://localhost:8080/",
          "height": 35
        },
        "id": "DT-fYZVGyAQ-",
        "outputId": "da7c09c0-2942-4d09-a8cc-1dd7179a5fa5"
      },
      "execution_count": null,
      "outputs": [
        {
          "output_type": "execute_result",
          "data": {
            "text/plain": [
              "'daewsqgt'"
            ],
            "application/vnd.google.colaboratory.intrinsic+json": {
              "type": "string"
            }
          },
          "metadata": {},
          "execution_count": 54
        }
      ]
    },
    {
      "cell_type": "markdown",
      "source": [
        "\n",
        "\n",
        "Q17. Write the Python program to count number of substrings from a given string of lowercase alphabets with exactly k distinct (given) characters? Input a string (lowercase alphabets): wolf Input k: 4 Number of substrings with exactly 4 distinct characters: 1\n"
      ],
      "metadata": {
        "id": "pBHBWxcfy9gh"
      }
    },
    {
      "cell_type": "code",
      "source": [
        "def count_k_dist(str1, k): \n",
        "    str_len = len(str1) \n",
        "    #print(str_len)\n",
        "    result = 0\n",
        "    #print(result)\n",
        "    ctr = [0] * 27\n",
        "    #print(ctr)\n",
        "\n",
        "    for i in range(0, str_len): \n",
        "        dist_ctr = 0\n",
        "\n",
        "        ctr = [0] * 27\n",
        "\n",
        "        for j in range(i, str_len): \n",
        "            if(ctr[ord(str1[j]) - 97] == 0): \n",
        "                dist_ctr += 1\n",
        "\n",
        "            ctr[ord(str1[j]) - 97] += 1\n",
        "\n",
        "            if(dist_ctr == k): \n",
        "                result += 1\n",
        "            if(dist_ctr > k): \n",
        "                break\n",
        "\n",
        "    return result\n",
        "\n",
        "\n",
        "count_k_dist('wolf',4)\n",
        "     "
      ],
      "metadata": {
        "colab": {
          "base_uri": "https://localhost:8080/"
        },
        "id": "2LXbJyyZyweD",
        "outputId": "764c29f4-54b1-4b91-8820-c0769bdb17d1"
      },
      "execution_count": null,
      "outputs": [
        {
          "output_type": "execute_result",
          "data": {
            "text/plain": [
              "1"
            ]
          },
          "metadata": {},
          "execution_count": 55
        }
      ]
    },
    {
      "cell_type": "markdown",
      "source": [
        "Q18. Write the Python program to count number of non-empty substrings of the given string? Input a string: w3resource Number of substrings: 55"
      ],
      "metadata": {
        "id": "Jbr_yzk8zZMD"
      }
    },
    {
      "cell_type": "code",
      "source": [
        "str = \"w3resource\"\n",
        "str_len = len(str); \n",
        "print(int(str_len * (str_len + 1) / 2))\n",
        "\n",
        " \n",
        "\n"
      ],
      "metadata": {
        "colab": {
          "base_uri": "https://localhost:8080/"
        },
        "id": "Z42YZSKKzDzz",
        "outputId": "0de81b2d-6ee6-4205-aabf-b257cd12b239"
      },
      "execution_count": null,
      "outputs": [
        {
          "output_type": "stream",
          "name": "stdout",
          "text": [
            "55\n"
          ]
        }
      ]
    },
    {
      "cell_type": "markdown",
      "source": [
        "\n",
        "\n",
        "Q19. Write the Python program to count number of substrings with same first and last characters of the given string? Input a string: abcd 4\n"
      ],
      "metadata": {
        "id": "TjsX8xvrz4Q1"
      }
    },
    {
      "cell_type": "code",
      "source": [
        "\n",
        "str1 = \"study\"\n",
        "\n",
        "result = 0; \n",
        "n = len(str1); \n",
        "\n",
        "for i in range(n): \n",
        "  for j in range(i, n):     \n",
        "    if (str1[i] == str1[j]): \n",
        "      result = result + 1\n",
        "print(result )"
      ],
      "metadata": {
        "colab": {
          "base_uri": "https://localhost:8080/"
        },
        "id": "-VM9J8KNzky9",
        "outputId": "685b66da-f95c-4683-fb23-0b5cc356907b"
      },
      "execution_count": null,
      "outputs": [
        {
          "output_type": "stream",
          "name": "stdout",
          "text": [
            "5\n"
          ]
        }
      ]
    },
    {
      "cell_type": "markdown",
      "source": [
        "Q20. Write the Python program to count the number of strings where the string length is 2 or more, and first and last character are same from a given list of strings. Sample List : ['abc', 'xyz', 'wxw', '1331'] Expected Result: 2"
      ],
      "metadata": {
        "id": "V6yIbU-a0evz"
      }
    },
    {
      "cell_type": "code",
      "source": [
        "\n",
        "str1 = ['abc', 'xyz', 'aba', '1331']\n",
        "ctr = 0\n",
        "for word in str1:\n",
        "  if len(word) > 2 and word[0] == word[-1]:\n",
        "    ctr += 1\n",
        "print (ctr)"
      ],
      "metadata": {
        "colab": {
          "base_uri": "https://localhost:8080/"
        },
        "id": "Lsolb0ct0Kez",
        "outputId": "975a4cc8-2d3a-4f07-8056-3cb054ee4b0b"
      },
      "execution_count": null,
      "outputs": [
        {
          "output_type": "stream",
          "name": "stdout",
          "text": [
            "2\n"
          ]
        }
      ]
    },
    {
      "cell_type": "markdown",
      "source": [
        "Q21. Write the Python program to get a list, sorted in increasing order by the last element in each tuple from the given list of non-empty tuples? Sample List - [ (2, 5), (1, 2), (4, 4), (2, 3), (2, 1) ] Expected Result - [ (2, 1), (1, 2), (2, 3), (4, 4), (2, 5) ]"
      ],
      "metadata": {
        "id": "J2exvxr2W0GW"
      }
    },
    {
      "cell_type": "code",
      "source": [
        "def last(n): return n[-1]\n",
        "\n",
        "str1= [(2, 5), (1, 2), (4, 4), (2, 3), (2, 1)]\n",
        "print(sorted(str1, key=last))\n",
        "\n",
        "\n"
      ],
      "metadata": {
        "colab": {
          "base_uri": "https://localhost:8080/"
        },
        "id": "ZCuf5VLV0htB",
        "outputId": "5d741d6a-3114-461f-f750-0b1711eb4c8d"
      },
      "execution_count": null,
      "outputs": [
        {
          "output_type": "stream",
          "name": "stdout",
          "text": [
            "[(2, 1), (1, 2), (2, 3), (4, 4), (2, 5)]\n"
          ]
        }
      ]
    },
    {
      "cell_type": "markdown",
      "source": [
        "Q22. Write the Python program to remove duplicates from a list?"
      ],
      "metadata": {
        "id": "O8o5HlIKYV9K"
      }
    },
    {
      "cell_type": "code",
      "source": [
        "a = [10,20,30,20,10,50,60,40,80,50,40]\n",
        "\n",
        "dup_items = set()\n",
        "uniq_items = []\n",
        "for x in a:\n",
        "    if x not in dup_items:\n",
        "        uniq_items.append(x)\n",
        "        dup_items.add(x)\n",
        "\n",
        "print(dup_items)"
      ],
      "metadata": {
        "colab": {
          "base_uri": "https://localhost:8080/"
        },
        "id": "TwU4U4inYPAX",
        "outputId": "8280d98c-64dc-4011-fed3-545a0318aff1"
      },
      "execution_count": null,
      "outputs": [
        {
          "output_type": "stream",
          "name": "stdout",
          "text": [
            "{40, 10, 80, 50, 20, 60, 30}\n"
          ]
        }
      ]
    },
    {
      "cell_type": "markdown",
      "source": [
        "Q23. Write the Python program to find the list of words that are longer than n from a given list of words?"
      ],
      "metadata": {
        "id": "49S5Dlw1Yrpd"
      }
    },
    {
      "cell_type": "code",
      "source": [
        "str1= \"The quick brown fox jumps over the lazy dog\"\n",
        "n=3\n",
        "print([word for word in str1.split(\" \") if len(word) > n])"
      ],
      "metadata": {
        "colab": {
          "base_uri": "https://localhost:8080/"
        },
        "id": "149WcBUkYnOi",
        "outputId": "adefad9e-a8d4-496a-ef37-56d959544c9f"
      },
      "execution_count": null,
      "outputs": [
        {
          "output_type": "stream",
          "name": "stdout",
          "text": [
            "['quick', 'brown', 'jumps', 'over', 'lazy']\n"
          ]
        }
      ]
    },
    {
      "cell_type": "markdown",
      "source": [
        "Q24. Write the Python program to print a specified list after removing the 0th, 4th, and 5th elements? Sample List - ['Red', 'Green', 'White', 'Black', 'Pink', 'Yellow'] Expected Output - ['Green', 'White', 'Black']"
      ],
      "metadata": {
        "id": "J257DAyAY8T3"
      }
    },
    {
      "cell_type": "code",
      "source": [
        "lists= ['Red', 'Green', 'White', 'Black', 'Pink', 'Yellow']\n",
        "lists= [x for (i,x) in enumerate(lists) if i not in (0,4,5)]\n",
        "lists"
      ],
      "metadata": {
        "colab": {
          "base_uri": "https://localhost:8080/"
        },
        "id": "w4kb9RvIY18i",
        "outputId": "d1eb0f15-eebd-40e4-9c09-fc4f9616af8d"
      },
      "execution_count": null,
      "outputs": [
        {
          "output_type": "execute_result",
          "data": {
            "text/plain": [
              "['Green', 'White', 'Black']"
            ]
          },
          "metadata": {},
          "execution_count": 4
        }
      ]
    },
    {
      "cell_type": "markdown",
      "source": [
        "\n",
        "\n",
        "Q25. Write the Python program to generate all permutations of a list in Python?\n"
      ],
      "metadata": {
        "id": "ytqjo3R_ZGLr"
      }
    },
    {
      "cell_type": "code",
      "source": [
        "import itertools\n",
        "print(list(itertools.permutations([9,8,7])))"
      ],
      "metadata": {
        "colab": {
          "base_uri": "https://localhost:8080/"
        },
        "id": "87g_P29AZB5m",
        "outputId": "d326d12d-4251-42c2-e664-06ba35500fde"
      },
      "execution_count": null,
      "outputs": [
        {
          "output_type": "stream",
          "name": "stdout",
          "text": [
            "[(9, 8, 7), (9, 7, 8), (8, 9, 7), (8, 7, 9), (7, 9, 8), (7, 8, 9)]\n"
          ]
        }
      ]
    },
    {
      "cell_type": "markdown",
      "source": [
        "\n",
        "\n",
        "Q26. Write the Python program to convert a pair of values into a sorted unique array? Original List- [ (1, 2), (3, 4), (1, 2), (5, 6), (7, 8), (1, 2), (3, 4), (3, 4), (7, 8), (9, 10) ] Sorted Unique Data- [ 1, 2, 3, 4, 5, 6, 7, 8, 9, 10 ]\n"
      ],
      "metadata": {
        "id": "FfYMU54fZSTz"
      }
    },
    {
      "cell_type": "code",
      "source": [
        "\n",
        "L =[ (1, 2), (3, 4), (1, 2), (5, 6), (7, 8), (1, 2), (3, 4), (3, 4), (7, 8), (9, 10) ]\n",
        "print(\"Sorted Unique Data:\",sorted(set().union(*L)))"
      ],
      "metadata": {
        "colab": {
          "base_uri": "https://localhost:8080/"
        },
        "id": "DG8ecuRqZJ6M",
        "outputId": "f662a961-c22d-4c5e-d8bc-e66ef2fe40eb"
      },
      "execution_count": null,
      "outputs": [
        {
          "output_type": "stream",
          "name": "stdout",
          "text": [
            "Sorted Unique Data: [1, 2, 3, 4, 5, 6, 7, 8, 9, 10]\n"
          ]
        }
      ]
    },
    {
      "cell_type": "markdown",
      "source": [
        "\n",
        "\n",
        "Q27. Write the Python class to convert an integer to a roman numeral?\n"
      ],
      "metadata": {
        "id": "nyY2nt5FZgfJ"
      }
    },
    {
      "cell_type": "code",
      "source": [
        "\n",
        "\n",
        "from collections import OrderedDict\n",
        "\n",
        "def write_roman(num):\n",
        "\t\n",
        "\troman = OrderedDict()\n",
        "\troman[1000] = \"M\"\n",
        "\troman[900] = \"CM\"\n",
        "\troman[500] = \"D\"\n",
        "\troman[400] = \"CD\"\n",
        "\troman[100] = \"C\"\n",
        "\troman[90] = \"XC\"\n",
        "\troman[50] = \"L\"\n",
        "\troman[40] = \"XL\"\n",
        "\troman[10] = \"X\"\n",
        "\troman[9] = \"IX\"\n",
        "\troman[5] = \"V\"\n",
        "\troman[4] = \"IV\"\n",
        "\troman[1] = \"I\"\n",
        "\n",
        "\tdef roman_num(num):\n",
        "\t\tfor r in roman.keys(): # Iterate over the keys of the OrderedDict.\n",
        "\t\t\tx, y = divmod(num, r)\n",
        "\t\t\tyield roman[r] * x\n",
        "\t\t\tnum -= (r * x)\n",
        "\t\t\tif num > 0: # If there is a remainder, recurse.\n",
        "\t\t\t\troman_num(num)\n",
        "\t\t\telse:\n",
        "\t\t\t\tbreak\n",
        "\n",
        "\treturn \"\".join([a for a in roman_num(num)])\n",
        "\n",
        "num = 3\n",
        "print (write_roman(num))\n",
        "\n",
        "num = 994\n",
        "print (write_roman(num))\n",
        "\n",
        "num = 1995\n",
        "print (write_roman(num))\n",
        "\n",
        "num = 901\n",
        "print (write_roman(num))\n",
        "     \n"
      ],
      "metadata": {
        "colab": {
          "base_uri": "https://localhost:8080/"
        },
        "id": "69Awf1oNZauL",
        "outputId": "a2cf97f9-cfc7-4e34-b45a-d6b651c9186c"
      },
      "execution_count": null,
      "outputs": [
        {
          "output_type": "stream",
          "name": "stdout",
          "text": [
            "III\n",
            "CMXCIV\n",
            "MCMXCV\n",
            "CMI\n"
          ]
        }
      ]
    },
    {
      "cell_type": "markdown",
      "source": [
        "\n",
        "\n",
        "Q29. Write the Python class to find the validity of the string of the parentheses, '(', ')', '{', '}', '[' and '] and the brackets must be closed in the correct order, example - \"()\" and \"()[]{}\" are valid but \"[)\", \"({[)]\" and \"{{{\" are invalid.\n"
      ],
      "metadata": {
        "id": "lsNALfJ_aPhe"
      }
    },
    {
      "cell_type": "code",
      "source": [
        "class pchkPatan:\n",
        "   def is_valid_parenthese(self, str1):\n",
        "        stack, pchar = [], {\"(\": \")\", \"{\": \"}\", \"[\": \"]\"}\n",
        "        for parenthese in str1:\n",
        "            if parenthese in pchar:\n",
        "                stack.append(parenthese)\n",
        "            elif len(stack) == 0 or pchar[stack.pop()] != parenthese:\n",
        "                return False\n",
        "        return len(stack) == 0\n",
        "\n",
        "print(pchkPatan().is_valid_parenthese(\"()\"))\n",
        "print(pchkPatan().is_valid_parenthese(\"()[]{}\"))\n",
        "print(pchkPatan().is_valid_parenthese(\"[)\"))\n",
        "print(pchkPatan().is_valid_parenthese(\"({[)]\"))\n",
        "print(pchkPatan().is_valid_parenthese(\"{{{\"))\n"
      ],
      "metadata": {
        "colab": {
          "base_uri": "https://localhost:8080/"
        },
        "id": "yz8yFCAEZubw",
        "outputId": "948fa91f-fce2-465d-8db6-2bc2118c1322"
      },
      "execution_count": null,
      "outputs": [
        {
          "output_type": "stream",
          "name": "stdout",
          "text": [
            "True\n",
            "True\n",
            "False\n",
            "False\n",
            "False\n"
          ]
        }
      ]
    },
    {
      "cell_type": "markdown",
      "source": [
        "\n",
        "Q30. Write the Python class to get all possible unique subsets from a set of distinct integers? Input - [4, 5, 6] Output - [[], [6], [5], [5, 6], [4], [4, 6], [4, 5], [4, 5, 6]]\n"
      ],
      "metadata": {
        "id": "w_MEcFoialbr"
      }
    },
    {
      "cell_type": "code",
      "source": [
        "class py_solution:\n",
        "    def sub_sets(self, sset):\n",
        "        return self.subsetsRecur([], sorted(sset))\n",
        "    \n",
        "    def subsetsRecur(self, current, sset):\n",
        "        if sset:\n",
        "            return self.subsetsRecur(current, sset[1:]) + self.subsetsRecur(current + [sset[0]], sset[1:])\n",
        "        return [current]\n",
        "\n",
        "print(py_solution().sub_sets([4,5,6]))"
      ],
      "metadata": {
        "colab": {
          "base_uri": "https://localhost:8080/"
        },
        "id": "_BCgfBsGado7",
        "outputId": "8eac552a-9e25-45bc-8def-7bb8d0bbe6fd"
      },
      "execution_count": null,
      "outputs": [
        {
          "output_type": "stream",
          "name": "stdout",
          "text": [
            "[[], [6], [5], [5, 6], [4], [4, 6], [4, 5], [4, 5, 6]]\n"
          ]
        }
      ]
    },
    {
      "cell_type": "markdown",
      "source": [
        "\n",
        "\n",
        "Q31. Write the Python class to find a pair of elements (indices of the two numbers) from a given array whose sum equals the specific target number? Input: numbers- [10,20,10,40,50,60,70], target=50 Output- 3, 4\n"
      ],
      "metadata": {
        "id": "_uh7ceqva76r"
      }
    },
    {
      "cell_type": "code",
      "source": [
        "\n",
        "\n",
        "class py_solution:\n",
        "   def twoSum(self, nums, target):\n",
        "        lookup = {}\n",
        "        for i, num in enumerate(nums):\n",
        "            if target - num in lookup:\n",
        "                return (lookup[target - num], i )\n",
        "            lookup[num] = i\n",
        "print(\"Output-\",py_solution().twoSum((10,20,10,40,50,60,70),50))\n",
        "     \n"
      ],
      "metadata": {
        "colab": {
          "base_uri": "https://localhost:8080/"
        },
        "id": "dQUFxc7kaopA",
        "outputId": "7ee144bc-4491-4277-ff20-04ea87730d33"
      },
      "execution_count": null,
      "outputs": [
        {
          "output_type": "stream",
          "name": "stdout",
          "text": [
            "Output- (2, 3)\n"
          ]
        }
      ]
    },
    {
      "cell_type": "markdown",
      "source": [
        "\n",
        "\n",
        "Q32. Write the Python class to find the three elements that sum to zero from the set of n real numbers? Input array- [-25, -10, -7, -3, 2, 4, 8, 10] Output - [[-10, 2, 8], [-7, -3, 10]]\n"
      ],
      "metadata": {
        "id": "Rpf5sJ_hbU5m"
      }
    },
    {
      "cell_type": "code",
      "source": [
        "class py_solution:\n",
        " def threeSum(self, nums):\n",
        "        nums, result, i = sorted(nums), [], 0\n",
        "        while i < len(nums) - 2:\n",
        "            j, k = i + 1, len(nums) - 1\n",
        "            while j < k:\n",
        "                if nums[i] + nums[j] + nums[k] < 0:\n",
        "                    j += 1\n",
        "                elif nums[i] + nums[j] + nums[k] > 0:\n",
        "                    k -= 1\n",
        "                else:\n",
        "                    result.append([nums[i], nums[j], nums[k]])\n",
        "                    j, k = j + 1, k - 1\n",
        "                    while j < k and nums[j] == nums[j - 1]:\n",
        "                        j += 1\n",
        "                    while j < k and nums[k] == nums[k + 1]:\n",
        "                        k -= 1\n",
        "            i += 1\n",
        "            while i < len(nums) - 2 and nums[i] == nums[i - 1]:\n",
        "                i += 1\n",
        "        return result\n",
        "\n",
        "print(py_solution().threeSum([-25, -10, -7, -3, 2, 4, 8, 10]))"
      ],
      "metadata": {
        "colab": {
          "base_uri": "https://localhost:8080/"
        },
        "id": "ebQ3EU83bCf3",
        "outputId": "9b8d34c9-30aa-4c46-d03a-0a267d58270e"
      },
      "execution_count": null,
      "outputs": [
        {
          "output_type": "stream",
          "name": "stdout",
          "text": [
            "[[-10, 2, 8], [-7, -3, 10]]\n"
          ]
        }
      ]
    },
    {
      "cell_type": "markdown",
      "source": [
        "Q33. Write the Python class to implement pow(x, n)?"
      ],
      "metadata": {
        "id": "gwBUt_XKbe7n"
      }
    },
    {
      "cell_type": "code",
      "source": [
        "class py_solution:\n",
        "   def pow(self, x, n):\n",
        "        if x==0 or x==1 or n==1:\n",
        "            return x \n",
        "\n",
        "        if x==-1:\n",
        "            if n%2 ==0:\n",
        "                return 1\n",
        "            else:\n",
        "                return -1\n",
        "        if n==0:\n",
        "            return 1\n",
        "        if n<0:\n",
        "            return 1/self.pow(x,-n)\n",
        "        val = self.pow(x,n//2)\n",
        "        if n%2 ==0:\n",
        "            return val*val\n",
        "        return val*val*x\n",
        "\n",
        "print(py_solution().pow(2, -3));\n",
        "print(py_solution().pow(3, 5));\n",
        "print(py_solution().pow(100, 0));\n",
        "     "
      ],
      "metadata": {
        "colab": {
          "base_uri": "https://localhost:8080/"
        },
        "id": "Y1S68lVnbYqo",
        "outputId": "753429c3-c872-4d60-b621-dc1a33128f9e"
      },
      "execution_count": null,
      "outputs": [
        {
          "output_type": "stream",
          "name": "stdout",
          "text": [
            "0.125\n",
            "243\n",
            "1\n"
          ]
        }
      ]
    },
    {
      "cell_type": "markdown",
      "source": [
        "\n",
        "\n",
        "Q34. Write the Python class which has two methods get_String and print_String. get_String accept the string from the user and print_String print the string in upper case.\n"
      ],
      "metadata": {
        "id": "g-GsxOz0cDf9"
      }
    },
    {
      "cell_type": "code",
      "source": [
        "class IOString():\n",
        "    def __init__(self):\n",
        "        self.str1 = \"\"\n",
        "\n",
        "    def get_String(self):\n",
        "        #self.str1 = input()\n",
        "        self.str1 = \"test string\"\n",
        "\n",
        "    def print_String(self):\n",
        "        print(self.str1.upper())\n",
        "\n",
        "str1 = IOString()\n",
        "str1.get_String()\n",
        "str1.print_String()"
      ],
      "metadata": {
        "colab": {
          "base_uri": "https://localhost:8080/"
        },
        "id": "VR7Dpvuubizl",
        "outputId": "f806cb6d-4b15-4f10-d50e-a1522f37904b"
      },
      "execution_count": null,
      "outputs": [
        {
          "output_type": "stream",
          "name": "stdout",
          "text": [
            "TEST STRING\n"
          ]
        }
      ]
    },
    {
      "cell_type": "markdown",
      "source": [
        "\n",
        "\n",
        "Q35. Write the Python class named Rectangle constructed by a length and width and the method which will compute the area of the rectangle?\n"
      ],
      "metadata": {
        "id": "AewAgKQ4cYUU"
      }
    },
    {
      "cell_type": "code",
      "source": [
        "class Rectangle():\n",
        "    def __init__(self, l, w):\n",
        "        self.length = l\n",
        "        self.width  = w\n",
        "\n",
        "    def rectangle_area(self):\n",
        "        return self.length*self.width\n",
        "\n",
        "newRectangle = Rectangle(12, 10)\n",
        "print(newRectangle.rectangle_area())"
      ],
      "metadata": {
        "colab": {
          "base_uri": "https://localhost:8080/"
        },
        "id": "cwilfR0QcGYv",
        "outputId": "80458045-8eee-4b32-dcc2-cd8d555641d2"
      },
      "execution_count": null,
      "outputs": [
        {
          "output_type": "stream",
          "name": "stdout",
          "text": [
            "120\n"
          ]
        }
      ]
    },
    {
      "cell_type": "markdown",
      "source": [
        "Q36. Write the Python class named Circle constructed by the radius and two methods which will compute the area and perimeter of the circle?"
      ],
      "metadata": {
        "id": "n75wGC7ycjhA"
      }
    },
    {
      "cell_type": "code",
      "source": [
        "\n",
        "class Circle():\n",
        "    def __init__(self, r):\n",
        "        self.radius = r\n",
        "\n",
        "    def area(self):\n",
        "        return self.radius**2*3.14\n",
        "    \n",
        "    def perimeter(self):\n",
        "        return 2*self.radius*3.14\n",
        "\n",
        "NewCircle = Circle(8)\n",
        "print(NewCircle.area())\n",
        "print(NewCircle.perimeter())"
      ],
      "metadata": {
        "colab": {
          "base_uri": "https://localhost:8080/"
        },
        "id": "fARQvX0TcdhS",
        "outputId": "9f220524-f2b0-4d7c-c961-e3043b4be720"
      },
      "execution_count": null,
      "outputs": [
        {
          "output_type": "stream",
          "name": "stdout",
          "text": [
            "200.96\n",
            "50.24\n"
          ]
        }
      ]
    },
    {
      "cell_type": "markdown",
      "source": [
        "\n",
        "\n",
        "Q37. Write the Python program to get the class name of an instance in Python?\n"
      ],
      "metadata": {
        "id": "z71yxrGLcwDt"
      }
    },
    {
      "cell_type": "code",
      "source": [
        "import itertools\n",
        "x = itertools.cycle('ABCD')\n",
        "print(type(x).__name__)"
      ],
      "metadata": {
        "colab": {
          "base_uri": "https://localhost:8080/"
        },
        "id": "-utg7WnzcnFk",
        "outputId": "8658b2bc-4c1c-4434-ca6e-65fbe3d98fad"
      },
      "execution_count": null,
      "outputs": [
        {
          "output_type": "stream",
          "name": "stdout",
          "text": [
            "cycle\n"
          ]
        }
      ]
    },
    {
      "cell_type": "markdown",
      "source": [
        "Q38. Write the Python program to count the number of students of individual class? Sample data- classes = ( ('V', 1), ('VI', 1), ('V', 2), ('VI', 2), ('VI', 3), ('VII', 1), ) Expected Output- Counter({'VI': 3, 'V': 2, 'VII': 1})"
      ],
      "metadata": {
        "id": "w6ycRGSqc_QU"
      }
    },
    {
      "cell_type": "code",
      "source": [
        "\n",
        "from collections import Counter\n",
        "classes = (\n",
        "    ('V', 1),\n",
        "    ('VI', 1),\n",
        "    ('V', 2),\n",
        "    ('VI', 2),\n",
        "    ('VI', 3),\n",
        "    ('VII', 1),\n",
        ")\n",
        "students = Counter(class_name for class_name, no_students in classes)\n",
        "print(students)"
      ],
      "metadata": {
        "colab": {
          "base_uri": "https://localhost:8080/"
        },
        "id": "RUJPN4P0czif",
        "outputId": "bb19b0c3-9936-4c5e-85f0-b86753be0492"
      },
      "execution_count": null,
      "outputs": [
        {
          "output_type": "stream",
          "name": "stdout",
          "text": [
            "Counter({'VI': 3, 'V': 2, 'VII': 1})\n"
          ]
        }
      ]
    },
    {
      "cell_type": "markdown",
      "source": [
        "\n",
        "\n",
        "Q39. Write the Python program to create an instance of an OrderedDict using the given dictionary and sort dictionary during the creation and print members of the dictionary in reverse order?\n",
        "\n",
        "Expected Output- Angola 244. Andorra 376. Algeria 213. Afghanistan 93. Albania 355. In reverse order- Albania 355. Afghanistan 93. Algeria 213. Andorra 376. Angola 244.\n"
      ],
      "metadata": {
        "id": "TI9OabxqdVKA"
      }
    },
    {
      "cell_type": "code",
      "source": [
        "\n",
        "from collections import OrderedDict\n",
        "dict = {'Afghanistan': 93, 'Albania': 355, 'Algeria': 213, 'Andorra': 376, 'Angola': 244}\n",
        "new_dict = OrderedDict(dict.items())\n",
        "for key in new_dict:\n",
        "    print (key, new_dict[key])\n",
        "\n",
        "print(\"\\nIn reverse order:\")\n",
        "for key in reversed(new_dict):\n",
        "    print (key, new_dict[key])"
      ],
      "metadata": {
        "colab": {
          "base_uri": "https://localhost:8080/"
        },
        "id": "MvmIzAojdCPd",
        "outputId": "24866777-504a-44bb-b8ac-f3465f2074a6"
      },
      "execution_count": null,
      "outputs": [
        {
          "output_type": "stream",
          "name": "stdout",
          "text": [
            "Afghanistan 93\n",
            "Albania 355\n",
            "Algeria 213\n",
            "Andorra 376\n",
            "Angola 244\n",
            "\n",
            "In reverse order:\n",
            "Angola 244\n",
            "Andorra 376\n",
            "Algeria 213\n",
            "Albania 355\n",
            "Afghanistan 93\n"
          ]
        }
      ]
    },
    {
      "cell_type": "markdown",
      "source": [
        "Q40. Write the Python program to compare two unordered lists (not sets)? Expected Output: False"
      ],
      "metadata": {
        "id": "3xUUpA0ud6zl"
      }
    },
    {
      "cell_type": "code",
      "source": [
        "\n",
        "\n",
        "from collections import Counter\n",
        "def compare_lists(x, y):\n",
        "    return Counter(x) == Counter(y)\n",
        "n1 = [20, 10, 30, 10, 20, 30]\n",
        "n2 = [30, 20, 10, 30, 20, 50]\n",
        "print(compare_lists(n1, n2))\n",
        "     \n"
      ],
      "metadata": {
        "colab": {
          "base_uri": "https://localhost:8080/"
        },
        "id": "gccA4p6mdw9M",
        "outputId": "481cb83c-5b65-4dc0-e8c2-2efc242bafd8"
      },
      "execution_count": null,
      "outputs": [
        {
          "output_type": "stream",
          "name": "stdout",
          "text": [
            "False\n"
          ]
        }
      ]
    },
    {
      "cell_type": "markdown",
      "source": [
        "Q41. Write the Python program to get an array buffer information? Expected Output- Array buffer start address in memory and number of elements. (25855056, 2)"
      ],
      "metadata": {
        "id": "h3r3KN1XeNaB"
      }
    },
    {
      "cell_type": "code",
      "source": [
        "from array import array\n",
        "a = array(\"I\", (12,25))\n",
        "print(\"Array buffer start address in memory and number of elements.\")\n",
        "print(a.buffer_info())"
      ],
      "metadata": {
        "colab": {
          "base_uri": "https://localhost:8080/"
        },
        "id": "Rw1K0QWPeE2j",
        "outputId": "e33caefc-06ed-4423-b81f-581f62647949"
      },
      "execution_count": null,
      "outputs": [
        {
          "output_type": "stream",
          "name": "stdout",
          "text": [
            "Array buffer start address in memory and number of elements.\n",
            "(139842262103568, 2)\n"
          ]
        }
      ]
    },
    {
      "cell_type": "markdown",
      "source": [
        "\n",
        "\n",
        "Q42. Write the Python program to convert an array to an array of machine values and return the bytes representation? Expected Output- Original array- A1: array('i', [1, 2, 3, 4, 5, 6]) Array of bytes: b'010000000200000003000000040000000500000006000000'\n"
      ],
      "metadata": {
        "id": "xJc7h-WkejJu"
      }
    },
    {
      "cell_type": "code",
      "source": [
        "from array import *\n",
        "import binascii\n",
        "x = array('i', [1, 2, 3, 4, 5, 6])\n",
        "s = x.tobytes()\n",
        "print('Array of bytes:', binascii.hexlify(s))"
      ],
      "metadata": {
        "colab": {
          "base_uri": "https://localhost:8080/"
        },
        "id": "Rq8-eQ71eVZa",
        "outputId": "71ffb158-914d-4f19-87fa-c59db31caa37"
      },
      "execution_count": null,
      "outputs": [
        {
          "output_type": "stream",
          "name": "stdout",
          "text": [
            "Array of bytes: b'010000000200000003000000040000000500000006000000'\n"
          ]
        }
      ]
    },
    {
      "cell_type": "markdown",
      "source": [
        "\n",
        "\n",
        "Q43. Write the Python program to read a string and interpreting the string as an array of machine values? Expected Output- array1- array('i', [7, 8, 9, 10]) Bytes- b'0700000008000000090000000a000000' array2- array('i', [7, 8, 9, 10])\n"
      ],
      "metadata": {
        "id": "Zd06khzqet4l"
      }
    },
    {
      "cell_type": "code",
      "source": [
        "from array import array\n",
        "import binascii\n",
        "array1 = array('i', [7, 8, 9, 10])\n",
        "print('array1:', array1)\n",
        "as_bytes = array1.tobytes()\n",
        "print('Bytes:', binascii.hexlify(as_bytes))\n",
        "array2 = array('i')\n",
        "array2.frombytes(as_bytes)\n",
        "print('array2:', array2)"
      ],
      "metadata": {
        "colab": {
          "base_uri": "https://localhost:8080/"
        },
        "id": "5F1riPNQem5u",
        "outputId": "800c654a-b7b9-4067-839e-0442b52cf60f"
      },
      "execution_count": null,
      "outputs": [
        {
          "output_type": "stream",
          "name": "stdout",
          "text": [
            "array1: array('i', [7, 8, 9, 10])\n",
            "Bytes: b'0700000008000000090000000a000000'\n",
            "array2: array('i', [7, 8, 9, 10])\n"
          ]
        }
      ]
    },
    {
      "cell_type": "markdown",
      "source": [
        "\n",
        "\n",
        "Q44. Write the Python program to push three items into the heap and return the smallest item from the heap. Also, return and pop the smallest item from the heap? Expected Output- Items in the heap- ('VI', 1). ('VII', 3). ('VIII', 2). ---------------------- The smallest item in the heap: ('VI', 1). ---------------------- Pop the smallest item in the heap: ('VII', 2). ('VIII', 3).\n"
      ],
      "metadata": {
        "id": "C8fJoNe1e7mv"
      }
    },
    {
      "cell_type": "code",
      "source": [
        "\n",
        "import heapq\n",
        "heap = []\n",
        "heapq.heappush(heap, ('VI', 1))\n",
        "heapq.heappush(heap, ('VII', 2))\n",
        "heapq.heappush(heap, ('VIII', 3))\n",
        "print(\"Items in the heap:\")\n",
        "for a in heap:\n",
        "\tprint(a)\n",
        "print(\"----------------------\")\n",
        "print(\"The smallest item in the heap:\")\n",
        "print(heap[0])\n",
        "print(\"----------------------\")\n",
        "print(\"Pop the smallest item in the heap:\")\n",
        "heapq.heappop(heap)\n",
        "for a in heap:\n",
        "\tprint(a)"
      ],
      "metadata": {
        "colab": {
          "base_uri": "https://localhost:8080/"
        },
        "id": "28-LOcoEeyDh",
        "outputId": "79b65c6f-2210-4112-f189-2b8f072eea00"
      },
      "execution_count": null,
      "outputs": [
        {
          "output_type": "stream",
          "name": "stdout",
          "text": [
            "Items in the heap:\n",
            "('VI', 1)\n",
            "('VII', 2)\n",
            "('VIII', 3)\n",
            "----------------------\n",
            "The smallest item in the heap:\n",
            "('VI', 1)\n",
            "----------------------\n",
            "Pop the smallest item in the heap:\n",
            "('VII', 2)\n",
            "('VIII', 3)\n"
          ]
        }
      ]
    },
    {
      "cell_type": "markdown",
      "source": [
        "\n",
        "\n",
        "Q45. Write the Python program to locate the left insertion point for a specified value in sorted order? Expected Output: 4 2\n"
      ],
      "metadata": {
        "id": "EgjZklrIfQ5M"
      }
    },
    {
      "cell_type": "code",
      "source": [
        "import bisect\n",
        "def index(a, x):\n",
        "    i = bisect.bisect_left(a, x)\n",
        "    return i\n",
        "    \n",
        "a = [1,2,4,5]\n",
        "print(index(a, 6))\n",
        "print(index(a, 3))"
      ],
      "metadata": {
        "colab": {
          "base_uri": "https://localhost:8080/"
        },
        "id": "p9N5IKGJfDP1",
        "outputId": "b0d5a153-e833-47b1-b861-0a663f52071d"
      },
      "execution_count": null,
      "outputs": [
        {
          "output_type": "stream",
          "name": "stdout",
          "text": [
            "4\n",
            "2\n"
          ]
        }
      ]
    },
    {
      "cell_type": "markdown",
      "source": [
        "\n",
        "\n",
        "Q46. Write the Python program to create the FIFO queue? Expected Output: 0 1 2 3\n"
      ],
      "metadata": {
        "id": "ygcmSUSmfZ-y"
      }
    },
    {
      "cell_type": "code",
      "source": [
        "import queue\n",
        "q = queue.Queue()\n",
        "#insert items at the end of the queue \n",
        "for x in range(4):\n",
        "    q.put(x)\n",
        "#remove items from the head of the queue \n",
        "while not q.empty():\n",
        "    print(q.get(), end=\" \")\n",
        "print(\"\\n\")\n"
      ],
      "metadata": {
        "colab": {
          "base_uri": "https://localhost:8080/"
        },
        "id": "nEHtq2EYfUND",
        "outputId": "59414219-2f7e-4251-94db-b00f427982d3"
      },
      "execution_count": null,
      "outputs": [
        {
          "output_type": "stream",
          "name": "stdout",
          "text": [
            "0 1 2 3 \n",
            "\n"
          ]
        }
      ]
    },
    {
      "cell_type": "markdown",
      "source": [
        "\n",
        "Q47. Write the Python program to calculate the harmonic sum of n-1. Note: The harmonic sum is the sum of reciprocals of the positive Integers? Example -\n"
      ],
      "metadata": {
        "id": "ygAjMwYMfq6K"
      }
    },
    {
      "cell_type": "code",
      "source": [
        "def harmonic_sum(n):\n",
        "  if n < 2:\n",
        "    return 1\n",
        "  else:\n",
        "    return 1 / n + (harmonic_sum(n - 1))\n",
        "    \n",
        "print(harmonic_sum(7))\n",
        "print(harmonic_sum(4))"
      ],
      "metadata": {
        "colab": {
          "base_uri": "https://localhost:8080/"
        },
        "id": "i36g66gMfh1a",
        "outputId": "d366f52c-25a8-4db4-f311-a5ed043be1e7"
      },
      "execution_count": null,
      "outputs": [
        {
          "output_type": "stream",
          "name": "stdout",
          "text": [
            "2.5928571428571425\n",
            "2.083333333333333\n"
          ]
        }
      ]
    },
    {
      "cell_type": "markdown",
      "source": [
        "\n",
        "\n",
        "Q48. Write the NumPy program to create a 2d array with 6 on the border and 0 inside? Expected Output- Original array- [ [6 6 6 6 6] [ 6 6 6 6 6] [ 6 6 6 6 6 ] [ 6 6 6 6 6 ] [ 6 6 6 6 ] ]. 6 on the border and 0 inside in the array- [[ 6 6 6 6 6] [ 6 0 0 0 6] [ 6 0 0 0 6] [ 6 0 0 0 6] [ 6 6 6 6 6]].\n"
      ],
      "metadata": {
        "id": "zEG38P6PgAFM"
      }
    },
    {
      "cell_type": "code",
      "source": [
        "import numpy as np"
      ],
      "metadata": {
        "id": "sDGevP1AgQhN"
      },
      "execution_count": null,
      "outputs": []
    },
    {
      "cell_type": "code",
      "source": [
        "arr1 = np.full((5,5), 6)\n",
        "print(\"Original array-\\n\", arr1)\n",
        "arr1[1:-1,1:-1] = 0\n",
        "print(\"\\n6 on the border and 0 inside in the array\")\n",
        "arr1"
      ],
      "metadata": {
        "colab": {
          "base_uri": "https://localhost:8080/"
        },
        "id": "vLgejPhGf0-W",
        "outputId": "058f3a65-69e0-405a-b87a-2aba029b1821"
      },
      "execution_count": null,
      "outputs": [
        {
          "output_type": "stream",
          "name": "stdout",
          "text": [
            "Original array-\n",
            " [[6 6 6 6 6]\n",
            " [6 6 6 6 6]\n",
            " [6 6 6 6 6]\n",
            " [6 6 6 6 6]\n",
            " [6 6 6 6 6]]\n",
            "\n",
            "6 on the border and 0 inside in the array\n"
          ]
        },
        {
          "output_type": "execute_result",
          "data": {
            "text/plain": [
              "array([[6, 6, 6, 6, 6],\n",
              "       [6, 0, 0, 0, 6],\n",
              "       [6, 0, 0, 0, 6],\n",
              "       [6, 0, 0, 0, 6],\n",
              "       [6, 6, 6, 6, 6]])"
            ]
          },
          "metadata": {},
          "execution_count": 31
        }
      ]
    },
    {
      "cell_type": "markdown",
      "source": [
        "Q49. Write the NumPy program to create a 8x8 matrix and fill it with the checkerboard pattern? Checkerboard pattern- [[3 9 3 9 3 9 3 9] [9 3 9 3 9 3 9 3] [3 9 3 9 3 9 3 9] [9 3 9 3 9 3 9 3] [3 9 3 9 3 9 3 9] [9 3 9 3 9 3 9 3] [3 9 3 9 3 9 3 9] [9 3 9 3 9 3 9 3]]."
      ],
      "metadata": {
        "id": "efAslSQVgk16"
      }
    },
    {
      "cell_type": "code",
      "source": [
        "arr1 = np.full((8,8), 3)\n",
        "arr1[1::2,::2] = 9\n",
        "arr1[::2,1::2] = 9\n",
        "arr1"
      ],
      "metadata": {
        "colab": {
          "base_uri": "https://localhost:8080/"
        },
        "id": "9k9rEOLsgOfb",
        "outputId": "44c93a95-b651-4567-fc8b-7d8f48b71c61"
      },
      "execution_count": null,
      "outputs": [
        {
          "output_type": "execute_result",
          "data": {
            "text/plain": [
              "array([[3, 9, 3, 9, 3, 9, 3, 9],\n",
              "       [9, 3, 9, 3, 9, 3, 9, 3],\n",
              "       [3, 9, 3, 9, 3, 9, 3, 9],\n",
              "       [9, 3, 9, 3, 9, 3, 9, 3],\n",
              "       [3, 9, 3, 9, 3, 9, 3, 9],\n",
              "       [9, 3, 9, 3, 9, 3, 9, 3],\n",
              "       [3, 9, 3, 9, 3, 9, 3, 9],\n",
              "       [9, 3, 9, 3, 9, 3, 9, 3]])"
            ]
          },
          "metadata": {},
          "execution_count": 32
        }
      ]
    },
    {
      "cell_type": "markdown",
      "source": [
        "\n",
        "\n",
        "Q50. Write the NumPy program to create an empty and a full array. Expected Output- [[4.45057637e-308 1.78021527e-306 8.45549797e-307 1.37962049e-306] [1.11260619e-306 1.78010255e-306 9.79054228e-307 4.45057637e-308] [8.45596650e-307 9.34602321e-307 4.94065646e-322 0.00000000e+000]] [[6 6 6] [6 6 6] [6 6 6]]\n"
      ],
      "metadata": {
        "id": "cVO4_aELg-v3"
      }
    },
    {
      "cell_type": "code",
      "source": [
        "#empty array\n",
        "arr1 = np.empty((3,4))\n",
        "print(arr1)\n",
        "\n",
        "#full array\n",
        "arr1 = np.full((3,3),6)\n",
        "print(arr1)"
      ],
      "metadata": {
        "colab": {
          "base_uri": "https://localhost:8080/"
        },
        "id": "-3jiLMaXgME4",
        "outputId": "2b4df891-ffec-4977-f00c-0c8806f8147c"
      },
      "execution_count": null,
      "outputs": [
        {
          "output_type": "stream",
          "name": "stdout",
          "text": [
            "[[1.45601383e-316 0.00000000e+000 0.00000000e+000 0.00000000e+000]\n",
            " [0.00000000e+000 0.00000000e+000 0.00000000e+000 0.00000000e+000]\n",
            " [0.00000000e+000 0.00000000e+000 0.00000000e+000 0.00000000e+000]]\n",
            "[[6 6 6]\n",
            " [6 6 6]\n",
            " [6 6 6]]\n"
          ]
        }
      ]
    },
    {
      "cell_type": "markdown",
      "source": [
        "\n",
        "\n",
        "Q51. Write the NumPy program to convert the values of Centigrade degrees into the Fahrenheit degrees and the centigrade values are stored in the NumPy array.\n",
        "\n",
        "Sample Array -[0, 12, 45.21 ,34, 99.91]\n",
        "\n",
        "Expected Output- Values in Fahrenheit degrees- [ 0. 12. 45.21 34. 99.91]\n",
        "\n",
        "Values in Centigrade degrees- [-17.77777778 -11.11111111 7.33888889 1.11111111 37.72777778]\n"
      ],
      "metadata": {
        "id": "syA4L1Oq0EJ2"
      }
    },
    {
      "cell_type": "code",
      "source": [
        "import numpy as np\n",
        "import pandas as pd"
      ],
      "metadata": {
        "id": "_HX_IgsRgIhT"
      },
      "execution_count": null,
      "outputs": []
    },
    {
      "cell_type": "code",
      "source": [
        "fvalues = [0, 12, 45.21, 34, 99.91]\n",
        "F = np.array(fvalues)\n",
        "print(\"Values in Fahrenheit degrees:\")\n",
        "print(F)\n",
        "print(\"Values in  Centigrade degrees:\") \n",
        "print(5*F/9 - 5*32/9)"
      ],
      "metadata": {
        "colab": {
          "base_uri": "https://localhost:8080/"
        },
        "id": "wY3MSXal0gnp",
        "outputId": "8acfa03e-41b0-4391-a1e3-dde711acfbdc"
      },
      "execution_count": null,
      "outputs": [
        {
          "output_type": "stream",
          "name": "stdout",
          "text": [
            "Values in Fahrenheit degrees:\n",
            "[ 0.   12.   45.21 34.   99.91]\n",
            "Values in  Centigrade degrees:\n",
            "[-17.77777778 -11.11111111   7.33888889   1.11111111  37.72777778]\n"
          ]
        }
      ]
    },
    {
      "cell_type": "markdown",
      "source": [
        "\n",
        "\n",
        "Q52. Write the NumPy program to find the real and imaginary parts of an array of complex numbers?\n",
        "\n",
        "Expected Output- Original array [ 1.00000000+0.j 0.70710678+0.70710678j]\n",
        "\n",
        "Real part of the array- [ 1. 0.70710678]\n",
        "\n",
        "Imaginary part of the array- [ 0. 0.70710678]\n"
      ],
      "metadata": {
        "id": "KwIZrPQI03X7"
      }
    },
    {
      "cell_type": "code",
      "source": [
        "x = np.sqrt([1+0j])\n",
        "y = np.sqrt([0+1j])\n",
        "\n",
        "print(\"Original array:x \",x)\n",
        "print(\"Original array:y \",y)\n",
        "print(\"\\nReal part of the array:\")\n",
        "print(x.real)\n",
        "print(y.real)\n",
        "print(\"\\nImaginary part of the array:\")\n",
        "print(x.imag)\n",
        "print(y.imag)"
      ],
      "metadata": {
        "colab": {
          "base_uri": "https://localhost:8080/"
        },
        "id": "Sb4MECFN0X3_",
        "outputId": "8ab9e233-ac6c-43bd-b4e0-d58ab292531a"
      },
      "execution_count": null,
      "outputs": [
        {
          "output_type": "stream",
          "name": "stdout",
          "text": [
            "Original array:x  [1.+0.j]\n",
            "Original array:y  [0.70710678+0.70710678j]\n",
            "\n",
            "Real part of the array:\n",
            "[1.]\n",
            "[0.70710678]\n",
            "\n",
            "Imaginary part of the array:\n",
            "[0.]\n",
            "[0.70710678]\n"
          ]
        }
      ]
    },
    {
      "cell_type": "markdown",
      "source": [
        "\n",
        "\n",
        "Q53. Write the NumPy program to test whether each element of a 1-D array is also present in the second array? Expected Output- Array1: [ 0 10 20 40 60] Array2: [0, 40] Compare each element of array1 and array2 [ True False False True False]\n"
      ],
      "metadata": {
        "id": "OJ0OXw-P2QRm"
      }
    },
    {
      "cell_type": "code",
      "source": [
        "import numpy as np\n",
        "array1 = np.array([0, 10, 20, 40, 60])\n",
        "print(\"Array1: \",array1)\n",
        "array2 = [0, 40]\n",
        "print(\"Array2: \",array2)\n",
        "print(\"\\nCompare each element of array1 and array2\")\n",
        "print(np.in1d(array1, array2))"
      ],
      "metadata": {
        "colab": {
          "base_uri": "https://localhost:8080/"
        },
        "id": "vKegsa6P1BjH",
        "outputId": "721d8d38-ea82-4c05-a930-048cd8d15ccc"
      },
      "execution_count": null,
      "outputs": [
        {
          "output_type": "stream",
          "name": "stdout",
          "text": [
            "Array1:  [ 0 10 20 40 60]\n",
            "Array2:  [0, 40]\n",
            "\n",
            "Compare each element of array1 and array2\n",
            "[ True False False  True False]\n"
          ]
        }
      ]
    },
    {
      "cell_type": "markdown",
      "source": [
        "\n",
        "\n",
        "Q54. Write the NumPy program to find common values between two arrays? Expected Output- Array1: [ 0 10 20 40 60] Array2: [10, 30, 40] Common values between two arrays- [10 40]\n"
      ],
      "metadata": {
        "id": "llbC3jTj3af0"
      }
    },
    {
      "cell_type": "code",
      "source": [
        "array1 = np.array([0, 10, 20, 40, 60])\n",
        "print(\"Array1: \",array1)\n",
        "array2 = [10, 30, 40]\n",
        "print(\"Array2: \",array2)\n",
        "print(\"\\nCommon values between two arrays:\")\n",
        "print(np.intersect1d(array1, array2))"
      ],
      "metadata": {
        "colab": {
          "base_uri": "https://localhost:8080/"
        },
        "id": "zQ3l6IBg2_1b",
        "outputId": "e00a3c7e-914a-418f-e596-6a71b8fefdf6"
      },
      "execution_count": null,
      "outputs": [
        {
          "output_type": "stream",
          "name": "stdout",
          "text": [
            "Array1:  [ 0 10 20 40 60]\n",
            "Array2:  [10, 30, 40]\n",
            "\n",
            "Common values between two arrays:\n",
            "[10 40]\n"
          ]
        }
      ]
    },
    {
      "cell_type": "markdown",
      "source": [
        "Q55. Write the NumPy program to get the unique elements of an array? Expected Output- Original array- [10 10 20 20 30 30] Unique elements of the above array- [10 20 30] Original array- [[1 1] [2 3]] Unique elements of the above array- [1 2 3]"
      ],
      "metadata": {
        "id": "-oF4Zjah3u9d"
      }
    },
    {
      "cell_type": "code",
      "source": [
        "x = np.array([10, 10, 20, 20, 30, 30])\n",
        "print(\"Original array:\")\n",
        "print(x)\n",
        "print(\"\\nUnique elements of the above array:\")\n",
        "print(np.unique(x))"
      ],
      "metadata": {
        "colab": {
          "base_uri": "https://localhost:8080/"
        },
        "id": "gk5XGAoh3ocx",
        "outputId": "45bf0d82-e0d4-4e6c-87a2-1017fa75df8a"
      },
      "execution_count": null,
      "outputs": [
        {
          "output_type": "stream",
          "name": "stdout",
          "text": [
            "Original array:\n",
            "[10 10 20 20 30 30]\n",
            "\n",
            "Unique elements of the above array:\n",
            "[10 20 30]\n"
          ]
        }
      ]
    },
    {
      "cell_type": "code",
      "source": [
        "x = np.array([[1, 1], [2, 3]])\n",
        "print(\"\\nOriginal array:\")\n",
        "print(x)\n",
        "print(\"\\nUnique elements of the above array:\")\n",
        "print(np.unique(x))"
      ],
      "metadata": {
        "colab": {
          "base_uri": "https://localhost:8080/"
        },
        "id": "WIuqTtj134aU",
        "outputId": "123acf56-ea63-44fa-d69f-192bb90b6f9d"
      },
      "execution_count": null,
      "outputs": [
        {
          "output_type": "stream",
          "name": "stdout",
          "text": [
            "\n",
            "Original array:\n",
            "[[1 1]\n",
            " [2 3]]\n",
            "\n",
            "Unique elements of the above array:\n",
            "[1 2 3]\n"
          ]
        }
      ]
    },
    {
      "cell_type": "markdown",
      "source": [
        "Q56. Write the NumPy program to find the set exclusive-or of two arrays. Set exclusive-or will return the sorted, unique values that are in only one (not both) of the input arrays? Array1- [ 0 10 20 40 60 80] Array2- [10, 30, 40, 50, 70] Unique values that are in only one (not both) of the input arrays- [ 0 20 30 50 60 70 80]"
      ],
      "metadata": {
        "id": "EurUTCPf4HzN"
      }
    },
    {
      "cell_type": "code",
      "source": [
        "array1 = np.array([0, 10, 20, 40, 60, 80])\n",
        "print(\"Array1: \",array1)\n",
        "array2 = [10, 30, 40, 50, 70]\n",
        "print(\"Array2: \",array2)\n",
        "print(\"\\nUnique values that are in only one (not both) of the input arrays:\")\n",
        "print(np.setxor1d(array1, array2))#Return the sorted, unique values that are in only one (not both) of the input arrays."
      ],
      "metadata": {
        "colab": {
          "base_uri": "https://localhost:8080/"
        },
        "id": "q7uTJpGQ39FN",
        "outputId": "dab29501-583e-4ace-9273-04cdbe4dd0ec"
      },
      "execution_count": null,
      "outputs": [
        {
          "output_type": "stream",
          "name": "stdout",
          "text": [
            "Array1:  [ 0 10 20 40 60 80]\n",
            "Array2:  [10, 30, 40, 50, 70]\n",
            "\n",
            "Unique values that are in only one (not both) of the input arrays:\n",
            "[ 0 20 30 50 60 70 80]\n"
          ]
        }
      ]
    },
    {
      "cell_type": "markdown",
      "source": [
        "Q57. Write the NumPy program to test if all elements in an array evaluate to True ? Note: 0 evaluates to False in NumPy."
      ],
      "metadata": {
        "id": "JpSOAlRa4qaf"
      }
    },
    {
      "cell_type": "code",
      "source": [
        "print(np.all([[True,False],[True,True]]))\n",
        "print(np.all([[True,True],[True,True]]))"
      ],
      "metadata": {
        "colab": {
          "base_uri": "https://localhost:8080/"
        },
        "id": "bbNy4g2-4aM6",
        "outputId": "8b30af2f-e9dd-4f00-f2b9-f85f360a9dfc"
      },
      "execution_count": null,
      "outputs": [
        {
          "output_type": "stream",
          "name": "stdout",
          "text": [
            "False\n",
            "True\n"
          ]
        }
      ]
    },
    {
      "cell_type": "markdown",
      "source": [
        "Q58 Write the NumPy program to test whether any array element along the given axis evaluates to True? Note: 0 evaluates to False in NumPy.\n"
      ],
      "metadata": {
        "id": "bw_Q9mfc5OHb"
      }
    },
    {
      "cell_type": "code",
      "source": [
        "\n",
        "print(np.all([10, 20, -2, 1]))\n",
        "print(np.all([10, 20, 0]))"
      ],
      "metadata": {
        "colab": {
          "base_uri": "https://localhost:8080/"
        },
        "id": "y6C4PFa05Kab",
        "outputId": "fe093a5e-e6a8-4469-948a-a7cd5d6477fa"
      },
      "execution_count": null,
      "outputs": [
        {
          "output_type": "stream",
          "name": "stdout",
          "text": [
            "True\n",
            "False\n"
          ]
        }
      ]
    },
    {
      "cell_type": "markdown",
      "source": [
        "\n",
        "\n",
        "Q59. Write the NumPy program to construct an array by repeating? Sample array- [1, 2, 3, 4] Expected Output- Original array [1, 2, 3, 4] Repeating 2 times [1 2 3 4 1 2 3 4] P a g e 15 | 44 Repeating 3 times [1 2 3 4 1 2 3 4 1 2 3 4]\n"
      ],
      "metadata": {
        "id": "5CZECSRG5jPl"
      }
    },
    {
      "cell_type": "code",
      "source": [
        "a = [1, 2, 3, 4]\n",
        "print(\"Original array\")\n",
        "print(a)\n",
        "print(\"Repeating 2 times\")\n",
        "x = np.tile(a, 2)\n",
        "print(x)\n",
        "print(\"Repeating 3 times\")\n",
        "x = np.tile(a, 3)\n",
        "print(x)"
      ],
      "metadata": {
        "colab": {
          "base_uri": "https://localhost:8080/"
        },
        "id": "42EiAXuy5egw",
        "outputId": "39590224-5c4c-4efd-b4ca-dd51496de16e"
      },
      "execution_count": null,
      "outputs": [
        {
          "output_type": "stream",
          "name": "stdout",
          "text": [
            "Original array\n",
            "[1, 2, 3, 4]\n",
            "Repeating 2 times\n",
            "[1 2 3 4 1 2 3 4]\n",
            "Repeating 3 times\n",
            "[1 2 3 4 1 2 3 4 1 2 3 4]\n"
          ]
        }
      ]
    },
    {
      "cell_type": "markdown",
      "source": [
        "\n",
        "\n",
        "Q60. Write the NumPy program to find the indices of the maximum and minimum values with the given axis of an array? Original array- [1 2 3 4 5 6] Maximum Values- 5 Minimum Values- 0\n"
      ],
      "metadata": {
        "id": "6klNjvOJ5x8C"
      }
    },
    {
      "cell_type": "code",
      "source": [
        "x = np.array([1, 2, 3, 4, 5, 6])\n",
        "print(\"Original array: \",x)\n",
        "print(\"Maximum Values: \",np.argmax(x))\n",
        "print(\"Minimum Values: \",np.argmin(x))"
      ],
      "metadata": {
        "colab": {
          "base_uri": "https://localhost:8080/"
        },
        "id": "mMc5de9H5sG3",
        "outputId": "1636528d-470f-496f-9bf2-bf4df512a097"
      },
      "execution_count": null,
      "outputs": [
        {
          "output_type": "stream",
          "name": "stdout",
          "text": [
            "Original array:  [1 2 3 4 5 6]\n",
            "Maximum Values:  5\n",
            "Minimum Values:  0\n"
          ]
        }
      ]
    },
    {
      "cell_type": "markdown",
      "source": [
        "Q61. Write the NumPy program compare two arrays using numpy? Array a- [1 2] Array b- [4 5] a > b [False False] a >= b [False False] a < b [ True True] a <= b [ True True]"
      ],
      "metadata": {
        "id": "rr-GLxor6IBn"
      }
    },
    {
      "cell_type": "code",
      "source": [
        "a = np.array([1, 2])\n",
        "b = np.array([4, 5])\n",
        "print(\"Array a: \",a)\n",
        "print(\"Array b: \",b)\n",
        "print(\"a > b\")\n",
        "print(np.greater(a, b))\n",
        "print(\"a >= b\")\n",
        "print(np.greater_equal(a, b))\n",
        "print(\"a < b\")\n",
        "print(np.less(a, b))\n",
        "print(\"a <= b\")\n",
        "print(np.less_equal(a, b))"
      ],
      "metadata": {
        "colab": {
          "base_uri": "https://localhost:8080/"
        },
        "id": "HYUEmEZ35-nY",
        "outputId": "c9aa41e1-7672-4891-b9e6-214f1f3c976a"
      },
      "execution_count": null,
      "outputs": [
        {
          "output_type": "stream",
          "name": "stdout",
          "text": [
            "Array a:  [1 2]\n",
            "Array b:  [4 5]\n",
            "a > b\n",
            "[False False]\n",
            "a >= b\n",
            "[False False]\n",
            "a < b\n",
            "[ True  True]\n",
            "a <= b\n",
            "[ True  True]\n"
          ]
        }
      ]
    },
    {
      "cell_type": "markdown",
      "source": [
        "\n",
        "\n",
        "Q62. Write the NumPy program to sort an along the first, last axis of an array? Sample array- [[2,5],[4,4]] Expected Output- Original array: [[4 6] [2 1]] Sort along the first axis: [[2 1] [4 6]] P a g e 16 | 44 Sort along the last axis- [[1 2] [4 6]]\n"
      ],
      "metadata": {
        "id": "_UEaANV76XqN"
      }
    },
    {
      "cell_type": "code",
      "source": [
        "a = np.array([[4, 6],[2, 1]])\n",
        "print(\"Original array: \")\n",
        "print(a)\n",
        "print(\"Sort along the first axis: \")\n",
        "x = np.sort(a, axis=0)\n",
        "print(x)\n",
        "print(\"Sort along the last axis: \")\n",
        "y = np.sort(x, axis=1)\n",
        "print(y)\n",
        "     "
      ],
      "metadata": {
        "colab": {
          "base_uri": "https://localhost:8080/"
        },
        "id": "dJxJJCZP6R_5",
        "outputId": "b5d9561c-ab75-4a8c-907e-8ee0335047ad"
      },
      "execution_count": null,
      "outputs": [
        {
          "output_type": "stream",
          "name": "stdout",
          "text": [
            "Original array: \n",
            "[[4 6]\n",
            " [2 1]]\n",
            "Sort along the first axis: \n",
            "[[2 1]\n",
            " [4 6]]\n",
            "Sort along the last axis: \n",
            "[[1 2]\n",
            " [4 6]]\n"
          ]
        }
      ]
    },
    {
      "cell_type": "markdown",
      "source": [
        "\n",
        "\n",
        "Q63. Write the NumPy program to sort pairs of first name and last name return their indices (first by last name, then by first name). first_names - ( Betsey, Shelley, Lanell, Genesis, Margery ) last_names - ( Battle, Brien, Plotner, Stahl, Woolum ) Expected Output- [1 3 2 4 0]\n"
      ],
      "metadata": {
        "id": "g4vlplF87Vnm"
      }
    },
    {
      "cell_type": "code",
      "source": [
        "first_names =    ('Margery', 'Betsey', 'Shelley', 'Lanell', 'Genesis')\n",
        "last_names = ('Woolum', 'Battle', 'Plotner', 'Brien', 'Stahl')\n",
        "x = np.lexsort((first_names, last_names))\n",
        "print(x)"
      ],
      "metadata": {
        "colab": {
          "base_uri": "https://localhost:8080/"
        },
        "id": "GOs6FgLZ7M8A",
        "outputId": "fb03a489-57e1-488f-836b-7c161dea0c23"
      },
      "execution_count": null,
      "outputs": [
        {
          "output_type": "stream",
          "name": "stdout",
          "text": [
            "[1 3 2 4 0]\n"
          ]
        }
      ]
    },
    {
      "cell_type": "markdown",
      "source": [
        "\n",
        "\n",
        "Q64. Write the NumPy program to get the values and indices of the elements that are bigger than 10 in the given array? Original array- [[ 0 10 20] [20 30 40]] Values bigger than 10 = [20 20 30 40] Their indices are (array([0, 1, 1, 1]), array([2, 0, 1, 2]))\n"
      ],
      "metadata": {
        "id": "j0bA3Ab48HtZ"
      }
    },
    {
      "cell_type": "code",
      "source": [
        "x = np.array([[0, 10, 20], [20, 30, 40]])\n",
        "print(\"Original array: \")\n",
        "print(x)\n",
        "print(\"Values bigger than 10 =\", x[x>10])\n",
        "print(\"Their indices are \", np.nonzero(x > 10))"
      ],
      "metadata": {
        "colab": {
          "base_uri": "https://localhost:8080/"
        },
        "id": "BzRw3u8a7oIW",
        "outputId": "6e12a320-4ddb-469a-b5e5-cf19df376251"
      },
      "execution_count": null,
      "outputs": [
        {
          "output_type": "stream",
          "name": "stdout",
          "text": [
            "Original array: \n",
            "[[ 0 10 20]\n",
            " [20 30 40]]\n",
            "Values bigger than 10 = [20 20 30 40]\n",
            "Their indices are  (array([0, 1, 1, 1]), array([2, 0, 1, 2]))\n"
          ]
        }
      ]
    },
    {
      "cell_type": "markdown",
      "source": [
        "\n",
        "\n",
        "Q65. Write the NumPy program to find the memory size of a NumPy array? Expected Output- 128 bytes\n"
      ],
      "metadata": {
        "id": "YjhSyFTz8nt6"
      }
    },
    {
      "cell_type": "code",
      "source": [
        "n = np.zeros((4,4))\n",
        "print(\"%d bytes\" % (n.size * n.itemsize))"
      ],
      "metadata": {
        "colab": {
          "base_uri": "https://localhost:8080/"
        },
        "id": "Ic_06_Dp8QDn",
        "outputId": "18dda0e4-af4b-4bae-a8ba-e01a5655975f"
      },
      "execution_count": null,
      "outputs": [
        {
          "output_type": "stream",
          "name": "stdout",
          "text": [
            "128 bytes\n"
          ]
        }
      ]
    },
    {
      "cell_type": "markdown",
      "source": [
        "\n",
        "\n",
        "Q66. Write the NumPy program to create an array of ones and an array of zeros? Expected Output- Create an array of zeros Default type is float\n",
        "\n",
        "[[ 0. 0.]] Type changes to int [[0 0]] Create an array of ones Default type is float [[ 1. 1.]] Type changes to int [[1 1]]\n"
      ],
      "metadata": {
        "id": "LrtKYTZS899g"
      }
    },
    {
      "cell_type": "code",
      "source": [
        "print(\"Create an array of zeros\")\n",
        "x = np.zeros((1,2))\n",
        "print(\"Default type is float\")\n",
        "print(x)\n",
        "print(\"Type changes to int\")\n",
        "x = np.zeros((1,2), dtype = np.int)\n",
        "print(x)\n",
        "print(\"Create an array of ones\")\n",
        "y= np.ones((1,2)) \n",
        "print(\"Default type is float\")\n",
        "print(y)\n",
        "print(\"Type changes to int\")\n",
        "y = np.ones((1,2), dtype = np.int)\n",
        "print(y)"
      ],
      "metadata": {
        "colab": {
          "base_uri": "https://localhost:8080/"
        },
        "id": "-O4ypG6K8riW",
        "outputId": "df63764a-8db2-4f0e-890c-06048493bc0f"
      },
      "execution_count": null,
      "outputs": [
        {
          "output_type": "stream",
          "name": "stdout",
          "text": [
            "Create an array of zeros\n",
            "Default type is float\n",
            "[[0. 0.]]\n",
            "Type changes to int\n",
            "[[0 0]]\n",
            "Create an array of ones\n",
            "Default type is float\n",
            "[[1. 1.]]\n",
            "Type changes to int\n",
            "[[1 1]]\n"
          ]
        },
        {
          "output_type": "stream",
          "name": "stderr",
          "text": [
            "<ipython-input-19-8b5709207623>:6: DeprecationWarning: `np.int` is a deprecated alias for the builtin `int`. To silence this warning, use `int` by itself. Doing this will not modify any behavior and is safe. When replacing `np.int`, you may wish to use e.g. `np.int64` or `np.int32` to specify the precision. If you wish to review your current use, check the release note link for additional information.\n",
            "Deprecated in NumPy 1.20; for more details and guidance: https://numpy.org/devdocs/release/1.20.0-notes.html#deprecations\n",
            "  x = np.zeros((1,2), dtype = np.int)\n",
            "<ipython-input-19-8b5709207623>:13: DeprecationWarning: `np.int` is a deprecated alias for the builtin `int`. To silence this warning, use `int` by itself. Doing this will not modify any behavior and is safe. When replacing `np.int`, you may wish to use e.g. `np.int64` or `np.int32` to specify the precision. If you wish to review your current use, check the release note link for additional information.\n",
            "Deprecated in NumPy 1.20; for more details and guidance: https://numpy.org/devdocs/release/1.20.0-notes.html#deprecations\n",
            "  y = np.ones((1,2), dtype = np.int)\n"
          ]
        }
      ]
    },
    {
      "cell_type": "markdown",
      "source": [
        "\n",
        "\n",
        "Q67. Write the NumPy program to change the dimension of an array? Expected Output- 6 rows and 0 columns (6,) (3, 3) -> 3 rows and 3 columns [[1 2 3] [4 5 6] [7 8 9]] Change array shape to (3, 3) -> 3 rows and 3 columns [[1 2 3] [4 5 6] [7 8 9]]\n"
      ],
      "metadata": {
        "id": "pR_ooTuL9PP1"
      }
    },
    {
      "cell_type": "code",
      "source": [
        "\n",
        "\n",
        "\n",
        "x = np.array([1, 2, 3, 4, 5, 6])\n",
        "print(\"6 rows and 0 columns\")\n",
        "print(x.shape)\n",
        "\n",
        "y = np.array([[1, 2, 3],[4, 5, 6],[7,8,9]])\n",
        "print(\"(3, 3) -> 3 rows and 3 columns \")\n",
        "print(y)\n",
        "\n",
        "x = np.array([1,2,3,4,5,6,7,8,9])\n",
        "print(\"Change array shape to (3, 3) -> 3 rows and 3 columns \")\n",
        "x.shape = (3, 3)\n",
        "print(x)\n",
        "     \n"
      ],
      "metadata": {
        "colab": {
          "base_uri": "https://localhost:8080/"
        },
        "id": "JpdwgI5P9BJG",
        "outputId": "07c3cd4c-1ffd-4058-9078-112eeceac6e6"
      },
      "execution_count": null,
      "outputs": [
        {
          "output_type": "stream",
          "name": "stdout",
          "text": [
            "6 rows and 0 columns\n",
            "(6,)\n",
            "(3, 3) -> 3 rows and 3 columns \n",
            "[[1 2 3]\n",
            " [4 5 6]\n",
            " [7 8 9]]\n",
            "Change array shape to (3, 3) -> 3 rows and 3 columns \n",
            "[[1 2 3]\n",
            " [4 5 6]\n",
            " [7 8 9]]\n"
          ]
        }
      ]
    },
    {
      "cell_type": "markdown",
      "source": [
        "Q68. Write the NumPy program to create a new shape to an array without changing its data ? Reshape 3x2- [[1 2] [3 4] [5 6]] Reshape 2x3- [[1 2 3] [4 5 6]]"
      ],
      "metadata": {
        "id": "H07A2KPy9jYW"
      }
    },
    {
      "cell_type": "code",
      "source": [
        "x = np.array([1, 2, 3, 4, 5, 6])\n",
        "y = np.reshape(x,(3,2))\n",
        "print(\"Reshape 3x2:\")\n",
        "print(y)\n",
        "z = np.reshape(x,(2,3))\n",
        "print(\"Reshape 2x3:\")\n",
        "print(z)"
      ],
      "metadata": {
        "colab": {
          "base_uri": "https://localhost:8080/"
        },
        "id": "8-Zuy2589d6A",
        "outputId": "7993ff65-eaba-4a25-d560-c8efe0698686"
      },
      "execution_count": null,
      "outputs": [
        {
          "output_type": "stream",
          "name": "stdout",
          "text": [
            "Reshape 3x2:\n",
            "[[1 2]\n",
            " [3 4]\n",
            " [5 6]]\n",
            "Reshape 2x3:\n",
            "[[1 2 3]\n",
            " [4 5 6]]\n"
          ]
        }
      ]
    },
    {
      "cell_type": "markdown",
      "source": [
        "Q69. Write the NumPy program to create a new array of 3*5, filled with 2? Expected Output- [[2 2 2 2 2] [2 2 2 2 2] [2 2 2 2 2]] [[2 2 2 2 2] [2 2 2 2 2] [2 2 2 2 2]]"
      ],
      "metadata": {
        "id": "KwtBuWuq90ap"
      }
    },
    {
      "cell_type": "code",
      "source": [
        "#using no.full\n",
        "x = np.full((3, 5), 2, dtype=np.uint)\n",
        "print(x)\n",
        "#using no.ones\n",
        "y = np.ones([3, 5], dtype=np.uint) *2\n",
        "print(y)"
      ],
      "metadata": {
        "colab": {
          "base_uri": "https://localhost:8080/"
        },
        "id": "HrB5UDyI9qKn",
        "outputId": "08fbd614-f6e4-4ad4-d7a1-2ebfe838f8a6"
      },
      "execution_count": null,
      "outputs": [
        {
          "output_type": "stream",
          "name": "stdout",
          "text": [
            "[[2 2 2 2 2]\n",
            " [2 2 2 2 2]\n",
            " [2 2 2 2 2]]\n",
            "[[2 2 2 2 2]\n",
            " [2 2 2 2 2]\n",
            " [2 2 2 2 2]]\n"
          ]
        }
      ]
    },
    {
      "cell_type": "markdown",
      "source": [
        "\n",
        "\n",
        "Q70. Write the NumPy program to create a 3-D array with ones on a diagonal and zeros elsewhere? Expected Output- [[ 1. 0. 0.] [ 0. 1. 0.] [ 0. 0. 1.]]\n"
      ],
      "metadata": {
        "id": "L3rD95gc-BoX"
      }
    },
    {
      "cell_type": "code",
      "source": [
        "x = np.eye(3)\n",
        "print(x)"
      ],
      "metadata": {
        "colab": {
          "base_uri": "https://localhost:8080/"
        },
        "id": "kfYKfL4c97yf",
        "outputId": "abab9c8f-c220-49c1-c7c2-bd20ec59b817"
      },
      "execution_count": null,
      "outputs": [
        {
          "output_type": "stream",
          "name": "stdout",
          "text": [
            "[[1. 0. 0.]\n",
            " [0. 1. 0.]\n",
            " [0. 0. 1.]]\n"
          ]
        }
      ]
    },
    {
      "cell_type": "markdown",
      "source": [
        "Q71. Write the NumPy program to split an array of 14 elements into the 3 arrays and each of which has 2, 4, and 8 elements in original order? Expected Output- Original array- [ 1 2 3 4 5 6 7 8 9 10 11 12 13 14] After splitting- [array([1, 2]), array([3, 4, 5, 6]), array([ 7, 8, 9, 10, 11, 12, 13, 14])]"
      ],
      "metadata": {
        "id": "qAZCZKYU-gal"
      }
    },
    {
      "cell_type": "code",
      "source": [
        "x = np.arange(1, 15)\n",
        "print(\"Original array:\",x)\n",
        "print(\"After splitting:\")\n",
        "print(np.split(x, [2, 6]))"
      ],
      "metadata": {
        "colab": {
          "base_uri": "https://localhost:8080/"
        },
        "id": "b__5TgBy-HPY",
        "outputId": "d87a9ba9-45f3-4703-bfae-7fd592fb86af"
      },
      "execution_count": null,
      "outputs": [
        {
          "output_type": "stream",
          "name": "stdout",
          "text": [
            "Original array: [ 1  2  3  4  5  6  7  8  9 10 11 12 13 14]\n",
            "After splitting:\n",
            "[array([1, 2]), array([3, 4, 5, 6]), array([ 7,  8,  9, 10, 11, 12, 13, 14])]\n"
          ]
        }
      ]
    },
    {
      "cell_type": "markdown",
      "source": [
        "\n",
        "\n",
        "Q72. Write the NumPy program to split of an array of shape 4x4 it into two arrays along the second axis ? Sample array - [[ 0 1 2 3] [ 4 5 6 7] [ 8 9 10 11] [12 13 14 15]] Expected Output- [array([[ 0, 1], [ 4, 5], [ 8, 9], [12, 13]]), array([[ 2, 3], [ 6, 7], [10, 11], [14, 15]]), array([], shape=(4, 0), dtype=int64)]\n"
      ],
      "metadata": {
        "id": "LIEfPPvR-lAJ"
      }
    },
    {
      "cell_type": "code",
      "source": [
        "x = np.arange(16).reshape((4, 4))\n",
        "print(\"Original array:\",x)\n",
        "print(\"After splitting horizontally:\")\n",
        "print(np.hsplit(x, [2, 6]))\n"
      ],
      "metadata": {
        "colab": {
          "base_uri": "https://localhost:8080/"
        },
        "id": "yiCY0KBy-cUL",
        "outputId": "c6592312-1607-4b9f-b726-674a27b064d5"
      },
      "execution_count": null,
      "outputs": [
        {
          "output_type": "stream",
          "name": "stdout",
          "text": [
            "Original array: [[ 0  1  2  3]\n",
            " [ 4  5  6  7]\n",
            " [ 8  9 10 11]\n",
            " [12 13 14 15]]\n",
            "After splitting horizontally:\n",
            "[array([[ 0,  1],\n",
            "       [ 4,  5],\n",
            "       [ 8,  9],\n",
            "       [12, 13]]), array([[ 2,  3],\n",
            "       [ 6,  7],\n",
            "       [10, 11],\n",
            "       [14, 15]]), array([], shape=(4, 0), dtype=int64)]\n"
          ]
        }
      ]
    },
    {
      "cell_type": "markdown",
      "source": [
        "Q73. Write the NumPy program to create a 5x5 matrix with row values ranging from 0 to 4? Original array- [[ 0. 0. 0. 0. 0.] [ 0. 0. 0. 0. 0.] [ 0. 0. 0. 0. 0.] [ 0. 0. 0. 0. 0.] [ 0. 0. 0. 0. 0.]] Row values ranging from 0 to 4. [[ 0. 1. 2. 3. 4.] [ 0. 1. 2. 3. 4.] [ 0. 1. 2. 3. 4.] [ 0. 1. 2. 3. 4.] [ 0. 1. 2. 3. 4.]]"
      ],
      "metadata": {
        "id": "7WIElN1L--DU"
      }
    },
    {
      "cell_type": "code",
      "source": [
        "x = np.zeros((5,5))\n",
        "print(\"Original array:\")\n",
        "print(x)\n",
        "print(\"Row values ranging from 0 to 4.\")\n",
        "x += np.arange(5)\n",
        "print(x)"
      ],
      "metadata": {
        "colab": {
          "base_uri": "https://localhost:8080/"
        },
        "id": "49swvG6x-zjb",
        "outputId": "766cbc22-ace1-41c5-b9f9-a0b17f419d82"
      },
      "execution_count": null,
      "outputs": [
        {
          "output_type": "stream",
          "name": "stdout",
          "text": [
            "Original array:\n",
            "[[0. 0. 0. 0. 0.]\n",
            " [0. 0. 0. 0. 0.]\n",
            " [0. 0. 0. 0. 0.]\n",
            " [0. 0. 0. 0. 0.]\n",
            " [0. 0. 0. 0. 0.]]\n",
            "Row values ranging from 0 to 4.\n",
            "[[0. 1. 2. 3. 4.]\n",
            " [0. 1. 2. 3. 4.]\n",
            " [0. 1. 2. 3. 4.]\n",
            " [0. 1. 2. 3. 4.]\n",
            " [0. 1. 2. 3. 4.]]\n"
          ]
        }
      ]
    },
    {
      "cell_type": "markdown",
      "source": [
        "\n",
        "\n",
        "Q74. Write the NumPy program to create an array of zeros and three column types (integer, float, character)? Expected Output- [(1, 2., b'Albert Einstein') (2, 2., b'Edmond Halley') (3, 3., b'Gertrude B. Elion')]\n"
      ],
      "metadata": {
        "id": "WzVpc6cH_Oj2"
      }
    },
    {
      "cell_type": "code",
      "source": [
        "x = np.zeros((3,), dtype=('i4,f4,a40'))\n",
        "new_data = [(1, 2., \"Albert Einstein\"), (2, 2., \"Edmond Halley\"), (3, 3., \"Gertrude B. Elion\")]\n",
        "x[:] = new_data\n",
        "print(x)"
      ],
      "metadata": {
        "colab": {
          "base_uri": "https://localhost:8080/"
        },
        "id": "0Z-IUA2m_Hwt",
        "outputId": "ae2bae50-2491-48ed-d68b-e324f7fb6323"
      },
      "execution_count": null,
      "outputs": [
        {
          "output_type": "stream",
          "name": "stdout",
          "text": [
            "[(1, 2., b'Albert Einstein') (2, 2., b'Edmond Halley')\n",
            " (3, 3., b'Gertrude B. Elion')]\n"
          ]
        }
      ]
    },
    {
      "cell_type": "markdown",
      "source": [
        "\n",
        "\n",
        "Q75. Write the NumPy program to remove the negative values in the numpy array with 0? Expected Output- Original array: [-1 -4 0 2 3 4 5 -6] Replace the negative values of the said array with 0- [0 0 0 2 3 4 5 0]\n"
      ],
      "metadata": {
        "id": "MGqbXa___kvC"
      }
    },
    {
      "cell_type": "code",
      "source": [
        "x = np.array([-1, -4, 0, 2, 3, 4, 5, -6])\n",
        "print(\"Original array:\")\n",
        "print(x)\n",
        "print(\"Replace the negative values of the said array with 0:\")\n",
        "x[x < 0] = 0\n",
        "print(x)"
      ],
      "metadata": {
        "colab": {
          "base_uri": "https://localhost:8080/"
        },
        "id": "_ktOvWfS_abJ",
        "outputId": "774ce3f3-db9f-4927-d62e-654c4fa0612c"
      },
      "execution_count": null,
      "outputs": [
        {
          "output_type": "stream",
          "name": "stdout",
          "text": [
            "Original array:\n",
            "[-1 -4  0  2  3  4  5 -6]\n",
            "Replace the negative values of the said array with 0:\n",
            "[0 0 0 2 3 4 5 0]\n"
          ]
        }
      ]
    },
    {
      "cell_type": "markdown",
      "source": [
        "Q76. Write the NumPy program to compute the histogram of a set of data?"
      ],
      "metadata": {
        "id": "gdt2BNcjUZ7B"
      }
    },
    {
      "cell_type": "code",
      "source": [
        "import matplotlib.pyplot as plt\n",
        "plt.hist([1, 2, 1], bins=[0, 1, 2, 3, 5])\n",
        "plt.show()"
      ],
      "metadata": {
        "id": "qhYMB9Jw_nqi",
        "colab": {
          "base_uri": "https://localhost:8080/",
          "height": 265
        },
        "outputId": "98235eea-ccaa-43a3-f841-210b0a6f9e71"
      },
      "execution_count": null,
      "outputs": [
        {
          "output_type": "display_data",
          "data": {
            "text/plain": [
              "<Figure size 432x288 with 1 Axes>"
            ],
            "image/png": "[encoded data removed]"
          },
          "metadata": {
            "needs_background": "light"
          }
        }
      ]
    },
    {
      "cell_type": "markdown",
      "source": [
        "\n",
        "\n",
        "Q77. Write the NumPy program to compute the line graph of a set of data?\n"
      ],
      "metadata": {
        "id": "sa6baIrfVA7R"
      }
    },
    {
      "cell_type": "code",
      "source": [
        "arr = np.random.randint(1, 50, 10)\n",
        "y, x = np.histogram(arr, bins=np.arange(51))\n",
        "fig, ax = plt.subplots()\n",
        "ax.plot(x[:-1], y)\n",
        "fig.show()"
      ],
      "metadata": {
        "colab": {
          "base_uri": "https://localhost:8080/",
          "height": 265
        },
        "id": "YI_NIcngUfBb",
        "outputId": "f9ea452f-08e5-4f6b-93f7-34f68a2457c6"
      },
      "execution_count": null,
      "outputs": [
        {
          "output_type": "display_data",
          "data": {
            "text/plain": [
              "<Figure size 432x288 with 1 Axes>"
            ],
            "image/png": "[encoded data removed]"
          },
          "metadata": {
            "needs_background": "light"
          }
        }
      ]
    },
    {
      "cell_type": "markdown",
      "source": [
        "\n",
        "\n",
        "Q78. Write the NumPy program to extracts all the elements from second row from given (4x4) array? Sample Output- Original array- [[ 0 1 2 3] [ 4 5 6 7] [ 8 9 10 11] [12 13 14 15]] Extracted data- Second row [4 5 6 7]\n"
      ],
      "metadata": {
        "id": "QuQKZtJTVTqx"
      }
    },
    {
      "cell_type": "code",
      "source": [
        "arra_data = np.arange(0,16).reshape((4, 4))\n",
        "print(\"Original array:\")\n",
        "print(arra_data)\n",
        "print(\"\\nExtracted data: Second row\")\n",
        "print(arra_data[1,:])"
      ],
      "metadata": {
        "colab": {
          "base_uri": "https://localhost:8080/"
        },
        "id": "C32iTvAIVJM9",
        "outputId": "d35d3e8f-8006-468c-9360-8c739af2c033"
      },
      "execution_count": null,
      "outputs": [
        {
          "output_type": "stream",
          "name": "stdout",
          "text": [
            "Original array:\n",
            "[[ 0  1  2  3]\n",
            " [ 4  5  6  7]\n",
            " [ 8  9 10 11]\n",
            " [12 13 14 15]]\n",
            "\n",
            "Extracted data: Second row\n",
            "[4 5 6 7]\n"
          ]
        }
      ]
    },
    {
      "cell_type": "markdown",
      "source": [
        "\n",
        "\n",
        "Q79. Write the NumPy program to extract first element of the second row and fourth element of fourth row from a given (4x4) array? Sample Output- Original array- [[ 0 1 2 3] [ 4 5 6 7] [ 8 9 10 11] [12 13 14 15]] Extracted data- First element of the second row and fourth element of fourth row [ 4 15]\n"
      ],
      "metadata": {
        "id": "TOpyvWJsWbKJ"
      }
    },
    {
      "cell_type": "code",
      "source": [
        "arra_data = np.arange(0,16).reshape((4, 4))\n",
        "print(\"Original array:\")\n",
        "print(arra_data)\n",
        "print(\"\\nExtracted data: First element of the second row and fourth element of fourth row  \")\n",
        "print(arra_data[[1,3], [0,3]])"
      ],
      "metadata": {
        "colab": {
          "base_uri": "https://localhost:8080/"
        },
        "id": "DOwlhqzVWUAy",
        "outputId": "ef522353-ea6d-486d-d5c3-2816b512b72c"
      },
      "execution_count": null,
      "outputs": [
        {
          "output_type": "stream",
          "name": "stdout",
          "text": [
            "Original array:\n",
            "[[ 0  1  2  3]\n",
            " [ 4  5  6  7]\n",
            " [ 8  9 10 11]\n",
            " [12 13 14 15]]\n",
            "\n",
            "Extracted data: First element of the second row and fourth element of fourth row  \n",
            "[ 4 15]\n"
          ]
        }
      ]
    },
    {
      "cell_type": "markdown",
      "source": [
        "\n",
        "\n",
        "Q80. Write the NumPy program to add two arrays A and B of sizes (3,3) and (,3)? Sample Output- Original array- Array-1 [[1 1 1] [1 1 1] [1 1 1]] Array-2 [0 1 2] A + B: [[1 2 3] P a g e 22 | 44 [1 2 3] [1 2 3]]\n"
      ],
      "metadata": {
        "id": "yd2lw96mWyW7"
      }
    },
    {
      "cell_type": "code",
      "source": [
        "A = np.ones((3,3))\n",
        "B = np.arange(3)\n",
        "print(\"Original array:\")\n",
        "print(\"Array-1\")\n",
        "print(A)\n",
        "print(\"Array-2\")\n",
        "print(B)\n",
        "print(\"A + B:\")\n",
        "new_array = A + B\n",
        "print(new_array)"
      ],
      "metadata": {
        "colab": {
          "base_uri": "https://localhost:8080/"
        },
        "id": "JAacyT55WfKn",
        "outputId": "0676b612-a84e-42ad-ddd2-af1a912ca05a"
      },
      "execution_count": null,
      "outputs": [
        {
          "output_type": "stream",
          "name": "stdout",
          "text": [
            "Original array:\n",
            "Array-1\n",
            "[[1. 1. 1.]\n",
            " [1. 1. 1.]\n",
            " [1. 1. 1.]]\n",
            "Array-2\n",
            "[0 1 2]\n",
            "A + B:\n",
            "[[1. 2. 3.]\n",
            " [1. 2. 3.]\n",
            " [1. 2. 3.]]\n"
          ]
        }
      ]
    },
    {
      "cell_type": "markdown",
      "source": [
        "\n",
        "\n",
        "Q81. Write the NumPy program to copy data from a given array to another array? Sample Output- Original array- [24 27 30 29 18 14] Copy of the said array- [24 27 30 29 18 14]\n"
      ],
      "metadata": {
        "id": "16yFwuMNXOe_"
      }
    },
    {
      "cell_type": "code",
      "source": [
        "x = np.array([24, 27, 30, 29, 18, 14])\n",
        "print(\"Original array:\")\n",
        "print(x)\n",
        "y = np.empty_like (x)\n",
        "y[:] = x\n",
        "print(\"\\nCopy of the said array:\")\n",
        "print(y)"
      ],
      "metadata": {
        "colab": {
          "base_uri": "https://localhost:8080/"
        },
        "id": "ZQec6AY5W8-A",
        "outputId": "ab2a7e9f-fac2-48a0-bc67-73fe2c0e6b8f"
      },
      "execution_count": null,
      "outputs": [
        {
          "output_type": "stream",
          "name": "stdout",
          "text": [
            "Original array:\n",
            "[24 27 30 29 18 14]\n",
            "\n",
            "Copy of the said array:\n",
            "[24 27 30 29 18 14]\n"
          ]
        }
      ]
    },
    {
      "cell_type": "markdown",
      "source": [
        "Q82. Write the NumPy program to calculate the sum of all columns of the 2D numpy array? Sample Output- Original array- [[ 0 1 2 3 4 5 6 7 8] [ 9 10 11 12 13 14 15 16 17] [18 19 20 21 22 23 24 25 26] [27 28 29 30 31 32 33 34 35]] Sum of all columns- [54 58 62 66 70 74 78 82 86]"
      ],
      "metadata": {
        "id": "53iqx5m7XXCh"
      }
    },
    {
      "cell_type": "code",
      "source": [
        "num = np.arange(36)\n",
        "arr1 = np.reshape(num, [4, 9])\n",
        "print(\"Original array:\")\n",
        "print(arr1)\n",
        "result  = arr1.sum(axis=0)\n",
        "print(\"\\nSum of all columns:\")\n",
        "print(result)"
      ],
      "metadata": {
        "colab": {
          "base_uri": "https://localhost:8080/"
        },
        "id": "9Gb3nJVnXRS7",
        "outputId": "eccac77d-8e44-449f-bc2d-4652984d408f"
      },
      "execution_count": null,
      "outputs": [
        {
          "output_type": "stream",
          "name": "stdout",
          "text": [
            "Original array:\n",
            "[[ 0  1  2  3  4  5  6  7  8]\n",
            " [ 9 10 11 12 13 14 15 16 17]\n",
            " [18 19 20 21 22 23 24 25 26]\n",
            " [27 28 29 30 31 32 33 34 35]]\n",
            "\n",
            "Sum of all columns:\n",
            "[54 58 62 66 70 74 78 82 86]\n"
          ]
        }
      ]
    },
    {
      "cell_type": "markdown",
      "source": [
        "Q83. Write the NumPy program to calculate averages without NaNs along the given array? Sample Output- Original array- [[10. 20. 30.] [40. 50. nan] [nan 6. nan] [nan nan nan]] P a g e 23 | 44 Averages without NaNs along the said array- [20. 45. 6. nan]"
      ],
      "metadata": {
        "id": "Ma30Ci9DXxGM"
      }
    },
    {
      "cell_type": "code",
      "source": [
        "\n",
        "\n",
        "arr1 = np.array([[10, 20 ,30], [40, 50, np.nan], [np.nan, 6, np.nan], [np.nan, np.nan, np.nan]])\n",
        "print(\"Original array:\")\n",
        "print(arr1)\n",
        "temp = np.ma.masked_array(arr1,np.isnan(arr1))\n",
        "result = np.mean(temp, axis=1)\n",
        "print(\"Averages without NaNs along the said array:\")\n",
        "print(result.filled(np.nan))\n",
        "     \n"
      ],
      "metadata": {
        "colab": {
          "base_uri": "https://localhost:8080/"
        },
        "id": "YjotBIOOXm36",
        "outputId": "7069b625-a9f4-4359-9e54-a62290962f0b"
      },
      "execution_count": null,
      "outputs": [
        {
          "output_type": "stream",
          "name": "stdout",
          "text": [
            "Original array:\n",
            "[[10. 20. 30.]\n",
            " [40. 50. nan]\n",
            " [nan  6. nan]\n",
            " [nan nan nan]]\n",
            "Averages without NaNs along the said array:\n",
            "[20. 45.  6. nan]\n"
          ]
        }
      ]
    },
    {
      "cell_type": "markdown",
      "source": [
        "\n",
        "\n",
        "Q84. Create two arrays of six elements. Write the NumPy program to count the number of instances of a value occurring in one array on the condition of another array. Sample Output- Original arrays- [ 10 -10 10 -10 -10 10] [0.85 0.45 0.9 0.8 0.12 0.6 ] Number of instances of a value occurring in one array on the condition of another array: 3\n"
      ],
      "metadata": {
        "id": "8a7Jg4MoYLW6"
      }
    },
    {
      "cell_type": "code",
      "source": [
        "x = np.array([10,-10,10,-10,-10,10])\n",
        "y = np.array([.85,.45,.9,.8,.12,.6])\n",
        "print(\"Original arrays:\")\n",
        "print(x)\n",
        "print(y)\n",
        "result = np.sum((x == 10) & (y > .5))\n",
        "print(\"\\nNumber of instances of a value occurring in one array on the condition of another array:\")\n",
        "print(result)\n",
        "     "
      ],
      "metadata": {
        "colab": {
          "base_uri": "https://localhost:8080/"
        },
        "id": "LCwBxdh2YEdp",
        "outputId": "ef19bd34-85dc-4c59-d09e-6e983926b5bd"
      },
      "execution_count": null,
      "outputs": [
        {
          "output_type": "stream",
          "name": "stdout",
          "text": [
            "Original arrays:\n",
            "[ 10 -10  10 -10 -10  10]\n",
            "[0.85 0.45 0.9  0.8  0.12 0.6 ]\n",
            "\n",
            "Number of instances of a value occurring in one array on the condition of another array:\n",
            "3\n"
          ]
        }
      ]
    },
    {
      "cell_type": "markdown",
      "source": [
        "\n",
        "\n",
        "Q85. Write the NumPy program to convert a Python dictionary to a Numpy ndarray ? Original dictionary- {'column0': {'a': 1, 'b': 0.0, 'c': 0.0, 'd': 2.0}, 'column1': {'a': 3.0, 'b': 1, 'c': 0.0, 'd': -1.0}, 'column2': {'a': 4, 'b': 1, 'c': 5.0, 'd': -1.0}, 'column3': {'a': 3.0, 'b': -1.0, 'c': -1.0, 'd': -1.0}} Type: <class 'dict'> ndarray- [[ 1. 0. 0. 2.] [ 3. 1. 0. -1.] [ 4. 1. 5. -1.] [ 3. -1. -1. -1.]] Type: <class 'numpy.ndarray'>\n"
      ],
      "metadata": {
        "id": "MQu9EKT9Y3wW"
      }
    },
    {
      "cell_type": "code",
      "source": [
        "from ast import literal_eval\n",
        "udict = \"\"\"{\"column0\":{\"a\":1,\"b\":0.0,\"c\":0.0,\"d\":2.0},\n",
        "   \"column1\":{\"a\":3.0,\"b\":1,\"c\":0.0,\"d\":-1.0},\n",
        "   \"column2\":{\"a\":4,\"b\":1,\"c\":5.0,\"d\":-1.0},\n",
        "   \"column3\":{\"a\":3.0,\"b\":-1.0,\"c\":-1.0,\"d\":-1.0}\n",
        "  }\"\"\"\n",
        "t = literal_eval(udict)\n",
        "print(\"\\nOriginal dictionary:\")\n",
        "print(t)\n",
        "print(\"Type: \",type(t))\n",
        "result_nparra = np.array([[v[j] for j in ['a', 'b', 'c', 'd']] for k, v in t.items()])\n",
        "print(\"\\nndarray:\")\n",
        "print(result_nparra)\n",
        "print(\"Type: \",type(result_nparra))"
      ],
      "metadata": {
        "colab": {
          "base_uri": "https://localhost:8080/"
        },
        "id": "NZFWYSPsYqUu",
        "outputId": "4aca1ceb-1413-44aa-9f49-0fe0f3aa407b"
      },
      "execution_count": null,
      "outputs": [
        {
          "output_type": "stream",
          "name": "stdout",
          "text": [
            "\n",
            "Original dictionary:\n",
            "{'column0': {'a': 1, 'b': 0.0, 'c': 0.0, 'd': 2.0}, 'column1': {'a': 3.0, 'b': 1, 'c': 0.0, 'd': -1.0}, 'column2': {'a': 4, 'b': 1, 'c': 5.0, 'd': -1.0}, 'column3': {'a': 3.0, 'b': -1.0, 'c': -1.0, 'd': -1.0}}\n",
            "Type:  <class 'dict'>\n",
            "\n",
            "ndarray:\n",
            "[[ 1.  0.  0.  2.]\n",
            " [ 3.  1.  0. -1.]\n",
            " [ 4.  1.  5. -1.]\n",
            " [ 3. -1. -1. -1.]]\n",
            "Type:  <class 'numpy.ndarray'>\n"
          ]
        }
      ]
    },
    {
      "cell_type": "markdown",
      "source": [
        "Q86. Write the Numpy program to find and store the non-zero unique rows in an array after comparing each row with other row in the given matrix? P a g e 24 | 44 Original array- [[ 1 1 0] [ 0 0 0] [ 0 2 3] [ 0 0 0] [ 0 -1 1] [ 0 0 0]] Non-zero unique rows- [[ 1 1 0] [ 0 2 3] [ 0 -1 1]]"
      ],
      "metadata": {
        "id": "GJAV_0lPZUYw"
      }
    },
    {
      "cell_type": "code",
      "source": [
        "arra = np.array([[ 1,  1,  0],\n",
        "                 [ 0,  0,  0],\n",
        "                 [ 0,  2,  3],\n",
        "                 [ 0,  0,  0],\n",
        "                 [ 0, -1,  1],\n",
        "                 [ 0,  0,  0]])\n",
        "\n",
        "print(\"Original array:\")\n",
        "print(arra)\n",
        "temp = {(0, 0, 0)}\n",
        "result = []\n",
        "for idx, row in enumerate(map(tuple, arra)):\n",
        "    if row not in temp:\n",
        "        result.append(idx)\n",
        "print(\"\\nNon-zero unique rows:\")\n",
        "print(arra[result])"
      ],
      "metadata": {
        "colab": {
          "base_uri": "https://localhost:8080/"
        },
        "id": "fQ02BfjMZJtN",
        "outputId": "4d8fb5d1-8819-4e3a-df2e-ec54eb1afd45"
      },
      "execution_count": null,
      "outputs": [
        {
          "output_type": "stream",
          "name": "stdout",
          "text": [
            "Original array:\n",
            "[[ 1  1  0]\n",
            " [ 0  0  0]\n",
            " [ 0  2  3]\n",
            " [ 0  0  0]\n",
            " [ 0 -1  1]\n",
            " [ 0  0  0]]\n",
            "\n",
            "Non-zero unique rows:\n",
            "[[ 1  1  0]\n",
            " [ 0  2  3]\n",
            " [ 0 -1  1]]\n"
          ]
        }
      ]
    },
    {
      "cell_type": "markdown",
      "source": [
        "Q87. Write the NumPy program to multiply the matrix by another matrix of complex numbers and create a new matrix of complex numbers? Sample output- First array- [ 1.+2.j 3.+4.j] Second array- [ 5.+6.j 7.+8.j] Product of above two arrays- (70-8j)"
      ],
      "metadata": {
        "id": "jb-LeHIlZukz"
      }
    },
    {
      "cell_type": "code",
      "source": [
        "x = np.array([1+2j,3+4j])\n",
        "print(\"First array:\")\n",
        "print(x)\n",
        "y = np.array([5+6j,7+8j])\n",
        "print(\"Second array:\")\n",
        "print(y)\n",
        "z = np.vdot(x, y)\n",
        "print(\"Product of above two arrays:\")\n",
        "print(z)"
      ],
      "metadata": {
        "colab": {
          "base_uri": "https://localhost:8080/"
        },
        "id": "K72LpbVVZnXv",
        "outputId": "2970f6aa-b5e8-4877-fe32-7000adfd6123"
      },
      "execution_count": null,
      "outputs": [
        {
          "output_type": "stream",
          "name": "stdout",
          "text": [
            "First array:\n",
            "[1.+2.j 3.+4.j]\n",
            "Second array:\n",
            "[5.+6.j 7.+8.j]\n",
            "Product of above two arrays:\n",
            "(70-8j)\n"
          ]
        }
      ]
    },
    {
      "cell_type": "markdown",
      "source": [
        "\n",
        "\n",
        "Q88. Write a NumPy program to generate the matrix product of two Arrays? Sample Output- Matrices and vectors. x- [[1, 0], [1, 1]] y- [[3, 1], [2, 2]] Matrix product of above two arrays- P a g e 25 | 44 [[3 1] [5 3]]\n"
      ],
      "metadata": {
        "id": "aWq5Qmn6Z9Cz"
      }
    },
    {
      "cell_type": "code",
      "source": [
        "x = [[1, 0], [1, 1]]\n",
        "y = [[3, 1], [2, 2]]\n",
        "print(\"Matrices and vectors.\")\n",
        "print(\"x:\")\n",
        "print(x)\n",
        "print(\"y:\")\n",
        "print(y)\n",
        "print(\"Matrix product of above two arrays:\")\n",
        "print(np.matmul(x, y))\n",
        "     \n"
      ],
      "metadata": {
        "colab": {
          "base_uri": "https://localhost:8080/"
        },
        "id": "uZ1MzD0KZ3hZ",
        "outputId": "7636b371-54db-4541-977c-2a5ba795279b"
      },
      "execution_count": null,
      "outputs": [
        {
          "output_type": "stream",
          "name": "stdout",
          "text": [
            "Matrices and vectors.\n",
            "x:\n",
            "[[1, 0], [1, 1]]\n",
            "y:\n",
            "[[3, 1], [2, 2]]\n",
            "Matrix product of above two arrays:\n",
            "[[3 1]\n",
            " [5 3]]\n"
          ]
        }
      ]
    },
    {
      "cell_type": "markdown",
      "source": [
        "Q89. Write the NumPy program to find roots of the following Polynomials? a) (x2 - 4x + 7) b) x4 - 11x3 + 9x2 + 11x ? 10 Sample output- Roots of the first polynomial- [ 1. 1.] Roots of the second polynomial- [ 11.04461946+0.j -0.87114210+0.j 0.91326132+0.4531004j 0.91326132-0.4531004j ]"
      ],
      "metadata": {
        "id": "VURPR0jVaVdz"
      }
    },
    {
      "cell_type": "code",
      "source": [
        "print(\"Roots of the first polynomial:\")\n",
        "print(np.roots([1, -2, 1]))\n",
        "print(\"Roots of the second polynomial:\")\n",
        "print(np.roots([1, -12, 10, 7, -10]))"
      ],
      "metadata": {
        "colab": {
          "base_uri": "https://localhost:8080/"
        },
        "id": "J6Mrs-1gaLRk",
        "outputId": "0c9ec27d-cadf-4de8-ac83-81fd3c2a87b5"
      },
      "execution_count": null,
      "outputs": [
        {
          "output_type": "stream",
          "name": "stdout",
          "text": [
            "Roots of the first polynomial:\n",
            "[1. 1.]\n",
            "Roots of the second polynomial:\n",
            "[11.04461946+0.j        -0.8711421 +0.j         0.91326132+0.4531004j\n",
            "  0.91326132-0.4531004j]\n"
          ]
        }
      ]
    },
    {
      "cell_type": "markdown",
      "source": [
        "Q90. Write the NumPy program to calculate inverse of sine, cosine, and inverse tangent for all elements in a given array? Sample output- Inverse sine- [-1.57079633 0. 1.57079633] Inverse cosine- [3.14159265 1.57079633 0. ] Inverse tangent- [-0.78539816 0. 0.78539816]"
      ],
      "metadata": {
        "id": "g-S6E3iiafhE"
      }
    },
    {
      "cell_type": "code",
      "source": [
        "\n",
        "\n",
        "x = np.array([-1., 0, 1.])\n",
        "print(\"Inverse sine:\", np.arcsin(x))\n",
        "print(\"Inverse cosine:\", np.arccos(x))\n",
        "print(\"Inverse tangent:\", np.arctan(x))\n",
        "     \n"
      ],
      "metadata": {
        "colab": {
          "base_uri": "https://localhost:8080/"
        },
        "id": "yoz8UQDzaZLy",
        "outputId": "7311bc00-d348-452a-8c77-00c44c47de22"
      },
      "execution_count": null,
      "outputs": [
        {
          "output_type": "stream",
          "name": "stdout",
          "text": [
            "Inverse sine: [-1.57079633  0.          1.57079633]\n",
            "Inverse cosine: [3.14159265 1.57079633 0.        ]\n",
            "Inverse tangent: [-0.78539816  0.          0.78539816]\n"
          ]
        }
      ]
    },
    {
      "cell_type": "markdown",
      "source": [
        "\n",
        "\n",
        "Q91. Write the NumPy program to calculate the difference between in neighbouring elements, element-wise of a given array? Sample output- Original array- [1 3 5 7 0] Difference between neighbouring elements, element-wise of the said array- [ 2 2 2 -7]\n"
      ],
      "metadata": {
        "id": "24I487AIavNB"
      }
    },
    {
      "cell_type": "code",
      "source": [
        "x = np.array([1, 3, 5, 7, 0])\n",
        "print(\"Original array: \")\n",
        "print(x)\n",
        "print(\"Difference between neighboring elements, element-wise of the said array.\")\n",
        "print(np.diff(x))"
      ],
      "metadata": {
        "colab": {
          "base_uri": "https://localhost:8080/"
        },
        "id": "b7BDwDvdakXB",
        "outputId": "1c365b94-aa07-4325-a14f-bf78cbc1082f"
      },
      "execution_count": null,
      "outputs": [
        {
          "output_type": "stream",
          "name": "stdout",
          "text": [
            "Original array: \n",
            "[1 3 5 7 0]\n",
            "Difference between neighboring elements, element-wise of the said array.\n",
            "[ 2  2  2 -7]\n"
          ]
        }
      ]
    },
    {
      "cell_type": "markdown",
      "source": [
        "Q92. Write the Python program to find the maximum and the minimum value of a given flattened array? Expected Output- Original flattened array- [[0 1] [2 3]] Maximum value of the above flattened array- 3 Minimum value of the above flattened array- 0"
      ],
      "metadata": {
        "id": "hZwtKrJVbO38"
      }
    },
    {
      "cell_type": "code",
      "source": [
        "a = np.arange(4).reshape((2,2))\n",
        "print(\"Original flattened array:\")\n",
        "print(a)\n",
        "print(\"Maximum value of the above flattened array:\")\n",
        "print(np.amax(a))\n",
        "print(\"Minimum value of the above flattened array:\")\n",
        "print(np.amin(a))"
      ],
      "metadata": {
        "colab": {
          "base_uri": "https://localhost:8080/"
        },
        "id": "F7qW1WplayYi",
        "outputId": "153e3520-e9d1-4c2d-f0fe-2e0482b6dab1"
      },
      "execution_count": null,
      "outputs": [
        {
          "output_type": "stream",
          "name": "stdout",
          "text": [
            "Original flattened array:\n",
            "[[0 1]\n",
            " [2 3]]\n",
            "Maximum value of the above flattened array:\n",
            "3\n",
            "Minimum value of the above flattened array:\n",
            "0\n"
          ]
        }
      ]
    },
    {
      "cell_type": "markdown",
      "source": [
        "Q93. Write the NumPy program to calculate the difference between in the maximum and the minimum values of a given array along the second axis ? Expected Output- Original array- [[ 0 1 2 3 4 5] [ 6 7 8 9 10 11]] Difference between the maximum and the minimum values of the said array- [5 5]"
      ],
      "metadata": {
        "id": "LyIVPilhbu4S"
      }
    },
    {
      "cell_type": "code",
      "source": [
        "\n",
        "\n",
        "x = np.arange(12).reshape((2, 6))\n",
        "print(\"\\nOriginal array:\")\n",
        "print(x)\n",
        "r1 = np.ptp(x, 1)\n",
        "r2 = np.amax(x, 1) - np.amin(x, 1)\n",
        "assert np.allclose(r1, r2)\n",
        "print(\"\\nDifference between the maximum and the minimum values of the said array:\")\n",
        "print(r1)\n",
        "     \n"
      ],
      "metadata": {
        "colab": {
          "base_uri": "https://localhost:8080/"
        },
        "id": "0XO-3kEbbeBB",
        "outputId": "535bb323-e4af-4554-c62b-8a3e445f76ac"
      },
      "execution_count": null,
      "outputs": [
        {
          "output_type": "stream",
          "name": "stdout",
          "text": [
            "\n",
            "Original array:\n",
            "[[ 0  1  2  3  4  5]\n",
            " [ 6  7  8  9 10 11]]\n",
            "\n",
            "Difference between the maximum and the minimum values of the said array:\n",
            "[5 5]\n"
          ]
        }
      ]
    },
    {
      "cell_type": "markdown",
      "source": [
        "\n",
        "\n",
        "Q94. Write the NumPy program to compute the weighted of the given array ? Sample Output- Original array- [0 1 2 3 4] Weighted average of the said array- 2.6666666666666665\n"
      ],
      "metadata": {
        "id": "WLIbV2vFcRID"
      }
    },
    {
      "cell_type": "code",
      "source": [
        "x = np.arange(5)\n",
        "print(\"\\nOriginal array:\")\n",
        "print(x)\n",
        "\n",
        "weights = np.arange(1, 6)\n",
        "r1 = np.average(x, weights=weights)\n",
        "r2 = (x*(weights/weights.sum())).sum()\n",
        "assert np.allclose(r1, r2)\n",
        "\n",
        "print(\"\\nWeighted average of the said array:\")\n",
        "print(r1)"
      ],
      "metadata": {
        "colab": {
          "base_uri": "https://localhost:8080/"
        },
        "id": "PRoJmFHbcBqN",
        "outputId": "803d8991-7e44-496b-cee4-14666cc5ab15"
      },
      "execution_count": null,
      "outputs": [
        {
          "output_type": "stream",
          "name": "stdout",
          "text": [
            "\n",
            "Original array:\n",
            "[0 1 2 3 4]\n",
            "\n",
            "Weighted average of the said array:\n",
            "2.6666666666666665\n"
          ]
        }
      ]
    },
    {
      "cell_type": "markdown",
      "source": [
        "\n",
        "\n",
        "Q95. Write the NumPy program to compute the mean, standard deviation, and the variance of a given array along the second axis? Sample output- Original array- [0 1 2 3 4 5] Mean- 2.5 std- 1 variance- 2.9166666666666665\n"
      ],
      "metadata": {
        "id": "_l5tyxeOc56N"
      }
    },
    {
      "cell_type": "code",
      "source": [
        "\n",
        "\n",
        "x = np.arange(6)\n",
        "print(\"\\nOriginal array:\")\n",
        "print(x)\n",
        "\n",
        "r1 = np.mean(x)\n",
        "r2 = np.average(x)\n",
        "assert np.allclose(r1, r2)\n",
        "\n",
        "print(\"\\nMean: \", r1)\n",
        "r1 = np.std(x)\n",
        "r2 = np.sqrt(np.mean((x - np.mean(x)) ** 2 ))\n",
        "assert np.allclose(r1, r2)\n",
        "\n",
        "print(\"\\nstd: \", 1)\n",
        "r1= np.var(x)\n",
        "r2 = np.mean((x - np.mean(x)) ** 2 )\n",
        "assert np.allclose(r1, r2)\n",
        "\n",
        "print(\"\\nvariance: \", r1)\n",
        "\n",
        "     \n"
      ],
      "metadata": {
        "colab": {
          "base_uri": "https://localhost:8080/"
        },
        "id": "gkqvIVyVcukx",
        "outputId": "19732b3b-a24b-4618-aff2-f906af6255b5"
      },
      "execution_count": null,
      "outputs": [
        {
          "output_type": "stream",
          "name": "stdout",
          "text": [
            "\n",
            "Original array:\n",
            "[0 1 2 3 4 5]\n",
            "\n",
            "Mean:  2.5\n",
            "\n",
            "std:  1\n",
            "\n",
            "variance:  2.9166666666666665\n"
          ]
        }
      ]
    },
    {
      "cell_type": "markdown",
      "source": [
        "\n",
        "\n",
        "Q96. Write the Numpy program to compute the covariance matrix of the two given arrays? Sample Output- Original array1- [0 1 2] Original array1- [2 1 0] Covariance matrix of the said arrays- [[ 1. -1.] [-1. 1.]]\n"
      ],
      "metadata": {
        "id": "R1IlvEomdKwK"
      }
    },
    {
      "cell_type": "code",
      "source": [
        "x = np.array([0, 1, 2])\n",
        "y = np.array([2, 1, 0])\n",
        "print(\"\\nOriginal array1:\")\n",
        "print(x)\n",
        "print(\"\\nOriginal array1:\")\n",
        "print(y)\n",
        "print(\"\\nCovariance matrix of the said arrays:\\n\",np.cov(x, y))"
      ],
      "metadata": {
        "colab": {
          "base_uri": "https://localhost:8080/"
        },
        "id": "CZr2T7ppc9mK",
        "outputId": "55330cf1-a16e-478a-dca3-7d5a2432dba3"
      },
      "execution_count": null,
      "outputs": [
        {
          "output_type": "stream",
          "name": "stdout",
          "text": [
            "\n",
            "Original array1:\n",
            "[0 1 2]\n",
            "\n",
            "Original array1:\n",
            "[2 1 0]\n",
            "\n",
            "Covariance matrix of the said arrays:\n",
            " [[ 1. -1.]\n",
            " [-1.  1.]]\n"
          ]
        }
      ]
    },
    {
      "cell_type": "markdown",
      "source": [
        "\n",
        "\n",
        "Q97. Write a NumPy program to compute the cross-correlation of two given arrays ? Sample Output- Original array1- [0 1 3] Original array1- [2 4 5] Cross-correlation of the said arrays- [ [ 2.33333333 2.16666667 ] [ 2.16666667 2.33333333 ] ]\n"
      ],
      "metadata": {
        "id": "PzdvAj8rdXFr"
      }
    },
    {
      "cell_type": "code",
      "source": [
        "x = np.array([0, 1, 3])\n",
        "y = np.array([2, 4, 5])\n",
        "print(\"\\nOriginal array1:\")\n",
        "print(x)\n",
        "\n",
        "print(\"\\nOriginal array1:\")\n",
        "print(y)\n",
        "print(\"\\nCross-correlation of the said arrays:\\n\",np.cov(x, y))"
      ],
      "metadata": {
        "colab": {
          "base_uri": "https://localhost:8080/"
        },
        "id": "TkdLjUrYdOke",
        "outputId": "a0a0d4f6-a695-4646-ff4d-3ec63b5273f7"
      },
      "execution_count": null,
      "outputs": [
        {
          "output_type": "stream",
          "name": "stdout",
          "text": [
            "\n",
            "Original array1:\n",
            "[0 1 3]\n",
            "\n",
            "Original array1:\n",
            "[2 4 5]\n",
            "\n",
            "Cross-correlation of the said arrays:\n",
            " [[2.33333333 2.16666667]\n",
            " [2.16666667 2.33333333]]\n"
          ]
        }
      ]
    },
    {
      "cell_type": "markdown",
      "source": [
        "Q98. Write the NumPy program to compute Pearson product-moment correlation coefficients of two given arrays? Sample Output- Original array1- [0 1 3] Original array1- [2 4 5] Pearson product-moment correlation coefficients of the said arrays- [[1. 0.92857143] [0.92857143 1. ]]"
      ],
      "metadata": {
        "id": "OrBwc6cOdf98"
      }
    },
    {
      "cell_type": "code",
      "source": [
        "x = np.array([0, 1, 3])\n",
        "y = np.array([2, 4, 5])\n",
        "print(\"\\nOriginal array1:\")\n",
        "print(x)\n",
        "print(\"\\nOriginal array1:\")\n",
        "print(y)\n",
        "print(\"\\nPearson product-moment correlation coefficients of the said arrays:\\n\",np.corrcoef(x, y))\n",
        "     "
      ],
      "metadata": {
        "colab": {
          "base_uri": "https://localhost:8080/"
        },
        "id": "rKW6nEC1daIs",
        "outputId": "aec92a42-d5e6-4c5d-dfdd-efd47944cd89"
      },
      "execution_count": null,
      "outputs": [
        {
          "output_type": "stream",
          "name": "stdout",
          "text": [
            "\n",
            "Original array1:\n",
            "[0 1 3]\n",
            "\n",
            "Original array1:\n",
            "[2 4 5]\n",
            "\n",
            "Pearson product-moment correlation coefficients of the said arrays:\n",
            " [[1.         0.92857143]\n",
            " [0.92857143 1.        ]]\n"
          ]
        }
      ]
    },
    {
      "cell_type": "markdown",
      "source": [
        "Q99. Write the python program to count the number of occurrences of each value in a given array of non-negative integers? Note: bincount() Function- It count the occurrence of each value in an array of the non- negative integers in the range of the array between the minimum and maximum values including the values that did not occur. Sample Output- Original array- [0, 1, 6, 1, 4, 1, 2, 2, 7] Number of occurrences of each value in array- [1 3 2 0 1 0 1 1]"
      ],
      "metadata": {
        "id": "zeGHIILEduFU"
      }
    },
    {
      "cell_type": "code",
      "source": [
        "array1 = [0, 1, 6, 1, 4, 1, 2, 2, 7] \n",
        "print(\"Original array:\")\n",
        "print(array1)\n",
        "print(\"Number of occurrences of each value in array: \")\n",
        "print(np.bincount(array1))"
      ],
      "metadata": {
        "colab": {
          "base_uri": "https://localhost:8080/"
        },
        "id": "Ob56Tfxpdl-7",
        "outputId": "50513f67-f9fa-4d57-d5ce-56e773f93cb7"
      },
      "execution_count": null,
      "outputs": [
        {
          "output_type": "stream",
          "name": "stdout",
          "text": [
            "Original array:\n",
            "[0, 1, 6, 1, 4, 1, 2, 2, 7]\n",
            "Number of occurrences of each value in array: \n",
            "[1 3 2 0 1 0 1 1]\n"
          ]
        }
      ]
    },
    {
      "cell_type": "markdown",
      "source": [
        "\n",
        "\n",
        "Q100. Write a Numpy program to compute the histogram of nums against the bins? Sample Output- nums- [0.5 0.7 1. 1.2 1.3 2.1] P a g e 29 | 44 bins- [0 1 2 3] Result- (array([2, 3, 1], dtype=int64), array([0, 1, 2, 3]))\n"
      ],
      "metadata": {
        "id": "PpLkoh-7d_o8"
      }
    },
    {
      "cell_type": "code",
      "source": [
        "nums = np.array([0.5, 0.7, 1.0, 1.2, 1.3, 2.1])\n",
        "bins = np.array([0, 1, 2, 3])\n",
        "print(\"nums: \",nums)\n",
        "print(\"bins: \",bins)\n",
        "print(\"Result:\", np.histogram(nums, bins))\n",
        "plt.hist(nums, bins=bins)\n",
        "plt.show()"
      ],
      "metadata": {
        "colab": {
          "base_uri": "https://localhost:8080/",
          "height": 317
        },
        "id": "3-aMYaP_dxpz",
        "outputId": "020c5174-3ee0-4498-e266-cad8e658dfb0"
      },
      "execution_count": null,
      "outputs": [
        {
          "output_type": "stream",
          "name": "stdout",
          "text": [
            "nums:  [0.5 0.7 1.  1.2 1.3 2.1]\n",
            "bins:  [0 1 2 3]\n",
            "Result: (array([2, 3, 1]), array([0, 1, 2, 3]))\n"
          ]
        },
        {
          "output_type": "display_data",
          "data": {
            "text/plain": [
              "<Figure size 432x288 with 1 Axes>"
            ],
            "image/png": "[encoded data removed]"
          },
          "metadata": {
            "needs_background": "light"
          }
        }
      ]
    },
    {
      "cell_type": "markdown",
      "source": [
        "Q101. Write the Python program to add, subtract, multiply and divide two pandas series ? Sample Series- [2, 4, 6, 8, 10], [1, 3, 5, 7, 9]"
      ],
      "metadata": {
        "id": "jYMQXrcxqvLl"
      }
    },
    {
      "cell_type": "code",
      "source": [
        "import pandas as pd \n",
        "import numpy as np"
      ],
      "metadata": {
        "id": "5gomukmSrCHD"
      },
      "execution_count": null,
      "outputs": []
    },
    {
      "cell_type": "code",
      "source": [
        "ds1 = pd.Series([2, 4, 6, 8, 10])\n",
        "ds2 = pd.Series([1, 3, 5, 7, 9])\n",
        "ds = ds1 + ds2\n",
        "print(\"Add two Series:\")\n",
        "print(ds)\n",
        "\n",
        "print(\"Subtract two Series:\")\n",
        "ds = ds1 - ds2\n",
        "print(ds)\n",
        "\n",
        "print(\"Multiply two Series:\")\n",
        "ds = ds1 * ds2\n",
        "print(ds)\n",
        "\n",
        "print(\"Divide Series1 by Series2:\")\n",
        "ds = ds1 / ds2\n",
        "print(ds)"
      ],
      "metadata": {
        "id": "Hq_0kc08eLYW",
        "colab": {
          "base_uri": "https://localhost:8080/"
        },
        "outputId": "527c5226-6ce2-4a24-e2fd-a081dc308b51"
      },
      "execution_count": null,
      "outputs": [
        {
          "output_type": "stream",
          "name": "stdout",
          "text": [
            "Add two Series:\n",
            "0     3\n",
            "1     7\n",
            "2    11\n",
            "3    15\n",
            "4    19\n",
            "dtype: int64\n",
            "Subtract two Series:\n",
            "0    1\n",
            "1    1\n",
            "2    1\n",
            "3    1\n",
            "4    1\n",
            "dtype: int64\n",
            "Multiply two Series:\n",
            "0     2\n",
            "1    12\n",
            "2    30\n",
            "3    56\n",
            "4    90\n",
            "dtype: int64\n",
            "Divide Series1 by Series2:\n",
            "0    2.000000\n",
            "1    1.333333\n",
            "2    1.200000\n",
            "3    1.142857\n",
            "4    1.111111\n",
            "dtype: float64\n"
          ]
        }
      ]
    },
    {
      "cell_type": "markdown",
      "source": [
        "Q102. Write a Python program to convert a dictionary to the Pandas Series? Sample Series- Original dictionary- {'a': 100, 'b': 200, 'c': 300, 'd': 400, 'e': 800} Converted series - a 100 b 200 c 300 d 400 e 800 dtype- int64"
      ],
      "metadata": {
        "id": "c_gnZQxnrNEr"
      }
    },
    {
      "cell_type": "code",
      "source": [
        "d1 = {'a': 100, 'b': 200, 'c':300, 'd':400, 'e':800}\n",
        "print(\"Original dictionary:\")\n",
        "print(d1)\n",
        "\n",
        "new_series = pd.Series(d1)\n",
        "print(\"Converted series:\")\n",
        "print(new_series)"
      ],
      "metadata": {
        "colab": {
          "base_uri": "https://localhost:8080/"
        },
        "id": "f577T9tYqyS7",
        "outputId": "150c6775-4766-4b42-fdfb-4729f1448bb1"
      },
      "execution_count": null,
      "outputs": [
        {
          "output_type": "stream",
          "name": "stdout",
          "text": [
            "Original dictionary:\n",
            "{'a': 100, 'b': 200, 'c': 300, 'd': 400, 'e': 800}\n",
            "Converted series:\n",
            "a    100\n",
            "b    200\n",
            "c    300\n",
            "d    400\n",
            "e    800\n",
            "dtype: int64\n"
          ]
        }
      ]
    },
    {
      "cell_type": "markdown",
      "source": [
        "\n",
        "\n",
        "Q103. Write a python program to change the data type of given a column or a Series? Sample Series- Original Data Series- 0 100\n",
        "\n",
        "1 200 2 python 3 300.12 4 400 dtype- object Change the said data type to numeric- 0 100.00 1 200.00 2 NaN 3 300.12 4 400.00 dtype- float64\n"
      ],
      "metadata": {
        "id": "1m0dmqoVrcEr"
      }
    },
    {
      "cell_type": "code",
      "source": [
        "s1 = pd.Series(['100', '200', 'python', '300.12', '400'])\n",
        "print(\"Original Data Series:\")\n",
        "print(s1)\n",
        "print(\"Change the said data type to numeric:\")\n",
        "s2 = pd.to_numeric(s1, errors='coerce')\n",
        "print(s2)"
      ],
      "metadata": {
        "colab": {
          "base_uri": "https://localhost:8080/"
        },
        "id": "tLMf--kKrWJi",
        "outputId": "c7a27fa1-f434-423b-de0f-194154df115b"
      },
      "execution_count": null,
      "outputs": [
        {
          "output_type": "stream",
          "name": "stdout",
          "text": [
            "Original Data Series:\n",
            "0       100\n",
            "1       200\n",
            "2    python\n",
            "3    300.12\n",
            "4       400\n",
            "dtype: object\n",
            "Change the said data type to numeric:\n",
            "0    100.00\n",
            "1    200.00\n",
            "2       NaN\n",
            "3    300.12\n",
            "4    400.00\n",
            "dtype: float64\n"
          ]
        }
      ]
    },
    {
      "cell_type": "markdown",
      "source": [
        "Q104. Write the python pandas program to convert the first column of a DataFrame as a Series? Sample Output- Original DataFrame- col1 col2 col3 0 1 4 7 1 2 5 5 2 3 6 8 3 4 9 12 4 7 5 1 5 11 0 11 1st column as a Series- 0 1 1 2 2 3 3 4 4 7 5 11 Name- col1, dtype- int64 <class 'pandas.core.series.Series'>"
      ],
      "metadata": {
        "id": "tH61zj9ur6Ve"
      }
    },
    {
      "cell_type": "code",
      "source": [
        "d = {'col1': [1, 2, 3, 4, 7, 11], 'col2': [4, 5, 6, 9, 5, 0], 'col3': [7, 5, 8, 12, 1,11]}\n",
        "df = pd.DataFrame(data=d)\n",
        "print(\"Original DataFrame\")\n",
        "print(df)\n",
        "s1 = df.ix[:,0]\n",
        "print(\"\\n1st column as a Series:\")\n",
        "print(s1)\n",
        "type(s1)"
      ],
      "metadata": {
        "colab": {
          "base_uri": "https://localhost:8080/",
          "height": 496
        },
        "id": "RwC5SORirhOt",
        "outputId": "666a1e1d-aec4-4b25-9efd-2e4b4b99d002"
      },
      "execution_count": null,
      "outputs": [
        {
          "output_type": "stream",
          "name": "stdout",
          "text": [
            "Original DataFrame\n",
            "   col1  col2  col3\n",
            "0     1     4     7\n",
            "1     2     5     5\n",
            "2     3     6     8\n",
            "3     4     9    12\n",
            "4     7     5     1\n",
            "5    11     0    11\n"
          ]
        },
        {
          "output_type": "error",
          "ename": "AttributeError",
          "evalue": "ignored",
          "traceback": [
            "\u001b[0;31m---------------------------------------------------------------------------\u001b[0m",
            "\u001b[0;31mAttributeError\u001b[0m                            Traceback (most recent call last)",
            "\u001b[0;32m<ipython-input-6-c5d568cafdf2>\u001b[0m in \u001b[0;36m<module>\u001b[0;34m\u001b[0m\n\u001b[1;32m      3\u001b[0m \u001b[0mprint\u001b[0m\u001b[0;34m(\u001b[0m\u001b[0;34m\"Original DataFrame\"\u001b[0m\u001b[0;34m)\u001b[0m\u001b[0;34m\u001b[0m\u001b[0;34m\u001b[0m\u001b[0m\n\u001b[1;32m      4\u001b[0m \u001b[0mprint\u001b[0m\u001b[0;34m(\u001b[0m\u001b[0mdf\u001b[0m\u001b[0;34m)\u001b[0m\u001b[0;34m\u001b[0m\u001b[0;34m\u001b[0m\u001b[0m\n\u001b[0;32m----> 5\u001b[0;31m \u001b[0ms1\u001b[0m \u001b[0;34m=\u001b[0m \u001b[0mdf\u001b[0m\u001b[0;34m.\u001b[0m\u001b[0mix\u001b[0m\u001b[0;34m[\u001b[0m\u001b[0;34m:\u001b[0m\u001b[0;34m,\u001b[0m\u001b[0;36m0\u001b[0m\u001b[0;34m]\u001b[0m\u001b[0;34m\u001b[0m\u001b[0;34m\u001b[0m\u001b[0m\n\u001b[0m\u001b[1;32m      6\u001b[0m \u001b[0mprint\u001b[0m\u001b[0;34m(\u001b[0m\u001b[0;34m\"\\n1st column as a Series:\"\u001b[0m\u001b[0;34m)\u001b[0m\u001b[0;34m\u001b[0m\u001b[0;34m\u001b[0m\u001b[0m\n\u001b[1;32m      7\u001b[0m \u001b[0mprint\u001b[0m\u001b[0;34m(\u001b[0m\u001b[0ms1\u001b[0m\u001b[0;34m)\u001b[0m\u001b[0;34m\u001b[0m\u001b[0;34m\u001b[0m\u001b[0m\n",
            "\u001b[0;32m/usr/local/lib/python3.9/dist-packages/pandas/core/generic.py\u001b[0m in \u001b[0;36m__getattr__\u001b[0;34m(self, name)\u001b[0m\n\u001b[1;32m   5573\u001b[0m         ):\n\u001b[1;32m   5574\u001b[0m             \u001b[0;32mreturn\u001b[0m \u001b[0mself\u001b[0m\u001b[0;34m[\u001b[0m\u001b[0mname\u001b[0m\u001b[0;34m]\u001b[0m\u001b[0;34m\u001b[0m\u001b[0;34m\u001b[0m\u001b[0m\n\u001b[0;32m-> 5575\u001b[0;31m         \u001b[0;32mreturn\u001b[0m \u001b[0mobject\u001b[0m\u001b[0;34m.\u001b[0m\u001b[0m__getattribute__\u001b[0m\u001b[0;34m(\u001b[0m\u001b[0mself\u001b[0m\u001b[0;34m,\u001b[0m \u001b[0mname\u001b[0m\u001b[0;34m)\u001b[0m\u001b[0;34m\u001b[0m\u001b[0;34m\u001b[0m\u001b[0m\n\u001b[0m\u001b[1;32m   5576\u001b[0m \u001b[0;34m\u001b[0m\u001b[0m\n\u001b[1;32m   5577\u001b[0m     \u001b[0;32mdef\u001b[0m \u001b[0m__setattr__\u001b[0m\u001b[0;34m(\u001b[0m\u001b[0mself\u001b[0m\u001b[0;34m,\u001b[0m \u001b[0mname\u001b[0m\u001b[0;34m:\u001b[0m \u001b[0mstr\u001b[0m\u001b[0;34m,\u001b[0m \u001b[0mvalue\u001b[0m\u001b[0;34m)\u001b[0m \u001b[0;34m->\u001b[0m \u001b[0;32mNone\u001b[0m\u001b[0;34m:\u001b[0m\u001b[0;34m\u001b[0m\u001b[0;34m\u001b[0m\u001b[0m\n",
            "\u001b[0;31mAttributeError\u001b[0m: 'DataFrame' object has no attribute 'ix'"
          ]
        }
      ]
    },
    {
      "cell_type": "markdown",
      "source": [
        "\n",
        "\n",
        "Q105. Write a pandas program to create the mean and standard deviation of the data of a given Series? Sample Output- Original Data Series- 0 1 1 2 2 3 3 4 4 5 5 6 6 7 7 8 8 9 9 5 10 3 dtype- int64 Mean of the said Data Series- 4.81818181818 Standard deviation of the said Data Series- 2.52262489555\n"
      ],
      "metadata": {
        "id": "N6cCgEGnsJ5C"
      }
    },
    {
      "cell_type": "code",
      "source": [
        "s = pd.Series(data = [1,2,3,4,5,6,7,8,9,5,3])\n",
        "print(\"Original Data Series:\")\n",
        "print(s)\n",
        "print(\"Mean of the said Data Series:\")\n",
        "print(s.mean())\n",
        "\n",
        "print(\"Standard deviation of the said Data Series:\")\n",
        "print(s.std())"
      ],
      "metadata": {
        "colab": {
          "base_uri": "https://localhost:8080/"
        },
        "id": "-pYXsWSPr9wx",
        "outputId": "15298e73-8e88-4a33-bcf7-3843f91aad39"
      },
      "execution_count": null,
      "outputs": [
        {
          "output_type": "stream",
          "name": "stdout",
          "text": [
            "Original Data Series:\n",
            "0     1\n",
            "1     2\n",
            "2     3\n",
            "3     4\n",
            "4     5\n",
            "5     6\n",
            "6     7\n",
            "7     8\n",
            "8     9\n",
            "9     5\n",
            "10    3\n",
            "dtype: int64\n",
            "Mean of the said Data Series:\n",
            "4.818181818181818\n",
            "Standard deviation of the said Data Series:\n",
            "2.522624895547565\n"
          ]
        }
      ]
    },
    {
      "cell_type": "markdown",
      "source": [
        "Q106. Write a pandas program to get powers of an array values element-wise? Note First array elements raised the powers from the second array. Sample data: {'X ':[78,85,96,80,86], ' Y ':[84,94,89,83,86],'Z':[86,97,96,72,83]} Expected Output: X Y Z 0 78 84 86 1 85 94 97 2 96 89 96 3 80 83 72 4 86 86 83"
      ],
      "metadata": {
        "id": "fha2LGsGsYv_"
      }
    },
    {
      "cell_type": "code",
      "source": [
        "\n",
        "df = pd.DataFrame({'X':[78,85,96,80,86], 'Y':[84,94,89,83,86],'Z':[86,97,96,72,83]});\n",
        "print(df)"
      ],
      "metadata": {
        "colab": {
          "base_uri": "https://localhost:8080/"
        },
        "id": "2Ljso3ldsNSj",
        "outputId": "1a36bd64-7c75-4f44-dcf0-1fe592c7a93a"
      },
      "execution_count": null,
      "outputs": [
        {
          "output_type": "stream",
          "name": "stdout",
          "text": [
            "    X   Y   Z\n",
            "0  78  84  86\n",
            "1  85  94  97\n",
            "2  96  89  96\n",
            "3  80  83  72\n",
            "4  86  86  83\n"
          ]
        }
      ]
    },
    {
      "cell_type": "markdown",
      "source": [
        "\n",
        "\n",
        "Q107. Write the pandas program to get the first 3 rows of a given DataFrame? Sample Python dictionary data and list labels- exam_data = {'name': ['Anastasia', 'Dima', 'Katherine', 'James', 'Emily', 'Michael', 'Matthew', 'Laura', 'Kevin', 'Jonas'], 'score': [12.5, 9, 16.5, np.nan, 9, 20, 14.5, np.nan, 8, 19], 'attempts'- [1, 3, 2, 3, 2, 3, 1, 1, 2, 1], 'qualify'- [ 'yes', 'no', 'yes' , 'no', ' no ', ' yes ', 'yes', 'no', 'no', 'yes' ] } labels = ['a', 'b', 'c', 'd', 'e', 'f', 'g', 'h', 'i', 'j' ] Expected Output- First three rows of the data frame- attempts name qualify score a 1 Anastasia yes 12.5 b 3 Dima no 9.0 c 2 Katherine yes 16.5\n"
      ],
      "metadata": {
        "id": "7TA4ZSmysmuJ"
      }
    },
    {
      "cell_type": "code",
      "source": [
        "exam_data  = {'name': ['Anastasia', 'Dima', 'Katherine', 'James', 'Emily', 'Michael', 'Matthew', 'Laura', 'Kevin', 'Jonas'],\n",
        "        'score': [12.5, 9, 16.5, np.nan, 9, 20, 14.5, np.nan, 8, 19],\n",
        "        'attempts': [1, 3, 2, 3, 2, 3, 1, 1, 2, 1],\n",
        "        'qualify': ['yes', 'no', 'yes', 'no', 'no', 'yes', 'yes', 'no', 'no', 'yes']}\n",
        "labels = ['a', 'b', 'c', 'd', 'e', 'f', 'g', 'h', 'i', 'j']\n",
        "\n",
        "df = pd.DataFrame(exam_data , index=labels)\n",
        "print(df)"
      ],
      "metadata": {
        "colab": {
          "base_uri": "https://localhost:8080/"
        },
        "id": "gyifEGZKsbrt",
        "outputId": "c24682c5-a9d3-4305-ad96-47983753d50e"
      },
      "execution_count": null,
      "outputs": [
        {
          "output_type": "stream",
          "name": "stdout",
          "text": [
            "        name  score  attempts qualify\n",
            "a  Anastasia   12.5         1     yes\n",
            "b       Dima    9.0         3      no\n",
            "c  Katherine   16.5         2     yes\n",
            "d      James    NaN         3      no\n",
            "e      Emily    9.0         2      no\n",
            "f    Michael   20.0         3     yes\n",
            "g    Matthew   14.5         1     yes\n",
            "h      Laura    NaN         1      no\n",
            "i      Kevin    8.0         2      no\n",
            "j      Jonas   19.0         1     yes\n"
          ]
        }
      ]
    },
    {
      "cell_type": "markdown",
      "source": [
        "\n",
        "\n",
        "Q108: Write the pandas program to select the specified columns and the rows from a given data frame? Sample Python dictionary data and list labels- Select 'name' and 'score' columns in rows 1, 3, 5, 6 from the following data frame. exam_data = {'name ': [ 'Anastasia', 'Dima', 'Katherine', 'James', 'Emily', 'Michael', 'Matthew', 'Laura', 'Kevin', 'Jonas'], 'score'- [12.5, 9, 16.5, np.nan, 9, 20, 14.5, np.nan, 8, 19], 'attempts'- [1, 3, 2, 3, 2, 3, 1, 1, 2, 1], 'qualify'- ['yes', 'no', 'yes', 'no', 'no', 'yes', 'yes', 'no', 'no', 'yes'] } labels = ['a ', ' b ', ' c ', ' d ', ' e ', ' f ', ' g ', 'h', 'i', 'j'] Expected Output- Select specific columns and rows- name score b Dima 9.0 d James NaN f Michael 20.0 g Matthew 14.5\n"
      ],
      "metadata": {
        "id": "X5qOSsn_s1Gi"
      }
    },
    {
      "cell_type": "code",
      "source": [
        "exam_data  = {'name': ['Anastasia', 'Dima', 'Katherine', 'James', 'Emily', 'Michael', 'Matthew', 'Laura', 'Kevin', 'Jonas'],\n",
        "        'score': [12.5, 9, 16.5, np.nan, 9, 20, 14.5, np.nan, 8, 19],\n",
        "        'attempts': [1, 3, 2, 3, 2, 3, 1, 1, 2, 1],\n",
        "        'qualify': ['yes', 'no', 'yes', 'no', 'no', 'yes', 'yes', 'no', 'no', 'yes']}\n",
        "labels = ['a', 'b', 'c', 'd', 'e', 'f', 'g', 'h', 'i', 'j']\n",
        "\n",
        "df = pd.DataFrame(exam_data , index=labels)\n",
        "print(\"Select specific columns and rows:\")\n",
        "print(df.iloc[[1, 3, 5, 6], [0,1]])"
      ],
      "metadata": {
        "colab": {
          "base_uri": "https://localhost:8080/"
        },
        "id": "icoUE_XxsqBL",
        "outputId": "b6b87cea-7c6f-4783-f73f-9a7a789e77ac"
      },
      "execution_count": null,
      "outputs": [
        {
          "output_type": "stream",
          "name": "stdout",
          "text": [
            "Select specific columns and rows:\n",
            "      name  score\n",
            "b     Dima    9.0\n",
            "d    James    NaN\n",
            "f  Michael   20.0\n",
            "g  Matthew   14.5\n"
          ]
        }
      ]
    },
    {
      "cell_type": "markdown",
      "source": [
        "\n",
        "\n",
        "Q109. Write the pandas program to calculate mean score for each different student in DataFrame? Sample Python dictionary data and list labels- exam_data = {'name': ['Anastasia', 'Dima', 'Katherine', 'James', 'Emily', 'Michael', 'Matthew', 'Laura', 'Kevin', 'Jonas'], 'score': [12.5, 9, 16.5, np.nan, 9, 20, 14.5, np.nan, 8, 19], 'attempts'- [1, 3, 2, 3, 2, 3, 1, 1, 2, 1], 'qualify'- ['yes', 'no', ' yes ', ' no ', ' no ', ' yes ', ' yes ', ' no ', ' no ', ' yes '] } labels = ['a', 'b', 'c', 'd', 'e', 'f', 'g', 'h', 'i', 'j'] Expected Output- Mean score for each different student in data frame: 13.5625\n"
      ],
      "metadata": {
        "id": "amKulGlUtClu"
      }
    },
    {
      "cell_type": "code",
      "source": [
        "exam_data  = {'name': ['Anastasia', 'Dima', 'Katherine', 'James', 'Emily', 'Michael', 'Matthew', 'Laura', 'Kevin', 'Jonas'],\n",
        "        'score': [12.5, 9, 16.5, np.nan, 9, 20, 14.5, np.nan, 8, 19],\n",
        "        'attempts': [1, 3, 2, 3, 2, 3, 1, 1, 2, 1],\n",
        "        'qualify': ['yes', 'no', 'yes', 'no', 'no', 'yes', 'yes', 'no', 'no', 'yes']}\n",
        "labels = ['a', 'b', 'c', 'd', 'e', 'f', 'g', 'h', 'i', 'j']\n",
        "\n",
        "df = pd.DataFrame(exam_data , index=labels)\n",
        "print(\"\\nMean score for each different student in data frame:\")\n",
        "print(df['score'].mean())"
      ],
      "metadata": {
        "colab": {
          "base_uri": "https://localhost:8080/"
        },
        "id": "kGxxDMkIs4w9",
        "outputId": "02b0aab5-9427-4b89-95f5-f66c2175cb29"
      },
      "execution_count": null,
      "outputs": [
        {
          "output_type": "stream",
          "name": "stdout",
          "text": [
            "\n",
            "Mean score for each different student in data frame:\n",
            "13.5625\n"
          ]
        }
      ]
    },
    {
      "cell_type": "markdown",
      "source": [
        "\n",
        "\n",
        "Q110. Write the Pandas program to rename columns of a given DataFrame ? Sample data- Original data frame col1 col2 col3 0 1 4 7 1 2 5 8 2 3 6 9 New data frame after renaming columns: Column1 Column2 Column3 0 1 4 7 1 2 5 8 2 3 6 9\n"
      ],
      "metadata": {
        "id": "LyBCpTpPtSN2"
      }
    },
    {
      "cell_type": "code",
      "source": [
        "d = {'col1': [1, 2, 3], 'col2': [4, 5, 6], 'col3': [7, 8, 9]}\n",
        "df = pd.DataFrame(data=d)\n",
        "print(\"Original DataFrame\")\n",
        "print(df)\n",
        "df.columns = ['Column1', 'Column2', 'Column3']\n",
        "df = df.rename(columns={'col1': 'Column1', 'col2': 'Column2', 'col3': 'Column3'})\n",
        "print(\"New DataFrame after renaming columns:\")\n",
        "print(df)"
      ],
      "metadata": {
        "colab": {
          "base_uri": "https://localhost:8080/"
        },
        "id": "rbtD3KWrtFeo",
        "outputId": "21b1021e-247d-449f-b113-34e4cff6c143"
      },
      "execution_count": null,
      "outputs": [
        {
          "output_type": "stream",
          "name": "stdout",
          "text": [
            "Original DataFrame\n",
            "   col1  col2  col3\n",
            "0     1     4     7\n",
            "1     2     5     8\n",
            "2     3     6     9\n",
            "New DataFrame after renaming columns:\n",
            "   Column1  Column2  Column3\n",
            "0        1        4        7\n",
            "1        2        5        8\n",
            "2        3        6        9\n"
          ]
        }
      ]
    },
    {
      "cell_type": "markdown",
      "source": [
        "Q111. Write a pandas program to count city-wise number of people from a given of data set (city, name of the person)? Sample data- P a g e 34 | 44 city Number of people 0 California 4 1 Georgia 2 2 Los Angeles 4"
      ],
      "metadata": {
        "id": "AsDrNpkEtjOa"
      }
    },
    {
      "cell_type": "code",
      "source": [
        "df1 = pd.DataFrame({'name': ['Anastasia', 'Dima', 'Katherine', 'James', 'Emily', 'Michael', 'Matthew', 'Laura', 'Kevin', 'Jonas'],\n",
        "'city': ['California', 'Los Angeles', 'California', 'California', 'California', 'Los Angeles', 'Los Angeles', 'Georgia', 'Georgia', 'Los Angeles']})\n",
        "g1 = df1.groupby([\"city\"]).size().reset_index(name='Number of people')\n",
        "print(g1)\n",
        "     "
      ],
      "metadata": {
        "colab": {
          "base_uri": "https://localhost:8080/"
        },
        "id": "wmqQy2ZrtVMZ",
        "outputId": "6ed5c5d4-4ee9-4235-8be3-3e738e99e44c"
      },
      "execution_count": null,
      "outputs": [
        {
          "output_type": "stream",
          "name": "stdout",
          "text": [
            "          city  Number of people\n",
            "0   California                 4\n",
            "1      Georgia                 2\n",
            "2  Los Angeles                 4\n"
          ]
        }
      ]
    },
    {
      "cell_type": "markdown",
      "source": [
        "\n",
        "\n",
        "Q112. Write a pandas program to widen output display to see more columns? Sample data- Original data frame col1 col2 col3 0 1 4 7 1 4 5 8 2 3 6 9 3 4 7 0 4 5 8 1\n"
      ],
      "metadata": {
        "id": "XLRsEygXtqBt"
      }
    },
    {
      "cell_type": "code",
      "source": [
        "d = {'col1': [1, 4, 3, 4, 5], 'col2': [4, 5, 6, 7, 8], 'col3': [7, 8, 9, 0, 1]}\n",
        "df = pd.DataFrame(data=d)\n",
        "\n",
        "pd.set_option('display.max_rows', 500)\n",
        "pd.set_option('display.max_columns', 500)\n",
        "pd.set_option('display.width', 1000)\n",
        "\n",
        "print(\"Original DataFrame\")\n",
        "print(df)"
      ],
      "metadata": {
        "colab": {
          "base_uri": "https://localhost:8080/"
        },
        "id": "9pcpADqhtmRb",
        "outputId": "f88bf8df-9678-425d-fcf0-cb126b965dbd"
      },
      "execution_count": null,
      "outputs": [
        {
          "output_type": "stream",
          "name": "stdout",
          "text": [
            "Original DataFrame\n",
            "   col1  col2  col3\n",
            "0     1     4     7\n",
            "1     4     5     8\n",
            "2     3     6     9\n",
            "3     4     7     0\n",
            "4     5     8     1\n"
          ]
        }
      ]
    },
    {
      "cell_type": "markdown",
      "source": [
        "\n",
        "\n",
        "Q113. Write a pandas program to convert the data frame column type from string to DateTime? Sample data- String Date- 0 3/11/2000 1 3/12/2000 2 3/13/2000 dtype- object Original DataFrame (string to datetime)- 0 0 2000-03-11 1 2000-03-12 2 2000-03-13\n"
      ],
      "metadata": {
        "id": "rRD2ctFLt7aq"
      }
    },
    {
      "cell_type": "code",
      "source": [
        "\n",
        "s = pd.Series(['3/11/2000', '3/12/2000', '3/13/2000'])\n",
        "print(\"String Date:\")\n",
        "print(s)\n",
        "r = pd.to_datetime(pd.Series(s))\n",
        "df = pd.DataFrame(r)\n",
        "print(\"Original DataFrame (string to datetime):\")\n",
        "print(df)"
      ],
      "metadata": {
        "colab": {
          "base_uri": "https://localhost:8080/"
        },
        "id": "eopAhZiXtzWw",
        "outputId": "017b1b69-127c-44bf-a27f-baef6a68b3ba"
      },
      "execution_count": null,
      "outputs": [
        {
          "output_type": "stream",
          "name": "stdout",
          "text": [
            "String Date:\n",
            "0    3/11/2000\n",
            "1    3/12/2000\n",
            "2    3/13/2000\n",
            "dtype: object\n",
            "Original DataFrame (string to datetime):\n",
            "           0\n",
            "0 2000-03-11\n",
            "1 2000-03-12\n",
            "2 2000-03-13\n"
          ]
        }
      ]
    },
    {
      "cell_type": "markdown",
      "source": [
        "\n",
        "\n",
        "Q114. Write a pandas program to append the data to an empty DataFrame? Sample data- Original DataFrame- After appending some data: col1 col2 0 0 0 1 1 1 2 2 2\n"
      ],
      "metadata": {
        "id": "ImeTRd_3uLkE"
      }
    },
    {
      "cell_type": "code",
      "source": [
        "\n",
        "\n",
        "df = pd.DataFrame()\n",
        "data = pd.DataFrame({\"col1\": range(3),\"col2\": range(3)})\n",
        "print(\"After appending some data:\")\n",
        "df = df.append(data)\n",
        "print(df)\n",
        "\n",
        "     \n"
      ],
      "metadata": {
        "colab": {
          "base_uri": "https://localhost:8080/"
        },
        "id": "T-_VyCMBuG5i",
        "outputId": "f3ca69fc-a6ed-4258-bd38-e740c5da3161"
      },
      "execution_count": null,
      "outputs": [
        {
          "output_type": "stream",
          "name": "stdout",
          "text": [
            "After appending some data:\n",
            "   col1  col2\n",
            "0     0     0\n",
            "1     1     1\n",
            "2     2     2\n"
          ]
        },
        {
          "output_type": "stream",
          "name": "stderr",
          "text": [
            "<ipython-input-16-f3e726b00f31>:4: FutureWarning: The frame.append method is deprecated and will be removed from pandas in a future version. Use pandas.concat instead.\n",
            "  df = df.append(data)\n"
          ]
        }
      ]
    },
    {
      "cell_type": "markdown",
      "source": [
        "Q115. Write a pandas program to count the number of columns of a DataFrame? Sample Output- Original DataFrame col1 col2 col3 0 1 4 7 1 2 5 8 2 3 6 12 3 4 9 1 4 7 5 11 Number of columns- 3"
      ],
      "metadata": {
        "id": "SdcrBv1MuaZk"
      }
    },
    {
      "cell_type": "code",
      "source": [
        "d = {'col1': [1, 2, 3, 4, 7], 'col2': [4, 5, 6, 9, 5], 'col3': [7, 8, 12, 1, 11]}\n",
        "df = pd.DataFrame(data=d)\n",
        "print(\"Original DataFrame\")\n",
        "print(df)\n",
        "print(\"\\nNumber of columns:\")\n",
        "print(len(df.columns))"
      ],
      "metadata": {
        "colab": {
          "base_uri": "https://localhost:8080/"
        },
        "id": "qL6cxwqeuR5y",
        "outputId": "ac87ee93-179b-417e-d9cb-f17dec0c5469"
      },
      "execution_count": null,
      "outputs": [
        {
          "output_type": "stream",
          "name": "stdout",
          "text": [
            "Original DataFrame\n",
            "   col1  col2  col3\n",
            "0     1     4     7\n",
            "1     2     5     8\n",
            "2     3     6    12\n",
            "3     4     9     1\n",
            "4     7     5    11\n",
            "\n",
            "Number of columns:\n",
            "3\n"
          ]
        }
      ]
    },
    {
      "cell_type": "markdown",
      "source": [
        "Q116. Write a Pandas program to remove the last n rows of a given DataFrame ? Sample Output: Original DataFrame col1 col2 col3 0 1 4 7 1 2 5 5 2 3 6 8 3 4 9 12 4 7 5 1 5 11 0 11 After removing last 3 rows of the said DataFrame- col1 col2 col3 0 1 4 7 1 2 5 5 2 3 6 8"
      ],
      "metadata": {
        "id": "D--A2r5UulcR"
      }
    },
    {
      "cell_type": "code",
      "source": [
        "d = {'col1': [1, 2, 3, 4, 7, 11], 'col2': [4, 5, 6, 9, 5, 0], 'col3': [7, 5, 8, 12, 1,11]}\n",
        "df = pd.DataFrame(data=d)\n",
        "print(\"Original DataFrame\")\n",
        "print(df)\n",
        "print(\"\\nAfter removing last 3 rows of the said DataFrame:\")\n",
        "\n",
        "df1 = df.iloc[:3]\n",
        "print(df1)"
      ],
      "metadata": {
        "colab": {
          "base_uri": "https://localhost:8080/"
        },
        "id": "R8anpQvmudra",
        "outputId": "9f5a8adb-7986-464b-ead0-0411920036aa"
      },
      "execution_count": null,
      "outputs": [
        {
          "output_type": "stream",
          "name": "stdout",
          "text": [
            "Original DataFrame\n",
            "   col1  col2  col3\n",
            "0     1     4     7\n",
            "1     2     5     5\n",
            "2     3     6     8\n",
            "3     4     9    12\n",
            "4     7     5     1\n",
            "5    11     0    11\n",
            "\n",
            "After removing last 3 rows of the said DataFrame:\n",
            "   col1  col2  col3\n",
            "0     1     4     7\n",
            "1     2     5     5\n",
            "2     3     6     8\n"
          ]
        }
      ]
    },
    {
      "cell_type": "code",
      "source": [
        " from google.colab import drive\n",
        " drive.mount('/content/drive')"
      ],
      "metadata": {
        "colab": {
          "base_uri": "https://localhost:8080/",
          "height": 329
        },
        "id": "JZD2-07luv_o",
        "outputId": "da4efc90-48bf-49df-d7f6-d7f44ce914c3"
      },
      "execution_count": null,
      "outputs": [
        {
          "output_type": "error",
          "ename": "KeyboardInterrupt",
          "evalue": "ignored",
          "traceback": [
            "\u001b[0;31m---------------------------------------------------------------------------\u001b[0m",
            "\u001b[0;31mKeyboardInterrupt\u001b[0m                         Traceback (most recent call last)",
            "\u001b[0;32m<ipython-input-19-d5df0069828e>\u001b[0m in \u001b[0;36m<module>\u001b[0;34m\u001b[0m\n\u001b[1;32m      1\u001b[0m \u001b[0;32mfrom\u001b[0m \u001b[0mgoogle\u001b[0m\u001b[0;34m.\u001b[0m\u001b[0mcolab\u001b[0m \u001b[0;32mimport\u001b[0m \u001b[0mdrive\u001b[0m\u001b[0;34m\u001b[0m\u001b[0;34m\u001b[0m\u001b[0m\n\u001b[0;32m----> 2\u001b[0;31m \u001b[0mdrive\u001b[0m\u001b[0;34m.\u001b[0m\u001b[0mmount\u001b[0m\u001b[0;34m(\u001b[0m\u001b[0;34m'/content/drive'\u001b[0m\u001b[0;34m)\u001b[0m\u001b[0;34m\u001b[0m\u001b[0;34m\u001b[0m\u001b[0m\n\u001b[0m",
            "\u001b[0;32m/usr/local/lib/python3.9/dist-packages/google/colab/drive.py\u001b[0m in \u001b[0;36mmount\u001b[0;34m(mountpoint, force_remount, timeout_ms, readonly)\u001b[0m\n\u001b[1;32m    101\u001b[0m \u001b[0;32mdef\u001b[0m \u001b[0mmount\u001b[0m\u001b[0;34m(\u001b[0m\u001b[0mmountpoint\u001b[0m\u001b[0;34m,\u001b[0m \u001b[0mforce_remount\u001b[0m\u001b[0;34m=\u001b[0m\u001b[0;32mFalse\u001b[0m\u001b[0;34m,\u001b[0m \u001b[0mtimeout_ms\u001b[0m\u001b[0;34m=\u001b[0m\u001b[0;36m120000\u001b[0m\u001b[0;34m,\u001b[0m \u001b[0mreadonly\u001b[0m\u001b[0;34m=\u001b[0m\u001b[0;32mFalse\u001b[0m\u001b[0;34m)\u001b[0m\u001b[0;34m:\u001b[0m\u001b[0;34m\u001b[0m\u001b[0;34m\u001b[0m\u001b[0m\n\u001b[1;32m    102\u001b[0m   \u001b[0;34m\"\"\"Mount your Google Drive at the specified mountpoint path.\"\"\"\u001b[0m\u001b[0;34m\u001b[0m\u001b[0;34m\u001b[0m\u001b[0m\n\u001b[0;32m--> 103\u001b[0;31m   return _mount(\n\u001b[0m\u001b[1;32m    104\u001b[0m       \u001b[0mmountpoint\u001b[0m\u001b[0;34m,\u001b[0m\u001b[0;34m\u001b[0m\u001b[0;34m\u001b[0m\u001b[0m\n\u001b[1;32m    105\u001b[0m       \u001b[0mforce_remount\u001b[0m\u001b[0;34m=\u001b[0m\u001b[0mforce_remount\u001b[0m\u001b[0;34m,\u001b[0m\u001b[0;34m\u001b[0m\u001b[0;34m\u001b[0m\u001b[0m\n",
            "\u001b[0;32m/usr/local/lib/python3.9/dist-packages/google/colab/drive.py\u001b[0m in \u001b[0;36m_mount\u001b[0;34m(mountpoint, force_remount, timeout_ms, ephemeral, readonly)\u001b[0m\n\u001b[1;32m    130\u001b[0m   )\n\u001b[1;32m    131\u001b[0m   \u001b[0;32mif\u001b[0m \u001b[0mephemeral\u001b[0m\u001b[0;34m:\u001b[0m\u001b[0;34m\u001b[0m\u001b[0;34m\u001b[0m\u001b[0m\n\u001b[0;32m--> 132\u001b[0;31m     _message.blocking_request(\n\u001b[0m\u001b[1;32m    133\u001b[0m         \u001b[0;34m'request_auth'\u001b[0m\u001b[0;34m,\u001b[0m \u001b[0mrequest\u001b[0m\u001b[0;34m=\u001b[0m\u001b[0;34m{\u001b[0m\u001b[0;34m'authType'\u001b[0m\u001b[0;34m:\u001b[0m \u001b[0;34m'dfs_ephemeral'\u001b[0m\u001b[0;34m}\u001b[0m\u001b[0;34m,\u001b[0m \u001b[0mtimeout_sec\u001b[0m\u001b[0;34m=\u001b[0m\u001b[0;32mNone\u001b[0m\u001b[0;34m\u001b[0m\u001b[0;34m\u001b[0m\u001b[0m\n\u001b[1;32m    134\u001b[0m     )\n",
            "\u001b[0;32m/usr/local/lib/python3.9/dist-packages/google/colab/_message.py\u001b[0m in \u001b[0;36mblocking_request\u001b[0;34m(request_type, request, timeout_sec, parent)\u001b[0m\n\u001b[1;32m    175\u001b[0m       \u001b[0mrequest_type\u001b[0m\u001b[0;34m,\u001b[0m \u001b[0mrequest\u001b[0m\u001b[0;34m,\u001b[0m \u001b[0mparent\u001b[0m\u001b[0;34m=\u001b[0m\u001b[0mparent\u001b[0m\u001b[0;34m,\u001b[0m \u001b[0mexpect_reply\u001b[0m\u001b[0;34m=\u001b[0m\u001b[0;32mTrue\u001b[0m\u001b[0;34m\u001b[0m\u001b[0;34m\u001b[0m\u001b[0m\n\u001b[1;32m    176\u001b[0m   )\n\u001b[0;32m--> 177\u001b[0;31m   \u001b[0;32mreturn\u001b[0m \u001b[0mread_reply_from_input\u001b[0m\u001b[0;34m(\u001b[0m\u001b[0mrequest_id\u001b[0m\u001b[0;34m,\u001b[0m \u001b[0mtimeout_sec\u001b[0m\u001b[0;34m)\u001b[0m\u001b[0;34m\u001b[0m\u001b[0;34m\u001b[0m\u001b[0m\n\u001b[0m",
            "\u001b[0;32m/usr/local/lib/python3.9/dist-packages/google/colab/_message.py\u001b[0m in \u001b[0;36mread_reply_from_input\u001b[0;34m(message_id, timeout_sec)\u001b[0m\n\u001b[1;32m     95\u001b[0m     \u001b[0mreply\u001b[0m \u001b[0;34m=\u001b[0m \u001b[0m_read_next_input_message\u001b[0m\u001b[0;34m(\u001b[0m\u001b[0;34m)\u001b[0m\u001b[0;34m\u001b[0m\u001b[0;34m\u001b[0m\u001b[0m\n\u001b[1;32m     96\u001b[0m     \u001b[0;32mif\u001b[0m \u001b[0mreply\u001b[0m \u001b[0;34m==\u001b[0m \u001b[0m_NOT_READY\u001b[0m \u001b[0;32mor\u001b[0m \u001b[0;32mnot\u001b[0m \u001b[0misinstance\u001b[0m\u001b[0;34m(\u001b[0m\u001b[0mreply\u001b[0m\u001b[0;34m,\u001b[0m \u001b[0mdict\u001b[0m\u001b[0;34m)\u001b[0m\u001b[0;34m:\u001b[0m\u001b[0;34m\u001b[0m\u001b[0;34m\u001b[0m\u001b[0m\n\u001b[0;32m---> 97\u001b[0;31m       \u001b[0mtime\u001b[0m\u001b[0;34m.\u001b[0m\u001b[0msleep\u001b[0m\u001b[0;34m(\u001b[0m\u001b[0;36m0.025\u001b[0m\u001b[0;34m)\u001b[0m\u001b[0;34m\u001b[0m\u001b[0;34m\u001b[0m\u001b[0m\n\u001b[0m\u001b[1;32m     98\u001b[0m       \u001b[0;32mcontinue\u001b[0m\u001b[0;34m\u001b[0m\u001b[0;34m\u001b[0m\u001b[0m\n\u001b[1;32m     99\u001b[0m     if (\n",
            "\u001b[0;31mKeyboardInterrupt\u001b[0m: "
          ]
        }
      ]
    },
    {
      "cell_type": "markdown",
      "source": [
        "Q117. Write a Pandas program to import excel data (coalpublic2013.xlsx ) into a Pandas data frame."
      ],
      "metadata": {
        "id": "SgIVz-jjvGzP"
      }
    },
    {
      "cell_type": "code",
      "source": [
        "\n",
        "\n",
        "#df = pd.read_excel('/content/drive/My Drive/Colab Notebooks/dataset/Other/coalpublic2013.xls')\n",
        "#df.head()\n",
        "     \n"
      ],
      "metadata": {
        "id": "EE4c-4p6u32D"
      },
      "execution_count": null,
      "outputs": []
    },
    {
      "cell_type": "markdown",
      "source": [
        "\n",
        "\n",
        "Q118. Write a Pandas program to import excel data (coalpublic2013.xlsx ) into a data frame and find details where \"Mine Name\" starts with \"P.\n"
      ],
      "metadata": {
        "id": "bIAuCLXMvqCE"
      }
    },
    {
      "cell_type": "code",
      "source": [
        "#df.info()"
      ],
      "metadata": {
        "id": "HHHK60uovMZ3"
      },
      "execution_count": null,
      "outputs": []
    },
    {
      "cell_type": "code",
      "source": [
        "#df[df[\"Mine Name\"].map(lambda x: x.startswith('P'))].head()\n",
        "#df[df[\"Mine Name\"].str.startswith('P')].Year\n",
        "#df[df[\"Mine Name\"].str.contains('P', case = True) ]\n",
        "#df1 = df.fillna('na')\n",
        "#df[df[\"Mine Name\"].str.startswith('P')]\n",
        "#df1.columns\n",
        "#df.isnull().sum()"
      ],
      "metadata": {
        "id": "wDDHJ0ubvuQ9"
      },
      "execution_count": null,
      "outputs": []
    },
    {
      "cell_type": "markdown",
      "source": [
        "Q119. Write a Pandas program to import excel data (employee.xlsx ) into a Pandas dataframe and find the list of employees where hire_date> 01-01-07."
      ],
      "metadata": {
        "id": "j3QgMuQWwJGO"
      }
    },
    {
      "cell_type": "code",
      "source": [
        "#dfemp = pd.read_excel('/content/drive/My Drive/Colab Notebooks/dataset/Other/employee.xlsx')\n",
        "#dfemp[dfemp['hire_date'] >='20070101']"
      ],
      "metadata": {
        "id": "Z9tS7rFUwEWy"
      },
      "execution_count": null,
      "outputs": []
    },
    {
      "cell_type": "markdown",
      "source": [
        "\n",
        "\n",
        "Q120. Write a Pandas program to import excel data (employee.xlsx ) into a Pandas dataframe and find a list of the employees of a specified year\n"
      ],
      "metadata": {
        "id": "G92MNL6zwZxy"
      }
    },
    {
      "cell_type": "code",
      "source": [
        "#dfemp['year'] = dfemp['hire_date'].dt.year\n",
        "#dfemp[dfemp['year'] == 2007]"
      ],
      "metadata": {
        "id": "jkD_oJNkwPYH"
      },
      "execution_count": null,
      "outputs": []
    },
    {
      "cell_type": "markdown",
      "source": [
        "\n",
        "\n",
        "Q121. Write a pandas program to import three datasheets from a given excel data (coalpublic2013.xlsx ) in to a single dataframe. Note: Structure of three datasheets are same.\n"
      ],
      "metadata": {
        "id": "57BZnaS2wjz0"
      }
    },
    {
      "cell_type": "code",
      "source": [
        "#df1 = pd.read_excel('/content/drive/My Drive/Colab Notebooks/dataset/Other/coalpublic2013.xls',sheet_name=0)\n",
        "#df2 = pd.read_excel('/content/drive/My Drive/Colab Notebooks/dataset/Other/coalpublic2013.xls',sheet_name=1)\n",
        "#df3 = pd.read_excel('/content/drive/My Drive/Colab Notebooks/dataset/Other/coalpublic2013.xls',sheet_name=2)\n",
        "#df = pd.concat([df1, df2, df3])\n",
        "#df.head()#"
      ],
      "metadata": {
        "id": "SlE4b_JFwfJl"
      },
      "execution_count": null,
      "outputs": []
    },
    {
      "cell_type": "markdown",
      "source": [
        "\n",
        "\n",
        "Q 122. Write a pandas program to import three datasheets from a given excel data (employee.xlsx ) into a single data frame and export the result into new Excel file. Note: Structure of three datasheets are same\n"
      ],
      "metadata": {
        "id": "YU__atI5w0HQ"
      }
    },
    {
      "cell_type": "code",
      "source": [
        "#df = pd.concat([df1, df2, df3])\n",
        "#df.to_excel('/content/drive/My Drive/Colab Notebooks/dataset/Other/output.xlsx', index=False)\n"
      ],
      "metadata": {
        "id": "HqvBWDLAwrcb"
      },
      "execution_count": null,
      "outputs": []
    },
    {
      "cell_type": "markdown",
      "source": [
        "Q123. Write a pandas program to create the Pivot table with multiple indexes from the data set of the titanic.csv."
      ],
      "metadata": {
        "id": "W8UJlsnZw-oA"
      }
    },
    {
      "cell_type": "code",
      "source": [
        "#\n",
        "#dftitanic = pd.read_csv('/content/drive/My Drive/Colab Notebooks/dataset/Other/Titanic.csv')\n",
        "#result = pd.pivot_table(dftitanic, index = [\"sex\",\"age\"], aggfunc=np.sum)\n",
        "#print(result)"
      ],
      "metadata": {
        "id": "k5O33LZ9w3yE"
      },
      "execution_count": null,
      "outputs": []
    },
    {
      "cell_type": "markdown",
      "source": [
        "Q124. Write a Pandas program to create the Pivot table and find survival rate by gender?"
      ],
      "metadata": {
        "id": "lkg_XOTTxQYM"
      }
    },
    {
      "cell_type": "code",
      "source": [
        "#result = dftitanic.pivot_table('survived', index=['sex'])\n",
        "#print(result)\n",
        "#dftitanic.groupby('sex')[['survived']].mean()"
      ],
      "metadata": {
        "id": "xgVYqXvxxHCN"
      },
      "execution_count": null,
      "outputs": []
    },
    {
      "cell_type": "markdown",
      "source": [
        "\n",
        "\n",
        "Q125. Write a pandas program to make partition each of the passengers into 4 categories based on their age. Note: Age categories- (0, 10), (10, 30), (30, 60), (60, 80)\n"
      ],
      "metadata": {
        "id": "Oe5KM9toxdnR"
      }
    },
    {
      "cell_type": "code",
      "source": [
        "#result  =  dftitanic.pivot_table('survived', index=['sex','age'], columns='class')\n",
        "#print(result)"
      ],
      "metadata": {
        "id": "3oyoWtoixWUl"
      },
      "execution_count": null,
      "outputs": []
    },
    {
      "cell_type": "markdown",
      "source": [
        "Q126. Write a pandas program to create the Pivot table and find survival rate by the gender, age of the different categories of various classes."
      ],
      "metadata": {
        "id": "uWD0OsOPxrO4"
      }
    },
    {
      "cell_type": "markdown",
      "source": [
        "result = dftitanic.pivot_table('survived', index=['sex'], columns='class')\n",
        "print(result)"
      ],
      "metadata": {
        "id": "NPMgLz-uxw86"
      }
    },
    {
      "cell_type": "code",
      "source": [
        "#result = dftitanic.pivot_table('survived', index=['sex'], columns='class')\n",
        "#print(result)"
      ],
      "metadata": {
        "id": "kBJzNtRlxhJn"
      },
      "execution_count": null,
      "outputs": []
    },
    {
      "cell_type": "markdown",
      "source": [
        "Q127. Write a pandas program to create the Pivot table and calculate number of women and men were in a particular cabin class."
      ],
      "metadata": {
        "id": "nBeLmn8_x6HZ"
      }
    },
    {
      "cell_type": "code",
      "source": [
        "\n",
        "#result = dftitanic.pivot_table(index=['sex'], columns=['pclass'], aggfunc='count')\n",
        "#print(result)"
      ],
      "metadata": {
        "id": "d2gPaI-vxz5J"
      },
      "execution_count": null,
      "outputs": []
    },
    {
      "cell_type": "markdown",
      "source": [
        "Q128. Write a pandas program to create the Pivot table and separate the gender according to whether they travelled alone or not to get the probability of survival"
      ],
      "metadata": {
        "id": "977YiBdKyLY_"
      }
    },
    {
      "cell_type": "code",
      "source": [
        "\n",
        "\n",
        "#result = dftitanic.pivot_table( 'survived' , [ 'sex' , 'alone' ] , 'pclass' )\n",
        "#result\n",
        "     \n"
      ],
      "metadata": {
        "id": "zuJ9fSrryB9s"
      },
      "execution_count": null,
      "outputs": []
    },
    {
      "cell_type": "markdown",
      "source": [
        "\n",
        "\n",
        "Q129. Write a pandas program to create the Pivot table and find the probability of survival by class, gender, solo boarding, and the port of embarkation.\n"
      ],
      "metadata": {
        "id": "GQb4_1UnyZs6"
      }
    },
    {
      "cell_type": "code",
      "source": [
        "#result = dftitanic.pivot_table('survived', ['sex' , 'alone' ], [ 'embark_town', 'class' ])\n",
        "#result"
      ],
      "metadata": {
        "id": "X04Jzzx_yUYG"
      },
      "execution_count": null,
      "outputs": []
    },
    {
      "cell_type": "markdown",
      "source": [
        "Q130. Write a pandas program to get current date, oldest date and number of days between Current date and the oldest date of Ufo dataset."
      ],
      "metadata": {
        "id": "L_bVsO_IynOD"
      }
    },
    {
      "cell_type": "code",
      "source": [
        "#dfufo = pd.read_csv(r'/content/drive/My Drive/Colab Notebooks/dataset/Other/ufo.csv')\n",
        "#dfufo['Date_time'] = dfufo['Date_time'].astype('datetime64[ns]')\n",
        "#print(\"Original Dataframe:\")\n",
        "#print(dfufo.head())\n",
        "#print(\"\\nCurrent date of Ufo dataset:\")\n",
        "#print(dfufo.Date_time.max())\n",
        "#print(\"\\nOldest date of Ufo dataset:\")\n",
        "#print(dfufo.Date_time.min())\n",
        "#print(\"\\nNumber of days between Current date and oldest date of Ufo dataset:\")\n",
        "#print((dfufo.Date_time.max() - dfufo.Date_time.min()).days)\n",
        "     "
      ],
      "metadata": {
        "id": "vb1SdLOqyigd"
      },
      "execution_count": null,
      "outputs": []
    },
    {
      "cell_type": "markdown",
      "source": [
        "\n",
        "\n",
        "Q131. Write a pandas program to get all sighting days of the unidentified flying object (ufo) between 1950-10-10 and 1960-10- 10.\n"
      ],
      "metadata": {
        "id": "DAr3bI6ky6kd"
      }
    },
    {
      "cell_type": "code",
      "source": [
        "#selected_period = dfufo[(dfufo['Date_time'] >= '1950-01-01 00:00:00') & (dfufo['Date_time'] <= '1960-12-31 23:59:59')]\n",
        "#print(selected_period)"
      ],
      "metadata": {
        "id": "8liLnL6xy0oI"
      },
      "execution_count": null,
      "outputs": []
    },
    {
      "cell_type": "markdown",
      "source": [
        "Q132. Write a Pandas program to extract the year, month, day, hour, minute, second, and weekday from unidentified flying object (UFO) reporting date."
      ],
      "metadata": {
        "id": "ADEpc2oYzHE5"
      }
    },
    {
      "cell_type": "code",
      "source": [
        "#print(\"\\nYear:\")\n",
        "##print(dfufo.Date_time.dt.year.head())\n",
        "#print(\"\\nMonth:\")\n",
        "#print(dfufo.Date_time.dt.month.head())\n",
        "#print(\"\\nDay:\")\n",
        "#print(dfufo.Date_time.dt.day.head())\n",
        "#print(\"\\nHour:\")\n",
        "#print(dfufo.Date_time.dt.hour.head())\n",
        "#print(\"\\nMinute:\")\n",
        "#print(dfufo.Date_time.dt.minute.head())\n",
        "#print(\"\\nSecond:\")\n",
        "#print(dfufo.Date_time.dt.second.head())\n",
        "#print(\"\\nWeekday:\")\n",
        "#print(dfufo.Date_time.dt.weekday_name.head())"
      ],
      "metadata": {
        "id": "LIuxfS2My-o1"
      },
      "execution_count": null,
      "outputs": []
    },
    {
      "cell_type": "markdown",
      "source": [
        "Q133. Write a pandas program to count year-country wise frequency of reporting dates of the unidentified flying object(UFO)."
      ],
      "metadata": {
        "id": "QHDqwqYLzcR6"
      }
    },
    {
      "cell_type": "code",
      "source": [
        "#dfufo['Year'] = dfufo['Date_time'].apply(lambda x: \"%d\" % (x.year))\n",
        "#result = dfufo.groupby(['Year', 'country']).size()\n",
        "#print(\"\\nCountry-year wise frequency of reporting dates of UFO:\")\n",
        "#print(result)"
      ],
      "metadata": {
        "id": "mamIrCVDzXNT"
      },
      "execution_count": null,
      "outputs": []
    },
    {
      "cell_type": "markdown",
      "source": [
        "\n",
        "\n",
        "Q134. Write a pandas program to get the difference (in days) between documented date and reporting date of unidentified flying object (UFO).\n"
      ],
      "metadata": {
        "id": "nu0YA5HJzobd"
      }
    },
    {
      "cell_type": "code",
      "source": [
        "\n",
        "\n",
        "#dfufo['date_documented'] = dfufo['date_documented'].astype('datetime64[ns]')\n",
        "#print(\"Original Dataframe:\")\n",
        "#print(dfufo.head())\n",
        "#print(\"\\nDifference (in days) between documented date and reporting date of UFO:\")\n",
        "#dfufo['Difference'] = (dfufo['date_documented'] - dfufo['Date_time']).dt.days\n",
        "#print(dfufo)\n",
        "     \n"
      ],
      "metadata": {
        "id": "dY6XMgmMzgQH"
      },
      "execution_count": null,
      "outputs": []
    },
    {
      "cell_type": "markdown",
      "source": [
        "\n",
        "\n",
        "Q135. Write a pandas program to generate sequences of fixed- frequency dates and time spans.\n"
      ],
      "metadata": {
        "id": "yWdNRQgLz5Zk"
      }
    },
    {
      "cell_type": "code",
      "source": [
        "import pandas as pd\n",
        "#dtr = pd.date_range('2018-01-01', periods=12, freq='H')\n",
        "#print(\"Hourly frequency:\")\n",
        "#print(dtr)\n",
        "#dtr = pd.date_range('2018-01-01', periods=12, freq='min')\n",
        "#print(\"\\nMinutely frequency:\")\n",
        "#print(dtr)\n",
        "#dtr = pd.date_range('2018-01-01', periods=12, freq='S')\n",
        "#print(\"\\nSecondly frequency:\")\n",
        "#print(dtr)\n",
        "#dtr = pd.date_range('2018-01-01', periods=12, freq='2H')\n",
        "#print(\"nMultiple Hourly frequency:\")\n",
        "#print(dtr)\n",
        "#dtr = pd.date_range('2018-01-01', periods=12, freq='5min')\n",
        "#print(\"\\nMultiple Minutely frequency:\")\n",
        "#print(dtr)\n",
        "#dtr = pd.date_range('2018-01-01', periods=12, freq='BQ')\n",
        "#print(\"\\nMultiple Secondly frequency:\")\n",
        "#print(dtr)\n",
        "#dtr = pd.date_range('2018-01-01', periods=12, freq='w')\n",
        "#print(\"\\nWeekly frequency:\")\n",
        "#print(dtr)\n",
        "#dtr = pd.date_range('2018-01-01', periods=12, freq='2h20min')\n",
        "#print(\"\\nCombine together day and intraday offsets-1:\")\n",
        "#print(dtr)\n",
        "#dtr = pd.date_range('2018-01-01', periods=12, freq='1D10U')\n",
        "#print(\"\\nCombine together day and intraday offsets-2:\")\n",
        "#print(dtr)"
      ],
      "metadata": {
        "id": "u1nORGzvzyTC"
      },
      "execution_count": null,
      "outputs": []
    },
    {
      "cell_type": "markdown",
      "source": [
        "Q136. Write a pandas program to manipulate and convert date times with timezone information."
      ],
      "metadata": {
        "id": "RIFKnnQY0YF8"
      }
    },
    {
      "cell_type": "code",
      "source": [
        "\n",
        "dtt = pd.date_range('2018-01-01', periods=3, freq='H')\n",
        "dtt = dtt.tz_localize('UTC')\n",
        "print(dtt)\n",
        "print(\"\\nFrom UTC to America/Los_Angeles:\")\n",
        "dtt = dtt.tz_convert('America/Los_Angeles')\n",
        "print(dtt)"
      ],
      "metadata": {
        "colab": {
          "base_uri": "https://localhost:8080/"
        },
        "id": "Nse578Q-0TGi",
        "outputId": "7d4ace9b-b68f-4221-e5e2-f565ce6c85df"
      },
      "execution_count": null,
      "outputs": [
        {
          "output_type": "stream",
          "name": "stdout",
          "text": [
            "DatetimeIndex(['2018-01-01 00:00:00+00:00', '2018-01-01 01:00:00+00:00', '2018-01-01 02:00:00+00:00'], dtype='datetime64[ns, UTC]', freq='H')\n",
            "\n",
            "From UTC to America/Los_Angeles:\n",
            "DatetimeIndex(['2017-12-31 16:00:00-08:00', '2017-12-31 17:00:00-08:00', '2017-12-31 18:00:00-08:00'], dtype='datetime64[ns, America/Los_Angeles]', freq='H')\n"
          ]
        }
      ]
    },
    {
      "cell_type": "markdown",
      "source": [
        "\n",
        "\n",
        "Q137. Write a pandas program to create the graphical analysis of UFO (unidentified flying object) Sightings year.\n"
      ],
      "metadata": {
        "id": "j2lGU_H_0hfs"
      }
    },
    {
      "cell_type": "code",
      "source": [
        "#dfufo[\"ufo_yr\"] = dfufo.Date_time.dt.year\n",
        "#years_data = dfufo.ufo_yr.value_counts()\n",
        "#years_index = years_data.index  # x ticks\n",
        "#years_values = years_data.get_values()\n",
        "#plt.figure(figsize=(15,8))\n",
        "#plt.xticks(rotation = 60)\n",
        "#plt.title('UFO Sightings by Year')\n",
        "##plt.xlabel(\"Year\")\n",
        "#plt.ylabel(\"Number of reports\")\n",
        "#years_plot = sns.barplot(x=years_index[:60],y=years_values[:60], palette = \"Reds\")\n",
        "     "
      ],
      "metadata": {
        "id": "BEJ__yCS0bDS"
      },
      "execution_count": null,
      "outputs": []
    },
    {
      "cell_type": "markdown",
      "source": [
        "\n",
        "\n",
        "Q138. Write a pandas program to create a comparison of the top 10 years in which the (UFO) was sighted VS each Month\n"
      ],
      "metadata": {
        "id": "ms0xhxak0x18"
      }
    },
    {
      "cell_type": "code",
      "source": [
        "#most_sightings_years = dfufo['Date_time'].dt.year.value_counts().head(10)\n",
        "#def is_top_years(year):\n",
        "#   if year in most_sightings_years.index:\n",
        "#       return year\n",
        "#hour_v_year = dfufo.pivot_table(columns=dfufo['Date_time'].dt.hour, index=dfufo['Date_time'].dt.year.apply(is_top_years),aggfunc='count',values='city')\n",
        "#hour_v_year.columns = hour_v_year.columns.astype(int)\n",
        "#hour_v_year.columns = hour_v_year.columns.astype(str) + \":00\"\n",
        "#hour_v_year.index = hour_v_year.index.astype(int)\n",
        "#print(\"\\nComparison of the top 10 years in which the UFO was sighted vs the hours of the day:\")\n",
        "#print(hour_v_year.head(10))\n",
        "     \n"
      ],
      "metadata": {
        "id": "svZs8osB0rzX"
      },
      "execution_count": null,
      "outputs": []
    },
    {
      "cell_type": "markdown",
      "source": [
        "\n",
        "\n",
        "Q139. Write a pandas program to create a heatmap (rectangular data as a colour-encoded matrix) for comparison of top 10 years in which (UFO ) was sighted VS each Month\n"
      ],
      "metadata": {
        "id": "bDy0WzMz1Avt"
      }
    },
    {
      "cell_type": "code",
      "source": [
        "#most_sightings_years = dfufo['Date_time'].dt.year.value_counts().head(10)\n",
        "#def is_top_years(year):\n",
        "#   if year in most_sightings_years.index:\n",
        "#       return year\n",
        "#month_vs_year = dfufo.pivot_table(columns=dfufo['Date_time'].dt.month,index=dfufo['Date_time'].dt.year.apply(is_top_years),aggfunc='count',values='city')\n",
        "#month_vs_year.columns = month_vs_year.columns.astype(int)\n",
        "#print(\"\\nHeatmap for comparison of the top 10 years in which the UFO was sighted vs each month:\")\n",
        "#plt.figure(figsize=(10,8))\n",
        "#ax = sns.heatmap(month_vs_year, vmin=0, vmax=4)\n",
        "#ax.set_xlabel('Month').set_size(20)\n",
        "#ax.set_ylabel('Year').set_size(20)"
      ],
      "metadata": {
        "id": "0gL8JLTM08A5"
      },
      "execution_count": null,
      "outputs": []
    },
    {
      "cell_type": "markdown",
      "source": [
        "Q140. Write a pandas program to create a Timewheel of Hour VS Year comparison of the top 10 years in which the (UFO) was sighted."
      ],
      "metadata": {
        "id": "YfONslw11QX8"
      }
    },
    {
      "cell_type": "code",
      "source": [
        "#most_sightings_years = dfufo['Date_time'].dt.year.value_counts().head(10)\n",
        "#def is_top_years(year):\n",
        "#   if year in most_sightings_years.index:\n",
        "#       return year\n",
        "#month_vs_year = dfufo.pivot_table(columns=dfufo['Date_time'].dt.month,index=dfufo['Date_time'].dt.year.apply(is_top_years),aggfunc='count',values='city')\n",
        "#month_vs_year.index = month_vs_year.index.astype(int)\n",
        "#month_vs_year.columns = month_vs_year.columns.astype(int)\n",
        "#print(\"\\nComparison of the top 10 years in which the UFO was sighted vs each month:\")\n",
        "#def pie_heatmap(table, cmap='coolwarm_r', vmin=None, vmax=None,inner_r=0.25, pie_args={}):\n",
        "#   n, m = table.shape\n",
        "#   vmin= table.min().min() if vmin is None else vmin\n",
        "#   vmax= table.max().max() if vmax is None else vmax\n",
        "#\n",
        "#   centre_circle = plt.Circle((0,0),inner_r,edgecolor='black',facecolor='white',fill=True,linewidth=0.25)\n",
        "#   plt.gcf().gca().add_artist(centre_circle)\n",
        "#   norm = mpl.colors.Normalize(vmin=vmin, vmax=vmax)\n",
        "#   cmapper = cm.ScalarMappable(norm=norm, cmap=cmap)\n",
        "#\n",
        "#   for i, (row_name, row) in enumerate(table.iterrows()):\n",
        "#       labels = None if i > 0 else table.columns\n",
        "#       wedges = plt.pie([1] * m,radius=inner_r+float(n-i)/n, colors=[cmapper.to_rgba(x) for x in row.values],\n",
        "#           labels=labels, startangle=90, counterclock=False, wedgeprops={'linewidth':-1}, **pie_args)\n",
        "#       plt.setp(wedges[0], edgecolor='grey',linewidth=1.5)\n",
        "#       wedges = plt.pie([1], radius=inner_r+float(n-i-1)/n, colors=['w'], labels=[row_name], startangle=-90, wedgeprops={'linewidth':0})\n",
        "#       plt.setp(wedges[0], edgecolor='grey',linewidth=1.5)\n",
        "#plt.figure(figsize=(8,8))\n",
        "#plt.title(\"Timewheel of Hour Vs Year\",y=1.08,fontsize=30)\n",
        "#pie_heatmap(month_vs_year, vmin=-20,vmax=80,inner_r=0.2)"
      ],
      "metadata": {
        "id": "RW73d70R1L0Y"
      },
      "execution_count": null,
      "outputs": []
    },
    {
      "cell_type": "markdown",
      "source": [
        "\n",
        "\n",
        "Q141. Write a python program to draw the line using given axis values with the suitable label in the x-axis, y-axis, and a title. The code snippet gives the output shown in the screenshot:\n"
      ],
      "metadata": {
        "id": "eHjZeIM11pFZ"
      }
    },
    {
      "cell_type": "code",
      "source": [
        "X = [1,2,3]\n",
        "\n",
        "Y = [2,4,1]\n",
        "plt.plot(X, Y)\n",
        "plt.xlabel('x - axis')\n",
        "plt.ylabel('y - axis')\n",
        "plt.show()"
      ],
      "metadata": {
        "colab": {
          "base_uri": "https://localhost:8080/",
          "height": 236
        },
        "id": "LM7ZMpGe1jLN",
        "outputId": "f2749c59-cd92-490c-c5d7-088f17a5ea1f"
      },
      "execution_count": null,
      "outputs": [
        {
          "output_type": "error",
          "ename": "NameError",
          "evalue": "ignored",
          "traceback": [
            "\u001b[0;31m---------------------------------------------------------------------------\u001b[0m",
            "\u001b[0;31mNameError\u001b[0m                                 Traceback (most recent call last)",
            "\u001b[0;32m<ipython-input-53-4d592dec6a81>\u001b[0m in \u001b[0;36m<module>\u001b[0;34m\u001b[0m\n\u001b[1;32m      2\u001b[0m \u001b[0;34m\u001b[0m\u001b[0m\n\u001b[1;32m      3\u001b[0m \u001b[0mY\u001b[0m \u001b[0;34m=\u001b[0m \u001b[0;34m[\u001b[0m\u001b[0;36m2\u001b[0m\u001b[0;34m,\u001b[0m\u001b[0;36m4\u001b[0m\u001b[0;34m,\u001b[0m\u001b[0;36m1\u001b[0m\u001b[0;34m]\u001b[0m\u001b[0;34m\u001b[0m\u001b[0;34m\u001b[0m\u001b[0m\n\u001b[0;32m----> 4\u001b[0;31m \u001b[0mplt\u001b[0m\u001b[0;34m.\u001b[0m\u001b[0mplot\u001b[0m\u001b[0;34m(\u001b[0m\u001b[0mX\u001b[0m\u001b[0;34m,\u001b[0m \u001b[0mY\u001b[0m\u001b[0;34m)\u001b[0m\u001b[0;34m\u001b[0m\u001b[0;34m\u001b[0m\u001b[0m\n\u001b[0m\u001b[1;32m      5\u001b[0m \u001b[0mplt\u001b[0m\u001b[0;34m.\u001b[0m\u001b[0mxlabel\u001b[0m\u001b[0;34m(\u001b[0m\u001b[0;34m'x - axis'\u001b[0m\u001b[0;34m)\u001b[0m\u001b[0;34m\u001b[0m\u001b[0;34m\u001b[0m\u001b[0m\n\u001b[1;32m      6\u001b[0m \u001b[0mplt\u001b[0m\u001b[0;34m.\u001b[0m\u001b[0mylabel\u001b[0m\u001b[0;34m(\u001b[0m\u001b[0;34m'y - axis'\u001b[0m\u001b[0;34m)\u001b[0m\u001b[0;34m\u001b[0m\u001b[0;34m\u001b[0m\u001b[0m\n",
            "\u001b[0;31mNameError\u001b[0m: name 'plt' is not defined"
          ]
        }
      ]
    },
    {
      "cell_type": "markdown",
      "source": [
        "\n",
        "\n",
        "Q142. Write a python program to draw the line charts of the financial data of the Alphabet Inc., between October. 3, 2016 to October 7 2016. Sample Financial data (fdata.csv)- Date,Open,High,Low,Close 10-03-16,774.25,776.065002,769.5,772.559998 10-04-16 , 776.030029, 778.710022,772.890015,776.429993 10-05-16 , 779.309998, 782.070007,775.650024,776.469971 10-06-16 , 779 , 780.47998,775.539978,776.859985 10-07-16,779.659973, 779.659973 , 770.75 , 775.080017 The code snippet gives the output shown in the screenshot:\n"
      ],
      "metadata": {
        "id": "tedQwyyy1x1g"
      }
    },
    {
      "cell_type": "code",
      "source": [
        "#df = pd.read_csv('/content/drive/My Drive/Colab Notebooks/dataset/Other/fdata1.csv',\n",
        "#                 sep=',', parse_dates=True, index_col=0)\n",
        "#df.plot()\n",
        "#plt.show()\n",
        "     \n"
      ],
      "metadata": {
        "id": "O-bzBugm1rzp"
      },
      "execution_count": null,
      "outputs": []
    },
    {
      "cell_type": "markdown",
      "source": [
        "Q143. Write a Python program to plot two or more lines on same plot with the suitable legends of each line. The code snippet gives the output shown in the screenshot:"
      ],
      "metadata": {
        "id": "tVbBkBjm18Jf"
      }
    },
    {
      "cell_type": "code",
      "source": [
        "# line 1 points\n",
        "#x1 = [10,20,30]\n",
        "#y1 = [20,40,10]\n",
        "# plotting the line 1 points \n",
        "#plt.plot(x1, y1, label = \"line 1\")\n",
        "# line 2 points\n",
        "#x2 = [10,20,30]\n",
        "#y2 = [40,10,30]\n",
        "# plotting the line 2 points \n",
        "#plt.plot(x2, y2, label = \"line 2\")\n",
        "#plt.xlabel('x - axis')\n",
        "# Set the y axis label of the current axis.\n",
        "#plt.ylabel('y - axis')\n",
        "# Set a title of the current axes.\n",
        "#plt.title('Two or more lines on same plot with suitable legends ')\n",
        "# show a legend on the plot\n",
        "#plt.legend()\n",
        "# Display a figure.\n",
        "#plt.show()"
      ],
      "metadata": {
        "id": "fGkxA8Nm14Ei"
      },
      "execution_count": null,
      "outputs": []
    },
    {
      "cell_type": "markdown",
      "source": [
        "Q144. Write a python programming to display a bar chart of the popularity of programming languages. Sample data: programming languages- Java, Python, PHP, JavaScript, C#, C++ Popularity- 22.2, 17.6, 8.8, 8, 7.7 , 6.7 The code snippet gives the output shown in the screenshot:"
      ],
      "metadata": {
        "id": "kh_tt51-2LFq"
      }
    },
    {
      "cell_type": "code",
      "source": [
        "#x = ['Java', 'Python', 'PHP', 'JavaScript', 'C#', 'C++']\n",
        "#popularity = [22.2, 17.6, 8.8, 8, 7.7, 6.7]\n",
        "#x_pos = [i for i, _ in enumerate(x)]\n",
        "\n",
        "#plt.bar(x_pos, popularity, color=(0.4, 0.6, 0.8, 1.0), edgecolor='blue')\n",
        "\n",
        "#plt.xlabel(\"Languages\")\n",
        "#plt.ylabel(\"Popularity\")\n",
        "#plt.title(\"PopularitY of Programming Language\\n\" + \"Worldwide, Oct 2017 compared to a year ago\")\n",
        "#plt.xticks(x_pos, x)\n",
        "# Turn on the grid\n",
        "#plt.minorticks_on()\n",
        "#plt.grid(which='major', linestyle='-', linewidth='0.5', color='red')\n",
        "# Customize the minor grid\n",
        "#plt.grid(which='minor', linestyle=':', linewidth='0.5', color='black')\n",
        "#plt.show()"
      ],
      "metadata": {
        "id": "Eiirj-4P2GF_"
      },
      "execution_count": null,
      "outputs": []
    },
    {
      "cell_type": "markdown",
      "source": [
        "Q145. Write a python programming to display a horizontal bar chart of the popularity of programming languages. Sample data: programming languages- Java, Python, PHP, JavaScript, C#, C++ Popularity- 22.2, 17.6, 8.8, 8, 7.7 , 6.7 The code snippet gives the output shown in the screenshot:"
      ],
      "metadata": {
        "id": "N7dYnw752bVl"
      }
    },
    {
      "cell_type": "code",
      "source": [
        "#x = ['Java', 'Python', 'PHP', 'JS', 'C#', 'C++']\n",
        "#popularity = [22.2, 17.6, 8.8, 8, 7.7, 6.7]\n",
        "#x_pos = [i for i, _ in enumerate(x)]\n",
        "#plt.barh(x_pos, popularity, color='green')\n",
        "#plt.xlabel(\"Popularity\")\n",
        "#plt.ylabel(\"Languages\")\n",
        "#plt.title(\"PopularitY of Programming Language\\n\" + \"Worldwide, Oct 2017 compared to a year ago\")\n",
        "#plt.yticks(x_pos, x)\n",
        "# Turn on the grid\n",
        "#plt.minorticks_on()\n",
        "#plt.grid(which='major', linestyle='-', linewidth='0.5', color='red')\n",
        "# Customize the minor grid\n",
        "#plt.grid(which='minor', linestyle=':', linewidth='0.5', color='black')\n",
        "#plt.show()\n",
        "     \n"
      ],
      "metadata": {
        "id": "4JwDKxtK2W-O"
      },
      "execution_count": null,
      "outputs": []
    },
    {
      "cell_type": "markdown",
      "source": [
        "146. Write a python programming to display a bar chart of the Popularity of programming languages. Increase bottom margin. Sample data: P a g e 42 | 44 programming languages: Java, Python, PHP, JavaScript, C#, C++ Popularity: 22.2, 17.6, 8.8, 8, 7.7 , 6.7 The code snippet gives the output shown in the screenshot:\n"
      ],
      "metadata": {
        "id": "saDukqqu2qrz"
      }
    },
    {
      "cell_type": "code",
      "source": [
        "#x = ['Java', 'Python', 'PHP', 'JavaScript', 'C#', 'C++']\n",
        "#popularity = [22.2, 17.6, 8.8, 8, 7.7, 6.7]\n",
        "#x_pos = [i for i, _ in enumerate(x)]\n",
        "\n",
        "#plt.bar(x_pos, popularity, color=(0.4, 0.6, 0.8, 1.0))\n",
        "\n",
        "#plt.xlabel(\"Languages\")\n",
        "#plt.ylabel(\"Popularity\")\n",
        "#plt.title(\"PopularitY of Programming Language\\n\" + \"Worldwide, Oct 2017 compared to a year ago\")\n",
        "#plt.xticks(x_pos, x)\n",
        "# Turn on the grid\n",
        "#plt.minorticks_on()\n",
        "#plt.grid(which='major', linestyle='-', linewidth='0.5', color='red')\n",
        "# Customize the minor grid\n",
        "#plt.grid(which='minor', linestyle=':', linewidth='0.5', color='black')\n",
        "#plt.show()\n",
        "     \n"
      ],
      "metadata": {
        "id": "IDThE9_I2mOp"
      },
      "execution_count": null,
      "outputs": []
    },
    {
      "cell_type": "markdown",
      "source": [
        "Q147. Write a python program to create the bar plot from a DataFrame. a b c d e 2 4,8,5,7,6 4 2,3,4,2,6 6 4,7,4,7, 8 8 2,6,4,8, 6 10 2,4,3,3, 2 The code snippet gives the output shown in the following screenshot:"
      ],
      "metadata": {
        "id": "FtWLcvkW22Lv"
      }
    },
    {
      "cell_type": "code",
      "source": [
        "#a=np.array([[4,8,5,7,6],[2,3,4,2,6],[4,7,4,7,8],[2,6,4,8,6],[2,4,3,3,2]])\n",
        "#df=DataFrame(a, columns=['a','b','c','d','e'], index=[2,4,6,8,10])\n",
        "\n",
        "#df.plot(kind='bar')\n",
        "# Turn on the grid\n",
        "#plt.minorticks_on()\n",
        "#plt.grid(which='major', linestyle='-', linewidth='0.5', color='green')\n",
        "#plt.grid(which='minor', linestyle=':', linewidth='0.5', color='black')\n",
        "\n",
        "#plt.show()"
      ],
      "metadata": {
        "id": "AOqlWr5F2zIe"
      },
      "execution_count": null,
      "outputs": []
    },
    {
      "cell_type": "markdown",
      "source": [
        "Q148. Write a python program to draw the scatter plot comparing two subject marks of Mathematics and Science. Use marks of 10 students. Sample data: Test Data- math_marks = [88, 92 , 80, 89, 100, 80, 60, 100, 80, 34] science_marks = [35, 79, 79 , 48, 100, 88, 32, 45, 20, 30] marks_range = [10, 20, 30, 40, 50, 60, 70, 80, 90, 100]"
      ],
      "metadata": {
        "id": "cxmsA44A3Aba"
      }
    },
    {
      "cell_type": "code",
      "source": [
        "#math_marks = [88, 92, 80, 89, 100, 80, 60, 100, 80, 34]\n",
        "#science_marks = [35, 79, 79, 48, 100, 88, 32, 45, 20, 30]\n",
        "#marks_range = [10, 20, 30, 40, 50, 60, 70, 80, 90, 100]\n",
        "#plt.scatter(marks_range, math_marks, label='Math marks', color='r')\n",
        "#plt.scatter(marks_range, science_marks, label='Science marks', color='g')\n",
        "#plt.title('Scatter Plot')\n",
        "#plt.xlabel('Marks Range')\n",
        "#plt.ylabel('Marks Scored')\n",
        "#plt.legend()\n",
        "#plt.show()"
      ],
      "metadata": {
        "id": "DQ4MfE6J28pb"
      },
      "execution_count": null,
      "outputs": []
    },
    {
      "cell_type": "markdown",
      "source": [
        "Q149. Write a python program to draw the scatter plot for three different groups comparing weights and heights. The output shown in the screenshot:"
      ],
      "metadata": {
        "id": "gN6uBRM33Kz_"
      }
    },
    {
      "cell_type": "code",
      "source": [
        "#import matplotlib.colors as mcolors\n",
        "#weight1=[67,57.2,59.6,59.64,55.8,61.2,60.45,61,56.23,56]\n",
        "#height1=[101.7,197.6,98.3,125.1,113.7,157.7,136,148.9,125.3,114.9] \n",
        "#weight2=[61.9,64,62.1,64.2,62.3,65.4,62.4,61.4,62.5,63.6]\n",
        "#height2=[152.8,155.3,135.1,125.2,151.3,135,182.2,195.9,165.1,125.1] \n",
        "#weight3=[68.2,67.2,68.4,68.7,71,71.3,70.8,70,71.1,71.7]\n",
        "#height3=[165.8,170.9,192.8,135.4,161.4,136.1,167.1,235.1,181.1,177.3]\n",
        "#weight=np.concatenate((weight1,weight2,weight3))\n",
        "#height=np.concatenate((height1,height2,height3))\n",
        "#plt.scatter(weight, height,color=['red','green','blue'])\n",
        "#color = np.array(['red','green','blue'])\n",
        "\n",
        "#plt.scatter(weight, height)\n",
        "#plt.scatter(weight1, height1, label='Science marks', color='g')\n",
        "#plt.scatter(weight2, height2, label='Science marks', color='r')\n",
        "#plt.scatter(weight3, height3, label='Science marks', color='b')\n",
        "\n",
        "#colormap = np.array(['r', 'g'])\n",
        "#plt.scatter(weight, height, c=colormap)\n",
        "\n",
        "#plt.xlabel('weight', fontsize=16)\n",
        "#plt.ylabel('height', fontsize=16)\n",
        "#plt.title('Group wise Weight vs Height scatter plot',fontsize=20)\n",
        "#plt.show()"
      ],
      "metadata": {
        "id": "bSg5A35r3HLw"
      },
      "execution_count": null,
      "outputs": []
    },
    {
      "cell_type": "markdown",
      "source": [
        "Q150. Write a python program to draw a scatter plot to find sea-level rise in past 100 years. The output shown in the screenshot:"
      ],
      "metadata": {
        "id": "_zmUvZQI3bE8"
      }
    },
    {
      "cell_type": "code",
      "source": [
        "#data = pd.read_csv('/content/drive/My Drive/Colab Notebooks/dataset/Other/export_dataframe.csv')\n",
        "#year = data['year']\n",
        "#sea_levels = data['CSIRO_sea_level']\n",
        "#plt.scatter(year, sea_levels, edgecolors='b')\n",
        "#plt.xlabel('Year')\n",
        "#plt.ylabel('Sea Level (inches)')\n",
        "#plt.title('Rise in Sealevel')\n",
        "#plt.show()"
      ],
      "metadata": {
        "id": "UA___TId3Wnt"
      },
      "execution_count": null,
      "outputs": []
    },
    {
      "cell_type": "code",
      "source": [],
      "metadata": {
        "id": "FCed_Wm-3hmK"
      },
      "execution_count": null,
      "outputs": []
    }
  ]
}